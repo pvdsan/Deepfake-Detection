{
 "cells": [
  {
   "cell_type": "code",
   "execution_count": 1,
   "metadata": {},
   "outputs": [
    {
     "name": "stdout",
     "output_type": "stream",
     "text": [
      "<class 'pandas.core.frame.DataFrame'>\n",
      "RangeIndex: 297663 entries, 0 to 297662\n",
      "Data columns (total 3 columns):\n",
      " #   Column    Non-Null Count   Dtype  \n",
      "---  ------    --------------   -----  \n",
      " 0   filename  297663 non-null  object \n",
      " 1   distance  297663 non-null  float64\n",
      " 2   label     297663 non-null  int64  \n",
      "dtypes: float64(1), int64(1), object(1)\n",
      "memory usage: 6.8+ MB\n"
     ]
    },
    {
     "data": {
      "text/plain": [
       "(           filename  distance  label\n",
       " 0  id6_id2_0003.mp4  0.419708      0\n",
       " 1  id6_id2_0003.mp4  0.336302      0\n",
       " 2  id6_id2_0003.mp4  0.469395      0\n",
       " 3  id6_id2_0003.mp4  0.376440      0\n",
       " 4  id6_id2_0003.mp4  0.404028      0,\n",
       " None)"
      ]
     },
     "execution_count": 1,
     "metadata": {},
     "output_type": "execute_result"
    }
   ],
   "source": [
    "import pandas as pd\n",
    "\n",
    "# Load the CSV file to inspect the first few rows and get a summary of the data\n",
    "file_path = 'processed_full_loaded.csv'\n",
    "data = pd.read_csv(file_path)\n",
    "\n",
    "# Display the first few rows and a summary of the dataset\n",
    "data_head = data.head()\n",
    "data_info = data.info()\n",
    "data_head, data_info"
   ]
  },
  {
   "cell_type": "code",
   "execution_count": 2,
   "metadata": {},
   "outputs": [
    {
     "data": {
      "text/plain": [
       "(            distance          label\n",
       " count  297663.000000  297663.000000\n",
       " mean        0.410132       0.149810\n",
       " std         0.189983       0.356886\n",
       " min         0.000000       0.000000\n",
       " 25%         0.297282       0.000000\n",
       " 50%         0.365135       0.000000\n",
       " 75%         0.456918       0.000000\n",
       " max         1.556806       1.000000,\n",
       " label\n",
       " 0    253070\n",
       " 1     44593\n",
       " Name: count, dtype: int64,\n",
       " 6529)"
      ]
     },
     "execution_count": 2,
     "metadata": {},
     "output_type": "execute_result"
    }
   ],
   "source": [
    "# Generate descriptive statistics for numeric columns\n",
    "descriptive_stats = data.describe()\n",
    "\n",
    "# Analyze the distribution of the 'label' column\n",
    "label_distribution = data['label'].value_counts()\n",
    "\n",
    "# Check the number of unique files\n",
    "unique_files_count = data['filename'].nunique()\n",
    "\n",
    "descriptive_stats, label_distribution, unique_files_count"
   ]
  },
  {
   "cell_type": "code",
   "execution_count": 3,
   "metadata": {},
   "outputs": [
    {
     "data": {
      "image/png": "[encoded data removed]",
      "text/plain": [
       "<Figure size 1000x600 with 1 Axes>"
      ]
     },
     "metadata": {},
     "output_type": "display_data"
    }
   ],
   "source": [
    "import matplotlib.pyplot as plt\n",
    "import seaborn as sns\n",
    "\n",
    "# Set the aesthetic style of the plots\n",
    "sns.set_style(\"whitegrid\")\n",
    "\n",
    "# Create a scatter plot to explore the relationship between 'distance' and 'label'\n",
    "plt.figure(figsize=(10, 6))\n",
    "sns.scatterplot(data=data, x='distance', y='label', alpha=0.1, edgecolor=None)\n",
    "plt.title('Scatter Plot of Distance vs. Label')\n",
    "plt.xlabel('Distance')\n",
    "plt.ylabel('Label')\n",
    "plt.yticks([0, 1], ['Label 0', 'Label 1'])\n",
    "plt.show()"
   ]
  },
  {
   "cell_type": "code",
   "execution_count": 5,
   "metadata": {},
   "outputs": [],
   "source": [
    "from sklearn.model_selection import train_test_split\n",
    "from sklearn.svm import SVC\n",
    "from sklearn.metrics import accuracy_score, confusion_matrix\n",
    "\n",
    "\n",
    "# Identify the number of samples for label == 1\n",
    "num_label_1 = data[data['label'] == 1].shape[0]\n",
    "\n",
    "# Randomly sample entries from label == 0 to match the number of label == 1 entries\n",
    "data_label_0_sampled = data[data['label'] == 0].sample(n=num_label_1, random_state=42)\n",
    "\n",
    "# Combine the sampled label 0 entries with the label 1 entries to form a balanced dataset\n",
    "balanced_data = pd.concat([data[data['label'] == 1], data_label_0_sampled])\n",
    "\n",
    "# Splitting the balanced dataset into training and testing sets\n",
    "X_balanced = balanced_data[['distance']]  # Features\n",
    "y_balanced = balanced_data['label']       # Target variable\n",
    "\n",
    "X_train_balanced, X_test_balanced, y_train_balanced, y_test_balanced = train_test_split(\n",
    "    X_balanced, y_balanced, test_size=0.2, random_state=42)\n",
    "\n",
    "\n"
   ]
  },
  {
   "cell_type": "code",
   "execution_count": 6,
   "metadata": {},
   "outputs": [],
   "source": [
    "\n",
    "\n",
    "# Create an SVM classifier with an RBF kernel\n",
    "svm_classifier_balanced = SVC(kernel='linear', random_state=42)\n",
    "\n",
    "# Train the classifier on the balanced training dataset\n",
    "svm_classifier_balanced.fit(X_train_balanced, y_train_balanced)\n",
    "\n"
   ]
  },
  {
   "cell_type": "code",
   "execution_count": null,
   "metadata": {},
   "outputs": [],
   "source": [
    "\n",
    "\n",
    "# Predicting the test set results\n",
    "y_pred_balanced = svm_classifier_balanced.predict(X_test_balanced)\n",
    "\n",
    "# Calculate accuracy and confusion matrix\n",
    "accuracy_balanced = accuracy_score(y_test_balanced, y_pred_balanced)\n",
    "conf_matrix_balanced = confusion_matrix(y_test_balanced, y_pred_balanced)\n",
    "\n",
    "accuracy_balanced, conf_matrix_balanced\n"
   ]
  },
  {
   "cell_type": "code",
   "execution_count": 2,
   "metadata": {},
   "outputs": [],
   "source": [
    "from sklearn.model_selection import train_test_split\n",
    "from sklearn.svm import SVC\n",
    "from sklearn.metrics import accuracy_score, confusion_matrix\n",
    "\n",
    "# Split the data into features and target variable\n",
    "X = data[['distance']]  # Features (we use a DataFrame to keep the input as 2D for sklearn)\n",
    "y = data['label']       # Target variable\n",
    "\n",
    "# Splitting the dataset into training and testing sets\n",
    "X_train, X_test, y_train, y_test = train_test_split(X, y, test_size=0.2, random_state=42)\n",
    "\n",
    "# Create an SVM classifier with an RBF kernel\n",
    "svm_classifier = SVC(kernel='rbf', random_state=42)\n",
    "\n",
    "# Train the classifier\n",
    "svm_classifier.fit(X_train, y_train)\n",
    "\n",
    "# Predicting the test set results\n",
    "y_pred = svm_classifier.predict(X_test)\n",
    "\n",
    "# Calculate accuracy and confusion matrix\n",
    "accuracy = accuracy_score(y_test, y_pred)\n",
    "conf_matrix = confusion_matrix(y_test, y_pred)\n",
    "\n",
    "accuracy, conf_matrix\n"
   ]
  },
  {
   "cell_type": "code",
   "execution_count": null,
   "metadata": {},
   "outputs": [],
   "source": []
  }
 ],
 "metadata": {
  "kernelspec": {
   "display_name": "base",
   "language": "python",
   "name": "python3"
  },
  "language_info": {
   "codemirror_mode": {
    "name": "ipython",
    "version": 3
   },
   "file_extension": ".py",
   "mimetype": "text/x-python",
   "name": "python",
   "nbconvert_exporter": "python",
   "pygments_lexer": "ipython3",
   "version": "3.11.5"
  }
 },
 "nbformat": 4,
 "nbformat_minor": 2
}
