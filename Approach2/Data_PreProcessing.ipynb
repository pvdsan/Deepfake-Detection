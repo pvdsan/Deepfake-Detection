{
 "cells": [
  {
   "cell_type": "code",
   "execution_count": 6,
   "metadata": {},
   "outputs": [],
   "source": [
    "import os\n",
    "import zipfile\n",
    "import numpy as np\n",
    "import pandas as pd\n",
    "import matplotlib\n",
    "import seaborn as sns\n",
    "import matplotlib.pyplot as plt\n",
    "# from tqdm import tqdm_notebook\n",
    "%matplotlib inline \n",
    "# from google.colab.patches import cv2_imshow\n",
    "from IPython.display import HTML #imports to play videos\n",
    "from base64 import b64encode \n",
    "from skimage.metrics import structural_similarity\n",
    "import glob\n",
    "import time\n",
    "from PIL import Image\n",
    "from facenet_pytorch import MTCNN, InceptionResnetV1, extract_face\n",
    "from tqdm import tqdm\n",
    "\n",
    "import math\n",
    "import pickle\n",
    "from functools import partial\n",
    "from collections import defaultdict\n",
    "\n",
    "\n",
    "import cv2\n",
    "import skimage.measure\n",
    "import albumentations as A\n",
    "from tqdm.notebook import tqdm \n",
    "\n",
    "import torch\n",
    "import torch.nn as nn\n",
    "import torch.nn.functional as F\n",
    "from torch.autograd import Variable\n",
    "from torchvision.models.video import mc3_18, r2plus1d_18\n",
    "\n",
    "from facenet_pytorch import MTCNN\n",
    "\n",
    "import sys\n",
    "import sklearn\n",
    "import tensorflow as tf\n",
    "\n",
    "\n",
    "import plotly.graph_objs as go\n",
    "from plotly.offline import iplot"
   ]
  },
  {
   "cell_type": "code",
   "execution_count": 3,
   "metadata": {},
   "outputs": [],
   "source": [
    "face_cascade = cv2.CascadeClassifier(cv2.data.haarcascades + \"haarcascade_frontalface_default.xml\")\n",
    "\n",
    "def detect_face_cv2(img):\n",
    "    # Move to grayscale\n",
    "    gray_img = cv2.cvtColor(img.copy(), cv2.COLOR_RGB2GRAY)\n",
    "    face_locations = []\n",
    "    face_rects = face_cascade.detectMultiScale(gray_img, scaleFactor=1.3, minNeighbors=5)     \n",
    "    for (x,y,w,h) in face_rects: \n",
    "        face_location = (x,y,w,h)\n",
    "        face_locations.append((face_location, 1.0))\n",
    "    return face_locations"
   ]
  },
  {
   "cell_type": "code",
   "execution_count": 4,
   "metadata": {},
   "outputs": [],
   "source": [
    "from mtcnn import MTCNN\n",
    "detector = MTCNN()\n",
    "\n",
    "def detect_face_mtcnn(img):\n",
    "    face_locations = []\n",
    "    items = detector.detect_faces(img)\n",
    "    for face in items:\n",
    "        face_location = tuple(face.get('box'))\n",
    "        face_confidence = float(face.get('confidence'))\n",
    "        face_locations.append((face_location, face_confidence))\n",
    "    return face_locations"
   ]
  },
  {
   "cell_type": "code",
   "execution_count": 5,
   "metadata": {},
   "outputs": [],
   "source": [
    "def extract_faces(files, source, detector=detect_face_cv2):\n",
    "    results = []\n",
    "    # for idx, file in tqdm(enumerate(files), total=len(files)):\n",
    "    for idx, file in enumerate(files):\n",
    "        try:\n",
    "            img = cv2.cvtColor(cv2.imread(file, cv2.IMREAD_UNCHANGED), cv2.COLOR_BGR2RGB)\n",
    "            face_locations = detector(img)\n",
    "            results.append((source, file[file.find(\"output_\"):], face_locations, len(face_locations)))\n",
    "        except:\n",
    "            print(\"Cannot extract faces for image: %s\" % file)\n",
    "    return results"
   ]
  },
  {
   "cell_type": "code",
   "execution_count": 10,
   "metadata": {},
   "outputs": [
    {
     "data": {
      "text/plain": [
       "False"
      ]
     },
     "execution_count": 10,
     "metadata": {},
     "output_type": "execute_result"
    }
   ],
   "source": [
    "tf.test.is_gpu_available()"
   ]
  },
  {
   "cell_type": "code",
   "execution_count": 12,
   "metadata": {},
   "outputs": [],
   "source": [
    "import matplotlib.pyplot as plt\n",
    "\n",
    "plt.rc('font', size=14)\n",
    "plt.rc('axes', labelsize=14, titlesize=14)\n",
    "plt.rc('legend', fontsize=14)\n",
    "plt.rc('xtick', labelsize=10)\n",
    "plt.rc('ytick', labelsize=10)"
   ]
  },
  {
   "cell_type": "code",
   "execution_count": 15,
   "metadata": {},
   "outputs": [],
   "source": [
    "meta = pd.read_csv('full_dataset.csv')"
   ]
  },
  {
   "cell_type": "code",
   "execution_count": 16,
   "metadata": {},
   "outputs": [
    {
     "data": {
      "text/html": [
       "<div>\n",
       "<style scoped>\n",
       "    .dataframe tbody tr th:only-of-type {\n",
       "        vertical-align: middle;\n",
       "    }\n",
       "\n",
       "    .dataframe tbody tr th {\n",
       "        vertical-align: top;\n",
       "    }\n",
       "\n",
       "    .dataframe thead th {\n",
       "        text-align: right;\n",
       "    }\n",
       "</style>\n",
       "<table border=\"1\" class=\"dataframe\">\n",
       "  <thead>\n",
       "    <tr style=\"text-align: right;\">\n",
       "      <th></th>\n",
       "      <th>path</th>\n",
       "      <th>label</th>\n",
       "      <th>resolution</th>\n",
       "      <th>frame_count</th>\n",
       "      <th>fps</th>\n",
       "      <th>set</th>\n",
       "    </tr>\n",
       "  </thead>\n",
       "  <tbody>\n",
       "    <tr>\n",
       "      <th>0</th>\n",
       "      <td>Celeb-synthesis\\id6_id2_0003.mp4</td>\n",
       "      <td>0</td>\n",
       "      <td>944x500</td>\n",
       "      <td>372.0</td>\n",
       "      <td>30.0</td>\n",
       "      <td>train</td>\n",
       "    </tr>\n",
       "    <tr>\n",
       "      <th>1</th>\n",
       "      <td>Celeb-synthesis\\id49_id53_0006.mp4</td>\n",
       "      <td>0</td>\n",
       "      <td>856x478</td>\n",
       "      <td>330.0</td>\n",
       "      <td>30.0</td>\n",
       "      <td>train</td>\n",
       "    </tr>\n",
       "    <tr>\n",
       "      <th>2</th>\n",
       "      <td>YouTube-real\\00105.mp4</td>\n",
       "      <td>1</td>\n",
       "      <td>892x500</td>\n",
       "      <td>504.0</td>\n",
       "      <td>30.0</td>\n",
       "      <td>train</td>\n",
       "    </tr>\n",
       "    <tr>\n",
       "      <th>3</th>\n",
       "      <td>Celeb-synthesis\\id16_id30_0002.mp4</td>\n",
       "      <td>0</td>\n",
       "      <td>950x500</td>\n",
       "      <td>363.0</td>\n",
       "      <td>30.0</td>\n",
       "      <td>train</td>\n",
       "    </tr>\n",
       "    <tr>\n",
       "      <th>4</th>\n",
       "      <td>Celeb-synthesis\\id6_id16_0003.mp4</td>\n",
       "      <td>0</td>\n",
       "      <td>944x500</td>\n",
       "      <td>372.0</td>\n",
       "      <td>30.0</td>\n",
       "      <td>train</td>\n",
       "    </tr>\n",
       "  </tbody>\n",
       "</table>\n",
       "</div>"
      ],
      "text/plain": [
       "                                 path  label resolution  frame_count   fps  \\\n",
       "0    Celeb-synthesis\\id6_id2_0003.mp4      0    944x500        372.0  30.0   \n",
       "1  Celeb-synthesis\\id49_id53_0006.mp4      0    856x478        330.0  30.0   \n",
       "2              YouTube-real\\00105.mp4      1    892x500        504.0  30.0   \n",
       "3  Celeb-synthesis\\id16_id30_0002.mp4      0    950x500        363.0  30.0   \n",
       "4   Celeb-synthesis\\id6_id16_0003.mp4      0    944x500        372.0  30.0   \n",
       "\n",
       "     set  \n",
       "0  train  \n",
       "1  train  \n",
       "2  train  \n",
       "3  train  \n",
       "4  train  "
      ]
     },
     "execution_count": 16,
     "metadata": {},
     "output_type": "execute_result"
    }
   ],
   "source": [
    "meta.head()"
   ]
  },
  {
   "cell_type": "code",
   "execution_count": 17,
   "metadata": {},
   "outputs": [
    {
     "data": {
      "text/plain": [
       "(7047, 6)"
      ]
     },
     "execution_count": 17,
     "metadata": {},
     "output_type": "execute_result"
    }
   ],
   "source": [
    "meta.shape"
   ]
  },
  {
   "cell_type": "code",
   "execution_count": 19,
   "metadata": {},
   "outputs": [
    {
     "data": {
      "text/plain": [
       "(5979, 1068)"
      ]
     },
     "execution_count": 19,
     "metadata": {},
     "output_type": "execute_result"
    }
   ],
   "source": [
    "len(meta[meta.label==0]),len(meta[meta.label==1])"
   ]
  },
  {
   "cell_type": "code",
   "execution_count": 32,
   "metadata": {},
   "outputs": [],
   "source": [
    "real_df = meta[meta[\"label\"] == 1]\n",
    "fake_df = meta[meta[\"label\"] == 0]\n",
    "sample_size = 1068\n",
    "\n",
    "real_df = real_df.sample(sample_size, random_state=42)\n",
    "fake_df = fake_df.sample(sample_size, random_state=42)\n",
    "\n",
    "sample_meta = pd.concat([real_df, fake_df])"
   ]
  },
  {
   "cell_type": "code",
   "execution_count": 39,
   "metadata": {},
   "outputs": [],
   "source": [
    "from sklearn.model_selection import train_test_split\n",
    "\n",
    "Train_set, Test_set = train_test_split(sample_meta,test_size=0.1,random_state=42,stratify=sample_meta['label'])\n",
    "Train_set, Val_set  = train_test_split(Train_set,test_size=0.2,random_state=42,stratify=Train_set['label'])"
   ]
  },
  {
   "cell_type": "code",
   "execution_count": 40,
   "metadata": {},
   "outputs": [
    {
     "data": {
      "text/plain": [
       "((1537, 6), (385, 6), (214, 6))"
      ]
     },
     "execution_count": 40,
     "metadata": {},
     "output_type": "execute_result"
    }
   ],
   "source": [
    "Train_set.shape,Val_set.shape,Test_set.shape"
   ]
  },
  {
   "cell_type": "code",
   "execution_count": 41,
   "metadata": {},
   "outputs": [],
   "source": [
    "import matplotlib.pyplot as plt\n",
    "\n",
    "def plot_count(feature,  df, size=2, categories = 10):\n",
    "    '''\n",
    "    Plot count of classes / feature using only matplotlib\n",
    "    param feature: the feature to analyze\n",
    "    param title: title to add to the graph\n",
    "    param df: dataframe from which we plot feature's classes distribution \n",
    "    param size: default 1.\n",
    "    '''\n",
    "    if df.empty or feature not in df.columns or df[feature].dropna().empty:\n",
    "        print(\"DataFrame is empty or feature does not exist.\")\n",
    "        return\n",
    "\n",
    "    total = float(len(df))\n",
    "    if total == 0:\n",
    "        print(\"DataFrame has no data.\")\n",
    "        return\n",
    "\n",
    "    # Count occurrences of each category\n",
    "    value_counts = df[feature].value_counts().nlargest(categories)  # Focus on the top 20 categories, similar to the Seaborn version\n",
    "\n",
    "    f, ax = plt.subplots(1, 1, figsize=(4*size, 4*size))\n",
    "    bars = ax.bar(value_counts.index, value_counts.values, color='salmon')  # Use bar plot from matplotlib\n",
    "\n",
    "    ax.set_xlabel(feature)\n",
    "    ax.set_ylabel('Counts')\n",
    "\n",
    "    if len(value_counts) > 5:\n",
    "        plt.xticks(rotation=45)\n",
    "\n",
    "    # Annotate the bars with percentages\n",
    "    for bar in bars:\n",
    "        height = bar.get_height()\n",
    "        percentage = 100 * height / total\n",
    "        ax.text(bar.get_x() + bar.get_width() / 2, height + 3, f'{percentage:.2f}%', ha='center', va='bottom')\n",
    "\n",
    "    plt.show()\n",
    "\n",
    "# Example usage assuming df is your DataFrame and 'feature' is the column you want to analyze:\n",
    "# plot_count('your_feature_column', 'Distribution of Feature', df)\n"
   ]
  },
  {
   "cell_type": "code",
   "execution_count": 42,
   "metadata": {},
   "outputs": [
    {
     "data": {
      "image/png": "[encoded data removed]",
      "text/plain": [
       "<Figure size 800x800 with 1 Axes>"
      ]
     },
     "metadata": {},
     "output_type": "display_data"
    }
   ],
   "source": [
    "plot_count('label', Train_set)"
   ]
  },
  {
   "cell_type": "code",
   "execution_count": 43,
   "metadata": {},
   "outputs": [
    {
     "data": {
      "image/png": "[encoded data removed]",
      "text/plain": [
       "<Figure size 800x800 with 1 Axes>"
      ]
     },
     "metadata": {},
     "output_type": "display_data"
    }
   ],
   "source": [
    "plot_count('label', Val_set)"
   ]
  },
  {
   "cell_type": "code",
   "execution_count": 44,
   "metadata": {},
   "outputs": [
    {
     "data": {
      "image/png": "[encoded data removed]",
      "text/plain": [
       "<Figure size 800x800 with 1 Axes>"
      ]
     },
     "metadata": {},
     "output_type": "display_data"
    }
   ],
   "source": [
    "plot_count('label', Test_set)"
   ]
  },
  {
   "cell_type": "code",
   "execution_count": null,
   "metadata": {},
   "outputs": [],
   "source": [
    "plt.figure(figsize=(15,15))\n",
    "for cur,i in enumerate(Train_set.index[25:50]):\n",
    "    plt.subplot(5,5,cur+1)\n",
    "    plt.xticks([])\n",
    "    plt.yticks([])\n",
    "    plt.grid(False)\n",
    "    \n",
    "    plt.imshow(cv2.imread('../input/deepfake-faces/faces_224/'+Train_set.loc[i,'videoname'][:-4]+'.jpg'))\n",
    "    \n",
    "    if(Train_set.loc[i,'label']==0):\n",
    "        plt.xlabel('FAKE Image')\n",
    "    else:\n",
    "        plt.xlabel('REAL Image')\n",
    "        \n",
    "plt.show()"
   ]
  },
  {
   "cell_type": "code",
   "execution_count": null,
   "metadata": {},
   "outputs": [],
   "source": []
  }
 ],
 "metadata": {
  "kernelspec": {
   "display_name": "base",
   "language": "python",
   "name": "python3"
  },
  "language_info": {
   "codemirror_mode": {
    "name": "ipython",
    "version": 3
   },
   "file_extension": ".py",
   "mimetype": "text/x-python",
   "name": "python",
   "nbconvert_exporter": "python",
   "pygments_lexer": "ipython3",
   "version": "3.11.5"
  }
 },
 "nbformat": 4,
 "nbformat_minor": 2
}
