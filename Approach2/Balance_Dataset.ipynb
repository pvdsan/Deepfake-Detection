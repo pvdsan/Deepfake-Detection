{
 "cells": [
  {
   "cell_type": "code",
   "execution_count": 1,
   "metadata": {},
   "outputs": [
    {
     "name": "stdout",
     "output_type": "stream",
     "text": [
      "Initial label counts: label\n",
      "0    5639\n",
      "1     890\n",
      "Name: count, dtype: int64\n",
      "Balanced dataset saved.\n"
     ]
    }
   ],
   "source": [
    "import pandas as pd\n",
    "\n",
    "# Load the CSV file\n",
    "csv_path = 'train_data.csv'\n",
    "data = pd.read_csv(csv_path)\n",
    "\n",
    "# Count the instances of each label\n",
    "label_counts = data['label'].value_counts()\n",
    "print(\"Initial label counts:\", label_counts)\n",
    "\n",
    "# Find the number of instances in the minority class\n",
    "min_class_size = label_counts.min()\n",
    "\n",
    "# Downsample the majority class\n",
    "balanced_data = pd.concat([\n",
    "    data[data['label'] == 0].sample(min_class_size, random_state=42),\n",
    "    data[data['label'] == 1].sample(min_class_size, random_state=42)\n",
    "])\n",
    "\n",
    "# Shuffle the DataFrame\n",
    "balanced_data = balanced_data.sample(frac=1, random_state=42).reset_index(drop=True)\n",
    "\n",
    "# Save the balanced DataFrame to a new CSV file\n",
    "balanced_csv_path = 'balanced_train_data.csv'\n",
    "balanced_data.to_csv(balanced_csv_path, index=False)\n",
    "\n",
    "print(\"Balanced dataset saved.\")\n"
   ]
  },
  {
   "cell_type": "code",
   "execution_count": 3,
   "metadata": {},
   "outputs": [
    {
     "name": "stdout",
     "output_type": "stream",
     "text": [
      "Initial label counts: label\n",
      "1    890\n",
      "0    890\n",
      "Name: count, dtype: int64\n"
     ]
    }
   ],
   "source": [
    "# Count the instances of each label\n",
    "label_counts = balanced_data['label'].value_counts()\n",
    "print(\"Initial label counts:\", label_counts)"
   ]
  },
  {
   "cell_type": "code",
   "execution_count": null,
   "metadata": {},
   "outputs": [],
   "source": []
  }
 ],
 "metadata": {
  "kernelspec": {
   "display_name": "base",
   "language": "python",
   "name": "python3"
  },
  "language_info": {
   "codemirror_mode": {
    "name": "ipython",
    "version": 3
   },
   "file_extension": ".py",
   "mimetype": "text/x-python",
   "name": "python",
   "nbconvert_exporter": "python",
   "pygments_lexer": "ipython3",
   "version": "3.11.5"
  }
 },
 "nbformat": 4,
 "nbformat_minor": 2
}
