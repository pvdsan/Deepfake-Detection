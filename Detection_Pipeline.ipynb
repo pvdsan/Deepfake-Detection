{
 "cells": [
  {
   "cell_type": "code",
   "execution_count": 7,
   "metadata": {},
   "outputs": [],
   "source": [
    "BATCH_SIZE = 1\n",
    "SCALE = 0.25\n",
    "N_FRAMES = 5"
   ]
  },
  {
   "cell_type": "code",
   "execution_count": 8,
   "metadata": {},
   "outputs": [],
   "source": [
    "import matplotlib.pyplot as plt\n",
    "from torchvision import transforms\n",
    "import torch\n",
    "\n",
    "def display_faces_grid(faces_list):\n",
    "    \"\"\"\n",
    "    Display a grid of face images from a list of tensors where each tensor shape is [1, 3, H, W].\n",
    "    Args:\n",
    "        faces_list (list): List of tensors, each tensor is of shape [1, 3, H, W].\n",
    "    \"\"\"\n",
    "    n_images = len(faces_list)\n",
    "    n_rows = int(torch.sqrt(torch.tensor(n_images)).ceil())\n",
    "    n_cols = (n_images // n_rows) + (0 if n_images % n_rows == 0 else 1)\n",
    "    \n",
    "    fig, axs = plt.subplots(n_rows, n_cols, figsize=(n_cols * 2, n_rows * 2))\n",
    "    axs = axs.flatten() if n_images > 1 else [axs]\n",
    "    \n",
    "    for idx, ax in enumerate(axs):\n",
    "        if idx < n_images:\n",
    "            # Remove batch dimension and convert tensor image to a format suitable for displaying\n",
    "            image = faces_list[idx].squeeze(0).cpu().detach()\n",
    "            image = transforms.ToPILImage()(image)\n",
    "            ax.imshow(image)\n",
    "            ax.axis('off')\n",
    "        else:\n",
    "            ax.axis('off')  # Hide unused axes\n",
    "\n",
    "    plt.tight_layout()\n",
    "    plt.show()\n"
   ]
  },
  {
   "cell_type": "code",
   "execution_count": 9,
   "metadata": {},
   "outputs": [
    {
     "name": "stdout",
     "output_type": "stream",
     "text": [
      "Running on device: cuda:0\n"
     ]
    }
   ],
   "source": [
    "import os\n",
    "import glob\n",
    "import json\n",
    "import torch\n",
    "import cv2\n",
    "from PIL import Image\n",
    "import numpy as np\n",
    "import pandas as pd\n",
    "import logging\n",
    "from tqdm.notebook import tqdm\n",
    "from facenet_pytorch import MTCNN, InceptionResnetV1\n",
    "\n",
    "device = 'cuda:0' if torch.cuda.is_available() else 'cpu'\n",
    "print(f'Running on device: {device}')\n",
    "\n",
    "class DetectionPipeline:\n",
    "    \"\"\"Pipeline class for detecting faces in the frames of a video file.\"\"\"\n",
    "    \n",
    "    def __init__(self, detector, n_frames=None, batch_size=60, resize=None):\n",
    "        \"\"\"Constructor for DetectionPipeline class.\"\"\"\n",
    "        self.detector = detector\n",
    "        self.n_frames = n_frames\n",
    "        self.batch_size = batch_size\n",
    "        self.resize = resize\n",
    "        logging.basicConfig(level=logging.INFO)\n",
    "    \n",
    "    def __call__(self, filename):\n",
    "        \"\"\"Load frames from an MP4 video and detect faces.\"\"\"\n",
    "        v_cap = cv2.VideoCapture(filename)\n",
    "        if not v_cap.isOpened():\n",
    "            logging.error(f\"Failed to open video file {filename}\")\n",
    "            return []\n",
    "        \n",
    "        v_len = int(v_cap.get(cv2.CAP_PROP_FRAME_COUNT))\n",
    "        logging.info(f\"Video length: {v_len} frames\")\n",
    "\n",
    "        sample = np.linspace(0, v_len - 1, self.n_frames).astype(int) if self.n_frames is not None else np.arange(v_len)\n",
    "\n",
    "        faces = []\n",
    "        frames = []\n",
    "        for j in range(v_len):\n",
    "            if not v_cap.grab():\n",
    "                logging.warning(f\"Frame {j} could not be grabbed\")\n",
    "                continue\n",
    "\n",
    "            if j in sample:\n",
    "                print(j)\n",
    "                success, frame = v_cap.retrieve()\n",
    "                if not success:\n",
    "                    logging.warning(f\"Frame {j} could not be retrieved\")\n",
    "                    continue\n",
    "                frame = cv2.cvtColor(frame, cv2.COLOR_BGR2RGB)\n",
    "                print(frame.shape)\n",
    "                frame = Image.fromarray(frame)\n",
    "                if self.resize is not None:\n",
    "                    frame = frame.resize([int(d * self.resize) for d in frame.size])\n",
    "                    \n",
    "\n",
    "                frames.append(frame)\n",
    "                print(len(frames))\n",
    "\n",
    "                if len(frames) % self.batch_size == 0 or j == sample[-1]:\n",
    "                    faces.extend(self.detector(frames))\n",
    "                    frames = []\n",
    "\n",
    "        v_cap.release()\n",
    "        return faces"
   ]
  },
  {
   "cell_type": "code",
   "execution_count": 10,
   "metadata": {},
   "outputs": [],
   "source": [
    "import torch\n",
    "\n",
    "def process_faces(faces, feature_extractor):\n",
    "    \"\"\"\n",
    "    Process face images to calculate the centroid of their embeddings and the distances from the centroid.\n",
    "\n",
    "    Args:\n",
    "        faces (list of torch.Tensor): List of tensors representing detected faces.\n",
    "        feature_extractor (torch.nn.Module): Pretrained neural network model to generate embeddings.\n",
    "\n",
    "    Returns:\n",
    "        numpy.ndarray or None: Array of distances of each face's embedding from the centroid, or None if no faces.\n",
    "    \"\"\"\n",
    "    # Filter out None values that represent frames without detected faces\n",
    "    \n",
    "    try:\n",
    "        # Concatenate all face tensors and move to the specified device\n",
    "        faces = torch.cat(faces).to(device)\n",
    "\n",
    "        # Generate embeddings for each face using the feature extractor\n",
    "        embeddings = feature_extractor(faces)\n",
    "        embeddings\n",
    "\n",
    "        # Compute the centroid of all embeddings\n",
    "        centroid = embeddings.mean(dim=0)\n",
    "\n",
    "        # Calculate the Euclidean distance from each embedding to the centroid\n",
    "        distances = (embeddings - centroid).norm(dim=1).cpu().numpy()\n",
    "\n",
    "        return distances\n",
    "    except Exception as e:\n",
    "        # Log or handle exceptions that may occur during processing\n",
    "        logging.error(f\"An error occurred while processing faces: {str(e)}\")\n",
    "        return None\n"
   ]
  },
  {
   "cell_type": "code",
   "execution_count": 11,
   "metadata": {},
   "outputs": [],
   "source": [
    "# Load face detector\n",
    "face_detector = MTCNN(margin=40, keep_all=False, device=device, post_process=False).eval()\n",
    "\n",
    "# Load facial recognition model\n",
    "feature_extractor = InceptionResnetV1(pretrained='vggface2', device=device).eval()\n",
    "\n",
    "# Define face detection pipeline\n",
    "detection_pipeline = DetectionPipeline(detector=face_detector, n_frames=N_FRAMES, batch_size=BATCH_SIZE, resize=SCALE)"
   ]
  },
  {
   "cell_type": "code",
   "execution_count": null,
   "metadata": {},
   "outputs": [],
   "source": []
  },
  {
   "cell_type": "code",
   "execution_count": 13,
   "metadata": {},
   "outputs": [
    {
     "data": {
      "application/vnd.jupyter.widget-view+json": {
       "model_id": "b25f14b7e4d74288b57697b76874a528",
       "version_major": 2,
       "version_minor": 0
      },
      "text/plain": [
       "  0%|          | 0/704 [00:00<?, ?it/s]"
      ]
     },
     "metadata": {},
     "output_type": "display_data"
    },
    {
     "name": "stderr",
     "output_type": "stream",
     "text": [
      "INFO:root:Video length: 372 frames\n"
     ]
    },
    {
     "name": "stdout",
     "output_type": "stream",
     "text": [
      "0\n",
      "(500, 944, 3)\n",
      "1\n",
      "92\n",
      "(500, 944, 3)\n",
      "1\n",
      "185\n",
      "(500, 944, 3)\n",
      "1\n",
      "278\n",
      "(500, 944, 3)\n",
      "1\n",
      "371\n",
      "(500, 944, 3)\n",
      "1\n"
     ]
    },
    {
     "name": "stderr",
     "output_type": "stream",
     "text": [
      "ERROR:root:An error occurred while processing faces: Given groups=1, weight of size [32, 3, 3, 3], expected input[1, 15, 160, 160] to have 3 channels, but got 15 channels instead\n",
      "INFO:root:Video length: 330 frames\n"
     ]
    },
    {
     "name": "stdout",
     "output_type": "stream",
     "text": [
      "0\n",
      "(478, 856, 3)\n",
      "1\n",
      "82\n",
      "(478, 856, 3)\n",
      "1\n",
      "164\n",
      "(478, 856, 3)\n",
      "1\n",
      "246\n",
      "(478, 856, 3)\n",
      "1\n",
      "329\n",
      "(478, 856, 3)\n",
      "1\n"
     ]
    },
    {
     "name": "stderr",
     "output_type": "stream",
     "text": [
      "ERROR:root:An error occurred while processing faces: Given groups=1, weight of size [32, 3, 3, 3], expected input[1, 15, 160, 160] to have 3 channels, but got 15 channels instead\n",
      "INFO:root:Video length: 504 frames\n"
     ]
    },
    {
     "name": "stdout",
     "output_type": "stream",
     "text": [
      "0\n",
      "(500, 892, 3)\n",
      "1\n",
      "125\n",
      "(500, 892, 3)\n",
      "1\n",
      "251\n",
      "(500, 892, 3)\n",
      "1\n",
      "377\n",
      "(500, 892, 3)\n",
      "1\n",
      "503\n",
      "(500, 892, 3)\n",
      "1\n"
     ]
    },
    {
     "name": "stderr",
     "output_type": "stream",
     "text": [
      "ERROR:root:An error occurred while processing faces: Given groups=1, weight of size [32, 3, 3, 3], expected input[1, 15, 160, 160] to have 3 channels, but got 15 channels instead\n",
      "INFO:root:Video length: 363 frames\n",
      "ERROR:root:An error occurred while processing faces: Given groups=1, weight of size [32, 3, 3, 3], expected input[1, 15, 160, 160] to have 3 channels, but got 15 channels instead\n"
     ]
    },
    {
     "name": "stdout",
     "output_type": "stream",
     "text": [
      "0\n",
      "(500, 950, 3)\n",
      "1\n",
      "90\n",
      "(500, 950, 3)\n",
      "1\n",
      "181\n",
      "(500, 950, 3)\n",
      "1\n",
      "271\n",
      "(500, 950, 3)\n",
      "1\n",
      "362\n",
      "(500, 950, 3)\n",
      "1\n"
     ]
    },
    {
     "name": "stderr",
     "output_type": "stream",
     "text": [
      "INFO:root:Video length: 372 frames\n"
     ]
    },
    {
     "name": "stdout",
     "output_type": "stream",
     "text": [
      "0\n",
      "(500, 944, 3)\n",
      "1\n",
      "92\n",
      "(500, 944, 3)\n",
      "1\n",
      "185\n",
      "(500, 944, 3)\n",
      "1\n",
      "278\n",
      "(500, 944, 3)\n",
      "1\n",
      "371\n",
      "(500, 944, 3)\n",
      "1\n"
     ]
    },
    {
     "name": "stderr",
     "output_type": "stream",
     "text": [
      "ERROR:root:An error occurred while processing faces: Given groups=1, weight of size [32, 3, 3, 3], expected input[1, 15, 160, 160] to have 3 channels, but got 15 channels instead\n",
      "INFO:root:Video length: 353 frames\n"
     ]
    },
    {
     "name": "stdout",
     "output_type": "stream",
     "text": [
      "0\n",
      "(478, 856, 3)\n",
      "1\n",
      "88\n",
      "(478, 856, 3)\n",
      "1\n",
      "176\n",
      "(478, 856, 3)\n",
      "1\n",
      "264\n",
      "(478, 856, 3)\n",
      "1\n",
      "352\n",
      "(478, 856, 3)\n",
      "1\n"
     ]
    },
    {
     "name": "stderr",
     "output_type": "stream",
     "text": [
      "ERROR:root:An error occurred while processing faces: Given groups=1, weight of size [32, 3, 3, 3], expected input[1, 15, 160, 160] to have 3 channels, but got 15 channels instead\n",
      "INFO:root:Video length: 317 frames\n"
     ]
    },
    {
     "name": "stdout",
     "output_type": "stream",
     "text": [
      "0\n",
      "(478, 852, 3)\n",
      "1\n",
      "79\n",
      "(478, 852, 3)\n",
      "1\n",
      "158\n",
      "(478, 852, 3)\n",
      "1\n",
      "237\n",
      "(478, 852, 3)\n",
      "1\n",
      "316\n",
      "(478, 852, 3)\n",
      "1\n"
     ]
    },
    {
     "name": "stderr",
     "output_type": "stream",
     "text": [
      "ERROR:root:An error occurred while processing faces: Given groups=1, weight of size [32, 3, 3, 3], expected input[1, 15, 160, 160] to have 3 channels, but got 15 channels instead\n",
      "INFO:root:Video length: 316 frames\n",
      "ERROR:root:An error occurred while processing faces: Given groups=1, weight of size [32, 3, 3, 3], expected input[1, 15, 160, 160] to have 3 channels, but got 15 channels instead\n"
     ]
    },
    {
     "name": "stdout",
     "output_type": "stream",
     "text": [
      "0\n",
      "(500, 662, 3)\n",
      "1\n",
      "78\n",
      "(500, 662, 3)\n",
      "1\n",
      "157\n",
      "(500, 662, 3)\n",
      "1\n",
      "236\n",
      "(500, 662, 3)\n",
      "1\n",
      "315\n",
      "(500, 662, 3)\n",
      "1\n"
     ]
    },
    {
     "name": "stderr",
     "output_type": "stream",
     "text": [
      "INFO:root:Video length: 525 frames\n"
     ]
    },
    {
     "name": "stdout",
     "output_type": "stream",
     "text": [
      "0\n",
      "(500, 944, 3)\n",
      "1\n",
      "131\n",
      "(500, 944, 3)\n",
      "1\n",
      "262\n",
      "(500, 944, 3)\n",
      "1\n",
      "393\n",
      "(500, 944, 3)\n",
      "1\n",
      "524\n",
      "(500, 944, 3)\n",
      "1\n"
     ]
    },
    {
     "name": "stderr",
     "output_type": "stream",
     "text": [
      "ERROR:root:An error occurred while processing faces: Given groups=1, weight of size [32, 3, 3, 3], expected input[1, 15, 160, 160] to have 3 channels, but got 15 channels instead\n",
      "INFO:root:Video length: 469 frames\n"
     ]
    },
    {
     "name": "stdout",
     "output_type": "stream",
     "text": [
      "0\n",
      "(478, 856, 3)\n",
      "1\n",
      "117\n",
      "(478, 856, 3)\n",
      "1\n",
      "234\n",
      "(478, 856, 3)\n",
      "1\n",
      "351\n",
      "(478, 856, 3)\n",
      "1\n",
      "468\n",
      "(478, 856, 3)\n",
      "1\n"
     ]
    },
    {
     "name": "stderr",
     "output_type": "stream",
     "text": [
      "ERROR:root:An error occurred while processing faces: Given groups=1, weight of size [32, 3, 3, 3], expected input[1, 15, 160, 160] to have 3 channels, but got 15 channels instead\n",
      "INFO:root:Video length: 283 frames\n",
      "ERROR:root:An error occurred while processing faces: Given groups=1, weight of size [32, 3, 3, 3], expected input[1, 15, 160, 160] to have 3 channels, but got 15 channels instead\n"
     ]
    },
    {
     "name": "stdout",
     "output_type": "stream",
     "text": [
      "0\n",
      "(478, 856, 3)\n",
      "1\n",
      "70\n",
      "(478, 856, 3)\n",
      "1\n",
      "141\n",
      "(478, 856, 3)\n",
      "1\n",
      "211\n",
      "(478, 856, 3)\n",
      "1\n",
      "282\n",
      "(478, 856, 3)\n",
      "1\n"
     ]
    },
    {
     "name": "stderr",
     "output_type": "stream",
     "text": [
      "INFO:root:Video length: 359 frames\n",
      "ERROR:root:An error occurred while processing faces: Given groups=1, weight of size [32, 3, 3, 3], expected input[1, 15, 160, 160] to have 3 channels, but got 15 channels instead\n"
     ]
    },
    {
     "name": "stdout",
     "output_type": "stream",
     "text": [
      "0\n",
      "(456, 812, 3)\n",
      "1\n",
      "89\n",
      "(456, 812, 3)\n",
      "1\n",
      "179\n",
      "(456, 812, 3)\n",
      "1\n",
      "268\n",
      "(456, 812, 3)\n",
      "1\n",
      "358\n",
      "(456, 812, 3)\n",
      "1\n"
     ]
    },
    {
     "name": "stderr",
     "output_type": "stream",
     "text": [
      "INFO:root:Video length: 333 frames\n"
     ]
    },
    {
     "name": "stdout",
     "output_type": "stream",
     "text": [
      "0\n",
      "(472, 848, 3)\n",
      "1\n",
      "83\n",
      "(472, 848, 3)\n",
      "1\n",
      "166\n",
      "(472, 848, 3)\n",
      "1\n",
      "249\n",
      "(472, 848, 3)\n",
      "1\n",
      "332\n",
      "(472, 848, 3)\n",
      "1\n"
     ]
    },
    {
     "name": "stderr",
     "output_type": "stream",
     "text": [
      "ERROR:root:An error occurred while processing faces: Given groups=1, weight of size [32, 3, 3, 3], expected input[1, 15, 160, 160] to have 3 channels, but got 15 channels instead\n",
      "INFO:root:Video length: 610 frames\n"
     ]
    },
    {
     "name": "stdout",
     "output_type": "stream",
     "text": [
      "0\n",
      "(478, 856, 3)\n",
      "1\n",
      "152\n",
      "(478, 856, 3)\n",
      "1\n",
      "304\n",
      "(478, 856, 3)\n",
      "1\n",
      "456\n",
      "(478, 856, 3)\n",
      "1\n",
      "609\n",
      "(478, 856, 3)\n",
      "1\n"
     ]
    },
    {
     "name": "stderr",
     "output_type": "stream",
     "text": [
      "ERROR:root:An error occurred while processing faces: Given groups=1, weight of size [32, 3, 3, 3], expected input[1, 15, 160, 160] to have 3 channels, but got 15 channels instead\n",
      "INFO:root:Video length: 470 frames\n"
     ]
    },
    {
     "name": "stdout",
     "output_type": "stream",
     "text": [
      "0\n",
      "(466, 848, 3)\n",
      "1\n",
      "117\n",
      "(466, 848, 3)\n",
      "1\n",
      "234\n",
      "(466, 848, 3)\n",
      "1\n",
      "351\n",
      "(466, 848, 3)\n",
      "1\n"
     ]
    },
    {
     "name": "stderr",
     "output_type": "stream",
     "text": [
      "ERROR:root:An error occurred while processing faces: Given groups=1, weight of size [32, 3, 3, 3], expected input[1, 15, 160, 160] to have 3 channels, but got 15 channels instead\n",
      "INFO:root:Video length: 439 frames\n"
     ]
    },
    {
     "name": "stdout",
     "output_type": "stream",
     "text": [
      "469\n",
      "(466, 848, 3)\n",
      "1\n",
      "0\n",
      "(500, 944, 3)\n",
      "1\n",
      "109\n",
      "(500, 944, 3)\n",
      "1\n",
      "219\n",
      "(500, 944, 3)\n",
      "1\n",
      "328\n",
      "(500, 944, 3)\n",
      "1\n"
     ]
    },
    {
     "name": "stderr",
     "output_type": "stream",
     "text": [
      "ERROR:root:An error occurred while processing faces: Given groups=1, weight of size [32, 3, 3, 3], expected input[1, 15, 160, 160] to have 3 channels, but got 15 channels instead\n",
      "INFO:root:Video length: 325 frames\n"
     ]
    },
    {
     "name": "stdout",
     "output_type": "stream",
     "text": [
      "438\n",
      "(500, 944, 3)\n",
      "1\n",
      "0\n",
      "(500, 950, 3)\n",
      "1\n",
      "81\n",
      "(500, 950, 3)\n",
      "1\n",
      "162\n",
      "(500, 950, 3)\n",
      "1\n",
      "243\n",
      "(500, 950, 3)\n",
      "1\n"
     ]
    },
    {
     "name": "stderr",
     "output_type": "stream",
     "text": [
      "ERROR:root:An error occurred while processing faces: Given groups=1, weight of size [32, 3, 3, 3], expected input[1, 15, 160, 160] to have 3 channels, but got 15 channels instead\n",
      "INFO:root:Video length: 477 frames\n"
     ]
    },
    {
     "name": "stdout",
     "output_type": "stream",
     "text": [
      "324\n",
      "(500, 950, 3)\n",
      "1\n",
      "0\n",
      "(500, 944, 3)\n",
      "1\n",
      "119\n",
      "(500, 944, 3)\n",
      "1\n",
      "238\n",
      "(500, 944, 3)\n",
      "1\n"
     ]
    },
    {
     "name": "stderr",
     "output_type": "stream",
     "text": [
      "ERROR:root:An error occurred while processing faces: Given groups=1, weight of size [32, 3, 3, 3], expected input[1, 15, 160, 160] to have 3 channels, but got 15 channels instead\n",
      "INFO:root:Video length: 383 frames\n"
     ]
    },
    {
     "name": "stdout",
     "output_type": "stream",
     "text": [
      "357\n",
      "(500, 944, 3)\n",
      "1\n",
      "476\n",
      "(500, 944, 3)\n",
      "1\n",
      "0\n",
      "(500, 554, 3)\n",
      "1\n",
      "95\n",
      "(500, 554, 3)\n",
      "1\n",
      "191\n",
      "(500, 554, 3)\n",
      "1\n"
     ]
    },
    {
     "name": "stderr",
     "output_type": "stream",
     "text": [
      "ERROR:root:An error occurred while processing faces: Given groups=1, weight of size [32, 3, 3, 3], expected input[1, 15, 160, 160] to have 3 channels, but got 15 channels instead\n",
      "INFO:root:Video length: 341 frames\n"
     ]
    },
    {
     "name": "stdout",
     "output_type": "stream",
     "text": [
      "286\n",
      "(500, 554, 3)\n",
      "1\n",
      "382\n",
      "(500, 554, 3)\n",
      "1\n",
      "0\n",
      "(500, 676, 3)\n",
      "1\n",
      "85\n",
      "(500, 676, 3)\n",
      "1\n",
      "170\n",
      "(500, 676, 3)\n",
      "1\n",
      "255\n",
      "(500, 676, 3)\n",
      "1\n"
     ]
    },
    {
     "name": "stderr",
     "output_type": "stream",
     "text": [
      "ERROR:root:An error occurred while processing faces: Given groups=1, weight of size [32, 3, 3, 3], expected input[1, 15, 160, 160] to have 3 channels, but got 15 channels instead\n",
      "INFO:root:Video length: 557 frames\n"
     ]
    },
    {
     "name": "stdout",
     "output_type": "stream",
     "text": [
      "340\n",
      "(500, 676, 3)\n",
      "1\n",
      "0\n",
      "(500, 944, 3)\n",
      "1\n",
      "139\n",
      "(500, 944, 3)\n",
      "1\n",
      "278\n",
      "(500, 944, 3)\n",
      "1\n",
      "417\n",
      "(500, 944, 3)\n",
      "1\n"
     ]
    },
    {
     "name": "stderr",
     "output_type": "stream",
     "text": [
      "ERROR:root:An error occurred while processing faces: Given groups=1, weight of size [32, 3, 3, 3], expected input[1, 15, 160, 160] to have 3 channels, but got 15 channels instead\n",
      "INFO:root:Video length: 412 frames\n"
     ]
    },
    {
     "name": "stdout",
     "output_type": "stream",
     "text": [
      "556\n",
      "(500, 944, 3)\n",
      "1\n",
      "0\n",
      "(500, 480, 3)\n",
      "1\n",
      "102\n",
      "(500, 480, 3)\n",
      "1\n",
      "205\n",
      "(500, 480, 3)\n",
      "1\n"
     ]
    },
    {
     "name": "stderr",
     "output_type": "stream",
     "text": [
      "ERROR:root:An error occurred while processing faces: Given groups=1, weight of size [32, 3, 3, 3], expected input[1, 15, 160, 160] to have 3 channels, but got 15 channels instead\n",
      "INFO:root:Video length: 272 frames\n"
     ]
    },
    {
     "name": "stdout",
     "output_type": "stream",
     "text": [
      "308\n",
      "(500, 480, 3)\n",
      "1\n",
      "411\n",
      "(500, 480, 3)\n",
      "1\n",
      "0\n",
      "(500, 456, 3)\n",
      "1\n",
      "67\n",
      "(500, 456, 3)\n",
      "1\n",
      "135\n",
      "(500, 456, 3)\n",
      "1\n"
     ]
    },
    {
     "name": "stderr",
     "output_type": "stream",
     "text": [
      "ERROR:root:An error occurred while processing faces: Given groups=1, weight of size [32, 3, 3, 3], expected input[1, 15, 160, 160] to have 3 channels, but got 15 channels instead\n",
      "INFO:root:Video length: 445 frames\n"
     ]
    },
    {
     "name": "stdout",
     "output_type": "stream",
     "text": [
      "203\n",
      "(500, 456, 3)\n",
      "1\n",
      "271\n",
      "(500, 456, 3)\n",
      "1\n",
      "0\n",
      "(500, 588, 3)\n",
      "1\n",
      "111\n",
      "(500, 588, 3)\n",
      "1\n",
      "222\n",
      "(500, 588, 3)\n",
      "1\n"
     ]
    },
    {
     "name": "stderr",
     "output_type": "stream",
     "text": [
      "ERROR:root:An error occurred while processing faces: Given groups=1, weight of size [32, 3, 3, 3], expected input[1, 15, 160, 160] to have 3 channels, but got 15 channels instead\n",
      "INFO:root:Video length: 312 frames\n"
     ]
    },
    {
     "name": "stdout",
     "output_type": "stream",
     "text": [
      "333\n",
      "(500, 588, 3)\n",
      "1\n",
      "444\n",
      "(500, 588, 3)\n",
      "1\n",
      "0\n",
      "(476, 846, 3)\n",
      "1\n",
      "77\n",
      "(476, 846, 3)\n",
      "1\n",
      "155\n",
      "(476, 846, 3)\n",
      "1\n"
     ]
    },
    {
     "name": "stderr",
     "output_type": "stream",
     "text": [
      "ERROR:root:An error occurred while processing faces: Given groups=1, weight of size [32, 3, 3, 3], expected input[1, 15, 160, 160] to have 3 channels, but got 15 channels instead\n",
      "INFO:root:Video length: 470 frames\n"
     ]
    },
    {
     "name": "stdout",
     "output_type": "stream",
     "text": [
      "233\n",
      "(476, 846, 3)\n",
      "1\n",
      "311\n",
      "(476, 846, 3)\n",
      "1\n",
      "0\n",
      "(472, 850, 3)\n",
      "1\n",
      "117\n",
      "(472, 850, 3)\n",
      "1\n",
      "234\n",
      "(472, 850, 3)\n"
     ]
    },
    {
     "name": "stderr",
     "output_type": "stream",
     "text": [
      "ERROR:root:An error occurred while processing faces: Given groups=1, weight of size [32, 3, 3, 3], expected input[1, 15, 160, 160] to have 3 channels, but got 15 channels instead\n",
      "INFO:root:Video length: 278 frames\n"
     ]
    },
    {
     "name": "stdout",
     "output_type": "stream",
     "text": [
      "1\n",
      "351\n",
      "(472, 850, 3)\n",
      "1\n",
      "469\n",
      "(472, 850, 3)\n",
      "1\n",
      "0\n",
      "(478, 856, 3)\n",
      "1\n",
      "69\n",
      "(478, 856, 3)\n",
      "1\n"
     ]
    },
    {
     "name": "stderr",
     "output_type": "stream",
     "text": [
      "ERROR:root:An error occurred while processing faces: Given groups=1, weight of size [32, 3, 3, 3], expected input[1, 15, 160, 160] to have 3 channels, but got 15 channels instead\n",
      "INFO:root:Video length: 306 frames\n"
     ]
    },
    {
     "name": "stdout",
     "output_type": "stream",
     "text": [
      "138\n",
      "(478, 856, 3)\n",
      "1\n",
      "207\n",
      "(478, 856, 3)\n",
      "1\n",
      "277\n",
      "(478, 856, 3)\n",
      "1\n",
      "0\n",
      "(500, 354, 3)\n",
      "1\n"
     ]
    },
    {
     "name": "stderr",
     "output_type": "stream",
     "text": [
      "ERROR:root:An error occurred while processing faces: Given groups=1, weight of size [32, 3, 3, 3], expected input[1, 15, 160, 160] to have 3 channels, but got 15 channels instead\n",
      "INFO:root:Video length: 345 frames\n"
     ]
    },
    {
     "name": "stdout",
     "output_type": "stream",
     "text": [
      "76\n",
      "(500, 354, 3)\n",
      "1\n",
      "152\n",
      "(500, 354, 3)\n",
      "1\n",
      "228\n",
      "(500, 354, 3)\n",
      "1\n",
      "305\n",
      "(500, 354, 3)\n",
      "1\n",
      "0\n",
      "(500, 950, 3)\n",
      "1\n",
      "86\n",
      "(500, 950, 3)\n",
      "1\n"
     ]
    },
    {
     "name": "stderr",
     "output_type": "stream",
     "text": [
      "ERROR:root:An error occurred while processing faces: Given groups=1, weight of size [32, 3, 3, 3], expected input[1, 15, 160, 160] to have 3 channels, but got 15 channels instead\n",
      "INFO:root:Video length: 305 frames\n"
     ]
    },
    {
     "name": "stdout",
     "output_type": "stream",
     "text": [
      "172\n",
      "(500, 950, 3)\n",
      "1\n",
      "258\n",
      "(500, 950, 3)\n",
      "1\n",
      "344\n",
      "(500, 950, 3)\n",
      "1\n",
      "0\n",
      "(500, 666, 3)\n",
      "1\n",
      "76\n",
      "(500, 666, 3)\n",
      "1\n",
      "152\n",
      "(500, 666, 3)\n",
      "1\n"
     ]
    },
    {
     "name": "stderr",
     "output_type": "stream",
     "text": [
      "ERROR:root:An error occurred while processing faces: Given groups=1, weight of size [32, 3, 3, 3], expected input[1, 15, 160, 160] to have 3 channels, but got 15 channels instead\n",
      "INFO:root:Video length: 186 frames\n"
     ]
    },
    {
     "name": "stdout",
     "output_type": "stream",
     "text": [
      "228\n",
      "(500, 666, 3)\n",
      "1\n",
      "304\n",
      "(500, 666, 3)\n",
      "1\n",
      "0\n",
      "(476, 846, 3)\n",
      "1\n",
      "46\n",
      "(476, 846, 3)\n",
      "1\n",
      "92\n",
      "(476, 846, 3)\n",
      "1\n",
      "138\n",
      "(476, 846, 3)\n",
      "1\n"
     ]
    },
    {
     "name": "stderr",
     "output_type": "stream",
     "text": [
      "ERROR:root:An error occurred while processing faces: Given groups=1, weight of size [32, 3, 3, 3], expected input[1, 15, 160, 160] to have 3 channels, but got 15 channels instead\n",
      "INFO:root:Video length: 359 frames\n"
     ]
    },
    {
     "name": "stdout",
     "output_type": "stream",
     "text": [
      "185\n",
      "(476, 846, 3)\n",
      "1\n",
      "0\n",
      "(456, 812, 3)\n",
      "1\n",
      "89\n",
      "(456, 812, 3)\n",
      "1\n",
      "179\n",
      "(456, 812, 3)\n",
      "1\n",
      "268\n",
      "(456, 812, 3)\n",
      "1\n"
     ]
    },
    {
     "name": "stderr",
     "output_type": "stream",
     "text": [
      "ERROR:root:An error occurred while processing faces: Given groups=1, weight of size [32, 3, 3, 3], expected input[1, 15, 160, 160] to have 3 channels, but got 15 channels instead\n",
      "INFO:root:Video length: 380 frames\n"
     ]
    },
    {
     "name": "stdout",
     "output_type": "stream",
     "text": [
      "358\n",
      "(456, 812, 3)\n",
      "1\n",
      "0\n",
      "(500, 528, 3)\n",
      "1\n",
      "94\n",
      "(500, 528, 3)\n",
      "1\n",
      "189\n",
      "(500, 528, 3)\n",
      "1\n",
      "284\n",
      "(500, 528, 3)\n",
      "1\n",
      "379\n",
      "(500, 528, 3)\n",
      "1\n"
     ]
    },
    {
     "name": "stderr",
     "output_type": "stream",
     "text": [
      "ERROR:root:An error occurred while processing faces: Given groups=1, weight of size [32, 3, 3, 3], expected input[1, 15, 160, 160] to have 3 channels, but got 15 channels instead\n",
      "INFO:root:Video length: 319 frames\n",
      "ERROR:root:An error occurred while processing faces: Given groups=1, weight of size [32, 3, 3, 3], expected input[1, 15, 160, 160] to have 3 channels, but got 15 channels instead\n"
     ]
    },
    {
     "name": "stdout",
     "output_type": "stream",
     "text": [
      "0\n",
      "(500, 662, 3)\n",
      "1\n",
      "79\n",
      "(500, 662, 3)\n",
      "1\n",
      "159\n",
      "(500, 662, 3)\n",
      "1\n",
      "238\n",
      "(500, 662, 3)\n",
      "1\n",
      "318\n",
      "(500, 662, 3)\n",
      "1\n"
     ]
    },
    {
     "name": "stderr",
     "output_type": "stream",
     "text": [
      "INFO:root:Video length: 454 frames\n"
     ]
    },
    {
     "name": "stdout",
     "output_type": "stream",
     "text": [
      "0\n",
      "(466, 848, 3)\n",
      "1\n",
      "113\n",
      "(466, 848, 3)\n",
      "1\n",
      "226\n",
      "(466, 848, 3)\n",
      "1\n",
      "339\n",
      "(466, 848, 3)\n",
      "1\n",
      "453\n",
      "(466, 848, 3)\n",
      "1\n"
     ]
    },
    {
     "name": "stderr",
     "output_type": "stream",
     "text": [
      "ERROR:root:An error occurred while processing faces: Given groups=1, weight of size [32, 3, 3, 3], expected input[1, 15, 160, 160] to have 3 channels, but got 15 channels instead\n",
      "INFO:root:Video length: 383 frames\n"
     ]
    },
    {
     "name": "stdout",
     "output_type": "stream",
     "text": [
      "0\n",
      "(478, 856, 3)\n",
      "1\n",
      "95\n",
      "(478, 856, 3)\n",
      "1\n",
      "191\n",
      "(478, 856, 3)\n",
      "1\n",
      "286\n",
      "(478, 856, 3)\n",
      "1\n",
      "382\n",
      "(478, 856, 3)\n",
      "1\n"
     ]
    },
    {
     "name": "stderr",
     "output_type": "stream",
     "text": [
      "ERROR:root:An error occurred while processing faces: Given groups=1, weight of size [32, 3, 3, 3], expected input[1, 15, 160, 160] to have 3 channels, but got 15 channels instead\n",
      "INFO:root:Video length: 465 frames\n",
      "ERROR:root:An error occurred while processing faces: Given groups=1, weight of size [32, 3, 3, 3], expected input[1, 15, 160, 160] to have 3 channels, but got 15 channels instead\n"
     ]
    },
    {
     "name": "stdout",
     "output_type": "stream",
     "text": [
      "0\n",
      "(472, 850, 3)\n",
      "1\n",
      "116\n",
      "(472, 850, 3)\n",
      "1\n",
      "232\n",
      "(472, 850, 3)\n",
      "1\n",
      "348\n",
      "(472, 850, 3)\n",
      "1\n",
      "464\n",
      "(472, 850, 3)\n",
      "1\n"
     ]
    },
    {
     "name": "stderr",
     "output_type": "stream",
     "text": [
      "INFO:root:Video length: 364 frames\n",
      "ERROR:root:An error occurred while processing faces: Given groups=1, weight of size [32, 3, 3, 3], expected input[1, 15, 160, 160] to have 3 channels, but got 15 channels instead\n"
     ]
    },
    {
     "name": "stdout",
     "output_type": "stream",
     "text": [
      "0\n",
      "(500, 944, 3)\n",
      "1\n",
      "90\n",
      "(500, 944, 3)\n",
      "1\n",
      "181\n",
      "(500, 944, 3)\n",
      "1\n",
      "272\n",
      "(500, 944, 3)\n",
      "1\n",
      "363\n",
      "(500, 944, 3)\n",
      "1\n"
     ]
    },
    {
     "name": "stderr",
     "output_type": "stream",
     "text": [
      "INFO:root:Video length: 332 frames\n",
      "ERROR:root:An error occurred while processing faces: Given groups=1, weight of size [32, 3, 3, 3], expected input[1, 15, 160, 160] to have 3 channels, but got 15 channels instead\n"
     ]
    },
    {
     "name": "stdout",
     "output_type": "stream",
     "text": [
      "0\n",
      "(476, 846, 3)\n",
      "1\n",
      "82\n",
      "(476, 846, 3)\n",
      "1\n",
      "165\n",
      "(476, 846, 3)\n",
      "1\n",
      "248\n",
      "(476, 846, 3)\n",
      "1\n",
      "331\n",
      "(476, 846, 3)\n",
      "1\n"
     ]
    },
    {
     "name": "stderr",
     "output_type": "stream",
     "text": [
      "INFO:root:Video length: 342 frames\n"
     ]
    },
    {
     "name": "stdout",
     "output_type": "stream",
     "text": [
      "0\n",
      "(500, 748, 3)\n",
      "1\n",
      "85\n",
      "(500, 748, 3)\n",
      "1\n",
      "170\n",
      "(500, 748, 3)\n",
      "1\n",
      "255\n",
      "(500, 748, 3)\n",
      "1\n",
      "341\n",
      "(500, 748, 3)\n",
      "1\n"
     ]
    },
    {
     "name": "stderr",
     "output_type": "stream",
     "text": [
      "ERROR:root:An error occurred while processing faces: Given groups=1, weight of size [32, 3, 3, 3], expected input[1, 15, 160, 160] to have 3 channels, but got 15 channels instead\n",
      "INFO:root:Video length: 334 frames\n",
      "ERROR:root:An error occurred while processing faces: Given groups=1, weight of size [32, 3, 3, 3], expected input[1, 15, 160, 160] to have 3 channels, but got 15 channels instead\n",
      "INFO:root:Video length: 209 frames\n"
     ]
    },
    {
     "name": "stdout",
     "output_type": "stream",
     "text": [
      "0\n",
      "(438, 750, 3)\n",
      "1\n",
      "83\n",
      "(438, 750, 3)\n",
      "1\n",
      "166\n",
      "(438, 750, 3)\n",
      "1\n",
      "249\n",
      "(438, 750, 3)\n",
      "1\n",
      "333\n",
      "(438, 750, 3)\n",
      "1\n",
      "0\n",
      "(466, 848, 3)\n",
      "1\n"
     ]
    },
    {
     "name": "stderr",
     "output_type": "stream",
     "text": [
      "ERROR:root:An error occurred while processing faces: Given groups=1, weight of size [32, 3, 3, 3], expected input[1, 15, 160, 160] to have 3 channels, but got 15 channels instead\n",
      "INFO:root:Video length: 186 frames\n"
     ]
    },
    {
     "name": "stdout",
     "output_type": "stream",
     "text": [
      "52\n",
      "(466, 848, 3)\n",
      "1\n",
      "104\n",
      "(466, 848, 3)\n",
      "1\n",
      "156\n",
      "(466, 848, 3)\n",
      "1\n",
      "208\n",
      "(466, 848, 3)\n",
      "1\n",
      "0\n",
      "(476, 846, 3)\n",
      "1\n",
      "46\n",
      "(476, 846, 3)\n",
      "1\n"
     ]
    },
    {
     "name": "stderr",
     "output_type": "stream",
     "text": [
      "ERROR:root:An error occurred while processing faces: Given groups=1, weight of size [32, 3, 3, 3], expected input[1, 15, 160, 160] to have 3 channels, but got 15 channels instead\n",
      "INFO:root:Video length: 530 frames\n"
     ]
    },
    {
     "name": "stdout",
     "output_type": "stream",
     "text": [
      "92\n",
      "(476, 846, 3)\n",
      "1\n",
      "138\n",
      "(476, 846, 3)\n",
      "1\n",
      "185\n",
      "(476, 846, 3)\n",
      "1\n",
      "0\n",
      "(500, 944, 3)\n",
      "1\n",
      "132\n",
      "(500, 944, 3)\n",
      "1\n"
     ]
    },
    {
     "name": "stderr",
     "output_type": "stream",
     "text": [
      "ERROR:root:An error occurred while processing faces: Given groups=1, weight of size [32, 3, 3, 3], expected input[1, 15, 160, 160] to have 3 channels, but got 15 channels instead\n",
      "INFO:root:Video length: 331 frames\n"
     ]
    },
    {
     "name": "stdout",
     "output_type": "stream",
     "text": [
      "264\n",
      "(500, 944, 3)\n",
      "1\n",
      "396\n",
      "(500, 944, 3)\n",
      "1\n",
      "529\n",
      "(500, 944, 3)\n",
      "1\n",
      "0\n",
      "(468, 342, 3)\n",
      "1\n",
      "82\n",
      "(468, 342, 3)\n",
      "1\n",
      "165\n",
      "(468, 342, 3)\n",
      "1\n"
     ]
    },
    {
     "name": "stderr",
     "output_type": "stream",
     "text": [
      "ERROR:root:An error occurred while processing faces: Given groups=1, weight of size [32, 3, 3, 3], expected input[1, 15, 160, 160] to have 3 channels, but got 15 channels instead\n",
      "INFO:root:Video length: 270 frames\n"
     ]
    },
    {
     "name": "stdout",
     "output_type": "stream",
     "text": [
      "247\n",
      "(468, 342, 3)\n",
      "1\n",
      "330\n",
      "(468, 342, 3)\n",
      "1\n",
      "0\n",
      "(500, 944, 3)\n",
      "1\n",
      "67\n",
      "(500, 944, 3)\n",
      "1\n",
      "134\n",
      "(500, 944, 3)\n",
      "1\n",
      "201\n",
      "(500, 944, 3)\n",
      "1\n"
     ]
    },
    {
     "name": "stderr",
     "output_type": "stream",
     "text": [
      "ERROR:root:An error occurred while processing faces: Given groups=1, weight of size [32, 3, 3, 3], expected input[1, 15, 160, 160] to have 3 channels, but got 15 channels instead\n",
      "INFO:root:Video length: 461 frames\n"
     ]
    },
    {
     "name": "stdout",
     "output_type": "stream",
     "text": [
      "269\n",
      "(500, 944, 3)\n",
      "1\n",
      "0\n",
      "(478, 856, 3)\n",
      "1\n",
      "115\n",
      "(478, 856, 3)\n",
      "1\n",
      "230\n",
      "(478, 856, 3)\n",
      "1\n",
      "345\n",
      "(478, 856, 3)\n",
      "1\n"
     ]
    },
    {
     "name": "stderr",
     "output_type": "stream",
     "text": [
      "ERROR:root:An error occurred while processing faces: Given groups=1, weight of size [32, 3, 3, 3], expected input[1, 15, 160, 160] to have 3 channels, but got 15 channels instead\n",
      "INFO:root:Video length: 347 frames\n"
     ]
    },
    {
     "name": "stdout",
     "output_type": "stream",
     "text": [
      "460\n",
      "(478, 856, 3)\n",
      "1\n",
      "0\n",
      "(500, 672, 3)\n",
      "1\n",
      "86\n",
      "(500, 672, 3)\n",
      "1\n",
      "173\n",
      "(500, 672, 3)\n",
      "1\n",
      "259\n",
      "(500, 672, 3)\n",
      "1\n"
     ]
    },
    {
     "name": "stderr",
     "output_type": "stream",
     "text": [
      "ERROR:root:An error occurred while processing faces: Given groups=1, weight of size [32, 3, 3, 3], expected input[1, 15, 160, 160] to have 3 channels, but got 15 channels instead\n",
      "INFO:root:Video length: 318 frames\n"
     ]
    },
    {
     "name": "stdout",
     "output_type": "stream",
     "text": [
      "346\n",
      "(500, 672, 3)\n",
      "1\n",
      "0\n",
      "(476, 846, 3)\n",
      "1\n",
      "79\n",
      "(476, 846, 3)\n",
      "1\n",
      "158\n",
      "(476, 846, 3)\n",
      "1\n",
      "237\n",
      "(476, 846, 3)\n",
      "1\n"
     ]
    },
    {
     "name": "stderr",
     "output_type": "stream",
     "text": [
      "ERROR:root:An error occurred while processing faces: Given groups=1, weight of size [32, 3, 3, 3], expected input[1, 15, 160, 160] to have 3 channels, but got 15 channels instead\n",
      "INFO:root:Video length: 555 frames\n"
     ]
    },
    {
     "name": "stdout",
     "output_type": "stream",
     "text": [
      "317\n",
      "(476, 846, 3)\n",
      "1\n",
      "0\n",
      "(500, 942, 3)\n",
      "1\n",
      "138\n",
      "(500, 942, 3)\n",
      "1\n",
      "277\n",
      "(500, 942, 3)\n",
      "1\n",
      "415\n",
      "(500, 942, 3)\n",
      "1\n"
     ]
    },
    {
     "name": "stderr",
     "output_type": "stream",
     "text": [
      "ERROR:root:An error occurred while processing faces: Given groups=1, weight of size [32, 3, 3, 3], expected input[1, 15, 160, 160] to have 3 channels, but got 15 channels instead\n",
      "INFO:root:Video length: 338 frames\n"
     ]
    },
    {
     "name": "stdout",
     "output_type": "stream",
     "text": [
      "554\n",
      "(500, 942, 3)\n",
      "1\n",
      "0\n",
      "(500, 674, 3)\n",
      "1\n",
      "84\n",
      "(500, 674, 3)\n",
      "1\n",
      "168\n",
      "(500, 674, 3)\n",
      "1\n"
     ]
    },
    {
     "name": "stderr",
     "output_type": "stream",
     "text": [
      "ERROR:root:An error occurred while processing faces: Given groups=1, weight of size [32, 3, 3, 3], expected input[1, 15, 160, 160] to have 3 channels, but got 15 channels instead\n",
      "INFO:root:Video length: 513 frames\n"
     ]
    },
    {
     "name": "stdout",
     "output_type": "stream",
     "text": [
      "252\n",
      "(500, 674, 3)\n",
      "1\n",
      "337\n",
      "(500, 674, 3)\n",
      "1\n",
      "0\n",
      "(478, 856, 3)\n",
      "1\n",
      "128\n",
      "(478, 856, 3)\n",
      "1\n",
      "256\n",
      "(478, 856, 3)\n",
      "1\n"
     ]
    },
    {
     "name": "stderr",
     "output_type": "stream",
     "text": [
      "ERROR:root:An error occurred while processing faces: Given groups=1, weight of size [32, 3, 3, 3], expected input[1, 15, 160, 160] to have 3 channels, but got 15 channels instead\n",
      "INFO:root:Video length: 465 frames\n"
     ]
    },
    {
     "name": "stdout",
     "output_type": "stream",
     "text": [
      "384\n",
      "(478, 856, 3)\n",
      "1\n",
      "512\n",
      "(478, 856, 3)\n",
      "1\n",
      "0\n",
      "(472, 850, 3)\n",
      "1\n",
      "116\n",
      "(472, 850, 3)\n",
      "1\n",
      "232\n",
      "(472, 850, 3)\n",
      "1\n",
      "348\n",
      "(472, 850, 3)\n"
     ]
    },
    {
     "name": "stderr",
     "output_type": "stream",
     "text": [
      "ERROR:root:An error occurred while processing faces: Given groups=1, weight of size [32, 3, 3, 3], expected input[1, 15, 160, 160] to have 3 channels, but got 15 channels instead\n",
      "INFO:root:Video length: 369 frames\n"
     ]
    },
    {
     "name": "stdout",
     "output_type": "stream",
     "text": [
      "1\n",
      "464\n",
      "(472, 850, 3)\n",
      "1\n",
      "0\n",
      "(472, 850, 3)\n",
      "1\n",
      "92\n",
      "(472, 850, 3)\n",
      "1\n",
      "184\n",
      "(472, 850, 3)\n",
      "1\n"
     ]
    },
    {
     "name": "stderr",
     "output_type": "stream",
     "text": [
      "ERROR:root:An error occurred while processing faces: Given groups=1, weight of size [32, 3, 3, 3], expected input[1, 15, 160, 160] to have 3 channels, but got 15 channels instead\n",
      "INFO:root:Video length: 494 frames\n"
     ]
    },
    {
     "name": "stdout",
     "output_type": "stream",
     "text": [
      "276\n",
      "(472, 850, 3)\n",
      "1\n",
      "368\n",
      "(472, 850, 3)\n",
      "1\n",
      "0\n",
      "(478, 856, 3)\n",
      "1\n",
      "123\n",
      "(478, 856, 3)\n",
      "1\n",
      "246\n",
      "(478, 856, 3)\n",
      "1\n"
     ]
    },
    {
     "name": "stderr",
     "output_type": "stream",
     "text": [
      "ERROR:root:An error occurred while processing faces: Given groups=1, weight of size [32, 3, 3, 3], expected input[1, 15, 160, 160] to have 3 channels, but got 15 channels instead\n",
      "INFO:root:Video length: 466 frames\n"
     ]
    },
    {
     "name": "stdout",
     "output_type": "stream",
     "text": [
      "369\n",
      "(478, 856, 3)\n",
      "1\n",
      "493\n",
      "(478, 856, 3)\n",
      "1\n",
      "0\n",
      "(478, 856, 3)\n",
      "1\n",
      "116\n",
      "(478, 856, 3)\n",
      "1\n",
      "232\n",
      "(478, 856, 3)\n",
      "1\n"
     ]
    },
    {
     "name": "stderr",
     "output_type": "stream",
     "text": [
      "ERROR:root:An error occurred while processing faces: Given groups=1, weight of size [32, 3, 3, 3], expected input[1, 15, 160, 160] to have 3 channels, but got 15 channels instead\n",
      "INFO:root:Video length: 472 frames\n"
     ]
    },
    {
     "name": "stdout",
     "output_type": "stream",
     "text": [
      "348\n",
      "(478, 856, 3)\n",
      "1\n",
      "465\n",
      "(478, 856, 3)\n",
      "1\n",
      "0\n",
      "(500, 888, 3)\n",
      "1\n",
      "117\n",
      "(500, 888, 3)\n",
      "1\n",
      "235\n",
      "(500, 888, 3)\n",
      "1\n"
     ]
    },
    {
     "name": "stderr",
     "output_type": "stream",
     "text": [
      "ERROR:root:An error occurred while processing faces: Given groups=1, weight of size [32, 3, 3, 3], expected input[1, 15, 160, 160] to have 3 channels, but got 15 channels instead\n",
      "INFO:root:Video length: 449 frames\n"
     ]
    },
    {
     "name": "stdout",
     "output_type": "stream",
     "text": [
      "353\n",
      "(500, 888, 3)\n",
      "1\n",
      "471\n",
      "(500, 888, 3)\n",
      "1\n",
      "0\n",
      "(478, 856, 3)\n",
      "1\n",
      "112\n",
      "(478, 856, 3)\n",
      "1\n",
      "224\n",
      "(478, 856, 3)\n",
      "1\n"
     ]
    },
    {
     "name": "stderr",
     "output_type": "stream",
     "text": [
      "ERROR:root:An error occurred while processing faces: Given groups=1, weight of size [32, 3, 3, 3], expected input[1, 15, 160, 160] to have 3 channels, but got 15 channels instead\n",
      "INFO:root:Video length: 315 frames\n"
     ]
    },
    {
     "name": "stdout",
     "output_type": "stream",
     "text": [
      "336\n",
      "(478, 856, 3)\n",
      "1\n",
      "448\n",
      "(478, 856, 3)\n",
      "1\n",
      "0\n",
      "(474, 844, 3)\n",
      "1\n"
     ]
    },
    {
     "name": "stderr",
     "output_type": "stream",
     "text": [
      "ERROR:root:An error occurred while processing faces: Given groups=1, weight of size [32, 3, 3, 3], expected input[1, 15, 160, 160] to have 3 channels, but got 15 channels instead\n"
     ]
    },
    {
     "name": "stdout",
     "output_type": "stream",
     "text": [
      "78\n",
      "(474, 844, 3)\n",
      "1\n",
      "157\n",
      "(474, 844, 3)\n",
      "1\n",
      "235\n",
      "(474, 844, 3)\n",
      "1\n",
      "314\n",
      "(474, 844, 3)\n",
      "1\n"
     ]
    },
    {
     "name": "stderr",
     "output_type": "stream",
     "text": [
      "INFO:root:Video length: 458 frames\n",
      "ERROR:root:An error occurred while processing faces: Given groups=1, weight of size [32, 3, 3, 3], expected input[1, 15, 160, 160] to have 3 channels, but got 15 channels instead\n"
     ]
    },
    {
     "name": "stdout",
     "output_type": "stream",
     "text": [
      "0\n",
      "(500, 474, 3)\n",
      "1\n",
      "114\n",
      "(500, 474, 3)\n",
      "1\n",
      "228\n",
      "(500, 474, 3)\n",
      "1\n",
      "342\n",
      "(500, 474, 3)\n",
      "1\n",
      "457\n",
      "(500, 474, 3)\n",
      "1\n"
     ]
    },
    {
     "name": "stderr",
     "output_type": "stream",
     "text": [
      "INFO:root:Video length: 503 frames\n",
      "ERROR:root:An error occurred while processing faces: Given groups=1, weight of size [32, 3, 3, 3], expected input[1, 15, 160, 160] to have 3 channels, but got 15 channels instead\n"
     ]
    },
    {
     "name": "stdout",
     "output_type": "stream",
     "text": [
      "0\n",
      "(466, 848, 3)\n",
      "1\n",
      "125\n",
      "(466, 848, 3)\n",
      "1\n",
      "251\n",
      "(466, 848, 3)\n",
      "1\n",
      "376\n",
      "(466, 848, 3)\n",
      "1\n",
      "502\n",
      "(466, 848, 3)\n",
      "1\n"
     ]
    },
    {
     "name": "stderr",
     "output_type": "stream",
     "text": [
      "INFO:root:Video length: 314 frames\n"
     ]
    },
    {
     "name": "stdout",
     "output_type": "stream",
     "text": [
      "0\n",
      "(474, 844, 3)\n",
      "1\n",
      "78\n",
      "(474, 844, 3)\n",
      "1\n",
      "156\n",
      "(474, 844, 3)\n",
      "1\n",
      "234\n",
      "(474, 844, 3)\n",
      "1\n",
      "313\n",
      "(474, 844, 3)\n",
      "1\n"
     ]
    },
    {
     "name": "stderr",
     "output_type": "stream",
     "text": [
      "ERROR:root:An error occurred while processing faces: Given groups=1, weight of size [32, 3, 3, 3], expected input[1, 15, 160, 160] to have 3 channels, but got 15 channels instead\n",
      "INFO:root:Video length: 341 frames\n",
      "ERROR:root:An error occurred while processing faces: Given groups=1, weight of size [32, 3, 3, 3], expected input[1, 15, 160, 160] to have 3 channels, but got 15 channels instead\n"
     ]
    },
    {
     "name": "stdout",
     "output_type": "stream",
     "text": [
      "0\n",
      "(476, 856, 3)\n",
      "1\n",
      "85\n",
      "(476, 856, 3)\n",
      "1\n",
      "170\n",
      "(476, 856, 3)\n",
      "1\n",
      "255\n",
      "(476, 856, 3)\n",
      "1\n",
      "340\n",
      "(476, 856, 3)\n",
      "1\n"
     ]
    },
    {
     "name": "stderr",
     "output_type": "stream",
     "text": [
      "INFO:root:Video length: 490 frames\n"
     ]
    },
    {
     "name": "stdout",
     "output_type": "stream",
     "text": [
      "0\n",
      "(466, 848, 3)\n",
      "1\n",
      "122\n",
      "(466, 848, 3)\n",
      "1\n",
      "244\n",
      "(466, 848, 3)\n",
      "1\n",
      "366\n",
      "(466, 848, 3)\n",
      "1\n"
     ]
    },
    {
     "name": "stderr",
     "output_type": "stream",
     "text": [
      "ERROR:root:An error occurred while processing faces: Given groups=1, weight of size [32, 3, 3, 3], expected input[1, 15, 160, 160] to have 3 channels, but got 15 channels instead\n",
      "INFO:root:Video length: 261 frames\n"
     ]
    },
    {
     "name": "stdout",
     "output_type": "stream",
     "text": [
      "489\n",
      "(466, 848, 3)\n",
      "1\n",
      "0\n",
      "(478, 856, 3)\n",
      "1\n",
      "65\n",
      "(478, 856, 3)\n",
      "1\n",
      "130\n",
      "(478, 856, 3)\n",
      "1\n",
      "195\n",
      "(478, 856, 3)\n",
      "1\n",
      "260\n",
      "(478, 856, 3)\n",
      "1\n"
     ]
    },
    {
     "name": "stderr",
     "output_type": "stream",
     "text": [
      "ERROR:root:An error occurred while processing faces: Given groups=1, weight of size [32, 3, 3, 3], expected input[1, 15, 160, 160] to have 3 channels, but got 15 channels instead\n",
      "INFO:root:Video length: 457 frames\n"
     ]
    },
    {
     "name": "stdout",
     "output_type": "stream",
     "text": [
      "0\n",
      "(478, 856, 3)\n",
      "1\n",
      "114\n",
      "(478, 856, 3)\n",
      "1\n",
      "228\n",
      "(478, 856, 3)\n",
      "1\n",
      "342\n",
      "(478, 856, 3)\n",
      "1\n",
      "456\n",
      "(478, 856, 3)\n",
      "1\n"
     ]
    },
    {
     "name": "stderr",
     "output_type": "stream",
     "text": [
      "ERROR:root:An error occurred while processing faces: Given groups=1, weight of size [32, 3, 3, 3], expected input[1, 15, 160, 160] to have 3 channels, but got 15 channels instead\n",
      "INFO:root:Video length: 470 frames\n"
     ]
    },
    {
     "name": "stdout",
     "output_type": "stream",
     "text": [
      "0\n",
      "(500, 638, 3)\n",
      "1\n",
      "117\n",
      "(500, 638, 3)\n",
      "1\n",
      "234\n",
      "(500, 638, 3)\n",
      "1\n",
      "351\n",
      "(500, 638, 3)\n",
      "1\n",
      "469\n",
      "(500, 638, 3)\n",
      "1\n"
     ]
    },
    {
     "name": "stderr",
     "output_type": "stream",
     "text": [
      "ERROR:root:An error occurred while processing faces: Given groups=1, weight of size [32, 3, 3, 3], expected input[1, 15, 160, 160] to have 3 channels, but got 15 channels instead\n",
      "INFO:root:Video length: 470 frames\n"
     ]
    },
    {
     "name": "stdout",
     "output_type": "stream",
     "text": [
      "0\n",
      "(472, 850, 3)\n",
      "1\n",
      "117\n",
      "(472, 850, 3)\n",
      "1\n",
      "234\n",
      "(472, 850, 3)\n",
      "1\n",
      "351\n",
      "(472, 850, 3)\n",
      "1\n",
      "469\n",
      "(472, 850, 3)\n",
      "1\n"
     ]
    },
    {
     "name": "stderr",
     "output_type": "stream",
     "text": [
      "ERROR:root:An error occurred while processing faces: Given groups=1, weight of size [32, 3, 3, 3], expected input[1, 15, 160, 160] to have 3 channels, but got 15 channels instead\n",
      "INFO:root:Video length: 330 frames\n",
      "ERROR:root:An error occurred while processing faces: Given groups=1, weight of size [32, 3, 3, 3], expected input[1, 15, 160, 160] to have 3 channels, but got 15 channels instead\n",
      "INFO:root:Video length: 455 frames\n"
     ]
    },
    {
     "name": "stdout",
     "output_type": "stream",
     "text": [
      "0\n",
      "(436, 802, 3)\n",
      "1\n",
      "82\n",
      "(436, 802, 3)\n",
      "1\n",
      "164\n",
      "(436, 802, 3)\n",
      "1\n",
      "246\n",
      "(436, 802, 3)\n",
      "1\n",
      "329\n",
      "(436, 802, 3)\n",
      "1\n",
      "0\n",
      "(478, 856, 3)\n",
      "1\n"
     ]
    },
    {
     "name": "stderr",
     "output_type": "stream",
     "text": [
      "ERROR:root:An error occurred while processing faces: Given groups=1, weight of size [32, 3, 3, 3], expected input[1, 15, 160, 160] to have 3 channels, but got 15 channels instead\n",
      "INFO:root:Video length: 504 frames\n"
     ]
    },
    {
     "name": "stdout",
     "output_type": "stream",
     "text": [
      "113\n",
      "(478, 856, 3)\n",
      "1\n",
      "227\n",
      "(478, 856, 3)\n",
      "1\n",
      "340\n",
      "(478, 856, 3)\n",
      "1\n",
      "454\n",
      "(478, 856, 3)\n",
      "1\n",
      "0\n",
      "(472, 850, 3)\n",
      "1\n",
      "125\n",
      "(472, 850, 3)\n",
      "1\n",
      "251\n",
      "(472, 850, 3)\n",
      "1\n",
      "377\n",
      "(472, 850, 3)\n",
      "1\n",
      "503\n",
      "(472, 850, 3)\n",
      "1\n"
     ]
    },
    {
     "name": "stderr",
     "output_type": "stream",
     "text": [
      "ERROR:root:An error occurred while processing faces: Given groups=1, weight of size [32, 3, 3, 3], expected input[1, 15, 160, 160] to have 3 channels, but got 15 channels instead\n",
      "INFO:root:Video length: 228 frames\n"
     ]
    },
    {
     "name": "stdout",
     "output_type": "stream",
     "text": [
      "0\n",
      "(466, 848, 3)\n",
      "1\n",
      "56\n",
      "(466, 848, 3)\n",
      "1\n",
      "113\n",
      "(466, 848, 3)\n",
      "1\n",
      "170\n",
      "(466, 848, 3)\n",
      "1\n",
      "227\n",
      "(466, 848, 3)\n",
      "1\n"
     ]
    },
    {
     "name": "stderr",
     "output_type": "stream",
     "text": [
      "ERROR:root:An error occurred while processing faces: Given groups=1, weight of size [32, 3, 3, 3], expected input[1, 15, 160, 160] to have 3 channels, but got 15 channels instead\n",
      "INFO:root:Video length: 311 frames\n",
      "ERROR:root:An error occurred while processing faces: Given groups=1, weight of size [32, 3, 3, 3], expected input[1, 15, 160, 160] to have 3 channels, but got 15 channels instead\n",
      "INFO:root:Video length: 321 frames\n"
     ]
    },
    {
     "name": "stdout",
     "output_type": "stream",
     "text": [
      "0\n",
      "(500, 620, 3)\n",
      "1\n",
      "77\n",
      "(500, 620, 3)\n",
      "1\n",
      "155\n",
      "(500, 620, 3)\n",
      "1\n",
      "232\n",
      "(500, 620, 3)\n",
      "1\n",
      "310\n",
      "(500, 620, 3)\n",
      "1\n",
      "0\n",
      "(466, 848, 3)\n",
      "1\n",
      "80\n",
      "(466, 848, 3)\n",
      "1\n",
      "160\n",
      "(466, 848, 3)\n",
      "1\n",
      "240\n",
      "(466, 848, 3)\n",
      "1\n",
      "320\n",
      "(466, 848, 3)\n",
      "1\n"
     ]
    },
    {
     "name": "stderr",
     "output_type": "stream",
     "text": [
      "ERROR:root:An error occurred while processing faces: Given groups=1, weight of size [32, 3, 3, 3], expected input[1, 15, 160, 160] to have 3 channels, but got 15 channels instead\n",
      "INFO:root:Video length: 323 frames\n",
      "ERROR:root:An error occurred while processing faces: Given groups=1, weight of size [32, 3, 3, 3], expected input[1, 15, 160, 160] to have 3 channels, but got 15 channels instead\n"
     ]
    },
    {
     "name": "stdout",
     "output_type": "stream",
     "text": [
      "0\n",
      "(470, 836, 3)\n",
      "1\n",
      "80\n",
      "(470, 836, 3)\n",
      "1\n",
      "161\n",
      "(470, 836, 3)\n",
      "1\n",
      "241\n",
      "(470, 836, 3)\n",
      "1\n",
      "322\n",
      "(470, 836, 3)\n",
      "1\n"
     ]
    },
    {
     "name": "stderr",
     "output_type": "stream",
     "text": [
      "INFO:root:Video length: 497 frames\n"
     ]
    },
    {
     "name": "stdout",
     "output_type": "stream",
     "text": [
      "0\n",
      "(472, 850, 3)\n",
      "1\n",
      "124\n",
      "(472, 850, 3)\n",
      "1\n",
      "248\n",
      "(472, 850, 3)\n",
      "1\n"
     ]
    },
    {
     "name": "stderr",
     "output_type": "stream",
     "text": [
      "ERROR:root:An error occurred while processing faces: Given groups=1, weight of size [32, 3, 3, 3], expected input[1, 15, 160, 160] to have 3 channels, but got 15 channels instead\n",
      "INFO:root:Video length: 383 frames\n"
     ]
    },
    {
     "name": "stdout",
     "output_type": "stream",
     "text": [
      "372\n",
      "(472, 850, 3)\n",
      "1\n",
      "496\n",
      "(472, 850, 3)\n",
      "1\n",
      "0\n",
      "(478, 856, 3)\n",
      "1\n",
      "95\n",
      "(478, 856, 3)\n",
      "1\n",
      "191\n",
      "(478, 856, 3)\n",
      "1\n"
     ]
    },
    {
     "name": "stderr",
     "output_type": "stream",
     "text": [
      "ERROR:root:An error occurred while processing faces: Given groups=1, weight of size [32, 3, 3, 3], expected input[1, 15, 160, 160] to have 3 channels, but got 15 channels instead\n",
      "INFO:root:Video length: 456 frames\n"
     ]
    },
    {
     "name": "stdout",
     "output_type": "stream",
     "text": [
      "286\n",
      "(478, 856, 3)\n",
      "1\n",
      "382\n",
      "(478, 856, 3)\n",
      "1\n",
      "0\n",
      "(472, 850, 3)\n",
      "1\n",
      "113\n",
      "(472, 850, 3)\n",
      "1\n",
      "227\n",
      "(472, 850, 3)\n",
      "1\n",
      "341\n",
      "(472, 850, 3)\n"
     ]
    },
    {
     "name": "stderr",
     "output_type": "stream",
     "text": [
      "ERROR:root:An error occurred while processing faces: Given groups=1, weight of size [32, 3, 3, 3], expected input[1, 15, 160, 160] to have 3 channels, but got 15 channels instead\n",
      "INFO:root:Video length: 471 frames\n"
     ]
    },
    {
     "name": "stdout",
     "output_type": "stream",
     "text": [
      "1\n",
      "455\n",
      "(472, 850, 3)\n",
      "1\n",
      "0\n",
      "(500, 892, 3)\n",
      "1\n",
      "117\n",
      "(500, 892, 3)\n",
      "1\n",
      "235\n",
      "(500, 892, 3)\n",
      "1\n"
     ]
    },
    {
     "name": "stderr",
     "output_type": "stream",
     "text": [
      "ERROR:root:An error occurred while processing faces: Given groups=1, weight of size [32, 3, 3, 3], expected input[1, 15, 160, 160] to have 3 channels, but got 15 channels instead\n",
      "INFO:root:Video length: 502 frames\n"
     ]
    },
    {
     "name": "stdout",
     "output_type": "stream",
     "text": [
      "352\n",
      "(500, 892, 3)\n",
      "1\n",
      "470\n",
      "(500, 892, 3)\n",
      "1\n",
      "0\n",
      "(478, 856, 3)\n",
      "1\n",
      "125\n",
      "(478, 856, 3)\n",
      "1\n",
      "250\n",
      "(478, 856, 3)\n",
      "1\n"
     ]
    },
    {
     "name": "stderr",
     "output_type": "stream",
     "text": [
      "ERROR:root:An error occurred while processing faces: Given groups=1, weight of size [32, 3, 3, 3], expected input[1, 15, 160, 160] to have 3 channels, but got 15 channels instead\n",
      "INFO:root:Video length: 305 frames\n"
     ]
    },
    {
     "name": "stdout",
     "output_type": "stream",
     "text": [
      "375\n",
      "(478, 856, 3)\n",
      "1\n",
      "501\n",
      "(478, 856, 3)\n",
      "1\n",
      "0\n",
      "(478, 856, 3)\n",
      "1\n",
      "76\n",
      "(478, 856, 3)\n",
      "1\n",
      "152\n",
      "(478, 856, 3)\n",
      "1\n"
     ]
    },
    {
     "name": "stderr",
     "output_type": "stream",
     "text": [
      "ERROR:root:An error occurred while processing faces: Given groups=1, weight of size [32, 3, 3, 3], expected input[1, 15, 160, 160] to have 3 channels, but got 15 channels instead\n",
      "INFO:root:Video length: 317 frames\n"
     ]
    },
    {
     "name": "stdout",
     "output_type": "stream",
     "text": [
      "228\n",
      "(478, 856, 3)\n",
      "1\n",
      "304\n",
      "(478, 856, 3)\n",
      "1\n",
      "0\n",
      "(478, 852, 3)\n",
      "1\n",
      "79\n",
      "(478, 852, 3)\n",
      "1\n",
      "158\n",
      "(478, 852, 3)\n",
      "1\n"
     ]
    },
    {
     "name": "stderr",
     "output_type": "stream",
     "text": [
      "ERROR:root:An error occurred while processing faces: Given groups=1, weight of size [32, 3, 3, 3], expected input[1, 15, 160, 160] to have 3 channels, but got 15 channels instead\n",
      "INFO:root:Video length: 319 frames\n"
     ]
    },
    {
     "name": "stdout",
     "output_type": "stream",
     "text": [
      "237\n",
      "(478, 852, 3)\n",
      "1\n",
      "316\n",
      "(478, 852, 3)\n",
      "1\n",
      "0\n",
      "(500, 662, 3)\n",
      "1\n",
      "79\n",
      "(500, 662, 3)\n",
      "1\n"
     ]
    },
    {
     "name": "stderr",
     "output_type": "stream",
     "text": [
      "ERROR:root:An error occurred while processing faces: Given groups=1, weight of size [32, 3, 3, 3], expected input[1, 15, 160, 160] to have 3 channels, but got 15 channels instead\n",
      "INFO:root:Video length: 477 frames\n"
     ]
    },
    {
     "name": "stdout",
     "output_type": "stream",
     "text": [
      "159\n",
      "(500, 662, 3)\n",
      "1\n",
      "238\n",
      "(500, 662, 3)\n",
      "1\n",
      "318\n",
      "(500, 662, 3)\n",
      "1\n",
      "0\n",
      "(500, 892, 3)\n",
      "1\n",
      "119\n",
      "(500, 892, 3)\n",
      "1\n"
     ]
    },
    {
     "name": "stderr",
     "output_type": "stream",
     "text": [
      "ERROR:root:An error occurred while processing faces: Given groups=1, weight of size [32, 3, 3, 3], expected input[1, 15, 160, 160] to have 3 channels, but got 15 channels instead\n",
      "INFO:root:Video length: 470 frames\n"
     ]
    },
    {
     "name": "stdout",
     "output_type": "stream",
     "text": [
      "238\n",
      "(500, 892, 3)\n",
      "1\n",
      "357\n",
      "(500, 892, 3)\n",
      "1\n",
      "476\n",
      "(500, 892, 3)\n",
      "1\n",
      "0\n",
      "(500, 638, 3)\n",
      "1\n",
      "117\n",
      "(500, 638, 3)\n",
      "1\n"
     ]
    },
    {
     "name": "stderr",
     "output_type": "stream",
     "text": [
      "ERROR:root:An error occurred while processing faces: Given groups=1, weight of size [32, 3, 3, 3], expected input[1, 15, 160, 160] to have 3 channels, but got 15 channels instead\n",
      "INFO:root:Video length: 333 frames\n"
     ]
    },
    {
     "name": "stdout",
     "output_type": "stream",
     "text": [
      "234\n",
      "(500, 638, 3)\n",
      "1\n",
      "351\n",
      "(500, 638, 3)\n",
      "1\n",
      "469\n",
      "(500, 638, 3)\n",
      "1\n",
      "0\n",
      "(476, 846, 3)\n",
      "1\n",
      "83\n",
      "(476, 846, 3)\n",
      "1\n"
     ]
    },
    {
     "name": "stderr",
     "output_type": "stream",
     "text": [
      "ERROR:root:An error occurred while processing faces: Given groups=1, weight of size [32, 3, 3, 3], expected input[1, 15, 160, 160] to have 3 channels, but got 15 channels instead\n",
      "INFO:root:Video length: 497 frames\n"
     ]
    },
    {
     "name": "stdout",
     "output_type": "stream",
     "text": [
      "166\n",
      "(476, 846, 3)\n",
      "1\n",
      "249\n",
      "(476, 846, 3)\n",
      "1\n",
      "332\n",
      "(476, 846, 3)\n",
      "1\n",
      "0\n",
      "(500, 884, 3)\n",
      "1\n",
      "124\n",
      "(500, 884, 3)\n"
     ]
    },
    {
     "name": "stderr",
     "output_type": "stream",
     "text": [
      "ERROR:root:An error occurred while processing faces: Given groups=1, weight of size [32, 3, 3, 3], expected input[1, 15, 160, 160] to have 3 channels, but got 15 channels instead\n"
     ]
    },
    {
     "name": "stdout",
     "output_type": "stream",
     "text": [
      "1\n",
      "248\n",
      "(500, 884, 3)\n",
      "1\n",
      "372\n",
      "(500, 884, 3)\n",
      "1\n",
      "496\n",
      "(500, 884, 3)\n",
      "1\n"
     ]
    },
    {
     "name": "stderr",
     "output_type": "stream",
     "text": [
      "INFO:root:Video length: 316 frames\n"
     ]
    },
    {
     "name": "stdout",
     "output_type": "stream",
     "text": [
      "0\n",
      "(500, 662, 3)\n",
      "1\n",
      "78\n",
      "(500, 662, 3)\n",
      "1\n",
      "157\n",
      "(500, 662, 3)\n",
      "1\n",
      "236\n",
      "(500, 662, 3)\n",
      "1\n",
      "315\n",
      "(500, 662, 3)\n",
      "1\n"
     ]
    },
    {
     "name": "stderr",
     "output_type": "stream",
     "text": [
      "ERROR:root:An error occurred while processing faces: Given groups=1, weight of size [32, 3, 3, 3], expected input[1, 15, 160, 160] to have 3 channels, but got 15 channels instead\n",
      "INFO:root:Video length: 342 frames\n"
     ]
    },
    {
     "name": "stdout",
     "output_type": "stream",
     "text": [
      "0\n",
      "(456, 694, 3)\n",
      "1\n",
      "85\n",
      "(456, 694, 3)\n",
      "1\n",
      "170\n",
      "(456, 694, 3)\n",
      "1\n",
      "255\n",
      "(456, 694, 3)\n",
      "1\n"
     ]
    },
    {
     "name": "stderr",
     "output_type": "stream",
     "text": [
      "ERROR:root:An error occurred while processing faces: Given groups=1, weight of size [32, 3, 3, 3], expected input[1, 15, 160, 160] to have 3 channels, but got 15 channels instead\n",
      "INFO:root:Video length: 361 frames\n"
     ]
    },
    {
     "name": "stdout",
     "output_type": "stream",
     "text": [
      "341\n",
      "(456, 694, 3)\n",
      "1\n",
      "0\n",
      "(500, 588, 3)\n",
      "1\n",
      "90\n",
      "(500, 588, 3)\n",
      "1\n",
      "180\n",
      "(500, 588, 3)\n",
      "1\n",
      "270\n",
      "(500, 588, 3)\n",
      "1\n"
     ]
    },
    {
     "name": "stderr",
     "output_type": "stream",
     "text": [
      "ERROR:root:An error occurred while processing faces: Given groups=1, weight of size [32, 3, 3, 3], expected input[1, 15, 160, 160] to have 3 channels, but got 15 channels instead\n",
      "INFO:root:Video length: 497 frames\n"
     ]
    },
    {
     "name": "stdout",
     "output_type": "stream",
     "text": [
      "360\n",
      "(500, 588, 3)\n",
      "1\n",
      "0\n",
      "(472, 850, 3)\n",
      "1\n",
      "124\n",
      "(472, 850, 3)\n",
      "1\n",
      "248\n",
      "(472, 850, 3)\n",
      "1\n",
      "372\n",
      "(472, 850, 3)\n",
      "1\n"
     ]
    },
    {
     "name": "stderr",
     "output_type": "stream",
     "text": [
      "ERROR:root:An error occurred while processing faces: Given groups=1, weight of size [32, 3, 3, 3], expected input[1, 15, 160, 160] to have 3 channels, but got 15 channels instead\n",
      "INFO:root:Video length: 477 frames\n"
     ]
    },
    {
     "name": "stdout",
     "output_type": "stream",
     "text": [
      "496\n",
      "(472, 850, 3)\n",
      "1\n",
      "0\n",
      "(500, 888, 3)\n",
      "1\n",
      "119\n",
      "(500, 888, 3)\n",
      "1\n",
      "238\n",
      "(500, 888, 3)\n",
      "1\n"
     ]
    },
    {
     "name": "stderr",
     "output_type": "stream",
     "text": [
      "ERROR:root:An error occurred while processing faces: Given groups=1, weight of size [32, 3, 3, 3], expected input[1, 15, 160, 160] to have 3 channels, but got 15 channels instead\n",
      "INFO:root:Video length: 319 frames\n"
     ]
    },
    {
     "name": "stdout",
     "output_type": "stream",
     "text": [
      "357\n",
      "(500, 888, 3)\n",
      "1\n",
      "476\n",
      "(500, 888, 3)\n",
      "1\n",
      "0\n",
      "(476, 846, 3)\n",
      "1\n",
      "79\n",
      "(476, 846, 3)\n",
      "1\n"
     ]
    },
    {
     "name": "stderr",
     "output_type": "stream",
     "text": [
      "ERROR:root:An error occurred while processing faces: Given groups=1, weight of size [32, 3, 3, 3], expected input[1, 15, 160, 160] to have 3 channels, but got 15 channels instead\n",
      "INFO:root:Video length: 317 frames\n"
     ]
    },
    {
     "name": "stdout",
     "output_type": "stream",
     "text": [
      "159\n",
      "(476, 846, 3)\n",
      "1\n",
      "238\n",
      "(476, 846, 3)\n",
      "1\n",
      "318\n",
      "(476, 846, 3)\n",
      "1\n",
      "0\n",
      "(500, 950, 3)\n",
      "1\n",
      "79\n",
      "(500, 950, 3)\n",
      "1\n"
     ]
    },
    {
     "name": "stderr",
     "output_type": "stream",
     "text": [
      "ERROR:root:An error occurred while processing faces: Given groups=1, weight of size [32, 3, 3, 3], expected input[1, 15, 160, 160] to have 3 channels, but got 15 channels instead\n",
      "INFO:root:Video length: 321 frames\n"
     ]
    },
    {
     "name": "stdout",
     "output_type": "stream",
     "text": [
      "158\n",
      "(500, 950, 3)\n",
      "1\n",
      "237\n",
      "(500, 950, 3)\n",
      "1\n",
      "316\n",
      "(500, 950, 3)\n",
      "1\n",
      "0\n",
      "(406, 840, 3)\n",
      "1\n",
      "80\n",
      "(406, 840, 3)\n",
      "1\n",
      "160\n",
      "(406, 840, 3)\n",
      "1\n",
      "240\n",
      "(406, 840, 3)\n",
      "1\n",
      "320\n",
      "(406, 840, 3)\n",
      "1\n"
     ]
    },
    {
     "name": "stderr",
     "output_type": "stream",
     "text": [
      "ERROR:root:An error occurred while processing faces: Given groups=1, weight of size [32, 3, 3, 3], expected input[1, 15, 160, 160] to have 3 channels, but got 15 channels instead\n",
      "INFO:root:Video length: 317 frames\n"
     ]
    },
    {
     "name": "stdout",
     "output_type": "stream",
     "text": [
      "0\n",
      "(478, 848, 3)\n",
      "1\n",
      "79\n",
      "(478, 848, 3)\n",
      "1\n",
      "158\n",
      "(478, 848, 3)\n",
      "1\n",
      "237\n",
      "(478, 848, 3)\n",
      "1\n"
     ]
    },
    {
     "name": "stderr",
     "output_type": "stream",
     "text": [
      "ERROR:root:An error occurred while processing faces: Given groups=1, weight of size [32, 3, 3, 3], expected input[1, 15, 160, 160] to have 3 channels, but got 15 channels instead\n",
      "INFO:root:Video length: 315 frames\n"
     ]
    },
    {
     "name": "stdout",
     "output_type": "stream",
     "text": [
      "316\n",
      "(478, 848, 3)\n",
      "1\n",
      "0\n",
      "(476, 856, 3)\n",
      "1\n",
      "78\n",
      "(476, 856, 3)\n",
      "1\n",
      "157\n",
      "(476, 856, 3)\n",
      "1\n",
      "235\n",
      "(476, 856, 3)\n",
      "1\n"
     ]
    },
    {
     "name": "stderr",
     "output_type": "stream",
     "text": [
      "ERROR:root:An error occurred while processing faces: Given groups=1, weight of size [32, 3, 3, 3], expected input[1, 15, 160, 160] to have 3 channels, but got 15 channels instead\n",
      "INFO:root:Video length: 332 frames\n"
     ]
    },
    {
     "name": "stdout",
     "output_type": "stream",
     "text": [
      "314\n",
      "(476, 856, 3)\n",
      "1\n",
      "0\n",
      "(474, 846, 3)\n",
      "1\n",
      "82\n",
      "(474, 846, 3)\n",
      "1\n",
      "165\n",
      "(474, 846, 3)\n",
      "1\n",
      "248\n",
      "(474, 846, 3)\n",
      "1\n"
     ]
    },
    {
     "name": "stderr",
     "output_type": "stream",
     "text": [
      "ERROR:root:An error occurred while processing faces: Given groups=1, weight of size [32, 3, 3, 3], expected input[1, 15, 160, 160] to have 3 channels, but got 15 channels instead\n",
      "INFO:root:Video length: 247 frames\n"
     ]
    },
    {
     "name": "stdout",
     "output_type": "stream",
     "text": [
      "331\n",
      "(474, 846, 3)\n",
      "1\n",
      "0\n",
      "(440, 612, 3)\n",
      "1\n",
      "61\n",
      "(440, 612, 3)\n",
      "1\n",
      "123\n",
      "(440, 612, 3)\n",
      "1\n",
      "184\n",
      "(440, 612, 3)\n",
      "1\n",
      "246\n",
      "(440, 612, 3)\n",
      "1\n"
     ]
    },
    {
     "name": "stderr",
     "output_type": "stream",
     "text": [
      "ERROR:root:An error occurred while processing faces: Given groups=1, weight of size [32, 3, 3, 3], expected input[1, 15, 160, 160] to have 3 channels, but got 15 channels instead\n",
      "INFO:root:Video length: 335 frames\n",
      "ERROR:root:An error occurred while processing faces: Given groups=1, weight of size [32, 3, 3, 3], expected input[1, 15, 160, 160] to have 3 channels, but got 15 channels instead\n"
     ]
    },
    {
     "name": "stdout",
     "output_type": "stream",
     "text": [
      "0\n",
      "(438, 750, 3)\n",
      "1\n",
      "83\n",
      "(438, 750, 3)\n",
      "1\n",
      "167\n",
      "(438, 750, 3)\n",
      "1\n",
      "250\n",
      "(438, 750, 3)\n",
      "1\n",
      "334\n",
      "(438, 750, 3)\n",
      "1\n"
     ]
    },
    {
     "name": "stderr",
     "output_type": "stream",
     "text": [
      "INFO:root:Video length: 337 frames\n",
      "ERROR:root:An error occurred while processing faces: Given groups=1, weight of size [32, 3, 3, 3], expected input[1, 15, 160, 160] to have 3 channels, but got 15 channels instead\n"
     ]
    },
    {
     "name": "stdout",
     "output_type": "stream",
     "text": [
      "0\n",
      "(452, 844, 3)\n",
      "1\n",
      "84\n",
      "(452, 844, 3)\n",
      "1\n",
      "168\n",
      "(452, 844, 3)\n",
      "1\n",
      "252\n",
      "(452, 844, 3)\n",
      "1\n",
      "336\n",
      "(452, 844, 3)\n",
      "1\n"
     ]
    },
    {
     "name": "stderr",
     "output_type": "stream",
     "text": [
      "INFO:root:Video length: 497 frames\n"
     ]
    },
    {
     "name": "stdout",
     "output_type": "stream",
     "text": [
      "0\n",
      "(472, 850, 3)\n",
      "1\n",
      "124\n",
      "(472, 850, 3)\n",
      "1\n",
      "248\n",
      "(472, 850, 3)\n",
      "1\n",
      "372\n",
      "(472, 850, 3)\n",
      "1\n",
      "496\n"
     ]
    },
    {
     "name": "stderr",
     "output_type": "stream",
     "text": [
      "ERROR:root:An error occurred while processing faces: Given groups=1, weight of size [32, 3, 3, 3], expected input[1, 15, 160, 160] to have 3 channels, but got 15 channels instead\n",
      "INFO:root:Video length: 397 frames\n"
     ]
    },
    {
     "name": "stdout",
     "output_type": "stream",
     "text": [
      "(472, 850, 3)\n",
      "1\n",
      "0\n",
      "(500, 950, 3)\n",
      "1\n",
      "99\n",
      "(500, 950, 3)\n",
      "1\n",
      "198\n",
      "(500, 950, 3)\n",
      "1\n",
      "297\n",
      "(500, 950, 3)\n"
     ]
    },
    {
     "name": "stderr",
     "output_type": "stream",
     "text": [
      "ERROR:root:An error occurred while processing faces: Given groups=1, weight of size [32, 3, 3, 3], expected input[1, 15, 160, 160] to have 3 channels, but got 15 channels instead\n",
      "INFO:root:Video length: 477 frames\n"
     ]
    },
    {
     "name": "stdout",
     "output_type": "stream",
     "text": [
      "1\n",
      "396\n",
      "(500, 950, 3)\n",
      "1\n",
      "0\n",
      "(500, 942, 3)\n",
      "1\n",
      "119\n",
      "(500, 942, 3)\n",
      "1\n"
     ]
    },
    {
     "name": "stderr",
     "output_type": "stream",
     "text": [
      "ERROR:root:An error occurred while processing faces: Given groups=1, weight of size [32, 3, 3, 3], expected input[1, 15, 160, 160] to have 3 channels, but got 15 channels instead\n",
      "INFO:root:Video length: 283 frames\n"
     ]
    },
    {
     "name": "stdout",
     "output_type": "stream",
     "text": [
      "238\n",
      "(500, 942, 3)\n",
      "1\n",
      "357\n",
      "(500, 942, 3)\n",
      "1\n",
      "476\n",
      "(500, 942, 3)\n",
      "1\n",
      "0\n",
      "(476, 846, 3)\n",
      "1\n"
     ]
    },
    {
     "name": "stderr",
     "output_type": "stream",
     "text": [
      "ERROR:root:An error occurred while processing faces: Given groups=1, weight of size [32, 3, 3, 3], expected input[1, 15, 160, 160] to have 3 channels, but got 15 channels instead\n"
     ]
    },
    {
     "name": "stdout",
     "output_type": "stream",
     "text": [
      "70\n",
      "(476, 846, 3)\n",
      "1\n",
      "141\n",
      "(476, 846, 3)\n",
      "1\n",
      "211\n",
      "(476, 846, 3)\n",
      "1\n",
      "282\n",
      "(476, 846, 3)\n",
      "1\n"
     ]
    },
    {
     "name": "stderr",
     "output_type": "stream",
     "text": [
      "INFO:root:Video length: 381 frames\n"
     ]
    },
    {
     "name": "stdout",
     "output_type": "stream",
     "text": [
      "0\n",
      "(500, 944, 3)\n",
      "1\n",
      "95\n",
      "(500, 944, 3)\n",
      "1\n",
      "190\n",
      "(500, 944, 3)\n",
      "1\n",
      "285\n",
      "(500, 944, 3)\n",
      "1\n",
      "380\n",
      "(500, 944, 3)\n",
      "1\n"
     ]
    },
    {
     "name": "stderr",
     "output_type": "stream",
     "text": [
      "ERROR:root:An error occurred while processing faces: Given groups=1, weight of size [32, 3, 3, 3], expected input[1, 15, 160, 160] to have 3 channels, but got 15 channels instead\n",
      "INFO:root:Video length: 516 frames\n"
     ]
    },
    {
     "name": "stdout",
     "output_type": "stream",
     "text": [
      "0\n",
      "(466, 848, 3)\n",
      "1\n",
      "128\n",
      "(466, 848, 3)\n",
      "1\n",
      "257\n",
      "(466, 848, 3)\n",
      "1\n",
      "386\n",
      "(466, 848, 3)\n",
      "1\n",
      "515\n",
      "(466, 848, 3)\n",
      "1\n"
     ]
    },
    {
     "name": "stderr",
     "output_type": "stream",
     "text": [
      "ERROR:root:An error occurred while processing faces: Given groups=1, weight of size [32, 3, 3, 3], expected input[1, 15, 160, 160] to have 3 channels, but got 15 channels instead\n",
      "INFO:root:Video length: 315 frames\n",
      "ERROR:root:An error occurred while processing faces: Given groups=1, weight of size [32, 3, 3, 3], expected input[1, 15, 160, 160] to have 3 channels, but got 15 channels instead\n"
     ]
    },
    {
     "name": "stdout",
     "output_type": "stream",
     "text": [
      "0\n",
      "(500, 532, 3)\n",
      "1\n",
      "78\n",
      "(500, 532, 3)\n",
      "1\n",
      "157\n",
      "(500, 532, 3)\n",
      "1\n",
      "235\n",
      "(500, 532, 3)\n",
      "1\n",
      "314\n",
      "(500, 532, 3)\n",
      "1\n"
     ]
    },
    {
     "name": "stderr",
     "output_type": "stream",
     "text": [
      "INFO:root:Video length: 376 frames\n"
     ]
    },
    {
     "name": "stdout",
     "output_type": "stream",
     "text": [
      "0\n",
      "(466, 848, 3)\n",
      "1\n",
      "93\n",
      "(466, 848, 3)\n",
      "1\n",
      "187\n",
      "(466, 848, 3)\n",
      "1\n",
      "281\n",
      "(466, 848, 3)\n",
      "1\n"
     ]
    },
    {
     "name": "stderr",
     "output_type": "stream",
     "text": [
      "ERROR:root:An error occurred while processing faces: Given groups=1, weight of size [32, 3, 3, 3], expected input[1, 15, 160, 160] to have 3 channels, but got 15 channels instead\n",
      "INFO:root:Video length: 359 frames\n"
     ]
    },
    {
     "name": "stdout",
     "output_type": "stream",
     "text": [
      "375\n",
      "(466, 848, 3)\n",
      "1\n",
      "0\n",
      "(456, 812, 3)\n",
      "1\n",
      "89\n",
      "(456, 812, 3)\n",
      "1\n",
      "179\n",
      "(456, 812, 3)\n",
      "1\n",
      "268\n",
      "(456, 812, 3)\n",
      "1\n",
      "358\n",
      "(456, 812, 3)\n",
      "1\n"
     ]
    },
    {
     "name": "stderr",
     "output_type": "stream",
     "text": [
      "ERROR:root:An error occurred while processing faces: Given groups=1, weight of size [32, 3, 3, 3], expected input[1, 15, 160, 160] to have 3 channels, but got 15 channels instead\n",
      "INFO:root:Video length: 441 frames\n"
     ]
    },
    {
     "name": "stdout",
     "output_type": "stream",
     "text": [
      "0\n",
      "(466, 848, 3)\n",
      "1\n",
      "110\n",
      "(466, 848, 3)\n",
      "1\n",
      "220\n",
      "(466, 848, 3)\n",
      "1\n",
      "330\n",
      "(466, 848, 3)\n",
      "1\n",
      "440\n",
      "(466, 848, 3)\n",
      "1\n"
     ]
    },
    {
     "name": "stderr",
     "output_type": "stream",
     "text": [
      "ERROR:root:An error occurred while processing faces: Given groups=1, weight of size [32, 3, 3, 3], expected input[1, 15, 160, 160] to have 3 channels, but got 15 channels instead\n",
      "INFO:root:Video length: 312 frames\n"
     ]
    },
    {
     "name": "stdout",
     "output_type": "stream",
     "text": [
      "0\n",
      "(472, 848, 3)\n",
      "1\n",
      "77\n",
      "(472, 848, 3)\n",
      "1\n",
      "155\n",
      "(472, 848, 3)\n",
      "1\n",
      "233\n",
      "(472, 848, 3)\n",
      "1\n",
      "311\n",
      "(472, 848, 3)\n",
      "1\n"
     ]
    },
    {
     "name": "stderr",
     "output_type": "stream",
     "text": [
      "ERROR:root:An error occurred while processing faces: Given groups=1, weight of size [32, 3, 3, 3], expected input[1, 15, 160, 160] to have 3 channels, but got 15 channels instead\n",
      "INFO:root:Video length: 315 frames\n"
     ]
    },
    {
     "name": "stdout",
     "output_type": "stream",
     "text": [
      "0\n",
      "(500, 950, 3)\n",
      "1\n",
      "78\n",
      "(500, 950, 3)\n",
      "1\n",
      "157\n",
      "(500, 950, 3)\n",
      "1\n",
      "235\n",
      "(500, 950, 3)\n",
      "1\n"
     ]
    },
    {
     "name": "stderr",
     "output_type": "stream",
     "text": [
      "ERROR:root:An error occurred while processing faces: Given groups=1, weight of size [32, 3, 3, 3], expected input[1, 15, 160, 160] to have 3 channels, but got 15 channels instead\n",
      "INFO:root:Video length: 327 frames\n"
     ]
    },
    {
     "name": "stdout",
     "output_type": "stream",
     "text": [
      "314\n",
      "(500, 950, 3)\n",
      "1\n",
      "0\n",
      "(472, 848, 3)\n",
      "1\n",
      "81\n",
      "(472, 848, 3)\n",
      "1\n",
      "163\n",
      "(472, 848, 3)\n",
      "1\n"
     ]
    },
    {
     "name": "stderr",
     "output_type": "stream",
     "text": [
      "ERROR:root:An error occurred while processing faces: Given groups=1, weight of size [32, 3, 3, 3], expected input[1, 15, 160, 160] to have 3 channels, but got 15 channels instead\n",
      "INFO:root:Video length: 307 frames\n"
     ]
    },
    {
     "name": "stdout",
     "output_type": "stream",
     "text": [
      "244\n",
      "(472, 848, 3)\n",
      "1\n",
      "326\n",
      "(472, 848, 3)\n",
      "1\n",
      "0\n",
      "(500, 616, 3)\n",
      "1\n",
      "76\n",
      "(500, 616, 3)\n",
      "1\n",
      "153\n",
      "(500, 616, 3)\n",
      "1\n"
     ]
    },
    {
     "name": "stderr",
     "output_type": "stream",
     "text": [
      "ERROR:root:An error occurred while processing faces: Given groups=1, weight of size [32, 3, 3, 3], expected input[1, 15, 160, 160] to have 3 channels, but got 15 channels instead\n",
      "INFO:root:Video length: 317 frames\n"
     ]
    },
    {
     "name": "stdout",
     "output_type": "stream",
     "text": [
      "229\n",
      "(500, 616, 3)\n",
      "1\n",
      "306\n",
      "(500, 616, 3)\n",
      "1\n",
      "0\n",
      "(478, 848, 3)\n",
      "1\n",
      "79\n",
      "(478, 848, 3)\n",
      "1\n",
      "158\n",
      "(478, 848, 3)\n",
      "1\n"
     ]
    },
    {
     "name": "stderr",
     "output_type": "stream",
     "text": [
      "ERROR:root:An error occurred while processing faces: Given groups=1, weight of size [32, 3, 3, 3], expected input[1, 15, 160, 160] to have 3 channels, but got 15 channels instead\n",
      "INFO:root:Video length: 257 frames\n"
     ]
    },
    {
     "name": "stdout",
     "output_type": "stream",
     "text": [
      "237\n",
      "(478, 848, 3)\n",
      "1\n",
      "316\n",
      "(478, 848, 3)\n",
      "1\n",
      "0\n",
      "(472, 848, 3)\n",
      "1\n",
      "64\n",
      "(472, 848, 3)\n",
      "1\n",
      "128\n",
      "(472, 848, 3)\n",
      "1\n"
     ]
    },
    {
     "name": "stderr",
     "output_type": "stream",
     "text": [
      "ERROR:root:An error occurred while processing faces: Given groups=1, weight of size [32, 3, 3, 3], expected input[1, 15, 160, 160] to have 3 channels, but got 15 channels instead\n",
      "INFO:root:Video length: 508 frames\n"
     ]
    },
    {
     "name": "stdout",
     "output_type": "stream",
     "text": [
      "192\n",
      "(472, 848, 3)\n",
      "1\n",
      "256\n",
      "(472, 848, 3)\n",
      "1\n",
      "0\n",
      "(466, 848, 3)\n",
      "1\n",
      "126\n",
      "(466, 848, 3)\n",
      "1\n",
      "253\n",
      "(466, 848, 3)\n",
      "1\n"
     ]
    },
    {
     "name": "stderr",
     "output_type": "stream",
     "text": [
      "ERROR:root:An error occurred while processing faces: Given groups=1, weight of size [32, 3, 3, 3], expected input[1, 15, 160, 160] to have 3 channels, but got 15 channels instead\n",
      "INFO:root:Video length: 350 frames\n"
     ]
    },
    {
     "name": "stdout",
     "output_type": "stream",
     "text": [
      "380\n",
      "(466, 848, 3)\n",
      "1\n",
      "507\n",
      "(466, 848, 3)\n",
      "1\n",
      "0\n",
      "(472, 848, 3)\n",
      "1\n",
      "87\n",
      "(472, 848, 3)\n",
      "1\n",
      "174\n",
      "(472, 848, 3)\n",
      "1\n"
     ]
    },
    {
     "name": "stderr",
     "output_type": "stream",
     "text": [
      "ERROR:root:An error occurred while processing faces: Given groups=1, weight of size [32, 3, 3, 3], expected input[1, 15, 160, 160] to have 3 channels, but got 15 channels instead\n",
      "INFO:root:Video length: 201 frames\n"
     ]
    },
    {
     "name": "stdout",
     "output_type": "stream",
     "text": [
      "261\n",
      "(472, 848, 3)\n",
      "1\n",
      "349\n",
      "(472, 848, 3)\n",
      "1\n",
      "0\n",
      "(500, 894, 3)\n",
      "1\n",
      "50\n",
      "(500, 894, 3)\n",
      "1\n",
      "100\n",
      "(500, 894, 3)\n",
      "1\n",
      "150\n"
     ]
    },
    {
     "name": "stderr",
     "output_type": "stream",
     "text": [
      "ERROR:root:An error occurred while processing faces: Given groups=1, weight of size [32, 3, 3, 3], expected input[1, 15, 160, 160] to have 3 channels, but got 15 channels instead\n",
      "INFO:root:Video length: 470 frames\n"
     ]
    },
    {
     "name": "stdout",
     "output_type": "stream",
     "text": [
      "(500, 894, 3)\n",
      "1\n",
      "200\n",
      "(500, 894, 3)\n",
      "1\n",
      "0\n",
      "(500, 638, 3)\n",
      "1\n",
      "117\n",
      "(500, 638, 3)\n",
      "1\n",
      "234\n",
      "(500, 638, 3)\n",
      "1\n"
     ]
    },
    {
     "name": "stderr",
     "output_type": "stream",
     "text": [
      "ERROR:root:An error occurred while processing faces: Given groups=1, weight of size [32, 3, 3, 3], expected input[1, 15, 160, 160] to have 3 channels, but got 15 channels instead\n",
      "INFO:root:Video length: 355 frames\n"
     ]
    },
    {
     "name": "stdout",
     "output_type": "stream",
     "text": [
      "351\n",
      "(500, 638, 3)\n",
      "1\n",
      "469\n",
      "(500, 638, 3)\n",
      "1\n",
      "0\n",
      "(472, 848, 3)\n",
      "1\n",
      "88\n",
      "(472, 848, 3)\n",
      "1\n"
     ]
    },
    {
     "name": "stderr",
     "output_type": "stream",
     "text": [
      "ERROR:root:An error occurred while processing faces: Given groups=1, weight of size [32, 3, 3, 3], expected input[1, 15, 160, 160] to have 3 channels, but got 15 channels instead\n",
      "INFO:root:Video length: 490 frames\n"
     ]
    },
    {
     "name": "stdout",
     "output_type": "stream",
     "text": [
      "177\n",
      "(472, 848, 3)\n",
      "1\n",
      "265\n",
      "(472, 848, 3)\n",
      "1\n",
      "354\n",
      "(472, 848, 3)\n",
      "1\n",
      "0\n",
      "(466, 848, 3)\n",
      "1\n",
      "122\n",
      "(466, 848, 3)\n",
      "1\n",
      "244\n",
      "(466, 848, 3)\n",
      "1\n",
      "366\n",
      "(466, 848, 3)\n",
      "1\n",
      "489\n",
      "(466, 848, 3)\n",
      "1\n"
     ]
    },
    {
     "name": "stderr",
     "output_type": "stream",
     "text": [
      "ERROR:root:An error occurred while processing faces: Given groups=1, weight of size [32, 3, 3, 3], expected input[1, 15, 160, 160] to have 3 channels, but got 15 channels instead\n",
      "INFO:root:Video length: 435 frames\n"
     ]
    },
    {
     "name": "stdout",
     "output_type": "stream",
     "text": [
      "0\n",
      "(500, 892, 3)\n",
      "1\n",
      "108\n",
      "(500, 892, 3)\n",
      "1\n",
      "217\n",
      "(500, 892, 3)\n",
      "1\n",
      "325\n",
      "(500, 892, 3)\n",
      "1\n",
      "434\n",
      "(500, 892, 3)\n",
      "1\n"
     ]
    },
    {
     "name": "stderr",
     "output_type": "stream",
     "text": [
      "ERROR:root:An error occurred while processing faces: Given groups=1, weight of size [32, 3, 3, 3], expected input[1, 15, 160, 160] to have 3 channels, but got 15 channels instead\n",
      "INFO:root:Video length: 322 frames\n"
     ]
    },
    {
     "name": "stdout",
     "output_type": "stream",
     "text": [
      "0\n",
      "(500, 958, 3)\n",
      "1\n",
      "80\n",
      "(500, 958, 3)\n",
      "1\n",
      "160\n",
      "(500, 958, 3)\n",
      "1\n",
      "240\n",
      "(500, 958, 3)\n",
      "1\n"
     ]
    },
    {
     "name": "stderr",
     "output_type": "stream",
     "text": [
      "ERROR:root:An error occurred while processing faces: Given groups=1, weight of size [32, 3, 3, 3], expected input[1, 15, 160, 160] to have 3 channels, but got 15 channels instead\n",
      "INFO:root:Video length: 334 frames\n"
     ]
    },
    {
     "name": "stdout",
     "output_type": "stream",
     "text": [
      "321\n",
      "(500, 958, 3)\n",
      "1\n",
      "0\n",
      "(500, 666, 3)\n",
      "1\n",
      "83\n",
      "(500, 666, 3)\n",
      "1\n",
      "166\n",
      "(500, 666, 3)\n",
      "1\n",
      "249\n",
      "(500, 666, 3)\n",
      "1\n"
     ]
    },
    {
     "name": "stderr",
     "output_type": "stream",
     "text": [
      "ERROR:root:An error occurred while processing faces: Given groups=1, weight of size [32, 3, 3, 3], expected input[1, 15, 160, 160] to have 3 channels, but got 15 channels instead\n",
      "INFO:root:Video length: 376 frames\n"
     ]
    },
    {
     "name": "stdout",
     "output_type": "stream",
     "text": [
      "333\n",
      "(500, 666, 3)\n",
      "1\n",
      "0\n",
      "(500, 608, 3)\n",
      "1\n",
      "93\n",
      "(500, 608, 3)\n",
      "1\n",
      "187\n",
      "(500, 608, 3)\n",
      "1\n",
      "281\n",
      "(500, 608, 3)\n",
      "1\n",
      "375\n",
      "(500, 608, 3)\n",
      "1\n"
     ]
    },
    {
     "name": "stderr",
     "output_type": "stream",
     "text": [
      "ERROR:root:An error occurred while processing faces: Given groups=1, weight of size [32, 3, 3, 3], expected input[1, 15, 160, 160] to have 3 channels, but got 15 channels instead\n",
      "INFO:root:Video length: 357 frames\n"
     ]
    },
    {
     "name": "stdout",
     "output_type": "stream",
     "text": [
      "0\n",
      "(500, 966, 3)\n",
      "1\n",
      "89\n",
      "(500, 966, 3)\n",
      "1\n",
      "178\n",
      "(500, 966, 3)\n",
      "1\n",
      "267\n",
      "(500, 966, 3)\n",
      "1\n",
      "356\n",
      "(500, 966, 3)\n"
     ]
    },
    {
     "name": "stderr",
     "output_type": "stream",
     "text": [
      "ERROR:root:An error occurred while processing faces: Given groups=1, weight of size [32, 3, 3, 3], expected input[1, 15, 160, 160] to have 3 channels, but got 15 channels instead\n",
      "INFO:root:Video length: 228 frames\n"
     ]
    },
    {
     "name": "stdout",
     "output_type": "stream",
     "text": [
      "1\n",
      "0\n",
      "(466, 848, 3)\n",
      "1\n",
      "56\n",
      "(466, 848, 3)\n",
      "1\n",
      "113\n",
      "(466, 848, 3)\n",
      "1\n"
     ]
    },
    {
     "name": "stderr",
     "output_type": "stream",
     "text": [
      "ERROR:root:An error occurred while processing faces: Given groups=1, weight of size [32, 3, 3, 3], expected input[1, 15, 160, 160] to have 3 channels, but got 15 channels instead\n",
      "INFO:root:Video length: 302 frames\n"
     ]
    },
    {
     "name": "stdout",
     "output_type": "stream",
     "text": [
      "170\n",
      "(466, 848, 3)\n",
      "1\n",
      "227\n",
      "(466, 848, 3)\n",
      "1\n",
      "0\n",
      "(478, 856, 3)\n",
      "1\n",
      "75\n",
      "(478, 856, 3)\n",
      "1\n"
     ]
    },
    {
     "name": "stderr",
     "output_type": "stream",
     "text": [
      "ERROR:root:An error occurred while processing faces: Given groups=1, weight of size [32, 3, 3, 3], expected input[1, 15, 160, 160] to have 3 channels, but got 15 channels instead\n",
      "INFO:root:Video length: 351 frames\n"
     ]
    },
    {
     "name": "stdout",
     "output_type": "stream",
     "text": [
      "150\n",
      "(478, 856, 3)\n",
      "1\n",
      "225\n",
      "(478, 856, 3)\n",
      "1\n",
      "301\n",
      "(478, 856, 3)\n",
      "1\n",
      "0\n",
      "(478, 856, 3)\n",
      "1\n",
      "87\n",
      "(478, 856, 3)\n",
      "1\n",
      "175\n",
      "(478, 856, 3)\n",
      "1\n",
      "262\n",
      "(478, 856, 3)\n",
      "1\n",
      "350\n",
      "(478, 856, 3)\n",
      "1\n"
     ]
    },
    {
     "name": "stderr",
     "output_type": "stream",
     "text": [
      "ERROR:root:An error occurred while processing faces: Given groups=1, weight of size [32, 3, 3, 3], expected input[1, 15, 160, 160] to have 3 channels, but got 15 channels instead\n",
      "INFO:root:Video length: 610 frames\n"
     ]
    },
    {
     "name": "stdout",
     "output_type": "stream",
     "text": [
      "0\n",
      "(478, 856, 3)\n",
      "1\n",
      "152\n",
      "(478, 856, 3)\n",
      "1\n",
      "304\n",
      "(478, 856, 3)\n",
      "1\n",
      "456\n",
      "(478, 856, 3)\n",
      "1\n"
     ]
    },
    {
     "name": "stderr",
     "output_type": "stream",
     "text": [
      "ERROR:root:An error occurred while processing faces: Given groups=1, weight of size [32, 3, 3, 3], expected input[1, 15, 160, 160] to have 3 channels, but got 15 channels instead\n",
      "INFO:root:Video length: 420 frames\n"
     ]
    },
    {
     "name": "stdout",
     "output_type": "stream",
     "text": [
      "609\n",
      "(478, 856, 3)\n",
      "1\n",
      "0\n",
      "(500, 944, 3)\n",
      "1\n",
      "104\n",
      "(500, 944, 3)\n",
      "1\n",
      "209\n",
      "(500, 944, 3)\n",
      "1\n"
     ]
    },
    {
     "name": "stderr",
     "output_type": "stream",
     "text": [
      "ERROR:root:An error occurred while processing faces: Given groups=1, weight of size [32, 3, 3, 3], expected input[1, 15, 160, 160] to have 3 channels, but got 15 channels instead\n",
      "INFO:root:Video length: 456 frames\n"
     ]
    },
    {
     "name": "stdout",
     "output_type": "stream",
     "text": [
      "314\n",
      "(500, 944, 3)\n",
      "1\n",
      "419\n",
      "(500, 944, 3)\n",
      "1\n",
      "0\n",
      "(500, 892, 3)\n",
      "1\n",
      "113\n",
      "(500, 892, 3)\n",
      "1\n",
      "227\n",
      "(500, 892, 3)\n",
      "1\n"
     ]
    },
    {
     "name": "stderr",
     "output_type": "stream",
     "text": [
      "ERROR:root:An error occurred while processing faces: Given groups=1, weight of size [32, 3, 3, 3], expected input[1, 15, 160, 160] to have 3 channels, but got 15 channels instead\n",
      "INFO:root:Video length: 463 frames\n"
     ]
    },
    {
     "name": "stdout",
     "output_type": "stream",
     "text": [
      "341\n",
      "(500, 892, 3)\n",
      "1\n",
      "455\n",
      "(500, 892, 3)\n",
      "1\n",
      "0\n",
      "(500, 888, 3)\n",
      "1\n",
      "115\n",
      "(500, 888, 3)\n",
      "1\n",
      "231\n",
      "(500, 888, 3)\n",
      "1\n"
     ]
    },
    {
     "name": "stderr",
     "output_type": "stream",
     "text": [
      "ERROR:root:An error occurred while processing faces: Given groups=1, weight of size [32, 3, 3, 3], expected input[1, 15, 160, 160] to have 3 channels, but got 15 channels instead\n",
      "INFO:root:Video length: 479 frames\n"
     ]
    },
    {
     "name": "stdout",
     "output_type": "stream",
     "text": [
      "346\n",
      "(500, 888, 3)\n",
      "1\n",
      "462\n",
      "(500, 888, 3)\n",
      "1\n",
      "0\n",
      "(466, 848, 3)\n",
      "1\n",
      "119\n",
      "(466, 848, 3)\n",
      "1\n"
     ]
    },
    {
     "name": "stderr",
     "output_type": "stream",
     "text": [
      "ERROR:root:An error occurred while processing faces: Given groups=1, weight of size [32, 3, 3, 3], expected input[1, 15, 160, 160] to have 3 channels, but got 15 channels instead\n",
      "INFO:root:Video length: 461 frames\n"
     ]
    },
    {
     "name": "stdout",
     "output_type": "stream",
     "text": [
      "239\n",
      "(466, 848, 3)\n",
      "1\n",
      "358\n",
      "(466, 848, 3)\n",
      "1\n",
      "478\n",
      "(466, 848, 3)\n",
      "1\n",
      "0\n",
      "(472, 850, 3)\n",
      "1\n",
      "115\n",
      "(472, 850, 3)\n",
      "1\n"
     ]
    },
    {
     "name": "stderr",
     "output_type": "stream",
     "text": [
      "ERROR:root:An error occurred while processing faces: Given groups=1, weight of size [32, 3, 3, 3], expected input[1, 15, 160, 160] to have 3 channels, but got 15 channels instead\n",
      "INFO:root:Video length: 315 frames\n"
     ]
    },
    {
     "name": "stdout",
     "output_type": "stream",
     "text": [
      "230\n",
      "(472, 850, 3)\n",
      "1\n",
      "345\n",
      "(472, 850, 3)\n",
      "1\n",
      "460\n",
      "(472, 850, 3)\n",
      "1\n",
      "0\n",
      "(476, 850, 3)\n",
      "1\n",
      "78\n",
      "(476, 850, 3)\n",
      "1\n"
     ]
    },
    {
     "name": "stderr",
     "output_type": "stream",
     "text": [
      "ERROR:root:An error occurred while processing faces: Given groups=1, weight of size [32, 3, 3, 3], expected input[1, 15, 160, 160] to have 3 channels, but got 15 channels instead\n",
      "INFO:root:Video length: 328 frames\n"
     ]
    },
    {
     "name": "stdout",
     "output_type": "stream",
     "text": [
      "157\n",
      "(476, 850, 3)\n",
      "1\n",
      "235\n",
      "(476, 850, 3)\n",
      "1\n",
      "314\n",
      "(476, 850, 3)\n",
      "1\n",
      "0\n",
      "(452, 844, 3)\n",
      "1\n",
      "81\n",
      "(452, 844, 3)\n",
      "1\n"
     ]
    },
    {
     "name": "stderr",
     "output_type": "stream",
     "text": [
      "ERROR:root:An error occurred while processing faces: Given groups=1, weight of size [32, 3, 3, 3], expected input[1, 15, 160, 160] to have 3 channels, but got 15 channels instead\n",
      "INFO:root:Video length: 473 frames\n"
     ]
    },
    {
     "name": "stdout",
     "output_type": "stream",
     "text": [
      "163\n",
      "(452, 844, 3)\n",
      "1\n",
      "245\n",
      "(452, 844, 3)\n",
      "1\n",
      "327\n",
      "(452, 844, 3)\n",
      "1\n",
      "0\n",
      "(478, 856, 3)\n",
      "1\n",
      "118\n",
      "(478, 856, 3)\n",
      "1\n"
     ]
    },
    {
     "name": "stderr",
     "output_type": "stream",
     "text": [
      "ERROR:root:An error occurred while processing faces: Given groups=1, weight of size [32, 3, 3, 3], expected input[1, 15, 160, 160] to have 3 channels, but got 15 channels instead\n",
      "INFO:root:Video length: 470 frames\n"
     ]
    },
    {
     "name": "stdout",
     "output_type": "stream",
     "text": [
      "236\n",
      "(478, 856, 3)\n",
      "1\n",
      "354\n",
      "(478, 856, 3)\n",
      "1\n",
      "472\n",
      "(478, 856, 3)\n",
      "1\n",
      "0\n",
      "(472, 850, 3)\n",
      "1\n",
      "117\n",
      "(472, 850, 3)\n",
      "1\n"
     ]
    },
    {
     "name": "stderr",
     "output_type": "stream",
     "text": [
      "ERROR:root:An error occurred while processing faces: Given groups=1, weight of size [32, 3, 3, 3], expected input[1, 15, 160, 160] to have 3 channels, but got 15 channels instead\n",
      "INFO:root:Video length: 334 frames\n"
     ]
    },
    {
     "name": "stdout",
     "output_type": "stream",
     "text": [
      "234\n",
      "(472, 850, 3)\n",
      "1\n",
      "351\n",
      "(472, 850, 3)\n",
      "1\n",
      "469\n",
      "(472, 850, 3)\n",
      "1\n",
      "0\n",
      "(480, 852, 3)\n",
      "1\n",
      "83\n",
      "(480, 852, 3)\n"
     ]
    },
    {
     "name": "stderr",
     "output_type": "stream",
     "text": [
      "ERROR:root:An error occurred while processing faces: Given groups=1, weight of size [32, 3, 3, 3], expected input[1, 15, 160, 160] to have 3 channels, but got 15 channels instead\n"
     ]
    },
    {
     "name": "stdout",
     "output_type": "stream",
     "text": [
      "1\n",
      "166\n",
      "(480, 852, 3)\n",
      "1\n",
      "249\n",
      "(480, 852, 3)\n",
      "1\n",
      "333\n",
      "(480, 852, 3)\n",
      "1\n"
     ]
    },
    {
     "name": "stderr",
     "output_type": "stream",
     "text": [
      "INFO:root:Video length: 267 frames\n"
     ]
    },
    {
     "name": "stdout",
     "output_type": "stream",
     "text": [
      "0\n",
      "(500, 754, 3)\n",
      "1\n",
      "66\n",
      "(500, 754, 3)\n",
      "1\n",
      "133\n",
      "(500, 754, 3)\n",
      "1\n",
      "199\n",
      "(500, 754, 3)\n",
      "1\n",
      "266\n",
      "(500, 754, 3)\n",
      "1\n"
     ]
    },
    {
     "name": "stderr",
     "output_type": "stream",
     "text": [
      "ERROR:root:An error occurred while processing faces: Given groups=1, weight of size [32, 3, 3, 3], expected input[1, 15, 160, 160] to have 3 channels, but got 15 channels instead\n",
      "INFO:root:Video length: 333 frames\n"
     ]
    },
    {
     "name": "stdout",
     "output_type": "stream",
     "text": [
      "0\n",
      "(476, 846, 3)\n",
      "1\n",
      "83\n",
      "(476, 846, 3)\n",
      "1\n",
      "166\n",
      "(476, 846, 3)\n",
      "1\n",
      "249\n",
      "(476, 846, 3)\n",
      "1\n",
      "332\n",
      "(476, 846, 3)\n",
      "1\n"
     ]
    },
    {
     "name": "stderr",
     "output_type": "stream",
     "text": [
      "ERROR:root:An error occurred while processing faces: Given groups=1, weight of size [32, 3, 3, 3], expected input[1, 15, 160, 160] to have 3 channels, but got 15 channels instead\n",
      "INFO:root:Video length: 451 frames\n",
      "ERROR:root:An error occurred while processing faces: Given groups=1, weight of size [32, 3, 3, 3], expected input[1, 15, 160, 160] to have 3 channels, but got 15 channels instead\n"
     ]
    },
    {
     "name": "stdout",
     "output_type": "stream",
     "text": [
      "0\n",
      "(500, 590, 3)\n",
      "1\n",
      "112\n",
      "(500, 590, 3)\n",
      "1\n",
      "225\n",
      "(500, 590, 3)\n",
      "1\n",
      "337\n",
      "(500, 590, 3)\n",
      "1\n",
      "450\n",
      "(500, 590, 3)\n",
      "1\n"
     ]
    },
    {
     "name": "stderr",
     "output_type": "stream",
     "text": [
      "INFO:root:Video length: 350 frames\n",
      "ERROR:root:An error occurred while processing faces: Given groups=1, weight of size [32, 3, 3, 3], expected input[1, 15, 160, 160] to have 3 channels, but got 15 channels instead\n"
     ]
    },
    {
     "name": "stdout",
     "output_type": "stream",
     "text": [
      "0\n",
      "(472, 848, 3)\n",
      "1\n",
      "87\n",
      "(472, 848, 3)\n",
      "1\n",
      "174\n",
      "(472, 848, 3)\n",
      "1\n",
      "261\n",
      "(472, 848, 3)\n",
      "1\n",
      "349\n",
      "(472, 848, 3)\n",
      "1\n"
     ]
    },
    {
     "name": "stderr",
     "output_type": "stream",
     "text": [
      "INFO:root:Video length: 455 frames\n"
     ]
    },
    {
     "name": "stdout",
     "output_type": "stream",
     "text": [
      "0\n",
      "(472, 850, 3)\n",
      "1\n",
      "113\n",
      "(472, 850, 3)\n",
      "1\n",
      "227\n",
      "(472, 850, 3)\n",
      "1\n",
      "340\n",
      "(472, 850, 3)\n",
      "1\n",
      "454\n",
      "(472, 850, 3)\n",
      "1\n"
     ]
    },
    {
     "name": "stderr",
     "output_type": "stream",
     "text": [
      "ERROR:root:An error occurred while processing faces: Given groups=1, weight of size [32, 3, 3, 3], expected input[1, 15, 160, 160] to have 3 channels, but got 15 channels instead\n",
      "INFO:root:Video length: 333 frames\n"
     ]
    },
    {
     "name": "stdout",
     "output_type": "stream",
     "text": [
      "0\n",
      "(474, 846, 3)\n",
      "1\n",
      "83\n",
      "(474, 846, 3)\n",
      "1\n",
      "166\n",
      "(474, 846, 3)\n",
      "1\n",
      "249\n",
      "(474, 846, 3)\n",
      "1\n",
      "332\n"
     ]
    },
    {
     "name": "stderr",
     "output_type": "stream",
     "text": [
      "ERROR:root:An error occurred while processing faces: Given groups=1, weight of size [32, 3, 3, 3], expected input[1, 15, 160, 160] to have 3 channels, but got 15 channels instead\n",
      "INFO:root:Video length: 582 frames\n"
     ]
    },
    {
     "name": "stdout",
     "output_type": "stream",
     "text": [
      "(474, 846, 3)\n",
      "1\n",
      "0\n",
      "(478, 856, 3)\n",
      "1\n",
      "145\n",
      "(478, 856, 3)\n",
      "1\n",
      "290\n",
      "(478, 856, 3)\n",
      "1\n"
     ]
    },
    {
     "name": "stderr",
     "output_type": "stream",
     "text": [
      "ERROR:root:An error occurred while processing faces: Given groups=1, weight of size [32, 3, 3, 3], expected input[1, 15, 160, 160] to have 3 channels, but got 15 channels instead\n",
      "INFO:root:Video length: 338 frames\n"
     ]
    },
    {
     "name": "stdout",
     "output_type": "stream",
     "text": [
      "435\n",
      "(478, 856, 3)\n",
      "1\n",
      "581\n",
      "(478, 856, 3)\n",
      "1\n",
      "0\n",
      "(500, 498, 3)\n",
      "1\n",
      "84\n",
      "(500, 498, 3)\n",
      "1\n",
      "168\n",
      "(500, 498, 3)\n",
      "1\n",
      "252\n",
      "(500, 498, 3)\n",
      "1\n"
     ]
    },
    {
     "name": "stderr",
     "output_type": "stream",
     "text": [
      "ERROR:root:An error occurred while processing faces: Given groups=1, weight of size [32, 3, 3, 3], expected input[1, 15, 160, 160] to have 3 channels, but got 15 channels instead\n",
      "INFO:root:Video length: 331 frames\n"
     ]
    },
    {
     "name": "stdout",
     "output_type": "stream",
     "text": [
      "337\n",
      "(500, 498, 3)\n",
      "1\n",
      "0\n",
      "(472, 848, 3)\n",
      "1\n",
      "82\n",
      "(472, 848, 3)\n",
      "1\n",
      "165\n",
      "(472, 848, 3)\n",
      "1\n",
      "247\n",
      "(472, 848, 3)\n",
      "1\n",
      "330\n",
      "(472, 848, 3)\n",
      "1\n"
     ]
    },
    {
     "name": "stderr",
     "output_type": "stream",
     "text": [
      "ERROR:root:An error occurred while processing faces: Given groups=1, weight of size [32, 3, 3, 3], expected input[1, 15, 160, 160] to have 3 channels, but got 15 channels instead\n",
      "INFO:root:Video length: 334 frames\n"
     ]
    },
    {
     "name": "stdout",
     "output_type": "stream",
     "text": [
      "0\n",
      "(480, 852, 3)\n",
      "1\n",
      "83\n",
      "(480, 852, 3)\n",
      "1\n",
      "166\n",
      "(480, 852, 3)\n",
      "1\n",
      "249\n",
      "(480, 852, 3)\n",
      "1\n",
      "333\n",
      "(480, 852, 3)\n",
      "1\n"
     ]
    },
    {
     "name": "stderr",
     "output_type": "stream",
     "text": [
      "ERROR:root:An error occurred while processing faces: Given groups=1, weight of size [32, 3, 3, 3], expected input[1, 15, 160, 160] to have 3 channels, but got 15 channels instead\n",
      "INFO:root:Video length: 485 frames\n"
     ]
    },
    {
     "name": "stdout",
     "output_type": "stream",
     "text": [
      "0\n",
      "(472, 850, 3)\n",
      "1\n",
      "121\n",
      "(472, 850, 3)\n",
      "1\n",
      "242\n",
      "(472, 850, 3)\n",
      "1\n",
      "363\n",
      "(472, 850, 3)\n",
      "1\n",
      "484\n",
      "(472, 850, 3)\n"
     ]
    },
    {
     "name": "stderr",
     "output_type": "stream",
     "text": [
      "ERROR:root:An error occurred while processing faces: Given groups=1, weight of size [32, 3, 3, 3], expected input[1, 15, 160, 160] to have 3 channels, but got 15 channels instead\n",
      "INFO:root:Video length: 368 frames\n"
     ]
    },
    {
     "name": "stdout",
     "output_type": "stream",
     "text": [
      "1\n",
      "0\n",
      "(500, 942, 3)\n",
      "1\n",
      "91\n",
      "(500, 942, 3)\n",
      "1\n",
      "183\n",
      "(500, 942, 3)\n",
      "1\n",
      "275\n",
      "(500, 942, 3)\n"
     ]
    },
    {
     "name": "stderr",
     "output_type": "stream",
     "text": [
      "ERROR:root:An error occurred while processing faces: Given groups=1, weight of size [32, 3, 3, 3], expected input[1, 15, 160, 160] to have 3 channels, but got 15 channels instead\n",
      "INFO:root:Video length: 319 frames\n"
     ]
    },
    {
     "name": "stdout",
     "output_type": "stream",
     "text": [
      "1\n",
      "367\n",
      "(500, 942, 3)\n",
      "1\n",
      "0\n",
      "(500, 662, 3)\n",
      "1\n",
      "79\n",
      "(500, 662, 3)\n",
      "1\n",
      "159\n",
      "(500, 662, 3)\n",
      "1\n"
     ]
    },
    {
     "name": "stderr",
     "output_type": "stream",
     "text": [
      "ERROR:root:An error occurred while processing faces: Given groups=1, weight of size [32, 3, 3, 3], expected input[1, 15, 160, 160] to have 3 channels, but got 15 channels instead\n",
      "INFO:root:Video length: 513 frames\n"
     ]
    },
    {
     "name": "stdout",
     "output_type": "stream",
     "text": [
      "238\n",
      "(500, 662, 3)\n",
      "1\n",
      "318\n",
      "(500, 662, 3)\n",
      "1\n",
      "0\n",
      "(478, 856, 3)\n",
      "1\n",
      "128\n",
      "(478, 856, 3)\n",
      "1\n"
     ]
    },
    {
     "name": "stderr",
     "output_type": "stream",
     "text": [
      "ERROR:root:An error occurred while processing faces: Given groups=1, weight of size [32, 3, 3, 3], expected input[1, 15, 160, 160] to have 3 channels, but got 15 channels instead\n",
      "INFO:root:Video length: 398 frames\n"
     ]
    },
    {
     "name": "stdout",
     "output_type": "stream",
     "text": [
      "256\n",
      "(478, 856, 3)\n",
      "1\n",
      "384\n",
      "(478, 856, 3)\n",
      "1\n",
      "512\n",
      "(478, 856, 3)\n",
      "1\n",
      "0\n",
      "(500, 490, 3)\n",
      "1\n",
      "99\n",
      "(500, 490, 3)\n",
      "1\n"
     ]
    },
    {
     "name": "stderr",
     "output_type": "stream",
     "text": [
      "ERROR:root:An error occurred while processing faces: Given groups=1, weight of size [32, 3, 3, 3], expected input[1, 15, 160, 160] to have 3 channels, but got 15 channels instead\n",
      "INFO:root:Video length: 399 frames\n"
     ]
    },
    {
     "name": "stdout",
     "output_type": "stream",
     "text": [
      "198\n",
      "(500, 490, 3)\n",
      "1\n",
      "297\n",
      "(500, 490, 3)\n",
      "1\n",
      "397\n",
      "(500, 490, 3)\n",
      "1\n",
      "0\n",
      "(466, 848, 3)\n",
      "1\n",
      "99\n",
      "(466, 848, 3)\n",
      "1\n"
     ]
    },
    {
     "name": "stderr",
     "output_type": "stream",
     "text": [
      "ERROR:root:An error occurred while processing faces: Given groups=1, weight of size [32, 3, 3, 3], expected input[1, 15, 160, 160] to have 3 channels, but got 15 channels instead\n",
      "INFO:root:Video length: 333 frames\n"
     ]
    },
    {
     "name": "stdout",
     "output_type": "stream",
     "text": [
      "199\n",
      "(466, 848, 3)\n",
      "1\n",
      "298\n",
      "(466, 848, 3)\n",
      "1\n",
      "398\n",
      "(466, 848, 3)\n",
      "1\n",
      "0\n",
      "(472, 848, 3)\n",
      "1\n",
      "83\n",
      "(472, 848, 3)\n",
      "1\n"
     ]
    },
    {
     "name": "stderr",
     "output_type": "stream",
     "text": [
      "ERROR:root:An error occurred while processing faces: Given groups=1, weight of size [32, 3, 3, 3], expected input[1, 15, 160, 160] to have 3 channels, but got 15 channels instead\n",
      "INFO:root:Video length: 468 frames\n"
     ]
    },
    {
     "name": "stdout",
     "output_type": "stream",
     "text": [
      "166\n",
      "(472, 848, 3)\n",
      "1\n",
      "249\n",
      "(472, 848, 3)\n",
      "1\n",
      "332\n",
      "(472, 848, 3)\n",
      "1\n",
      "0\n",
      "(500, 892, 3)\n",
      "1\n",
      "116\n",
      "(500, 892, 3)\n",
      "1\n"
     ]
    },
    {
     "name": "stderr",
     "output_type": "stream",
     "text": [
      "ERROR:root:An error occurred while processing faces: Given groups=1, weight of size [32, 3, 3, 3], expected input[1, 15, 160, 160] to have 3 channels, but got 15 channels instead\n",
      "INFO:root:Video length: 334 frames\n"
     ]
    },
    {
     "name": "stdout",
     "output_type": "stream",
     "text": [
      "233\n",
      "(500, 892, 3)\n",
      "1\n",
      "350\n",
      "(500, 892, 3)\n",
      "1\n",
      "467\n",
      "(500, 892, 3)\n",
      "1\n",
      "0\n",
      "(500, 666, 3)\n",
      "1\n",
      "83\n",
      "(500, 666, 3)\n",
      "1\n"
     ]
    },
    {
     "name": "stderr",
     "output_type": "stream",
     "text": [
      "ERROR:root:An error occurred while processing faces: Given groups=1, weight of size [32, 3, 3, 3], expected input[1, 15, 160, 160] to have 3 channels, but got 15 channels instead\n",
      "INFO:root:Video length: 501 frames\n"
     ]
    },
    {
     "name": "stdout",
     "output_type": "stream",
     "text": [
      "166\n",
      "(500, 666, 3)\n",
      "1\n",
      "249\n",
      "(500, 666, 3)\n",
      "1\n",
      "333\n",
      "(500, 666, 3)\n",
      "1\n",
      "0\n",
      "(478, 856, 3)\n",
      "1\n"
     ]
    },
    {
     "name": "stderr",
     "output_type": "stream",
     "text": [
      "ERROR:root:An error occurred while processing faces: Given groups=1, weight of size [32, 3, 3, 3], expected input[1, 15, 160, 160] to have 3 channels, but got 15 channels instead\n"
     ]
    },
    {
     "name": "stdout",
     "output_type": "stream",
     "text": [
      "125\n",
      "(478, 856, 3)\n",
      "1\n",
      "250\n",
      "(478, 856, 3)\n",
      "1\n",
      "375\n",
      "(478, 856, 3)\n",
      "1\n",
      "500\n",
      "(478, 856, 3)\n",
      "1\n"
     ]
    },
    {
     "name": "stderr",
     "output_type": "stream",
     "text": [
      "INFO:root:Video length: 465 frames\n"
     ]
    },
    {
     "name": "stdout",
     "output_type": "stream",
     "text": [
      "0\n",
      "(472, 850, 3)\n",
      "1\n",
      "116\n",
      "(472, 850, 3)\n",
      "1\n",
      "232\n",
      "(472, 850, 3)\n",
      "1\n",
      "348\n",
      "(472, 850, 3)\n",
      "1\n",
      "464\n",
      "(472, 850, 3)\n",
      "1\n"
     ]
    },
    {
     "name": "stderr",
     "output_type": "stream",
     "text": [
      "ERROR:root:An error occurred while processing faces: Given groups=1, weight of size [32, 3, 3, 3], expected input[1, 15, 160, 160] to have 3 channels, but got 15 channels instead\n",
      "INFO:root:Video length: 315 frames\n"
     ]
    },
    {
     "name": "stdout",
     "output_type": "stream",
     "text": [
      "0\n",
      "(476, 856, 3)\n",
      "1\n",
      "78\n",
      "(476, 856, 3)\n",
      "1\n",
      "157\n",
      "(476, 856, 3)\n",
      "1\n",
      "235\n",
      "(476, 856, 3)\n",
      "1\n",
      "314\n",
      "(476, 856, 3)\n",
      "1\n"
     ]
    },
    {
     "name": "stderr",
     "output_type": "stream",
     "text": [
      "ERROR:root:An error occurred while processing faces: Given groups=1, weight of size [32, 3, 3, 3], expected input[1, 15, 160, 160] to have 3 channels, but got 15 channels instead\n",
      "INFO:root:Video length: 458 frames\n",
      "ERROR:root:An error occurred while processing faces: Given groups=1, weight of size [32, 3, 3, 3], expected input[1, 15, 160, 160] to have 3 channels, but got 15 channels instead\n"
     ]
    },
    {
     "name": "stdout",
     "output_type": "stream",
     "text": [
      "0\n",
      "(500, 488, 3)\n",
      "1\n",
      "114\n",
      "(500, 488, 3)\n",
      "1\n",
      "228\n",
      "(500, 488, 3)\n",
      "1\n",
      "342\n",
      "(500, 488, 3)\n",
      "1\n",
      "457\n",
      "(500, 488, 3)\n",
      "1\n"
     ]
    },
    {
     "name": "stderr",
     "output_type": "stream",
     "text": [
      "INFO:root:Video length: 323 frames\n"
     ]
    },
    {
     "name": "stdout",
     "output_type": "stream",
     "text": [
      "0\n",
      "(474, 846, 3)\n",
      "1\n",
      "80\n",
      "(474, 846, 3)\n",
      "1\n",
      "161\n",
      "(474, 846, 3)\n",
      "1\n",
      "241\n",
      "(474, 846, 3)\n",
      "1\n",
      "322\n",
      "(474, 846, 3)\n",
      "1\n"
     ]
    },
    {
     "name": "stderr",
     "output_type": "stream",
     "text": [
      "ERROR:root:An error occurred while processing faces: Given groups=1, weight of size [32, 3, 3, 3], expected input[1, 15, 160, 160] to have 3 channels, but got 15 channels instead\n",
      "INFO:root:Video length: 313 frames\n"
     ]
    },
    {
     "name": "stdout",
     "output_type": "stream",
     "text": [
      "0\n",
      "(474, 848, 3)\n",
      "1\n",
      "78\n",
      "(474, 848, 3)\n",
      "1\n",
      "156\n",
      "(474, 848, 3)\n",
      "1\n",
      "234\n",
      "(474, 848, 3)\n",
      "1\n",
      "312\n",
      "(474, 848, 3)\n",
      "1\n"
     ]
    },
    {
     "name": "stderr",
     "output_type": "stream",
     "text": [
      "ERROR:root:An error occurred while processing faces: Given groups=1, weight of size [32, 3, 3, 3], expected input[1, 15, 160, 160] to have 3 channels, but got 15 channels instead\n",
      "INFO:root:Video length: 334 frames\n",
      "ERROR:root:An error occurred while processing faces: Given groups=1, weight of size [32, 3, 3, 3], expected input[1, 15, 160, 160] to have 3 channels, but got 15 channels instead\n",
      "INFO:root:Video length: 228 frames\n"
     ]
    },
    {
     "name": "stdout",
     "output_type": "stream",
     "text": [
      "0\n",
      "(500, 666, 3)\n",
      "1\n",
      "83\n",
      "(500, 666, 3)\n",
      "1\n",
      "166\n",
      "(500, 666, 3)\n",
      "1\n",
      "249\n",
      "(500, 666, 3)\n",
      "1\n",
      "333\n",
      "(500, 666, 3)\n",
      "1\n",
      "0\n",
      "(466, 848, 3)\n",
      "1\n"
     ]
    },
    {
     "name": "stderr",
     "output_type": "stream",
     "text": [
      "ERROR:root:An error occurred while processing faces: Given groups=1, weight of size [32, 3, 3, 3], expected input[1, 15, 160, 160] to have 3 channels, but got 15 channels instead\n",
      "INFO:root:Video length: 423 frames\n"
     ]
    },
    {
     "name": "stdout",
     "output_type": "stream",
     "text": [
      "56\n",
      "(466, 848, 3)\n",
      "1\n",
      "113\n",
      "(466, 848, 3)\n",
      "1\n",
      "170\n",
      "(466, 848, 3)\n",
      "1\n",
      "227\n",
      "(466, 848, 3)\n",
      "1\n",
      "0\n",
      "(472, 850, 3)\n",
      "1\n"
     ]
    },
    {
     "name": "stderr",
     "output_type": "stream",
     "text": [
      "ERROR:root:An error occurred while processing faces: Given groups=1, weight of size [32, 3, 3, 3], expected input[1, 15, 160, 160] to have 3 channels, but got 15 channels instead\n"
     ]
    },
    {
     "name": "stdout",
     "output_type": "stream",
     "text": [
      "105\n",
      "(472, 850, 3)\n",
      "1\n",
      "211\n",
      "(472, 850, 3)\n",
      "1\n",
      "316\n",
      "(472, 850, 3)\n",
      "1\n",
      "422\n",
      "(472, 850, 3)\n",
      "1\n"
     ]
    },
    {
     "name": "stderr",
     "output_type": "stream",
     "text": [
      "INFO:root:Video length: 466 frames\n"
     ]
    },
    {
     "name": "stdout",
     "output_type": "stream",
     "text": [
      "0\n",
      "(478, 856, 3)\n",
      "1\n",
      "116\n",
      "(478, 856, 3)\n",
      "1\n",
      "232\n",
      "(478, 856, 3)\n",
      "1\n",
      "348\n",
      "(478, 856, 3)\n",
      "1\n",
      "465\n",
      "(478, 856, 3)\n",
      "1\n"
     ]
    },
    {
     "name": "stderr",
     "output_type": "stream",
     "text": [
      "ERROR:root:An error occurred while processing faces: Given groups=1, weight of size [32, 3, 3, 3], expected input[1, 15, 160, 160] to have 3 channels, but got 15 channels instead\n",
      "INFO:root:Video length: 448 frames\n"
     ]
    },
    {
     "name": "stdout",
     "output_type": "stream",
     "text": [
      "0\n",
      "(500, 944, 3)\n",
      "1\n",
      "111\n",
      "(500, 944, 3)\n",
      "1\n",
      "223\n",
      "(500, 944, 3)\n",
      "1\n",
      "335\n",
      "(500, 944, 3)\n",
      "1\n",
      "447\n",
      "(500, 944, 3)\n"
     ]
    },
    {
     "name": "stderr",
     "output_type": "stream",
     "text": [
      "ERROR:root:An error occurred while processing faces: Given groups=1, weight of size [32, 3, 3, 3], expected input[1, 15, 160, 160] to have 3 channels, but got 15 channels instead\n",
      "INFO:root:Video length: 314 frames\n"
     ]
    },
    {
     "name": "stdout",
     "output_type": "stream",
     "text": [
      "1\n",
      "0\n",
      "(474, 844, 3)\n",
      "1\n",
      "78\n",
      "(474, 844, 3)\n",
      "1\n",
      "156\n",
      "(474, 844, 3)\n",
      "1\n",
      "234\n",
      "(474, 844, 3)\n",
      "1\n"
     ]
    },
    {
     "name": "stderr",
     "output_type": "stream",
     "text": [
      "ERROR:root:An error occurred while processing faces: Given groups=1, weight of size [32, 3, 3, 3], expected input[1, 15, 160, 160] to have 3 channels, but got 15 channels instead\n",
      "INFO:root:Video length: 372 frames\n"
     ]
    },
    {
     "name": "stdout",
     "output_type": "stream",
     "text": [
      "313\n",
      "(474, 844, 3)\n",
      "1\n",
      "0\n",
      "(500, 650, 3)\n",
      "1\n",
      "92\n",
      "(500, 650, 3)\n",
      "1\n",
      "185\n",
      "(500, 650, 3)\n",
      "1\n",
      "278\n",
      "(500, 650, 3)\n",
      "1\n",
      "371\n",
      "(500, 650, 3)\n",
      "1\n"
     ]
    },
    {
     "name": "stderr",
     "output_type": "stream",
     "text": [
      "ERROR:root:An error occurred while processing faces: Given groups=1, weight of size [32, 3, 3, 3], expected input[1, 15, 160, 160] to have 3 channels, but got 15 channels instead\n",
      "INFO:root:Video length: 334 frames\n"
     ]
    },
    {
     "name": "stdout",
     "output_type": "stream",
     "text": [
      "0\n",
      "(480, 852, 3)\n",
      "1\n",
      "83\n",
      "(480, 852, 3)\n",
      "1\n",
      "166\n",
      "(480, 852, 3)\n",
      "1\n",
      "249\n",
      "(480, 852, 3)\n",
      "1\n",
      "333\n",
      "(480, 852, 3)\n",
      "1\n"
     ]
    },
    {
     "name": "stderr",
     "output_type": "stream",
     "text": [
      "ERROR:root:An error occurred while processing faces: Given groups=1, weight of size [32, 3, 3, 3], expected input[1, 15, 160, 160] to have 3 channels, but got 15 channels instead\n",
      "INFO:root:Video length: 311 frames\n"
     ]
    },
    {
     "name": "stdout",
     "output_type": "stream",
     "text": [
      "0\n",
      "(500, 590, 3)\n",
      "1\n",
      "77\n",
      "(500, 590, 3)\n",
      "1\n",
      "155\n",
      "(500, 590, 3)\n",
      "1\n",
      "232\n",
      "(500, 590, 3)\n",
      "1\n",
      "310\n",
      "(500, 590, 3)\n",
      "1\n"
     ]
    },
    {
     "name": "stderr",
     "output_type": "stream",
     "text": [
      "ERROR:root:An error occurred while processing faces: Given groups=1, weight of size [32, 3, 3, 3], expected input[1, 15, 160, 160] to have 3 channels, but got 15 channels instead\n",
      "INFO:root:Video length: 458 frames\n"
     ]
    },
    {
     "name": "stdout",
     "output_type": "stream",
     "text": [
      "0\n",
      "(478, 856, 3)\n",
      "1\n",
      "114\n",
      "(478, 856, 3)\n",
      "1\n",
      "228\n",
      "(478, 856, 3)\n",
      "1\n",
      "342\n",
      "(478, 856, 3)\n",
      "1\n",
      "457\n",
      "(478, 856, 3)\n",
      "1\n"
     ]
    },
    {
     "name": "stderr",
     "output_type": "stream",
     "text": [
      "ERROR:root:An error occurred while processing faces: Given groups=1, weight of size [32, 3, 3, 3], expected input[1, 15, 160, 160] to have 3 channels, but got 15 channels instead\n",
      "INFO:root:Video length: 312 frames\n",
      "ERROR:root:An error occurred while processing faces: Given groups=1, weight of size [32, 3, 3, 3], expected input[1, 15, 160, 160] to have 3 channels, but got 15 channels instead\n"
     ]
    },
    {
     "name": "stdout",
     "output_type": "stream",
     "text": [
      "0\n",
      "(472, 848, 3)\n",
      "1\n",
      "77\n",
      "(472, 848, 3)\n",
      "1\n",
      "155\n",
      "(472, 848, 3)\n",
      "1\n",
      "233\n",
      "(472, 848, 3)\n",
      "1\n",
      "311\n",
      "(472, 848, 3)\n",
      "1\n"
     ]
    },
    {
     "name": "stderr",
     "output_type": "stream",
     "text": [
      "INFO:root:Video length: 329 frames\n",
      "ERROR:root:An error occurred while processing faces: Given groups=1, weight of size [32, 3, 3, 3], expected input[1, 15, 160, 160] to have 3 channels, but got 15 channels instead\n"
     ]
    },
    {
     "name": "stdout",
     "output_type": "stream",
     "text": [
      "0\n",
      "(476, 850, 3)\n",
      "1\n",
      "82\n",
      "(476, 850, 3)\n",
      "1\n",
      "164\n",
      "(476, 850, 3)\n",
      "1\n",
      "246\n",
      "(476, 850, 3)\n",
      "1\n",
      "328\n",
      "(476, 850, 3)\n",
      "1\n"
     ]
    },
    {
     "name": "stderr",
     "output_type": "stream",
     "text": [
      "INFO:root:Video length: 330 frames\n",
      "ERROR:root:An error occurred while processing faces: Given groups=1, weight of size [32, 3, 3, 3], expected input[1, 15, 160, 160] to have 3 channels, but got 15 channels instead\n"
     ]
    },
    {
     "name": "stdout",
     "output_type": "stream",
     "text": [
      "0\n",
      "(472, 844, 3)\n",
      "1\n",
      "82\n",
      "(472, 844, 3)\n",
      "1\n",
      "164\n",
      "(472, 844, 3)\n",
      "1\n",
      "246\n",
      "(472, 844, 3)\n",
      "1\n",
      "329\n",
      "(472, 844, 3)\n",
      "1\n"
     ]
    },
    {
     "name": "stderr",
     "output_type": "stream",
     "text": [
      "INFO:root:Video length: 307 frames\n",
      "ERROR:root:An error occurred while processing faces: Given groups=1, weight of size [32, 3, 3, 3], expected input[1, 15, 160, 160] to have 3 channels, but got 15 channels instead\n"
     ]
    },
    {
     "name": "stdout",
     "output_type": "stream",
     "text": [
      "0\n",
      "(500, 616, 3)\n",
      "1\n",
      "76\n",
      "(500, 616, 3)\n",
      "1\n",
      "153\n",
      "(500, 616, 3)\n",
      "1\n",
      "229\n",
      "(500, 616, 3)\n",
      "1\n",
      "306\n",
      "(500, 616, 3)\n",
      "1\n"
     ]
    },
    {
     "name": "stderr",
     "output_type": "stream",
     "text": [
      "INFO:root:Video length: 165 frames\n",
      "ERROR:root:An error occurred while processing faces: Given groups=1, weight of size [32, 3, 3, 3], expected input[1, 15, 160, 160] to have 3 channels, but got 15 channels instead\n"
     ]
    },
    {
     "name": "stdout",
     "output_type": "stream",
     "text": [
      "0\n",
      "(456, 812, 3)\n",
      "1\n",
      "41\n",
      "(456, 812, 3)\n",
      "1\n",
      "82\n",
      "(456, 812, 3)\n",
      "1\n",
      "123\n",
      "(456, 812, 3)\n",
      "1\n",
      "164\n",
      "(456, 812, 3)\n",
      "1\n"
     ]
    },
    {
     "name": "stderr",
     "output_type": "stream",
     "text": [
      "INFO:root:Video length: 298 frames\n"
     ]
    },
    {
     "name": "stdout",
     "output_type": "stream",
     "text": [
      "0\n",
      "(500, 894, 3)\n",
      "1\n",
      "74\n",
      "(500, 894, 3)\n",
      "1\n",
      "148\n",
      "(500, 894, 3)\n",
      "1\n",
      "222\n",
      "(500, 894, 3)\n",
      "1\n",
      "297\n",
      "(500, 894, 3)\n",
      "1\n"
     ]
    },
    {
     "name": "stderr",
     "output_type": "stream",
     "text": [
      "ERROR:root:An error occurred while processing faces: Given groups=1, weight of size [32, 3, 3, 3], expected input[1, 15, 160, 160] to have 3 channels, but got 15 channels instead\n",
      "INFO:root:Video length: 310 frames\n"
     ]
    },
    {
     "name": "stdout",
     "output_type": "stream",
     "text": [
      "0\n",
      "(474, 846, 3)\n",
      "1\n",
      "77\n",
      "(474, 846, 3)\n",
      "1\n",
      "154\n",
      "(474, 846, 3)\n",
      "1\n",
      "231\n",
      "(474, 846, 3)\n",
      "1\n"
     ]
    },
    {
     "name": "stderr",
     "output_type": "stream",
     "text": [
      "ERROR:root:An error occurred while processing faces: Given groups=1, weight of size [32, 3, 3, 3], expected input[1, 15, 160, 160] to have 3 channels, but got 15 channels instead\n",
      "INFO:root:Video length: 366 frames\n"
     ]
    },
    {
     "name": "stdout",
     "output_type": "stream",
     "text": [
      "309\n",
      "(474, 846, 3)\n",
      "1\n",
      "0\n",
      "(472, 850, 3)\n",
      "1\n",
      "91\n",
      "(472, 850, 3)\n",
      "1\n",
      "182\n",
      "(472, 850, 3)\n",
      "1\n",
      "273\n",
      "(472, 850, 3)\n",
      "1\n"
     ]
    },
    {
     "name": "stderr",
     "output_type": "stream",
     "text": [
      "ERROR:root:An error occurred while processing faces: Given groups=1, weight of size [32, 3, 3, 3], expected input[1, 15, 160, 160] to have 3 channels, but got 15 channels instead\n",
      "INFO:root:Video length: 459 frames\n"
     ]
    },
    {
     "name": "stdout",
     "output_type": "stream",
     "text": [
      "365\n",
      "(472, 850, 3)\n",
      "1\n",
      "0\n",
      "(478, 856, 3)\n",
      "1\n",
      "114\n",
      "(478, 856, 3)\n",
      "1\n",
      "229\n",
      "(478, 856, 3)\n",
      "1\n",
      "343\n",
      "(478, 856, 3)\n",
      "1\n"
     ]
    },
    {
     "name": "stderr",
     "output_type": "stream",
     "text": [
      "ERROR:root:An error occurred while processing faces: Given groups=1, weight of size [32, 3, 3, 3], expected input[1, 15, 160, 160] to have 3 channels, but got 15 channels instead\n",
      "INFO:root:Video length: 466 frames\n"
     ]
    },
    {
     "name": "stdout",
     "output_type": "stream",
     "text": [
      "458\n",
      "(478, 856, 3)\n",
      "1\n",
      "0\n",
      "(478, 856, 3)\n",
      "1\n",
      "116\n",
      "(478, 856, 3)\n",
      "1\n",
      "232\n",
      "(478, 856, 3)\n",
      "1\n",
      "348\n",
      "(478, 856, 3)\n",
      "1\n"
     ]
    },
    {
     "name": "stderr",
     "output_type": "stream",
     "text": [
      "ERROR:root:An error occurred while processing faces: Given groups=1, weight of size [32, 3, 3, 3], expected input[1, 15, 160, 160] to have 3 channels, but got 15 channels instead\n",
      "INFO:root:Video length: 237 frames\n"
     ]
    },
    {
     "name": "stdout",
     "output_type": "stream",
     "text": [
      "465\n",
      "(478, 856, 3)\n",
      "1\n",
      "0\n",
      "(478, 856, 3)\n",
      "1\n",
      "59\n",
      "(478, 856, 3)\n",
      "1\n",
      "118\n",
      "(478, 856, 3)\n",
      "1\n",
      "177\n",
      "(478, 856, 3)\n",
      "1\n",
      "236\n",
      "(478, 856, 3)\n",
      "1\n"
     ]
    },
    {
     "name": "stderr",
     "output_type": "stream",
     "text": [
      "ERROR:root:An error occurred while processing faces: Given groups=1, weight of size [32, 3, 3, 3], expected input[1, 15, 160, 160] to have 3 channels, but got 15 channels instead\n",
      "INFO:root:Video length: 322 frames\n",
      "ERROR:root:An error occurred while processing faces: Given groups=1, weight of size [32, 3, 3, 3], expected input[1, 15, 160, 160] to have 3 channels, but got 15 channels instead\n",
      "INFO:root:Video length: 327 frames\n"
     ]
    },
    {
     "name": "stdout",
     "output_type": "stream",
     "text": [
      "0\n",
      "(500, 634, 3)\n",
      "1\n",
      "80\n",
      "(500, 634, 3)\n",
      "1\n",
      "160\n",
      "(500, 634, 3)\n",
      "1\n",
      "240\n",
      "(500, 634, 3)\n",
      "1\n",
      "321\n",
      "(500, 634, 3)\n",
      "1\n",
      "0\n",
      "(500, 954, 3)\n",
      "1\n",
      "81\n",
      "(500, 954, 3)\n",
      "1\n",
      "163\n",
      "(500, 954, 3)\n",
      "1\n",
      "244\n",
      "(500, 954, 3)\n",
      "1\n",
      "326\n",
      "(500, 954, 3)\n",
      "1\n"
     ]
    },
    {
     "name": "stderr",
     "output_type": "stream",
     "text": [
      "ERROR:root:An error occurred while processing faces: Given groups=1, weight of size [32, 3, 3, 3], expected input[1, 15, 160, 160] to have 3 channels, but got 15 channels instead\n",
      "INFO:root:Video length: 584 frames\n"
     ]
    },
    {
     "name": "stdout",
     "output_type": "stream",
     "text": [
      "0\n",
      "(500, 944, 3)\n",
      "1\n",
      "145\n",
      "(500, 944, 3)\n",
      "1\n",
      "291\n",
      "(500, 944, 3)\n",
      "1\n",
      "437\n",
      "(500, 944, 3)\n",
      "1\n",
      "583\n",
      "(500, 944, 3)\n",
      "1\n"
     ]
    },
    {
     "name": "stderr",
     "output_type": "stream",
     "text": [
      "ERROR:root:An error occurred while processing faces: Given groups=1, weight of size [32, 3, 3, 3], expected input[1, 15, 160, 160] to have 3 channels, but got 15 channels instead\n",
      "INFO:root:Video length: 420 frames\n"
     ]
    },
    {
     "name": "stdout",
     "output_type": "stream",
     "text": [
      "0\n",
      "(500, 944, 3)\n",
      "1\n",
      "104\n",
      "(500, 944, 3)\n",
      "1\n",
      "209\n",
      "(500, 944, 3)\n",
      "1\n",
      "314\n",
      "(500, 944, 3)\n",
      "1\n"
     ]
    },
    {
     "name": "stderr",
     "output_type": "stream",
     "text": [
      "ERROR:root:An error occurred while processing faces: Given groups=1, weight of size [32, 3, 3, 3], expected input[1, 15, 160, 160] to have 3 channels, but got 15 channels instead\n",
      "INFO:root:Video length: 332 frames\n"
     ]
    },
    {
     "name": "stdout",
     "output_type": "stream",
     "text": [
      "419\n",
      "(500, 944, 3)\n",
      "1\n",
      "0\n",
      "(474, 844, 3)\n",
      "1\n",
      "82\n",
      "(474, 844, 3)\n",
      "1\n",
      "165\n",
      "(474, 844, 3)\n",
      "1\n",
      "248\n",
      "(474, 844, 3)\n",
      "1\n"
     ]
    },
    {
     "name": "stderr",
     "output_type": "stream",
     "text": [
      "ERROR:root:An error occurred while processing faces: Given groups=1, weight of size [32, 3, 3, 3], expected input[1, 15, 160, 160] to have 3 channels, but got 15 channels instead\n",
      "INFO:root:Video length: 467 frames\n"
     ]
    },
    {
     "name": "stdout",
     "output_type": "stream",
     "text": [
      "331\n",
      "(474, 844, 3)\n",
      "1\n",
      "0\n",
      "(472, 850, 3)\n",
      "1\n",
      "116\n",
      "(472, 850, 3)\n",
      "1\n",
      "233\n",
      "(472, 850, 3)\n",
      "1\n",
      "349\n",
      "(472, 850, 3)\n",
      "1\n"
     ]
    },
    {
     "name": "stderr",
     "output_type": "stream",
     "text": [
      "ERROR:root:An error occurred while processing faces: Given groups=1, weight of size [32, 3, 3, 3], expected input[1, 15, 160, 160] to have 3 channels, but got 15 channels instead\n",
      "INFO:root:Video length: 331 frames\n"
     ]
    },
    {
     "name": "stdout",
     "output_type": "stream",
     "text": [
      "466\n",
      "(472, 850, 3)\n",
      "1\n",
      "0\n",
      "(468, 842, 3)\n",
      "1\n",
      "82\n",
      "(468, 842, 3)\n",
      "1\n",
      "165\n",
      "(468, 842, 3)\n",
      "1\n",
      "247\n",
      "(468, 842, 3)\n",
      "1\n"
     ]
    },
    {
     "name": "stderr",
     "output_type": "stream",
     "text": [
      "ERROR:root:An error occurred while processing faces: Given groups=1, weight of size [32, 3, 3, 3], expected input[1, 15, 160, 160] to have 3 channels, but got 15 channels instead\n",
      "INFO:root:Video length: 311 frames\n"
     ]
    },
    {
     "name": "stdout",
     "output_type": "stream",
     "text": [
      "330\n",
      "(468, 842, 3)\n",
      "1\n",
      "0\n",
      "(440, 782, 3)\n",
      "1\n",
      "77\n",
      "(440, 782, 3)\n",
      "1\n",
      "155\n",
      "(440, 782, 3)\n",
      "1\n",
      "232\n",
      "(440, 782, 3)\n",
      "1\n"
     ]
    },
    {
     "name": "stderr",
     "output_type": "stream",
     "text": [
      "ERROR:root:An error occurred while processing faces: Given groups=1, weight of size [32, 3, 3, 3], expected input[1, 15, 160, 160] to have 3 channels, but got 15 channels instead\n",
      "INFO:root:Video length: 467 frames\n"
     ]
    },
    {
     "name": "stdout",
     "output_type": "stream",
     "text": [
      "310\n",
      "(440, 782, 3)\n",
      "1\n",
      "0\n",
      "(500, 944, 3)\n",
      "1\n",
      "116\n",
      "(500, 944, 3)\n",
      "1\n",
      "233\n",
      "(500, 944, 3)\n",
      "1\n",
      "349\n",
      "(500, 944, 3)\n"
     ]
    },
    {
     "name": "stderr",
     "output_type": "stream",
     "text": [
      "ERROR:root:An error occurred while processing faces: Given groups=1, weight of size [32, 3, 3, 3], expected input[1, 15, 160, 160] to have 3 channels, but got 15 channels instead\n",
      "INFO:root:Video length: 316 frames\n"
     ]
    },
    {
     "name": "stdout",
     "output_type": "stream",
     "text": [
      "1\n",
      "466\n",
      "(500, 944, 3)\n",
      "1\n",
      "0\n",
      "(478, 848, 3)\n",
      "1\n",
      "78\n",
      "(478, 848, 3)\n",
      "1\n",
      "157\n",
      "(478, 848, 3)\n",
      "1\n",
      "236\n",
      "(478, 848, 3)\n"
     ]
    },
    {
     "name": "stderr",
     "output_type": "stream",
     "text": [
      "ERROR:root:An error occurred while processing faces: Given groups=1, weight of size [32, 3, 3, 3], expected input[1, 15, 160, 160] to have 3 channels, but got 15 channels instead\n",
      "INFO:root:Video length: 230 frames\n"
     ]
    },
    {
     "name": "stdout",
     "output_type": "stream",
     "text": [
      "1\n",
      "315\n",
      "(478, 848, 3)\n",
      "1\n",
      "0\n",
      "(474, 844, 3)\n",
      "1\n",
      "57\n",
      "(474, 844, 3)\n",
      "1\n",
      "114\n",
      "(474, 844, 3)\n",
      "1\n",
      "171\n",
      "(474, 844, 3)\n",
      "1\n"
     ]
    },
    {
     "name": "stderr",
     "output_type": "stream",
     "text": [
      "ERROR:root:An error occurred while processing faces: Given groups=1, weight of size [32, 3, 3, 3], expected input[1, 15, 160, 160] to have 3 channels, but got 15 channels instead\n",
      "INFO:root:Video length: 332 frames\n"
     ]
    },
    {
     "name": "stdout",
     "output_type": "stream",
     "text": [
      "229\n",
      "(474, 844, 3)\n",
      "1\n",
      "0\n",
      "(478, 848, 3)\n",
      "1\n",
      "82\n",
      "(478, 848, 3)\n",
      "1\n",
      "165\n",
      "(478, 848, 3)\n",
      "1\n",
      "248\n",
      "(478, 848, 3)\n",
      "1\n"
     ]
    },
    {
     "name": "stderr",
     "output_type": "stream",
     "text": [
      "ERROR:root:An error occurred while processing faces: Given groups=1, weight of size [32, 3, 3, 3], expected input[1, 15, 160, 160] to have 3 channels, but got 15 channels instead\n",
      "INFO:root:Video length: 419 frames\n"
     ]
    },
    {
     "name": "stdout",
     "output_type": "stream",
     "text": [
      "331\n",
      "(478, 848, 3)\n",
      "1\n",
      "0\n",
      "(466, 848, 3)\n",
      "1\n",
      "104\n",
      "(466, 848, 3)\n",
      "1\n",
      "209\n",
      "(466, 848, 3)\n",
      "1\n",
      "313\n",
      "(466, 848, 3)\n",
      "1\n"
     ]
    },
    {
     "name": "stderr",
     "output_type": "stream",
     "text": [
      "ERROR:root:An error occurred while processing faces: Given groups=1, weight of size [32, 3, 3, 3], expected input[1, 15, 160, 160] to have 3 channels, but got 15 channels instead\n",
      "INFO:root:Video length: 454 frames\n"
     ]
    },
    {
     "name": "stdout",
     "output_type": "stream",
     "text": [
      "418\n",
      "(466, 848, 3)\n",
      "1\n",
      "0\n",
      "(478, 856, 3)\n",
      "1\n",
      "113\n",
      "(478, 856, 3)\n",
      "1\n",
      "226\n",
      "(478, 856, 3)\n",
      "1\n",
      "339\n",
      "(478, 856, 3)\n",
      "1\n"
     ]
    },
    {
     "name": "stderr",
     "output_type": "stream",
     "text": [
      "ERROR:root:An error occurred while processing faces: Given groups=1, weight of size [32, 3, 3, 3], expected input[1, 15, 160, 160] to have 3 channels, but got 15 channels instead\n",
      "INFO:root:Video length: 468 frames\n"
     ]
    },
    {
     "name": "stdout",
     "output_type": "stream",
     "text": [
      "453\n",
      "(478, 856, 3)\n",
      "1\n",
      "0\n",
      "(478, 856, 3)\n",
      "1\n",
      "116\n",
      "(478, 856, 3)\n",
      "1\n",
      "233\n",
      "(478, 856, 3)\n",
      "1\n"
     ]
    },
    {
     "name": "stderr",
     "output_type": "stream",
     "text": [
      "ERROR:root:An error occurred while processing faces: Given groups=1, weight of size [32, 3, 3, 3], expected input[1, 15, 160, 160] to have 3 channels, but got 15 channels instead\n",
      "INFO:root:Video length: 458 frames\n"
     ]
    },
    {
     "name": "stdout",
     "output_type": "stream",
     "text": [
      "350\n",
      "(478, 856, 3)\n",
      "1\n",
      "467\n",
      "(478, 856, 3)\n",
      "1\n",
      "0\n",
      "(500, 474, 3)\n",
      "1\n",
      "114\n",
      "(500, 474, 3)\n",
      "1\n",
      "228\n",
      "(500, 474, 3)\n",
      "1\n",
      "342\n",
      "(500, 474, 3)\n",
      "1\n"
     ]
    },
    {
     "name": "stderr",
     "output_type": "stream",
     "text": [
      "ERROR:root:An error occurred while processing faces: Given groups=1, weight of size [32, 3, 3, 3], expected input[1, 15, 160, 160] to have 3 channels, but got 15 channels instead\n",
      "INFO:root:Video length: 323 frames\n"
     ]
    },
    {
     "name": "stdout",
     "output_type": "stream",
     "text": [
      "457\n",
      "(500, 474, 3)\n",
      "1\n",
      "0\n",
      "(500, 944, 3)\n",
      "1\n",
      "80\n",
      "(500, 944, 3)\n",
      "1\n",
      "161\n",
      "(500, 944, 3)\n",
      "1\n",
      "241\n",
      "(500, 944, 3)\n",
      "1\n"
     ]
    },
    {
     "name": "stderr",
     "output_type": "stream",
     "text": [
      "ERROR:root:An error occurred while processing faces: Given groups=1, weight of size [32, 3, 3, 3], expected input[1, 15, 160, 160] to have 3 channels, but got 15 channels instead\n",
      "INFO:root:Video length: 340 frames\n"
     ]
    },
    {
     "name": "stdout",
     "output_type": "stream",
     "text": [
      "322\n",
      "(500, 944, 3)\n",
      "1\n",
      "0\n",
      "(458, 834, 3)\n",
      "1\n",
      "84\n",
      "(458, 834, 3)\n",
      "1\n",
      "169\n",
      "(458, 834, 3)\n",
      "1\n",
      "254\n",
      "(458, 834, 3)\n",
      "1\n"
     ]
    },
    {
     "name": "stderr",
     "output_type": "stream",
     "text": [
      "ERROR:root:An error occurred while processing faces: Given groups=1, weight of size [32, 3, 3, 3], expected input[1, 15, 160, 160] to have 3 channels, but got 15 channels instead\n",
      "INFO:root:Video length: 477 frames\n"
     ]
    },
    {
     "name": "stdout",
     "output_type": "stream",
     "text": [
      "339\n",
      "(458, 834, 3)\n",
      "1\n",
      "0\n",
      "(500, 944, 3)\n",
      "1\n",
      "119\n",
      "(500, 944, 3)\n",
      "1\n",
      "238\n",
      "(500, 944, 3)\n",
      "1\n",
      "357\n",
      "(500, 944, 3)\n",
      "1\n"
     ]
    },
    {
     "name": "stderr",
     "output_type": "stream",
     "text": [
      "ERROR:root:An error occurred while processing faces: Given groups=1, weight of size [32, 3, 3, 3], expected input[1, 15, 160, 160] to have 3 channels, but got 15 channels instead\n",
      "INFO:root:Video length: 473 frames\n"
     ]
    },
    {
     "name": "stdout",
     "output_type": "stream",
     "text": [
      "476\n",
      "(500, 944, 3)\n",
      "1\n",
      "0\n",
      "(478, 856, 3)\n",
      "1\n",
      "118\n",
      "(478, 856, 3)\n",
      "1\n",
      "236\n",
      "(478, 856, 3)\n",
      "1\n",
      "354\n",
      "(478, 856, 3)\n",
      "1\n"
     ]
    },
    {
     "name": "stderr",
     "output_type": "stream",
     "text": [
      "ERROR:root:An error occurred while processing faces: Given groups=1, weight of size [32, 3, 3, 3], expected input[1, 15, 160, 160] to have 3 channels, but got 15 channels instead\n",
      "INFO:root:Video length: 342 frames\n"
     ]
    },
    {
     "name": "stdout",
     "output_type": "stream",
     "text": [
      "472\n",
      "(478, 856, 3)\n",
      "1\n",
      "0\n",
      "(466, 744, 3)\n",
      "1\n",
      "85\n",
      "(466, 744, 3)\n",
      "1\n",
      "170\n",
      "(466, 744, 3)\n",
      "1\n",
      "255\n",
      "(466, 744, 3)\n",
      "1\n",
      "341\n",
      "(466, 744, 3)\n",
      "1\n"
     ]
    },
    {
     "name": "stderr",
     "output_type": "stream",
     "text": [
      "ERROR:root:An error occurred while processing faces: Given groups=1, weight of size [32, 3, 3, 3], expected input[1, 15, 160, 160] to have 3 channels, but got 15 channels instead\n",
      "INFO:root:Video length: 485 frames\n"
     ]
    },
    {
     "name": "stdout",
     "output_type": "stream",
     "text": [
      "0\n",
      "(472, 850, 3)\n",
      "1\n",
      "121\n",
      "(472, 850, 3)\n",
      "1\n",
      "242\n",
      "(472, 850, 3)\n",
      "1\n"
     ]
    },
    {
     "name": "stderr",
     "output_type": "stream",
     "text": [
      "ERROR:root:An error occurred while processing faces: Given groups=1, weight of size [32, 3, 3, 3], expected input[1, 15, 160, 160] to have 3 channels, but got 15 channels instead\n",
      "INFO:root:Video length: 322 frames\n"
     ]
    },
    {
     "name": "stdout",
     "output_type": "stream",
     "text": [
      "363\n",
      "(472, 850, 3)\n",
      "1\n",
      "484\n",
      "(472, 850, 3)\n",
      "1\n",
      "0\n",
      "(500, 472, 3)\n",
      "1\n",
      "80\n",
      "(500, 472, 3)\n",
      "1\n",
      "160\n",
      "(500, 472, 3)\n",
      "1\n",
      "240\n",
      "(500, 472, 3)\n",
      "1\n"
     ]
    },
    {
     "name": "stderr",
     "output_type": "stream",
     "text": [
      "ERROR:root:An error occurred while processing faces: Given groups=1, weight of size [32, 3, 3, 3], expected input[1, 15, 160, 160] to have 3 channels, but got 15 channels instead\n",
      "INFO:root:Video length: 454 frames\n"
     ]
    },
    {
     "name": "stdout",
     "output_type": "stream",
     "text": [
      "321\n",
      "(500, 472, 3)\n",
      "1\n",
      "0\n",
      "(478, 856, 3)\n",
      "1\n",
      "113\n",
      "(478, 856, 3)\n",
      "1\n",
      "226\n",
      "(478, 856, 3)\n",
      "1\n",
      "339\n",
      "(478, 856, 3)\n",
      "1\n"
     ]
    },
    {
     "name": "stderr",
     "output_type": "stream",
     "text": [
      "ERROR:root:An error occurred while processing faces: Given groups=1, weight of size [32, 3, 3, 3], expected input[1, 15, 160, 160] to have 3 channels, but got 15 channels instead\n",
      "INFO:root:Video length: 350 frames\n"
     ]
    },
    {
     "name": "stdout",
     "output_type": "stream",
     "text": [
      "453\n",
      "(478, 856, 3)\n",
      "1\n",
      "0\n",
      "(500, 944, 3)\n",
      "1\n",
      "87\n",
      "(500, 944, 3)\n",
      "1\n",
      "174\n",
      "(500, 944, 3)\n",
      "1\n",
      "261\n",
      "(500, 944, 3)\n",
      "1\n"
     ]
    },
    {
     "name": "stderr",
     "output_type": "stream",
     "text": [
      "ERROR:root:An error occurred while processing faces: Given groups=1, weight of size [32, 3, 3, 3], expected input[1, 15, 160, 160] to have 3 channels, but got 15 channels instead\n",
      "INFO:root:Video length: 383 frames\n"
     ]
    },
    {
     "name": "stdout",
     "output_type": "stream",
     "text": [
      "349\n",
      "(500, 944, 3)\n",
      "1\n",
      "0\n",
      "(478, 856, 3)\n",
      "1\n",
      "95\n",
      "(478, 856, 3)\n",
      "1\n",
      "191\n",
      "(478, 856, 3)\n",
      "1\n",
      "286\n",
      "(478, 856, 3)\n",
      "1\n"
     ]
    },
    {
     "name": "stderr",
     "output_type": "stream",
     "text": [
      "ERROR:root:An error occurred while processing faces: Given groups=1, weight of size [32, 3, 3, 3], expected input[1, 15, 160, 160] to have 3 channels, but got 15 channels instead\n",
      "INFO:root:Video length: 315 frames\n"
     ]
    },
    {
     "name": "stdout",
     "output_type": "stream",
     "text": [
      "382\n",
      "(478, 856, 3)\n",
      "1\n",
      "0\n",
      "(500, 950, 3)\n",
      "1\n",
      "78\n",
      "(500, 950, 3)\n",
      "1\n",
      "157\n",
      "(500, 950, 3)\n",
      "1\n"
     ]
    },
    {
     "name": "stderr",
     "output_type": "stream",
     "text": [
      "ERROR:root:An error occurred while processing faces: Given groups=1, weight of size [32, 3, 3, 3], expected input[1, 15, 160, 160] to have 3 channels, but got 15 channels instead\n",
      "INFO:root:Video length: 319 frames\n"
     ]
    },
    {
     "name": "stdout",
     "output_type": "stream",
     "text": [
      "235\n",
      "(500, 950, 3)\n",
      "1\n",
      "314\n",
      "(500, 950, 3)\n",
      "1\n",
      "0\n",
      "(474, 848, 3)\n",
      "1\n",
      "79\n",
      "(474, 848, 3)\n",
      "1\n",
      "159\n",
      "(474, 848, 3)\n",
      "1\n"
     ]
    },
    {
     "name": "stderr",
     "output_type": "stream",
     "text": [
      "ERROR:root:An error occurred while processing faces: Given groups=1, weight of size [32, 3, 3, 3], expected input[1, 15, 160, 160] to have 3 channels, but got 15 channels instead\n",
      "INFO:root:Video length: 334 frames\n"
     ]
    },
    {
     "name": "stdout",
     "output_type": "stream",
     "text": [
      "238\n",
      "(474, 848, 3)\n",
      "1\n",
      "318\n",
      "(474, 848, 3)\n",
      "1\n",
      "0\n",
      "(500, 556, 3)\n",
      "1\n",
      "83\n",
      "(500, 556, 3)\n",
      "1\n"
     ]
    },
    {
     "name": "stderr",
     "output_type": "stream",
     "text": [
      "ERROR:root:An error occurred while processing faces: Given groups=1, weight of size [32, 3, 3, 3], expected input[1, 15, 160, 160] to have 3 channels, but got 15 channels instead\n",
      "INFO:root:Video length: 320 frames\n"
     ]
    },
    {
     "name": "stdout",
     "output_type": "stream",
     "text": [
      "166\n",
      "(500, 556, 3)\n",
      "1\n",
      "249\n",
      "(500, 556, 3)\n",
      "1\n",
      "333\n",
      "(500, 556, 3)\n",
      "1\n",
      "0\n",
      "(472, 848, 3)\n",
      "1\n",
      "79\n",
      "(472, 848, 3)\n",
      "1\n",
      "159\n",
      "(472, 848, 3)\n"
     ]
    },
    {
     "name": "stderr",
     "output_type": "stream",
     "text": [
      "ERROR:root:An error occurred while processing faces: Given groups=1, weight of size [32, 3, 3, 3], expected input[1, 15, 160, 160] to have 3 channels, but got 15 channels instead\n",
      "INFO:root:Video length: 467 frames\n"
     ]
    },
    {
     "name": "stdout",
     "output_type": "stream",
     "text": [
      "1\n",
      "239\n",
      "(472, 848, 3)\n",
      "1\n",
      "319\n",
      "(472, 848, 3)\n",
      "1\n",
      "0\n",
      "(500, 892, 3)\n",
      "1\n",
      "116\n",
      "(500, 892, 3)\n",
      "1\n"
     ]
    },
    {
     "name": "stderr",
     "output_type": "stream",
     "text": [
      "ERROR:root:An error occurred while processing faces: Given groups=1, weight of size [32, 3, 3, 3], expected input[1, 15, 160, 160] to have 3 channels, but got 15 channels instead\n",
      "INFO:root:Video length: 365 frames\n"
     ]
    },
    {
     "name": "stdout",
     "output_type": "stream",
     "text": [
      "233\n",
      "(500, 892, 3)\n",
      "1\n",
      "349\n",
      "(500, 892, 3)\n",
      "1\n",
      "466\n",
      "(500, 892, 3)\n",
      "1\n",
      "0\n",
      "(500, 584, 3)\n",
      "1\n",
      "91\n",
      "(500, 584, 3)\n",
      "1\n",
      "182\n",
      "(500, 584, 3)\n",
      "1\n"
     ]
    },
    {
     "name": "stderr",
     "output_type": "stream",
     "text": [
      "ERROR:root:An error occurred while processing faces: Given groups=1, weight of size [32, 3, 3, 3], expected input[1, 15, 160, 160] to have 3 channels, but got 15 channels instead\n",
      "INFO:root:Video length: 353 frames\n"
     ]
    },
    {
     "name": "stdout",
     "output_type": "stream",
     "text": [
      "273\n",
      "(500, 584, 3)\n",
      "1\n",
      "364\n",
      "(500, 584, 3)\n",
      "1\n",
      "0\n",
      "(478, 856, 3)\n",
      "1\n",
      "88\n",
      "(478, 856, 3)\n",
      "1\n",
      "176\n",
      "(478, 856, 3)\n",
      "1\n",
      "264\n",
      "(478, 856, 3)\n",
      "1\n"
     ]
    },
    {
     "name": "stderr",
     "output_type": "stream",
     "text": [
      "ERROR:root:An error occurred while processing faces: Given groups=1, weight of size [32, 3, 3, 3], expected input[1, 15, 160, 160] to have 3 channels, but got 15 channels instead\n",
      "INFO:root:Video length: 380 frames\n"
     ]
    },
    {
     "name": "stdout",
     "output_type": "stream",
     "text": [
      "352\n",
      "(478, 856, 3)\n",
      "1\n",
      "0\n",
      "(466, 848, 3)\n",
      "1\n",
      "94\n",
      "(466, 848, 3)\n",
      "1\n",
      "189\n",
      "(466, 848, 3)\n",
      "1\n",
      "284\n",
      "(466, 848, 3)\n",
      "1\n",
      "379\n",
      "(466, 848, 3)\n"
     ]
    },
    {
     "name": "stderr",
     "output_type": "stream",
     "text": [
      "ERROR:root:An error occurred while processing faces: Given groups=1, weight of size [32, 3, 3, 3], expected input[1, 15, 160, 160] to have 3 channels, but got 15 channels instead\n",
      "INFO:root:Video length: 372 frames\n"
     ]
    },
    {
     "name": "stdout",
     "output_type": "stream",
     "text": [
      "1\n",
      "0\n",
      "(500, 944, 3)\n",
      "1\n",
      "92\n",
      "(500, 944, 3)\n",
      "1\n",
      "185\n",
      "(500, 944, 3)\n",
      "1\n",
      "278\n",
      "(500, 944, 3)\n"
     ]
    },
    {
     "name": "stderr",
     "output_type": "stream",
     "text": [
      "ERROR:root:An error occurred while processing faces: Given groups=1, weight of size [32, 3, 3, 3], expected input[1, 15, 160, 160] to have 3 channels, but got 15 channels instead\n",
      "INFO:root:Video length: 338 frames\n"
     ]
    },
    {
     "name": "stdout",
     "output_type": "stream",
     "text": [
      "1\n",
      "371\n",
      "(500, 944, 3)\n",
      "1\n",
      "0\n",
      "(420, 826, 3)\n",
      "1\n",
      "84\n",
      "(420, 826, 3)\n",
      "1\n"
     ]
    },
    {
     "name": "stderr",
     "output_type": "stream",
     "text": [
      "ERROR:root:An error occurred while processing faces: Given groups=1, weight of size [32, 3, 3, 3], expected input[1, 15, 160, 160] to have 3 channels, but got 15 channels instead\n",
      "INFO:root:Video length: 283 frames\n"
     ]
    },
    {
     "name": "stdout",
     "output_type": "stream",
     "text": [
      "168\n",
      "(420, 826, 3)\n",
      "1\n",
      "252\n",
      "(420, 826, 3)\n",
      "1\n",
      "337\n",
      "(420, 826, 3)\n",
      "1\n",
      "0\n",
      "(458, 834, 3)\n",
      "1\n",
      "70\n",
      "(458, 834, 3)\n",
      "1\n",
      "141\n",
      "(458, 834, 3)\n",
      "1\n"
     ]
    },
    {
     "name": "stderr",
     "output_type": "stream",
     "text": [
      "ERROR:root:An error occurred while processing faces: Given groups=1, weight of size [32, 3, 3, 3], expected input[1, 15, 160, 160] to have 3 channels, but got 15 channels instead\n",
      "INFO:root:Video length: 516 frames\n"
     ]
    },
    {
     "name": "stdout",
     "output_type": "stream",
     "text": [
      "211\n",
      "(458, 834, 3)\n",
      "1\n",
      "282\n",
      "(458, 834, 3)\n",
      "1\n",
      "0\n",
      "(466, 848, 3)\n",
      "1\n",
      "128\n",
      "(466, 848, 3)\n",
      "1\n",
      "257\n",
      "(466, 848, 3)\n",
      "1\n",
      "386\n",
      "(466, 848, 3)\n"
     ]
    },
    {
     "name": "stderr",
     "output_type": "stream",
     "text": [
      "ERROR:root:An error occurred while processing faces: Given groups=1, weight of size [32, 3, 3, 3], expected input[1, 15, 160, 160] to have 3 channels, but got 15 channels instead\n",
      "INFO:root:Video length: 353 frames\n"
     ]
    },
    {
     "name": "stdout",
     "output_type": "stream",
     "text": [
      "1\n",
      "515\n",
      "(466, 848, 3)\n",
      "1\n",
      "0\n",
      "(478, 856, 3)\n",
      "1\n",
      "88\n",
      "(478, 856, 3)\n",
      "1\n",
      "176\n",
      "(478, 856, 3)\n",
      "1\n",
      "264\n"
     ]
    },
    {
     "name": "stderr",
     "output_type": "stream",
     "text": [
      "ERROR:root:An error occurred while processing faces: Given groups=1, weight of size [32, 3, 3, 3], expected input[1, 15, 160, 160] to have 3 channels, but got 15 channels instead\n",
      "INFO:root:Video length: 409 frames\n"
     ]
    },
    {
     "name": "stdout",
     "output_type": "stream",
     "text": [
      "(478, 856, 3)\n",
      "1\n",
      "352\n",
      "(478, 856, 3)\n",
      "1\n",
      "0\n",
      "(500, 432, 3)\n",
      "1\n",
      "102\n",
      "(500, 432, 3)\n",
      "1\n",
      "204\n",
      "(500, 432, 3)\n",
      "1\n",
      "306\n",
      "(500, 432, 3)\n",
      "1\n"
     ]
    },
    {
     "name": "stderr",
     "output_type": "stream",
     "text": [
      "ERROR:root:An error occurred while processing faces: Given groups=1, weight of size [32, 3, 3, 3], expected input[1, 15, 160, 160] to have 3 channels, but got 15 channels instead\n",
      "INFO:root:Video length: 470 frames\n"
     ]
    },
    {
     "name": "stdout",
     "output_type": "stream",
     "text": [
      "408\n",
      "(500, 432, 3)\n",
      "1\n",
      "0\n",
      "(500, 638, 3)\n",
      "1\n",
      "117\n",
      "(500, 638, 3)\n",
      "1\n",
      "234\n",
      "(500, 638, 3)\n",
      "1\n",
      "351\n",
      "(500, 638, 3)\n",
      "1\n"
     ]
    },
    {
     "name": "stderr",
     "output_type": "stream",
     "text": [
      "ERROR:root:An error occurred while processing faces: Given groups=1, weight of size [32, 3, 3, 3], expected input[1, 15, 160, 160] to have 3 channels, but got 15 channels instead\n",
      "INFO:root:Video length: 361 frames\n"
     ]
    },
    {
     "name": "stdout",
     "output_type": "stream",
     "text": [
      "469\n",
      "(500, 638, 3)\n",
      "1\n",
      "0\n",
      "(500, 668, 3)\n",
      "1\n",
      "90\n",
      "(500, 668, 3)\n",
      "1\n",
      "180\n",
      "(500, 668, 3)\n",
      "1\n",
      "270\n",
      "(500, 668, 3)\n",
      "1\n",
      "360\n",
      "(500, 668, 3)\n",
      "1\n"
     ]
    },
    {
     "name": "stderr",
     "output_type": "stream",
     "text": [
      "ERROR:root:An error occurred while processing faces: Given groups=1, weight of size [32, 3, 3, 3], expected input[1, 15, 160, 160] to have 3 channels, but got 15 channels instead\n",
      "INFO:root:Video length: 341 frames\n",
      "ERROR:root:An error occurred while processing faces: Given groups=1, weight of size [32, 3, 3, 3], expected input[1, 15, 160, 160] to have 3 channels, but got 15 channels instead\n"
     ]
    },
    {
     "name": "stdout",
     "output_type": "stream",
     "text": [
      "0\n",
      "(500, 676, 3)\n",
      "1\n",
      "85\n",
      "(500, 676, 3)\n",
      "1\n",
      "170\n",
      "(500, 676, 3)\n",
      "1\n",
      "255\n",
      "(500, 676, 3)\n",
      "1\n",
      "340\n",
      "(500, 676, 3)\n",
      "1\n"
     ]
    },
    {
     "name": "stderr",
     "output_type": "stream",
     "text": [
      "INFO:root:Video length: 582 frames\n"
     ]
    },
    {
     "name": "stdout",
     "output_type": "stream",
     "text": [
      "0\n",
      "(478, 856, 3)\n",
      "1\n",
      "145\n",
      "(478, 856, 3)\n",
      "1\n",
      "290\n",
      "(478, 856, 3)\n",
      "1\n",
      "435\n",
      "(478, 856, 3)\n",
      "1\n",
      "581\n",
      "(478, 856, 3)\n",
      "1\n"
     ]
    },
    {
     "name": "stderr",
     "output_type": "stream",
     "text": [
      "ERROR:root:An error occurred while processing faces: Given groups=1, weight of size [32, 3, 3, 3], expected input[1, 15, 160, 160] to have 3 channels, but got 15 channels instead\n",
      "INFO:root:Video length: 322 frames\n",
      "ERROR:root:An error occurred while processing faces: Given groups=1, weight of size [32, 3, 3, 3], expected input[1, 15, 160, 160] to have 3 channels, but got 15 channels instead\n",
      "INFO:root:Video length: 335 frames\n"
     ]
    },
    {
     "name": "stdout",
     "output_type": "stream",
     "text": [
      "0\n",
      "(500, 472, 3)\n",
      "1\n",
      "80\n",
      "(500, 472, 3)\n",
      "1\n",
      "160\n",
      "(500, 472, 3)\n",
      "1\n",
      "240\n",
      "(500, 472, 3)\n",
      "1\n",
      "321\n",
      "(500, 472, 3)\n",
      "1\n",
      "0\n",
      "(432, 856, 3)\n",
      "1\n"
     ]
    },
    {
     "name": "stderr",
     "output_type": "stream",
     "text": [
      "ERROR:root:An error occurred while processing faces: Given groups=1, weight of size [32, 3, 3, 3], expected input[1, 15, 160, 160] to have 3 channels, but got 15 channels instead\n",
      "INFO:root:Video length: 307 frames\n"
     ]
    },
    {
     "name": "stdout",
     "output_type": "stream",
     "text": [
      "83\n",
      "(432, 856, 3)\n",
      "1\n",
      "167\n",
      "(432, 856, 3)\n",
      "1\n",
      "250\n",
      "(432, 856, 3)\n",
      "1\n",
      "334\n",
      "(432, 856, 3)\n",
      "1\n",
      "0\n",
      "(458, 834, 3)\n",
      "1\n",
      "76\n",
      "(458, 834, 3)\n"
     ]
    },
    {
     "name": "stderr",
     "output_type": "stream",
     "text": [
      "ERROR:root:An error occurred while processing faces: Given groups=1, weight of size [32, 3, 3, 3], expected input[1, 15, 160, 160] to have 3 channels, but got 15 channels instead\n",
      "INFO:root:Video length: 516 frames\n"
     ]
    },
    {
     "name": "stdout",
     "output_type": "stream",
     "text": [
      "1\n",
      "153\n",
      "(458, 834, 3)\n",
      "1\n",
      "229\n",
      "(458, 834, 3)\n",
      "1\n",
      "306\n",
      "(458, 834, 3)\n",
      "1\n",
      "0\n",
      "(472, 850, 3)\n",
      "1\n"
     ]
    },
    {
     "name": "stderr",
     "output_type": "stream",
     "text": [
      "ERROR:root:An error occurred while processing faces: Given groups=1, weight of size [32, 3, 3, 3], expected input[1, 15, 160, 160] to have 3 channels, but got 15 channels instead\n",
      "INFO:root:Video length: 323 frames\n"
     ]
    },
    {
     "name": "stdout",
     "output_type": "stream",
     "text": [
      "128\n",
      "(472, 850, 3)\n",
      "1\n",
      "257\n",
      "(472, 850, 3)\n",
      "1\n",
      "386\n",
      "(472, 850, 3)\n",
      "1\n",
      "515\n",
      "(472, 850, 3)\n",
      "1\n",
      "0\n",
      "(474, 846, 3)\n",
      "1\n"
     ]
    },
    {
     "name": "stderr",
     "output_type": "stream",
     "text": [
      "ERROR:root:An error occurred while processing faces: Given groups=1, weight of size [32, 3, 3, 3], expected input[1, 15, 160, 160] to have 3 channels, but got 15 channels instead\n",
      "INFO:root:Video length: 327 frames\n"
     ]
    },
    {
     "name": "stdout",
     "output_type": "stream",
     "text": [
      "80\n",
      "(474, 846, 3)\n",
      "1\n",
      "161\n",
      "(474, 846, 3)\n",
      "1\n",
      "241\n",
      "(474, 846, 3)\n",
      "1\n",
      "322\n",
      "(474, 846, 3)\n",
      "1\n",
      "0\n",
      "(500, 656, 3)\n",
      "1\n",
      "81\n",
      "(500, 656, 3)\n",
      "1\n"
     ]
    },
    {
     "name": "stderr",
     "output_type": "stream",
     "text": [
      "ERROR:root:An error occurred while processing faces: Given groups=1, weight of size [32, 3, 3, 3], expected input[1, 15, 160, 160] to have 3 channels, but got 15 channels instead\n",
      "INFO:root:Video length: 404 frames\n"
     ]
    },
    {
     "name": "stdout",
     "output_type": "stream",
     "text": [
      "163\n",
      "(500, 656, 3)\n",
      "1\n",
      "244\n",
      "(500, 656, 3)\n",
      "1\n",
      "326\n",
      "(500, 656, 3)\n",
      "1\n",
      "0\n",
      "(472, 850, 3)\n",
      "1\n"
     ]
    },
    {
     "name": "stderr",
     "output_type": "stream",
     "text": [
      "ERROR:root:An error occurred while processing faces: Given groups=1, weight of size [32, 3, 3, 3], expected input[1, 15, 160, 160] to have 3 channels, but got 15 channels instead\n",
      "INFO:root:Video length: 525 frames\n"
     ]
    },
    {
     "name": "stdout",
     "output_type": "stream",
     "text": [
      "100\n",
      "(472, 850, 3)\n",
      "1\n",
      "201\n",
      "(472, 850, 3)\n",
      "1\n",
      "302\n",
      "(472, 850, 3)\n",
      "1\n",
      "403\n",
      "(472, 850, 3)\n",
      "1\n",
      "0\n",
      "(500, 944, 3)\n",
      "1\n"
     ]
    },
    {
     "name": "stderr",
     "output_type": "stream",
     "text": [
      "ERROR:root:An error occurred while processing faces: Given groups=1, weight of size [32, 3, 3, 3], expected input[1, 15, 160, 160] to have 3 channels, but got 15 channels instead\n",
      "INFO:root:Video length: 448 frames\n"
     ]
    },
    {
     "name": "stdout",
     "output_type": "stream",
     "text": [
      "131\n",
      "(500, 944, 3)\n",
      "1\n",
      "262\n",
      "(500, 944, 3)\n",
      "1\n",
      "393\n",
      "(500, 944, 3)\n",
      "1\n",
      "524\n",
      "(500, 944, 3)\n",
      "1\n",
      "0\n",
      "(500, 892, 3)\n",
      "1\n"
     ]
    },
    {
     "name": "stderr",
     "output_type": "stream",
     "text": [
      "ERROR:root:An error occurred while processing faces: Given groups=1, weight of size [32, 3, 3, 3], expected input[1, 15, 160, 160] to have 3 channels, but got 15 channels instead\n",
      "INFO:root:Video length: 516 frames\n"
     ]
    },
    {
     "name": "stdout",
     "output_type": "stream",
     "text": [
      "111\n",
      "(500, 892, 3)\n",
      "1\n",
      "223\n",
      "(500, 892, 3)\n",
      "1\n",
      "335\n",
      "(500, 892, 3)\n",
      "1\n",
      "447\n",
      "(500, 892, 3)\n",
      "1\n",
      "0\n",
      "(472, 850, 3)\n",
      "1\n",
      "128\n",
      "(472, 850, 3)\n"
     ]
    },
    {
     "name": "stderr",
     "output_type": "stream",
     "text": [
      "ERROR:root:An error occurred while processing faces: Given groups=1, weight of size [32, 3, 3, 3], expected input[1, 15, 160, 160] to have 3 channels, but got 15 channels instead\n"
     ]
    },
    {
     "name": "stdout",
     "output_type": "stream",
     "text": [
      "1\n",
      "257\n",
      "(472, 850, 3)\n",
      "1\n",
      "386\n",
      "(472, 850, 3)\n",
      "1\n",
      "515\n",
      "(472, 850, 3)\n",
      "1\n"
     ]
    },
    {
     "name": "stderr",
     "output_type": "stream",
     "text": [
      "INFO:root:Video length: 294 frames\n"
     ]
    },
    {
     "name": "stdout",
     "output_type": "stream",
     "text": [
      "0\n",
      "(500, 944, 3)\n",
      "1\n",
      "73\n",
      "(500, 944, 3)\n",
      "1\n",
      "146\n",
      "(500, 944, 3)\n",
      "1\n",
      "219\n",
      "(500, 944, 3)\n",
      "1\n",
      "293\n",
      "(500, 944, 3)\n",
      "1\n"
     ]
    },
    {
     "name": "stderr",
     "output_type": "stream",
     "text": [
      "ERROR:root:An error occurred while processing faces: Given groups=1, weight of size [32, 3, 3, 3], expected input[1, 15, 160, 160] to have 3 channels, but got 15 channels instead\n",
      "INFO:root:Video length: 329 frames\n",
      "ERROR:root:An error occurred while processing faces: Given groups=1, weight of size [32, 3, 3, 3], expected input[1, 15, 160, 160] to have 3 channels, but got 15 channels instead\n"
     ]
    },
    {
     "name": "stdout",
     "output_type": "stream",
     "text": [
      "0\n",
      "(476, 850, 3)\n",
      "1\n",
      "82\n",
      "(476, 850, 3)\n",
      "1\n",
      "164\n",
      "(476, 850, 3)\n",
      "1\n",
      "246\n",
      "(476, 850, 3)\n",
      "1\n",
      "328\n",
      "(476, 850, 3)\n",
      "1\n"
     ]
    },
    {
     "name": "stderr",
     "output_type": "stream",
     "text": [
      "INFO:root:Video length: 314 frames\n"
     ]
    },
    {
     "name": "stdout",
     "output_type": "stream",
     "text": [
      "0\n",
      "(478, 856, 3)\n",
      "1\n",
      "78\n",
      "(478, 856, 3)\n",
      "1\n",
      "156\n",
      "(478, 856, 3)\n",
      "1\n",
      "234\n",
      "(478, 856, 3)\n"
     ]
    },
    {
     "name": "stderr",
     "output_type": "stream",
     "text": [
      "ERROR:root:An error occurred while processing faces: Given groups=1, weight of size [32, 3, 3, 3], expected input[1, 15, 160, 160] to have 3 channels, but got 15 channels instead\n",
      "INFO:root:Video length: 307 frames\n"
     ]
    },
    {
     "name": "stdout",
     "output_type": "stream",
     "text": [
      "1\n",
      "313\n",
      "(478, 856, 3)\n",
      "1\n",
      "0\n",
      "(500, 944, 3)\n",
      "1\n",
      "76\n",
      "(500, 944, 3)\n",
      "1\n",
      "153\n",
      "(500, 944, 3)\n",
      "1\n"
     ]
    },
    {
     "name": "stderr",
     "output_type": "stream",
     "text": [
      "ERROR:root:An error occurred while processing faces: Given groups=1, weight of size [32, 3, 3, 3], expected input[1, 15, 160, 160] to have 3 channels, but got 15 channels instead\n",
      "INFO:root:Video length: 266 frames\n"
     ]
    },
    {
     "name": "stdout",
     "output_type": "stream",
     "text": [
      "229\n",
      "(500, 944, 3)\n",
      "1\n",
      "306\n",
      "(500, 944, 3)\n",
      "1\n",
      "0\n",
      "(466, 848, 3)\n",
      "1\n",
      "66\n",
      "(466, 848, 3)\n",
      "1\n",
      "132\n",
      "(466, 848, 3)\n",
      "1\n"
     ]
    },
    {
     "name": "stderr",
     "output_type": "stream",
     "text": [
      "ERROR:root:An error occurred while processing faces: Given groups=1, weight of size [32, 3, 3, 3], expected input[1, 15, 160, 160] to have 3 channels, but got 15 channels instead\n",
      "INFO:root:Video length: 316 frames\n"
     ]
    },
    {
     "name": "stdout",
     "output_type": "stream",
     "text": [
      "198\n",
      "(466, 848, 3)\n",
      "1\n",
      "265\n",
      "(466, 848, 3)\n",
      "1\n",
      "0\n",
      "(470, 830, 3)\n",
      "1\n",
      "78\n",
      "(470, 830, 3)\n",
      "1\n",
      "157\n",
      "(470, 830, 3)\n",
      "1\n",
      "236\n",
      "(470, 830, 3)\n",
      "1\n"
     ]
    },
    {
     "name": "stderr",
     "output_type": "stream",
     "text": [
      "ERROR:root:An error occurred while processing faces: Given groups=1, weight of size [32, 3, 3, 3], expected input[1, 15, 160, 160] to have 3 channels, but got 15 channels instead\n",
      "INFO:root:Video length: 295 frames\n"
     ]
    },
    {
     "name": "stdout",
     "output_type": "stream",
     "text": [
      "315\n",
      "(470, 830, 3)\n",
      "1\n",
      "0\n",
      "(500, 626, 3)\n",
      "1\n",
      "73\n",
      "(500, 626, 3)\n",
      "1\n",
      "147\n",
      "(500, 626, 3)\n",
      "1\n",
      "220\n",
      "(500, 626, 3)\n",
      "1\n",
      "294\n",
      "(500, 626, 3)\n",
      "1\n"
     ]
    },
    {
     "name": "stderr",
     "output_type": "stream",
     "text": [
      "ERROR:root:An error occurred while processing faces: Given groups=1, weight of size [32, 3, 3, 3], expected input[1, 15, 160, 160] to have 3 channels, but got 15 channels instead\n",
      "INFO:root:Video length: 283 frames\n",
      "ERROR:root:An error occurred while processing faces: Given groups=1, weight of size [32, 3, 3, 3], expected input[1, 15, 160, 160] to have 3 channels, but got 15 channels instead\n"
     ]
    },
    {
     "name": "stdout",
     "output_type": "stream",
     "text": [
      "0\n",
      "(458, 834, 3)\n",
      "1\n",
      "70\n",
      "(458, 834, 3)\n",
      "1\n",
      "141\n",
      "(458, 834, 3)\n",
      "1\n",
      "211\n",
      "(458, 834, 3)\n",
      "1\n",
      "282\n",
      "(458, 834, 3)\n",
      "1\n"
     ]
    },
    {
     "name": "stderr",
     "output_type": "stream",
     "text": [
      "INFO:root:Video length: 272 frames\n"
     ]
    },
    {
     "name": "stdout",
     "output_type": "stream",
     "text": [
      "0\n",
      "(500, 456, 3)\n",
      "1\n",
      "67\n",
      "(500, 456, 3)\n",
      "1\n",
      "135\n",
      "(500, 456, 3)\n",
      "1\n",
      "203\n",
      "(500, 456, 3)\n",
      "1\n",
      "271\n",
      "(500, 456, 3)\n",
      "1\n"
     ]
    },
    {
     "name": "stderr",
     "output_type": "stream",
     "text": [
      "ERROR:root:An error occurred while processing faces: Given groups=1, weight of size [32, 3, 3, 3], expected input[1, 15, 160, 160] to have 3 channels, but got 15 channels instead\n",
      "INFO:root:Video length: 451 frames\n"
     ]
    },
    {
     "name": "stdout",
     "output_type": "stream",
     "text": [
      "0\n",
      "(478, 856, 3)\n",
      "1\n",
      "112\n",
      "(478, 856, 3)\n",
      "1\n",
      "225\n",
      "(478, 856, 3)\n",
      "1\n",
      "337\n",
      "(478, 856, 3)\n",
      "1\n"
     ]
    },
    {
     "name": "stderr",
     "output_type": "stream",
     "text": [
      "ERROR:root:An error occurred while processing faces: Given groups=1, weight of size [32, 3, 3, 3], expected input[1, 15, 160, 160] to have 3 channels, but got 15 channels instead\n",
      "INFO:root:Video length: 427 frames\n"
     ]
    },
    {
     "name": "stdout",
     "output_type": "stream",
     "text": [
      "450\n",
      "(478, 856, 3)\n",
      "1\n",
      "0\n",
      "(478, 856, 3)\n",
      "1\n",
      "106\n",
      "(478, 856, 3)\n",
      "1\n",
      "213\n",
      "(478, 856, 3)\n",
      "1\n",
      "319\n",
      "(478, 856, 3)\n",
      "1\n"
     ]
    },
    {
     "name": "stderr",
     "output_type": "stream",
     "text": [
      "ERROR:root:An error occurred while processing faces: Given groups=1, weight of size [32, 3, 3, 3], expected input[1, 15, 160, 160] to have 3 channels, but got 15 channels instead\n",
      "INFO:root:Video length: 459 frames\n"
     ]
    },
    {
     "name": "stdout",
     "output_type": "stream",
     "text": [
      "426\n",
      "(478, 856, 3)\n",
      "1\n",
      "0\n",
      "(478, 856, 3)\n",
      "1\n",
      "114\n",
      "(478, 856, 3)\n",
      "1\n",
      "229\n",
      "(478, 856, 3)\n",
      "1\n",
      "343\n",
      "(478, 856, 3)\n"
     ]
    },
    {
     "name": "stderr",
     "output_type": "stream",
     "text": [
      "ERROR:root:An error occurred while processing faces: Given groups=1, weight of size [32, 3, 3, 3], expected input[1, 15, 160, 160] to have 3 channels, but got 15 channels instead\n",
      "INFO:root:Video length: 450 frames\n"
     ]
    },
    {
     "name": "stdout",
     "output_type": "stream",
     "text": [
      "1\n",
      "458\n",
      "(478, 856, 3)\n",
      "1\n",
      "0\n",
      "(480, 852, 3)\n",
      "1\n",
      "112\n",
      "(480, 852, 3)\n",
      "1\n",
      "224\n",
      "(480, 852, 3)\n",
      "1\n"
     ]
    },
    {
     "name": "stderr",
     "output_type": "stream",
     "text": [
      "ERROR:root:An error occurred while processing faces: Given groups=1, weight of size [32, 3, 3, 3], expected input[1, 15, 160, 160] to have 3 channels, but got 15 channels instead\n",
      "INFO:root:Video length: 344 frames\n"
     ]
    },
    {
     "name": "stdout",
     "output_type": "stream",
     "text": [
      "336\n",
      "(480, 852, 3)\n",
      "1\n",
      "449\n",
      "(480, 852, 3)\n",
      "1\n",
      "0\n",
      "(480, 852, 3)\n",
      "1\n",
      "85\n",
      "(480, 852, 3)\n",
      "1\n",
      "171\n",
      "(480, 852, 3)\n",
      "1\n"
     ]
    },
    {
     "name": "stderr",
     "output_type": "stream",
     "text": [
      "ERROR:root:An error occurred while processing faces: Given groups=1, weight of size [32, 3, 3, 3], expected input[1, 15, 160, 160] to have 3 channels, but got 15 channels instead\n",
      "INFO:root:Video length: 319 frames\n"
     ]
    },
    {
     "name": "stdout",
     "output_type": "stream",
     "text": [
      "257\n",
      "(480, 852, 3)\n",
      "1\n",
      "343\n",
      "(480, 852, 3)\n",
      "1\n",
      "0\n",
      "(466, 418, 3)\n",
      "1\n",
      "79\n",
      "(466, 418, 3)\n",
      "1\n",
      "159\n",
      "(466, 418, 3)\n",
      "1\n",
      "238\n",
      "(466, 418, 3)\n",
      "1\n",
      "318\n",
      "(466, 418, 3)\n",
      "1\n"
     ]
    },
    {
     "name": "stderr",
     "output_type": "stream",
     "text": [
      "ERROR:root:An error occurred while processing faces: Given groups=1, weight of size [32, 3, 3, 3], expected input[1, 15, 160, 160] to have 3 channels, but got 15 channels instead\n",
      "INFO:root:Video length: 320 frames\n"
     ]
    },
    {
     "name": "stdout",
     "output_type": "stream",
     "text": [
      "0\n",
      "(472, 848, 3)\n",
      "1\n",
      "79\n",
      "(472, 848, 3)\n",
      "1\n",
      "159\n",
      "(472, 848, 3)\n",
      "1\n",
      "239\n",
      "(472, 848, 3)\n",
      "1\n",
      "319\n",
      "(472, 848, 3)\n",
      "1\n"
     ]
    },
    {
     "name": "stderr",
     "output_type": "stream",
     "text": [
      "ERROR:root:An error occurred while processing faces: Given groups=1, weight of size [32, 3, 3, 3], expected input[1, 15, 160, 160] to have 3 channels, but got 15 channels instead\n",
      "INFO:root:Video length: 409 frames\n",
      "ERROR:root:An error occurred while processing faces: Given groups=1, weight of size [32, 3, 3, 3], expected input[1, 15, 160, 160] to have 3 channels, but got 15 channels instead\n"
     ]
    },
    {
     "name": "stdout",
     "output_type": "stream",
     "text": [
      "0\n",
      "(500, 568, 3)\n",
      "1\n",
      "102\n",
      "(500, 568, 3)\n",
      "1\n",
      "204\n",
      "(500, 568, 3)\n",
      "1\n",
      "306\n",
      "(500, 568, 3)\n",
      "1\n",
      "408\n",
      "(500, 568, 3)\n",
      "1\n"
     ]
    },
    {
     "name": "stderr",
     "output_type": "stream",
     "text": [
      "INFO:root:Video length: 451 frames\n"
     ]
    },
    {
     "name": "stdout",
     "output_type": "stream",
     "text": [
      "0\n",
      "(478, 856, 3)\n",
      "1\n",
      "112\n",
      "(478, 856, 3)\n",
      "1\n",
      "225\n",
      "(478, 856, 3)\n",
      "1\n",
      "337\n",
      "(478, 856, 3)\n",
      "1\n",
      "450\n",
      "(478, 856, 3)\n",
      "1\n"
     ]
    },
    {
     "name": "stderr",
     "output_type": "stream",
     "text": [
      "ERROR:root:An error occurred while processing faces: Given groups=1, weight of size [32, 3, 3, 3], expected input[1, 15, 160, 160] to have 3 channels, but got 15 channels instead\n",
      "INFO:root:Video length: 465 frames\n",
      "ERROR:root:An error occurred while processing faces: Given groups=1, weight of size [32, 3, 3, 3], expected input[1, 15, 160, 160] to have 3 channels, but got 15 channels instead\n"
     ]
    },
    {
     "name": "stdout",
     "output_type": "stream",
     "text": [
      "0\n",
      "(472, 850, 3)\n",
      "1\n",
      "116\n",
      "(472, 850, 3)\n",
      "1\n",
      "232\n",
      "(472, 850, 3)\n",
      "1\n",
      "348\n",
      "(472, 850, 3)\n",
      "1\n",
      "464\n",
      "(472, 850, 3)\n",
      "1\n"
     ]
    },
    {
     "name": "stderr",
     "output_type": "stream",
     "text": [
      "INFO:root:Video length: 461 frames\n"
     ]
    },
    {
     "name": "stdout",
     "output_type": "stream",
     "text": [
      "0\n",
      "(500, 944, 3)\n",
      "1\n",
      "115\n",
      "(500, 944, 3)\n",
      "1\n",
      "230\n",
      "(500, 944, 3)\n",
      "1\n",
      "345\n",
      "(500, 944, 3)\n",
      "1\n",
      "460\n",
      "(500, 944, 3)\n",
      "1\n"
     ]
    },
    {
     "name": "stderr",
     "output_type": "stream",
     "text": [
      "ERROR:root:An error occurred while processing faces: Given groups=1, weight of size [32, 3, 3, 3], expected input[1, 15, 160, 160] to have 3 channels, but got 15 channels instead\n",
      "INFO:root:Video length: 401 frames\n"
     ]
    },
    {
     "name": "stdout",
     "output_type": "stream",
     "text": [
      "0\n",
      "(500, 944, 3)\n",
      "1\n",
      "100\n",
      "(500, 944, 3)\n",
      "1\n",
      "200\n",
      "(500, 944, 3)\n",
      "1\n",
      "300\n",
      "(500, 944, 3)\n",
      "1\n",
      "400\n",
      "(500, 944, 3)\n",
      "1\n"
     ]
    },
    {
     "name": "stderr",
     "output_type": "stream",
     "text": [
      "ERROR:root:An error occurred while processing faces: Given groups=1, weight of size [32, 3, 3, 3], expected input[1, 15, 160, 160] to have 3 channels, but got 15 channels instead\n",
      "INFO:root:Video length: 377 frames\n",
      "ERROR:root:An error occurred while processing faces: Given groups=1, weight of size [32, 3, 3, 3], expected input[1, 15, 160, 160] to have 3 channels, but got 15 channels instead\n"
     ]
    },
    {
     "name": "stdout",
     "output_type": "stream",
     "text": [
      "0\n",
      "(478, 856, 3)\n",
      "1\n",
      "94\n",
      "(478, 856, 3)\n",
      "1\n",
      "188\n",
      "(478, 856, 3)\n",
      "1\n",
      "282\n",
      "(478, 856, 3)\n",
      "1\n",
      "376\n",
      "(478, 856, 3)\n",
      "1\n"
     ]
    },
    {
     "name": "stderr",
     "output_type": "stream",
     "text": [
      "INFO:root:Video length: 333 frames\n",
      "ERROR:root:An error occurred while processing faces: Given groups=1, weight of size [32, 3, 3, 3], expected input[1, 15, 160, 160] to have 3 channels, but got 15 channels instead\n",
      "INFO:root:Video length: 401 frames\n"
     ]
    },
    {
     "name": "stdout",
     "output_type": "stream",
     "text": [
      "0\n",
      "(472, 848, 3)\n",
      "1\n",
      "83\n",
      "(472, 848, 3)\n",
      "1\n",
      "166\n",
      "(472, 848, 3)\n",
      "1\n",
      "249\n",
      "(472, 848, 3)\n",
      "1\n",
      "332\n",
      "(472, 848, 3)\n",
      "1\n",
      "0\n",
      "(500, 944, 3)\n",
      "1\n"
     ]
    },
    {
     "name": "stderr",
     "output_type": "stream",
     "text": [
      "ERROR:root:An error occurred while processing faces: Given groups=1, weight of size [32, 3, 3, 3], expected input[1, 15, 160, 160] to have 3 channels, but got 15 channels instead\n",
      "INFO:root:Video length: 307 frames\n"
     ]
    },
    {
     "name": "stdout",
     "output_type": "stream",
     "text": [
      "100\n",
      "(500, 944, 3)\n",
      "1\n",
      "200\n",
      "(500, 944, 3)\n",
      "1\n",
      "300\n",
      "(500, 944, 3)\n",
      "1\n",
      "400\n",
      "(500, 944, 3)\n",
      "1\n",
      "0\n",
      "(458, 834, 3)\n",
      "1\n"
     ]
    },
    {
     "name": "stderr",
     "output_type": "stream",
     "text": [
      "ERROR:root:An error occurred while processing faces: Given groups=1, weight of size [32, 3, 3, 3], expected input[1, 15, 160, 160] to have 3 channels, but got 15 channels instead\n",
      "INFO:root:Video length: 350 frames\n"
     ]
    },
    {
     "name": "stdout",
     "output_type": "stream",
     "text": [
      "76\n",
      "(458, 834, 3)\n",
      "1\n",
      "153\n",
      "(458, 834, 3)\n",
      "1\n",
      "229\n",
      "(458, 834, 3)\n",
      "1\n",
      "306\n",
      "(458, 834, 3)\n",
      "1\n",
      "0\n",
      "(472, 848, 3)\n",
      "1\n"
     ]
    },
    {
     "name": "stderr",
     "output_type": "stream",
     "text": [
      "ERROR:root:An error occurred while processing faces: Given groups=1, weight of size [32, 3, 3, 3], expected input[1, 15, 160, 160] to have 3 channels, but got 15 channels instead\n",
      "INFO:root:Video length: 507 frames\n"
     ]
    },
    {
     "name": "stdout",
     "output_type": "stream",
     "text": [
      "87\n",
      "(472, 848, 3)\n",
      "1\n",
      "174\n",
      "(472, 848, 3)\n",
      "1\n",
      "261\n",
      "(472, 848, 3)\n",
      "1\n",
      "349\n",
      "(472, 848, 3)\n",
      "1\n",
      "0\n",
      "(500, 892, 3)\n",
      "1\n"
     ]
    },
    {
     "name": "stderr",
     "output_type": "stream",
     "text": [
      "ERROR:root:An error occurred while processing faces: Given groups=1, weight of size [32, 3, 3, 3], expected input[1, 15, 160, 160] to have 3 channels, but got 15 channels instead\n",
      "INFO:root:Video length: 331 frames\n"
     ]
    },
    {
     "name": "stdout",
     "output_type": "stream",
     "text": [
      "126\n",
      "(500, 892, 3)\n",
      "1\n",
      "253\n",
      "(500, 892, 3)\n",
      "1\n",
      "379\n",
      "(500, 892, 3)\n",
      "1\n",
      "506\n",
      "(500, 892, 3)\n",
      "1\n",
      "0\n",
      "(478, 848, 3)\n",
      "1\n",
      "82\n",
      "(478, 848, 3)\n"
     ]
    },
    {
     "name": "stderr",
     "output_type": "stream",
     "text": [
      "ERROR:root:An error occurred while processing faces: Given groups=1, weight of size [32, 3, 3, 3], expected input[1, 15, 160, 160] to have 3 channels, but got 15 channels instead\n",
      "INFO:root:Video length: 420 frames\n"
     ]
    },
    {
     "name": "stdout",
     "output_type": "stream",
     "text": [
      "1\n",
      "165\n",
      "(478, 848, 3)\n",
      "1\n",
      "247\n",
      "(478, 848, 3)\n",
      "1\n",
      "330\n",
      "(478, 848, 3)\n",
      "1\n",
      "0\n",
      "(500, 944, 3)\n",
      "1\n"
     ]
    },
    {
     "name": "stderr",
     "output_type": "stream",
     "text": [
      "ERROR:root:An error occurred while processing faces: Given groups=1, weight of size [32, 3, 3, 3], expected input[1, 15, 160, 160] to have 3 channels, but got 15 channels instead\n",
      "INFO:root:Video length: 383 frames\n"
     ]
    },
    {
     "name": "stdout",
     "output_type": "stream",
     "text": [
      "104\n",
      "(500, 944, 3)\n",
      "1\n",
      "209\n",
      "(500, 944, 3)\n",
      "1\n",
      "314\n",
      "(500, 944, 3)\n",
      "1\n",
      "419\n",
      "(500, 944, 3)\n",
      "1\n"
     ]
    },
    {
     "name": "stderr",
     "output_type": "stream",
     "text": [
      "ERROR:root:An error occurred while processing faces: Given groups=1, weight of size [32, 3, 3, 3], expected input[1, 15, 160, 160] to have 3 channels, but got 15 channels instead\n",
      "INFO:root:Video length: 485 frames\n"
     ]
    },
    {
     "name": "stdout",
     "output_type": "stream",
     "text": [
      "0\n",
      "(500, 554, 3)\n",
      "1\n",
      "95\n",
      "(500, 554, 3)\n",
      "1\n",
      "191\n",
      "(500, 554, 3)\n",
      "1\n",
      "286\n",
      "(500, 554, 3)\n",
      "1\n",
      "382\n",
      "(500, 554, 3)\n",
      "1\n",
      "0\n",
      "(478, 856, 3)\n",
      "1\n",
      "121\n",
      "(478, 856, 3)\n",
      "1\n",
      "242\n",
      "(478, 856, 3)\n",
      "1\n",
      "363\n",
      "(478, 856, 3)\n",
      "1\n",
      "484\n",
      "(478, 856, 3)\n",
      "1\n"
     ]
    },
    {
     "name": "stderr",
     "output_type": "stream",
     "text": [
      "ERROR:root:An error occurred while processing faces: Given groups=1, weight of size [32, 3, 3, 3], expected input[1, 15, 160, 160] to have 3 channels, but got 15 channels instead\n",
      "INFO:root:Video length: 436 frames\n"
     ]
    },
    {
     "name": "stdout",
     "output_type": "stream",
     "text": [
      "0\n",
      "(500, 888, 3)\n",
      "1\n",
      "108\n",
      "(500, 888, 3)\n",
      "1\n",
      "217\n",
      "(500, 888, 3)\n",
      "1\n",
      "326\n",
      "(500, 888, 3)\n",
      "1\n",
      "435\n",
      "(500, 888, 3)\n",
      "1\n"
     ]
    },
    {
     "name": "stderr",
     "output_type": "stream",
     "text": [
      "ERROR:root:An error occurred while processing faces: Given groups=1, weight of size [32, 3, 3, 3], expected input[1, 15, 160, 160] to have 3 channels, but got 15 channels instead\n",
      "INFO:root:Video length: 327 frames\n"
     ]
    },
    {
     "name": "stdout",
     "output_type": "stream",
     "text": [
      "0\n",
      "(472, 848, 3)\n",
      "1\n",
      "81\n",
      "(472, 848, 3)\n",
      "1\n",
      "163\n",
      "(472, 848, 3)\n",
      "1\n",
      "244\n",
      "(472, 848, 3)\n",
      "1\n",
      "326\n",
      "(472, 848, 3)\n",
      "1\n"
     ]
    },
    {
     "name": "stderr",
     "output_type": "stream",
     "text": [
      "ERROR:root:An error occurred while processing faces: Given groups=1, weight of size [32, 3, 3, 3], expected input[1, 15, 160, 160] to have 3 channels, but got 15 channels instead\n",
      "INFO:root:Video length: 319 frames\n",
      "ERROR:root:An error occurred while processing faces: Given groups=1, weight of size [32, 3, 3, 3], expected input[1, 15, 160, 160] to have 3 channels, but got 15 channels instead\n",
      "INFO:root:Video length: 319 frames\n"
     ]
    },
    {
     "name": "stdout",
     "output_type": "stream",
     "text": [
      "0\n",
      "(300, 286, 3)\n",
      "1\n",
      "79\n",
      "(300, 286, 3)\n",
      "1\n",
      "159\n",
      "(300, 286, 3)\n",
      "1\n",
      "238\n",
      "(300, 286, 3)\n",
      "1\n",
      "318\n",
      "(300, 286, 3)\n",
      "1\n",
      "0\n",
      "(476, 846, 3)\n",
      "1\n",
      "79\n",
      "(476, 846, 3)\n",
      "1\n"
     ]
    },
    {
     "name": "stderr",
     "output_type": "stream",
     "text": [
      "ERROR:root:An error occurred while processing faces: Given groups=1, weight of size [32, 3, 3, 3], expected input[1, 15, 160, 160] to have 3 channels, but got 15 channels instead\n",
      "INFO:root:Video length: 295 frames\n"
     ]
    },
    {
     "name": "stdout",
     "output_type": "stream",
     "text": [
      "159\n",
      "(476, 846, 3)\n",
      "1\n",
      "238\n",
      "(476, 846, 3)\n",
      "1\n",
      "318\n",
      "(476, 846, 3)\n",
      "1\n",
      "0\n",
      "(466, 848, 3)\n",
      "1\n",
      "73\n",
      "(466, 848, 3)\n",
      "1\n"
     ]
    },
    {
     "name": "stderr",
     "output_type": "stream",
     "text": [
      "ERROR:root:An error occurred while processing faces: Given groups=1, weight of size [32, 3, 3, 3], expected input[1, 15, 160, 160] to have 3 channels, but got 15 channels instead\n",
      "INFO:root:Video length: 308 frames\n"
     ]
    },
    {
     "name": "stdout",
     "output_type": "stream",
     "text": [
      "147\n",
      "(466, 848, 3)\n",
      "1\n",
      "220\n",
      "(466, 848, 3)\n",
      "1\n",
      "294\n",
      "(466, 848, 3)\n",
      "1\n",
      "0\n",
      "(500, 954, 3)\n",
      "1\n",
      "76\n",
      "(500, 954, 3)\n",
      "1\n"
     ]
    },
    {
     "name": "stderr",
     "output_type": "stream",
     "text": [
      "ERROR:root:An error occurred while processing faces: Given groups=1, weight of size [32, 3, 3, 3], expected input[1, 15, 160, 160] to have 3 channels, but got 15 channels instead\n",
      "INFO:root:Video length: 335 frames\n"
     ]
    },
    {
     "name": "stdout",
     "output_type": "stream",
     "text": [
      "153\n",
      "(500, 954, 3)\n",
      "1\n",
      "230\n",
      "(500, 954, 3)\n",
      "1\n",
      "307\n",
      "(500, 954, 3)\n",
      "1\n",
      "0\n",
      "(480, 848, 3)\n",
      "1\n"
     ]
    },
    {
     "name": "stderr",
     "output_type": "stream",
     "text": [
      "ERROR:root:An error occurred while processing faces: Given groups=1, weight of size [32, 3, 3, 3], expected input[1, 15, 160, 160] to have 3 channels, but got 15 channels instead\n",
      "INFO:root:Video length: 321 frames\n"
     ]
    },
    {
     "name": "stdout",
     "output_type": "stream",
     "text": [
      "83\n",
      "(480, 848, 3)\n",
      "1\n",
      "167\n",
      "(480, 848, 3)\n",
      "1\n",
      "250\n",
      "(480, 848, 3)\n",
      "1\n",
      "334\n",
      "(480, 848, 3)\n",
      "1\n",
      "0\n",
      "(474, 844, 3)\n",
      "1\n"
     ]
    },
    {
     "name": "stderr",
     "output_type": "stream",
     "text": [
      "ERROR:root:An error occurred while processing faces: Given groups=1, weight of size [32, 3, 3, 3], expected input[1, 15, 160, 160] to have 3 channels, but got 15 channels instead\n",
      "INFO:root:Video length: 410 frames\n"
     ]
    },
    {
     "name": "stdout",
     "output_type": "stream",
     "text": [
      "80\n",
      "(474, 844, 3)\n",
      "1\n",
      "160\n",
      "(474, 844, 3)\n",
      "1\n",
      "240\n",
      "(474, 844, 3)\n",
      "1\n",
      "320\n",
      "(474, 844, 3)\n",
      "1\n",
      "0\n",
      "(500, 950, 3)\n",
      "1\n",
      "102\n",
      "(500, 950, 3)\n",
      "1\n"
     ]
    },
    {
     "name": "stderr",
     "output_type": "stream",
     "text": [
      "ERROR:root:An error occurred while processing faces: Given groups=1, weight of size [32, 3, 3, 3], expected input[1, 15, 160, 160] to have 3 channels, but got 15 channels instead\n",
      "INFO:root:Video length: 529 frames\n"
     ]
    },
    {
     "name": "stdout",
     "output_type": "stream",
     "text": [
      "204\n",
      "(500, 950, 3)\n",
      "1\n",
      "306\n",
      "(500, 950, 3)\n",
      "1\n",
      "409\n",
      "(500, 950, 3)\n",
      "1\n",
      "0\n",
      "(500, 944, 3)\n",
      "1\n"
     ]
    },
    {
     "name": "stderr",
     "output_type": "stream",
     "text": [
      "ERROR:root:An error occurred while processing faces: Given groups=1, weight of size [32, 3, 3, 3], expected input[1, 15, 160, 160] to have 3 channels, but got 15 channels instead\n",
      "INFO:root:Video length: 314 frames\n"
     ]
    },
    {
     "name": "stdout",
     "output_type": "stream",
     "text": [
      "132\n",
      "(500, 944, 3)\n",
      "1\n",
      "264\n",
      "(500, 944, 3)\n",
      "1\n",
      "396\n",
      "(500, 944, 3)\n",
      "1\n",
      "528\n",
      "(500, 944, 3)\n",
      "1\n",
      "0\n",
      "(500, 656, 3)\n",
      "1\n"
     ]
    },
    {
     "name": "stderr",
     "output_type": "stream",
     "text": [
      "ERROR:root:An error occurred while processing faces: Given groups=1, weight of size [32, 3, 3, 3], expected input[1, 15, 160, 160] to have 3 channels, but got 15 channels instead\n",
      "INFO:root:Video length: 314 frames\n"
     ]
    },
    {
     "name": "stdout",
     "output_type": "stream",
     "text": [
      "78\n",
      "(500, 656, 3)\n",
      "1\n",
      "156\n",
      "(500, 656, 3)\n",
      "1\n",
      "234\n",
      "(500, 656, 3)\n",
      "1\n",
      "313\n",
      "(500, 656, 3)\n",
      "1\n",
      "0\n",
      "(474, 848, 3)\n",
      "1\n",
      "78\n",
      "(474, 848, 3)\n",
      "1\n"
     ]
    },
    {
     "name": "stderr",
     "output_type": "stream",
     "text": [
      "ERROR:root:An error occurred while processing faces: Given groups=1, weight of size [32, 3, 3, 3], expected input[1, 15, 160, 160] to have 3 channels, but got 15 channels instead\n",
      "INFO:root:Video length: 492 frames\n"
     ]
    },
    {
     "name": "stdout",
     "output_type": "stream",
     "text": [
      "156\n",
      "(474, 848, 3)\n",
      "1\n",
      "234\n",
      "(474, 848, 3)\n",
      "1\n",
      "313\n",
      "(474, 848, 3)\n",
      "1\n",
      "0\n",
      "(480, 848, 3)\n",
      "1\n",
      "122\n",
      "(480, 848, 3)\n",
      "1\n",
      "245\n"
     ]
    },
    {
     "name": "stderr",
     "output_type": "stream",
     "text": [
      "ERROR:root:An error occurred while processing faces: Given groups=1, weight of size [32, 3, 3, 3], expected input[1, 15, 160, 160] to have 3 channels, but got 15 channels instead\n",
      "INFO:root:Video length: 490 frames\n"
     ]
    },
    {
     "name": "stdout",
     "output_type": "stream",
     "text": [
      "(480, 848, 3)\n",
      "1\n",
      "368\n",
      "(480, 848, 3)\n",
      "1\n",
      "491\n",
      "(480, 848, 3)\n",
      "1\n",
      "0\n",
      "(500, 892, 3)\n",
      "1\n",
      "122\n",
      "(500, 892, 3)\n",
      "1\n"
     ]
    },
    {
     "name": "stderr",
     "output_type": "stream",
     "text": [
      "ERROR:root:An error occurred while processing faces: Given groups=1, weight of size [32, 3, 3, 3], expected input[1, 15, 160, 160] to have 3 channels, but got 15 channels instead\n",
      "INFO:root:Video length: 455 frames\n"
     ]
    },
    {
     "name": "stdout",
     "output_type": "stream",
     "text": [
      "244\n",
      "(500, 892, 3)\n",
      "1\n",
      "366\n",
      "(500, 892, 3)\n",
      "1\n",
      "489\n",
      "(500, 892, 3)\n",
      "1\n",
      "0\n",
      "(472, 850, 3)\n",
      "1\n",
      "113\n",
      "(472, 850, 3)\n",
      "1\n"
     ]
    },
    {
     "name": "stderr",
     "output_type": "stream",
     "text": [
      "ERROR:root:An error occurred while processing faces: Given groups=1, weight of size [32, 3, 3, 3], expected input[1, 15, 160, 160] to have 3 channels, but got 15 channels instead\n",
      "INFO:root:Video length: 409 frames\n"
     ]
    },
    {
     "name": "stdout",
     "output_type": "stream",
     "text": [
      "227\n",
      "(472, 850, 3)\n",
      "1\n",
      "340\n",
      "(472, 850, 3)\n",
      "1\n",
      "454\n",
      "(472, 850, 3)\n",
      "1\n",
      "0\n",
      "(500, 432, 3)\n",
      "1\n"
     ]
    },
    {
     "name": "stderr",
     "output_type": "stream",
     "text": [
      "ERROR:root:An error occurred while processing faces: Given groups=1, weight of size [32, 3, 3, 3], expected input[1, 15, 160, 160] to have 3 channels, but got 15 channels instead\n",
      "INFO:root:Video length: 225 frames\n"
     ]
    },
    {
     "name": "stdout",
     "output_type": "stream",
     "text": [
      "102\n",
      "(500, 432, 3)\n",
      "1\n",
      "204\n",
      "(500, 432, 3)\n",
      "1\n",
      "306\n",
      "(500, 432, 3)\n",
      "1\n",
      "408\n",
      "(500, 432, 3)\n",
      "1\n",
      "0\n",
      "(456, 812, 3)\n",
      "1\n",
      "56\n",
      "(456, 812, 3)\n",
      "1\n"
     ]
    },
    {
     "name": "stderr",
     "output_type": "stream",
     "text": [
      "ERROR:root:An error occurred while processing faces: Given groups=1, weight of size [32, 3, 3, 3], expected input[1, 15, 160, 160] to have 3 channels, but got 15 channels instead\n",
      "INFO:root:Video length: 306 frames\n"
     ]
    },
    {
     "name": "stdout",
     "output_type": "stream",
     "text": [
      "112\n",
      "(456, 812, 3)\n",
      "1\n",
      "168\n",
      "(456, 812, 3)\n",
      "1\n",
      "224\n",
      "(456, 812, 3)\n",
      "1\n",
      "0\n",
      "(472, 850, 3)\n",
      "1\n",
      "76\n",
      "(472, 850, 3)\n",
      "1\n",
      "152\n",
      "(472, 850, 3)\n",
      "1\n"
     ]
    },
    {
     "name": "stderr",
     "output_type": "stream",
     "text": [
      "ERROR:root:An error occurred while processing faces: Given groups=1, weight of size [32, 3, 3, 3], expected input[1, 15, 160, 160] to have 3 channels, but got 15 channels instead\n",
      "INFO:root:Video length: 319 frames\n"
     ]
    },
    {
     "name": "stdout",
     "output_type": "stream",
     "text": [
      "228\n",
      "(472, 850, 3)\n",
      "1\n",
      "305\n",
      "(472, 850, 3)\n",
      "1\n",
      "0\n",
      "(478, 852, 3)\n",
      "1\n",
      "79\n",
      "(478, 852, 3)\n",
      "1\n",
      "159\n",
      "(478, 852, 3)\n",
      "1\n",
      "238\n",
      "(478, 852, 3)\n",
      "1\n"
     ]
    },
    {
     "name": "stderr",
     "output_type": "stream",
     "text": [
      "ERROR:root:An error occurred while processing faces: Given groups=1, weight of size [32, 3, 3, 3], expected input[1, 15, 160, 160] to have 3 channels, but got 15 channels instead\n",
      "INFO:root:Video length: 499 frames\n",
      "ERROR:root:An error occurred while processing faces: Given groups=1, weight of size [32, 3, 3, 3], expected input[1, 15, 160, 160] to have 3 channels, but got 15 channels instead\n"
     ]
    },
    {
     "name": "stdout",
     "output_type": "stream",
     "text": [
      "318\n",
      "(478, 852, 3)\n",
      "1\n",
      "0\n",
      "(500, 514, 3)\n",
      "1\n",
      "124\n",
      "(500, 514, 3)\n",
      "1\n",
      "249\n",
      "(500, 514, 3)\n",
      "1\n",
      "373\n",
      "(500, 514, 3)\n",
      "1\n",
      "498\n",
      "(500, 514, 3)\n",
      "1\n"
     ]
    },
    {
     "name": "stderr",
     "output_type": "stream",
     "text": [
      "INFO:root:Video length: 309 frames\n"
     ]
    },
    {
     "name": "stdout",
     "output_type": "stream",
     "text": [
      "0\n",
      "(476, 846, 3)\n",
      "1\n",
      "77\n",
      "(476, 846, 3)\n",
      "1\n",
      "154\n",
      "(476, 846, 3)\n",
      "1\n",
      "231\n",
      "(476, 846, 3)\n",
      "1\n",
      "308\n",
      "(476, 846, 3)\n",
      "1\n"
     ]
    },
    {
     "name": "stderr",
     "output_type": "stream",
     "text": [
      "ERROR:root:An error occurred while processing faces: Given groups=1, weight of size [32, 3, 3, 3], expected input[1, 15, 160, 160] to have 3 channels, but got 15 channels instead\n",
      "INFO:root:Video length: 456 frames\n",
      "ERROR:root:An error occurred while processing faces: Given groups=1, weight of size [32, 3, 3, 3], expected input[1, 15, 160, 160] to have 3 channels, but got 15 channels instead\n"
     ]
    },
    {
     "name": "stdout",
     "output_type": "stream",
     "text": [
      "0\n",
      "(472, 850, 3)\n",
      "1\n",
      "113\n",
      "(472, 850, 3)\n",
      "1\n",
      "227\n",
      "(472, 850, 3)\n",
      "1\n",
      "341\n",
      "(472, 850, 3)\n",
      "1\n",
      "455\n",
      "(472, 850, 3)\n",
      "1\n"
     ]
    },
    {
     "name": "stderr",
     "output_type": "stream",
     "text": [
      "INFO:root:Video length: 465 frames\n"
     ]
    },
    {
     "name": "stdout",
     "output_type": "stream",
     "text": [
      "0\n",
      "(472, 850, 3)\n",
      "1\n",
      "116\n",
      "(472, 850, 3)\n",
      "1\n",
      "232\n",
      "(472, 850, 3)\n",
      "1\n",
      "348\n",
      "(472, 850, 3)\n",
      "1\n",
      "464\n",
      "(472, 850, 3)\n",
      "1\n"
     ]
    },
    {
     "name": "stderr",
     "output_type": "stream",
     "text": [
      "ERROR:root:An error occurred while processing faces: Given groups=1, weight of size [32, 3, 3, 3], expected input[1, 15, 160, 160] to have 3 channels, but got 15 channels instead\n",
      "INFO:root:Video length: 470 frames\n"
     ]
    },
    {
     "name": "stdout",
     "output_type": "stream",
     "text": [
      "0\n",
      "(472, 850, 3)\n",
      "1\n",
      "117\n",
      "(472, 850, 3)\n",
      "1\n",
      "234\n",
      "(472, 850, 3)\n",
      "1\n",
      "351\n",
      "(472, 850, 3)\n",
      "1\n",
      "469\n",
      "(472, 850, 3)\n",
      "1\n"
     ]
    },
    {
     "name": "stderr",
     "output_type": "stream",
     "text": [
      "ERROR:root:An error occurred while processing faces: Given groups=1, weight of size [32, 3, 3, 3], expected input[1, 15, 160, 160] to have 3 channels, but got 15 channels instead\n",
      "INFO:root:Video length: 409 frames\n",
      "ERROR:root:An error occurred while processing faces: Given groups=1, weight of size [32, 3, 3, 3], expected input[1, 15, 160, 160] to have 3 channels, but got 15 channels instead\n",
      "INFO:root:Video length: 325 frames\n"
     ]
    },
    {
     "name": "stdout",
     "output_type": "stream",
     "text": [
      "0\n",
      "(500, 568, 3)\n",
      "1\n",
      "102\n",
      "(500, 568, 3)\n",
      "1\n",
      "204\n",
      "(500, 568, 3)\n",
      "1\n",
      "306\n",
      "(500, 568, 3)\n",
      "1\n",
      "408\n",
      "(500, 568, 3)\n",
      "1\n",
      "0\n",
      "(500, 950, 3)\n",
      "1\n"
     ]
    },
    {
     "name": "stderr",
     "output_type": "stream",
     "text": [
      "ERROR:root:An error occurred while processing faces: Given groups=1, weight of size [32, 3, 3, 3], expected input[1, 15, 160, 160] to have 3 channels, but got 15 channels instead\n",
      "INFO:root:Video length: 455 frames\n"
     ]
    },
    {
     "name": "stdout",
     "output_type": "stream",
     "text": [
      "81\n",
      "(500, 950, 3)\n",
      "1\n",
      "162\n",
      "(500, 950, 3)\n",
      "1\n",
      "243\n",
      "(500, 950, 3)\n",
      "1\n",
      "324\n",
      "(500, 950, 3)\n",
      "1\n",
      "0\n",
      "(472, 850, 3)\n",
      "1\n",
      "113\n",
      "(472, 850, 3)\n",
      "1\n"
     ]
    },
    {
     "name": "stderr",
     "output_type": "stream",
     "text": [
      "ERROR:root:An error occurred while processing faces: Given groups=1, weight of size [32, 3, 3, 3], expected input[1, 15, 160, 160] to have 3 channels, but got 15 channels instead\n",
      "INFO:root:Video length: 455 frames\n"
     ]
    },
    {
     "name": "stdout",
     "output_type": "stream",
     "text": [
      "227\n",
      "(472, 850, 3)\n",
      "1\n",
      "340\n",
      "(472, 850, 3)\n",
      "1\n",
      "454\n",
      "(472, 850, 3)\n",
      "1\n",
      "0\n",
      "(472, 850, 3)\n",
      "1\n",
      "113\n",
      "(472, 850, 3)\n",
      "1\n",
      "227\n",
      "(472, 850, 3)\n",
      "1\n"
     ]
    },
    {
     "name": "stderr",
     "output_type": "stream",
     "text": [
      "ERROR:root:An error occurred while processing faces: Given groups=1, weight of size [32, 3, 3, 3], expected input[1, 15, 160, 160] to have 3 channels, but got 15 channels instead\n",
      "INFO:root:Video length: 342 frames\n"
     ]
    },
    {
     "name": "stdout",
     "output_type": "stream",
     "text": [
      "340\n",
      "(472, 850, 3)\n",
      "1\n",
      "454\n",
      "(472, 850, 3)\n",
      "1\n",
      "0\n",
      "(468, 842, 3)\n",
      "1\n",
      "85\n",
      "(468, 842, 3)\n",
      "1\n",
      "170\n",
      "(468, 842, 3)\n",
      "1\n",
      "255\n",
      "(468, 842, 3)\n",
      "1\n"
     ]
    },
    {
     "name": "stderr",
     "output_type": "stream",
     "text": [
      "ERROR:root:An error occurred while processing faces: Given groups=1, weight of size [32, 3, 3, 3], expected input[1, 15, 160, 160] to have 3 channels, but got 15 channels instead\n",
      "INFO:root:Video length: 467 frames\n"
     ]
    },
    {
     "name": "stdout",
     "output_type": "stream",
     "text": [
      "341\n",
      "(468, 842, 3)\n",
      "1\n",
      "0\n",
      "(472, 850, 3)\n",
      "1\n",
      "116\n",
      "(472, 850, 3)\n",
      "1\n",
      "233\n",
      "(472, 850, 3)\n",
      "1\n",
      "349\n",
      "(472, 850, 3)\n",
      "1\n",
      "466\n",
      "(472, 850, 3)\n",
      "1\n"
     ]
    },
    {
     "name": "stderr",
     "output_type": "stream",
     "text": [
      "ERROR:root:An error occurred while processing faces: Given groups=1, weight of size [32, 3, 3, 3], expected input[1, 15, 160, 160] to have 3 channels, but got 15 channels instead\n",
      "INFO:root:Video length: 478 frames\n"
     ]
    },
    {
     "name": "stdout",
     "output_type": "stream",
     "text": [
      "0\n",
      "(466, 848, 3)\n",
      "1\n",
      "119\n",
      "(466, 848, 3)\n",
      "1\n",
      "238\n",
      "(466, 848, 3)\n",
      "1\n"
     ]
    },
    {
     "name": "stderr",
     "output_type": "stream",
     "text": [
      "ERROR:root:An error occurred while processing faces: Given groups=1, weight of size [32, 3, 3, 3], expected input[1, 15, 160, 160] to have 3 channels, but got 15 channels instead\n",
      "INFO:root:Video length: 331 frames\n"
     ]
    },
    {
     "name": "stdout",
     "output_type": "stream",
     "text": [
      "357\n",
      "(466, 848, 3)\n",
      "1\n",
      "477\n",
      "(466, 848, 3)\n",
      "1\n",
      "0\n",
      "(468, 842, 3)\n",
      "1\n",
      "82\n",
      "(468, 842, 3)\n",
      "1\n",
      "165\n",
      "(468, 842, 3)\n",
      "1\n"
     ]
    },
    {
     "name": "stderr",
     "output_type": "stream",
     "text": [
      "ERROR:root:An error occurred while processing faces: Given groups=1, weight of size [32, 3, 3, 3], expected input[1, 15, 160, 160] to have 3 channels, but got 15 channels instead\n",
      "INFO:root:Video length: 314 frames\n"
     ]
    },
    {
     "name": "stdout",
     "output_type": "stream",
     "text": [
      "247\n",
      "(468, 842, 3)\n",
      "1\n",
      "330\n",
      "(468, 842, 3)\n",
      "1\n",
      "0\n",
      "(480, 636, 3)\n",
      "1\n",
      "78\n",
      "(480, 636, 3)\n",
      "1\n",
      "156\n",
      "(480, 636, 3)\n",
      "1\n",
      "234\n",
      "(480, 636, 3)\n",
      "1\n"
     ]
    },
    {
     "name": "stderr",
     "output_type": "stream",
     "text": [
      "ERROR:root:An error occurred while processing faces: Given groups=1, weight of size [32, 3, 3, 3], expected input[1, 15, 160, 160] to have 3 channels, but got 15 channels instead\n",
      "INFO:root:Video length: 343 frames\n"
     ]
    },
    {
     "name": "stdout",
     "output_type": "stream",
     "text": [
      "313\n",
      "(480, 636, 3)\n",
      "1\n",
      "0\n",
      "(500, 958, 3)\n",
      "1\n",
      "85\n",
      "(500, 958, 3)\n",
      "1\n",
      "171\n",
      "(500, 958, 3)\n",
      "1\n",
      "256\n",
      "(500, 958, 3)\n",
      "1\n"
     ]
    },
    {
     "name": "stderr",
     "output_type": "stream",
     "text": [
      "ERROR:root:An error occurred while processing faces: Given groups=1, weight of size [32, 3, 3, 3], expected input[1, 15, 160, 160] to have 3 channels, but got 15 channels instead\n",
      "INFO:root:Video length: 492 frames\n"
     ]
    },
    {
     "name": "stdout",
     "output_type": "stream",
     "text": [
      "342\n",
      "(500, 958, 3)\n",
      "1\n",
      "0\n",
      "(478, 856, 3)\n",
      "1\n",
      "122\n",
      "(478, 856, 3)\n",
      "1\n",
      "245\n",
      "(478, 856, 3)\n",
      "1\n",
      "368\n",
      "(478, 856, 3)\n",
      "1\n",
      "491\n",
      "(478, 856, 3)\n",
      "1\n"
     ]
    },
    {
     "name": "stderr",
     "output_type": "stream",
     "text": [
      "ERROR:root:An error occurred while processing faces: Given groups=1, weight of size [32, 3, 3, 3], expected input[1, 15, 160, 160] to have 3 channels, but got 15 channels instead\n",
      "INFO:root:Video length: 228 frames\n",
      "ERROR:root:An error occurred while processing faces: Given groups=1, weight of size [32, 3, 3, 3], expected input[1, 15, 160, 160] to have 3 channels, but got 15 channels instead\n"
     ]
    },
    {
     "name": "stdout",
     "output_type": "stream",
     "text": [
      "0\n",
      "(466, 848, 3)\n",
      "1\n",
      "56\n",
      "(466, 848, 3)\n",
      "1\n",
      "113\n",
      "(466, 848, 3)\n",
      "1\n",
      "170\n",
      "(466, 848, 3)\n",
      "1\n",
      "227\n",
      "(466, 848, 3)\n",
      "1\n"
     ]
    },
    {
     "name": "stderr",
     "output_type": "stream",
     "text": [
      "INFO:root:Video length: 414 frames\n"
     ]
    },
    {
     "name": "stdout",
     "output_type": "stream",
     "text": [
      "0\n",
      "(478, 856, 3)\n",
      "1\n",
      "103\n",
      "(478, 856, 3)\n",
      "1\n",
      "206\n",
      "(478, 856, 3)\n",
      "1\n",
      "309\n",
      "(478, 856, 3)\n",
      "1\n",
      "413\n",
      "(478, 856, 3)\n",
      "1\n"
     ]
    },
    {
     "name": "stderr",
     "output_type": "stream",
     "text": [
      "ERROR:root:An error occurred while processing faces: Given groups=1, weight of size [32, 3, 3, 3], expected input[1, 15, 160, 160] to have 3 channels, but got 15 channels instead\n",
      "INFO:root:Video length: 350 frames\n"
     ]
    },
    {
     "name": "stdout",
     "output_type": "stream",
     "text": [
      "0\n",
      "(500, 942, 3)\n",
      "1\n",
      "87\n",
      "(500, 942, 3)\n",
      "1\n",
      "174\n",
      "(500, 942, 3)\n",
      "1\n",
      "261\n",
      "(500, 942, 3)\n",
      "1\n",
      "349\n",
      "(500, 942, 3)\n",
      "1\n"
     ]
    },
    {
     "name": "stderr",
     "output_type": "stream",
     "text": [
      "ERROR:root:An error occurred while processing faces: Given groups=1, weight of size [32, 3, 3, 3], expected input[1, 15, 160, 160] to have 3 channels, but got 15 channels instead\n",
      "INFO:root:Video length: 409 frames\n",
      "ERROR:root:An error occurred while processing faces: Given groups=1, weight of size [32, 3, 3, 3], expected input[1, 15, 160, 160] to have 3 channels, but got 15 channels instead\n",
      "INFO:root:Video length: 502 frames\n"
     ]
    },
    {
     "name": "stdout",
     "output_type": "stream",
     "text": [
      "0\n",
      "(500, 568, 3)\n",
      "1\n",
      "102\n",
      "(500, 568, 3)\n",
      "1\n",
      "204\n",
      "(500, 568, 3)\n",
      "1\n",
      "306\n",
      "(500, 568, 3)\n",
      "1\n",
      "408\n",
      "(500, 568, 3)\n",
      "1\n",
      "0\n",
      "(478, 856, 3)\n",
      "1\n",
      "125\n",
      "(478, 856, 3)\n",
      "1\n",
      "250\n",
      "(478, 856, 3)\n",
      "1\n",
      "375\n",
      "(478, 856, 3)\n",
      "1\n",
      "501\n",
      "(478, 856, 3)\n",
      "1\n"
     ]
    },
    {
     "name": "stderr",
     "output_type": "stream",
     "text": [
      "ERROR:root:An error occurred while processing faces: Given groups=1, weight of size [32, 3, 3, 3], expected input[1, 15, 160, 160] to have 3 channels, but got 15 channels instead\n",
      "INFO:root:Video length: 557 frames\n"
     ]
    },
    {
     "name": "stdout",
     "output_type": "stream",
     "text": [
      "0\n",
      "(500, 944, 3)\n",
      "1\n",
      "139\n",
      "(500, 944, 3)\n",
      "1\n",
      "278\n",
      "(500, 944, 3)\n",
      "1\n",
      "417\n",
      "(500, 944, 3)\n",
      "1\n",
      "556\n",
      "(500, 944, 3)\n",
      "1\n"
     ]
    },
    {
     "name": "stderr",
     "output_type": "stream",
     "text": [
      "ERROR:root:An error occurred while processing faces: Given groups=1, weight of size [32, 3, 3, 3], expected input[1, 15, 160, 160] to have 3 channels, but got 15 channels instead\n",
      "INFO:root:Video length: 331 frames\n",
      "ERROR:root:An error occurred while processing faces: Given groups=1, weight of size [32, 3, 3, 3], expected input[1, 15, 160, 160] to have 3 channels, but got 15 channels instead\n"
     ]
    },
    {
     "name": "stdout",
     "output_type": "stream",
     "text": [
      "0\n",
      "(476, 842, 3)\n",
      "1\n",
      "82\n",
      "(476, 842, 3)\n",
      "1\n",
      "165\n",
      "(476, 842, 3)\n",
      "1\n",
      "247\n",
      "(476, 842, 3)\n",
      "1\n",
      "330\n",
      "(476, 842, 3)\n",
      "1\n"
     ]
    },
    {
     "name": "stderr",
     "output_type": "stream",
     "text": [
      "INFO:root:Video length: 305 frames\n"
     ]
    },
    {
     "name": "stdout",
     "output_type": "stream",
     "text": [
      "0\n",
      "(500, 892, 3)\n",
      "1\n",
      "76\n",
      "(500, 892, 3)\n",
      "1\n",
      "152\n",
      "(500, 892, 3)\n",
      "1\n",
      "228\n",
      "(500, 892, 3)\n",
      "1\n",
      "304\n",
      "(500, 892, 3)\n",
      "1\n"
     ]
    },
    {
     "name": "stderr",
     "output_type": "stream",
     "text": [
      "ERROR:root:An error occurred while processing faces: Given groups=1, weight of size [32, 3, 3, 3], expected input[1, 15, 160, 160] to have 3 channels, but got 15 channels instead\n",
      "INFO:root:Video length: 309 frames\n",
      "ERROR:root:An error occurred while processing faces: Given groups=1, weight of size [32, 3, 3, 3], expected input[1, 15, 160, 160] to have 3 channels, but got 15 channels instead\n",
      "INFO:root:Video length: 516 frames\n"
     ]
    },
    {
     "name": "stdout",
     "output_type": "stream",
     "text": [
      "0\n",
      "(474, 826, 3)\n",
      "1\n",
      "77\n",
      "(474, 826, 3)\n",
      "1\n",
      "154\n",
      "(474, 826, 3)\n",
      "1\n",
      "231\n",
      "(474, 826, 3)\n",
      "1\n",
      "308\n",
      "(474, 826, 3)\n",
      "1\n",
      "0\n",
      "(500, 888, 3)\n",
      "1\n"
     ]
    },
    {
     "name": "stderr",
     "output_type": "stream",
     "text": [
      "ERROR:root:An error occurred while processing faces: Given groups=1, weight of size [32, 3, 3, 3], expected input[1, 15, 160, 160] to have 3 channels, but got 15 channels instead\n",
      "INFO:root:Video length: 272 frames\n"
     ]
    },
    {
     "name": "stdout",
     "output_type": "stream",
     "text": [
      "128\n",
      "(500, 888, 3)\n",
      "1\n",
      "257\n",
      "(500, 888, 3)\n",
      "1\n",
      "386\n",
      "(500, 888, 3)\n",
      "1\n",
      "515\n",
      "(500, 888, 3)\n",
      "1\n",
      "0\n",
      "(500, 456, 3)\n",
      "1\n",
      "67\n",
      "(500, 456, 3)\n",
      "1\n",
      "135\n",
      "(500, 456, 3)\n",
      "1\n",
      "203\n",
      "(500, 456, 3)\n",
      "1\n",
      "271\n",
      "(500, 456, 3)\n",
      "1\n"
     ]
    },
    {
     "name": "stderr",
     "output_type": "stream",
     "text": [
      "ERROR:root:An error occurred while processing faces: Given groups=1, weight of size [32, 3, 3, 3], expected input[1, 15, 160, 160] to have 3 channels, but got 15 channels instead\n",
      "INFO:root:Video length: 333 frames\n",
      "ERROR:root:An error occurred while processing faces: Given groups=1, weight of size [32, 3, 3, 3], expected input[1, 15, 160, 160] to have 3 channels, but got 15 channels instead\n",
      "INFO:root:Video length: 454 frames\n"
     ]
    },
    {
     "name": "stdout",
     "output_type": "stream",
     "text": [
      "0\n",
      "(472, 848, 3)\n",
      "1\n",
      "83\n",
      "(472, 848, 3)\n",
      "1\n",
      "166\n",
      "(472, 848, 3)\n",
      "1\n",
      "249\n",
      "(472, 848, 3)\n",
      "1\n",
      "332\n",
      "(472, 848, 3)\n",
      "1\n",
      "0\n",
      "(478, 856, 3)\n",
      "1\n",
      "113\n",
      "(478, 856, 3)\n",
      "1\n",
      "226\n",
      "(478, 856, 3)\n",
      "1\n",
      "339\n",
      "(478, 856, 3)\n",
      "1\n",
      "453\n",
      "(478, 856, 3)\n",
      "1\n"
     ]
    },
    {
     "name": "stderr",
     "output_type": "stream",
     "text": [
      "ERROR:root:An error occurred while processing faces: Given groups=1, weight of size [32, 3, 3, 3], expected input[1, 15, 160, 160] to have 3 channels, but got 15 channels instead\n",
      "INFO:root:Video length: 186 frames\n",
      "ERROR:root:An error occurred while processing faces: Given groups=1, weight of size [32, 3, 3, 3], expected input[1, 15, 160, 160] to have 3 channels, but got 15 channels instead\n"
     ]
    },
    {
     "name": "stdout",
     "output_type": "stream",
     "text": [
      "0\n",
      "(476, 846, 3)\n",
      "1\n",
      "46\n",
      "(476, 846, 3)\n",
      "1\n",
      "92\n",
      "(476, 846, 3)\n",
      "1\n",
      "138\n",
      "(476, 846, 3)\n",
      "1\n",
      "185\n",
      "(476, 846, 3)\n",
      "1\n"
     ]
    },
    {
     "name": "stderr",
     "output_type": "stream",
     "text": [
      "INFO:root:Video length: 455 frames\n",
      "ERROR:root:An error occurred while processing faces: Given groups=1, weight of size [32, 3, 3, 3], expected input[1, 15, 160, 160] to have 3 channels, but got 15 channels instead\n"
     ]
    },
    {
     "name": "stdout",
     "output_type": "stream",
     "text": [
      "0\n",
      "(472, 850, 3)\n",
      "1\n",
      "113\n",
      "(472, 850, 3)\n",
      "1\n",
      "227\n",
      "(472, 850, 3)\n",
      "1\n",
      "340\n",
      "(472, 850, 3)\n",
      "1\n",
      "454\n",
      "(472, 850, 3)\n",
      "1\n"
     ]
    },
    {
     "name": "stderr",
     "output_type": "stream",
     "text": [
      "INFO:root:Video length: 290 frames\n"
     ]
    },
    {
     "name": "stdout",
     "output_type": "stream",
     "text": [
      "0\n",
      "(478, 856, 3)\n",
      "1\n",
      "72\n",
      "(478, 856, 3)\n",
      "1\n",
      "144\n",
      "(478, 856, 3)\n",
      "1\n",
      "216\n",
      "(478, 856, 3)\n",
      "1\n",
      "289\n",
      "(478, 856, 3)\n",
      "1\n"
     ]
    },
    {
     "name": "stderr",
     "output_type": "stream",
     "text": [
      "ERROR:root:An error occurred while processing faces: Given groups=1, weight of size [32, 3, 3, 3], expected input[1, 15, 160, 160] to have 3 channels, but got 15 channels instead\n",
      "INFO:root:Video length: 455 frames\n"
     ]
    },
    {
     "name": "stdout",
     "output_type": "stream",
     "text": [
      "0\n",
      "(500, 888, 3)\n",
      "1\n",
      "113\n",
      "(500, 888, 3)\n",
      "1\n",
      "227\n",
      "(500, 888, 3)\n",
      "1\n",
      "340\n",
      "(500, 888, 3)\n",
      "1\n",
      "454\n",
      "(500, 888, 3)\n",
      "1\n"
     ]
    },
    {
     "name": "stderr",
     "output_type": "stream",
     "text": [
      "ERROR:root:An error occurred while processing faces: Given groups=1, weight of size [32, 3, 3, 3], expected input[1, 15, 160, 160] to have 3 channels, but got 15 channels instead\n",
      "INFO:root:Video length: 571 frames\n"
     ]
    },
    {
     "name": "stdout",
     "output_type": "stream",
     "text": [
      "0\n",
      "(472, 850, 3)\n",
      "1\n",
      "142\n",
      "(472, 850, 3)\n",
      "1\n",
      "285\n",
      "(472, 850, 3)\n",
      "1\n",
      "427\n",
      "(472, 850, 3)\n",
      "1\n",
      "570\n",
      "(472, 850, 3)\n",
      "1\n"
     ]
    },
    {
     "name": "stderr",
     "output_type": "stream",
     "text": [
      "ERROR:root:An error occurred while processing faces: Given groups=1, weight of size [32, 3, 3, 3], expected input[1, 15, 160, 160] to have 3 channels, but got 15 channels instead\n",
      "INFO:root:Video length: 267 frames\n"
     ]
    },
    {
     "name": "stdout",
     "output_type": "stream",
     "text": [
      "0\n",
      "(500, 754, 3)\n",
      "1\n",
      "66\n",
      "(500, 754, 3)\n",
      "1\n",
      "133\n",
      "(500, 754, 3)\n",
      "1\n",
      "199\n",
      "(500, 754, 3)\n",
      "1\n",
      "266\n",
      "(500, 754, 3)\n",
      "1\n"
     ]
    },
    {
     "name": "stderr",
     "output_type": "stream",
     "text": [
      "ERROR:root:An error occurred while processing faces: Given groups=1, weight of size [32, 3, 3, 3], expected input[1, 15, 160, 160] to have 3 channels, but got 15 channels instead\n",
      "INFO:root:Video length: 372 frames\n"
     ]
    },
    {
     "name": "stdout",
     "output_type": "stream",
     "text": [
      "0\n",
      "(500, 650, 3)\n",
      "1\n",
      "92\n",
      "(500, 650, 3)\n",
      "1\n",
      "185\n",
      "(500, 650, 3)\n",
      "1\n",
      "278\n",
      "(500, 650, 3)\n",
      "1\n",
      "371\n",
      "(500, 650, 3)\n",
      "1\n"
     ]
    },
    {
     "name": "stderr",
     "output_type": "stream",
     "text": [
      "ERROR:root:An error occurred while processing faces: Given groups=1, weight of size [32, 3, 3, 3], expected input[1, 15, 160, 160] to have 3 channels, but got 15 channels instead\n",
      "INFO:root:Video length: 465 frames\n"
     ]
    },
    {
     "name": "stdout",
     "output_type": "stream",
     "text": [
      "0\n",
      "(478, 856, 3)\n",
      "1\n",
      "116\n",
      "(478, 856, 3)\n",
      "1\n",
      "232\n",
      "(478, 856, 3)\n",
      "1\n",
      "348\n",
      "(478, 856, 3)\n",
      "1\n",
      "464\n",
      "(478, 856, 3)\n"
     ]
    },
    {
     "name": "stderr",
     "output_type": "stream",
     "text": [
      "ERROR:root:An error occurred while processing faces: Given groups=1, weight of size [32, 3, 3, 3], expected input[1, 15, 160, 160] to have 3 channels, but got 15 channels instead\n",
      "INFO:root:Video length: 437 frames\n"
     ]
    },
    {
     "name": "stdout",
     "output_type": "stream",
     "text": [
      "1\n",
      "0\n",
      "(478, 856, 3)\n",
      "1\n",
      "109\n",
      "(478, 856, 3)\n",
      "1\n",
      "218\n",
      "(478, 856, 3)\n",
      "1\n",
      "327\n",
      "(478, 856, 3)\n",
      "1\n"
     ]
    },
    {
     "name": "stderr",
     "output_type": "stream",
     "text": [
      "ERROR:root:An error occurred while processing faces: Given groups=1, weight of size [32, 3, 3, 3], expected input[1, 15, 160, 160] to have 3 channels, but got 15 channels instead\n",
      "INFO:root:Video length: 456 frames\n"
     ]
    },
    {
     "name": "stdout",
     "output_type": "stream",
     "text": [
      "436\n",
      "(478, 856, 3)\n",
      "1\n",
      "0\n",
      "(500, 944, 3)\n",
      "1\n",
      "113\n",
      "(500, 944, 3)\n",
      "1\n",
      "227\n",
      "(500, 944, 3)\n",
      "1\n",
      "341\n",
      "(500, 944, 3)\n",
      "1\n"
     ]
    },
    {
     "name": "stderr",
     "output_type": "stream",
     "text": [
      "ERROR:root:An error occurred while processing faces: Given groups=1, weight of size [32, 3, 3, 3], expected input[1, 15, 160, 160] to have 3 channels, but got 15 channels instead\n",
      "INFO:root:Video length: 353 frames\n"
     ]
    },
    {
     "name": "stdout",
     "output_type": "stream",
     "text": [
      "455\n",
      "(500, 944, 3)\n",
      "1\n",
      "0\n",
      "(500, 888, 3)\n",
      "1\n",
      "88\n",
      "(500, 888, 3)\n",
      "1\n",
      "176\n",
      "(500, 888, 3)\n",
      "1\n",
      "264\n",
      "(500, 888, 3)\n",
      "1\n",
      "352\n"
     ]
    },
    {
     "name": "stderr",
     "output_type": "stream",
     "text": [
      "ERROR:root:An error occurred while processing faces: Given groups=1, weight of size [32, 3, 3, 3], expected input[1, 15, 160, 160] to have 3 channels, but got 15 channels instead\n",
      "INFO:root:Video length: 335 frames\n"
     ]
    },
    {
     "name": "stdout",
     "output_type": "stream",
     "text": [
      "(500, 888, 3)\n",
      "1\n",
      "0\n",
      "(476, 850, 3)\n",
      "1\n",
      "83\n",
      "(476, 850, 3)\n",
      "1\n",
      "167\n",
      "(476, 850, 3)\n",
      "1\n",
      "250\n",
      "(476, 850, 3)\n",
      "1\n",
      "334\n",
      "(476, 850, 3)\n",
      "1\n"
     ]
    },
    {
     "name": "stderr",
     "output_type": "stream",
     "text": [
      "ERROR:root:An error occurred while processing faces: Given groups=1, weight of size [32, 3, 3, 3], expected input[1, 15, 160, 160] to have 3 channels, but got 15 channels instead\n",
      "INFO:root:Video length: 333 frames\n",
      "ERROR:root:An error occurred while processing faces: Given groups=1, weight of size [32, 3, 3, 3], expected input[1, 15, 160, 160] to have 3 channels, but got 15 channels instead\n",
      "INFO:root:Video length: 326 frames\n"
     ]
    },
    {
     "name": "stdout",
     "output_type": "stream",
     "text": [
      "0\n",
      "(474, 848, 3)\n",
      "1\n",
      "83\n",
      "(474, 848, 3)\n",
      "1\n",
      "166\n",
      "(474, 848, 3)\n",
      "1\n",
      "249\n",
      "(474, 848, 3)\n",
      "1\n",
      "332\n",
      "(474, 848, 3)\n",
      "1\n",
      "0\n",
      "(500, 944, 3)\n",
      "1\n"
     ]
    },
    {
     "name": "stderr",
     "output_type": "stream",
     "text": [
      "ERROR:root:An error occurred while processing faces: Given groups=1, weight of size [32, 3, 3, 3], expected input[1, 15, 160, 160] to have 3 channels, but got 15 channels instead\n",
      "INFO:root:Video length: 383 frames\n"
     ]
    },
    {
     "name": "stdout",
     "output_type": "stream",
     "text": [
      "81\n",
      "(500, 944, 3)\n",
      "1\n",
      "162\n",
      "(500, 944, 3)\n",
      "1\n",
      "243\n",
      "(500, 944, 3)\n",
      "1\n",
      "325\n",
      "(500, 944, 3)\n",
      "1\n",
      "0\n",
      "(478, 856, 3)\n",
      "1\n"
     ]
    },
    {
     "name": "stderr",
     "output_type": "stream",
     "text": [
      "ERROR:root:An error occurred while processing faces: Given groups=1, weight of size [32, 3, 3, 3], expected input[1, 15, 160, 160] to have 3 channels, but got 15 channels instead\n",
      "INFO:root:Video length: 308 frames\n"
     ]
    },
    {
     "name": "stdout",
     "output_type": "stream",
     "text": [
      "95\n",
      "(478, 856, 3)\n",
      "1\n",
      "191\n",
      "(478, 856, 3)\n",
      "1\n",
      "286\n",
      "(478, 856, 3)\n",
      "1\n",
      "382\n",
      "(478, 856, 3)\n",
      "1\n",
      "0\n",
      "(474, 826, 3)\n",
      "1\n",
      "76\n",
      "(474, 826, 3)\n",
      "1\n",
      "153\n",
      "(474, 826, 3)\n",
      "1\n",
      "230\n",
      "(474, 826, 3)\n",
      "1\n",
      "307\n",
      "(474, 826, 3)\n",
      "1\n"
     ]
    },
    {
     "name": "stderr",
     "output_type": "stream",
     "text": [
      "ERROR:root:An error occurred while processing faces: Given groups=1, weight of size [32, 3, 3, 3], expected input[1, 15, 160, 160] to have 3 channels, but got 15 channels instead\n",
      "INFO:root:Video length: 307 frames\n",
      "ERROR:root:An error occurred while processing faces: Given groups=1, weight of size [32, 3, 3, 3], expected input[1, 15, 160, 160] to have 3 channels, but got 15 channels instead\n",
      "INFO:root:Video length: 291 frames\n"
     ]
    },
    {
     "name": "stdout",
     "output_type": "stream",
     "text": [
      "0\n",
      "(458, 834, 3)\n",
      "1\n",
      "76\n",
      "(458, 834, 3)\n",
      "1\n",
      "153\n",
      "(458, 834, 3)\n",
      "1\n",
      "229\n",
      "(458, 834, 3)\n",
      "1\n",
      "306\n",
      "(458, 834, 3)\n",
      "1\n"
     ]
    },
    {
     "name": "stderr",
     "output_type": "stream",
     "text": [
      "ERROR:root:An error occurred while processing faces: Given groups=1, weight of size [32, 3, 3, 3], expected input[1, 15, 160, 160] to have 3 channels, but got 15 channels instead\n",
      "INFO:root:Video length: 328 frames\n"
     ]
    },
    {
     "name": "stdout",
     "output_type": "stream",
     "text": [
      "0\n",
      "(466, 744, 3)\n",
      "1\n",
      "72\n",
      "(466, 744, 3)\n",
      "1\n",
      "145\n",
      "(466, 744, 3)\n",
      "1\n",
      "217\n",
      "(466, 744, 3)\n",
      "1\n",
      "290\n",
      "(466, 744, 3)\n",
      "1\n",
      "0\n",
      "(452, 844, 3)\n",
      "1\n"
     ]
    },
    {
     "name": "stderr",
     "output_type": "stream",
     "text": [
      "ERROR:root:An error occurred while processing faces: Given groups=1, weight of size [32, 3, 3, 3], expected input[1, 15, 160, 160] to have 3 channels, but got 15 channels instead\n",
      "INFO:root:Video length: 477 frames\n"
     ]
    },
    {
     "name": "stdout",
     "output_type": "stream",
     "text": [
      "81\n",
      "(452, 844, 3)\n",
      "1\n",
      "163\n",
      "(452, 844, 3)\n",
      "1\n",
      "245\n",
      "(452, 844, 3)\n",
      "1\n",
      "327\n",
      "(452, 844, 3)\n",
      "1\n",
      "0\n",
      "(478, 856, 3)\n",
      "1\n"
     ]
    },
    {
     "name": "stderr",
     "output_type": "stream",
     "text": [
      "ERROR:root:An error occurred while processing faces: Given groups=1, weight of size [32, 3, 3, 3], expected input[1, 15, 160, 160] to have 3 channels, but got 15 channels instead\n",
      "INFO:root:Video length: 315 frames\n"
     ]
    },
    {
     "name": "stdout",
     "output_type": "stream",
     "text": [
      "119\n",
      "(478, 856, 3)\n",
      "1\n",
      "238\n",
      "(478, 856, 3)\n",
      "1\n",
      "357\n",
      "(478, 856, 3)\n",
      "1\n",
      "476\n",
      "(478, 856, 3)\n",
      "1\n",
      "0\n",
      "(474, 844, 3)\n",
      "1\n",
      "78\n",
      "(474, 844, 3)\n",
      "1\n"
     ]
    },
    {
     "name": "stderr",
     "output_type": "stream",
     "text": [
      "ERROR:root:An error occurred while processing faces: Given groups=1, weight of size [32, 3, 3, 3], expected input[1, 15, 160, 160] to have 3 channels, but got 15 channels instead\n",
      "INFO:root:Video length: 327 frames\n"
     ]
    },
    {
     "name": "stdout",
     "output_type": "stream",
     "text": [
      "157\n",
      "(474, 844, 3)\n",
      "1\n",
      "235\n",
      "(474, 844, 3)\n",
      "1\n",
      "314\n",
      "(474, 844, 3)\n",
      "1\n",
      "0\n",
      "(472, 848, 3)\n",
      "1\n",
      "81\n",
      "(472, 848, 3)\n",
      "1\n"
     ]
    },
    {
     "name": "stderr",
     "output_type": "stream",
     "text": [
      "ERROR:root:An error occurred while processing faces: Given groups=1, weight of size [32, 3, 3, 3], expected input[1, 15, 160, 160] to have 3 channels, but got 15 channels instead\n",
      "INFO:root:Video length: 362 frames\n"
     ]
    },
    {
     "name": "stdout",
     "output_type": "stream",
     "text": [
      "163\n",
      "(472, 848, 3)\n",
      "1\n",
      "244\n",
      "(472, 848, 3)\n",
      "1\n",
      "326\n",
      "(472, 848, 3)\n",
      "1\n",
      "0\n",
      "(478, 856, 3)\n",
      "1\n",
      "90\n",
      "(478, 856, 3)\n",
      "1\n"
     ]
    },
    {
     "name": "stderr",
     "output_type": "stream",
     "text": [
      "ERROR:root:An error occurred while processing faces: Given groups=1, weight of size [32, 3, 3, 3], expected input[1, 15, 160, 160] to have 3 channels, but got 15 channels instead\n",
      "INFO:root:Video length: 322 frames\n"
     ]
    },
    {
     "name": "stdout",
     "output_type": "stream",
     "text": [
      "180\n",
      "(478, 856, 3)\n",
      "1\n",
      "270\n",
      "(478, 856, 3)\n",
      "1\n",
      "361\n",
      "(478, 856, 3)\n",
      "1\n",
      "0\n",
      "(500, 472, 3)\n",
      "1\n",
      "80\n",
      "(500, 472, 3)\n",
      "1\n"
     ]
    },
    {
     "name": "stderr",
     "output_type": "stream",
     "text": [
      "ERROR:root:An error occurred while processing faces: Given groups=1, weight of size [32, 3, 3, 3], expected input[1, 15, 160, 160] to have 3 channels, but got 15 channels instead\n",
      "INFO:root:Video length: 401 frames\n"
     ]
    },
    {
     "name": "stdout",
     "output_type": "stream",
     "text": [
      "160\n",
      "(500, 472, 3)\n",
      "1\n",
      "240\n",
      "(500, 472, 3)\n",
      "1\n",
      "321\n",
      "(500, 472, 3)\n",
      "1\n",
      "0\n",
      "(500, 944, 3)\n",
      "1\n",
      "100\n",
      "(500, 944, 3)\n",
      "1\n"
     ]
    },
    {
     "name": "stderr",
     "output_type": "stream",
     "text": [
      "ERROR:root:An error occurred while processing faces: Given groups=1, weight of size [32, 3, 3, 3], expected input[1, 15, 160, 160] to have 3 channels, but got 15 channels instead\n",
      "INFO:root:Video length: 483 frames\n"
     ]
    },
    {
     "name": "stdout",
     "output_type": "stream",
     "text": [
      "200\n",
      "(500, 944, 3)\n",
      "1\n",
      "300\n",
      "(500, 944, 3)\n",
      "1\n",
      "400\n",
      "(500, 944, 3)\n",
      "1\n",
      "0\n",
      "(478, 856, 3)\n",
      "1\n",
      "120\n",
      "(478, 856, 3)\n",
      "1\n",
      "241\n"
     ]
    },
    {
     "name": "stderr",
     "output_type": "stream",
     "text": [
      "ERROR:root:An error occurred while processing faces: Given groups=1, weight of size [32, 3, 3, 3], expected input[1, 15, 160, 160] to have 3 channels, but got 15 channels instead\n",
      "INFO:root:Video length: 442 frames\n"
     ]
    },
    {
     "name": "stdout",
     "output_type": "stream",
     "text": [
      "(478, 856, 3)\n",
      "1\n",
      "361\n",
      "(478, 856, 3)\n",
      "1\n",
      "482\n",
      "(478, 856, 3)\n",
      "1\n",
      "0\n",
      "(500, 892, 3)\n",
      "1\n",
      "110\n",
      "(500, 892, 3)\n",
      "1\n"
     ]
    },
    {
     "name": "stderr",
     "output_type": "stream",
     "text": [
      "ERROR:root:An error occurred while processing faces: Given groups=1, weight of size [32, 3, 3, 3], expected input[1, 15, 160, 160] to have 3 channels, but got 15 channels instead\n",
      "INFO:root:Video length: 315 frames\n"
     ]
    },
    {
     "name": "stdout",
     "output_type": "stream",
     "text": [
      "220\n",
      "(500, 892, 3)\n",
      "1\n",
      "330\n",
      "(500, 892, 3)\n",
      "1\n",
      "441\n",
      "(500, 892, 3)\n",
      "1\n",
      "0\n",
      "(500, 532, 3)\n",
      "1\n",
      "78\n",
      "(500, 532, 3)\n",
      "1\n",
      "157\n",
      "(500, 532, 3)\n",
      "1\n"
     ]
    },
    {
     "name": "stderr",
     "output_type": "stream",
     "text": [
      "ERROR:root:An error occurred while processing faces: Given groups=1, weight of size [32, 3, 3, 3], expected input[1, 15, 160, 160] to have 3 channels, but got 15 channels instead\n",
      "INFO:root:Video length: 470 frames\n"
     ]
    },
    {
     "name": "stdout",
     "output_type": "stream",
     "text": [
      "235\n",
      "(500, 532, 3)\n",
      "1\n",
      "314\n",
      "(500, 532, 3)\n",
      "1\n",
      "0\n",
      "(466, 848, 3)\n",
      "1\n",
      "117\n",
      "(466, 848, 3)\n",
      "1\n",
      "234\n",
      "(466, 848, 3)\n",
      "1\n"
     ]
    },
    {
     "name": "stderr",
     "output_type": "stream",
     "text": [
      "ERROR:root:An error occurred while processing faces: Given groups=1, weight of size [32, 3, 3, 3], expected input[1, 15, 160, 160] to have 3 channels, but got 15 channels instead\n",
      "INFO:root:Video length: 309 frames\n"
     ]
    },
    {
     "name": "stdout",
     "output_type": "stream",
     "text": [
      "351\n",
      "(466, 848, 3)\n",
      "1\n",
      "469\n",
      "(466, 848, 3)\n",
      "1\n",
      "0\n",
      "(500, 668, 3)\n",
      "1\n",
      "77\n",
      "(500, 668, 3)\n",
      "1\n",
      "154\n",
      "(500, 668, 3)\n",
      "1\n",
      "231\n",
      "(500, 668, 3)\n",
      "1\n"
     ]
    },
    {
     "name": "stderr",
     "output_type": "stream",
     "text": [
      "ERROR:root:An error occurred while processing faces: Given groups=1, weight of size [32, 3, 3, 3], expected input[1, 15, 160, 160] to have 3 channels, but got 15 channels instead\n",
      "INFO:root:Video length: 325 frames\n"
     ]
    },
    {
     "name": "stdout",
     "output_type": "stream",
     "text": [
      "308\n",
      "(500, 668, 3)\n",
      "1\n",
      "0\n",
      "(500, 950, 3)\n",
      "1\n",
      "81\n",
      "(500, 950, 3)\n",
      "1\n",
      "162\n",
      "(500, 950, 3)\n",
      "1\n",
      "243\n",
      "(500, 950, 3)\n",
      "1\n"
     ]
    },
    {
     "name": "stderr",
     "output_type": "stream",
     "text": [
      "ERROR:root:An error occurred while processing faces: Given groups=1, weight of size [32, 3, 3, 3], expected input[1, 15, 160, 160] to have 3 channels, but got 15 channels instead\n",
      "INFO:root:Video length: 338 frames\n"
     ]
    },
    {
     "name": "stdout",
     "output_type": "stream",
     "text": [
      "324\n",
      "(500, 950, 3)\n",
      "1\n",
      "0\n",
      "(472, 844, 3)\n",
      "1\n",
      "84\n",
      "(472, 844, 3)\n",
      "1\n",
      "168\n",
      "(472, 844, 3)\n",
      "1\n",
      "252\n",
      "(472, 844, 3)\n",
      "1\n",
      "337\n",
      "(472, 844, 3)\n",
      "1\n"
     ]
    },
    {
     "name": "stderr",
     "output_type": "stream",
     "text": [
      "ERROR:root:An error occurred while processing faces: Given groups=1, weight of size [32, 3, 3, 3], expected input[1, 15, 160, 160] to have 3 channels, but got 15 channels instead\n",
      "INFO:root:Video length: 311 frames\n",
      "ERROR:root:An error occurred while processing faces: Given groups=1, weight of size [32, 3, 3, 3], expected input[1, 15, 160, 160] to have 3 channels, but got 15 channels instead\n",
      "INFO:root:Video length: 414 frames\n"
     ]
    },
    {
     "name": "stdout",
     "output_type": "stream",
     "text": [
      "0\n",
      "(500, 590, 3)\n",
      "1\n",
      "77\n",
      "(500, 590, 3)\n",
      "1\n",
      "155\n",
      "(500, 590, 3)\n",
      "1\n",
      "232\n",
      "(500, 590, 3)\n",
      "1\n",
      "310\n",
      "(500, 590, 3)\n",
      "1\n",
      "0\n",
      "(478, 856, 3)\n",
      "1\n"
     ]
    },
    {
     "name": "stderr",
     "output_type": "stream",
     "text": [
      "ERROR:root:An error occurred while processing faces: Given groups=1, weight of size [32, 3, 3, 3], expected input[1, 15, 160, 160] to have 3 channels, but got 15 channels instead\n"
     ]
    },
    {
     "name": "stdout",
     "output_type": "stream",
     "text": [
      "103\n",
      "(478, 856, 3)\n",
      "1\n",
      "206\n",
      "(478, 856, 3)\n",
      "1\n",
      "309\n",
      "(478, 856, 3)\n",
      "1\n",
      "413\n",
      "(478, 856, 3)\n",
      "1\n"
     ]
    },
    {
     "name": "stderr",
     "output_type": "stream",
     "text": [
      "INFO:root:Video length: 311 frames\n",
      "ERROR:root:An error occurred while processing faces: Given groups=1, weight of size [32, 3, 3, 3], expected input[1, 15, 160, 160] to have 3 channels, but got 15 channels instead\n",
      "INFO:root:Video length: 630 frames\n"
     ]
    },
    {
     "name": "stdout",
     "output_type": "stream",
     "text": [
      "0\n",
      "(500, 620, 3)\n",
      "1\n",
      "77\n",
      "(500, 620, 3)\n",
      "1\n",
      "155\n",
      "(500, 620, 3)\n",
      "1\n",
      "232\n",
      "(500, 620, 3)\n",
      "1\n",
      "310\n",
      "(500, 620, 3)\n",
      "1\n",
      "0\n",
      "(500, 944, 3)\n",
      "1\n",
      "157\n",
      "(500, 944, 3)\n",
      "1\n",
      "314\n",
      "(500, 944, 3)\n",
      "1\n",
      "471\n",
      "(500, 944, 3)\n",
      "1\n"
     ]
    },
    {
     "name": "stderr",
     "output_type": "stream",
     "text": [
      "ERROR:root:An error occurred while processing faces: Given groups=1, weight of size [32, 3, 3, 3], expected input[1, 15, 160, 160] to have 3 channels, but got 15 channels instead\n",
      "INFO:root:Video length: 570 frames\n"
     ]
    },
    {
     "name": "stdout",
     "output_type": "stream",
     "text": [
      "629\n",
      "(500, 944, 3)\n",
      "1\n",
      "0\n",
      "(500, 944, 3)\n",
      "1\n",
      "142\n",
      "(500, 944, 3)\n",
      "1\n",
      "284\n",
      "(500, 944, 3)\n",
      "1\n",
      "426\n",
      "(500, 944, 3)\n",
      "1\n",
      "569\n",
      "(500, 944, 3)\n"
     ]
    },
    {
     "name": "stderr",
     "output_type": "stream",
     "text": [
      "ERROR:root:An error occurred while processing faces: Given groups=1, weight of size [32, 3, 3, 3], expected input[1, 15, 160, 160] to have 3 channels, but got 15 channels instead\n",
      "INFO:root:Video length: 338 frames\n"
     ]
    },
    {
     "name": "stdout",
     "output_type": "stream",
     "text": [
      "1\n",
      "0\n",
      "(472, 844, 3)\n",
      "1\n",
      "84\n",
      "(472, 844, 3)\n",
      "1\n",
      "168\n",
      "(472, 844, 3)\n",
      "1\n",
      "252\n",
      "(472, 844, 3)\n",
      "1\n",
      "337\n",
      "(472, 844, 3)\n",
      "1\n"
     ]
    },
    {
     "name": "stderr",
     "output_type": "stream",
     "text": [
      "ERROR:root:An error occurred while processing faces: Given groups=1, weight of size [32, 3, 3, 3], expected input[1, 15, 160, 160] to have 3 channels, but got 15 channels instead\n",
      "INFO:root:Video length: 303 frames\n",
      "ERROR:root:An error occurred while processing faces: Given groups=1, weight of size [32, 3, 3, 3], expected input[1, 15, 160, 160] to have 3 channels, but got 15 channels instead\n"
     ]
    },
    {
     "name": "stdout",
     "output_type": "stream",
     "text": [
      "0\n",
      "(500, 944, 3)\n",
      "1\n",
      "75\n",
      "(500, 944, 3)\n",
      "1\n",
      "151\n",
      "(500, 944, 3)\n",
      "1\n",
      "226\n",
      "(500, 944, 3)\n",
      "1\n",
      "302\n",
      "(500, 944, 3)\n",
      "1\n"
     ]
    },
    {
     "name": "stderr",
     "output_type": "stream",
     "text": [
      "INFO:root:Video length: 321 frames\n",
      "ERROR:root:An error occurred while processing faces: Given groups=1, weight of size [32, 3, 3, 3], expected input[1, 15, 160, 160] to have 3 channels, but got 15 channels instead\n",
      "INFO:root:Video length: 305 frames\n"
     ]
    },
    {
     "name": "stdout",
     "output_type": "stream",
     "text": [
      "0\n",
      "(406, 840, 3)\n",
      "1\n",
      "80\n",
      "(406, 840, 3)\n",
      "1\n",
      "160\n",
      "(406, 840, 3)\n",
      "1\n",
      "240\n",
      "(406, 840, 3)\n",
      "1\n",
      "320\n",
      "(406, 840, 3)\n",
      "1\n"
     ]
    },
    {
     "name": "stderr",
     "output_type": "stream",
     "text": [
      "ERROR:root:An error occurred while processing faces: Given groups=1, weight of size [32, 3, 3, 3], expected input[1, 15, 160, 160] to have 3 channels, but got 15 channels instead\n",
      "INFO:root:Video length: 458 frames\n"
     ]
    },
    {
     "name": "stdout",
     "output_type": "stream",
     "text": [
      "0\n",
      "(500, 666, 3)\n",
      "1\n",
      "76\n",
      "(500, 666, 3)\n",
      "1\n",
      "152\n",
      "(500, 666, 3)\n",
      "1\n",
      "228\n",
      "(500, 666, 3)\n",
      "1\n",
      "304\n",
      "(500, 666, 3)\n",
      "1\n",
      "0\n",
      "(478, 856, 3)\n",
      "1\n"
     ]
    },
    {
     "name": "stderr",
     "output_type": "stream",
     "text": [
      "ERROR:root:An error occurred while processing faces: Given groups=1, weight of size [32, 3, 3, 3], expected input[1, 15, 160, 160] to have 3 channels, but got 15 channels instead\n",
      "INFO:root:Video length: 161 frames\n"
     ]
    },
    {
     "name": "stdout",
     "output_type": "stream",
     "text": [
      "114\n",
      "(478, 856, 3)\n",
      "1\n",
      "228\n",
      "(478, 856, 3)\n",
      "1\n",
      "342\n",
      "(478, 856, 3)\n",
      "1\n",
      "457\n",
      "(478, 856, 3)\n",
      "1\n",
      "0\n",
      "(500, 942, 3)\n",
      "1\n",
      "40\n",
      "(500, 942, 3)\n",
      "1\n"
     ]
    },
    {
     "name": "stderr",
     "output_type": "stream",
     "text": [
      "ERROR:root:An error occurred while processing faces: Given groups=1, weight of size [32, 3, 3, 3], expected input[1, 15, 160, 160] to have 3 channels, but got 15 channels instead\n",
      "INFO:root:Video length: 479 frames\n"
     ]
    },
    {
     "name": "stdout",
     "output_type": "stream",
     "text": [
      "80\n",
      "(500, 942, 3)\n",
      "1\n",
      "120\n",
      "(500, 942, 3)\n",
      "1\n",
      "160\n",
      "(500, 942, 3)\n",
      "1\n",
      "0\n",
      "(472, 850, 3)\n",
      "1\n",
      "119\n",
      "(472, 850, 3)\n",
      "1\n"
     ]
    },
    {
     "name": "stderr",
     "output_type": "stream",
     "text": [
      "ERROR:root:An error occurred while processing faces: Given groups=1, weight of size [32, 3, 3, 3], expected input[1, 15, 160, 160] to have 3 channels, but got 15 channels instead\n",
      "INFO:root:Video length: 314 frames\n"
     ]
    },
    {
     "name": "stdout",
     "output_type": "stream",
     "text": [
      "239\n",
      "(472, 850, 3)\n",
      "1\n",
      "358\n",
      "(472, 850, 3)\n",
      "1\n",
      "478\n",
      "(472, 850, 3)\n",
      "1\n",
      "0\n",
      "(480, 636, 3)\n",
      "1\n",
      "78\n",
      "(480, 636, 3)\n",
      "1\n",
      "156\n",
      "(480, 636, 3)\n",
      "1\n"
     ]
    },
    {
     "name": "stderr",
     "output_type": "stream",
     "text": [
      "ERROR:root:An error occurred while processing faces: Given groups=1, weight of size [32, 3, 3, 3], expected input[1, 15, 160, 160] to have 3 channels, but got 15 channels instead\n",
      "INFO:root:Video length: 301 frames\n"
     ]
    },
    {
     "name": "stdout",
     "output_type": "stream",
     "text": [
      "234\n",
      "(480, 636, 3)\n",
      "1\n",
      "313\n",
      "(480, 636, 3)\n",
      "1\n",
      "0\n",
      "(500, 684, 3)\n",
      "1\n",
      "75\n",
      "(500, 684, 3)\n",
      "1\n",
      "150\n",
      "(500, 684, 3)\n",
      "1\n",
      "225\n",
      "(500, 684, 3)\n",
      "1\n"
     ]
    },
    {
     "name": "stderr",
     "output_type": "stream",
     "text": [
      "ERROR:root:An error occurred while processing faces: Given groups=1, weight of size [32, 3, 3, 3], expected input[1, 15, 160, 160] to have 3 channels, but got 15 channels instead\n",
      "INFO:root:Video length: 327 frames\n"
     ]
    },
    {
     "name": "stdout",
     "output_type": "stream",
     "text": [
      "300\n",
      "(500, 684, 3)\n",
      "1\n",
      "0\n",
      "(472, 850, 3)\n",
      "1\n",
      "81\n",
      "(472, 850, 3)\n",
      "1\n",
      "163\n",
      "(472, 850, 3)\n",
      "1\n",
      "244\n",
      "(472, 850, 3)\n",
      "1\n",
      "326\n",
      "(472, 850, 3)\n",
      "1\n"
     ]
    },
    {
     "name": "stderr",
     "output_type": "stream",
     "text": [
      "ERROR:root:An error occurred while processing faces: Given groups=1, weight of size [32, 3, 3, 3], expected input[1, 15, 160, 160] to have 3 channels, but got 15 channels instead\n",
      "INFO:root:Video length: 399 frames\n"
     ]
    },
    {
     "name": "stdout",
     "output_type": "stream",
     "text": [
      "0\n",
      "(500, 944, 3)\n",
      "1\n",
      "99\n",
      "(500, 944, 3)\n",
      "1\n",
      "199\n",
      "(500, 944, 3)\n",
      "1\n",
      "298\n",
      "(500, 944, 3)\n",
      "1\n",
      "398\n",
      "(500, 944, 3)\n",
      "1\n"
     ]
    },
    {
     "name": "stderr",
     "output_type": "stream",
     "text": [
      "ERROR:root:An error occurred while processing faces: Given groups=1, weight of size [32, 3, 3, 3], expected input[1, 15, 160, 160] to have 3 channels, but got 15 channels instead\n",
      "INFO:root:Video length: 272 frames\n"
     ]
    },
    {
     "name": "stdout",
     "output_type": "stream",
     "text": [
      "0\n",
      "(500, 456, 3)\n",
      "1\n",
      "67\n",
      "(500, 456, 3)\n",
      "1\n",
      "135\n",
      "(500, 456, 3)\n",
      "1\n",
      "203\n",
      "(500, 456, 3)\n",
      "1\n",
      "271\n",
      "(500, 456, 3)\n",
      "1\n"
     ]
    },
    {
     "name": "stderr",
     "output_type": "stream",
     "text": [
      "ERROR:root:An error occurred while processing faces: Given groups=1, weight of size [32, 3, 3, 3], expected input[1, 15, 160, 160] to have 3 channels, but got 15 channels instead\n",
      "INFO:root:Video length: 404 frames\n"
     ]
    },
    {
     "name": "stdout",
     "output_type": "stream",
     "text": [
      "0\n",
      "(472, 850, 3)\n",
      "1\n",
      "100\n",
      "(472, 850, 3)\n",
      "1\n",
      "201\n",
      "(472, 850, 3)\n",
      "1\n",
      "302\n",
      "(472, 850, 3)\n",
      "1\n",
      "403\n",
      "(472, 850, 3)\n",
      "1\n"
     ]
    },
    {
     "name": "stderr",
     "output_type": "stream",
     "text": [
      "ERROR:root:An error occurred while processing faces: Given groups=1, weight of size [32, 3, 3, 3], expected input[1, 15, 160, 160] to have 3 channels, but got 15 channels instead\n",
      "INFO:root:Video length: 454 frames\n",
      "ERROR:root:An error occurred while processing faces: Given groups=1, weight of size [32, 3, 3, 3], expected input[1, 15, 160, 160] to have 3 channels, but got 15 channels instead\n"
     ]
    },
    {
     "name": "stdout",
     "output_type": "stream",
     "text": [
      "0\n",
      "(466, 848, 3)\n",
      "1\n",
      "113\n",
      "(466, 848, 3)\n",
      "1\n",
      "226\n",
      "(466, 848, 3)\n",
      "1\n",
      "339\n",
      "(466, 848, 3)\n",
      "1\n",
      "453\n",
      "(466, 848, 3)\n",
      "1\n"
     ]
    },
    {
     "name": "stderr",
     "output_type": "stream",
     "text": [
      "INFO:root:Video length: 332 frames\n",
      "ERROR:root:An error occurred while processing faces: Given groups=1, weight of size [32, 3, 3, 3], expected input[1, 15, 160, 160] to have 3 channels, but got 15 channels instead\n",
      "INFO:root:Video length: 350 frames\n"
     ]
    },
    {
     "name": "stdout",
     "output_type": "stream",
     "text": [
      "0\n",
      "(474, 844, 3)\n",
      "1\n",
      "82\n",
      "(474, 844, 3)\n",
      "1\n",
      "165\n",
      "(474, 844, 3)\n",
      "1\n",
      "248\n",
      "(474, 844, 3)\n",
      "1\n",
      "331\n",
      "(474, 844, 3)\n",
      "1\n"
     ]
    },
    {
     "name": "stderr",
     "output_type": "stream",
     "text": [
      "ERROR:root:An error occurred while processing faces: Given groups=1, weight of size [32, 3, 3, 3], expected input[1, 15, 160, 160] to have 3 channels, but got 15 channels instead\n",
      "INFO:root:Video length: 376 frames\n"
     ]
    },
    {
     "name": "stdout",
     "output_type": "stream",
     "text": [
      "0\n",
      "(472, 848, 3)\n",
      "1\n",
      "87\n",
      "(472, 848, 3)\n",
      "1\n",
      "174\n",
      "(472, 848, 3)\n",
      "1\n",
      "261\n",
      "(472, 848, 3)\n",
      "1\n",
      "349\n",
      "(472, 848, 3)\n",
      "1\n",
      "0\n",
      "(500, 608, 3)\n",
      "1\n",
      "93\n",
      "(500, 608, 3)\n",
      "1\n"
     ]
    },
    {
     "name": "stderr",
     "output_type": "stream",
     "text": [
      "ERROR:root:An error occurred while processing faces: Given groups=1, weight of size [32, 3, 3, 3], expected input[1, 15, 160, 160] to have 3 channels, but got 15 channels instead\n",
      "INFO:root:Video length: 460 frames\n"
     ]
    },
    {
     "name": "stdout",
     "output_type": "stream",
     "text": [
      "187\n",
      "(500, 608, 3)\n",
      "1\n",
      "281\n",
      "(500, 608, 3)\n",
      "1\n",
      "375\n",
      "(500, 608, 3)\n",
      "1\n",
      "0\n",
      "(478, 856, 3)\n",
      "1\n",
      "114\n",
      "(478, 856, 3)\n",
      "1\n"
     ]
    },
    {
     "name": "stderr",
     "output_type": "stream",
     "text": [
      "ERROR:root:An error occurred while processing faces: Given groups=1, weight of size [32, 3, 3, 3], expected input[1, 15, 160, 160] to have 3 channels, but got 15 channels instead\n",
      "INFO:root:Video length: 501 frames\n"
     ]
    },
    {
     "name": "stdout",
     "output_type": "stream",
     "text": [
      "229\n",
      "(478, 856, 3)\n",
      "1\n",
      "344\n",
      "(478, 856, 3)\n",
      "1\n",
      "459\n",
      "(478, 856, 3)\n",
      "1\n",
      "0\n",
      "(478, 856, 3)\n",
      "1\n",
      "125\n",
      "(478, 856, 3)\n",
      "1\n"
     ]
    },
    {
     "name": "stderr",
     "output_type": "stream",
     "text": [
      "ERROR:root:An error occurred while processing faces: Given groups=1, weight of size [32, 3, 3, 3], expected input[1, 15, 160, 160] to have 3 channels, but got 15 channels instead\n",
      "INFO:root:Video length: 448 frames\n"
     ]
    },
    {
     "name": "stdout",
     "output_type": "stream",
     "text": [
      "250\n",
      "(478, 856, 3)\n",
      "1\n",
      "375\n",
      "(478, 856, 3)\n",
      "1\n",
      "500\n",
      "(478, 856, 3)\n",
      "1\n",
      "0\n",
      "(472, 850, 3)\n",
      "1\n",
      "111\n",
      "(472, 850, 3)\n",
      "1\n",
      "223\n",
      "(472, 850, 3)\n",
      "1\n"
     ]
    },
    {
     "name": "stderr",
     "output_type": "stream",
     "text": [
      "ERROR:root:An error occurred while processing faces: Given groups=1, weight of size [32, 3, 3, 3], expected input[1, 15, 160, 160] to have 3 channels, but got 15 channels instead\n",
      "INFO:root:Video length: 458 frames\n"
     ]
    },
    {
     "name": "stdout",
     "output_type": "stream",
     "text": [
      "335\n",
      "(472, 850, 3)\n",
      "1\n",
      "447\n",
      "(472, 850, 3)\n",
      "1\n",
      "0\n",
      "(500, 944, 3)\n",
      "1\n",
      "114\n",
      "(500, 944, 3)\n",
      "1\n",
      "228\n",
      "(500, 944, 3)\n",
      "1\n"
     ]
    },
    {
     "name": "stderr",
     "output_type": "stream",
     "text": [
      "ERROR:root:An error occurred while processing faces: Given groups=1, weight of size [32, 3, 3, 3], expected input[1, 15, 160, 160] to have 3 channels, but got 15 channels instead\n",
      "INFO:root:Video length: 571 frames\n"
     ]
    },
    {
     "name": "stdout",
     "output_type": "stream",
     "text": [
      "342\n",
      "(500, 944, 3)\n",
      "1\n",
      "457\n",
      "(500, 944, 3)\n",
      "1\n",
      "0\n",
      "(478, 856, 3)\n",
      "1\n",
      "142\n",
      "(478, 856, 3)\n",
      "1\n",
      "285\n",
      "(478, 856, 3)\n"
     ]
    },
    {
     "name": "stderr",
     "output_type": "stream",
     "text": [
      "ERROR:root:An error occurred while processing faces: Given groups=1, weight of size [32, 3, 3, 3], expected input[1, 15, 160, 160] to have 3 channels, but got 15 channels instead\n",
      "INFO:root:Video length: 470 frames\n"
     ]
    },
    {
     "name": "stdout",
     "output_type": "stream",
     "text": [
      "1\n",
      "427\n",
      "(478, 856, 3)\n",
      "1\n",
      "570\n",
      "(478, 856, 3)\n",
      "1\n",
      "0\n",
      "(500, 888, 3)\n",
      "1\n",
      "117\n",
      "(500, 888, 3)\n",
      "1\n"
     ]
    },
    {
     "name": "stderr",
     "output_type": "stream",
     "text": [
      "ERROR:root:An error occurred while processing faces: Given groups=1, weight of size [32, 3, 3, 3], expected input[1, 15, 160, 160] to have 3 channels, but got 15 channels instead\n",
      "INFO:root:Video length: 458 frames\n"
     ]
    },
    {
     "name": "stdout",
     "output_type": "stream",
     "text": [
      "234\n",
      "(500, 888, 3)\n",
      "1\n",
      "351\n",
      "(500, 888, 3)\n",
      "1\n",
      "469\n",
      "(500, 888, 3)\n",
      "1\n",
      "0\n",
      "(478, 856, 3)\n",
      "1\n",
      "114\n",
      "(478, 856, 3)\n",
      "1\n"
     ]
    },
    {
     "name": "stderr",
     "output_type": "stream",
     "text": [
      "ERROR:root:An error occurred while processing faces: Given groups=1, weight of size [32, 3, 3, 3], expected input[1, 15, 160, 160] to have 3 channels, but got 15 channels instead\n",
      "INFO:root:Video length: 371 frames\n"
     ]
    },
    {
     "name": "stdout",
     "output_type": "stream",
     "text": [
      "228\n",
      "(478, 856, 3)\n",
      "1\n",
      "342\n",
      "(478, 856, 3)\n",
      "1\n",
      "457\n",
      "(478, 856, 3)\n",
      "1\n",
      "0\n",
      "(500, 582, 3)\n",
      "1\n",
      "92\n",
      "(500, 582, 3)\n",
      "1\n",
      "185\n",
      "(500, 582, 3)\n",
      "1\n"
     ]
    },
    {
     "name": "stderr",
     "output_type": "stream",
     "text": [
      "ERROR:root:An error occurred while processing faces: expected Tensor as element 4 in argument 0, but got NoneType\n",
      "INFO:root:Video length: 470 frames\n"
     ]
    },
    {
     "name": "stdout",
     "output_type": "stream",
     "text": [
      "277\n",
      "(500, 582, 3)\n",
      "1\n",
      "370\n",
      "(500, 582, 3)\n",
      "1\n",
      "0\n",
      "(500, 638, 3)\n",
      "1\n",
      "117\n",
      "(500, 638, 3)\n",
      "1\n",
      "234\n",
      "(500, 638, 3)\n",
      "1\n"
     ]
    },
    {
     "name": "stderr",
     "output_type": "stream",
     "text": [
      "ERROR:root:An error occurred while processing faces: Given groups=1, weight of size [32, 3, 3, 3], expected input[1, 15, 160, 160] to have 3 channels, but got 15 channels instead\n",
      "INFO:root:Video length: 381 frames\n"
     ]
    },
    {
     "name": "stdout",
     "output_type": "stream",
     "text": [
      "351\n",
      "(500, 638, 3)\n",
      "1\n",
      "469\n",
      "(500, 638, 3)\n",
      "1\n",
      "0\n",
      "(500, 944, 3)\n",
      "1\n",
      "95\n",
      "(500, 944, 3)\n",
      "1\n"
     ]
    },
    {
     "name": "stderr",
     "output_type": "stream",
     "text": [
      "ERROR:root:An error occurred while processing faces: Given groups=1, weight of size [32, 3, 3, 3], expected input[1, 15, 160, 160] to have 3 channels, but got 15 channels instead\n",
      "INFO:root:Video length: 165 frames\n"
     ]
    },
    {
     "name": "stdout",
     "output_type": "stream",
     "text": [
      "190\n",
      "(500, 944, 3)\n",
      "1\n",
      "285\n",
      "(500, 944, 3)\n",
      "1\n",
      "380\n",
      "(500, 944, 3)\n",
      "1\n",
      "0\n",
      "(456, 812, 3)\n",
      "1\n",
      "41\n",
      "(456, 812, 3)\n",
      "1\n"
     ]
    },
    {
     "name": "stderr",
     "output_type": "stream",
     "text": [
      "ERROR:root:An error occurred while processing faces: Given groups=1, weight of size [32, 3, 3, 3], expected input[1, 15, 160, 160] to have 3 channels, but got 15 channels instead\n",
      "INFO:root:Video length: 336 frames\n"
     ]
    },
    {
     "name": "stdout",
     "output_type": "stream",
     "text": [
      "82\n",
      "(456, 812, 3)\n",
      "1\n",
      "123\n",
      "(456, 812, 3)\n",
      "1\n",
      "164\n",
      "(456, 812, 3)\n",
      "1\n",
      "0\n",
      "(474, 526, 3)\n",
      "1\n",
      "83\n",
      "(474, 526, 3)\n",
      "1\n",
      "167\n",
      "(474, 526, 3)\n",
      "1\n"
     ]
    },
    {
     "name": "stderr",
     "output_type": "stream",
     "text": [
      "ERROR:root:An error occurred while processing faces: Given groups=1, weight of size [32, 3, 3, 3], expected input[1, 15, 160, 160] to have 3 channels, but got 15 channels instead\n",
      "INFO:root:Video length: 365 frames\n"
     ]
    },
    {
     "name": "stdout",
     "output_type": "stream",
     "text": [
      "251\n",
      "(474, 526, 3)\n",
      "1\n",
      "335\n",
      "(474, 526, 3)\n",
      "1\n",
      "0\n",
      "(472, 850, 3)\n",
      "1\n",
      "91\n",
      "(472, 850, 3)\n",
      "1\n",
      "182\n",
      "(472, 850, 3)\n",
      "1\n",
      "273\n",
      "(472, 850, 3)\n",
      "1\n"
     ]
    },
    {
     "name": "stderr",
     "output_type": "stream",
     "text": [
      "ERROR:root:An error occurred while processing faces: Given groups=1, weight of size [32, 3, 3, 3], expected input[1, 15, 160, 160] to have 3 channels, but got 15 channels instead\n",
      "INFO:root:Video length: 306 frames\n"
     ]
    },
    {
     "name": "stdout",
     "output_type": "stream",
     "text": [
      "364\n",
      "(472, 850, 3)\n",
      "1\n",
      "0\n",
      "(464, 814, 3)\n",
      "1\n",
      "76\n",
      "(464, 814, 3)\n",
      "1\n",
      "152\n",
      "(464, 814, 3)\n",
      "1\n",
      "228\n",
      "(464, 814, 3)\n",
      "1\n",
      "305\n",
      "(464, 814, 3)\n",
      "1\n"
     ]
    },
    {
     "name": "stderr",
     "output_type": "stream",
     "text": [
      "ERROR:root:An error occurred while processing faces: Given groups=1, weight of size [32, 3, 3, 3], expected input[1, 15, 160, 160] to have 3 channels, but got 15 channels instead\n",
      "INFO:root:Video length: 337 frames\n",
      "ERROR:root:An error occurred while processing faces: Given groups=1, weight of size [32, 3, 3, 3], expected input[1, 15, 160, 160] to have 3 channels, but got 15 channels instead\n",
      "INFO:root:Video length: 468 frames\n"
     ]
    },
    {
     "name": "stdout",
     "output_type": "stream",
     "text": [
      "0\n",
      "(452, 844, 3)\n",
      "1\n",
      "84\n",
      "(452, 844, 3)\n",
      "1\n",
      "168\n",
      "(452, 844, 3)\n",
      "1\n",
      "252\n",
      "(452, 844, 3)\n",
      "1\n",
      "336\n",
      "(452, 844, 3)\n",
      "1\n"
     ]
    },
    {
     "name": "stderr",
     "output_type": "stream",
     "text": [
      "ERROR:root:An error occurred while processing faces: Given groups=1, weight of size [32, 3, 3, 3], expected input[1, 15, 160, 160] to have 3 channels, but got 15 channels instead\n"
     ]
    },
    {
     "name": "stdout",
     "output_type": "stream",
     "text": [
      "0\n",
      "(480, 852, 3)\n",
      "1\n",
      "116\n",
      "(480, 852, 3)\n",
      "1\n",
      "233\n",
      "(480, 852, 3)\n",
      "1\n",
      "350\n",
      "(480, 852, 3)\n",
      "1\n",
      "467\n",
      "(480, 852, 3)\n",
      "1\n"
     ]
    },
    {
     "name": "stderr",
     "output_type": "stream",
     "text": [
      "INFO:root:Video length: 473 frames\n"
     ]
    },
    {
     "name": "stdout",
     "output_type": "stream",
     "text": [
      "0\n",
      "(478, 856, 3)\n",
      "1\n",
      "118\n",
      "(478, 856, 3)\n",
      "1\n",
      "236\n",
      "(478, 856, 3)\n",
      "1\n",
      "354\n",
      "(478, 856, 3)\n",
      "1\n",
      "472\n",
      "(478, 856, 3)\n"
     ]
    },
    {
     "name": "stderr",
     "output_type": "stream",
     "text": [
      "ERROR:root:An error occurred while processing faces: Given groups=1, weight of size [32, 3, 3, 3], expected input[1, 15, 160, 160] to have 3 channels, but got 15 channels instead\n",
      "INFO:root:Video length: 409 frames\n",
      "ERROR:root:An error occurred while processing faces: Given groups=1, weight of size [32, 3, 3, 3], expected input[1, 15, 160, 160] to have 3 channels, but got 15 channels instead\n"
     ]
    },
    {
     "name": "stdout",
     "output_type": "stream",
     "text": [
      "1\n",
      "0\n",
      "(500, 568, 3)\n",
      "1\n",
      "102\n",
      "(500, 568, 3)\n",
      "1\n",
      "204\n",
      "(500, 568, 3)\n",
      "1\n",
      "306\n",
      "(500, 568, 3)\n",
      "1\n",
      "408\n",
      "(500, 568, 3)\n",
      "1\n"
     ]
    },
    {
     "name": "stderr",
     "output_type": "stream",
     "text": [
      "INFO:root:Video length: 441 frames\n",
      "ERROR:root:An error occurred while processing faces: Given groups=1, weight of size [32, 3, 3, 3], expected input[1, 15, 160, 160] to have 3 channels, but got 15 channels instead\n",
      "INFO:root:Video length: 266 frames\n"
     ]
    },
    {
     "name": "stdout",
     "output_type": "stream",
     "text": [
      "0\n",
      "(478, 856, 3)\n",
      "1\n",
      "110\n",
      "(478, 856, 3)\n",
      "1\n",
      "220\n",
      "(478, 856, 3)\n",
      "1\n",
      "330\n",
      "(478, 856, 3)\n",
      "1\n",
      "440\n",
      "(478, 856, 3)\n",
      "1\n"
     ]
    },
    {
     "name": "stderr",
     "output_type": "stream",
     "text": [
      "ERROR:root:An error occurred while processing faces: Given groups=1, weight of size [32, 3, 3, 3], expected input[1, 15, 160, 160] to have 3 channels, but got 15 channels instead\n",
      "INFO:root:Video length: 310 frames\n"
     ]
    },
    {
     "name": "stdout",
     "output_type": "stream",
     "text": [
      "0\n",
      "(478, 856, 3)\n",
      "1\n",
      "66\n",
      "(478, 856, 3)\n",
      "1\n",
      "132\n",
      "(478, 856, 3)\n",
      "1\n",
      "198\n",
      "(478, 856, 3)\n",
      "1\n",
      "265\n",
      "(478, 856, 3)\n",
      "1\n",
      "0\n",
      "(476, 846, 3)\n",
      "1\n"
     ]
    },
    {
     "name": "stderr",
     "output_type": "stream",
     "text": [
      "ERROR:root:An error occurred while processing faces: Given groups=1, weight of size [32, 3, 3, 3], expected input[1, 15, 160, 160] to have 3 channels, but got 15 channels instead\n",
      "INFO:root:Video length: 310 frames\n"
     ]
    },
    {
     "name": "stdout",
     "output_type": "stream",
     "text": [
      "77\n",
      "(476, 846, 3)\n",
      "1\n",
      "154\n",
      "(476, 846, 3)\n",
      "1\n",
      "231\n",
      "(476, 846, 3)\n",
      "1\n",
      "309\n",
      "(476, 846, 3)\n",
      "1\n",
      "0\n",
      "(478, 848, 3)\n",
      "1\n",
      "77\n",
      "(478, 848, 3)\n",
      "1\n"
     ]
    },
    {
     "name": "stderr",
     "output_type": "stream",
     "text": [
      "ERROR:root:An error occurred while processing faces: Given groups=1, weight of size [32, 3, 3, 3], expected input[1, 15, 160, 160] to have 3 channels, but got 15 channels instead\n",
      "INFO:root:Video length: 334 frames\n"
     ]
    },
    {
     "name": "stdout",
     "output_type": "stream",
     "text": [
      "154\n",
      "(478, 848, 3)\n",
      "1\n",
      "231\n",
      "(478, 848, 3)\n",
      "1\n",
      "309\n",
      "(478, 848, 3)\n",
      "1\n",
      "0\n",
      "(478, 846, 3)\n",
      "1\n",
      "83\n",
      "(478, 846, 3)\n",
      "1\n",
      "166\n",
      "(478, 846, 3)\n",
      "1\n"
     ]
    },
    {
     "name": "stderr",
     "output_type": "stream",
     "text": [
      "ERROR:root:An error occurred while processing faces: Given groups=1, weight of size [32, 3, 3, 3], expected input[1, 15, 160, 160] to have 3 channels, but got 15 channels instead\n",
      "INFO:root:Video length: 473 frames\n"
     ]
    },
    {
     "name": "stdout",
     "output_type": "stream",
     "text": [
      "249\n",
      "(478, 846, 3)\n",
      "1\n",
      "333\n",
      "(478, 846, 3)\n",
      "1\n",
      "0\n",
      "(478, 856, 3)\n",
      "1\n",
      "118\n",
      "(478, 856, 3)\n",
      "1\n"
     ]
    },
    {
     "name": "stderr",
     "output_type": "stream",
     "text": [
      "ERROR:root:An error occurred while processing faces: Given groups=1, weight of size [32, 3, 3, 3], expected input[1, 15, 160, 160] to have 3 channels, but got 15 channels instead\n",
      "INFO:root:Video length: 249 frames\n"
     ]
    },
    {
     "name": "stdout",
     "output_type": "stream",
     "text": [
      "236\n",
      "(478, 856, 3)\n",
      "1\n",
      "354\n",
      "(478, 856, 3)\n",
      "1\n",
      "472\n",
      "(478, 856, 3)\n",
      "1\n",
      "0\n",
      "(472, 848, 3)\n",
      "1\n",
      "62\n",
      "(472, 848, 3)\n",
      "1\n"
     ]
    },
    {
     "name": "stderr",
     "output_type": "stream",
     "text": [
      "ERROR:root:An error occurred while processing faces: Given groups=1, weight of size [32, 3, 3, 3], expected input[1, 15, 160, 160] to have 3 channels, but got 15 channels instead\n",
      "INFO:root:Video length: 417 frames\n"
     ]
    },
    {
     "name": "stdout",
     "output_type": "stream",
     "text": [
      "124\n",
      "(472, 848, 3)\n",
      "1\n",
      "186\n",
      "(472, 848, 3)\n",
      "1\n",
      "248\n",
      "(472, 848, 3)\n",
      "1\n",
      "0\n",
      "(466, 848, 3)\n",
      "1\n",
      "104\n",
      "(466, 848, 3)\n",
      "1\n",
      "208\n",
      "(466, 848, 3)\n",
      "1\n"
     ]
    },
    {
     "name": "stderr",
     "output_type": "stream",
     "text": [
      "ERROR:root:An error occurred while processing faces: Given groups=1, weight of size [32, 3, 3, 3], expected input[1, 15, 160, 160] to have 3 channels, but got 15 channels instead\n",
      "INFO:root:Video length: 201 frames\n"
     ]
    },
    {
     "name": "stdout",
     "output_type": "stream",
     "text": [
      "312\n",
      "(466, 848, 3)\n",
      "1\n",
      "416\n",
      "(466, 848, 3)\n",
      "1\n",
      "0\n",
      "(500, 894, 3)\n",
      "1\n",
      "50\n",
      "(500, 894, 3)\n",
      "1\n",
      "100\n",
      "(500, 894, 3)\n",
      "1\n",
      "150\n",
      "(500, 894, 3)\n",
      "1\n"
     ]
    },
    {
     "name": "stderr",
     "output_type": "stream",
     "text": [
      "ERROR:root:An error occurred while processing faces: Given groups=1, weight of size [32, 3, 3, 3], expected input[1, 15, 160, 160] to have 3 channels, but got 15 channels instead\n",
      "INFO:root:Video length: 330 frames\n",
      "ERROR:root:An error occurred while processing faces: Given groups=1, weight of size [32, 3, 3, 3], expected input[1, 15, 160, 160] to have 3 channels, but got 15 channels instead\n"
     ]
    },
    {
     "name": "stdout",
     "output_type": "stream",
     "text": [
      "200\n",
      "(500, 894, 3)\n",
      "1\n",
      "0\n",
      "(478, 856, 3)\n",
      "1\n",
      "82\n",
      "(478, 856, 3)\n",
      "1\n",
      "164\n",
      "(478, 856, 3)\n",
      "1\n",
      "246\n",
      "(478, 856, 3)\n",
      "1\n",
      "329\n",
      "(478, 856, 3)\n",
      "1\n"
     ]
    },
    {
     "name": "stderr",
     "output_type": "stream",
     "text": [
      "INFO:root:Video length: 301 frames\n",
      "ERROR:root:An error occurred while processing faces: Given groups=1, weight of size [32, 3, 3, 3], expected input[1, 15, 160, 160] to have 3 channels, but got 15 channels instead\n",
      "INFO:root:Video length: 333 frames\n"
     ]
    },
    {
     "name": "stdout",
     "output_type": "stream",
     "text": [
      "0\n",
      "(500, 684, 3)\n",
      "1\n",
      "75\n",
      "(500, 684, 3)\n",
      "1\n",
      "150\n",
      "(500, 684, 3)\n",
      "1\n",
      "225\n",
      "(500, 684, 3)\n",
      "1\n",
      "300\n",
      "(500, 684, 3)\n",
      "1\n",
      "0\n",
      "(474, 846, 3)\n",
      "1\n"
     ]
    },
    {
     "name": "stderr",
     "output_type": "stream",
     "text": [
      "ERROR:root:An error occurred while processing faces: Given groups=1, weight of size [32, 3, 3, 3], expected input[1, 15, 160, 160] to have 3 channels, but got 15 channels instead\n",
      "INFO:root:Video length: 464 frames\n"
     ]
    },
    {
     "name": "stdout",
     "output_type": "stream",
     "text": [
      "83\n",
      "(474, 846, 3)\n",
      "1\n",
      "166\n",
      "(474, 846, 3)\n",
      "1\n",
      "249\n",
      "(474, 846, 3)\n",
      "1\n",
      "332\n",
      "(474, 846, 3)\n",
      "1\n",
      "0\n",
      "(466, 848, 3)\n",
      "1\n",
      "115\n",
      "(466, 848, 3)\n",
      "1\n",
      "231\n",
      "(466, 848, 3)\n",
      "1\n",
      "347\n",
      "(466, 848, 3)\n",
      "1\n"
     ]
    },
    {
     "name": "stderr",
     "output_type": "stream",
     "text": [
      "ERROR:root:An error occurred while processing faces: expected Tensor as element 0 in argument 0, but got NoneType\n",
      "INFO:root:Video length: 439 frames\n"
     ]
    },
    {
     "name": "stdout",
     "output_type": "stream",
     "text": [
      "463\n",
      "(466, 848, 3)\n",
      "1\n",
      "0\n",
      "(500, 944, 3)\n",
      "1\n",
      "109\n",
      "(500, 944, 3)\n",
      "1\n",
      "219\n",
      "(500, 944, 3)\n",
      "1\n",
      "328\n",
      "(500, 944, 3)\n",
      "1\n",
      "438\n",
      "(500, 944, 3)\n",
      "1\n"
     ]
    },
    {
     "name": "stderr",
     "output_type": "stream",
     "text": [
      "ERROR:root:An error occurred while processing faces: Given groups=1, weight of size [32, 3, 3, 3], expected input[1, 15, 160, 160] to have 3 channels, but got 15 channels instead\n",
      "INFO:root:Video length: 455 frames\n",
      "ERROR:root:An error occurred while processing faces: Given groups=1, weight of size [32, 3, 3, 3], expected input[1, 15, 160, 160] to have 3 channels, but got 15 channels instead\n"
     ]
    },
    {
     "name": "stdout",
     "output_type": "stream",
     "text": [
      "0\n",
      "(466, 848, 3)\n",
      "1\n",
      "113\n",
      "(466, 848, 3)\n",
      "1\n",
      "227\n",
      "(466, 848, 3)\n",
      "1\n",
      "340\n",
      "(466, 848, 3)\n",
      "1\n",
      "454\n",
      "(466, 848, 3)\n",
      "1\n"
     ]
    },
    {
     "name": "stderr",
     "output_type": "stream",
     "text": [
      "INFO:root:Video length: 262 frames\n",
      "ERROR:root:An error occurred while processing faces: Given groups=1, weight of size [32, 3, 3, 3], expected input[1, 15, 160, 160] to have 3 channels, but got 15 channels instead\n"
     ]
    },
    {
     "name": "stdout",
     "output_type": "stream",
     "text": [
      "0\n",
      "(480, 852, 3)\n",
      "1\n",
      "65\n",
      "(480, 852, 3)\n",
      "1\n",
      "130\n",
      "(480, 852, 3)\n",
      "1\n",
      "195\n",
      "(480, 852, 3)\n",
      "1\n",
      "261\n",
      "(480, 852, 3)\n",
      "1\n"
     ]
    },
    {
     "name": "stderr",
     "output_type": "stream",
     "text": [
      "INFO:root:Video length: 477 frames\n"
     ]
    },
    {
     "name": "stdout",
     "output_type": "stream",
     "text": [
      "0\n",
      "(478, 856, 3)\n",
      "1\n",
      "119\n",
      "(478, 856, 3)\n",
      "1\n",
      "238\n",
      "(478, 856, 3)\n",
      "1\n",
      "357\n",
      "(478, 856, 3)\n",
      "1\n",
      "476\n",
      "(478, 856, 3)\n",
      "1\n"
     ]
    },
    {
     "name": "stderr",
     "output_type": "stream",
     "text": [
      "ERROR:root:An error occurred while processing faces: Given groups=1, weight of size [32, 3, 3, 3], expected input[1, 15, 160, 160] to have 3 channels, but got 15 channels instead\n",
      "INFO:root:Video length: 365 frames\n",
      "ERROR:root:An error occurred while processing faces: Given groups=1, weight of size [32, 3, 3, 3], expected input[1, 15, 160, 160] to have 3 channels, but got 15 channels instead\n",
      "INFO:root:Video length: 316 frames\n"
     ]
    },
    {
     "name": "stdout",
     "output_type": "stream",
     "text": [
      "0\n",
      "(476, 846, 3)\n",
      "1\n",
      "91\n",
      "(476, 846, 3)\n",
      "1\n",
      "182\n",
      "(476, 846, 3)\n",
      "1\n",
      "273\n",
      "(476, 846, 3)\n",
      "1\n",
      "364\n",
      "(476, 846, 3)\n",
      "1\n"
     ]
    },
    {
     "name": "stderr",
     "output_type": "stream",
     "text": [
      "ERROR:root:An error occurred while processing faces: Given groups=1, weight of size [32, 3, 3, 3], expected input[1, 15, 160, 160] to have 3 channels, but got 15 channels instead\n"
     ]
    },
    {
     "name": "stdout",
     "output_type": "stream",
     "text": [
      "0\n",
      "(500, 950, 3)\n",
      "1\n",
      "78\n",
      "(500, 950, 3)\n",
      "1\n",
      "157\n",
      "(500, 950, 3)\n",
      "1\n",
      "236\n",
      "(500, 950, 3)\n",
      "1\n",
      "315\n",
      "(500, 950, 3)\n",
      "1\n"
     ]
    },
    {
     "name": "stderr",
     "output_type": "stream",
     "text": [
      "INFO:root:Video length: 465 frames\n"
     ]
    },
    {
     "name": "stdout",
     "output_type": "stream",
     "text": [
      "0\n",
      "(472, 850, 3)\n",
      "1\n",
      "116\n",
      "(472, 850, 3)\n",
      "1\n",
      "232\n",
      "(472, 850, 3)\n",
      "1\n",
      "348\n",
      "(472, 850, 3)\n",
      "1\n",
      "464\n",
      "(472, 850, 3)\n",
      "1\n"
     ]
    },
    {
     "name": "stderr",
     "output_type": "stream",
     "text": [
      "ERROR:root:An error occurred while processing faces: Given groups=1, weight of size [32, 3, 3, 3], expected input[1, 15, 160, 160] to have 3 channels, but got 15 channels instead\n",
      "INFO:root:Video length: 381 frames\n"
     ]
    },
    {
     "name": "stdout",
     "output_type": "stream",
     "text": [
      "0\n",
      "(500, 944, 3)\n",
      "1\n",
      "95\n",
      "(500, 944, 3)\n",
      "1\n",
      "190\n",
      "(500, 944, 3)\n",
      "1\n",
      "285\n",
      "(500, 944, 3)\n",
      "1\n",
      "380\n",
      "(500, 944, 3)\n"
     ]
    },
    {
     "name": "stderr",
     "output_type": "stream",
     "text": [
      "ERROR:root:An error occurred while processing faces: Given groups=1, weight of size [32, 3, 3, 3], expected input[1, 15, 160, 160] to have 3 channels, but got 15 channels instead\n",
      "INFO:root:Video length: 322 frames\n"
     ]
    },
    {
     "name": "stdout",
     "output_type": "stream",
     "text": [
      "1\n",
      "0\n",
      "(472, 848, 3)\n",
      "1\n",
      "80\n",
      "(472, 848, 3)\n",
      "1\n",
      "160\n",
      "(472, 848, 3)\n",
      "1\n",
      "240\n",
      "(472, 848, 3)\n",
      "1\n",
      "321\n",
      "(472, 848, 3)\n"
     ]
    },
    {
     "name": "stderr",
     "output_type": "stream",
     "text": [
      "ERROR:root:An error occurred while processing faces: Given groups=1, weight of size [32, 3, 3, 3], expected input[1, 15, 160, 160] to have 3 channels, but got 15 channels instead\n",
      "INFO:root:Video length: 496 frames\n"
     ]
    },
    {
     "name": "stdout",
     "output_type": "stream",
     "text": [
      "1\n",
      "0\n",
      "(500, 956, 3)\n",
      "1\n",
      "123\n",
      "(500, 956, 3)\n",
      "1\n",
      "247\n",
      "(500, 956, 3)\n",
      "1\n",
      "371\n",
      "(500, 956, 3)\n",
      "1\n"
     ]
    },
    {
     "name": "stderr",
     "output_type": "stream",
     "text": [
      "ERROR:root:An error occurred while processing faces: Given groups=1, weight of size [32, 3, 3, 3], expected input[1, 15, 160, 160] to have 3 channels, but got 15 channels instead\n",
      "INFO:root:Video length: 438 frames\n"
     ]
    },
    {
     "name": "stdout",
     "output_type": "stream",
     "text": [
      "495\n",
      "(500, 956, 3)\n",
      "1\n",
      "0\n",
      "(478, 856, 3)\n",
      "1\n",
      "109\n",
      "(478, 856, 3)\n",
      "1\n",
      "218\n",
      "(478, 856, 3)\n",
      "1\n",
      "327\n",
      "(478, 856, 3)\n",
      "1\n",
      "437\n",
      "(478, 856, 3)\n",
      "1\n"
     ]
    },
    {
     "name": "stderr",
     "output_type": "stream",
     "text": [
      "ERROR:root:An error occurred while processing faces: Given groups=1, weight of size [32, 3, 3, 3], expected input[1, 15, 160, 160] to have 3 channels, but got 15 channels instead\n",
      "INFO:root:Video length: 423 frames\n",
      "ERROR:root:An error occurred while processing faces: Given groups=1, weight of size [32, 3, 3, 3], expected input[1, 15, 160, 160] to have 3 channels, but got 15 channels instead\n"
     ]
    },
    {
     "name": "stdout",
     "output_type": "stream",
     "text": [
      "0\n",
      "(472, 850, 3)\n",
      "1\n",
      "105\n",
      "(472, 850, 3)\n",
      "1\n",
      "211\n",
      "(472, 850, 3)\n",
      "1\n",
      "316\n",
      "(472, 850, 3)\n",
      "1\n",
      "422\n",
      "(472, 850, 3)\n",
      "1\n"
     ]
    },
    {
     "name": "stderr",
     "output_type": "stream",
     "text": [
      "INFO:root:Video length: 454 frames\n",
      "ERROR:root:An error occurred while processing faces: Given groups=1, weight of size [32, 3, 3, 3], expected input[1, 15, 160, 160] to have 3 channels, but got 15 channels instead\n"
     ]
    },
    {
     "name": "stdout",
     "output_type": "stream",
     "text": [
      "0\n",
      "(478, 856, 3)\n",
      "1\n",
      "113\n",
      "(478, 856, 3)\n",
      "1\n",
      "226\n",
      "(478, 856, 3)\n",
      "1\n",
      "339\n",
      "(478, 856, 3)\n",
      "1\n",
      "453\n",
      "(478, 856, 3)\n",
      "1\n"
     ]
    },
    {
     "name": "stderr",
     "output_type": "stream",
     "text": [
      "INFO:root:Video length: 261 frames\n",
      "ERROR:root:An error occurred while processing faces: Given groups=1, weight of size [32, 3, 3, 3], expected input[1, 15, 160, 160] to have 3 channels, but got 15 channels instead\n",
      "INFO:root:Video length: 453 frames\n"
     ]
    },
    {
     "name": "stdout",
     "output_type": "stream",
     "text": [
      "0\n",
      "(478, 856, 3)\n",
      "1\n",
      "65\n",
      "(478, 856, 3)\n",
      "1\n",
      "130\n",
      "(478, 856, 3)\n",
      "1\n",
      "195\n",
      "(478, 856, 3)\n",
      "1\n",
      "260\n",
      "(478, 856, 3)\n",
      "1\n",
      "0\n",
      "(478, 856, 3)\n",
      "1\n",
      "113\n",
      "(478, 856, 3)\n",
      "1\n",
      "226\n",
      "(478, 856, 3)\n",
      "1\n",
      "339\n",
      "(478, 856, 3)\n",
      "1\n",
      "452\n",
      "(478, 856, 3)\n",
      "1\n"
     ]
    },
    {
     "name": "stderr",
     "output_type": "stream",
     "text": [
      "ERROR:root:An error occurred while processing faces: Given groups=1, weight of size [32, 3, 3, 3], expected input[1, 15, 160, 160] to have 3 channels, but got 15 channels instead\n",
      "INFO:root:Video length: 485 frames\n"
     ]
    },
    {
     "name": "stdout",
     "output_type": "stream",
     "text": [
      "0\n",
      "(478, 856, 3)\n",
      "1\n",
      "121\n",
      "(478, 856, 3)\n",
      "1\n",
      "242\n",
      "(478, 856, 3)\n",
      "1\n",
      "363\n",
      "(478, 856, 3)\n",
      "1\n",
      "484\n",
      "(478, 856, 3)\n",
      "1\n"
     ]
    },
    {
     "name": "stderr",
     "output_type": "stream",
     "text": [
      "ERROR:root:An error occurred while processing faces: Given groups=1, weight of size [32, 3, 3, 3], expected input[1, 15, 160, 160] to have 3 channels, but got 15 channels instead\n",
      "INFO:root:Video length: 295 frames\n",
      "ERROR:root:An error occurred while processing faces: Given groups=1, weight of size [32, 3, 3, 3], expected input[1, 15, 160, 160] to have 3 channels, but got 15 channels instead\n",
      "INFO:root:Video length: 314 frames\n"
     ]
    },
    {
     "name": "stdout",
     "output_type": "stream",
     "text": [
      "0\n",
      "(456, 540, 3)\n",
      "1\n",
      "73\n",
      "(456, 540, 3)\n",
      "1\n",
      "147\n",
      "(456, 540, 3)\n",
      "1\n",
      "220\n",
      "(456, 540, 3)\n",
      "1\n",
      "294\n",
      "(456, 540, 3)\n",
      "1\n",
      "0\n",
      "(480, 636, 3)\n",
      "1\n",
      "78\n",
      "(480, 636, 3)\n",
      "1\n"
     ]
    },
    {
     "name": "stderr",
     "output_type": "stream",
     "text": [
      "ERROR:root:An error occurred while processing faces: Given groups=1, weight of size [32, 3, 3, 3], expected input[1, 15, 160, 160] to have 3 channels, but got 15 channels instead\n",
      "INFO:root:Video length: 317 frames\n"
     ]
    },
    {
     "name": "stdout",
     "output_type": "stream",
     "text": [
      "156\n",
      "(480, 636, 3)\n",
      "1\n",
      "234\n",
      "(480, 636, 3)\n",
      "1\n",
      "313\n",
      "(480, 636, 3)\n",
      "1\n",
      "0\n",
      "(472, 848, 3)\n",
      "1\n",
      "79\n",
      "(472, 848, 3)\n",
      "1\n",
      "158\n",
      "(472, 848, 3)\n",
      "1\n"
     ]
    },
    {
     "name": "stderr",
     "output_type": "stream",
     "text": [
      "ERROR:root:An error occurred while processing faces: Given groups=1, weight of size [32, 3, 3, 3], expected input[1, 15, 160, 160] to have 3 channels, but got 15 channels instead\n",
      "INFO:root:Video length: 315 frames\n"
     ]
    },
    {
     "name": "stdout",
     "output_type": "stream",
     "text": [
      "237\n",
      "(472, 848, 3)\n",
      "1\n",
      "316\n",
      "(472, 848, 3)\n",
      "1\n",
      "0\n",
      "(476, 856, 3)\n",
      "1\n",
      "78\n",
      "(476, 856, 3)\n",
      "1\n",
      "157\n",
      "(476, 856, 3)\n",
      "1\n",
      "235\n",
      "(476, 856, 3)\n",
      "1\n"
     ]
    },
    {
     "name": "stderr",
     "output_type": "stream",
     "text": [
      "ERROR:root:An error occurred while processing faces: Given groups=1, weight of size [32, 3, 3, 3], expected input[1, 15, 160, 160] to have 3 channels, but got 15 channels instead\n",
      "INFO:root:Video length: 419 frames\n"
     ]
    },
    {
     "name": "stdout",
     "output_type": "stream",
     "text": [
      "314\n",
      "(476, 856, 3)\n",
      "1\n",
      "0\n",
      "(466, 848, 3)\n",
      "1\n",
      "104\n",
      "(466, 848, 3)\n",
      "1\n",
      "209\n",
      "(466, 848, 3)\n",
      "1\n",
      "313\n",
      "(466, 848, 3)\n",
      "1\n",
      "418\n",
      "(466, 848, 3)\n",
      "1\n"
     ]
    },
    {
     "name": "stderr",
     "output_type": "stream",
     "text": [
      "ERROR:root:An error occurred while processing faces: Given groups=1, weight of size [32, 3, 3, 3], expected input[1, 15, 160, 160] to have 3 channels, but got 15 channels instead\n",
      "INFO:root:Video length: 480 frames\n"
     ]
    },
    {
     "name": "stdout",
     "output_type": "stream",
     "text": [
      "0\n",
      "(500, 892, 3)\n",
      "1\n",
      "119\n",
      "(500, 892, 3)\n",
      "1\n",
      "239\n",
      "(500, 892, 3)\n",
      "1\n",
      "359\n",
      "(500, 892, 3)\n",
      "1\n",
      "479\n",
      "(500, 892, 3)\n",
      "1\n"
     ]
    },
    {
     "name": "stderr",
     "output_type": "stream",
     "text": [
      "ERROR:root:An error occurred while processing faces: Given groups=1, weight of size [32, 3, 3, 3], expected input[1, 15, 160, 160] to have 3 channels, but got 15 channels instead\n",
      "INFO:root:Video length: 425 frames\n"
     ]
    },
    {
     "name": "stdout",
     "output_type": "stream",
     "text": [
      "0\n",
      "(500, 526, 3)\n",
      "1\n",
      "106\n",
      "(500, 526, 3)\n",
      "1\n",
      "212\n",
      "(500, 526, 3)\n",
      "1\n",
      "318\n",
      "(500, 526, 3)\n",
      "1\n",
      "424\n",
      "(500, 526, 3)\n",
      "1\n"
     ]
    },
    {
     "name": "stderr",
     "output_type": "stream",
     "text": [
      "ERROR:root:An error occurred while processing faces: Given groups=1, weight of size [32, 3, 3, 3], expected input[1, 15, 160, 160] to have 3 channels, but got 15 channels instead\n",
      "INFO:root:Video length: 517 frames\n"
     ]
    },
    {
     "name": "stdout",
     "output_type": "stream",
     "text": [
      "0\n",
      "(500, 964, 3)\n",
      "1\n",
      "129\n",
      "(500, 964, 3)\n",
      "1\n",
      "258\n",
      "(500, 964, 3)\n",
      "1\n",
      "387\n",
      "(500, 964, 3)\n",
      "1\n",
      "516\n",
      "(500, 964, 3)\n",
      "1\n"
     ]
    },
    {
     "name": "stderr",
     "output_type": "stream",
     "text": [
      "ERROR:root:An error occurred while processing faces: Given groups=1, weight of size [32, 3, 3, 3], expected input[1, 15, 160, 160] to have 3 channels, but got 15 channels instead\n",
      "INFO:root:Video length: 307 frames\n",
      "ERROR:root:An error occurred while processing faces: Given groups=1, weight of size [32, 3, 3, 3], expected input[1, 15, 160, 160] to have 3 channels, but got 15 channels instead\n",
      "INFO:root:Video length: 344 frames\n"
     ]
    },
    {
     "name": "stdout",
     "output_type": "stream",
     "text": [
      "0\n",
      "(500, 616, 3)\n",
      "1\n",
      "76\n",
      "(500, 616, 3)\n",
      "1\n",
      "153\n",
      "(500, 616, 3)\n",
      "1\n",
      "229\n",
      "(500, 616, 3)\n",
      "1\n",
      "306\n",
      "(500, 616, 3)\n",
      "1\n",
      "0\n",
      "(480, 852, 3)\n",
      "1\n"
     ]
    },
    {
     "name": "stderr",
     "output_type": "stream",
     "text": [
      "ERROR:root:An error occurred while processing faces: Given groups=1, weight of size [32, 3, 3, 3], expected input[1, 15, 160, 160] to have 3 channels, but got 15 channels instead\n",
      "INFO:root:Video length: 312 frames\n"
     ]
    },
    {
     "name": "stdout",
     "output_type": "stream",
     "text": [
      "85\n",
      "(480, 852, 3)\n",
      "1\n",
      "171\n",
      "(480, 852, 3)\n",
      "1\n",
      "257\n",
      "(480, 852, 3)\n",
      "1\n",
      "343\n",
      "(480, 852, 3)\n",
      "1\n",
      "0\n",
      "(500, 892, 3)\n",
      "1\n",
      "77\n",
      "(500, 892, 3)\n"
     ]
    },
    {
     "name": "stderr",
     "output_type": "stream",
     "text": [
      "ERROR:root:An error occurred while processing faces: Given groups=1, weight of size [32, 3, 3, 3], expected input[1, 15, 160, 160] to have 3 channels, but got 15 channels instead\n",
      "INFO:root:Video length: 315 frames\n"
     ]
    },
    {
     "name": "stdout",
     "output_type": "stream",
     "text": [
      "1\n",
      "155\n",
      "(500, 892, 3)\n",
      "1\n",
      "233\n",
      "(500, 892, 3)\n",
      "1\n",
      "311\n",
      "(500, 892, 3)\n",
      "1\n",
      "0\n",
      "(500, 532, 3)\n",
      "1\n",
      "78\n",
      "(500, 532, 3)\n",
      "1\n"
     ]
    },
    {
     "name": "stderr",
     "output_type": "stream",
     "text": [
      "ERROR:root:An error occurred while processing faces: Given groups=1, weight of size [32, 3, 3, 3], expected input[1, 15, 160, 160] to have 3 channels, but got 15 channels instead\n",
      "INFO:root:Video length: 321 frames\n"
     ]
    },
    {
     "name": "stdout",
     "output_type": "stream",
     "text": [
      "157\n",
      "(500, 532, 3)\n",
      "1\n",
      "235\n",
      "(500, 532, 3)\n",
      "1\n",
      "314\n",
      "(500, 532, 3)\n",
      "1\n",
      "0\n",
      "(466, 848, 3)\n",
      "1\n",
      "80\n",
      "(466, 848, 3)\n",
      "1\n"
     ]
    },
    {
     "name": "stderr",
     "output_type": "stream",
     "text": [
      "ERROR:root:An error occurred while processing faces: Given groups=1, weight of size [32, 3, 3, 3], expected input[1, 15, 160, 160] to have 3 channels, but got 15 channels instead\n",
      "INFO:root:Video length: 328 frames\n"
     ]
    },
    {
     "name": "stdout",
     "output_type": "stream",
     "text": [
      "160\n",
      "(466, 848, 3)\n",
      "1\n",
      "240\n",
      "(466, 848, 3)\n",
      "1\n",
      "320\n",
      "(466, 848, 3)\n",
      "1\n",
      "0\n",
      "(420, 826, 3)\n",
      "1\n",
      "81\n",
      "(420, 826, 3)\n",
      "1\n",
      "163\n",
      "(420, 826, 3)\n",
      "1\n"
     ]
    },
    {
     "name": "stderr",
     "output_type": "stream",
     "text": [
      "ERROR:root:An error occurred while processing faces: Given groups=1, weight of size [32, 3, 3, 3], expected input[1, 15, 160, 160] to have 3 channels, but got 15 channels instead\n",
      "INFO:root:Video length: 247 frames\n"
     ]
    },
    {
     "name": "stdout",
     "output_type": "stream",
     "text": [
      "245\n",
      "(420, 826, 3)\n",
      "1\n",
      "327\n",
      "(420, 826, 3)\n",
      "1\n",
      "0\n",
      "(440, 612, 3)\n",
      "1\n",
      "61\n",
      "(440, 612, 3)\n",
      "1\n",
      "123\n",
      "(440, 612, 3)\n",
      "1\n",
      "184\n",
      "(440, 612, 3)\n",
      "1\n",
      "246\n",
      "(440, 612, 3)\n",
      "1\n"
     ]
    },
    {
     "name": "stderr",
     "output_type": "stream",
     "text": [
      "ERROR:root:An error occurred while processing faces: Given groups=1, weight of size [32, 3, 3, 3], expected input[1, 15, 160, 160] to have 3 channels, but got 15 channels instead\n",
      "INFO:root:Video length: 331 frames\n",
      "ERROR:root:An error occurred while processing faces: Given groups=1, weight of size [32, 3, 3, 3], expected input[1, 15, 160, 160] to have 3 channels, but got 15 channels instead\n",
      "INFO:root:Video length: 335 frames\n"
     ]
    },
    {
     "name": "stdout",
     "output_type": "stream",
     "text": [
      "0\n",
      "(476, 842, 3)\n",
      "1\n",
      "82\n",
      "(476, 842, 3)\n",
      "1\n",
      "165\n",
      "(476, 842, 3)\n",
      "1\n",
      "247\n",
      "(476, 842, 3)\n",
      "1\n",
      "330\n",
      "(476, 842, 3)\n",
      "1\n"
     ]
    },
    {
     "name": "stderr",
     "output_type": "stream",
     "text": [
      "ERROR:root:An error occurred while processing faces: Given groups=1, weight of size [32, 3, 3, 3], expected input[1, 15, 160, 160] to have 3 channels, but got 15 channels instead\n"
     ]
    },
    {
     "name": "stdout",
     "output_type": "stream",
     "text": [
      "0\n",
      "(476, 850, 3)\n",
      "1\n",
      "83\n",
      "(476, 850, 3)\n",
      "1\n",
      "167\n",
      "(476, 850, 3)\n",
      "1\n",
      "250\n",
      "(476, 850, 3)\n",
      "1\n",
      "334\n",
      "(476, 850, 3)\n",
      "1\n"
     ]
    },
    {
     "name": "stderr",
     "output_type": "stream",
     "text": [
      "INFO:root:Video length: 330 frames\n",
      "ERROR:root:An error occurred while processing faces: Given groups=1, weight of size [32, 3, 3, 3], expected input[1, 15, 160, 160] to have 3 channels, but got 15 channels instead\n"
     ]
    },
    {
     "name": "stdout",
     "output_type": "stream",
     "text": [
      "0\n",
      "(472, 844, 3)\n",
      "1\n",
      "82\n",
      "(472, 844, 3)\n",
      "1\n",
      "164\n",
      "(472, 844, 3)\n",
      "1\n",
      "246\n",
      "(472, 844, 3)\n",
      "1\n",
      "329\n",
      "(472, 844, 3)\n",
      "1\n"
     ]
    },
    {
     "name": "stderr",
     "output_type": "stream",
     "text": [
      "INFO:root:Video length: 322 frames\n",
      "ERROR:root:An error occurred while processing faces: Given groups=1, weight of size [32, 3, 3, 3], expected input[1, 15, 160, 160] to have 3 channels, but got 15 channels instead\n",
      "INFO:root:Video length: 520 frames\n"
     ]
    },
    {
     "name": "stdout",
     "output_type": "stream",
     "text": [
      "0\n",
      "(500, 472, 3)\n",
      "1\n",
      "80\n",
      "(500, 472, 3)\n",
      "1\n",
      "160\n",
      "(500, 472, 3)\n",
      "1\n",
      "240\n",
      "(500, 472, 3)\n",
      "1\n",
      "321\n",
      "(500, 472, 3)\n",
      "1\n",
      "0\n",
      "(500, 944, 3)\n",
      "1\n"
     ]
    },
    {
     "name": "stderr",
     "output_type": "stream",
     "text": [
      "ERROR:root:An error occurred while processing faces: Given groups=1, weight of size [32, 3, 3, 3], expected input[1, 15, 160, 160] to have 3 channels, but got 15 channels instead\n"
     ]
    },
    {
     "name": "stdout",
     "output_type": "stream",
     "text": [
      "129\n",
      "(500, 944, 3)\n",
      "1\n",
      "259\n",
      "(500, 944, 3)\n",
      "1\n",
      "389\n",
      "(500, 944, 3)\n",
      "1\n",
      "519\n",
      "(500, 944, 3)\n",
      "1\n"
     ]
    },
    {
     "name": "stderr",
     "output_type": "stream",
     "text": [
      "INFO:root:Video length: 483 frames\n"
     ]
    },
    {
     "name": "stdout",
     "output_type": "stream",
     "text": [
      "0\n",
      "(500, 944, 3)\n",
      "1\n",
      "120\n",
      "(500, 944, 3)\n",
      "1\n",
      "241\n",
      "(500, 944, 3)\n",
      "1\n",
      "361\n",
      "(500, 944, 3)\n",
      "1\n",
      "482\n",
      "(500, 944, 3)\n",
      "1\n"
     ]
    },
    {
     "name": "stderr",
     "output_type": "stream",
     "text": [
      "ERROR:root:An error occurred while processing faces: Given groups=1, weight of size [32, 3, 3, 3], expected input[1, 15, 160, 160] to have 3 channels, but got 15 channels instead\n",
      "INFO:root:Video length: 349 frames\n",
      "ERROR:root:An error occurred while processing faces: Given groups=1, weight of size [32, 3, 3, 3], expected input[1, 15, 160, 160] to have 3 channels, but got 15 channels instead\n"
     ]
    },
    {
     "name": "stdout",
     "output_type": "stream",
     "text": [
      "0\n",
      "(478, 856, 3)\n",
      "1\n",
      "87\n",
      "(478, 856, 3)\n",
      "1\n",
      "174\n",
      "(478, 856, 3)\n",
      "1\n",
      "261\n",
      "(478, 856, 3)\n",
      "1\n",
      "348\n",
      "(478, 856, 3)\n",
      "1\n"
     ]
    },
    {
     "name": "stderr",
     "output_type": "stream",
     "text": [
      "INFO:root:Video length: 288 frames\n",
      "ERROR:root:An error occurred while processing faces: Given groups=1, weight of size [32, 3, 3, 3], expected input[1, 15, 160, 160] to have 3 channels, but got 15 channels instead\n",
      "INFO:root:Video length: 456 frames\n"
     ]
    },
    {
     "name": "stdout",
     "output_type": "stream",
     "text": [
      "0\n",
      "(458, 834, 3)\n",
      "1\n",
      "71\n",
      "(458, 834, 3)\n",
      "1\n",
      "143\n",
      "(458, 834, 3)\n",
      "1\n",
      "215\n",
      "(458, 834, 3)\n",
      "1\n",
      "287\n",
      "(458, 834, 3)\n",
      "1\n",
      "0\n",
      "(500, 944, 3)\n",
      "1\n"
     ]
    },
    {
     "name": "stderr",
     "output_type": "stream",
     "text": [
      "ERROR:root:An error occurred while processing faces: Given groups=1, weight of size [32, 3, 3, 3], expected input[1, 15, 160, 160] to have 3 channels, but got 15 channels instead\n",
      "INFO:root:Video length: 334 frames\n"
     ]
    },
    {
     "name": "stdout",
     "output_type": "stream",
     "text": [
      "113\n",
      "(500, 944, 3)\n",
      "1\n",
      "227\n",
      "(500, 944, 3)\n",
      "1\n",
      "341\n",
      "(500, 944, 3)\n",
      "1\n",
      "455\n",
      "(500, 944, 3)\n",
      "1\n",
      "0\n",
      "(480, 852, 3)\n",
      "1\n"
     ]
    },
    {
     "name": "stderr",
     "output_type": "stream",
     "text": [
      "ERROR:root:An error occurred while processing faces: Given groups=1, weight of size [32, 3, 3, 3], expected input[1, 15, 160, 160] to have 3 channels, but got 15 channels instead\n",
      "INFO:root:Video length: 349 frames\n"
     ]
    },
    {
     "name": "stdout",
     "output_type": "stream",
     "text": [
      "83\n",
      "(480, 852, 3)\n",
      "1\n",
      "166\n",
      "(480, 852, 3)\n",
      "1\n",
      "249\n",
      "(480, 852, 3)\n",
      "1\n",
      "333\n",
      "(480, 852, 3)\n",
      "1\n",
      "0\n",
      "(472, 850, 3)\n",
      "1\n",
      "87\n",
      "(472, 850, 3)\n",
      "1\n"
     ]
    },
    {
     "name": "stderr",
     "output_type": "stream",
     "text": [
      "ERROR:root:An error occurred while processing faces: Given groups=1, weight of size [32, 3, 3, 3], expected input[1, 15, 160, 160] to have 3 channels, but got 15 channels instead\n",
      "INFO:root:Video length: 331 frames\n"
     ]
    },
    {
     "name": "stdout",
     "output_type": "stream",
     "text": [
      "174\n",
      "(472, 850, 3)\n",
      "1\n",
      "261\n",
      "(472, 850, 3)\n",
      "1\n",
      "348\n",
      "(472, 850, 3)\n",
      "1\n",
      "0\n",
      "(500, 348, 3)\n",
      "1\n"
     ]
    },
    {
     "name": "stderr",
     "output_type": "stream",
     "text": [
      "ERROR:root:An error occurred while processing faces: Given groups=1, weight of size [32, 3, 3, 3], expected input[1, 15, 160, 160] to have 3 channels, but got 15 channels instead\n",
      "INFO:root:Video length: 319 frames\n"
     ]
    },
    {
     "name": "stdout",
     "output_type": "stream",
     "text": [
      "82\n",
      "(500, 348, 3)\n",
      "1\n",
      "165\n",
      "(500, 348, 3)\n",
      "1\n",
      "247\n",
      "(500, 348, 3)\n",
      "1\n",
      "330\n",
      "(500, 348, 3)\n",
      "1\n",
      "0\n",
      "(500, 662, 3)\n",
      "1\n",
      "79\n",
      "(500, 662, 3)\n",
      "1\n",
      "159\n",
      "(500, 662, 3)\n",
      "1\n"
     ]
    },
    {
     "name": "stderr",
     "output_type": "stream",
     "text": [
      "ERROR:root:An error occurred while processing faces: Given groups=1, weight of size [32, 3, 3, 3], expected input[1, 15, 160, 160] to have 3 channels, but got 15 channels instead\n",
      "INFO:root:Video length: 530 frames\n"
     ]
    },
    {
     "name": "stdout",
     "output_type": "stream",
     "text": [
      "238\n",
      "(500, 662, 3)\n",
      "1\n",
      "318\n",
      "(500, 662, 3)\n",
      "1\n",
      "0\n",
      "(500, 944, 3)\n",
      "1\n",
      "132\n",
      "(500, 944, 3)\n",
      "1\n",
      "264\n",
      "(500, 944, 3)\n",
      "1\n",
      "396\n"
     ]
    },
    {
     "name": "stderr",
     "output_type": "stream",
     "text": [
      "ERROR:root:An error occurred while processing faces: Given groups=1, weight of size [32, 3, 3, 3], expected input[1, 15, 160, 160] to have 3 channels, but got 15 channels instead\n",
      "INFO:root:Video length: 283 frames\n"
     ]
    },
    {
     "name": "stdout",
     "output_type": "stream",
     "text": [
      "(500, 944, 3)\n",
      "1\n",
      "529\n",
      "(500, 944, 3)\n",
      "1\n",
      "0\n",
      "(478, 856, 3)\n",
      "1\n",
      "70\n",
      "(478, 856, 3)\n",
      "1\n",
      "141\n",
      "(478, 856, 3)\n",
      "1\n",
      "211\n",
      "(478, 856, 3)\n",
      "1\n"
     ]
    },
    {
     "name": "stderr",
     "output_type": "stream",
     "text": [
      "ERROR:root:An error occurred while processing faces: Given groups=1, weight of size [32, 3, 3, 3], expected input[1, 15, 160, 160] to have 3 channels, but got 15 channels instead\n",
      "INFO:root:Video length: 376 frames\n"
     ]
    },
    {
     "name": "stdout",
     "output_type": "stream",
     "text": [
      "282\n",
      "(478, 856, 3)\n",
      "1\n",
      "0\n",
      "(500, 608, 3)\n",
      "1\n",
      "93\n",
      "(500, 608, 3)\n",
      "1\n",
      "187\n",
      "(500, 608, 3)\n",
      "1\n",
      "281\n",
      "(500, 608, 3)\n",
      "1\n",
      "375\n",
      "(500, 608, 3)\n",
      "1\n"
     ]
    },
    {
     "name": "stderr",
     "output_type": "stream",
     "text": [
      "ERROR:root:An error occurred while processing faces: Given groups=1, weight of size [32, 3, 3, 3], expected input[1, 15, 160, 160] to have 3 channels, but got 15 channels instead\n",
      "INFO:root:Video length: 306 frames\n",
      "ERROR:root:An error occurred while processing faces: Given groups=1, weight of size [32, 3, 3, 3], expected input[1, 15, 160, 160] to have 3 channels, but got 15 channels instead\n"
     ]
    },
    {
     "name": "stdout",
     "output_type": "stream",
     "text": [
      "0\n",
      "(464, 814, 3)\n",
      "1\n",
      "76\n",
      "(464, 814, 3)\n",
      "1\n",
      "152\n",
      "(464, 814, 3)\n",
      "1\n",
      "228\n",
      "(464, 814, 3)\n",
      "1\n",
      "305\n",
      "(464, 814, 3)\n",
      "1\n"
     ]
    },
    {
     "name": "stderr",
     "output_type": "stream",
     "text": [
      "INFO:root:Video length: 165 frames\n",
      "ERROR:root:An error occurred while processing faces: Given groups=1, weight of size [32, 3, 3, 3], expected input[1, 15, 160, 160] to have 3 channels, but got 15 channels instead\n"
     ]
    },
    {
     "name": "stdout",
     "output_type": "stream",
     "text": [
      "0\n",
      "(456, 812, 3)\n",
      "1\n",
      "41\n",
      "(456, 812, 3)\n",
      "1\n",
      "82\n",
      "(456, 812, 3)\n",
      "1\n",
      "123\n",
      "(456, 812, 3)\n",
      "1\n",
      "164\n",
      "(456, 812, 3)\n",
      "1\n"
     ]
    },
    {
     "name": "stderr",
     "output_type": "stream",
     "text": [
      "INFO:root:Video length: 468 frames\n"
     ]
    },
    {
     "name": "stdout",
     "output_type": "stream",
     "text": [
      "0\n",
      "(500, 892, 3)\n",
      "1\n",
      "116\n",
      "(500, 892, 3)\n",
      "1\n",
      "233\n",
      "(500, 892, 3)\n",
      "1\n",
      "350\n",
      "(500, 892, 3)\n",
      "1\n"
     ]
    },
    {
     "name": "stderr",
     "output_type": "stream",
     "text": [
      "ERROR:root:An error occurred while processing faces: Given groups=1, weight of size [32, 3, 3, 3], expected input[1, 15, 160, 160] to have 3 channels, but got 15 channels instead\n",
      "INFO:root:Video length: 365 frames\n"
     ]
    },
    {
     "name": "stdout",
     "output_type": "stream",
     "text": [
      "467\n",
      "(500, 892, 3)\n",
      "1\n",
      "0\n",
      "(472, 850, 3)\n",
      "1\n",
      "91\n",
      "(472, 850, 3)\n",
      "1\n",
      "182\n",
      "(472, 850, 3)\n",
      "1\n",
      "273\n",
      "(472, 850, 3)\n",
      "1\n",
      "364\n",
      "(472, 850, 3)\n",
      "1\n"
     ]
    },
    {
     "name": "stderr",
     "output_type": "stream",
     "text": [
      "ERROR:root:An error occurred while processing faces: Given groups=1, weight of size [32, 3, 3, 3], expected input[1, 15, 160, 160] to have 3 channels, but got 15 channels instead\n",
      "INFO:root:Video length: 250 frames\n"
     ]
    },
    {
     "name": "stdout",
     "output_type": "stream",
     "text": [
      "0\n",
      "(472, 850, 3)\n",
      "1\n",
      "62\n",
      "(472, 850, 3)\n",
      "1\n",
      "124\n",
      "(472, 850, 3)\n",
      "1\n",
      "186\n",
      "(472, 850, 3)\n",
      "1\n",
      "249\n",
      "(472, 850, 3)\n",
      "1\n"
     ]
    },
    {
     "name": "stderr",
     "output_type": "stream",
     "text": [
      "ERROR:root:An error occurred while processing faces: Given groups=1, weight of size [32, 3, 3, 3], expected input[1, 15, 160, 160] to have 3 channels, but got 15 channels instead\n",
      "INFO:root:Video length: 331 frames\n",
      "ERROR:root:An error occurred while processing faces: Given groups=1, weight of size [32, 3, 3, 3], expected input[1, 15, 160, 160] to have 3 channels, but got 15 channels instead\n",
      "INFO:root:Video length: 327 frames\n"
     ]
    },
    {
     "name": "stdout",
     "output_type": "stream",
     "text": [
      "0\n",
      "(500, 348, 3)\n",
      "1\n",
      "82\n",
      "(500, 348, 3)\n",
      "1\n",
      "165\n",
      "(500, 348, 3)\n",
      "1\n",
      "247\n",
      "(500, 348, 3)\n",
      "1\n",
      "330\n",
      "(500, 348, 3)\n",
      "1\n",
      "0\n",
      "(472, 848, 3)\n",
      "1\n"
     ]
    },
    {
     "name": "stderr",
     "output_type": "stream",
     "text": [
      "ERROR:root:An error occurred while processing faces: Given groups=1, weight of size [32, 3, 3, 3], expected input[1, 15, 160, 160] to have 3 channels, but got 15 channels instead\n",
      "INFO:root:Video length: 473 frames\n"
     ]
    },
    {
     "name": "stdout",
     "output_type": "stream",
     "text": [
      "81\n",
      "(472, 848, 3)\n",
      "1\n",
      "163\n",
      "(472, 848, 3)\n",
      "1\n",
      "244\n",
      "(472, 848, 3)\n",
      "1\n",
      "326\n",
      "(472, 848, 3)\n",
      "1\n",
      "0\n",
      "(478, 856, 3)\n",
      "1\n",
      "118\n",
      "(478, 856, 3)\n",
      "1\n"
     ]
    },
    {
     "name": "stderr",
     "output_type": "stream",
     "text": [
      "ERROR:root:An error occurred while processing faces: Given groups=1, weight of size [32, 3, 3, 3], expected input[1, 15, 160, 160] to have 3 channels, but got 15 channels instead\n",
      "INFO:root:Video length: 450 frames\n"
     ]
    },
    {
     "name": "stdout",
     "output_type": "stream",
     "text": [
      "236\n",
      "(478, 856, 3)\n",
      "1\n",
      "354\n",
      "(478, 856, 3)\n",
      "1\n",
      "472\n",
      "(478, 856, 3)\n",
      "1\n",
      "0\n",
      "(480, 852, 3)\n",
      "1\n",
      "112\n",
      "(480, 852, 3)\n",
      "1\n"
     ]
    },
    {
     "name": "stderr",
     "output_type": "stream",
     "text": [
      "ERROR:root:An error occurred while processing faces: Given groups=1, weight of size [32, 3, 3, 3], expected input[1, 15, 160, 160] to have 3 channels, but got 15 channels instead\n",
      "INFO:root:Video length: 456 frames\n"
     ]
    },
    {
     "name": "stdout",
     "output_type": "stream",
     "text": [
      "224\n",
      "(480, 852, 3)\n",
      "1\n",
      "336\n",
      "(480, 852, 3)\n",
      "1\n",
      "449\n",
      "(480, 852, 3)\n",
      "1\n",
      "0\n",
      "(472, 850, 3)\n",
      "1\n",
      "113\n",
      "(472, 850, 3)\n",
      "1\n"
     ]
    },
    {
     "name": "stderr",
     "output_type": "stream",
     "text": [
      "ERROR:root:An error occurred while processing faces: Given groups=1, weight of size [32, 3, 3, 3], expected input[1, 15, 160, 160] to have 3 channels, but got 15 channels instead\n",
      "INFO:root:Video length: 272 frames\n"
     ]
    },
    {
     "name": "stdout",
     "output_type": "stream",
     "text": [
      "227\n",
      "(472, 850, 3)\n",
      "1\n",
      "341\n",
      "(472, 850, 3)\n",
      "1\n",
      "455\n",
      "(472, 850, 3)\n",
      "1\n",
      "0\n",
      "(500, 456, 3)\n",
      "1\n",
      "67\n",
      "(500, 456, 3)\n",
      "1\n",
      "135\n",
      "(500, 456, 3)\n",
      "1\n"
     ]
    },
    {
     "name": "stderr",
     "output_type": "stream",
     "text": [
      "ERROR:root:An error occurred while processing faces: Given groups=1, weight of size [32, 3, 3, 3], expected input[1, 15, 160, 160] to have 3 channels, but got 15 channels instead\n",
      "INFO:root:Video length: 165 frames\n"
     ]
    },
    {
     "name": "stdout",
     "output_type": "stream",
     "text": [
      "203\n",
      "(500, 456, 3)\n",
      "1\n",
      "271\n",
      "(500, 456, 3)\n",
      "1\n",
      "0\n",
      "(456, 812, 3)\n",
      "1\n",
      "41\n",
      "(456, 812, 3)\n",
      "1\n",
      "82\n",
      "(456, 812, 3)\n",
      "1\n",
      "123\n",
      "(456, 812, 3)\n",
      "1\n"
     ]
    },
    {
     "name": "stderr",
     "output_type": "stream",
     "text": [
      "ERROR:root:An error occurred while processing faces: Given groups=1, weight of size [32, 3, 3, 3], expected input[1, 15, 160, 160] to have 3 channels, but got 15 channels instead\n",
      "INFO:root:Video length: 313 frames\n"
     ]
    },
    {
     "name": "stdout",
     "output_type": "stream",
     "text": [
      "164\n",
      "(456, 812, 3)\n",
      "1\n",
      "0\n",
      "(500, 950, 3)\n",
      "1\n",
      "78\n",
      "(500, 950, 3)\n",
      "1\n",
      "156\n",
      "(500, 950, 3)\n",
      "1\n",
      "234\n",
      "(500, 950, 3)\n",
      "1\n",
      "312\n",
      "(500, 950, 3)\n",
      "1\n"
     ]
    },
    {
     "name": "stderr",
     "output_type": "stream",
     "text": [
      "ERROR:root:An error occurred while processing faces: Given groups=1, weight of size [32, 3, 3, 3], expected input[1, 15, 160, 160] to have 3 channels, but got 15 channels instead\n",
      "INFO:root:Video length: 383 frames\n",
      "ERROR:root:An error occurred while processing faces: Given groups=1, weight of size [32, 3, 3, 3], expected input[1, 15, 160, 160] to have 3 channels, but got 15 channels instead\n"
     ]
    },
    {
     "name": "stdout",
     "output_type": "stream",
     "text": [
      "0\n",
      "(478, 856, 3)\n",
      "1\n",
      "95\n",
      "(478, 856, 3)\n",
      "1\n",
      "191\n",
      "(478, 856, 3)\n",
      "1\n",
      "286\n",
      "(478, 856, 3)\n",
      "1\n",
      "382\n",
      "(478, 856, 3)\n",
      "1\n"
     ]
    },
    {
     "name": "stderr",
     "output_type": "stream",
     "text": [
      "INFO:root:Video length: 334 frames\n"
     ]
    },
    {
     "name": "stdout",
     "output_type": "stream",
     "text": [
      "0\n",
      "(456, 694, 3)\n",
      "1\n",
      "83\n",
      "(456, 694, 3)\n",
      "1\n",
      "166\n",
      "(456, 694, 3)\n",
      "1\n",
      "249\n",
      "(456, 694, 3)\n",
      "1\n"
     ]
    },
    {
     "name": "stderr",
     "output_type": "stream",
     "text": [
      "ERROR:root:An error occurred while processing faces: Given groups=1, weight of size [32, 3, 3, 3], expected input[1, 15, 160, 160] to have 3 channels, but got 15 channels instead\n",
      "INFO:root:Video length: 404 frames\n"
     ]
    },
    {
     "name": "stdout",
     "output_type": "stream",
     "text": [
      "333\n",
      "(456, 694, 3)\n",
      "1\n",
      "0\n",
      "(472, 850, 3)\n",
      "1\n",
      "100\n",
      "(472, 850, 3)\n",
      "1\n",
      "201\n",
      "(472, 850, 3)\n",
      "1\n",
      "302\n",
      "(472, 850, 3)\n",
      "1\n"
     ]
    },
    {
     "name": "stderr",
     "output_type": "stream",
     "text": [
      "ERROR:root:An error occurred while processing faces: Given groups=1, weight of size [32, 3, 3, 3], expected input[1, 15, 160, 160] to have 3 channels, but got 15 channels instead\n",
      "INFO:root:Video length: 307 frames\n"
     ]
    },
    {
     "name": "stdout",
     "output_type": "stream",
     "text": [
      "403\n",
      "(472, 850, 3)\n",
      "1\n",
      "0\n",
      "(458, 834, 3)\n",
      "1\n",
      "76\n",
      "(458, 834, 3)\n",
      "1\n",
      "153\n",
      "(458, 834, 3)\n",
      "1\n",
      "229\n",
      "(458, 834, 3)\n",
      "1\n"
     ]
    },
    {
     "name": "stderr",
     "output_type": "stream",
     "text": [
      "ERROR:root:An error occurred while processing faces: Given groups=1, weight of size [32, 3, 3, 3], expected input[1, 15, 160, 160] to have 3 channels, but got 15 channels instead\n",
      "INFO:root:Video length: 328 frames\n"
     ]
    },
    {
     "name": "stdout",
     "output_type": "stream",
     "text": [
      "306\n",
      "(458, 834, 3)\n",
      "1\n",
      "0\n",
      "(452, 844, 3)\n",
      "1\n",
      "81\n",
      "(452, 844, 3)\n",
      "1\n",
      "163\n",
      "(452, 844, 3)\n",
      "1\n",
      "245\n",
      "(452, 844, 3)\n",
      "1\n",
      "327\n",
      "(452, 844, 3)\n",
      "1\n"
     ]
    },
    {
     "name": "stderr",
     "output_type": "stream",
     "text": [
      "ERROR:root:An error occurred while processing faces: Given groups=1, weight of size [32, 3, 3, 3], expected input[1, 15, 160, 160] to have 3 channels, but got 15 channels instead\n",
      "INFO:root:Video length: 234 frames\n",
      "ERROR:root:An error occurred while processing faces: Given groups=1, weight of size [32, 3, 3, 3], expected input[1, 15, 160, 160] to have 3 channels, but got 15 channels instead\n",
      "INFO:root:Video length: 534 frames\n"
     ]
    },
    {
     "name": "stdout",
     "output_type": "stream",
     "text": [
      "0\n",
      "(480, 852, 3)\n",
      "1\n",
      "58\n",
      "(480, 852, 3)\n",
      "1\n",
      "116\n",
      "(480, 852, 3)\n",
      "1\n",
      "174\n",
      "(480, 852, 3)\n",
      "1\n",
      "233\n",
      "(480, 852, 3)\n",
      "1\n",
      "0\n",
      "(500, 944, 3)\n",
      "1\n",
      "133\n",
      "(500, 944, 3)\n",
      "1\n",
      "266\n",
      "(500, 944, 3)\n",
      "1\n",
      "399\n",
      "(500, 944, 3)\n",
      "1\n"
     ]
    },
    {
     "name": "stderr",
     "output_type": "stream",
     "text": [
      "ERROR:root:An error occurred while processing faces: Given groups=1, weight of size [32, 3, 3, 3], expected input[1, 15, 160, 160] to have 3 channels, but got 15 channels instead\n",
      "INFO:root:Video length: 320 frames\n"
     ]
    },
    {
     "name": "stdout",
     "output_type": "stream",
     "text": [
      "533\n",
      "(500, 944, 3)\n",
      "1\n",
      "0\n",
      "(384, 424, 3)\n",
      "1\n",
      "79\n",
      "(384, 424, 3)\n",
      "1\n",
      "159\n",
      "(384, 424, 3)\n",
      "1\n",
      "239\n",
      "(384, 424, 3)\n",
      "1\n"
     ]
    },
    {
     "name": "stderr",
     "output_type": "stream",
     "text": [
      "ERROR:root:An error occurred while processing faces: Given groups=1, weight of size [32, 3, 3, 3], expected input[1, 15, 160, 160] to have 3 channels, but got 15 channels instead\n",
      "INFO:root:Video length: 306 frames\n"
     ]
    },
    {
     "name": "stdout",
     "output_type": "stream",
     "text": [
      "319\n",
      "(384, 424, 3)\n",
      "1\n",
      "0\n",
      "(476, 856, 3)\n",
      "1\n",
      "76\n",
      "(476, 856, 3)\n",
      "1\n",
      "152\n",
      "(476, 856, 3)\n",
      "1\n"
     ]
    },
    {
     "name": "stderr",
     "output_type": "stream",
     "text": [
      "ERROR:root:An error occurred while processing faces: Given groups=1, weight of size [32, 3, 3, 3], expected input[1, 15, 160, 160] to have 3 channels, but got 15 channels instead\n",
      "INFO:root:Video length: 322 frames\n"
     ]
    },
    {
     "name": "stdout",
     "output_type": "stream",
     "text": [
      "228\n",
      "(476, 856, 3)\n",
      "1\n",
      "305\n",
      "(476, 856, 3)\n",
      "1\n",
      "0\n",
      "(420, 826, 3)\n",
      "1\n",
      "80\n",
      "(420, 826, 3)\n",
      "1\n",
      "160\n",
      "(420, 826, 3)\n",
      "1\n",
      "240\n",
      "(420, 826, 3)\n",
      "1\n"
     ]
    },
    {
     "name": "stderr",
     "output_type": "stream",
     "text": [
      "ERROR:root:An error occurred while processing faces: Given groups=1, weight of size [32, 3, 3, 3], expected input[1, 15, 160, 160] to have 3 channels, but got 15 channels instead\n",
      "INFO:root:Video length: 329 frames\n"
     ]
    },
    {
     "name": "stdout",
     "output_type": "stream",
     "text": [
      "321\n",
      "(420, 826, 3)\n",
      "1\n",
      "0\n",
      "(476, 850, 3)\n",
      "1\n",
      "82\n",
      "(476, 850, 3)\n",
      "1\n",
      "164\n",
      "(476, 850, 3)\n",
      "1\n",
      "246\n",
      "(476, 850, 3)\n",
      "1\n",
      "328\n",
      "(476, 850, 3)\n",
      "1\n"
     ]
    },
    {
     "name": "stderr",
     "output_type": "stream",
     "text": [
      "ERROR:root:An error occurred while processing faces: Given groups=1, weight of size [32, 3, 3, 3], expected input[1, 15, 160, 160] to have 3 channels, but got 15 channels instead\n",
      "INFO:root:Video length: 359 frames\n",
      "ERROR:root:An error occurred while processing faces: Given groups=1, weight of size [32, 3, 3, 3], expected input[1, 15, 160, 160] to have 3 channels, but got 15 channels instead\n",
      "INFO:root:Video length: 428 frames\n"
     ]
    },
    {
     "name": "stdout",
     "output_type": "stream",
     "text": [
      "0\n",
      "(456, 812, 3)\n",
      "1\n",
      "89\n",
      "(456, 812, 3)\n",
      "1\n",
      "179\n",
      "(456, 812, 3)\n",
      "1\n",
      "268\n",
      "(456, 812, 3)\n",
      "1\n",
      "358\n",
      "(456, 812, 3)\n",
      "1\n",
      "0\n",
      "(500, 530, 3)\n",
      "1\n"
     ]
    },
    {
     "name": "stderr",
     "output_type": "stream",
     "text": [
      "ERROR:root:An error occurred while processing faces: Given groups=1, weight of size [32, 3, 3, 3], expected input[1, 15, 160, 160] to have 3 channels, but got 15 channels instead\n",
      "INFO:root:Video length: 446 frames\n"
     ]
    },
    {
     "name": "stdout",
     "output_type": "stream",
     "text": [
      "106\n",
      "(500, 530, 3)\n",
      "1\n",
      "213\n",
      "(500, 530, 3)\n",
      "1\n",
      "320\n",
      "(500, 530, 3)\n",
      "1\n",
      "427\n",
      "(500, 530, 3)\n",
      "1\n",
      "0\n",
      "(500, 944, 3)\n",
      "1\n",
      "111\n",
      "(500, 944, 3)\n",
      "1\n"
     ]
    },
    {
     "name": "stderr",
     "output_type": "stream",
     "text": [
      "ERROR:root:An error occurred while processing faces: Given groups=1, weight of size [32, 3, 3, 3], expected input[1, 15, 160, 160] to have 3 channels, but got 15 channels instead\n",
      "INFO:root:Video length: 448 frames\n"
     ]
    },
    {
     "name": "stdout",
     "output_type": "stream",
     "text": [
      "222\n",
      "(500, 944, 3)\n",
      "1\n",
      "333\n",
      "(500, 944, 3)\n",
      "1\n",
      "445\n",
      "(500, 944, 3)\n",
      "1\n",
      "0\n",
      "(466, 848, 3)\n",
      "1\n",
      "111\n",
      "(466, 848, 3)\n"
     ]
    },
    {
     "name": "stderr",
     "output_type": "stream",
     "text": [
      "ERROR:root:An error occurred while processing faces: Given groups=1, weight of size [32, 3, 3, 3], expected input[1, 15, 160, 160] to have 3 channels, but got 15 channels instead\n",
      "INFO:root:Video length: 467 frames\n"
     ]
    },
    {
     "name": "stdout",
     "output_type": "stream",
     "text": [
      "1\n",
      "223\n",
      "(466, 848, 3)\n",
      "1\n",
      "335\n",
      "(466, 848, 3)\n",
      "1\n",
      "447\n",
      "(466, 848, 3)\n",
      "1\n",
      "0\n",
      "(478, 856, 3)\n",
      "1\n"
     ]
    },
    {
     "name": "stderr",
     "output_type": "stream",
     "text": [
      "ERROR:root:An error occurred while processing faces: Given groups=1, weight of size [32, 3, 3, 3], expected input[1, 15, 160, 160] to have 3 channels, but got 15 channels instead\n",
      "INFO:root:Video length: 307 frames\n"
     ]
    },
    {
     "name": "stdout",
     "output_type": "stream",
     "text": [
      "116\n",
      "(478, 856, 3)\n",
      "1\n",
      "233\n",
      "(478, 856, 3)\n",
      "1\n",
      "349\n",
      "(478, 856, 3)\n",
      "1\n",
      "466\n",
      "(478, 856, 3)\n",
      "1\n",
      "0\n",
      "(480, 486, 3)\n",
      "1\n"
     ]
    },
    {
     "name": "stderr",
     "output_type": "stream",
     "text": [
      "ERROR:root:An error occurred while processing faces: Given groups=1, weight of size [32, 3, 3, 3], expected input[1, 15, 160, 160] to have 3 channels, but got 15 channels instead\n",
      "INFO:root:Video length: 464 frames\n"
     ]
    },
    {
     "name": "stdout",
     "output_type": "stream",
     "text": [
      "76\n",
      "(480, 486, 3)\n",
      "1\n",
      "153\n",
      "(480, 486, 3)\n",
      "1\n",
      "229\n",
      "(480, 486, 3)\n",
      "1\n",
      "306\n",
      "(480, 486, 3)\n",
      "1\n",
      "0\n",
      "(466, 848, 3)\n",
      "1\n",
      "115\n",
      "(466, 848, 3)\n",
      "1\n"
     ]
    },
    {
     "name": "stderr",
     "output_type": "stream",
     "text": [
      "ERROR:root:An error occurred while processing faces: expected Tensor as element 0 in argument 0, but got NoneType\n",
      "INFO:root:Video length: 331 frames\n"
     ]
    },
    {
     "name": "stdout",
     "output_type": "stream",
     "text": [
      "231\n",
      "(466, 848, 3)\n",
      "1\n",
      "347\n",
      "(466, 848, 3)\n",
      "1\n",
      "463\n",
      "(466, 848, 3)\n",
      "1\n",
      "0\n",
      "(476, 842, 3)\n",
      "1\n",
      "82\n",
      "(476, 842, 3)\n",
      "1\n"
     ]
    },
    {
     "name": "stderr",
     "output_type": "stream",
     "text": [
      "ERROR:root:An error occurred while processing faces: Given groups=1, weight of size [32, 3, 3, 3], expected input[1, 15, 160, 160] to have 3 channels, but got 15 channels instead\n",
      "INFO:root:Video length: 332 frames\n"
     ]
    },
    {
     "name": "stdout",
     "output_type": "stream",
     "text": [
      "165\n",
      "(476, 842, 3)\n",
      "1\n",
      "247\n",
      "(476, 842, 3)\n",
      "1\n",
      "330\n",
      "(476, 842, 3)\n",
      "1\n",
      "0\n",
      "(500, 942, 3)\n",
      "1\n",
      "82\n",
      "(500, 942, 3)\n",
      "1\n"
     ]
    },
    {
     "name": "stderr",
     "output_type": "stream",
     "text": [
      "ERROR:root:An error occurred while processing faces: Given groups=1, weight of size [32, 3, 3, 3], expected input[1, 15, 160, 160] to have 3 channels, but got 15 channels instead\n",
      "INFO:root:Video length: 508 frames\n"
     ]
    },
    {
     "name": "stdout",
     "output_type": "stream",
     "text": [
      "165\n",
      "(500, 942, 3)\n",
      "1\n",
      "248\n",
      "(500, 942, 3)\n",
      "1\n",
      "331\n",
      "(500, 942, 3)\n",
      "1\n",
      "0\n",
      "(466, 848, 3)\n",
      "1\n",
      "126\n",
      "(466, 848, 3)\n",
      "1\n",
      "253\n",
      "(466, 848, 3)\n",
      "1\n",
      "380\n",
      "(466, 848, 3)\n",
      "1\n",
      "507\n",
      "(466, 848, 3)\n",
      "1\n"
     ]
    },
    {
     "name": "stderr",
     "output_type": "stream",
     "text": [
      "ERROR:root:An error occurred while processing faces: Given groups=1, weight of size [32, 3, 3, 3], expected input[1, 15, 160, 160] to have 3 channels, but got 15 channels instead\n",
      "INFO:root:Video length: 459 frames\n",
      "ERROR:root:An error occurred while processing faces: Given groups=1, weight of size [32, 3, 3, 3], expected input[1, 15, 160, 160] to have 3 channels, but got 15 channels instead\n"
     ]
    },
    {
     "name": "stdout",
     "output_type": "stream",
     "text": [
      "0\n",
      "(500, 944, 3)\n",
      "1\n",
      "114\n",
      "(500, 944, 3)\n",
      "1\n",
      "229\n",
      "(500, 944, 3)\n",
      "1\n",
      "343\n",
      "(500, 944, 3)\n",
      "1\n",
      "458\n",
      "(500, 944, 3)\n",
      "1\n"
     ]
    },
    {
     "name": "stderr",
     "output_type": "stream",
     "text": [
      "INFO:root:Video length: 315 frames\n",
      "ERROR:root:An error occurred while processing faces: Given groups=1, weight of size [32, 3, 3, 3], expected input[1, 15, 160, 160] to have 3 channels, but got 15 channels instead\n"
     ]
    },
    {
     "name": "stdout",
     "output_type": "stream",
     "text": [
      "0\n",
      "(476, 850, 3)\n",
      "1\n",
      "78\n",
      "(476, 850, 3)\n",
      "1\n",
      "157\n",
      "(476, 850, 3)\n",
      "1\n",
      "235\n",
      "(476, 850, 3)\n",
      "1\n",
      "314\n",
      "(476, 850, 3)\n",
      "1\n"
     ]
    },
    {
     "name": "stderr",
     "output_type": "stream",
     "text": [
      "INFO:root:Video length: 270 frames\n",
      "ERROR:root:An error occurred while processing faces: Given groups=1, weight of size [32, 3, 3, 3], expected input[1, 15, 160, 160] to have 3 channels, but got 15 channels instead\n"
     ]
    },
    {
     "name": "stdout",
     "output_type": "stream",
     "text": [
      "0\n",
      "(500, 942, 3)\n",
      "1\n",
      "67\n",
      "(500, 942, 3)\n",
      "1\n",
      "134\n",
      "(500, 942, 3)\n",
      "1\n",
      "201\n",
      "(500, 942, 3)\n",
      "1\n",
      "269\n",
      "(500, 942, 3)\n",
      "1\n"
     ]
    },
    {
     "name": "stderr",
     "output_type": "stream",
     "text": [
      "INFO:root:Video length: 468 frames\n",
      "ERROR:root:An error occurred while processing faces: Given groups=1, weight of size [32, 3, 3, 3], expected input[1, 15, 160, 160] to have 3 channels, but got 15 channels instead\n"
     ]
    },
    {
     "name": "stdout",
     "output_type": "stream",
     "text": [
      "0\n",
      "(480, 852, 3)\n",
      "1\n",
      "116\n",
      "(480, 852, 3)\n",
      "1\n",
      "233\n",
      "(480, 852, 3)\n",
      "1\n",
      "350\n",
      "(480, 852, 3)\n",
      "1\n",
      "467\n",
      "(480, 852, 3)\n",
      "1\n"
     ]
    },
    {
     "name": "stderr",
     "output_type": "stream",
     "text": [
      "INFO:root:Video length: 311 frames\n",
      "ERROR:root:An error occurred while processing faces: Given groups=1, weight of size [32, 3, 3, 3], expected input[1, 15, 160, 160] to have 3 channels, but got 15 channels instead\n"
     ]
    },
    {
     "name": "stdout",
     "output_type": "stream",
     "text": [
      "0\n",
      "(474, 846, 3)\n",
      "1\n",
      "77\n",
      "(474, 846, 3)\n",
      "1\n",
      "155\n",
      "(474, 846, 3)\n",
      "1\n",
      "232\n",
      "(474, 846, 3)\n",
      "1\n",
      "310\n",
      "(474, 846, 3)\n",
      "1\n"
     ]
    },
    {
     "name": "stderr",
     "output_type": "stream",
     "text": [
      "INFO:root:Video length: 274 frames\n"
     ]
    },
    {
     "name": "stdout",
     "output_type": "stream",
     "text": [
      "0\n",
      "(500, 894, 3)\n",
      "1\n",
      "68\n",
      "(500, 894, 3)\n",
      "1\n",
      "136\n",
      "(500, 894, 3)\n",
      "1\n",
      "204\n",
      "(500, 894, 3)\n",
      "1\n",
      "273\n",
      "(500, 894, 3)\n",
      "1\n"
     ]
    },
    {
     "name": "stderr",
     "output_type": "stream",
     "text": [
      "ERROR:root:An error occurred while processing faces: Given groups=1, weight of size [32, 3, 3, 3], expected input[1, 15, 160, 160] to have 3 channels, but got 15 channels instead\n",
      "INFO:root:Video length: 312 frames\n"
     ]
    },
    {
     "name": "stdout",
     "output_type": "stream",
     "text": [
      "0\n",
      "(500, 894, 3)\n",
      "1\n",
      "77\n",
      "(500, 894, 3)\n",
      "1\n",
      "155\n",
      "(500, 894, 3)\n",
      "1\n",
      "233\n",
      "(500, 894, 3)\n",
      "1\n",
      "311\n",
      "(500, 894, 3)\n",
      "1\n"
     ]
    },
    {
     "name": "stderr",
     "output_type": "stream",
     "text": [
      "ERROR:root:An error occurred while processing faces: Given groups=1, weight of size [32, 3, 3, 3], expected input[1, 15, 160, 160] to have 3 channels, but got 15 channels instead\n",
      "INFO:root:Video length: 335 frames\n",
      "ERROR:root:An error occurred while processing faces: Given groups=1, weight of size [32, 3, 3, 3], expected input[1, 15, 160, 160] to have 3 channels, but got 15 channels instead\n"
     ]
    },
    {
     "name": "stdout",
     "output_type": "stream",
     "text": [
      "0\n",
      "(458, 822, 3)\n",
      "1\n",
      "83\n",
      "(458, 822, 3)\n",
      "1\n",
      "167\n",
      "(458, 822, 3)\n",
      "1\n",
      "250\n",
      "(458, 822, 3)\n",
      "1\n",
      "334\n",
      "(458, 822, 3)\n",
      "1\n"
     ]
    },
    {
     "name": "stderr",
     "output_type": "stream",
     "text": [
      "INFO:root:Video length: 305 frames\n",
      "ERROR:root:An error occurred while processing faces: Given groups=1, weight of size [32, 3, 3, 3], expected input[1, 15, 160, 160] to have 3 channels, but got 15 channels instead\n",
      "INFO:root:Video length: 306 frames\n"
     ]
    },
    {
     "name": "stdout",
     "output_type": "stream",
     "text": [
      "0\n",
      "(500, 590, 3)\n",
      "1\n",
      "76\n",
      "(500, 590, 3)\n",
      "1\n",
      "152\n",
      "(500, 590, 3)\n",
      "1\n",
      "228\n",
      "(500, 590, 3)\n",
      "1\n",
      "304\n",
      "(500, 590, 3)\n",
      "1\n",
      "0\n",
      "(500, 656, 3)\n",
      "1\n"
     ]
    },
    {
     "name": "stderr",
     "output_type": "stream",
     "text": [
      "ERROR:root:An error occurred while processing faces: Given groups=1, weight of size [32, 3, 3, 3], expected input[1, 15, 160, 160] to have 3 channels, but got 15 channels instead\n",
      "INFO:root:Video length: 380 frames\n"
     ]
    },
    {
     "name": "stdout",
     "output_type": "stream",
     "text": [
      "76\n",
      "(500, 656, 3)\n",
      "1\n",
      "152\n",
      "(500, 656, 3)\n",
      "1\n",
      "228\n",
      "(500, 656, 3)\n",
      "1\n",
      "305\n",
      "(500, 656, 3)\n",
      "1\n",
      "0\n",
      "(500, 642, 3)\n",
      "1\n"
     ]
    },
    {
     "name": "stderr",
     "output_type": "stream",
     "text": [
      "ERROR:root:An error occurred while processing faces: Given groups=1, weight of size [32, 3, 3, 3], expected input[1, 15, 160, 160] to have 3 channels, but got 15 channels instead\n",
      "INFO:root:Video length: 322 frames\n"
     ]
    },
    {
     "name": "stdout",
     "output_type": "stream",
     "text": [
      "94\n",
      "(500, 642, 3)\n",
      "1\n",
      "189\n",
      "(500, 642, 3)\n",
      "1\n",
      "284\n",
      "(500, 642, 3)\n",
      "1\n",
      "379\n",
      "(500, 642, 3)\n",
      "1\n",
      "0\n",
      "(500, 472, 3)\n",
      "1\n",
      "80\n",
      "(500, 472, 3)\n",
      "1\n",
      "160\n",
      "(500, 472, 3)\n",
      "1\n"
     ]
    },
    {
     "name": "stderr",
     "output_type": "stream",
     "text": [
      "ERROR:root:An error occurred while processing faces: Given groups=1, weight of size [32, 3, 3, 3], expected input[1, 15, 160, 160] to have 3 channels, but got 15 channels instead\n",
      "INFO:root:Video length: 317 frames\n"
     ]
    },
    {
     "name": "stdout",
     "output_type": "stream",
     "text": [
      "240\n",
      "(500, 472, 3)\n",
      "1\n",
      "321\n",
      "(500, 472, 3)\n",
      "1\n",
      "0\n",
      "(478, 848, 3)\n",
      "1\n",
      "79\n",
      "(478, 848, 3)\n",
      "1\n",
      "158\n",
      "(478, 848, 3)\n",
      "1\n"
     ]
    },
    {
     "name": "stderr",
     "output_type": "stream",
     "text": [
      "ERROR:root:An error occurred while processing faces: Given groups=1, weight of size [32, 3, 3, 3], expected input[1, 15, 160, 160] to have 3 channels, but got 15 channels instead\n",
      "INFO:root:Video length: 320 frames\n"
     ]
    },
    {
     "name": "stdout",
     "output_type": "stream",
     "text": [
      "237\n",
      "(478, 848, 3)\n",
      "1\n",
      "316\n",
      "(478, 848, 3)\n",
      "1\n",
      "0\n",
      "(472, 848, 3)\n",
      "1\n",
      "79\n",
      "(472, 848, 3)\n",
      "1\n",
      "159\n",
      "(472, 848, 3)\n",
      "1\n"
     ]
    },
    {
     "name": "stderr",
     "output_type": "stream",
     "text": [
      "ERROR:root:An error occurred while processing faces: Given groups=1, weight of size [32, 3, 3, 3], expected input[1, 15, 160, 160] to have 3 channels, but got 15 channels instead\n",
      "INFO:root:Video length: 380 frames\n"
     ]
    },
    {
     "name": "stdout",
     "output_type": "stream",
     "text": [
      "239\n",
      "(472, 848, 3)\n",
      "1\n",
      "319\n",
      "(472, 848, 3)\n",
      "1\n",
      "0\n",
      "(500, 642, 3)\n",
      "1\n",
      "94\n",
      "(500, 642, 3)\n",
      "1\n",
      "189\n",
      "(500, 642, 3)\n",
      "1\n"
     ]
    },
    {
     "name": "stderr",
     "output_type": "stream",
     "text": [
      "ERROR:root:An error occurred while processing faces: Given groups=1, weight of size [32, 3, 3, 3], expected input[1, 15, 160, 160] to have 3 channels, but got 15 channels instead\n",
      "INFO:root:Video length: 283 frames\n"
     ]
    },
    {
     "name": "stdout",
     "output_type": "stream",
     "text": [
      "284\n",
      "(500, 642, 3)\n",
      "1\n",
      "379\n",
      "(500, 642, 3)\n",
      "1\n",
      "0\n",
      "(478, 856, 3)\n",
      "1\n",
      "70\n",
      "(478, 856, 3)\n",
      "1\n",
      "141\n",
      "(478, 856, 3)\n",
      "1\n",
      "211\n"
     ]
    },
    {
     "name": "stderr",
     "output_type": "stream",
     "text": [
      "ERROR:root:An error occurred while processing faces: Given groups=1, weight of size [32, 3, 3, 3], expected input[1, 15, 160, 160] to have 3 channels, but got 15 channels instead\n",
      "INFO:root:Video length: 466 frames\n"
     ]
    },
    {
     "name": "stdout",
     "output_type": "stream",
     "text": [
      "(478, 856, 3)\n",
      "1\n",
      "282\n",
      "(478, 856, 3)\n",
      "1\n",
      "0\n",
      "(478, 856, 3)\n",
      "1\n",
      "116\n",
      "(478, 856, 3)\n",
      "1\n",
      "232\n",
      "(478, 856, 3)\n",
      "1\n",
      "348\n",
      "(478, 856, 3)\n",
      "1\n"
     ]
    },
    {
     "name": "stderr",
     "output_type": "stream",
     "text": [
      "ERROR:root:An error occurred while processing faces: Given groups=1, weight of size [32, 3, 3, 3], expected input[1, 15, 160, 160] to have 3 channels, but got 15 channels instead\n",
      "INFO:root:Video length: 334 frames\n",
      "ERROR:root:An error occurred while processing faces: Given groups=1, weight of size [32, 3, 3, 3], expected input[1, 15, 160, 160] to have 3 channels, but got 15 channels instead\n"
     ]
    },
    {
     "name": "stdout",
     "output_type": "stream",
     "text": [
      "465\n",
      "(478, 856, 3)\n",
      "1\n",
      "0\n",
      "(500, 666, 3)\n",
      "1\n",
      "83\n",
      "(500, 666, 3)\n",
      "1\n",
      "166\n",
      "(500, 666, 3)\n",
      "1\n",
      "249\n",
      "(500, 666, 3)\n",
      "1\n",
      "333\n",
      "(500, 666, 3)\n",
      "1\n"
     ]
    },
    {
     "name": "stderr",
     "output_type": "stream",
     "text": [
      "INFO:root:Video length: 310 frames\n"
     ]
    },
    {
     "name": "stdout",
     "output_type": "stream",
     "text": [
      "0\n",
      "(478, 852, 3)\n",
      "1\n",
      "77\n",
      "(478, 852, 3)\n",
      "1\n",
      "154\n",
      "(478, 852, 3)\n",
      "1\n",
      "231\n",
      "(478, 852, 3)\n",
      "1\n",
      "309\n",
      "(478, 852, 3)\n",
      "1\n"
     ]
    },
    {
     "name": "stderr",
     "output_type": "stream",
     "text": [
      "ERROR:root:An error occurred while processing faces: Given groups=1, weight of size [32, 3, 3, 3], expected input[1, 15, 160, 160] to have 3 channels, but got 15 channels instead\n",
      "INFO:root:Video length: 557 frames\n"
     ]
    },
    {
     "name": "stdout",
     "output_type": "stream",
     "text": [
      "0\n",
      "(500, 942, 3)\n",
      "1\n",
      "139\n",
      "(500, 942, 3)\n",
      "1\n",
      "278\n",
      "(500, 942, 3)\n",
      "1\n",
      "417\n",
      "(500, 942, 3)\n",
      "1\n",
      "556\n",
      "(500, 942, 3)\n",
      "1\n"
     ]
    },
    {
     "name": "stderr",
     "output_type": "stream",
     "text": [
      "ERROR:root:An error occurred while processing faces: Given groups=1, weight of size [32, 3, 3, 3], expected input[1, 15, 160, 160] to have 3 channels, but got 15 channels instead\n",
      "INFO:root:Video length: 297 frames\n"
     ]
    },
    {
     "name": "stdout",
     "output_type": "stream",
     "text": [
      "0\n",
      "(478, 856, 3)\n",
      "1\n",
      "74\n",
      "(478, 856, 3)\n",
      "1\n",
      "148\n",
      "(478, 856, 3)\n",
      "1\n",
      "222\n",
      "(478, 856, 3)\n",
      "1\n",
      "296\n",
      "(478, 856, 3)\n",
      "1\n"
     ]
    },
    {
     "name": "stderr",
     "output_type": "stream",
     "text": [
      "ERROR:root:An error occurred while processing faces: Given groups=1, weight of size [32, 3, 3, 3], expected input[1, 15, 160, 160] to have 3 channels, but got 15 channels instead\n",
      "INFO:root:Video length: 481 frames\n"
     ]
    },
    {
     "name": "stdout",
     "output_type": "stream",
     "text": [
      "0\n",
      "(478, 856, 3)\n",
      "1\n",
      "120\n",
      "(478, 856, 3)\n",
      "1\n",
      "240\n",
      "(478, 856, 3)\n",
      "1\n",
      "360\n",
      "(478, 856, 3)\n",
      "1\n",
      "480\n",
      "(478, 856, 3)\n",
      "1\n"
     ]
    },
    {
     "name": "stderr",
     "output_type": "stream",
     "text": [
      "ERROR:root:An error occurred while processing faces: Given groups=1, weight of size [32, 3, 3, 3], expected input[1, 15, 160, 160] to have 3 channels, but got 15 channels instead\n",
      "INFO:root:Video length: 319 frames\n",
      "ERROR:root:An error occurred while processing faces: Given groups=1, weight of size [32, 3, 3, 3], expected input[1, 15, 160, 160] to have 3 channels, but got 15 channels instead\n",
      "INFO:root:Video length: 305 frames\n"
     ]
    },
    {
     "name": "stdout",
     "output_type": "stream",
     "text": [
      "0\n",
      "(300, 286, 3)\n",
      "1\n",
      "79\n",
      "(300, 286, 3)\n",
      "1\n",
      "159\n",
      "(300, 286, 3)\n",
      "1\n",
      "238\n",
      "(300, 286, 3)\n",
      "1\n",
      "318\n",
      "(300, 286, 3)\n",
      "1\n",
      "0\n",
      "(500, 666, 3)\n",
      "1\n",
      "76\n",
      "(500, 666, 3)\n",
      "1\n",
      "152\n",
      "(500, 666, 3)\n",
      "1\n"
     ]
    },
    {
     "name": "stderr",
     "output_type": "stream",
     "text": [
      "ERROR:root:An error occurred while processing faces: Given groups=1, weight of size [32, 3, 3, 3], expected input[1, 15, 160, 160] to have 3 channels, but got 15 channels instead\n",
      "INFO:root:Video length: 530 frames\n"
     ]
    },
    {
     "name": "stdout",
     "output_type": "stream",
     "text": [
      "228\n",
      "(500, 666, 3)\n",
      "1\n",
      "304\n",
      "(500, 666, 3)\n",
      "1\n",
      "0\n",
      "(500, 944, 3)\n",
      "1\n",
      "132\n",
      "(500, 944, 3)\n",
      "1\n",
      "264\n",
      "(500, 944, 3)\n",
      "1\n",
      "396\n",
      "(500, 944, 3)\n",
      "1\n"
     ]
    },
    {
     "name": "stderr",
     "output_type": "stream",
     "text": [
      "ERROR:root:An error occurred while processing faces: Given groups=1, weight of size [32, 3, 3, 3], expected input[1, 15, 160, 160] to have 3 channels, but got 15 channels instead\n",
      "INFO:root:Video length: 362 frames\n"
     ]
    },
    {
     "name": "stdout",
     "output_type": "stream",
     "text": [
      "529\n",
      "(500, 944, 3)\n",
      "1\n",
      "0\n",
      "(478, 856, 3)\n",
      "1\n",
      "90\n",
      "(478, 856, 3)\n",
      "1\n",
      "180\n",
      "(478, 856, 3)\n",
      "1\n",
      "270\n",
      "(478, 856, 3)\n",
      "1\n",
      "361\n",
      "(478, 856, 3)\n",
      "1\n"
     ]
    },
    {
     "name": "stderr",
     "output_type": "stream",
     "text": [
      "ERROR:root:An error occurred while processing faces: Given groups=1, weight of size [32, 3, 3, 3], expected input[1, 15, 160, 160] to have 3 channels, but got 15 channels instead\n",
      "INFO:root:Video length: 497 frames\n"
     ]
    },
    {
     "name": "stdout",
     "output_type": "stream",
     "text": [
      "0\n",
      "(472, 850, 3)\n",
      "1\n",
      "124\n",
      "(472, 850, 3)\n",
      "1\n",
      "248\n",
      "(472, 850, 3)\n",
      "1\n",
      "372\n",
      "(472, 850, 3)\n",
      "1\n",
      "496\n",
      "(472, 850, 3)\n",
      "1\n"
     ]
    },
    {
     "name": "stderr",
     "output_type": "stream",
     "text": [
      "ERROR:root:An error occurred while processing faces: Given groups=1, weight of size [32, 3, 3, 3], expected input[1, 15, 160, 160] to have 3 channels, but got 15 channels instead\n",
      "INFO:root:Video length: 494 frames\n"
     ]
    },
    {
     "name": "stdout",
     "output_type": "stream",
     "text": [
      "0\n",
      "(478, 856, 3)\n",
      "1\n",
      "123\n",
      "(478, 856, 3)\n",
      "1\n",
      "246\n",
      "(478, 856, 3)\n",
      "1\n",
      "369\n",
      "(478, 856, 3)\n",
      "1\n",
      "493\n",
      "(478, 856, 3)\n",
      "1\n"
     ]
    },
    {
     "name": "stderr",
     "output_type": "stream",
     "text": [
      "ERROR:root:An error occurred while processing faces: Given groups=1, weight of size [32, 3, 3, 3], expected input[1, 15, 160, 160] to have 3 channels, but got 15 channels instead\n",
      "INFO:root:Video length: 456 frames\n"
     ]
    },
    {
     "name": "stdout",
     "output_type": "stream",
     "text": [
      "0\n",
      "(472, 850, 3)\n",
      "1\n",
      "113\n",
      "(472, 850, 3)\n",
      "1\n",
      "227\n",
      "(472, 850, 3)\n",
      "1\n",
      "341\n",
      "(472, 850, 3)\n",
      "1\n",
      "455\n",
      "(472, 850, 3)\n",
      "1\n"
     ]
    },
    {
     "name": "stderr",
     "output_type": "stream",
     "text": [
      "ERROR:root:An error occurred while processing faces: Given groups=1, weight of size [32, 3, 3, 3], expected input[1, 15, 160, 160] to have 3 channels, but got 15 channels instead\n",
      "INFO:root:Video length: 381 frames\n",
      "ERROR:root:An error occurred while processing faces: Given groups=1, weight of size [32, 3, 3, 3], expected input[1, 15, 160, 160] to have 3 channels, but got 15 channels instead\n"
     ]
    },
    {
     "name": "stdout",
     "output_type": "stream",
     "text": [
      "0\n",
      "(500, 944, 3)\n",
      "1\n",
      "95\n",
      "(500, 944, 3)\n",
      "1\n",
      "190\n",
      "(500, 944, 3)\n",
      "1\n",
      "285\n",
      "(500, 944, 3)\n",
      "1\n",
      "380\n",
      "(500, 944, 3)\n",
      "1\n"
     ]
    },
    {
     "name": "stderr",
     "output_type": "stream",
     "text": [
      "INFO:root:Video length: 307 frames\n",
      "ERROR:root:An error occurred while processing faces: Given groups=1, weight of size [32, 3, 3, 3], expected input[1, 15, 160, 160] to have 3 channels, but got 15 channels instead\n",
      "INFO:root:Video length: 364 frames\n"
     ]
    },
    {
     "name": "stdout",
     "output_type": "stream",
     "text": [
      "0\n",
      "(500, 616, 3)\n",
      "1\n",
      "76\n",
      "(500, 616, 3)\n",
      "1\n",
      "153\n",
      "(500, 616, 3)\n",
      "1\n",
      "229\n",
      "(500, 616, 3)\n",
      "1\n",
      "306\n",
      "(500, 616, 3)\n",
      "1\n",
      "0\n",
      "(480, 852, 3)\n",
      "1\n"
     ]
    },
    {
     "name": "stderr",
     "output_type": "stream",
     "text": [
      "ERROR:root:An error occurred while processing faces: Given groups=1, weight of size [32, 3, 3, 3], expected input[1, 15, 160, 160] to have 3 channels, but got 15 channels instead\n",
      "INFO:root:Video length: 429 frames\n"
     ]
    },
    {
     "name": "stdout",
     "output_type": "stream",
     "text": [
      "90\n",
      "(480, 852, 3)\n",
      "1\n",
      "181\n",
      "(480, 852, 3)\n",
      "1\n",
      "272\n",
      "(480, 852, 3)\n",
      "1\n",
      "363\n",
      "(480, 852, 3)\n",
      "1\n"
     ]
    },
    {
     "name": "stderr",
     "output_type": "stream",
     "text": [
      "ERROR:root:An error occurred while processing faces: Given groups=1, weight of size [32, 3, 3, 3], expected input[1, 15, 160, 160] to have 3 channels, but got 15 channels instead\n"
     ]
    },
    {
     "name": "stdout",
     "output_type": "stream",
     "text": [
      "0\n",
      "(480, 852, 3)\n",
      "1\n",
      "107\n",
      "(480, 852, 3)\n",
      "1\n",
      "214\n",
      "(480, 852, 3)\n",
      "1\n",
      "321\n",
      "(480, 852, 3)\n",
      "1\n",
      "428\n",
      "(480, 852, 3)\n",
      "1\n"
     ]
    },
    {
     "name": "stderr",
     "output_type": "stream",
     "text": [
      "INFO:root:Video length: 450 frames\n"
     ]
    },
    {
     "name": "stdout",
     "output_type": "stream",
     "text": [
      "0\n",
      "(500, 888, 3)\n",
      "1\n",
      "112\n",
      "(500, 888, 3)\n",
      "1\n",
      "224\n",
      "(500, 888, 3)\n",
      "1\n",
      "336\n",
      "(500, 888, 3)\n",
      "1\n",
      "449\n",
      "(500, 888, 3)\n",
      "1\n"
     ]
    },
    {
     "name": "stderr",
     "output_type": "stream",
     "text": [
      "ERROR:root:An error occurred while processing faces: Given groups=1, weight of size [32, 3, 3, 3], expected input[1, 15, 160, 160] to have 3 channels, but got 15 channels instead\n",
      "INFO:root:Video length: 322 frames\n",
      "ERROR:root:An error occurred while processing faces: Given groups=1, weight of size [32, 3, 3, 3], expected input[1, 15, 160, 160] to have 3 channels, but got 15 channels instead\n",
      "INFO:root:Video length: 330 frames\n"
     ]
    },
    {
     "name": "stdout",
     "output_type": "stream",
     "text": [
      "0\n",
      "(500, 472, 3)\n",
      "1\n",
      "80\n",
      "(500, 472, 3)\n",
      "1\n",
      "160\n",
      "(500, 472, 3)\n",
      "1\n",
      "240\n",
      "(500, 472, 3)\n",
      "1\n",
      "321\n",
      "(500, 472, 3)\n",
      "1\n"
     ]
    },
    {
     "name": "stderr",
     "output_type": "stream",
     "text": [
      "ERROR:root:An error occurred while processing faces: Given groups=1, weight of size [32, 3, 3, 3], expected input[1, 15, 160, 160] to have 3 channels, but got 15 channels instead\n"
     ]
    },
    {
     "name": "stdout",
     "output_type": "stream",
     "text": [
      "0\n",
      "(472, 844, 3)\n",
      "1\n",
      "82\n",
      "(472, 844, 3)\n",
      "1\n",
      "164\n",
      "(472, 844, 3)\n",
      "1\n",
      "246\n",
      "(472, 844, 3)\n",
      "1\n",
      "329\n",
      "(472, 844, 3)\n",
      "1\n"
     ]
    },
    {
     "name": "stderr",
     "output_type": "stream",
     "text": [
      "INFO:root:Video length: 274 frames\n",
      "ERROR:root:An error occurred while processing faces: Given groups=1, weight of size [32, 3, 3, 3], expected input[1, 15, 160, 160] to have 3 channels, but got 15 channels instead\n"
     ]
    },
    {
     "name": "stdout",
     "output_type": "stream",
     "text": [
      "0\n",
      "(500, 894, 3)\n",
      "1\n",
      "68\n",
      "(500, 894, 3)\n",
      "1\n",
      "136\n",
      "(500, 894, 3)\n",
      "1\n",
      "204\n",
      "(500, 894, 3)\n",
      "1\n",
      "273\n",
      "(500, 894, 3)\n",
      "1\n"
     ]
    },
    {
     "name": "stderr",
     "output_type": "stream",
     "text": [
      "INFO:root:Video length: 284 frames\n"
     ]
    },
    {
     "name": "stdout",
     "output_type": "stream",
     "text": [
      "0\n",
      "(500, 950, 3)\n",
      "1\n",
      "70\n",
      "(500, 950, 3)\n",
      "1\n",
      "141\n",
      "(500, 950, 3)\n",
      "1\n",
      "212\n",
      "(500, 950, 3)\n",
      "1\n",
      "283\n",
      "(500, 950, 3)\n",
      "1\n"
     ]
    },
    {
     "name": "stderr",
     "output_type": "stream",
     "text": [
      "ERROR:root:An error occurred while processing faces: Given groups=1, weight of size [32, 3, 3, 3], expected input[1, 15, 160, 160] to have 3 channels, but got 15 channels instead\n",
      "INFO:root:Video length: 330 frames\n"
     ]
    },
    {
     "name": "stdout",
     "output_type": "stream",
     "text": [
      "0\n",
      "(472, 844, 3)\n",
      "1\n",
      "82\n",
      "(472, 844, 3)\n",
      "1\n",
      "164\n",
      "(472, 844, 3)\n",
      "1\n",
      "246\n",
      "(472, 844, 3)\n",
      "1\n",
      "329\n",
      "(472, 844, 3)\n",
      "1\n"
     ]
    },
    {
     "name": "stderr",
     "output_type": "stream",
     "text": [
      "ERROR:root:An error occurred while processing faces: Given groups=1, weight of size [32, 3, 3, 3], expected input[1, 15, 160, 160] to have 3 channels, but got 15 channels instead\n",
      "INFO:root:Video length: 323 frames\n",
      "ERROR:root:An error occurred while processing faces: Given groups=1, weight of size [32, 3, 3, 3], expected input[1, 15, 160, 160] to have 3 channels, but got 15 channels instead\n"
     ]
    },
    {
     "name": "stdout",
     "output_type": "stream",
     "text": [
      "0\n",
      "(474, 846, 3)\n",
      "1\n",
      "80\n",
      "(474, 846, 3)\n",
      "1\n",
      "161\n",
      "(474, 846, 3)\n",
      "1\n",
      "241\n",
      "(474, 846, 3)\n",
      "1\n",
      "322\n",
      "(474, 846, 3)\n",
      "1\n"
     ]
    },
    {
     "name": "stderr",
     "output_type": "stream",
     "text": [
      "INFO:root:Video length: 448 frames\n"
     ]
    },
    {
     "name": "stdout",
     "output_type": "stream",
     "text": [
      "0\n",
      "(478, 856, 3)\n",
      "1\n",
      "111\n",
      "(478, 856, 3)\n",
      "1\n",
      "223\n",
      "(478, 856, 3)\n",
      "1\n",
      "335\n",
      "(478, 856, 3)\n",
      "1\n",
      "447\n",
      "(478, 856, 3)\n",
      "1\n"
     ]
    },
    {
     "name": "stderr",
     "output_type": "stream",
     "text": [
      "ERROR:root:An error occurred while processing faces: Given groups=1, weight of size [32, 3, 3, 3], expected input[1, 15, 160, 160] to have 3 channels, but got 15 channels instead\n",
      "INFO:root:Video length: 461 frames\n"
     ]
    },
    {
     "name": "stdout",
     "output_type": "stream",
     "text": [
      "0\n",
      "(500, 944, 3)\n",
      "1\n",
      "115\n",
      "(500, 944, 3)\n",
      "1\n",
      "230\n",
      "(500, 944, 3)\n",
      "1\n",
      "345\n",
      "(500, 944, 3)\n",
      "1\n"
     ]
    },
    {
     "name": "stderr",
     "output_type": "stream",
     "text": [
      "ERROR:root:An error occurred while processing faces: Given groups=1, weight of size [32, 3, 3, 3], expected input[1, 15, 160, 160] to have 3 channels, but got 15 channels instead\n",
      "INFO:root:Video length: 317 frames\n"
     ]
    },
    {
     "name": "stdout",
     "output_type": "stream",
     "text": [
      "460\n",
      "(500, 944, 3)\n",
      "1\n",
      "0\n",
      "(472, 848, 3)\n",
      "1\n",
      "79\n",
      "(472, 848, 3)\n",
      "1\n",
      "158\n",
      "(472, 848, 3)\n",
      "1\n",
      "237\n",
      "(472, 848, 3)\n",
      "1\n",
      "316\n",
      "(472, 848, 3)\n",
      "1\n"
     ]
    },
    {
     "name": "stderr",
     "output_type": "stream",
     "text": [
      "ERROR:root:An error occurred while processing faces: Given groups=1, weight of size [32, 3, 3, 3], expected input[1, 15, 160, 160] to have 3 channels, but got 15 channels instead\n",
      "INFO:root:Video length: 337 frames\n",
      "ERROR:root:An error occurred while processing faces: Given groups=1, weight of size [32, 3, 3, 3], expected input[1, 15, 160, 160] to have 3 channels, but got 15 channels instead\n"
     ]
    },
    {
     "name": "stdout",
     "output_type": "stream",
     "text": [
      "0\n",
      "(452, 844, 3)\n",
      "1\n",
      "84\n",
      "(452, 844, 3)\n",
      "1\n",
      "168\n",
      "(452, 844, 3)\n",
      "1\n",
      "252\n",
      "(452, 844, 3)\n",
      "1\n",
      "336\n",
      "(452, 844, 3)\n",
      "1\n"
     ]
    },
    {
     "name": "stderr",
     "output_type": "stream",
     "text": [
      "INFO:root:Video length: 261 frames\n"
     ]
    },
    {
     "name": "stdout",
     "output_type": "stream",
     "text": [
      "0\n",
      "(478, 856, 3)\n",
      "1\n",
      "65\n",
      "(478, 856, 3)\n",
      "1\n",
      "130\n",
      "(478, 856, 3)\n",
      "1\n",
      "195\n",
      "(478, 856, 3)\n",
      "1\n",
      "260\n",
      "(478, 856, 3)\n",
      "1\n"
     ]
    },
    {
     "name": "stderr",
     "output_type": "stream",
     "text": [
      "ERROR:root:An error occurred while processing faces: Given groups=1, weight of size [32, 3, 3, 3], expected input[1, 15, 160, 160] to have 3 channels, but got 15 channels instead\n",
      "INFO:root:Video length: 321 frames\n",
      "ERROR:root:An error occurred while processing faces: Given groups=1, weight of size [32, 3, 3, 3], expected input[1, 15, 160, 160] to have 3 channels, but got 15 channels instead\n",
      "INFO:root:Video length: 298 frames\n"
     ]
    },
    {
     "name": "stdout",
     "output_type": "stream",
     "text": [
      "0\n",
      "(466, 848, 3)\n",
      "1\n",
      "80\n",
      "(466, 848, 3)\n",
      "1\n",
      "160\n",
      "(466, 848, 3)\n",
      "1\n",
      "240\n",
      "(466, 848, 3)\n",
      "1\n",
      "320\n",
      "(466, 848, 3)\n",
      "1\n",
      "0\n",
      "(500, 894, 3)\n",
      "1\n"
     ]
    },
    {
     "name": "stderr",
     "output_type": "stream",
     "text": [
      "ERROR:root:An error occurred while processing faces: Given groups=1, weight of size [32, 3, 3, 3], expected input[1, 15, 160, 160] to have 3 channels, but got 15 channels instead\n",
      "INFO:root:Video length: 293 frames\n"
     ]
    },
    {
     "name": "stdout",
     "output_type": "stream",
     "text": [
      "74\n",
      "(500, 894, 3)\n",
      "1\n",
      "148\n",
      "(500, 894, 3)\n",
      "1\n",
      "222\n",
      "(500, 894, 3)\n",
      "1\n",
      "297\n",
      "(500, 894, 3)\n",
      "1\n",
      "0\n",
      "(500, 892, 3)\n",
      "1\n",
      "73\n",
      "(500, 892, 3)\n",
      "1\n"
     ]
    },
    {
     "name": "stderr",
     "output_type": "stream",
     "text": [
      "ERROR:root:An error occurred while processing faces: Given groups=1, weight of size [32, 3, 3, 3], expected input[1, 15, 160, 160] to have 3 channels, but got 15 channels instead\n",
      "INFO:root:Video length: 422 frames\n"
     ]
    },
    {
     "name": "stdout",
     "output_type": "stream",
     "text": [
      "146\n",
      "(500, 892, 3)\n",
      "1\n",
      "219\n",
      "(500, 892, 3)\n",
      "1\n",
      "292\n",
      "(500, 892, 3)\n",
      "1\n",
      "0\n",
      "(500, 510, 3)\n",
      "1\n",
      "105\n",
      "(500, 510, 3)\n",
      "1\n"
     ]
    },
    {
     "name": "stderr",
     "output_type": "stream",
     "text": [
      "ERROR:root:An error occurred while processing faces: Given groups=1, weight of size [32, 3, 3, 3], expected input[1, 15, 160, 160] to have 3 channels, but got 15 channels instead\n",
      "INFO:root:Video length: 398 frames\n"
     ]
    },
    {
     "name": "stdout",
     "output_type": "stream",
     "text": [
      "210\n",
      "(500, 510, 3)\n",
      "1\n",
      "315\n",
      "(500, 510, 3)\n",
      "1\n",
      "421\n",
      "(500, 510, 3)\n",
      "1\n",
      "0\n",
      "(500, 490, 3)\n",
      "1\n",
      "99\n",
      "(500, 490, 3)\n",
      "1\n",
      "198\n",
      "(500, 490, 3)\n",
      "1\n"
     ]
    },
    {
     "name": "stderr",
     "output_type": "stream",
     "text": [
      "ERROR:root:An error occurred while processing faces: Given groups=1, weight of size [32, 3, 3, 3], expected input[1, 15, 160, 160] to have 3 channels, but got 15 channels instead\n",
      "INFO:root:Video length: 309 frames\n"
     ]
    },
    {
     "name": "stdout",
     "output_type": "stream",
     "text": [
      "297\n",
      "(500, 490, 3)\n",
      "1\n",
      "397\n",
      "(500, 490, 3)\n",
      "1\n",
      "0\n",
      "(500, 742, 3)\n",
      "1\n",
      "77\n",
      "(500, 742, 3)\n",
      "1\n",
      "154\n",
      "(500, 742, 3)\n",
      "1\n"
     ]
    },
    {
     "name": "stderr",
     "output_type": "stream",
     "text": [
      "ERROR:root:An error occurred while processing faces: Given groups=1, weight of size [32, 3, 3, 3], expected input[1, 15, 160, 160] to have 3 channels, but got 15 channels instead\n",
      "INFO:root:Video length: 496 frames\n"
     ]
    },
    {
     "name": "stdout",
     "output_type": "stream",
     "text": [
      "231\n",
      "(500, 742, 3)\n",
      "1\n",
      "308\n",
      "(500, 742, 3)\n",
      "1\n",
      "0\n",
      "(500, 956, 3)\n",
      "1\n",
      "123\n",
      "(500, 956, 3)\n",
      "1\n",
      "247\n",
      "(500, 956, 3)\n",
      "1\n",
      "371\n",
      "(500, 956, 3)\n",
      "1\n"
     ]
    },
    {
     "name": "stderr",
     "output_type": "stream",
     "text": [
      "ERROR:root:An error occurred while processing faces: Given groups=1, weight of size [32, 3, 3, 3], expected input[1, 15, 160, 160] to have 3 channels, but got 15 channels instead\n",
      "INFO:root:Video length: 351 frames\n"
     ]
    },
    {
     "name": "stdout",
     "output_type": "stream",
     "text": [
      "495\n",
      "(500, 956, 3)\n",
      "1\n",
      "0\n",
      "(478, 856, 3)\n",
      "1\n",
      "87\n",
      "(478, 856, 3)\n",
      "1\n",
      "175\n",
      "(478, 856, 3)\n",
      "1\n",
      "262\n",
      "(478, 856, 3)\n",
      "1\n",
      "350\n",
      "(478, 856, 3)\n"
     ]
    },
    {
     "name": "stderr",
     "output_type": "stream",
     "text": [
      "ERROR:root:An error occurred while processing faces: Given groups=1, weight of size [32, 3, 3, 3], expected input[1, 15, 160, 160] to have 3 channels, but got 15 channels instead\n",
      "INFO:root:Video length: 318 frames\n"
     ]
    },
    {
     "name": "stdout",
     "output_type": "stream",
     "text": [
      "1\n",
      "0\n",
      "(458, 834, 3)\n",
      "1\n",
      "79\n",
      "(458, 834, 3)\n",
      "1\n",
      "158\n",
      "(458, 834, 3)\n",
      "1\n",
      "237\n",
      "(458, 834, 3)\n",
      "1\n"
     ]
    },
    {
     "name": "stderr",
     "output_type": "stream",
     "text": [
      "ERROR:root:An error occurred while processing faces: Given groups=1, weight of size [32, 3, 3, 3], expected input[1, 15, 160, 160] to have 3 channels, but got 15 channels instead\n",
      "INFO:root:Video length: 449 frames\n"
     ]
    },
    {
     "name": "stdout",
     "output_type": "stream",
     "text": [
      "317\n",
      "(458, 834, 3)\n",
      "1\n",
      "0\n",
      "(478, 856, 3)\n",
      "1\n",
      "112\n",
      "(478, 856, 3)\n",
      "1\n",
      "224\n",
      "(478, 856, 3)\n",
      "1\n",
      "336\n",
      "(478, 856, 3)\n",
      "1\n"
     ]
    },
    {
     "name": "stderr",
     "output_type": "stream",
     "text": [
      "ERROR:root:An error occurred while processing faces: Given groups=1, weight of size [32, 3, 3, 3], expected input[1, 15, 160, 160] to have 3 channels, but got 15 channels instead\n",
      "INFO:root:Video length: 341 frames\n"
     ]
    },
    {
     "name": "stdout",
     "output_type": "stream",
     "text": [
      "448\n",
      "(478, 856, 3)\n",
      "1\n",
      "0\n",
      "(476, 856, 3)\n",
      "1\n",
      "85\n",
      "(476, 856, 3)\n",
      "1\n",
      "170\n",
      "(476, 856, 3)\n",
      "1\n",
      "255\n",
      "(476, 856, 3)\n",
      "1\n",
      "340\n",
      "(476, 856, 3)\n",
      "1\n"
     ]
    },
    {
     "name": "stderr",
     "output_type": "stream",
     "text": [
      "ERROR:root:An error occurred while processing faces: Given groups=1, weight of size [32, 3, 3, 3], expected input[1, 15, 160, 160] to have 3 channels, but got 15 channels instead\n",
      "INFO:root:Video length: 315 frames\n"
     ]
    },
    {
     "name": "stdout",
     "output_type": "stream",
     "text": [
      "0\n",
      "(500, 950, 3)\n",
      "1\n",
      "78\n",
      "(500, 950, 3)\n",
      "1\n",
      "157\n",
      "(500, 950, 3)\n",
      "1\n",
      "235\n",
      "(500, 950, 3)\n",
      "1\n",
      "314\n",
      "(500, 950, 3)\n",
      "1\n"
     ]
    },
    {
     "name": "stderr",
     "output_type": "stream",
     "text": [
      "ERROR:root:An error occurred while processing faces: Given groups=1, weight of size [32, 3, 3, 3], expected input[1, 15, 160, 160] to have 3 channels, but got 15 channels instead\n",
      "INFO:root:Video length: 307 frames\n",
      "ERROR:root:An error occurred while processing faces: Given groups=1, weight of size [32, 3, 3, 3], expected input[1, 15, 160, 160] to have 3 channels, but got 15 channels instead\n",
      "INFO:root:Video length: 387 frames\n"
     ]
    },
    {
     "name": "stdout",
     "output_type": "stream",
     "text": [
      "0\n",
      "(458, 834, 3)\n",
      "1\n",
      "76\n",
      "(458, 834, 3)\n",
      "1\n",
      "153\n",
      "(458, 834, 3)\n",
      "1\n",
      "229\n",
      "(458, 834, 3)\n",
      "1\n",
      "306\n",
      "(458, 834, 3)\n",
      "1\n",
      "0\n",
      "(500, 942, 3)\n",
      "1\n"
     ]
    },
    {
     "name": "stderr",
     "output_type": "stream",
     "text": [
      "ERROR:root:An error occurred while processing faces: Given groups=1, weight of size [32, 3, 3, 3], expected input[1, 15, 160, 160] to have 3 channels, but got 15 channels instead\n",
      "INFO:root:Video length: 342 frames\n"
     ]
    },
    {
     "name": "stdout",
     "output_type": "stream",
     "text": [
      "96\n",
      "(500, 942, 3)\n",
      "1\n",
      "193\n",
      "(500, 942, 3)\n",
      "1\n",
      "289\n",
      "(500, 942, 3)\n",
      "1\n",
      "386\n",
      "(500, 942, 3)\n",
      "1\n",
      "0\n",
      "(456, 694, 3)\n",
      "1\n",
      "85\n",
      "(456, 694, 3)\n",
      "1\n"
     ]
    },
    {
     "name": "stderr",
     "output_type": "stream",
     "text": [
      "ERROR:root:An error occurred while processing faces: Given groups=1, weight of size [32, 3, 3, 3], expected input[1, 15, 160, 160] to have 3 channels, but got 15 channels instead\n",
      "INFO:root:Video length: 465 frames\n"
     ]
    },
    {
     "name": "stdout",
     "output_type": "stream",
     "text": [
      "170\n",
      "(456, 694, 3)\n",
      "1\n",
      "255\n",
      "(456, 694, 3)\n",
      "1\n",
      "341\n",
      "(456, 694, 3)\n",
      "1\n",
      "0\n",
      "(472, 850, 3)\n",
      "1\n",
      "116\n",
      "(472, 850, 3)\n",
      "1\n"
     ]
    },
    {
     "name": "stderr",
     "output_type": "stream",
     "text": [
      "ERROR:root:An error occurred while processing faces: Given groups=1, weight of size [32, 3, 3, 3], expected input[1, 15, 160, 160] to have 3 channels, but got 15 channels instead\n",
      "INFO:root:Video length: 483 frames\n"
     ]
    },
    {
     "name": "stdout",
     "output_type": "stream",
     "text": [
      "232\n",
      "(472, 850, 3)\n",
      "1\n",
      "348\n",
      "(472, 850, 3)\n",
      "1\n",
      "464\n",
      "(472, 850, 3)\n",
      "1\n",
      "0\n",
      "(500, 944, 3)\n",
      "1\n",
      "120\n",
      "(500, 944, 3)\n",
      "1\n"
     ]
    },
    {
     "name": "stderr",
     "output_type": "stream",
     "text": [
      "ERROR:root:An error occurred while processing faces: Given groups=1, weight of size [32, 3, 3, 3], expected input[1, 15, 160, 160] to have 3 channels, but got 15 channels instead\n",
      "INFO:root:Video length: 297 frames\n"
     ]
    },
    {
     "name": "stdout",
     "output_type": "stream",
     "text": [
      "241\n",
      "(500, 944, 3)\n",
      "1\n",
      "361\n",
      "(500, 944, 3)\n",
      "1\n",
      "482\n",
      "(500, 944, 3)\n",
      "1\n",
      "0\n",
      "(478, 856, 3)\n",
      "1\n",
      "74\n",
      "(478, 856, 3)\n",
      "1\n"
     ]
    },
    {
     "name": "stderr",
     "output_type": "stream",
     "text": [
      "ERROR:root:An error occurred while processing faces: Given groups=1, weight of size [32, 3, 3, 3], expected input[1, 15, 160, 160] to have 3 channels, but got 15 channels instead\n",
      "INFO:root:Video length: 312 frames\n"
     ]
    },
    {
     "name": "stdout",
     "output_type": "stream",
     "text": [
      "148\n",
      "(478, 856, 3)\n",
      "1\n",
      "222\n",
      "(478, 856, 3)\n",
      "1\n",
      "296\n",
      "(478, 856, 3)\n",
      "1\n",
      "0\n",
      "(500, 894, 3)\n",
      "1\n",
      "77\n",
      "(500, 894, 3)\n",
      "1\n"
     ]
    },
    {
     "name": "stderr",
     "output_type": "stream",
     "text": [
      "ERROR:root:An error occurred while processing faces: Given groups=1, weight of size [32, 3, 3, 3], expected input[1, 15, 160, 160] to have 3 channels, but got 15 channels instead\n",
      "INFO:root:Video length: 497 frames\n"
     ]
    },
    {
     "name": "stdout",
     "output_type": "stream",
     "text": [
      "155\n",
      "(500, 894, 3)\n",
      "1\n",
      "233\n",
      "(500, 894, 3)\n",
      "1\n",
      "311\n",
      "(500, 894, 3)\n",
      "1\n",
      "0\n",
      "(500, 942, 3)\n",
      "1\n",
      "124\n",
      "(500, 942, 3)\n",
      "1\n"
     ]
    },
    {
     "name": "stderr",
     "output_type": "stream",
     "text": [
      "ERROR:root:An error occurred while processing faces: Given groups=1, weight of size [32, 3, 3, 3], expected input[1, 15, 160, 160] to have 3 channels, but got 15 channels instead\n",
      "INFO:root:Video length: 520 frames\n"
     ]
    },
    {
     "name": "stdout",
     "output_type": "stream",
     "text": [
      "248\n",
      "(500, 942, 3)\n",
      "1\n",
      "372\n",
      "(500, 942, 3)\n",
      "1\n",
      "496\n",
      "(500, 942, 3)\n",
      "1\n",
      "0\n",
      "(500, 944, 3)\n",
      "1\n"
     ]
    },
    {
     "name": "stderr",
     "output_type": "stream",
     "text": [
      "ERROR:root:An error occurred while processing faces: Given groups=1, weight of size [32, 3, 3, 3], expected input[1, 15, 160, 160] to have 3 channels, but got 15 channels instead\n",
      "INFO:root:Video length: 342 frames\n"
     ]
    },
    {
     "name": "stdout",
     "output_type": "stream",
     "text": [
      "129\n",
      "(500, 944, 3)\n",
      "1\n",
      "259\n",
      "(500, 944, 3)\n",
      "1\n",
      "389\n",
      "(500, 944, 3)\n",
      "1\n",
      "519\n",
      "(500, 944, 3)\n",
      "1\n",
      "0\n",
      "(468, 842, 3)\n",
      "1\n"
     ]
    },
    {
     "name": "stderr",
     "output_type": "stream",
     "text": [
      "ERROR:root:An error occurred while processing faces: Given groups=1, weight of size [32, 3, 3, 3], expected input[1, 15, 160, 160] to have 3 channels, but got 15 channels instead\n",
      "INFO:root:Video length: 451 frames\n"
     ]
    },
    {
     "name": "stdout",
     "output_type": "stream",
     "text": [
      "85\n",
      "(468, 842, 3)\n",
      "1\n",
      "170\n",
      "(468, 842, 3)\n",
      "1\n",
      "255\n",
      "(468, 842, 3)\n",
      "1\n",
      "341\n",
      "(468, 842, 3)\n",
      "1\n",
      "0\n",
      "(500, 590, 3)\n",
      "1\n",
      "112\n",
      "(500, 590, 3)\n",
      "1\n"
     ]
    },
    {
     "name": "stderr",
     "output_type": "stream",
     "text": [
      "ERROR:root:An error occurred while processing faces: Given groups=1, weight of size [32, 3, 3, 3], expected input[1, 15, 160, 160] to have 3 channels, but got 15 channels instead\n",
      "INFO:root:Video length: 311 frames\n"
     ]
    },
    {
     "name": "stdout",
     "output_type": "stream",
     "text": [
      "225\n",
      "(500, 590, 3)\n",
      "1\n",
      "337\n",
      "(500, 590, 3)\n",
      "1\n",
      "450\n",
      "(500, 590, 3)\n",
      "1\n",
      "0\n",
      "(500, 620, 3)\n",
      "1\n",
      "77\n",
      "(500, 620, 3)\n",
      "1\n",
      "155\n",
      "(500, 620, 3)\n",
      "1\n"
     ]
    },
    {
     "name": "stderr",
     "output_type": "stream",
     "text": [
      "ERROR:root:An error occurred while processing faces: Given groups=1, weight of size [32, 3, 3, 3], expected input[1, 15, 160, 160] to have 3 channels, but got 15 channels instead\n",
      "INFO:root:Video length: 266 frames\n"
     ]
    },
    {
     "name": "stdout",
     "output_type": "stream",
     "text": [
      "232\n",
      "(500, 620, 3)\n",
      "1\n",
      "310\n",
      "(500, 620, 3)\n",
      "1\n",
      "0\n",
      "(466, 848, 3)\n",
      "1\n",
      "66\n",
      "(466, 848, 3)\n",
      "1\n",
      "132\n",
      "(466, 848, 3)\n",
      "1\n",
      "198\n",
      "(466, 848, 3)\n",
      "1\n"
     ]
    },
    {
     "name": "stderr",
     "output_type": "stream",
     "text": [
      "ERROR:root:An error occurred while processing faces: Given groups=1, weight of size [32, 3, 3, 3], expected input[1, 15, 160, 160] to have 3 channels, but got 15 channels instead\n",
      "INFO:root:Video length: 365 frames\n"
     ]
    },
    {
     "name": "stdout",
     "output_type": "stream",
     "text": [
      "265\n",
      "(466, 848, 3)\n",
      "1\n",
      "0\n",
      "(472, 850, 3)\n",
      "1\n",
      "91\n",
      "(472, 850, 3)\n",
      "1\n",
      "182\n",
      "(472, 850, 3)\n",
      "1\n"
     ]
    },
    {
     "name": "stderr",
     "output_type": "stream",
     "text": [
      "ERROR:root:An error occurred while processing faces: Given groups=1, weight of size [32, 3, 3, 3], expected input[1, 15, 160, 160] to have 3 channels, but got 15 channels instead\n",
      "INFO:root:Video length: 459 frames\n"
     ]
    },
    {
     "name": "stdout",
     "output_type": "stream",
     "text": [
      "273\n",
      "(472, 850, 3)\n",
      "1\n",
      "364\n",
      "(472, 850, 3)\n",
      "1\n",
      "0\n",
      "(500, 892, 3)\n",
      "1\n",
      "114\n",
      "(500, 892, 3)\n",
      "1\n",
      "229\n",
      "(500, 892, 3)\n",
      "1\n"
     ]
    },
    {
     "name": "stderr",
     "output_type": "stream",
     "text": [
      "ERROR:root:An error occurred while processing faces: Given groups=1, weight of size [32, 3, 3, 3], expected input[1, 15, 160, 160] to have 3 channels, but got 15 channels instead\n",
      "INFO:root:Video length: 318 frames\n"
     ]
    },
    {
     "name": "stdout",
     "output_type": "stream",
     "text": [
      "343\n",
      "(500, 892, 3)\n",
      "1\n",
      "458\n",
      "(500, 892, 3)\n",
      "1\n",
      "0\n",
      "(476, 846, 3)\n",
      "1\n",
      "79\n",
      "(476, 846, 3)\n",
      "1\n",
      "158\n",
      "(476, 846, 3)\n",
      "1\n",
      "237\n",
      "(476, 846, 3)\n",
      "1\n"
     ]
    },
    {
     "name": "stderr",
     "output_type": "stream",
     "text": [
      "ERROR:root:An error occurred while processing faces: Given groups=1, weight of size [32, 3, 3, 3], expected input[1, 15, 160, 160] to have 3 channels, but got 15 channels instead\n",
      "INFO:root:Video length: 272 frames\n"
     ]
    },
    {
     "name": "stdout",
     "output_type": "stream",
     "text": [
      "317\n",
      "(476, 846, 3)\n",
      "1\n",
      "0\n",
      "(500, 532, 3)\n",
      "1\n",
      "67\n",
      "(500, 532, 3)\n",
      "1\n",
      "135\n",
      "(500, 532, 3)\n",
      "1\n",
      "203\n",
      "(500, 532, 3)\n",
      "1\n",
      "271\n",
      "(500, 532, 3)\n",
      "1\n"
     ]
    },
    {
     "name": "stderr",
     "output_type": "stream",
     "text": [
      "ERROR:root:An error occurred while processing faces: Given groups=1, weight of size [32, 3, 3, 3], expected input[1, 15, 160, 160] to have 3 channels, but got 15 channels instead\n",
      "INFO:root:Video length: 492 frames\n",
      "ERROR:root:An error occurred while processing faces: Given groups=1, weight of size [32, 3, 3, 3], expected input[1, 15, 160, 160] to have 3 channels, but got 15 channels instead\n"
     ]
    },
    {
     "name": "stdout",
     "output_type": "stream",
     "text": [
      "0\n",
      "(478, 856, 3)\n",
      "1\n",
      "122\n",
      "(478, 856, 3)\n",
      "1\n",
      "245\n",
      "(478, 856, 3)\n",
      "1\n",
      "368\n",
      "(478, 856, 3)\n",
      "1\n",
      "491\n",
      "(478, 856, 3)\n",
      "1\n"
     ]
    },
    {
     "name": "stderr",
     "output_type": "stream",
     "text": [
      "INFO:root:Video length: 349 frames\n",
      "ERROR:root:An error occurred while processing faces: Given groups=1, weight of size [32, 3, 3, 3], expected input[1, 15, 160, 160] to have 3 channels, but got 15 channels instead\n"
     ]
    },
    {
     "name": "stdout",
     "output_type": "stream",
     "text": [
      "0\n",
      "(500, 952, 3)\n",
      "1\n",
      "87\n",
      "(500, 952, 3)\n",
      "1\n",
      "174\n",
      "(500, 952, 3)\n",
      "1\n",
      "261\n",
      "(500, 952, 3)\n",
      "1\n",
      "348\n",
      "(500, 952, 3)\n",
      "1\n"
     ]
    },
    {
     "name": "stderr",
     "output_type": "stream",
     "text": [
      "INFO:root:Video length: 380 frames\n"
     ]
    },
    {
     "name": "stdout",
     "output_type": "stream",
     "text": [
      "0\n",
      "(500, 642, 3)\n",
      "1\n",
      "94\n",
      "(500, 642, 3)\n",
      "1\n",
      "189\n",
      "(500, 642, 3)\n",
      "1\n",
      "284\n",
      "(500, 642, 3)\n",
      "1\n",
      "379\n",
      "(500, 642, 3)\n",
      "1\n"
     ]
    },
    {
     "name": "stderr",
     "output_type": "stream",
     "text": [
      "ERROR:root:An error occurred while processing faces: Given groups=1, weight of size [32, 3, 3, 3], expected input[1, 15, 160, 160] to have 3 channels, but got 15 channels instead\n",
      "INFO:root:Video length: 334 frames\n",
      "ERROR:root:An error occurred while processing faces: Given groups=1, weight of size [32, 3, 3, 3], expected input[1, 15, 160, 160] to have 3 channels, but got 15 channels instead\n",
      "INFO:root:Video length: 465 frames\n"
     ]
    },
    {
     "name": "stdout",
     "output_type": "stream",
     "text": [
      "0\n",
      "(500, 556, 3)\n",
      "1\n",
      "83\n",
      "(500, 556, 3)\n",
      "1\n",
      "166\n",
      "(500, 556, 3)\n",
      "1\n",
      "249\n",
      "(500, 556, 3)\n",
      "1\n",
      "333\n",
      "(500, 556, 3)\n",
      "1\n",
      "0\n",
      "(472, 850, 3)\n",
      "1\n",
      "116\n",
      "(472, 850, 3)\n",
      "1\n",
      "232\n",
      "(472, 850, 3)\n",
      "1\n",
      "348\n",
      "(472, 850, 3)\n",
      "1\n",
      "464\n",
      "(472, 850, 3)\n",
      "1\n"
     ]
    },
    {
     "name": "stderr",
     "output_type": "stream",
     "text": [
      "ERROR:root:An error occurred while processing faces: Given groups=1, weight of size [32, 3, 3, 3], expected input[1, 15, 160, 160] to have 3 channels, but got 15 channels instead\n",
      "INFO:root:Video length: 491 frames\n"
     ]
    },
    {
     "name": "stdout",
     "output_type": "stream",
     "text": [
      "0\n",
      "(500, 944, 3)\n",
      "1\n",
      "122\n",
      "(500, 944, 3)\n",
      "1\n",
      "245\n",
      "(500, 944, 3)\n",
      "1\n",
      "367\n",
      "(500, 944, 3)\n",
      "1\n",
      "490\n"
     ]
    },
    {
     "name": "stderr",
     "output_type": "stream",
     "text": [
      "ERROR:root:An error occurred while processing faces: Given groups=1, weight of size [32, 3, 3, 3], expected input[1, 15, 160, 160] to have 3 channels, but got 15 channels instead\n",
      "INFO:root:Video length: 480 frames\n"
     ]
    },
    {
     "name": "stdout",
     "output_type": "stream",
     "text": [
      "(500, 944, 3)\n",
      "1\n",
      "0\n",
      "(466, 848, 3)\n",
      "1\n",
      "119\n",
      "(466, 848, 3)\n",
      "1\n",
      "239\n",
      "(466, 848, 3)\n",
      "1\n",
      "359\n",
      "(466, 848, 3)\n",
      "1\n"
     ]
    },
    {
     "name": "stderr",
     "output_type": "stream",
     "text": [
      "ERROR:root:An error occurred while processing faces: Given groups=1, weight of size [32, 3, 3, 3], expected input[1, 15, 160, 160] to have 3 channels, but got 15 channels instead\n",
      "INFO:root:Video length: 333 frames\n"
     ]
    },
    {
     "name": "stdout",
     "output_type": "stream",
     "text": [
      "479\n",
      "(466, 848, 3)\n",
      "1\n",
      "0\n",
      "(472, 848, 3)\n",
      "1\n",
      "83\n",
      "(472, 848, 3)\n",
      "1\n",
      "166\n",
      "(472, 848, 3)\n",
      "1\n",
      "249\n",
      "(472, 848, 3)\n",
      "1\n",
      "332\n",
      "(472, 848, 3)\n",
      "1\n"
     ]
    },
    {
     "name": "stderr",
     "output_type": "stream",
     "text": [
      "ERROR:root:An error occurred while processing faces: Given groups=1, weight of size [32, 3, 3, 3], expected input[1, 15, 160, 160] to have 3 channels, but got 15 channels instead\n",
      "INFO:root:Video length: 441 frames\n"
     ]
    },
    {
     "name": "stdout",
     "output_type": "stream",
     "text": [
      "0\n",
      "(478, 856, 3)\n",
      "1\n",
      "110\n",
      "(478, 856, 3)\n",
      "1\n",
      "220\n",
      "(478, 856, 3)\n",
      "1\n",
      "330\n",
      "(478, 856, 3)\n",
      "1\n"
     ]
    },
    {
     "name": "stderr",
     "output_type": "stream",
     "text": [
      "ERROR:root:An error occurred while processing faces: Given groups=1, weight of size [32, 3, 3, 3], expected input[1, 15, 160, 160] to have 3 channels, but got 15 channels instead\n",
      "INFO:root:Video length: 321 frames\n"
     ]
    },
    {
     "name": "stdout",
     "output_type": "stream",
     "text": [
      "440\n",
      "(478, 856, 3)\n",
      "1\n",
      "0\n",
      "(466, 848, 3)\n",
      "1\n",
      "80\n",
      "(466, 848, 3)\n",
      "1\n",
      "160\n",
      "(466, 848, 3)\n",
      "1\n",
      "240\n",
      "(466, 848, 3)\n",
      "1\n",
      "320\n",
      "(466, 848, 3)\n",
      "1\n"
     ]
    },
    {
     "name": "stderr",
     "output_type": "stream",
     "text": [
      "ERROR:root:An error occurred while processing faces: Given groups=1, weight of size [32, 3, 3, 3], expected input[1, 15, 160, 160] to have 3 channels, but got 15 channels instead\n",
      "INFO:root:Video length: 291 frames\n",
      "ERROR:root:An error occurred while processing faces: Given groups=1, weight of size [32, 3, 3, 3], expected input[1, 15, 160, 160] to have 3 channels, but got 15 channels instead\n",
      "INFO:root:Video length: 466 frames\n"
     ]
    },
    {
     "name": "stdout",
     "output_type": "stream",
     "text": [
      "0\n",
      "(466, 744, 3)\n",
      "1\n",
      "72\n",
      "(466, 744, 3)\n",
      "1\n",
      "145\n",
      "(466, 744, 3)\n",
      "1\n",
      "217\n",
      "(466, 744, 3)\n",
      "1\n",
      "290\n",
      "(466, 744, 3)\n",
      "1\n",
      "0\n",
      "(478, 856, 3)\n",
      "1\n"
     ]
    },
    {
     "name": "stderr",
     "output_type": "stream",
     "text": [
      "ERROR:root:An error occurred while processing faces: Given groups=1, weight of size [32, 3, 3, 3], expected input[1, 15, 160, 160] to have 3 channels, but got 15 channels instead\n",
      "INFO:root:Video length: 527 frames\n"
     ]
    },
    {
     "name": "stdout",
     "output_type": "stream",
     "text": [
      "116\n",
      "(478, 856, 3)\n",
      "1\n",
      "232\n",
      "(478, 856, 3)\n",
      "1\n",
      "348\n",
      "(478, 856, 3)\n",
      "1\n",
      "465\n",
      "(478, 856, 3)\n",
      "1\n",
      "0\n",
      "(478, 856, 3)\n",
      "1\n"
     ]
    },
    {
     "name": "stderr",
     "output_type": "stream",
     "text": [
      "ERROR:root:An error occurred while processing faces: Given groups=1, weight of size [32, 3, 3, 3], expected input[1, 15, 160, 160] to have 3 channels, but got 15 channels instead\n",
      "INFO:root:Video length: 483 frames\n"
     ]
    },
    {
     "name": "stdout",
     "output_type": "stream",
     "text": [
      "131\n",
      "(478, 856, 3)\n",
      "1\n",
      "263\n",
      "(478, 856, 3)\n",
      "1\n",
      "394\n",
      "(478, 856, 3)\n",
      "1\n",
      "526\n",
      "(478, 856, 3)\n",
      "1\n",
      "0\n",
      "(500, 942, 3)\n",
      "1\n",
      "120\n",
      "(500, 942, 3)\n",
      "1\n",
      "241\n",
      "(500, 942, 3)\n",
      "1\n",
      "361\n",
      "(500, 942, 3)\n",
      "1\n",
      "482\n",
      "(500, 942, 3)\n",
      "1\n"
     ]
    },
    {
     "name": "stderr",
     "output_type": "stream",
     "text": [
      "ERROR:root:An error occurred while processing faces: Given groups=1, weight of size [32, 3, 3, 3], expected input[1, 15, 160, 160] to have 3 channels, but got 15 channels instead\n",
      "INFO:root:Video length: 435 frames\n"
     ]
    },
    {
     "name": "stdout",
     "output_type": "stream",
     "text": [
      "0\n",
      "(500, 944, 3)\n",
      "1\n",
      "108\n",
      "(500, 944, 3)\n",
      "1\n",
      "217\n",
      "(500, 944, 3)\n",
      "1\n",
      "325\n",
      "(500, 944, 3)\n",
      "1\n",
      "434\n",
      "(500, 944, 3)\n",
      "1\n"
     ]
    },
    {
     "name": "stderr",
     "output_type": "stream",
     "text": [
      "ERROR:root:An error occurred while processing faces: Given groups=1, weight of size [32, 3, 3, 3], expected input[1, 15, 160, 160] to have 3 channels, but got 15 channels instead\n",
      "INFO:root:Video length: 341 frames\n",
      "ERROR:root:An error occurred while processing faces: Given groups=1, weight of size [32, 3, 3, 3], expected input[1, 15, 160, 160] to have 3 channels, but got 15 channels instead\n"
     ]
    },
    {
     "name": "stdout",
     "output_type": "stream",
     "text": [
      "0\n",
      "(472, 850, 3)\n",
      "1\n",
      "85\n",
      "(472, 850, 3)\n",
      "1\n",
      "170\n",
      "(472, 850, 3)\n",
      "1\n",
      "255\n",
      "(472, 850, 3)\n",
      "1\n",
      "340\n",
      "(472, 850, 3)\n",
      "1\n"
     ]
    },
    {
     "name": "stderr",
     "output_type": "stream",
     "text": [
      "INFO:root:Video length: 308 frames\n"
     ]
    },
    {
     "name": "stdout",
     "output_type": "stream",
     "text": [
      "0\n",
      "(472, 850, 3)\n",
      "1\n",
      "76\n",
      "(472, 850, 3)\n",
      "1\n",
      "153\n",
      "(472, 850, 3)\n",
      "1\n",
      "230\n",
      "(472, 850, 3)\n",
      "1\n",
      "307\n",
      "(472, 850, 3)\n",
      "1\n"
     ]
    },
    {
     "name": "stderr",
     "output_type": "stream",
     "text": [
      "ERROR:root:An error occurred while processing faces: Given groups=1, weight of size [32, 3, 3, 3], expected input[1, 15, 160, 160] to have 3 channels, but got 15 channels instead\n",
      "INFO:root:Video length: 318 frames\n",
      "ERROR:root:An error occurred while processing faces: Given groups=1, weight of size [32, 3, 3, 3], expected input[1, 15, 160, 160] to have 3 channels, but got 15 channels instead\n",
      "INFO:root:Video length: 458 frames\n"
     ]
    },
    {
     "name": "stdout",
     "output_type": "stream",
     "text": [
      "0\n",
      "(476, 846, 3)\n",
      "1\n",
      "79\n",
      "(476, 846, 3)\n",
      "1\n",
      "158\n",
      "(476, 846, 3)\n",
      "1\n",
      "237\n",
      "(476, 846, 3)\n",
      "1\n",
      "317\n",
      "(476, 846, 3)\n",
      "1\n"
     ]
    },
    {
     "name": "stderr",
     "output_type": "stream",
     "text": [
      "ERROR:root:An error occurred while processing faces: Given groups=1, weight of size [32, 3, 3, 3], expected input[1, 15, 160, 160] to have 3 channels, but got 15 channels instead\n"
     ]
    },
    {
     "name": "stdout",
     "output_type": "stream",
     "text": [
      "0\n",
      "(500, 488, 3)\n",
      "1\n",
      "114\n",
      "(500, 488, 3)\n",
      "1\n",
      "228\n",
      "(500, 488, 3)\n",
      "1\n",
      "342\n",
      "(500, 488, 3)\n",
      "1\n",
      "457\n",
      "(500, 488, 3)\n",
      "1\n"
     ]
    },
    {
     "name": "stderr",
     "output_type": "stream",
     "text": [
      "INFO:root:Video length: 401 frames\n"
     ]
    },
    {
     "name": "stdout",
     "output_type": "stream",
     "text": [
      "0\n",
      "(500, 942, 3)\n",
      "1\n",
      "100\n",
      "(500, 942, 3)\n",
      "1\n",
      "200\n",
      "(500, 942, 3)\n",
      "1\n",
      "300\n",
      "(500, 942, 3)\n",
      "1\n",
      "400\n",
      "(500, 942, 3)\n",
      "1\n"
     ]
    },
    {
     "name": "stderr",
     "output_type": "stream",
     "text": [
      "ERROR:root:An error occurred while processing faces: Given groups=1, weight of size [32, 3, 3, 3], expected input[1, 15, 160, 160] to have 3 channels, but got 15 channels instead\n",
      "INFO:root:Video length: 423 frames\n"
     ]
    },
    {
     "name": "stdout",
     "output_type": "stream",
     "text": [
      "0\n",
      "(472, 850, 3)\n",
      "1\n",
      "105\n",
      "(472, 850, 3)\n",
      "1\n",
      "211\n",
      "(472, 850, 3)\n",
      "1\n"
     ]
    },
    {
     "name": "stderr",
     "output_type": "stream",
     "text": [
      "ERROR:root:An error occurred while processing faces: Given groups=1, weight of size [32, 3, 3, 3], expected input[1, 15, 160, 160] to have 3 channels, but got 15 channels instead\n",
      "INFO:root:Video length: 464 frames\n"
     ]
    },
    {
     "name": "stdout",
     "output_type": "stream",
     "text": [
      "316\n",
      "(472, 850, 3)\n",
      "1\n",
      "422\n",
      "(472, 850, 3)\n",
      "1\n",
      "0\n",
      "(478, 856, 3)\n",
      "1\n",
      "115\n",
      "(478, 856, 3)\n",
      "1\n",
      "231\n",
      "(478, 856, 3)\n",
      "1\n",
      "347\n",
      "(478, 856, 3)\n",
      "1\n"
     ]
    },
    {
     "name": "stderr",
     "output_type": "stream",
     "text": [
      "ERROR:root:An error occurred while processing faces: Given groups=1, weight of size [32, 3, 3, 3], expected input[1, 15, 160, 160] to have 3 channels, but got 15 channels instead\n",
      "INFO:root:Video length: 312 frames\n"
     ]
    },
    {
     "name": "stdout",
     "output_type": "stream",
     "text": [
      "463\n",
      "(478, 856, 3)\n",
      "1\n",
      "0\n",
      "(472, 848, 3)\n",
      "1\n",
      "77\n",
      "(472, 848, 3)\n",
      "1\n",
      "155\n",
      "(472, 848, 3)\n",
      "1\n",
      "233\n",
      "(472, 848, 3)\n",
      "1\n",
      "311\n",
      "(472, 848, 3)\n",
      "1\n"
     ]
    },
    {
     "name": "stderr",
     "output_type": "stream",
     "text": [
      "ERROR:root:An error occurred while processing faces: Given groups=1, weight of size [32, 3, 3, 3], expected input[1, 15, 160, 160] to have 3 channels, but got 15 channels instead\n",
      "INFO:root:Video length: 312 frames\n",
      "ERROR:root:An error occurred while processing faces: Given groups=1, weight of size [32, 3, 3, 3], expected input[1, 15, 160, 160] to have 3 channels, but got 15 channels instead\n"
     ]
    },
    {
     "name": "stdout",
     "output_type": "stream",
     "text": [
      "0\n",
      "(476, 846, 3)\n",
      "1\n",
      "77\n",
      "(476, 846, 3)\n",
      "1\n",
      "155\n",
      "(476, 846, 3)\n",
      "1\n",
      "233\n",
      "(476, 846, 3)\n",
      "1\n",
      "311\n",
      "(476, 846, 3)\n",
      "1\n"
     ]
    },
    {
     "name": "stderr",
     "output_type": "stream",
     "text": [
      "INFO:root:Video length: 570 frames\n",
      "ERROR:root:An error occurred while processing faces: Given groups=1, weight of size [32, 3, 3, 3], expected input[1, 15, 160, 160] to have 3 channels, but got 15 channels instead\n"
     ]
    },
    {
     "name": "stdout",
     "output_type": "stream",
     "text": [
      "0\n",
      "(500, 944, 3)\n",
      "1\n",
      "142\n",
      "(500, 944, 3)\n",
      "1\n",
      "284\n",
      "(500, 944, 3)\n",
      "1\n",
      "426\n",
      "(500, 944, 3)\n",
      "1\n",
      "569\n",
      "(500, 944, 3)\n",
      "1\n"
     ]
    },
    {
     "name": "stderr",
     "output_type": "stream",
     "text": [
      "INFO:root:Video length: 322 frames\n"
     ]
    },
    {
     "name": "stdout",
     "output_type": "stream",
     "text": [
      "0\n",
      "(500, 958, 3)\n",
      "1\n",
      "80\n",
      "(500, 958, 3)\n",
      "1\n",
      "160\n",
      "(500, 958, 3)\n",
      "1\n",
      "240\n",
      "(500, 958, 3)\n",
      "1\n",
      "321\n",
      "(500, 958, 3)\n",
      "1\n"
     ]
    },
    {
     "name": "stderr",
     "output_type": "stream",
     "text": [
      "ERROR:root:An error occurred while processing faces: Given groups=1, weight of size [32, 3, 3, 3], expected input[1, 15, 160, 160] to have 3 channels, but got 15 channels instead\n",
      "INFO:root:Video length: 423 frames\n"
     ]
    },
    {
     "name": "stdout",
     "output_type": "stream",
     "text": [
      "0\n",
      "(472, 850, 3)\n",
      "1\n",
      "105\n",
      "(472, 850, 3)\n",
      "1\n",
      "211\n",
      "(472, 850, 3)\n",
      "1\n",
      "316\n",
      "(472, 850, 3)\n",
      "1\n"
     ]
    },
    {
     "name": "stderr",
     "output_type": "stream",
     "text": [
      "ERROR:root:An error occurred while processing faces: Given groups=1, weight of size [32, 3, 3, 3], expected input[1, 15, 160, 160] to have 3 channels, but got 15 channels instead\n",
      "INFO:root:Video length: 309 frames\n"
     ]
    },
    {
     "name": "stdout",
     "output_type": "stream",
     "text": [
      "422\n",
      "(472, 850, 3)\n",
      "1\n",
      "0\n",
      "(476, 846, 3)\n",
      "1\n",
      "77\n",
      "(476, 846, 3)\n",
      "1\n",
      "154\n",
      "(476, 846, 3)\n",
      "1\n",
      "231\n",
      "(476, 846, 3)\n",
      "1\n",
      "308\n"
     ]
    },
    {
     "name": "stderr",
     "output_type": "stream",
     "text": [
      "ERROR:root:An error occurred while processing faces: Given groups=1, weight of size [32, 3, 3, 3], expected input[1, 15, 160, 160] to have 3 channels, but got 15 channels instead\n",
      "INFO:root:Video length: 410 frames\n"
     ]
    },
    {
     "name": "stdout",
     "output_type": "stream",
     "text": [
      "(476, 846, 3)\n",
      "1\n",
      "0\n",
      "(500, 950, 3)\n",
      "1\n",
      "102\n",
      "(500, 950, 3)\n",
      "1\n",
      "204\n",
      "(500, 950, 3)\n",
      "1\n",
      "306\n",
      "(500, 950, 3)\n",
      "1\n"
     ]
    },
    {
     "name": "stderr",
     "output_type": "stream",
     "text": [
      "ERROR:root:An error occurred while processing faces: Given groups=1, weight of size [32, 3, 3, 3], expected input[1, 15, 160, 160] to have 3 channels, but got 15 channels instead\n",
      "INFO:root:Video length: 322 frames\n"
     ]
    },
    {
     "name": "stdout",
     "output_type": "stream",
     "text": [
      "409\n",
      "(500, 950, 3)\n",
      "1\n",
      "0\n",
      "(478, 848, 3)\n",
      "1\n",
      "80\n",
      "(478, 848, 3)\n",
      "1\n",
      "160\n",
      "(478, 848, 3)\n",
      "1\n",
      "240\n",
      "(478, 848, 3)\n",
      "1\n"
     ]
    },
    {
     "name": "stderr",
     "output_type": "stream",
     "text": [
      "ERROR:root:An error occurred while processing faces: Given groups=1, weight of size [32, 3, 3, 3], expected input[1, 15, 160, 160] to have 3 channels, but got 15 channels instead\n",
      "INFO:root:Video length: 503 frames\n"
     ]
    },
    {
     "name": "stdout",
     "output_type": "stream",
     "text": [
      "321\n",
      "(478, 848, 3)\n",
      "1\n",
      "0\n",
      "(466, 848, 3)\n",
      "1\n",
      "125\n",
      "(466, 848, 3)\n",
      "1\n",
      "251\n",
      "(466, 848, 3)\n",
      "1\n",
      "376\n",
      "(466, 848, 3)\n",
      "1\n",
      "502\n",
      "(466, 848, 3)\n",
      "1\n"
     ]
    },
    {
     "name": "stderr",
     "output_type": "stream",
     "text": [
      "ERROR:root:An error occurred while processing faces: Given groups=1, weight of size [32, 3, 3, 3], expected input[1, 15, 160, 160] to have 3 channels, but got 15 channels instead\n",
      "INFO:root:Video length: 470 frames\n"
     ]
    },
    {
     "name": "stdout",
     "output_type": "stream",
     "text": [
      "0\n",
      "(466, 848, 3)\n",
      "1\n",
      "117\n",
      "(466, 848, 3)\n",
      "1\n",
      "234\n",
      "(466, 848, 3)\n",
      "1\n",
      "351\n",
      "(466, 848, 3)\n",
      "1\n",
      "469\n",
      "(466, 848, 3)\n",
      "1\n"
     ]
    },
    {
     "name": "stderr",
     "output_type": "stream",
     "text": [
      "ERROR:root:An error occurred while processing faces: Given groups=1, weight of size [32, 3, 3, 3], expected input[1, 15, 160, 160] to have 3 channels, but got 15 channels instead\n",
      "INFO:root:Video length: 582 frames\n",
      "ERROR:root:An error occurred while processing faces: Given groups=1, weight of size [32, 3, 3, 3], expected input[1, 15, 160, 160] to have 3 channels, but got 15 channels instead\n"
     ]
    },
    {
     "name": "stdout",
     "output_type": "stream",
     "text": [
      "0\n",
      "(478, 856, 3)\n",
      "1\n",
      "145\n",
      "(478, 856, 3)\n",
      "1\n",
      "290\n",
      "(478, 856, 3)\n",
      "1\n",
      "435\n",
      "(478, 856, 3)\n",
      "1\n",
      "581\n",
      "(478, 856, 3)\n",
      "1\n"
     ]
    },
    {
     "name": "stderr",
     "output_type": "stream",
     "text": [
      "INFO:root:Video length: 469 frames\n"
     ]
    },
    {
     "name": "stdout",
     "output_type": "stream",
     "text": [
      "0\n",
      "(500, 944, 3)\n",
      "1\n",
      "117\n",
      "(500, 944, 3)\n",
      "1\n",
      "234\n",
      "(500, 944, 3)\n",
      "1\n",
      "351\n",
      "(500, 944, 3)\n",
      "1\n",
      "468\n",
      "(500, 944, 3)\n",
      "1\n"
     ]
    },
    {
     "name": "stderr",
     "output_type": "stream",
     "text": [
      "ERROR:root:An error occurred while processing faces: Given groups=1, weight of size [32, 3, 3, 3], expected input[1, 15, 160, 160] to have 3 channels, but got 15 channels instead\n",
      "INFO:root:Video length: 308 frames\n",
      "ERROR:root:An error occurred while processing faces: Given groups=1, weight of size [32, 3, 3, 3], expected input[1, 15, 160, 160] to have 3 channels, but got 15 channels instead\n",
      "INFO:root:Video length: 312 frames\n"
     ]
    },
    {
     "name": "stdout",
     "output_type": "stream",
     "text": [
      "0\n",
      "(298, 610, 3)\n",
      "1\n",
      "76\n",
      "(298, 610, 3)\n",
      "1\n",
      "153\n",
      "(298, 610, 3)\n",
      "1\n",
      "230\n",
      "(298, 610, 3)\n",
      "1\n",
      "307\n",
      "(298, 610, 3)\n",
      "1\n",
      "0\n",
      "(476, 846, 3)\n",
      "1\n"
     ]
    },
    {
     "name": "stderr",
     "output_type": "stream",
     "text": [
      "ERROR:root:An error occurred while processing faces: Given groups=1, weight of size [32, 3, 3, 3], expected input[1, 15, 160, 160] to have 3 channels, but got 15 channels instead\n",
      "INFO:root:Video length: 353 frames\n"
     ]
    },
    {
     "name": "stdout",
     "output_type": "stream",
     "text": [
      "77\n",
      "(476, 846, 3)\n",
      "1\n",
      "155\n",
      "(476, 846, 3)\n",
      "1\n",
      "233\n",
      "(476, 846, 3)\n",
      "1\n",
      "311\n",
      "(476, 846, 3)\n",
      "1\n",
      "0\n",
      "(478, 856, 3)\n",
      "1\n",
      "88\n",
      "(478, 856, 3)\n",
      "1\n",
      "176\n",
      "(478, 856, 3)\n",
      "1\n",
      "264\n",
      "(478, 856, 3)\n",
      "1\n",
      "352\n",
      "(478, 856, 3)\n",
      "1\n"
     ]
    },
    {
     "name": "stderr",
     "output_type": "stream",
     "text": [
      "ERROR:root:An error occurred while processing faces: Given groups=1, weight of size [32, 3, 3, 3], expected input[1, 15, 160, 160] to have 3 channels, but got 15 channels instead\n",
      "INFO:root:Video length: 269 frames\n"
     ]
    },
    {
     "name": "stdout",
     "output_type": "stream",
     "text": [
      "0\n",
      "(500, 894, 3)\n",
      "1\n",
      "67\n",
      "(500, 894, 3)\n",
      "1\n",
      "134\n",
      "(500, 894, 3)\n",
      "1\n",
      "201\n",
      "(500, 894, 3)\n",
      "1\n"
     ]
    },
    {
     "name": "stderr",
     "output_type": "stream",
     "text": [
      "ERROR:root:An error occurred while processing faces: Given groups=1, weight of size [32, 3, 3, 3], expected input[1, 15, 160, 160] to have 3 channels, but got 15 channels instead\n",
      "INFO:root:Video length: 458 frames\n"
     ]
    },
    {
     "name": "stdout",
     "output_type": "stream",
     "text": [
      "268\n",
      "(500, 894, 3)\n",
      "1\n",
      "0\n",
      "(478, 856, 3)\n",
      "1\n",
      "114\n",
      "(478, 856, 3)\n",
      "1\n",
      "228\n",
      "(478, 856, 3)\n",
      "1\n",
      "342\n",
      "(478, 856, 3)\n",
      "1\n",
      "457\n",
      "(478, 856, 3)\n",
      "1\n"
     ]
    },
    {
     "name": "stderr",
     "output_type": "stream",
     "text": [
      "ERROR:root:An error occurred while processing faces: Given groups=1, weight of size [32, 3, 3, 3], expected input[1, 15, 160, 160] to have 3 channels, but got 15 channels instead\n",
      "INFO:root:Video length: 437 frames\n"
     ]
    },
    {
     "name": "stdout",
     "output_type": "stream",
     "text": [
      "0\n",
      "(500, 944, 3)\n",
      "1\n",
      "109\n",
      "(500, 944, 3)\n",
      "1\n",
      "218\n",
      "(500, 944, 3)\n",
      "1\n",
      "327\n",
      "(500, 944, 3)\n",
      "1\n",
      "436\n",
      "(500, 944, 3)\n",
      "1\n"
     ]
    },
    {
     "name": "stderr",
     "output_type": "stream",
     "text": [
      "ERROR:root:An error occurred while processing faces: Given groups=1, weight of size [32, 3, 3, 3], expected input[1, 15, 160, 160] to have 3 channels, but got 15 channels instead\n",
      "INFO:root:Video length: 438 frames\n",
      "ERROR:root:An error occurred while processing faces: Given groups=1, weight of size [32, 3, 3, 3], expected input[1, 15, 160, 160] to have 3 channels, but got 15 channels instead\n"
     ]
    },
    {
     "name": "stdout",
     "output_type": "stream",
     "text": [
      "0\n",
      "(478, 856, 3)\n",
      "1\n",
      "109\n",
      "(478, 856, 3)\n",
      "1\n",
      "218\n",
      "(478, 856, 3)\n",
      "1\n",
      "327\n",
      "(478, 856, 3)\n",
      "1\n",
      "437\n",
      "(478, 856, 3)\n",
      "1\n"
     ]
    },
    {
     "name": "stderr",
     "output_type": "stream",
     "text": [
      "INFO:root:Video length: 323 frames\n",
      "ERROR:root:An error occurred while processing faces: Given groups=1, weight of size [32, 3, 3, 3], expected input[1, 15, 160, 160] to have 3 channels, but got 15 channels instead\n",
      "INFO:root:Video length: 322 frames\n"
     ]
    },
    {
     "name": "stdout",
     "output_type": "stream",
     "text": [
      "0\n",
      "(420, 826, 3)\n",
      "1\n",
      "80\n",
      "(420, 826, 3)\n",
      "1\n",
      "161\n",
      "(420, 826, 3)\n",
      "1\n",
      "241\n",
      "(420, 826, 3)\n",
      "1\n",
      "322\n",
      "(420, 826, 3)\n",
      "1\n",
      "0\n",
      "(420, 826, 3)\n",
      "1\n"
     ]
    },
    {
     "name": "stderr",
     "output_type": "stream",
     "text": [
      "ERROR:root:An error occurred while processing faces: Given groups=1, weight of size [32, 3, 3, 3], expected input[1, 15, 160, 160] to have 3 channels, but got 15 channels instead\n",
      "INFO:root:Video length: 469 frames\n"
     ]
    },
    {
     "name": "stdout",
     "output_type": "stream",
     "text": [
      "80\n",
      "(420, 826, 3)\n",
      "1\n",
      "160\n",
      "(420, 826, 3)\n",
      "1\n",
      "240\n",
      "(420, 826, 3)\n",
      "1\n",
      "321\n",
      "(420, 826, 3)\n",
      "1\n",
      "0\n",
      "(500, 944, 3)\n",
      "1\n",
      "117\n",
      "(500, 944, 3)\n",
      "1\n"
     ]
    },
    {
     "name": "stderr",
     "output_type": "stream",
     "text": [
      "ERROR:root:An error occurred while processing faces: Given groups=1, weight of size [32, 3, 3, 3], expected input[1, 15, 160, 160] to have 3 channels, but got 15 channels instead\n",
      "INFO:root:Video length: 319 frames\n"
     ]
    },
    {
     "name": "stdout",
     "output_type": "stream",
     "text": [
      "234\n",
      "(500, 944, 3)\n",
      "1\n",
      "351\n",
      "(500, 944, 3)\n",
      "1\n",
      "468\n",
      "(500, 944, 3)\n",
      "1\n",
      "0\n",
      "(476, 846, 3)\n",
      "1\n"
     ]
    },
    {
     "name": "stderr",
     "output_type": "stream",
     "text": [
      "ERROR:root:An error occurred while processing faces: Given groups=1, weight of size [32, 3, 3, 3], expected input[1, 15, 160, 160] to have 3 channels, but got 15 channels instead\n"
     ]
    },
    {
     "name": "stdout",
     "output_type": "stream",
     "text": [
      "79\n",
      "(476, 846, 3)\n",
      "1\n",
      "159\n",
      "(476, 846, 3)\n",
      "1\n",
      "238\n",
      "(476, 846, 3)\n",
      "1\n",
      "318\n",
      "(476, 846, 3)\n",
      "1\n"
     ]
    },
    {
     "name": "stderr",
     "output_type": "stream",
     "text": [
      "INFO:root:Video length: 349 frames\n",
      "ERROR:root:An error occurred while processing faces: Given groups=1, weight of size [32, 3, 3, 3], expected input[1, 15, 160, 160] to have 3 channels, but got 15 channels instead\n"
     ]
    },
    {
     "name": "stdout",
     "output_type": "stream",
     "text": [
      "0\n",
      "(472, 850, 3)\n",
      "1\n",
      "87\n",
      "(472, 850, 3)\n",
      "1\n",
      "174\n",
      "(472, 850, 3)\n",
      "1\n",
      "261\n",
      "(472, 850, 3)\n",
      "1\n",
      "348\n",
      "(472, 850, 3)\n",
      "1\n"
     ]
    },
    {
     "name": "stderr",
     "output_type": "stream",
     "text": [
      "INFO:root:Video length: 186 frames\n",
      "ERROR:root:An error occurred while processing faces: Given groups=1, weight of size [32, 3, 3, 3], expected input[1, 15, 160, 160] to have 3 channels, but got 15 channels instead\n",
      "INFO:root:Video length: 448 frames\n"
     ]
    },
    {
     "name": "stdout",
     "output_type": "stream",
     "text": [
      "0\n",
      "(476, 846, 3)\n",
      "1\n",
      "46\n",
      "(476, 846, 3)\n",
      "1\n",
      "92\n",
      "(476, 846, 3)\n",
      "1\n",
      "138\n",
      "(476, 846, 3)\n",
      "1\n",
      "185\n",
      "(476, 846, 3)\n",
      "1\n"
     ]
    },
    {
     "name": "stderr",
     "output_type": "stream",
     "text": [
      "ERROR:root:An error occurred while processing faces: Given groups=1, weight of size [32, 3, 3, 3], expected input[1, 15, 160, 160] to have 3 channels, but got 15 channels instead\n"
     ]
    },
    {
     "name": "stdout",
     "output_type": "stream",
     "text": [
      "0\n",
      "(472, 850, 3)\n",
      "1\n",
      "111\n",
      "(472, 850, 3)\n",
      "1\n",
      "223\n",
      "(472, 850, 3)\n",
      "1\n",
      "335\n",
      "(472, 850, 3)\n",
      "1\n",
      "447\n",
      "(472, 850, 3)\n",
      "1\n"
     ]
    },
    {
     "name": "stderr",
     "output_type": "stream",
     "text": [
      "INFO:root:Video length: 315 frames\n",
      "ERROR:root:An error occurred while processing faces: Given groups=1, weight of size [32, 3, 3, 3], expected input[1, 15, 160, 160] to have 3 channels, but got 15 channels instead\n"
     ]
    },
    {
     "name": "stdout",
     "output_type": "stream",
     "text": [
      "0\n",
      "(474, 836, 3)\n",
      "1\n",
      "78\n",
      "(474, 836, 3)\n",
      "1\n",
      "157\n",
      "(474, 836, 3)\n",
      "1\n",
      "235\n",
      "(474, 836, 3)\n",
      "1\n",
      "314\n",
      "(474, 836, 3)\n",
      "1\n"
     ]
    },
    {
     "name": "stderr",
     "output_type": "stream",
     "text": [
      "INFO:root:Video length: 420 frames\n",
      "ERROR:root:An error occurred while processing faces: Given groups=1, weight of size [32, 3, 3, 3], expected input[1, 15, 160, 160] to have 3 channels, but got 15 channels instead\n"
     ]
    },
    {
     "name": "stdout",
     "output_type": "stream",
     "text": [
      "0\n",
      "(478, 856, 3)\n",
      "1\n",
      "104\n",
      "(478, 856, 3)\n",
      "1\n",
      "209\n",
      "(478, 856, 3)\n",
      "1\n",
      "314\n",
      "(478, 856, 3)\n",
      "1\n",
      "419\n",
      "(478, 856, 3)\n",
      "1\n"
     ]
    },
    {
     "name": "stderr",
     "output_type": "stream",
     "text": [
      "INFO:root:Video length: 439 frames\n",
      "ERROR:root:An error occurred while processing faces: Given groups=1, weight of size [32, 3, 3, 3], expected input[1, 15, 160, 160] to have 3 channels, but got 15 channels instead\n"
     ]
    },
    {
     "name": "stdout",
     "output_type": "stream",
     "text": [
      "0\n",
      "(500, 944, 3)\n",
      "1\n",
      "109\n",
      "(500, 944, 3)\n",
      "1\n",
      "219\n",
      "(500, 944, 3)\n",
      "1\n",
      "328\n",
      "(500, 944, 3)\n",
      "1\n",
      "438\n",
      "(500, 944, 3)\n",
      "1\n"
     ]
    },
    {
     "name": "stderr",
     "output_type": "stream",
     "text": [
      "INFO:root:Video length: 319 frames\n",
      "ERROR:root:An error occurred while processing faces: Given groups=1, weight of size [32, 3, 3, 3], expected input[1, 15, 160, 160] to have 3 channels, but got 15 channels instead\n"
     ]
    },
    {
     "name": "stdout",
     "output_type": "stream",
     "text": [
      "0\n",
      "(300, 286, 3)\n",
      "1\n",
      "79\n",
      "(300, 286, 3)\n",
      "1\n",
      "159\n",
      "(300, 286, 3)\n",
      "1\n",
      "238\n",
      "(300, 286, 3)\n",
      "1\n",
      "318\n",
      "(300, 286, 3)\n",
      "1\n"
     ]
    },
    {
     "name": "stderr",
     "output_type": "stream",
     "text": [
      "INFO:root:Video length: 383 frames\n"
     ]
    },
    {
     "name": "stdout",
     "output_type": "stream",
     "text": [
      "0\n",
      "(478, 856, 3)\n",
      "1\n",
      "95\n",
      "(478, 856, 3)\n",
      "1\n",
      "191\n",
      "(478, 856, 3)\n",
      "1\n",
      "286\n",
      "(478, 856, 3)\n",
      "1\n",
      "382\n",
      "(478, 856, 3)\n",
      "1\n"
     ]
    },
    {
     "name": "stderr",
     "output_type": "stream",
     "text": [
      "ERROR:root:An error occurred while processing faces: Given groups=1, weight of size [32, 3, 3, 3], expected input[1, 15, 160, 160] to have 3 channels, but got 15 channels instead\n",
      "INFO:root:Video length: 376 frames\n",
      "ERROR:root:An error occurred while processing faces: Given groups=1, weight of size [32, 3, 3, 3], expected input[1, 15, 160, 160] to have 3 channels, but got 15 channels instead\n",
      "INFO:root:Video length: 331 frames\n"
     ]
    },
    {
     "name": "stdout",
     "output_type": "stream",
     "text": [
      "0\n",
      "(500, 608, 3)\n",
      "1\n",
      "93\n",
      "(500, 608, 3)\n",
      "1\n",
      "187\n",
      "(500, 608, 3)\n",
      "1\n",
      "281\n",
      "(500, 608, 3)\n",
      "1\n",
      "375\n",
      "(500, 608, 3)\n",
      "1\n",
      "0\n",
      "(472, 848, 3)\n",
      "1\n"
     ]
    },
    {
     "name": "stderr",
     "output_type": "stream",
     "text": [
      "ERROR:root:An error occurred while processing faces: Given groups=1, weight of size [32, 3, 3, 3], expected input[1, 15, 160, 160] to have 3 channels, but got 15 channels instead\n",
      "INFO:root:Video length: 450 frames\n"
     ]
    },
    {
     "name": "stdout",
     "output_type": "stream",
     "text": [
      "82\n",
      "(472, 848, 3)\n",
      "1\n",
      "165\n",
      "(472, 848, 3)\n",
      "1\n",
      "247\n",
      "(472, 848, 3)\n",
      "1\n",
      "330\n",
      "(472, 848, 3)\n",
      "1\n",
      "0\n",
      "(478, 856, 3)\n",
      "1\n",
      "112\n",
      "(478, 856, 3)\n",
      "1\n"
     ]
    },
    {
     "name": "stderr",
     "output_type": "stream",
     "text": [
      "ERROR:root:An error occurred while processing faces: Given groups=1, weight of size [32, 3, 3, 3], expected input[1, 15, 160, 160] to have 3 channels, but got 15 channels instead\n",
      "INFO:root:Video length: 312 frames\n"
     ]
    },
    {
     "name": "stdout",
     "output_type": "stream",
     "text": [
      "224\n",
      "(478, 856, 3)\n",
      "1\n",
      "336\n",
      "(478, 856, 3)\n",
      "1\n",
      "449\n",
      "(478, 856, 3)\n",
      "1\n",
      "0\n",
      "(500, 894, 3)\n",
      "1\n",
      "77\n",
      "(500, 894, 3)\n",
      "1\n"
     ]
    },
    {
     "name": "stderr",
     "output_type": "stream",
     "text": [
      "ERROR:root:An error occurred while processing faces: Given groups=1, weight of size [32, 3, 3, 3], expected input[1, 15, 160, 160] to have 3 channels, but got 15 channels instead\n",
      "INFO:root:Video length: 311 frames\n"
     ]
    },
    {
     "name": "stdout",
     "output_type": "stream",
     "text": [
      "155\n",
      "(500, 894, 3)\n",
      "1\n",
      "233\n",
      "(500, 894, 3)\n",
      "1\n",
      "311\n",
      "(500, 894, 3)\n",
      "1\n",
      "0\n",
      "(474, 846, 3)\n",
      "1\n",
      "77\n",
      "(474, 846, 3)\n",
      "1\n"
     ]
    },
    {
     "name": "stderr",
     "output_type": "stream",
     "text": [
      "ERROR:root:An error occurred while processing faces: Given groups=1, weight of size [32, 3, 3, 3], expected input[1, 15, 160, 160] to have 3 channels, but got 15 channels instead\n",
      "INFO:root:Video length: 380 frames\n"
     ]
    },
    {
     "name": "stdout",
     "output_type": "stream",
     "text": [
      "155\n",
      "(474, 846, 3)\n",
      "1\n",
      "232\n",
      "(474, 846, 3)\n",
      "1\n",
      "310\n",
      "(474, 846, 3)\n",
      "1\n",
      "0\n",
      "(500, 544, 3)\n",
      "1\n",
      "94\n",
      "(500, 544, 3)\n",
      "1\n"
     ]
    },
    {
     "name": "stderr",
     "output_type": "stream",
     "text": [
      "ERROR:root:An error occurred while processing faces: Given groups=1, weight of size [32, 3, 3, 3], expected input[1, 15, 160, 160] to have 3 channels, but got 15 channels instead\n",
      "INFO:root:Video length: 318 frames\n"
     ]
    },
    {
     "name": "stdout",
     "output_type": "stream",
     "text": [
      "189\n",
      "(500, 544, 3)\n",
      "1\n",
      "284\n",
      "(500, 544, 3)\n",
      "1\n",
      "379\n",
      "(500, 544, 3)\n",
      "1\n",
      "0\n",
      "(476, 846, 3)\n",
      "1\n",
      "79\n",
      "(476, 846, 3)\n",
      "1\n",
      "158\n",
      "(476, 846, 3)\n",
      "1\n"
     ]
    },
    {
     "name": "stderr",
     "output_type": "stream",
     "text": [
      "ERROR:root:An error occurred while processing faces: Given groups=1, weight of size [32, 3, 3, 3], expected input[1, 15, 160, 160] to have 3 channels, but got 15 channels instead\n",
      "INFO:root:Video length: 314 frames\n"
     ]
    },
    {
     "name": "stdout",
     "output_type": "stream",
     "text": [
      "237\n",
      "(476, 846, 3)\n",
      "1\n",
      "317\n",
      "(476, 846, 3)\n",
      "1\n",
      "0\n",
      "(480, 636, 3)\n",
      "1\n",
      "78\n",
      "(480, 636, 3)\n",
      "1\n",
      "156\n",
      "(480, 636, 3)\n",
      "1\n",
      "234\n",
      "(480, 636, 3)\n",
      "1\n"
     ]
    },
    {
     "name": "stderr",
     "output_type": "stream",
     "text": [
      "ERROR:root:An error occurred while processing faces: Given groups=1, weight of size [32, 3, 3, 3], expected input[1, 15, 160, 160] to have 3 channels, but got 15 channels instead\n",
      "INFO:root:Video length: 333 frames\n"
     ]
    },
    {
     "name": "stdout",
     "output_type": "stream",
     "text": [
      "313\n",
      "(480, 636, 3)\n",
      "1\n",
      "0\n",
      "(472, 848, 3)\n",
      "1\n",
      "83\n",
      "(472, 848, 3)\n",
      "1\n",
      "166\n",
      "(472, 848, 3)\n",
      "1\n",
      "249\n",
      "(472, 848, 3)\n",
      "1\n"
     ]
    },
    {
     "name": "stderr",
     "output_type": "stream",
     "text": [
      "ERROR:root:An error occurred while processing faces: Given groups=1, weight of size [32, 3, 3, 3], expected input[1, 15, 160, 160] to have 3 channels, but got 15 channels instead\n",
      "INFO:root:Video length: 467 frames\n"
     ]
    },
    {
     "name": "stdout",
     "output_type": "stream",
     "text": [
      "332\n",
      "(472, 848, 3)\n",
      "1\n",
      "0\n",
      "(500, 892, 3)\n",
      "1\n",
      "116\n",
      "(500, 892, 3)\n",
      "1\n",
      "233\n",
      "(500, 892, 3)\n",
      "1\n"
     ]
    },
    {
     "name": "stderr",
     "output_type": "stream",
     "text": [
      "ERROR:root:An error occurred while processing faces: Given groups=1, weight of size [32, 3, 3, 3], expected input[1, 15, 160, 160] to have 3 channels, but got 15 channels instead\n",
      "INFO:root:Video length: 342 frames\n"
     ]
    },
    {
     "name": "stdout",
     "output_type": "stream",
     "text": [
      "349\n",
      "(500, 892, 3)\n",
      "1\n",
      "466\n",
      "(500, 892, 3)\n",
      "1\n",
      "0\n",
      "(468, 842, 3)\n",
      "1\n",
      "85\n",
      "(468, 842, 3)\n",
      "1\n",
      "170\n",
      "(468, 842, 3)\n",
      "1\n"
     ]
    },
    {
     "name": "stderr",
     "output_type": "stream",
     "text": [
      "ERROR:root:An error occurred while processing faces: Given groups=1, weight of size [32, 3, 3, 3], expected input[1, 15, 160, 160] to have 3 channels, but got 15 channels instead\n",
      "INFO:root:Video length: 315 frames\n"
     ]
    },
    {
     "name": "stdout",
     "output_type": "stream",
     "text": [
      "255\n",
      "(468, 842, 3)\n",
      "1\n",
      "341\n",
      "(468, 842, 3)\n",
      "1\n",
      "0\n",
      "(500, 532, 3)\n",
      "1\n",
      "78\n",
      "(500, 532, 3)\n",
      "1\n",
      "157\n",
      "(500, 532, 3)\n",
      "1\n",
      "235\n",
      "(500, 532, 3)\n",
      "1\n"
     ]
    },
    {
     "name": "stderr",
     "output_type": "stream",
     "text": [
      "ERROR:root:An error occurred while processing faces: Given groups=1, weight of size [32, 3, 3, 3], expected input[1, 15, 160, 160] to have 3 channels, but got 15 channels instead\n",
      "INFO:root:Video length: 448 frames\n"
     ]
    },
    {
     "name": "stdout",
     "output_type": "stream",
     "text": [
      "314\n",
      "(500, 532, 3)\n",
      "1\n",
      "0\n",
      "(500, 944, 3)\n",
      "1\n",
      "111\n",
      "(500, 944, 3)\n",
      "1\n",
      "223\n",
      "(500, 944, 3)\n",
      "1\n",
      "335\n",
      "(500, 944, 3)\n",
      "1\n"
     ]
    },
    {
     "name": "stderr",
     "output_type": "stream",
     "text": [
      "ERROR:root:An error occurred while processing faces: Given groups=1, weight of size [32, 3, 3, 3], expected input[1, 15, 160, 160] to have 3 channels, but got 15 channels instead\n",
      "INFO:root:Video length: 322 frames\n"
     ]
    },
    {
     "name": "stdout",
     "output_type": "stream",
     "text": [
      "447\n",
      "(500, 944, 3)\n",
      "1\n",
      "0\n",
      "(472, 848, 3)\n",
      "1\n",
      "80\n",
      "(472, 848, 3)\n",
      "1\n",
      "160\n",
      "(472, 848, 3)\n",
      "1\n",
      "240\n",
      "(472, 848, 3)\n"
     ]
    },
    {
     "name": "stderr",
     "output_type": "stream",
     "text": [
      "ERROR:root:An error occurred while processing faces: Given groups=1, weight of size [32, 3, 3, 3], expected input[1, 15, 160, 160] to have 3 channels, but got 15 channels instead\n",
      "INFO:root:Video length: 262 frames\n"
     ]
    },
    {
     "name": "stdout",
     "output_type": "stream",
     "text": [
      "1\n",
      "321\n",
      "(472, 848, 3)\n",
      "1\n",
      "0\n",
      "(480, 852, 3)\n",
      "1\n",
      "65\n",
      "(480, 852, 3)\n",
      "1\n",
      "130\n",
      "(480, 852, 3)\n",
      "1\n",
      "195\n",
      "(480, 852, 3)\n",
      "1\n"
     ]
    },
    {
     "name": "stderr",
     "output_type": "stream",
     "text": [
      "ERROR:root:An error occurred while processing faces: Given groups=1, weight of size [32, 3, 3, 3], expected input[1, 15, 160, 160] to have 3 channels, but got 15 channels instead\n",
      "INFO:root:Video length: 317 frames\n"
     ]
    },
    {
     "name": "stdout",
     "output_type": "stream",
     "text": [
      "261\n",
      "(480, 852, 3)\n",
      "1\n",
      "0\n",
      "(500, 950, 3)\n",
      "1\n",
      "79\n",
      "(500, 950, 3)\n",
      "1\n",
      "158\n",
      "(500, 950, 3)\n",
      "1\n",
      "237\n",
      "(500, 950, 3)\n",
      "1\n"
     ]
    },
    {
     "name": "stderr",
     "output_type": "stream",
     "text": [
      "ERROR:root:An error occurred while processing faces: Given groups=1, weight of size [32, 3, 3, 3], expected input[1, 15, 160, 160] to have 3 channels, but got 15 channels instead\n",
      "INFO:root:Video length: 499 frames\n"
     ]
    },
    {
     "name": "stdout",
     "output_type": "stream",
     "text": [
      "316\n",
      "(500, 950, 3)\n",
      "1\n",
      "0\n",
      "(500, 514, 3)\n",
      "1\n",
      "124\n",
      "(500, 514, 3)\n",
      "1\n",
      "249\n",
      "(500, 514, 3)\n",
      "1\n",
      "373\n",
      "(500, 514, 3)\n",
      "1\n",
      "498\n",
      "(500, 514, 3)\n",
      "1\n"
     ]
    },
    {
     "name": "stderr",
     "output_type": "stream",
     "text": [
      "ERROR:root:An error occurred while processing faces: Given groups=1, weight of size [32, 3, 3, 3], expected input[1, 15, 160, 160] to have 3 channels, but got 15 channels instead\n",
      "INFO:root:Video length: 315 frames\n"
     ]
    },
    {
     "name": "stdout",
     "output_type": "stream",
     "text": [
      "0\n",
      "(474, 844, 3)\n",
      "1\n",
      "78\n",
      "(474, 844, 3)\n",
      "1\n",
      "157\n",
      "(474, 844, 3)\n",
      "1\n",
      "235\n",
      "(474, 844, 3)\n",
      "1\n",
      "314\n",
      "(474, 844, 3)\n",
      "1\n"
     ]
    },
    {
     "name": "stderr",
     "output_type": "stream",
     "text": [
      "ERROR:root:An error occurred while processing faces: Given groups=1, weight of size [32, 3, 3, 3], expected input[1, 15, 160, 160] to have 3 channels, but got 15 channels instead\n",
      "INFO:root:Video length: 272 frames\n",
      "ERROR:root:An error occurred while processing faces: Given groups=1, weight of size [32, 3, 3, 3], expected input[1, 15, 160, 160] to have 3 channels, but got 15 channels instead\n",
      "INFO:root:Video length: 291 frames\n"
     ]
    },
    {
     "name": "stdout",
     "output_type": "stream",
     "text": [
      "0\n",
      "(500, 456, 3)\n",
      "1\n",
      "67\n",
      "(500, 456, 3)\n",
      "1\n",
      "135\n",
      "(500, 456, 3)\n",
      "1\n",
      "203\n",
      "(500, 456, 3)\n",
      "1\n",
      "271\n",
      "(500, 456, 3)\n",
      "1\n"
     ]
    },
    {
     "name": "stderr",
     "output_type": "stream",
     "text": [
      "ERROR:root:An error occurred while processing faces: Given groups=1, weight of size [32, 3, 3, 3], expected input[1, 15, 160, 160] to have 3 channels, but got 15 channels instead\n",
      "INFO:root:Video length: 315 frames\n"
     ]
    },
    {
     "name": "stdout",
     "output_type": "stream",
     "text": [
      "0\n",
      "(466, 744, 3)\n",
      "1\n",
      "72\n",
      "(466, 744, 3)\n",
      "1\n",
      "145\n",
      "(466, 744, 3)\n",
      "1\n",
      "217\n",
      "(466, 744, 3)\n",
      "1\n",
      "290\n",
      "(466, 744, 3)\n",
      "1\n",
      "0\n",
      "(474, 844, 3)\n",
      "1\n"
     ]
    },
    {
     "name": "stderr",
     "output_type": "stream",
     "text": [
      "ERROR:root:An error occurred while processing faces: Given groups=1, weight of size [32, 3, 3, 3], expected input[1, 15, 160, 160] to have 3 channels, but got 15 channels instead\n",
      "INFO:root:Video length: 315 frames\n"
     ]
    },
    {
     "name": "stdout",
     "output_type": "stream",
     "text": [
      "78\n",
      "(474, 844, 3)\n",
      "1\n",
      "157\n",
      "(474, 844, 3)\n",
      "1\n",
      "235\n",
      "(474, 844, 3)\n",
      "1\n",
      "314\n",
      "(474, 844, 3)\n",
      "1\n",
      "0\n",
      "(500, 610, 3)\n",
      "1\n"
     ]
    },
    {
     "name": "stderr",
     "output_type": "stream",
     "text": [
      "ERROR:root:An error occurred while processing faces: Given groups=1, weight of size [32, 3, 3, 3], expected input[1, 15, 160, 160] to have 3 channels, but got 15 channels instead\n",
      "INFO:root:Video length: 224 frames\n"
     ]
    },
    {
     "name": "stdout",
     "output_type": "stream",
     "text": [
      "78\n",
      "(500, 610, 3)\n",
      "1\n",
      "157\n",
      "(500, 610, 3)\n",
      "1\n",
      "235\n",
      "(500, 610, 3)\n",
      "1\n",
      "314\n",
      "(500, 610, 3)\n",
      "1\n",
      "0\n",
      "(500, 950, 3)\n",
      "1\n",
      "55\n",
      "(500, 950, 3)\n",
      "1\n"
     ]
    },
    {
     "name": "stderr",
     "output_type": "stream",
     "text": [
      "ERROR:root:An error occurred while processing faces: Given groups=1, weight of size [32, 3, 3, 3], expected input[1, 15, 160, 160] to have 3 channels, but got 15 channels instead\n",
      "INFO:root:Video length: 319 frames\n"
     ]
    },
    {
     "name": "stdout",
     "output_type": "stream",
     "text": [
      "111\n",
      "(500, 950, 3)\n",
      "1\n",
      "167\n",
      "(500, 950, 3)\n",
      "1\n",
      "223\n",
      "(500, 950, 3)\n",
      "1\n",
      "0\n",
      "(476, 846, 3)\n",
      "1\n",
      "79\n",
      "(476, 846, 3)\n",
      "1\n"
     ]
    },
    {
     "name": "stderr",
     "output_type": "stream",
     "text": [
      "ERROR:root:An error occurred while processing faces: Given groups=1, weight of size [32, 3, 3, 3], expected input[1, 15, 160, 160] to have 3 channels, but got 15 channels instead\n",
      "INFO:root:Video length: 508 frames\n"
     ]
    },
    {
     "name": "stdout",
     "output_type": "stream",
     "text": [
      "159\n",
      "(476, 846, 3)\n",
      "1\n",
      "238\n",
      "(476, 846, 3)\n",
      "1\n",
      "318\n",
      "(476, 846, 3)\n",
      "1\n",
      "0\n",
      "(466, 848, 3)\n",
      "1\n",
      "126\n",
      "(466, 848, 3)\n",
      "1\n"
     ]
    },
    {
     "name": "stderr",
     "output_type": "stream",
     "text": [
      "ERROR:root:An error occurred while processing faces: Given groups=1, weight of size [32, 3, 3, 3], expected input[1, 15, 160, 160] to have 3 channels, but got 15 channels instead\n",
      "INFO:root:Video length: 516 frames\n"
     ]
    },
    {
     "name": "stdout",
     "output_type": "stream",
     "text": [
      "253\n",
      "(466, 848, 3)\n",
      "1\n",
      "380\n",
      "(466, 848, 3)\n",
      "1\n",
      "507\n",
      "(466, 848, 3)\n",
      "1\n",
      "0\n",
      "(472, 850, 3)\n",
      "1\n",
      "128\n",
      "(472, 850, 3)\n",
      "1\n"
     ]
    },
    {
     "name": "stderr",
     "output_type": "stream",
     "text": [
      "ERROR:root:An error occurred while processing faces: Given groups=1, weight of size [32, 3, 3, 3], expected input[1, 15, 160, 160] to have 3 channels, but got 15 channels instead\n",
      "INFO:root:Video length: 397 frames\n"
     ]
    },
    {
     "name": "stdout",
     "output_type": "stream",
     "text": [
      "257\n",
      "(472, 850, 3)\n",
      "1\n",
      "386\n",
      "(472, 850, 3)\n",
      "1\n",
      "515\n",
      "(472, 850, 3)\n",
      "1\n",
      "0\n",
      "(500, 950, 3)\n",
      "1\n",
      "99\n",
      "(500, 950, 3)\n",
      "1\n"
     ]
    },
    {
     "name": "stderr",
     "output_type": "stream",
     "text": [
      "ERROR:root:An error occurred while processing faces: Given groups=1, weight of size [32, 3, 3, 3], expected input[1, 15, 160, 160] to have 3 channels, but got 15 channels instead\n",
      "INFO:root:Video length: 414 frames\n"
     ]
    },
    {
     "name": "stdout",
     "output_type": "stream",
     "text": [
      "198\n",
      "(500, 950, 3)\n",
      "1\n",
      "297\n",
      "(500, 950, 3)\n",
      "1\n",
      "396\n",
      "(500, 950, 3)\n",
      "1\n",
      "0\n",
      "(478, 856, 3)\n",
      "1\n"
     ]
    },
    {
     "name": "stderr",
     "output_type": "stream",
     "text": [
      "ERROR:root:An error occurred while processing faces: Given groups=1, weight of size [32, 3, 3, 3], expected input[1, 15, 160, 160] to have 3 channels, but got 15 channels instead\n"
     ]
    },
    {
     "name": "stdout",
     "output_type": "stream",
     "text": [
      "103\n",
      "(478, 856, 3)\n",
      "1\n",
      "206\n",
      "(478, 856, 3)\n",
      "1\n",
      "309\n",
      "(478, 856, 3)\n",
      "1\n",
      "413\n",
      "(478, 856, 3)\n",
      "1\n"
     ]
    },
    {
     "name": "stderr",
     "output_type": "stream",
     "text": [
      "INFO:root:Video length: 319 frames\n"
     ]
    },
    {
     "name": "stdout",
     "output_type": "stream",
     "text": [
      "0\n",
      "(478, 848, 3)\n",
      "1\n",
      "79\n",
      "(478, 848, 3)\n",
      "1\n",
      "159\n",
      "(478, 848, 3)\n",
      "1\n",
      "238\n",
      "(478, 848, 3)\n",
      "1\n",
      "318\n",
      "(478, 848, 3)\n",
      "1\n"
     ]
    },
    {
     "name": "stderr",
     "output_type": "stream",
     "text": [
      "ERROR:root:An error occurred while processing faces: Given groups=1, weight of size [32, 3, 3, 3], expected input[1, 15, 160, 160] to have 3 channels, but got 15 channels instead\n",
      "INFO:root:Video length: 341 frames\n",
      "ERROR:root:An error occurred while processing faces: Given groups=1, weight of size [32, 3, 3, 3], expected input[1, 15, 160, 160] to have 3 channels, but got 15 channels instead\n",
      "INFO:root:Video length: 319 frames\n"
     ]
    },
    {
     "name": "stdout",
     "output_type": "stream",
     "text": [
      "0\n",
      "(500, 676, 3)\n",
      "1\n",
      "85\n",
      "(500, 676, 3)\n",
      "1\n",
      "170\n",
      "(500, 676, 3)\n",
      "1\n",
      "255\n",
      "(500, 676, 3)\n",
      "1\n",
      "340\n",
      "(500, 676, 3)\n",
      "1\n",
      "0\n",
      "(476, 846, 3)\n",
      "1\n"
     ]
    },
    {
     "name": "stderr",
     "output_type": "stream",
     "text": [
      "ERROR:root:An error occurred while processing faces: Given groups=1, weight of size [32, 3, 3, 3], expected input[1, 15, 160, 160] to have 3 channels, but got 15 channels instead\n"
     ]
    },
    {
     "name": "stdout",
     "output_type": "stream",
     "text": [
      "79\n",
      "(476, 846, 3)\n",
      "1\n",
      "159\n",
      "(476, 846, 3)\n",
      "1\n",
      "238\n",
      "(476, 846, 3)\n",
      "1\n",
      "318\n",
      "(476, 846, 3)\n",
      "1\n"
     ]
    },
    {
     "name": "stderr",
     "output_type": "stream",
     "text": [
      "INFO:root:Video length: 469 frames\n"
     ]
    },
    {
     "name": "stdout",
     "output_type": "stream",
     "text": [
      "0\n",
      "(478, 856, 3)\n",
      "1\n",
      "117\n",
      "(478, 856, 3)\n",
      "1\n",
      "234\n",
      "(478, 856, 3)\n",
      "1\n",
      "351\n",
      "(478, 856, 3)\n",
      "1\n"
     ]
    },
    {
     "name": "stderr",
     "output_type": "stream",
     "text": [
      "ERROR:root:An error occurred while processing faces: Given groups=1, weight of size [32, 3, 3, 3], expected input[1, 15, 160, 160] to have 3 channels, but got 15 channels instead\n",
      "INFO:root:Video length: 292 frames\n"
     ]
    },
    {
     "name": "stdout",
     "output_type": "stream",
     "text": [
      "468\n",
      "(478, 856, 3)\n",
      "1\n",
      "0\n",
      "(470, 840, 3)\n",
      "1\n",
      "72\n",
      "(470, 840, 3)\n",
      "1\n",
      "145\n",
      "(470, 840, 3)\n",
      "1\n",
      "218\n",
      "(470, 840, 3)\n",
      "1\n",
      "291\n",
      "(470, 840, 3)\n"
     ]
    },
    {
     "name": "stderr",
     "output_type": "stream",
     "text": [
      "ERROR:root:An error occurred while processing faces: Given groups=1, weight of size [32, 3, 3, 3], expected input[1, 15, 160, 160] to have 3 channels, but got 15 channels instead\n",
      "INFO:root:Video length: 449 frames\n"
     ]
    },
    {
     "name": "stdout",
     "output_type": "stream",
     "text": [
      "1\n",
      "0\n",
      "(478, 856, 3)\n",
      "1\n",
      "112\n",
      "(478, 856, 3)\n",
      "1\n",
      "224\n",
      "(478, 856, 3)\n",
      "1\n"
     ]
    },
    {
     "name": "stderr",
     "output_type": "stream",
     "text": [
      "ERROR:root:An error occurred while processing faces: Given groups=1, weight of size [32, 3, 3, 3], expected input[1, 15, 160, 160] to have 3 channels, but got 15 channels instead\n",
      "INFO:root:Video length: 505 frames\n"
     ]
    },
    {
     "name": "stdout",
     "output_type": "stream",
     "text": [
      "336\n",
      "(478, 856, 3)\n",
      "1\n",
      "448\n",
      "(478, 856, 3)\n",
      "1\n",
      "0\n",
      "(500, 574, 3)\n",
      "1\n",
      "126\n",
      "(500, 574, 3)\n",
      "1\n",
      "252\n",
      "(500, 574, 3)\n",
      "1\n",
      "378\n",
      "(500, 574, 3)\n"
     ]
    },
    {
     "name": "stderr",
     "output_type": "stream",
     "text": [
      "ERROR:root:An error occurred while processing faces: Given groups=1, weight of size [32, 3, 3, 3], expected input[1, 15, 160, 160] to have 3 channels, but got 15 channels instead\n",
      "INFO:root:Video length: 349 frames\n"
     ]
    },
    {
     "name": "stdout",
     "output_type": "stream",
     "text": [
      "1\n",
      "504\n",
      "(500, 574, 3)\n",
      "1\n",
      "0\n",
      "(472, 850, 3)\n",
      "1\n",
      "87\n",
      "(472, 850, 3)\n",
      "1\n",
      "174\n",
      "(472, 850, 3)\n",
      "1\n",
      "261\n",
      "(472, 850, 3)\n",
      "1\n"
     ]
    },
    {
     "name": "stderr",
     "output_type": "stream",
     "text": [
      "ERROR:root:An error occurred while processing faces: Given groups=1, weight of size [32, 3, 3, 3], expected input[1, 15, 160, 160] to have 3 channels, but got 15 channels instead\n",
      "INFO:root:Video length: 305 frames\n"
     ]
    },
    {
     "name": "stdout",
     "output_type": "stream",
     "text": [
      "348\n",
      "(472, 850, 3)\n",
      "1\n",
      "0\n",
      "(478, 856, 3)\n",
      "1\n",
      "76\n",
      "(478, 856, 3)\n",
      "1\n",
      "152\n",
      "(478, 856, 3)\n",
      "1\n",
      "228\n",
      "(478, 856, 3)\n",
      "1\n",
      "304\n",
      "(478, 856, 3)\n"
     ]
    },
    {
     "name": "stderr",
     "output_type": "stream",
     "text": [
      "ERROR:root:An error occurred while processing faces: Given groups=1, weight of size [32, 3, 3, 3], expected input[1, 15, 160, 160] to have 3 channels, but got 15 channels instead\n",
      "INFO:root:Video length: 380 frames\n"
     ]
    },
    {
     "name": "stdout",
     "output_type": "stream",
     "text": [
      "1\n",
      "0\n",
      "(500, 528, 3)\n",
      "1\n",
      "94\n",
      "(500, 528, 3)\n",
      "1\n",
      "189\n",
      "(500, 528, 3)\n",
      "1\n",
      "284\n",
      "(500, 528, 3)\n",
      "1\n",
      "379\n",
      "(500, 528, 3)\n",
      "1\n"
     ]
    },
    {
     "name": "stderr",
     "output_type": "stream",
     "text": [
      "ERROR:root:An error occurred while processing faces: Given groups=1, weight of size [32, 3, 3, 3], expected input[1, 15, 160, 160] to have 3 channels, but got 15 channels instead\n",
      "INFO:root:Video length: 461 frames\n"
     ]
    },
    {
     "name": "stdout",
     "output_type": "stream",
     "text": [
      "0\n",
      "(478, 856, 3)\n",
      "1\n",
      "115\n",
      "(478, 856, 3)\n",
      "1\n",
      "230\n",
      "(478, 856, 3)\n",
      "1\n",
      "345\n",
      "(478, 856, 3)\n",
      "1\n"
     ]
    },
    {
     "name": "stderr",
     "output_type": "stream",
     "text": [
      "ERROR:root:An error occurred while processing faces: Given groups=1, weight of size [32, 3, 3, 3], expected input[1, 15, 160, 160] to have 3 channels, but got 15 channels instead\n",
      "INFO:root:Video length: 504 frames\n"
     ]
    },
    {
     "name": "stdout",
     "output_type": "stream",
     "text": [
      "460\n",
      "(478, 856, 3)\n",
      "1\n",
      "0\n",
      "(472, 850, 3)\n",
      "1\n",
      "125\n",
      "(472, 850, 3)\n",
      "1\n",
      "251\n",
      "(472, 850, 3)\n",
      "1\n",
      "377\n",
      "(472, 850, 3)\n",
      "1\n"
     ]
    },
    {
     "name": "stderr",
     "output_type": "stream",
     "text": [
      "ERROR:root:An error occurred while processing faces: Given groups=1, weight of size [32, 3, 3, 3], expected input[1, 15, 160, 160] to have 3 channels, but got 15 channels instead\n",
      "INFO:root:Video length: 331 frames\n"
     ]
    },
    {
     "name": "stdout",
     "output_type": "stream",
     "text": [
      "503\n",
      "(472, 850, 3)\n",
      "1\n",
      "0\n",
      "(500, 348, 3)\n",
      "1\n",
      "82\n",
      "(500, 348, 3)\n",
      "1\n",
      "165\n",
      "(500, 348, 3)\n",
      "1\n",
      "247\n",
      "(500, 348, 3)\n",
      "1\n",
      "330\n",
      "(500, 348, 3)\n",
      "1\n"
     ]
    },
    {
     "name": "stderr",
     "output_type": "stream",
     "text": [
      "ERROR:root:An error occurred while processing faces: Given groups=1, weight of size [32, 3, 3, 3], expected input[1, 15, 160, 160] to have 3 channels, but got 15 channels instead\n",
      "INFO:root:Video length: 321 frames\n"
     ]
    },
    {
     "name": "stdout",
     "output_type": "stream",
     "text": [
      "0\n",
      "(500, 672, 3)\n",
      "1\n",
      "80\n",
      "(500, 672, 3)\n",
      "1\n",
      "160\n",
      "(500, 672, 3)\n",
      "1\n",
      "240\n",
      "(500, 672, 3)\n",
      "1\n",
      "320\n",
      "(500, 672, 3)\n",
      "1\n"
     ]
    },
    {
     "name": "stderr",
     "output_type": "stream",
     "text": [
      "ERROR:root:An error occurred while processing faces: Given groups=1, weight of size [32, 3, 3, 3], expected input[1, 15, 160, 160] to have 3 channels, but got 15 channels instead\n",
      "INFO:root:Video length: 472 frames\n"
     ]
    },
    {
     "name": "stdout",
     "output_type": "stream",
     "text": [
      "0\n",
      "(480, 852, 3)\n",
      "1\n",
      "117\n",
      "(480, 852, 3)\n",
      "1\n",
      "235\n",
      "(480, 852, 3)\n",
      "1\n",
      "353\n",
      "(480, 852, 3)\n"
     ]
    },
    {
     "name": "stderr",
     "output_type": "stream",
     "text": [
      "ERROR:root:An error occurred while processing faces: Given groups=1, weight of size [32, 3, 3, 3], expected input[1, 15, 160, 160] to have 3 channels, but got 15 channels instead\n",
      "INFO:root:Video length: 372 frames\n"
     ]
    },
    {
     "name": "stdout",
     "output_type": "stream",
     "text": [
      "1\n",
      "471\n",
      "(480, 852, 3)\n",
      "1\n",
      "0\n",
      "(500, 944, 3)\n",
      "1\n",
      "92\n",
      "(500, 944, 3)\n",
      "1\n"
     ]
    },
    {
     "name": "stderr",
     "output_type": "stream",
     "text": [
      "ERROR:root:An error occurred while processing faces: Given groups=1, weight of size [32, 3, 3, 3], expected input[1, 15, 160, 160] to have 3 channels, but got 15 channels instead\n",
      "INFO:root:Video length: 315 frames\n"
     ]
    },
    {
     "name": "stdout",
     "output_type": "stream",
     "text": [
      "185\n",
      "(500, 944, 3)\n",
      "1\n",
      "278\n",
      "(500, 944, 3)\n",
      "1\n",
      "371\n",
      "(500, 944, 3)\n",
      "1\n",
      "0\n",
      "(474, 844, 3)\n",
      "1\n",
      "78\n",
      "(474, 844, 3)\n",
      "1\n"
     ]
    },
    {
     "name": "stderr",
     "output_type": "stream",
     "text": [
      "ERROR:root:An error occurred while processing faces: Given groups=1, weight of size [32, 3, 3, 3], expected input[1, 15, 160, 160] to have 3 channels, but got 15 channels instead\n",
      "INFO:root:Video length: 479 frames\n"
     ]
    },
    {
     "name": "stdout",
     "output_type": "stream",
     "text": [
      "157\n",
      "(474, 844, 3)\n",
      "1\n",
      "235\n",
      "(474, 844, 3)\n",
      "1\n",
      "314\n",
      "(474, 844, 3)\n",
      "1\n",
      "0\n",
      "(472, 850, 3)\n",
      "1\n",
      "119\n",
      "(472, 850, 3)\n",
      "1\n"
     ]
    },
    {
     "name": "stderr",
     "output_type": "stream",
     "text": [
      "ERROR:root:An error occurred while processing faces: Given groups=1, weight of size [32, 3, 3, 3], expected input[1, 15, 160, 160] to have 3 channels, but got 15 channels instead\n",
      "INFO:root:Video length: 494 frames\n"
     ]
    },
    {
     "name": "stdout",
     "output_type": "stream",
     "text": [
      "239\n",
      "(472, 850, 3)\n",
      "1\n",
      "358\n",
      "(472, 850, 3)\n",
      "1\n",
      "478\n",
      "(472, 850, 3)\n",
      "1\n",
      "0\n",
      "(478, 856, 3)\n",
      "1\n",
      "123\n",
      "(478, 856, 3)\n",
      "1\n"
     ]
    },
    {
     "name": "stderr",
     "output_type": "stream",
     "text": [
      "ERROR:root:An error occurred while processing faces: Given groups=1, weight of size [32, 3, 3, 3], expected input[1, 15, 160, 160] to have 3 channels, but got 15 channels instead\n",
      "INFO:root:Video length: 504 frames\n"
     ]
    },
    {
     "name": "stdout",
     "output_type": "stream",
     "text": [
      "246\n",
      "(478, 856, 3)\n",
      "1\n",
      "369\n",
      "(478, 856, 3)\n",
      "1\n",
      "493\n",
      "(478, 856, 3)\n",
      "1\n",
      "0\n",
      "(472, 850, 3)\n",
      "1\n",
      "125\n",
      "(472, 850, 3)\n",
      "1\n",
      "251\n"
     ]
    },
    {
     "name": "stderr",
     "output_type": "stream",
     "text": [
      "ERROR:root:An error occurred while processing faces: Given groups=1, weight of size [32, 3, 3, 3], expected input[1, 15, 160, 160] to have 3 channels, but got 15 channels instead\n",
      "INFO:root:Video length: 479 frames\n"
     ]
    },
    {
     "name": "stdout",
     "output_type": "stream",
     "text": [
      "(472, 850, 3)\n",
      "1\n",
      "377\n",
      "(472, 850, 3)\n",
      "1\n",
      "503\n",
      "(472, 850, 3)\n",
      "1\n",
      "0\n",
      "(500, 944, 3)\n",
      "1\n",
      "119\n",
      "(500, 944, 3)\n"
     ]
    },
    {
     "name": "stderr",
     "output_type": "stream",
     "text": [
      "ERROR:root:An error occurred while processing faces: Given groups=1, weight of size [32, 3, 3, 3], expected input[1, 15, 160, 160] to have 3 channels, but got 15 channels instead\n",
      "INFO:root:Video length: 412 frames\n"
     ]
    },
    {
     "name": "stdout",
     "output_type": "stream",
     "text": [
      "1\n",
      "239\n",
      "(500, 944, 3)\n",
      "1\n",
      "358\n",
      "(500, 944, 3)\n",
      "1\n",
      "478\n",
      "(500, 944, 3)\n",
      "1\n",
      "0\n",
      "(500, 480, 3)\n",
      "1\n"
     ]
    },
    {
     "name": "stderr",
     "output_type": "stream",
     "text": [
      "ERROR:root:An error occurred while processing faces: Given groups=1, weight of size [32, 3, 3, 3], expected input[1, 15, 160, 160] to have 3 channels, but got 15 channels instead\n",
      "INFO:root:Video length: 310 frames\n"
     ]
    },
    {
     "name": "stdout",
     "output_type": "stream",
     "text": [
      "102\n",
      "(500, 480, 3)\n",
      "1\n",
      "205\n",
      "(500, 480, 3)\n",
      "1\n",
      "308\n",
      "(500, 480, 3)\n",
      "1\n",
      "411\n",
      "(500, 480, 3)\n",
      "1\n",
      "0\n",
      "(478, 852, 3)\n",
      "1\n"
     ]
    },
    {
     "name": "stderr",
     "output_type": "stream",
     "text": [
      "ERROR:root:An error occurred while processing faces: Given groups=1, weight of size [32, 3, 3, 3], expected input[1, 15, 160, 160] to have 3 channels, but got 15 channels instead\n",
      "INFO:root:Video length: 451 frames\n"
     ]
    },
    {
     "name": "stdout",
     "output_type": "stream",
     "text": [
      "77\n",
      "(478, 852, 3)\n",
      "1\n",
      "154\n",
      "(478, 852, 3)\n",
      "1\n",
      "231\n",
      "(478, 852, 3)\n",
      "1\n",
      "309\n",
      "(478, 852, 3)\n",
      "1\n",
      "0\n",
      "(472, 850, 3)\n",
      "1\n"
     ]
    },
    {
     "name": "stderr",
     "output_type": "stream",
     "text": [
      "ERROR:root:An error occurred while processing faces: Given groups=1, weight of size [32, 3, 3, 3], expected input[1, 15, 160, 160] to have 3 channels, but got 15 channels instead\n"
     ]
    },
    {
     "name": "stdout",
     "output_type": "stream",
     "text": [
      "112\n",
      "(472, 850, 3)\n",
      "1\n",
      "225\n",
      "(472, 850, 3)\n",
      "1\n",
      "337\n",
      "(472, 850, 3)\n",
      "1\n",
      "450\n",
      "(472, 850, 3)\n",
      "1\n"
     ]
    },
    {
     "name": "stderr",
     "output_type": "stream",
     "text": [
      "INFO:root:Video length: 491 frames\n"
     ]
    },
    {
     "name": "stdout",
     "output_type": "stream",
     "text": [
      "0\n",
      "(500, 944, 3)\n",
      "1\n",
      "122\n",
      "(500, 944, 3)\n",
      "1\n",
      "245\n",
      "(500, 944, 3)\n",
      "1\n",
      "367\n",
      "(500, 944, 3)\n",
      "1\n",
      "490\n",
      "(500, 944, 3)\n",
      "1\n"
     ]
    },
    {
     "name": "stderr",
     "output_type": "stream",
     "text": [
      "ERROR:root:An error occurred while processing faces: Given groups=1, weight of size [32, 3, 3, 3], expected input[1, 15, 160, 160] to have 3 channels, but got 15 channels instead\n",
      "INFO:root:Video length: 365 frames\n"
     ]
    },
    {
     "name": "stdout",
     "output_type": "stream",
     "text": [
      "0\n",
      "(476, 846, 3)\n",
      "1\n",
      "91\n",
      "(476, 846, 3)\n",
      "1\n",
      "182\n",
      "(476, 846, 3)\n",
      "1\n",
      "273\n",
      "(476, 846, 3)\n",
      "1\n",
      "364\n",
      "(476, 846, 3)\n",
      "1\n"
     ]
    },
    {
     "name": "stderr",
     "output_type": "stream",
     "text": [
      "ERROR:root:An error occurred while processing faces: Given groups=1, weight of size [32, 3, 3, 3], expected input[1, 15, 160, 160] to have 3 channels, but got 15 channels instead\n",
      "INFO:root:Video length: 412 frames\n",
      "ERROR:root:An error occurred while processing faces: Given groups=1, weight of size [32, 3, 3, 3], expected input[1, 15, 160, 160] to have 3 channels, but got 15 channels instead\n",
      "INFO:root:Video length: 437 frames\n"
     ]
    },
    {
     "name": "stdout",
     "output_type": "stream",
     "text": [
      "0\n",
      "(500, 480, 3)\n",
      "1\n",
      "102\n",
      "(500, 480, 3)\n",
      "1\n",
      "205\n",
      "(500, 480, 3)\n",
      "1\n",
      "308\n",
      "(500, 480, 3)\n",
      "1\n",
      "411\n",
      "(500, 480, 3)\n",
      "1\n",
      "0\n",
      "(500, 944, 3)\n",
      "1\n",
      "109\n",
      "(500, 944, 3)\n",
      "1\n",
      "218\n",
      "(500, 944, 3)\n",
      "1\n",
      "327\n",
      "(500, 944, 3)\n",
      "1\n",
      "436\n"
     ]
    },
    {
     "name": "stderr",
     "output_type": "stream",
     "text": [
      "ERROR:root:An error occurred while processing faces: Given groups=1, weight of size [32, 3, 3, 3], expected input[1, 15, 160, 160] to have 3 channels, but got 15 channels instead\n",
      "INFO:root:Video length: 467 frames\n"
     ]
    },
    {
     "name": "stdout",
     "output_type": "stream",
     "text": [
      "(500, 944, 3)\n",
      "1\n",
      "0\n",
      "(472, 850, 3)\n",
      "1\n",
      "116\n",
      "(472, 850, 3)\n",
      "1\n",
      "233\n",
      "(472, 850, 3)\n",
      "1\n",
      "349\n",
      "(472, 850, 3)\n",
      "1\n"
     ]
    },
    {
     "name": "stderr",
     "output_type": "stream",
     "text": [
      "ERROR:root:An error occurred while processing faces: Given groups=1, weight of size [32, 3, 3, 3], expected input[1, 15, 160, 160] to have 3 channels, but got 15 channels instead\n",
      "INFO:root:Video length: 370 frames\n"
     ]
    },
    {
     "name": "stdout",
     "output_type": "stream",
     "text": [
      "466\n",
      "(472, 850, 3)\n",
      "1\n",
      "0\n",
      "(478, 856, 3)\n",
      "1\n",
      "92\n",
      "(478, 856, 3)\n",
      "1\n",
      "184\n",
      "(478, 856, 3)\n",
      "1\n",
      "276\n",
      "(478, 856, 3)\n",
      "1\n",
      "369\n",
      "(478, 856, 3)\n",
      "1\n"
     ]
    },
    {
     "name": "stderr",
     "output_type": "stream",
     "text": [
      "ERROR:root:An error occurred while processing faces: Given groups=1, weight of size [32, 3, 3, 3], expected input[1, 15, 160, 160] to have 3 channels, but got 15 channels instead\n",
      "INFO:root:Video length: 320 frames\n"
     ]
    },
    {
     "name": "stdout",
     "output_type": "stream",
     "text": [
      "0\n",
      "(472, 848, 3)\n",
      "1\n",
      "79\n",
      "(472, 848, 3)\n",
      "1\n",
      "159\n",
      "(472, 848, 3)\n",
      "1\n",
      "239\n",
      "(472, 848, 3)\n",
      "1\n",
      "319\n",
      "(472, 848, 3)\n",
      "1\n"
     ]
    },
    {
     "name": "stderr",
     "output_type": "stream",
     "text": [
      "ERROR:root:An error occurred while processing faces: Given groups=1, weight of size [32, 3, 3, 3], expected input[1, 15, 160, 160] to have 3 channels, but got 15 channels instead\n",
      "INFO:root:Video length: 383 frames\n",
      "ERROR:root:An error occurred while processing faces: Given groups=1, weight of size [32, 3, 3, 3], expected input[1, 15, 160, 160] to have 3 channels, but got 15 channels instead\n"
     ]
    },
    {
     "name": "stdout",
     "output_type": "stream",
     "text": [
      "0\n",
      "(478, 856, 3)\n",
      "1\n",
      "95\n",
      "(478, 856, 3)\n",
      "1\n",
      "191\n",
      "(478, 856, 3)\n",
      "1\n",
      "286\n",
      "(478, 856, 3)\n",
      "1\n",
      "382\n",
      "(478, 856, 3)\n",
      "1\n"
     ]
    },
    {
     "name": "stderr",
     "output_type": "stream",
     "text": [
      "INFO:root:Video length: 465 frames\n"
     ]
    },
    {
     "name": "stdout",
     "output_type": "stream",
     "text": [
      "0\n",
      "(472, 850, 3)\n",
      "1\n",
      "116\n",
      "(472, 850, 3)\n",
      "1\n",
      "232\n",
      "(472, 850, 3)\n",
      "1\n",
      "348\n",
      "(472, 850, 3)\n",
      "1\n"
     ]
    },
    {
     "name": "stderr",
     "output_type": "stream",
     "text": [
      "ERROR:root:An error occurred while processing faces: Given groups=1, weight of size [32, 3, 3, 3], expected input[1, 15, 160, 160] to have 3 channels, but got 15 channels instead\n",
      "INFO:root:Video length: 328 frames\n"
     ]
    },
    {
     "name": "stdout",
     "output_type": "stream",
     "text": [
      "464\n",
      "(472, 850, 3)\n",
      "1\n",
      "0\n",
      "(452, 844, 3)\n",
      "1\n",
      "81\n",
      "(452, 844, 3)\n",
      "1\n",
      "163\n",
      "(452, 844, 3)\n",
      "1\n",
      "245\n",
      "(452, 844, 3)\n",
      "1\n"
     ]
    },
    {
     "name": "stderr",
     "output_type": "stream",
     "text": [
      "ERROR:root:An error occurred while processing faces: Given groups=1, weight of size [32, 3, 3, 3], expected input[1, 15, 160, 160] to have 3 channels, but got 15 channels instead\n",
      "INFO:root:Video length: 485 frames\n"
     ]
    },
    {
     "name": "stdout",
     "output_type": "stream",
     "text": [
      "327\n",
      "(452, 844, 3)\n",
      "1\n",
      "0\n",
      "(472, 850, 3)\n",
      "1\n",
      "121\n",
      "(472, 850, 3)\n",
      "1\n",
      "242\n",
      "(472, 850, 3)\n",
      "1\n",
      "363\n",
      "(472, 850, 3)\n",
      "1\n"
     ]
    },
    {
     "name": "stderr",
     "output_type": "stream",
     "text": [
      "ERROR:root:An error occurred while processing faces: Given groups=1, weight of size [32, 3, 3, 3], expected input[1, 15, 160, 160] to have 3 channels, but got 15 channels instead\n",
      "INFO:root:Video length: 454 frames\n"
     ]
    },
    {
     "name": "stdout",
     "output_type": "stream",
     "text": [
      "484\n",
      "(472, 850, 3)\n",
      "1\n",
      "0\n",
      "(478, 856, 3)\n",
      "1\n",
      "113\n",
      "(478, 856, 3)\n",
      "1\n",
      "226\n",
      "(478, 856, 3)\n",
      "1\n",
      "339\n",
      "(478, 856, 3)\n",
      "1\n"
     ]
    },
    {
     "name": "stderr",
     "output_type": "stream",
     "text": [
      "ERROR:root:An error occurred while processing faces: Given groups=1, weight of size [32, 3, 3, 3], expected input[1, 15, 160, 160] to have 3 channels, but got 15 channels instead\n",
      "INFO:root:Video length: 457 frames\n"
     ]
    },
    {
     "name": "stdout",
     "output_type": "stream",
     "text": [
      "453\n",
      "(478, 856, 3)\n",
      "1\n",
      "0\n",
      "(478, 856, 3)\n",
      "1\n",
      "114\n",
      "(478, 856, 3)\n",
      "1\n",
      "228\n",
      "(478, 856, 3)\n",
      "1\n",
      "342\n",
      "(478, 856, 3)\n",
      "1\n"
     ]
    },
    {
     "name": "stderr",
     "output_type": "stream",
     "text": [
      "ERROR:root:An error occurred while processing faces: Given groups=1, weight of size [32, 3, 3, 3], expected input[1, 15, 160, 160] to have 3 channels, but got 15 channels instead\n",
      "INFO:root:Video length: 319 frames\n",
      "ERROR:root:An error occurred while processing faces: Given groups=1, weight of size [32, 3, 3, 3], expected input[1, 15, 160, 160] to have 3 channels, but got 15 channels instead\n"
     ]
    },
    {
     "name": "stdout",
     "output_type": "stream",
     "text": [
      "456\n",
      "(478, 856, 3)\n",
      "1\n",
      "0\n",
      "(300, 286, 3)\n",
      "1\n",
      "79\n",
      "(300, 286, 3)\n",
      "1\n",
      "159\n",
      "(300, 286, 3)\n",
      "1\n",
      "238\n",
      "(300, 286, 3)\n",
      "1\n",
      "318\n",
      "(300, 286, 3)\n",
      "1\n"
     ]
    },
    {
     "name": "stderr",
     "output_type": "stream",
     "text": [
      "INFO:root:Video length: 404 frames\n",
      "ERROR:root:An error occurred while processing faces: Given groups=1, weight of size [32, 3, 3, 3], expected input[1, 15, 160, 160] to have 3 channels, but got 15 channels instead\n"
     ]
    },
    {
     "name": "stdout",
     "output_type": "stream",
     "text": [
      "0\n",
      "(472, 850, 3)\n",
      "1\n",
      "100\n",
      "(472, 850, 3)\n",
      "1\n",
      "201\n",
      "(472, 850, 3)\n",
      "1\n",
      "302\n",
      "(472, 850, 3)\n",
      "1\n",
      "403\n",
      "(472, 850, 3)\n",
      "1\n"
     ]
    },
    {
     "name": "stderr",
     "output_type": "stream",
     "text": [
      "INFO:root:Video length: 476 frames\n",
      "ERROR:root:An error occurred while processing faces: Given groups=1, weight of size [32, 3, 3, 3], expected input[1, 15, 160, 160] to have 3 channels, but got 15 channels instead\n"
     ]
    },
    {
     "name": "stdout",
     "output_type": "stream",
     "text": [
      "0\n",
      "(500, 892, 3)\n",
      "1\n",
      "118\n",
      "(500, 892, 3)\n",
      "1\n",
      "237\n",
      "(500, 892, 3)\n",
      "1\n",
      "356\n",
      "(500, 892, 3)\n",
      "1\n",
      "475\n",
      "(500, 892, 3)\n",
      "1\n"
     ]
    },
    {
     "name": "stderr",
     "output_type": "stream",
     "text": [
      "INFO:root:Video length: 478 frames\n"
     ]
    },
    {
     "name": "stdout",
     "output_type": "stream",
     "text": [
      "0\n",
      "(500, 892, 3)\n",
      "1\n",
      "119\n",
      "(500, 892, 3)\n",
      "1\n",
      "238\n",
      "(500, 892, 3)\n",
      "1\n",
      "357\n",
      "(500, 892, 3)\n",
      "1\n",
      "477\n",
      "(500, 892, 3)\n",
      "1\n"
     ]
    },
    {
     "name": "stderr",
     "output_type": "stream",
     "text": [
      "ERROR:root:An error occurred while processing faces: Given groups=1, weight of size [32, 3, 3, 3], expected input[1, 15, 160, 160] to have 3 channels, but got 15 channels instead\n",
      "INFO:root:Video length: 267 frames\n"
     ]
    },
    {
     "name": "stdout",
     "output_type": "stream",
     "text": [
      "0\n",
      "(500, 754, 3)\n",
      "1\n",
      "66\n",
      "(500, 754, 3)\n",
      "1\n",
      "133\n",
      "(500, 754, 3)\n",
      "1\n",
      "199\n",
      "(500, 754, 3)\n",
      "1\n",
      "266\n",
      "(500, 754, 3)\n",
      "1\n"
     ]
    },
    {
     "name": "stderr",
     "output_type": "stream",
     "text": [
      "ERROR:root:An error occurred while processing faces: Given groups=1, weight of size [32, 3, 3, 3], expected input[1, 15, 160, 160] to have 3 channels, but got 15 channels instead\n",
      "INFO:root:Video length: 323 frames\n",
      "ERROR:root:An error occurred while processing faces: Given groups=1, weight of size [32, 3, 3, 3], expected input[1, 15, 160, 160] to have 3 channels, but got 15 channels instead\n"
     ]
    },
    {
     "name": "stdout",
     "output_type": "stream",
     "text": [
      "0\n",
      "(474, 846, 3)\n",
      "1\n",
      "80\n",
      "(474, 846, 3)\n",
      "1\n",
      "161\n",
      "(474, 846, 3)\n",
      "1\n",
      "241\n",
      "(474, 846, 3)\n",
      "1\n",
      "322\n",
      "(474, 846, 3)\n",
      "1\n"
     ]
    },
    {
     "name": "stderr",
     "output_type": "stream",
     "text": [
      "INFO:root:Video length: 315 frames\n",
      "ERROR:root:An error occurred while processing faces: Given groups=1, weight of size [32, 3, 3, 3], expected input[1, 15, 160, 160] to have 3 channels, but got 15 channels instead\n",
      "INFO:root:Video length: 460 frames\n"
     ]
    },
    {
     "name": "stdout",
     "output_type": "stream",
     "text": [
      "0\n",
      "(500, 532, 3)\n",
      "1\n",
      "78\n",
      "(500, 532, 3)\n",
      "1\n",
      "157\n",
      "(500, 532, 3)\n",
      "1\n",
      "235\n",
      "(500, 532, 3)\n",
      "1\n",
      "314\n",
      "(500, 532, 3)\n",
      "1\n",
      "0\n",
      "(478, 856, 3)\n",
      "1\n"
     ]
    },
    {
     "name": "stderr",
     "output_type": "stream",
     "text": [
      "ERROR:root:An error occurred while processing faces: Given groups=1, weight of size [32, 3, 3, 3], expected input[1, 15, 160, 160] to have 3 channels, but got 15 channels instead\n"
     ]
    },
    {
     "name": "stdout",
     "output_type": "stream",
     "text": [
      "114\n",
      "(478, 856, 3)\n",
      "1\n",
      "229\n",
      "(478, 856, 3)\n",
      "1\n",
      "344\n",
      "(478, 856, 3)\n",
      "1\n",
      "459\n",
      "(478, 856, 3)\n",
      "1\n"
     ]
    },
    {
     "name": "stderr",
     "output_type": "stream",
     "text": [
      "INFO:root:Video length: 305 frames\n",
      "ERROR:root:An error occurred while processing faces: Given groups=1, weight of size [32, 3, 3, 3], expected input[1, 15, 160, 160] to have 3 channels, but got 15 channels instead\n"
     ]
    },
    {
     "name": "stdout",
     "output_type": "stream",
     "text": [
      "0\n",
      "(500, 590, 3)\n",
      "1\n",
      "76\n",
      "(500, 590, 3)\n",
      "1\n",
      "152\n",
      "(500, 590, 3)\n",
      "1\n",
      "228\n",
      "(500, 590, 3)\n",
      "1\n",
      "304\n",
      "(500, 590, 3)\n",
      "1\n"
     ]
    },
    {
     "name": "stderr",
     "output_type": "stream",
     "text": [
      "INFO:root:Video length: 330 frames\n",
      "ERROR:root:An error occurred while processing faces: Given groups=1, weight of size [32, 3, 3, 3], expected input[1, 15, 160, 160] to have 3 channels, but got 15 channels instead\n"
     ]
    },
    {
     "name": "stdout",
     "output_type": "stream",
     "text": [
      "0\n",
      "(472, 844, 3)\n",
      "1\n",
      "82\n",
      "(472, 844, 3)\n",
      "1\n",
      "164\n",
      "(472, 844, 3)\n",
      "1\n",
      "246\n",
      "(472, 844, 3)\n",
      "1\n",
      "329\n",
      "(472, 844, 3)\n",
      "1\n"
     ]
    },
    {
     "name": "stderr",
     "output_type": "stream",
     "text": [
      "INFO:root:Video length: 311 frames\n",
      "ERROR:root:An error occurred while processing faces: Given groups=1, weight of size [32, 3, 3, 3], expected input[1, 15, 160, 160] to have 3 channels, but got 15 channels instead\n",
      "INFO:root:Video length: 338 frames\n"
     ]
    },
    {
     "name": "stdout",
     "output_type": "stream",
     "text": [
      "0\n",
      "(500, 620, 3)\n",
      "1\n",
      "77\n",
      "(500, 620, 3)\n",
      "1\n",
      "155\n",
      "(500, 620, 3)\n",
      "1\n",
      "232\n",
      "(500, 620, 3)\n",
      "1\n",
      "310\n",
      "(500, 620, 3)\n",
      "1\n",
      "0\n",
      "(500, 674, 3)\n",
      "1\n",
      "84\n"
     ]
    },
    {
     "name": "stderr",
     "output_type": "stream",
     "text": [
      "ERROR:root:An error occurred while processing faces: Given groups=1, weight of size [32, 3, 3, 3], expected input[1, 15, 160, 160] to have 3 channels, but got 15 channels instead\n",
      "INFO:root:Video length: 377 frames\n"
     ]
    },
    {
     "name": "stdout",
     "output_type": "stream",
     "text": [
      "(500, 674, 3)\n",
      "1\n",
      "168\n",
      "(500, 674, 3)\n",
      "1\n",
      "252\n",
      "(500, 674, 3)\n",
      "1\n",
      "337\n",
      "(500, 674, 3)\n",
      "1\n",
      "0\n",
      "(478, 856, 3)\n",
      "1\n",
      "94\n",
      "(478, 856, 3)\n",
      "1\n"
     ]
    },
    {
     "name": "stderr",
     "output_type": "stream",
     "text": [
      "ERROR:root:An error occurred while processing faces: Given groups=1, weight of size [32, 3, 3, 3], expected input[1, 15, 160, 160] to have 3 channels, but got 15 channels instead\n",
      "INFO:root:Video length: 408 frames\n"
     ]
    },
    {
     "name": "stdout",
     "output_type": "stream",
     "text": [
      "188\n",
      "(478, 856, 3)\n",
      "1\n",
      "282\n",
      "(478, 856, 3)\n",
      "1\n",
      "376\n",
      "(478, 856, 3)\n",
      "1\n",
      "0\n",
      "(500, 892, 3)\n",
      "1\n",
      "101\n",
      "(500, 892, 3)\n",
      "1\n"
     ]
    },
    {
     "name": "stderr",
     "output_type": "stream",
     "text": [
      "ERROR:root:An error occurred while processing faces: Given groups=1, weight of size [32, 3, 3, 3], expected input[1, 15, 160, 160] to have 3 channels, but got 15 channels instead\n",
      "INFO:root:Video length: 311 frames\n"
     ]
    },
    {
     "name": "stdout",
     "output_type": "stream",
     "text": [
      "203\n",
      "(500, 892, 3)\n",
      "1\n",
      "305\n",
      "(500, 892, 3)\n",
      "1\n",
      "407\n",
      "(500, 892, 3)\n",
      "1\n",
      "0\n",
      "(474, 846, 3)\n",
      "1\n",
      "77\n",
      "(474, 846, 3)\n",
      "1\n",
      "155\n",
      "(474, 846, 3)\n",
      "1\n",
      "232\n",
      "(474, 846, 3)\n"
     ]
    },
    {
     "name": "stderr",
     "output_type": "stream",
     "text": [
      "ERROR:root:An error occurred while processing faces: Given groups=1, weight of size [32, 3, 3, 3], expected input[1, 15, 160, 160] to have 3 channels, but got 15 channels instead\n",
      "INFO:root:Video length: 247 frames\n"
     ]
    },
    {
     "name": "stdout",
     "output_type": "stream",
     "text": [
      "1\n",
      "310\n",
      "(474, 846, 3)\n",
      "1\n",
      "0\n",
      "(440, 612, 3)\n",
      "1\n",
      "61\n",
      "(440, 612, 3)\n",
      "1\n",
      "123\n",
      "(440, 612, 3)\n",
      "1\n"
     ]
    },
    {
     "name": "stderr",
     "output_type": "stream",
     "text": [
      "ERROR:root:An error occurred while processing faces: Given groups=1, weight of size [32, 3, 3, 3], expected input[1, 15, 160, 160] to have 3 channels, but got 15 channels instead\n",
      "INFO:root:Video length: 400 frames\n"
     ]
    },
    {
     "name": "stdout",
     "output_type": "stream",
     "text": [
      "184\n",
      "(440, 612, 3)\n",
      "1\n",
      "246\n",
      "(440, 612, 3)\n",
      "1\n",
      "0\n",
      "(500, 494, 3)\n",
      "1\n",
      "99\n",
      "(500, 494, 3)\n",
      "1\n",
      "199\n",
      "(500, 494, 3)\n",
      "1\n",
      "299\n",
      "(500, 494, 3)\n",
      "1\n",
      "399\n",
      "(500, 494, 3)\n",
      "1\n"
     ]
    },
    {
     "name": "stderr",
     "output_type": "stream",
     "text": [
      "ERROR:root:An error occurred while processing faces: Given groups=1, weight of size [32, 3, 3, 3], expected input[1, 15, 160, 160] to have 3 channels, but got 15 channels instead\n",
      "INFO:root:Video length: 446 frames\n"
     ]
    },
    {
     "name": "stdout",
     "output_type": "stream",
     "text": [
      "0\n",
      "(466, 848, 3)\n",
      "1\n",
      "111\n",
      "(466, 848, 3)\n",
      "1\n",
      "222\n",
      "(466, 848, 3)\n",
      "1\n",
      "333\n",
      "(466, 848, 3)\n",
      "1\n",
      "445\n",
      "(466, 848, 3)\n",
      "1\n"
     ]
    },
    {
     "name": "stderr",
     "output_type": "stream",
     "text": [
      "ERROR:root:An error occurred while processing faces: Given groups=1, weight of size [32, 3, 3, 3], expected input[1, 15, 160, 160] to have 3 channels, but got 15 channels instead\n",
      "INFO:root:Video length: 311 frames\n",
      "ERROR:root:An error occurred while processing faces: Given groups=1, weight of size [32, 3, 3, 3], expected input[1, 15, 160, 160] to have 3 channels, but got 15 channels instead\n",
      "INFO:root:Video length: 272 frames\n"
     ]
    },
    {
     "name": "stdout",
     "output_type": "stream",
     "text": [
      "0\n",
      "(500, 590, 3)\n",
      "1\n",
      "77\n",
      "(500, 590, 3)\n",
      "1\n",
      "155\n",
      "(500, 590, 3)\n",
      "1\n",
      "232\n",
      "(500, 590, 3)\n",
      "1\n",
      "310\n",
      "(500, 590, 3)\n",
      "1\n",
      "0\n",
      "(500, 456, 3)\n",
      "1\n"
     ]
    },
    {
     "name": "stderr",
     "output_type": "stream",
     "text": [
      "ERROR:root:An error occurred while processing faces: Given groups=1, weight of size [32, 3, 3, 3], expected input[1, 15, 160, 160] to have 3 channels, but got 15 channels instead\n",
      "INFO:root:Video length: 409 frames\n"
     ]
    },
    {
     "name": "stdout",
     "output_type": "stream",
     "text": [
      "67\n",
      "(500, 456, 3)\n",
      "1\n",
      "135\n",
      "(500, 456, 3)\n",
      "1\n",
      "203\n",
      "(500, 456, 3)\n",
      "1\n",
      "271\n",
      "(500, 456, 3)\n",
      "1\n",
      "0\n",
      "(500, 568, 3)\n",
      "1\n",
      "102\n",
      "(500, 568, 3)\n",
      "1\n",
      "204\n",
      "(500, 568, 3)\n",
      "1\n"
     ]
    },
    {
     "name": "stderr",
     "output_type": "stream",
     "text": [
      "ERROR:root:An error occurred while processing faces: Given groups=1, weight of size [32, 3, 3, 3], expected input[1, 15, 160, 160] to have 3 channels, but got 15 channels instead\n",
      "INFO:root:Video length: 322 frames\n"
     ]
    },
    {
     "name": "stdout",
     "output_type": "stream",
     "text": [
      "306\n",
      "(500, 568, 3)\n",
      "1\n",
      "408\n",
      "(500, 568, 3)\n",
      "1\n",
      "0\n",
      "(466, 848, 3)\n",
      "1\n",
      "80\n",
      "(466, 848, 3)\n",
      "1\n",
      "160\n",
      "(466, 848, 3)\n",
      "1\n",
      "240\n",
      "(466, 848, 3)\n",
      "1\n"
     ]
    },
    {
     "name": "stderr",
     "output_type": "stream",
     "text": [
      "ERROR:root:An error occurred while processing faces: Given groups=1, weight of size [32, 3, 3, 3], expected input[1, 15, 160, 160] to have 3 channels, but got 15 channels instead\n",
      "INFO:root:Video length: 224 frames\n"
     ]
    },
    {
     "name": "stdout",
     "output_type": "stream",
     "text": [
      "321\n",
      "(466, 848, 3)\n",
      "1\n",
      "0\n",
      "(500, 950, 3)\n",
      "1\n",
      "55\n",
      "(500, 950, 3)\n",
      "1\n",
      "111\n",
      "(500, 950, 3)\n",
      "1\n",
      "167\n",
      "(500, 950, 3)\n",
      "1\n"
     ]
    },
    {
     "name": "stderr",
     "output_type": "stream",
     "text": [
      "ERROR:root:An error occurred while processing faces: Given groups=1, weight of size [32, 3, 3, 3], expected input[1, 15, 160, 160] to have 3 channels, but got 15 channels instead\n",
      "INFO:root:Video length: 341 frames\n"
     ]
    },
    {
     "name": "stdout",
     "output_type": "stream",
     "text": [
      "223\n",
      "(500, 950, 3)\n",
      "1\n",
      "0\n",
      "(472, 850, 3)\n",
      "1\n",
      "85\n",
      "(472, 850, 3)\n",
      "1\n",
      "170\n",
      "(472, 850, 3)\n",
      "1\n",
      "255\n",
      "(472, 850, 3)\n",
      "1\n",
      "340\n",
      "(472, 850, 3)\n",
      "1\n"
     ]
    },
    {
     "name": "stderr",
     "output_type": "stream",
     "text": [
      "ERROR:root:An error occurred while processing faces: Given groups=1, weight of size [32, 3, 3, 3], expected input[1, 15, 160, 160] to have 3 channels, but got 15 channels instead\n",
      "INFO:root:Video length: 313 frames\n",
      "ERROR:root:An error occurred while processing faces: Given groups=1, weight of size [32, 3, 3, 3], expected input[1, 15, 160, 160] to have 3 channels, but got 15 channels instead\n"
     ]
    },
    {
     "name": "stdout",
     "output_type": "stream",
     "text": [
      "0\n",
      "(478, 856, 3)\n",
      "1\n",
      "78\n",
      "(478, 856, 3)\n",
      "1\n",
      "156\n",
      "(478, 856, 3)\n",
      "1\n",
      "234\n",
      "(478, 856, 3)\n",
      "1\n",
      "312\n",
      "(478, 856, 3)\n",
      "1\n"
     ]
    },
    {
     "name": "stderr",
     "output_type": "stream",
     "text": [
      "INFO:root:Video length: 328 frames\n",
      "ERROR:root:An error occurred while processing faces: Given groups=1, weight of size [32, 3, 3, 3], expected input[1, 15, 160, 160] to have 3 channels, but got 15 channels instead\n"
     ]
    },
    {
     "name": "stdout",
     "output_type": "stream",
     "text": [
      "0\n",
      "(500, 518, 3)\n",
      "1\n",
      "81\n",
      "(500, 518, 3)\n",
      "1\n",
      "163\n",
      "(500, 518, 3)\n",
      "1\n",
      "245\n",
      "(500, 518, 3)\n",
      "1\n",
      "327\n",
      "(500, 518, 3)\n",
      "1\n"
     ]
    },
    {
     "name": "stderr",
     "output_type": "stream",
     "text": [
      "INFO:root:Video length: 464 frames\n"
     ]
    },
    {
     "name": "stdout",
     "output_type": "stream",
     "text": [
      "0\n",
      "(478, 856, 3)\n",
      "1\n",
      "115\n",
      "(478, 856, 3)\n",
      "1\n",
      "231\n",
      "(478, 856, 3)\n",
      "1\n",
      "347\n",
      "(478, 856, 3)\n",
      "1\n",
      "463\n",
      "(478, 856, 3)\n",
      "1\n"
     ]
    },
    {
     "name": "stderr",
     "output_type": "stream",
     "text": [
      "ERROR:root:An error occurred while processing faces: Given groups=1, weight of size [32, 3, 3, 3], expected input[1, 15, 160, 160] to have 3 channels, but got 15 channels instead\n",
      "INFO:root:Video length: 316 frames\n",
      "ERROR:root:An error occurred while processing faces: Given groups=1, weight of size [32, 3, 3, 3], expected input[1, 15, 160, 160] to have 3 channels, but got 15 channels instead\n"
     ]
    },
    {
     "name": "stdout",
     "output_type": "stream",
     "text": [
      "0\n",
      "(500, 950, 3)\n",
      "1\n",
      "78\n",
      "(500, 950, 3)\n",
      "1\n",
      "157\n",
      "(500, 950, 3)\n",
      "1\n",
      "236\n",
      "(500, 950, 3)\n",
      "1\n",
      "315\n",
      "(500, 950, 3)\n",
      "1\n"
     ]
    },
    {
     "name": "stderr",
     "output_type": "stream",
     "text": [
      "INFO:root:Video length: 529 frames\n"
     ]
    },
    {
     "name": "stdout",
     "output_type": "stream",
     "text": [
      "0\n",
      "(500, 944, 3)\n",
      "1\n",
      "132\n",
      "(500, 944, 3)\n",
      "1\n",
      "264\n",
      "(500, 944, 3)\n",
      "1\n",
      "396\n",
      "(500, 944, 3)\n",
      "1\n",
      "528\n",
      "(500, 944, 3)\n",
      "1\n"
     ]
    },
    {
     "name": "stderr",
     "output_type": "stream",
     "text": [
      "ERROR:root:An error occurred while processing faces: Given groups=1, weight of size [32, 3, 3, 3], expected input[1, 15, 160, 160] to have 3 channels, but got 15 channels instead\n",
      "INFO:root:Video length: 483 frames\n"
     ]
    },
    {
     "name": "stdout",
     "output_type": "stream",
     "text": [
      "0\n",
      "(478, 856, 3)\n",
      "1\n",
      "120\n",
      "(478, 856, 3)\n",
      "1\n",
      "241\n",
      "(478, 856, 3)\n",
      "1\n",
      "361\n",
      "(478, 856, 3)\n",
      "1\n",
      "482\n",
      "(478, 856, 3)\n",
      "1\n"
     ]
    },
    {
     "name": "stderr",
     "output_type": "stream",
     "text": [
      "ERROR:root:An error occurred while processing faces: Given groups=1, weight of size [32, 3, 3, 3], expected input[1, 15, 160, 160] to have 3 channels, but got 15 channels instead\n",
      "INFO:root:Video length: 459 frames\n",
      "ERROR:root:An error occurred while processing faces: Given groups=1, weight of size [32, 3, 3, 3], expected input[1, 15, 160, 160] to have 3 channels, but got 15 channels instead\n"
     ]
    },
    {
     "name": "stdout",
     "output_type": "stream",
     "text": [
      "0\n",
      "(500, 944, 3)\n",
      "1\n",
      "114\n",
      "(500, 944, 3)\n",
      "1\n",
      "229\n",
      "(500, 944, 3)\n",
      "1\n",
      "343\n",
      "(500, 944, 3)\n",
      "1\n",
      "458\n",
      "(500, 944, 3)\n",
      "1\n"
     ]
    },
    {
     "name": "stderr",
     "output_type": "stream",
     "text": [
      "INFO:root:Video length: 457 frames\n"
     ]
    },
    {
     "name": "stdout",
     "output_type": "stream",
     "text": [
      "0\n",
      "(466, 848, 3)\n",
      "1\n",
      "114\n",
      "(466, 848, 3)\n",
      "1\n",
      "228\n",
      "(466, 848, 3)\n",
      "1\n",
      "342\n",
      "(466, 848, 3)\n",
      "1\n",
      "456\n",
      "(466, 848, 3)\n",
      "1\n"
     ]
    },
    {
     "name": "stderr",
     "output_type": "stream",
     "text": [
      "ERROR:root:An error occurred while processing faces: Given groups=1, weight of size [32, 3, 3, 3], expected input[1, 15, 160, 160] to have 3 channels, but got 15 channels instead\n",
      "INFO:root:Video length: 315 frames\n",
      "ERROR:root:An error occurred while processing faces: Given groups=1, weight of size [32, 3, 3, 3], expected input[1, 15, 160, 160] to have 3 channels, but got 15 channels instead\n"
     ]
    },
    {
     "name": "stdout",
     "output_type": "stream",
     "text": [
      "0\n",
      "(474, 844, 3)\n",
      "1\n",
      "78\n",
      "(474, 844, 3)\n",
      "1\n",
      "157\n",
      "(474, 844, 3)\n",
      "1\n",
      "235\n",
      "(474, 844, 3)\n",
      "1\n",
      "314\n",
      "(474, 844, 3)\n",
      "1\n"
     ]
    },
    {
     "name": "stderr",
     "output_type": "stream",
     "text": [
      "INFO:root:Video length: 457 frames\n"
     ]
    },
    {
     "name": "stdout",
     "output_type": "stream",
     "text": [
      "0\n",
      "(478, 856, 3)\n",
      "1\n",
      "114\n",
      "(478, 856, 3)\n",
      "1\n",
      "228\n",
      "(478, 856, 3)\n",
      "1\n",
      "342\n",
      "(478, 856, 3)\n",
      "1\n",
      "456\n",
      "(478, 856, 3)\n",
      "1\n"
     ]
    },
    {
     "name": "stderr",
     "output_type": "stream",
     "text": [
      "ERROR:root:An error occurred while processing faces: Given groups=1, weight of size [32, 3, 3, 3], expected input[1, 15, 160, 160] to have 3 channels, but got 15 channels instead\n",
      "INFO:root:Video length: 272 frames\n"
     ]
    },
    {
     "name": "stdout",
     "output_type": "stream",
     "text": [
      "0\n",
      "(500, 456, 3)\n",
      "1\n",
      "67\n",
      "(500, 456, 3)\n",
      "1\n",
      "135\n",
      "(500, 456, 3)\n",
      "1\n",
      "203\n",
      "(500, 456, 3)\n",
      "1\n",
      "271\n",
      "(500, 456, 3)\n",
      "1\n"
     ]
    },
    {
     "name": "stderr",
     "output_type": "stream",
     "text": [
      "ERROR:root:An error occurred while processing faces: Given groups=1, weight of size [32, 3, 3, 3], expected input[1, 15, 160, 160] to have 3 channels, but got 15 channels instead\n",
      "INFO:root:Video length: 306 frames\n",
      "ERROR:root:An error occurred while processing faces: Given groups=1, weight of size [32, 3, 3, 3], expected input[1, 15, 160, 160] to have 3 channels, but got 15 channels instead\n"
     ]
    },
    {
     "name": "stdout",
     "output_type": "stream",
     "text": [
      "0\n",
      "(464, 814, 3)\n",
      "1\n",
      "76\n",
      "(464, 814, 3)\n",
      "1\n",
      "152\n",
      "(464, 814, 3)\n",
      "1\n",
      "228\n",
      "(464, 814, 3)\n",
      "1\n",
      "305\n",
      "(464, 814, 3)\n",
      "1\n"
     ]
    },
    {
     "name": "stderr",
     "output_type": "stream",
     "text": [
      "INFO:root:Video length: 444 frames\n"
     ]
    },
    {
     "name": "stdout",
     "output_type": "stream",
     "text": [
      "0\n",
      "(478, 856, 3)\n",
      "1\n",
      "110\n",
      "(478, 856, 3)\n",
      "1\n",
      "221\n",
      "(478, 856, 3)\n",
      "1\n",
      "332\n",
      "(478, 856, 3)\n",
      "1\n",
      "443\n",
      "(478, 856, 3)\n",
      "1\n"
     ]
    },
    {
     "name": "stderr",
     "output_type": "stream",
     "text": [
      "ERROR:root:An error occurred while processing faces: Given groups=1, weight of size [32, 3, 3, 3], expected input[1, 15, 160, 160] to have 3 channels, but got 15 channels instead\n",
      "INFO:root:Video length: 314 frames\n"
     ]
    },
    {
     "name": "stdout",
     "output_type": "stream",
     "text": [
      "0\n",
      "(500, 944, 3)\n",
      "1\n",
      "78\n",
      "(500, 944, 3)\n",
      "1\n",
      "156\n",
      "(500, 944, 3)\n",
      "1\n",
      "234\n",
      "(500, 944, 3)\n",
      "1\n",
      "313\n",
      "(500, 944, 3)\n",
      "1\n"
     ]
    },
    {
     "name": "stderr",
     "output_type": "stream",
     "text": [
      "ERROR:root:An error occurred while processing faces: Given groups=1, weight of size [32, 3, 3, 3], expected input[1, 15, 160, 160] to have 3 channels, but got 15 channels instead\n",
      "INFO:root:Video length: 438 frames\n",
      "ERROR:root:An error occurred while processing faces: Given groups=1, weight of size [32, 3, 3, 3], expected input[1, 15, 160, 160] to have 3 channels, but got 15 channels instead\n"
     ]
    },
    {
     "name": "stdout",
     "output_type": "stream",
     "text": [
      "0\n",
      "(478, 856, 3)\n",
      "1\n",
      "109\n",
      "(478, 856, 3)\n",
      "1\n",
      "218\n",
      "(478, 856, 3)\n",
      "1\n",
      "327\n",
      "(478, 856, 3)\n",
      "1\n",
      "437\n",
      "(478, 856, 3)\n",
      "1\n"
     ]
    },
    {
     "name": "stderr",
     "output_type": "stream",
     "text": [
      "INFO:root:Video length: 321 frames\n",
      "ERROR:root:An error occurred while processing faces: Given groups=1, weight of size [32, 3, 3, 3], expected input[1, 15, 160, 160] to have 3 channels, but got 15 channels instead\n"
     ]
    },
    {
     "name": "stdout",
     "output_type": "stream",
     "text": [
      "0\n",
      "(500, 672, 3)\n",
      "1\n",
      "80\n",
      "(500, 672, 3)\n",
      "1\n",
      "160\n",
      "(500, 672, 3)\n",
      "1\n",
      "240\n",
      "(500, 672, 3)\n",
      "1\n",
      "320\n",
      "(500, 672, 3)\n",
      "1\n"
     ]
    },
    {
     "name": "stderr",
     "output_type": "stream",
     "text": [
      "INFO:root:Video length: 315 frames\n",
      "ERROR:root:An error occurred while processing faces: Given groups=1, weight of size [32, 3, 3, 3], expected input[1, 15, 160, 160] to have 3 channels, but got 15 channels instead\n",
      "INFO:root:Video length: 504 frames\n"
     ]
    },
    {
     "name": "stdout",
     "output_type": "stream",
     "text": [
      "0\n",
      "(428, 814, 3)\n",
      "1\n",
      "78\n",
      "(428, 814, 3)\n",
      "1\n",
      "157\n",
      "(428, 814, 3)\n",
      "1\n",
      "235\n",
      "(428, 814, 3)\n",
      "1\n",
      "314\n",
      "(428, 814, 3)\n",
      "1\n",
      "0\n",
      "(466, 848, 3)\n",
      "1\n",
      "125\n",
      "(466, 848, 3)\n",
      "1\n",
      "251\n",
      "(466, 848, 3)\n",
      "1\n",
      "377\n",
      "(466, 848, 3)\n",
      "1\n"
     ]
    },
    {
     "name": "stderr",
     "output_type": "stream",
     "text": [
      "ERROR:root:An error occurred while processing faces: Given groups=1, weight of size [32, 3, 3, 3], expected input[1, 15, 160, 160] to have 3 channels, but got 15 channels instead\n",
      "INFO:root:Video length: 250 frames\n"
     ]
    },
    {
     "name": "stdout",
     "output_type": "stream",
     "text": [
      "503\n",
      "(466, 848, 3)\n",
      "1\n",
      "0\n",
      "(472, 850, 3)\n",
      "1\n",
      "62\n",
      "(472, 850, 3)\n",
      "1\n",
      "124\n",
      "(472, 850, 3)\n",
      "1\n",
      "186\n",
      "(472, 850, 3)\n",
      "1\n"
     ]
    },
    {
     "name": "stderr",
     "output_type": "stream",
     "text": [
      "ERROR:root:An error occurred while processing faces: Given groups=1, weight of size [32, 3, 3, 3], expected input[1, 15, 160, 160] to have 3 channels, but got 15 channels instead\n",
      "INFO:root:Video length: 365 frames\n"
     ]
    },
    {
     "name": "stdout",
     "output_type": "stream",
     "text": [
      "249\n",
      "(472, 850, 3)\n",
      "1\n",
      "0\n",
      "(472, 850, 3)\n",
      "1\n",
      "91\n",
      "(472, 850, 3)\n",
      "1\n",
      "182\n",
      "(472, 850, 3)\n",
      "1\n",
      "273\n",
      "(472, 850, 3)\n",
      "1\n",
      "364\n",
      "(472, 850, 3)\n",
      "1\n"
     ]
    },
    {
     "name": "stderr",
     "output_type": "stream",
     "text": [
      "ERROR:root:An error occurred while processing faces: Given groups=1, weight of size [32, 3, 3, 3], expected input[1, 15, 160, 160] to have 3 channels, but got 15 channels instead\n",
      "INFO:root:Video length: 319 frames\n",
      "ERROR:root:An error occurred while processing faces: Given groups=1, weight of size [32, 3, 3, 3], expected input[1, 15, 160, 160] to have 3 channels, but got 15 channels instead\n",
      "INFO:root:Video length: 477 frames\n"
     ]
    },
    {
     "name": "stdout",
     "output_type": "stream",
     "text": [
      "0\n",
      "(500, 662, 3)\n",
      "1\n",
      "79\n",
      "(500, 662, 3)\n",
      "1\n",
      "159\n",
      "(500, 662, 3)\n",
      "1\n",
      "238\n",
      "(500, 662, 3)\n",
      "1\n",
      "318\n",
      "(500, 662, 3)\n",
      "1\n",
      "0\n",
      "(478, 856, 3)\n",
      "1\n"
     ]
    },
    {
     "name": "stderr",
     "output_type": "stream",
     "text": [
      "ERROR:root:An error occurred while processing faces: Given groups=1, weight of size [32, 3, 3, 3], expected input[1, 15, 160, 160] to have 3 channels, but got 15 channels instead\n",
      "INFO:root:Video length: 345 frames\n"
     ]
    },
    {
     "name": "stdout",
     "output_type": "stream",
     "text": [
      "119\n",
      "(478, 856, 3)\n",
      "1\n",
      "238\n",
      "(478, 856, 3)\n",
      "1\n",
      "357\n",
      "(478, 856, 3)\n",
      "1\n",
      "476\n",
      "(478, 856, 3)\n",
      "1\n",
      "0\n",
      "(500, 950, 3)\n",
      "1\n",
      "86\n",
      "(500, 950, 3)\n",
      "1\n"
     ]
    },
    {
     "name": "stderr",
     "output_type": "stream",
     "text": [
      "ERROR:root:An error occurred while processing faces: Given groups=1, weight of size [32, 3, 3, 3], expected input[1, 15, 160, 160] to have 3 channels, but got 15 channels instead\n",
      "INFO:root:Video length: 350 frames\n"
     ]
    },
    {
     "name": "stdout",
     "output_type": "stream",
     "text": [
      "172\n",
      "(500, 950, 3)\n",
      "1\n",
      "258\n",
      "(500, 950, 3)\n",
      "1\n",
      "344\n",
      "(500, 950, 3)\n",
      "1\n",
      "0\n",
      "(472, 848, 3)\n",
      "1\n",
      "87\n",
      "(472, 848, 3)\n"
     ]
    },
    {
     "name": "stderr",
     "output_type": "stream",
     "text": [
      "ERROR:root:An error occurred while processing faces: Given groups=1, weight of size [32, 3, 3, 3], expected input[1, 15, 160, 160] to have 3 channels, but got 15 channels instead\n",
      "INFO:root:Video length: 437 frames\n"
     ]
    },
    {
     "name": "stdout",
     "output_type": "stream",
     "text": [
      "1\n",
      "174\n",
      "(472, 848, 3)\n",
      "1\n",
      "261\n",
      "(472, 848, 3)\n",
      "1\n",
      "349\n",
      "(472, 848, 3)\n",
      "1\n",
      "0\n",
      "(478, 856, 3)\n",
      "1\n"
     ]
    },
    {
     "name": "stderr",
     "output_type": "stream",
     "text": [
      "ERROR:root:An error occurred while processing faces: Given groups=1, weight of size [32, 3, 3, 3], expected input[1, 15, 160, 160] to have 3 channels, but got 15 channels instead\n"
     ]
    },
    {
     "name": "stdout",
     "output_type": "stream",
     "text": [
      "109\n",
      "(478, 856, 3)\n",
      "1\n",
      "218\n",
      "(478, 856, 3)\n",
      "1\n",
      "327\n",
      "(478, 856, 3)\n",
      "1\n",
      "436\n",
      "(478, 856, 3)\n",
      "1\n"
     ]
    },
    {
     "name": "stderr",
     "output_type": "stream",
     "text": [
      "INFO:root:Video length: 492 frames\n"
     ]
    },
    {
     "name": "stdout",
     "output_type": "stream",
     "text": [
      "0\n",
      "(478, 856, 3)\n",
      "1\n",
      "122\n",
      "(478, 856, 3)\n",
      "1\n",
      "245\n",
      "(478, 856, 3)\n",
      "1\n",
      "368\n",
      "(478, 856, 3)\n",
      "1\n",
      "491\n",
      "(478, 856, 3)\n",
      "1\n"
     ]
    },
    {
     "name": "stderr",
     "output_type": "stream",
     "text": [
      "ERROR:root:An error occurred while processing faces: Given groups=1, weight of size [32, 3, 3, 3], expected input[1, 15, 160, 160] to have 3 channels, but got 15 channels instead\n",
      "INFO:root:Video length: 541 frames\n",
      "ERROR:root:An error occurred while processing faces: Given groups=1, weight of size [32, 3, 3, 3], expected input[1, 15, 160, 160] to have 3 channels, but got 15 channels instead\n"
     ]
    },
    {
     "name": "stdout",
     "output_type": "stream",
     "text": [
      "0\n",
      "(478, 856, 3)\n",
      "1\n",
      "135\n",
      "(478, 856, 3)\n",
      "1\n",
      "270\n",
      "(478, 856, 3)\n",
      "1\n",
      "405\n",
      "(478, 856, 3)\n",
      "1\n",
      "540\n",
      "(478, 856, 3)\n",
      "1\n"
     ]
    },
    {
     "name": "stderr",
     "output_type": "stream",
     "text": [
      "INFO:root:Video length: 441 frames\n",
      "ERROR:root:An error occurred while processing faces: Given groups=1, weight of size [32, 3, 3, 3], expected input[1, 15, 160, 160] to have 3 channels, but got 15 channels instead\n"
     ]
    },
    {
     "name": "stdout",
     "output_type": "stream",
     "text": [
      "0\n",
      "(466, 848, 3)\n",
      "1\n",
      "110\n",
      "(466, 848, 3)\n",
      "1\n",
      "220\n",
      "(466, 848, 3)\n",
      "1\n",
      "330\n",
      "(466, 848, 3)\n",
      "1\n",
      "440\n",
      "(466, 848, 3)\n",
      "1\n"
     ]
    },
    {
     "name": "stderr",
     "output_type": "stream",
     "text": [
      "INFO:root:Video length: 420 frames\n",
      "ERROR:root:An error occurred while processing faces: Given groups=1, weight of size [32, 3, 3, 3], expected input[1, 15, 160, 160] to have 3 channels, but got 15 channels instead\n"
     ]
    },
    {
     "name": "stdout",
     "output_type": "stream",
     "text": [
      "0\n",
      "(478, 856, 3)\n",
      "1\n",
      "104\n",
      "(478, 856, 3)\n",
      "1\n",
      "209\n",
      "(478, 856, 3)\n",
      "1\n",
      "314\n",
      "(478, 856, 3)\n",
      "1\n",
      "419\n",
      "(478, 856, 3)\n",
      "1\n"
     ]
    },
    {
     "name": "stderr",
     "output_type": "stream",
     "text": [
      "INFO:root:Video length: 333 frames\n",
      "ERROR:root:An error occurred while processing faces: Given groups=1, weight of size [32, 3, 3, 3], expected input[1, 15, 160, 160] to have 3 channels, but got 15 channels instead\n",
      "INFO:root:Video length: 249 frames\n"
     ]
    },
    {
     "name": "stdout",
     "output_type": "stream",
     "text": [
      "0\n",
      "(472, 848, 3)\n",
      "1\n",
      "83\n",
      "(472, 848, 3)\n",
      "1\n",
      "166\n",
      "(472, 848, 3)\n",
      "1\n",
      "249\n",
      "(472, 848, 3)\n",
      "1\n",
      "332\n",
      "(472, 848, 3)\n",
      "1\n",
      "0\n",
      "(472, 848, 3)\n",
      "1\n",
      "62\n",
      "(472, 848, 3)\n",
      "1\n",
      "124\n",
      "(472, 848, 3)\n",
      "1\n",
      "186\n",
      "(472, 848, 3)\n",
      "1\n",
      "248\n",
      "(472, 848, 3)\n",
      "1\n"
     ]
    },
    {
     "name": "stderr",
     "output_type": "stream",
     "text": [
      "ERROR:root:An error occurred while processing faces: Given groups=1, weight of size [32, 3, 3, 3], expected input[1, 15, 160, 160] to have 3 channels, but got 15 channels instead\n",
      "INFO:root:Video length: 307 frames\n",
      "ERROR:root:An error occurred while processing faces: Given groups=1, weight of size [32, 3, 3, 3], expected input[1, 15, 160, 160] to have 3 channels, but got 15 channels instead\n",
      "INFO:root:Video length: 337 frames\n"
     ]
    },
    {
     "name": "stdout",
     "output_type": "stream",
     "text": [
      "0\n",
      "(458, 834, 3)\n",
      "1\n",
      "76\n",
      "(458, 834, 3)\n",
      "1\n",
      "153\n",
      "(458, 834, 3)\n",
      "1\n",
      "229\n",
      "(458, 834, 3)\n",
      "1\n",
      "306\n",
      "(458, 834, 3)\n",
      "1\n"
     ]
    },
    {
     "name": "stderr",
     "output_type": "stream",
     "text": [
      "ERROR:root:An error occurred while processing faces: Given groups=1, weight of size [32, 3, 3, 3], expected input[1, 15, 160, 160] to have 3 channels, but got 15 channels instead\n",
      "INFO:root:Video length: 314 frames\n"
     ]
    },
    {
     "name": "stdout",
     "output_type": "stream",
     "text": [
      "0\n",
      "(478, 848, 3)\n",
      "1\n",
      "84\n",
      "(478, 848, 3)\n",
      "1\n",
      "168\n",
      "(478, 848, 3)\n",
      "1\n",
      "252\n",
      "(478, 848, 3)\n",
      "1\n",
      "336\n",
      "(478, 848, 3)\n",
      "1\n",
      "0\n",
      "(500, 944, 3)\n",
      "1\n"
     ]
    },
    {
     "name": "stderr",
     "output_type": "stream",
     "text": [
      "ERROR:root:An error occurred while processing faces: Given groups=1, weight of size [32, 3, 3, 3], expected input[1, 15, 160, 160] to have 3 channels, but got 15 channels instead\n"
     ]
    },
    {
     "name": "stdout",
     "output_type": "stream",
     "text": [
      "78\n",
      "(500, 944, 3)\n",
      "1\n",
      "156\n",
      "(500, 944, 3)\n",
      "1\n",
      "234\n",
      "(500, 944, 3)\n",
      "1\n",
      "313\n",
      "(500, 944, 3)\n",
      "1\n"
     ]
    },
    {
     "name": "stderr",
     "output_type": "stream",
     "text": [
      "INFO:root:Video length: 310 frames\n",
      "ERROR:root:An error occurred while processing faces: Given groups=1, weight of size [32, 3, 3, 3], expected input[1, 15, 160, 160] to have 3 channels, but got 15 channels instead\n",
      "INFO:root:Video length: 230 frames\n"
     ]
    },
    {
     "name": "stdout",
     "output_type": "stream",
     "text": [
      "0\n",
      "(466, 744, 3)\n",
      "1\n",
      "77\n",
      "(466, 744, 3)\n",
      "1\n",
      "154\n",
      "(466, 744, 3)\n",
      "1\n",
      "231\n",
      "(466, 744, 3)\n",
      "1\n",
      "309\n",
      "(466, 744, 3)\n",
      "1\n",
      "0\n",
      "(474, 844, 3)\n",
      "1\n",
      "57\n",
      "(474, 844, 3)\n",
      "1\n"
     ]
    },
    {
     "name": "stderr",
     "output_type": "stream",
     "text": [
      "ERROR:root:An error occurred while processing faces: Given groups=1, weight of size [32, 3, 3, 3], expected input[1, 15, 160, 160] to have 3 channels, but got 15 channels instead\n",
      "INFO:root:Video length: 497 frames\n"
     ]
    },
    {
     "name": "stdout",
     "output_type": "stream",
     "text": [
      "114\n",
      "(474, 844, 3)\n",
      "1\n",
      "171\n",
      "(474, 844, 3)\n",
      "1\n",
      "229\n",
      "(474, 844, 3)\n",
      "1\n",
      "0\n",
      "(500, 884, 3)\n",
      "1\n",
      "124\n",
      "(500, 884, 3)\n",
      "1\n",
      "248\n",
      "(500, 884, 3)\n",
      "1\n"
     ]
    },
    {
     "name": "stderr",
     "output_type": "stream",
     "text": [
      "ERROR:root:An error occurred while processing faces: Given groups=1, weight of size [32, 3, 3, 3], expected input[1, 15, 160, 160] to have 3 channels, but got 15 channels instead\n",
      "INFO:root:Video length: 335 frames\n"
     ]
    },
    {
     "name": "stdout",
     "output_type": "stream",
     "text": [
      "372\n",
      "(500, 884, 3)\n",
      "1\n",
      "496\n",
      "(500, 884, 3)\n",
      "1\n",
      "0\n",
      "(476, 850, 3)\n",
      "1\n",
      "83\n",
      "(476, 850, 3)\n",
      "1\n"
     ]
    },
    {
     "name": "stderr",
     "output_type": "stream",
     "text": [
      "ERROR:root:An error occurred while processing faces: Given groups=1, weight of size [32, 3, 3, 3], expected input[1, 15, 160, 160] to have 3 channels, but got 15 channels instead\n",
      "INFO:root:Video length: 479 frames\n"
     ]
    },
    {
     "name": "stdout",
     "output_type": "stream",
     "text": [
      "167\n",
      "(476, 850, 3)\n",
      "1\n",
      "250\n",
      "(476, 850, 3)\n",
      "1\n",
      "334\n",
      "(476, 850, 3)\n",
      "1\n",
      "0\n",
      "(478, 856, 3)\n",
      "1\n",
      "119\n",
      "(478, 856, 3)\n",
      "1\n"
     ]
    },
    {
     "name": "stderr",
     "output_type": "stream",
     "text": [
      "ERROR:root:An error occurred while processing faces: Given groups=1, weight of size [32, 3, 3, 3], expected input[1, 15, 160, 160] to have 3 channels, but got 15 channels instead\n",
      "INFO:root:Video length: 383 frames\n"
     ]
    },
    {
     "name": "stdout",
     "output_type": "stream",
     "text": [
      "239\n",
      "(478, 856, 3)\n",
      "1\n",
      "358\n",
      "(478, 856, 3)\n",
      "1\n",
      "478\n",
      "(478, 856, 3)\n",
      "1\n",
      "0\n",
      "(500, 554, 3)\n",
      "1\n",
      "95\n",
      "(500, 554, 3)\n",
      "1\n"
     ]
    },
    {
     "name": "stderr",
     "output_type": "stream",
     "text": [
      "ERROR:root:An error occurred while processing faces: Given groups=1, weight of size [32, 3, 3, 3], expected input[1, 15, 160, 160] to have 3 channels, but got 15 channels instead\n",
      "INFO:root:Video length: 324 frames\n"
     ]
    },
    {
     "name": "stdout",
     "output_type": "stream",
     "text": [
      "191\n",
      "(500, 554, 3)\n",
      "1\n",
      "286\n",
      "(500, 554, 3)\n",
      "1\n",
      "382\n",
      "(500, 554, 3)\n",
      "1\n",
      "0\n",
      "(500, 670, 3)\n",
      "1\n",
      "80\n",
      "(500, 670, 3)\n",
      "1\n",
      "161\n",
      "(500, 670, 3)\n",
      "1\n",
      "242\n",
      "(500, 670, 3)\n",
      "1\n"
     ]
    },
    {
     "name": "stderr",
     "output_type": "stream",
     "text": [
      "ERROR:root:An error occurred while processing faces: Given groups=1, weight of size [32, 3, 3, 3], expected input[1, 15, 160, 160] to have 3 channels, but got 15 channels instead\n",
      "INFO:root:Video length: 319 frames\n"
     ]
    },
    {
     "name": "stdout",
     "output_type": "stream",
     "text": [
      "323\n",
      "(500, 670, 3)\n",
      "1\n",
      "0\n",
      "(500, 662, 3)\n",
      "1\n",
      "79\n",
      "(500, 662, 3)\n",
      "1\n",
      "159\n",
      "(500, 662, 3)\n",
      "1\n",
      "238\n",
      "(500, 662, 3)\n",
      "1\n"
     ]
    },
    {
     "name": "stderr",
     "output_type": "stream",
     "text": [
      "ERROR:root:An error occurred while processing faces: Given groups=1, weight of size [32, 3, 3, 3], expected input[1, 15, 160, 160] to have 3 channels, but got 15 channels instead\n",
      "INFO:root:Video length: 308 frames\n"
     ]
    },
    {
     "name": "stdout",
     "output_type": "stream",
     "text": [
      "318\n",
      "(500, 662, 3)\n",
      "1\n",
      "0\n",
      "(474, 826, 3)\n",
      "1\n",
      "76\n",
      "(474, 826, 3)\n",
      "1\n",
      "153\n",
      "(474, 826, 3)\n",
      "1\n",
      "230\n",
      "(474, 826, 3)\n",
      "1\n"
     ]
    },
    {
     "name": "stderr",
     "output_type": "stream",
     "text": [
      "ERROR:root:An error occurred while processing faces: Given groups=1, weight of size [32, 3, 3, 3], expected input[1, 15, 160, 160] to have 3 channels, but got 15 channels instead\n",
      "INFO:root:Video length: 342 frames\n"
     ]
    },
    {
     "name": "stdout",
     "output_type": "stream",
     "text": [
      "307\n",
      "(474, 826, 3)\n",
      "1\n",
      "0\n",
      "(466, 744, 3)\n",
      "1\n",
      "85\n",
      "(466, 744, 3)\n",
      "1\n",
      "170\n",
      "(466, 744, 3)\n",
      "1\n",
      "255\n",
      "(466, 744, 3)\n",
      "1\n",
      "341\n",
      "(466, 744, 3)\n",
      "1\n"
     ]
    },
    {
     "name": "stderr",
     "output_type": "stream",
     "text": [
      "ERROR:root:An error occurred while processing faces: Given groups=1, weight of size [32, 3, 3, 3], expected input[1, 15, 160, 160] to have 3 channels, but got 15 channels instead\n",
      "INFO:root:Video length: 456 frames\n",
      "ERROR:root:An error occurred while processing faces: Given groups=1, weight of size [32, 3, 3, 3], expected input[1, 15, 160, 160] to have 3 channels, but got 15 channels instead\n"
     ]
    },
    {
     "name": "stdout",
     "output_type": "stream",
     "text": [
      "0\n",
      "(472, 850, 3)\n",
      "1\n",
      "113\n",
      "(472, 850, 3)\n",
      "1\n",
      "227\n",
      "(472, 850, 3)\n",
      "1\n",
      "341\n",
      "(472, 850, 3)\n",
      "1\n",
      "455\n",
      "(472, 850, 3)\n",
      "1\n"
     ]
    },
    {
     "name": "stderr",
     "output_type": "stream",
     "text": [
      "INFO:root:Video length: 342 frames\n",
      "ERROR:root:An error occurred while processing faces: Given groups=1, weight of size [32, 3, 3, 3], expected input[1, 15, 160, 160] to have 3 channels, but got 15 channels instead\n",
      "INFO:root:Video length: 361 frames\n"
     ]
    },
    {
     "name": "stdout",
     "output_type": "stream",
     "text": [
      "0\n",
      "(468, 842, 3)\n",
      "1\n",
      "85\n",
      "(468, 842, 3)\n",
      "1\n",
      "170\n",
      "(468, 842, 3)\n",
      "1\n",
      "255\n",
      "(468, 842, 3)\n",
      "1\n",
      "341\n",
      "(468, 842, 3)\n",
      "1\n",
      "0\n",
      "(500, 588, 3)\n",
      "1\n"
     ]
    },
    {
     "name": "stderr",
     "output_type": "stream",
     "text": [
      "ERROR:root:An error occurred while processing faces: Given groups=1, weight of size [32, 3, 3, 3], expected input[1, 15, 160, 160] to have 3 channels, but got 15 channels instead\n",
      "INFO:root:Video length: 342 frames\n"
     ]
    },
    {
     "name": "stdout",
     "output_type": "stream",
     "text": [
      "90\n",
      "(500, 588, 3)\n",
      "1\n",
      "180\n",
      "(500, 588, 3)\n",
      "1\n",
      "270\n",
      "(500, 588, 3)\n",
      "1\n",
      "360\n",
      "(500, 588, 3)\n",
      "1\n",
      "0\n",
      "(500, 748, 3)\n",
      "1\n",
      "85\n",
      "(500, 748, 3)\n",
      "1\n",
      "170\n",
      "(500, 748, 3)\n",
      "1\n",
      "255\n",
      "(500, 748, 3)\n",
      "1\n",
      "341\n",
      "(500, 748, 3)\n",
      "1\n"
     ]
    },
    {
     "name": "stderr",
     "output_type": "stream",
     "text": [
      "ERROR:root:An error occurred while processing faces: Given groups=1, weight of size [32, 3, 3, 3], expected input[1, 15, 160, 160] to have 3 channels, but got 15 channels instead\n",
      "INFO:root:Video length: 474 frames\n"
     ]
    },
    {
     "name": "stdout",
     "output_type": "stream",
     "text": [
      "0\n",
      "(500, 892, 3)\n",
      "1\n",
      "118\n",
      "(500, 892, 3)\n",
      "1\n",
      "236\n",
      "(500, 892, 3)\n",
      "1\n",
      "354\n",
      "(500, 892, 3)\n",
      "1\n",
      "473\n",
      "(500, 892, 3)\n",
      "1\n"
     ]
    },
    {
     "name": "stderr",
     "output_type": "stream",
     "text": [
      "ERROR:root:An error occurred while processing faces: Given groups=1, weight of size [32, 3, 3, 3], expected input[1, 15, 160, 160] to have 3 channels, but got 15 channels instead\n",
      "INFO:root:Video length: 359 frames\n",
      "ERROR:root:An error occurred while processing faces: Given groups=1, weight of size [32, 3, 3, 3], expected input[1, 15, 160, 160] to have 3 channels, but got 15 channels instead\n",
      "INFO:root:Video length: 480 frames\n"
     ]
    },
    {
     "name": "stdout",
     "output_type": "stream",
     "text": [
      "0\n",
      "(456, 812, 3)\n",
      "1\n",
      "89\n",
      "(456, 812, 3)\n",
      "1\n",
      "179\n",
      "(456, 812, 3)\n",
      "1\n",
      "268\n",
      "(456, 812, 3)\n",
      "1\n",
      "358\n",
      "(456, 812, 3)\n",
      "1\n"
     ]
    },
    {
     "name": "stderr",
     "output_type": "stream",
     "text": [
      "ERROR:root:An error occurred while processing faces: Given groups=1, weight of size [32, 3, 3, 3], expected input[1, 15, 160, 160] to have 3 channels, but got 15 channels instead\n",
      "INFO:root:Video length: 347 frames\n"
     ]
    },
    {
     "name": "stdout",
     "output_type": "stream",
     "text": [
      "0\n",
      "(500, 892, 3)\n",
      "1\n",
      "119\n",
      "(500, 892, 3)\n",
      "1\n",
      "239\n",
      "(500, 892, 3)\n",
      "1\n",
      "359\n",
      "(500, 892, 3)\n",
      "1\n",
      "479\n",
      "(500, 892, 3)\n",
      "1\n",
      "0\n",
      "(500, 672, 3)\n",
      "1\n",
      "86\n",
      "(500, 672, 3)\n",
      "1\n",
      "173\n",
      "(500, 672, 3)\n",
      "1\n",
      "259\n",
      "(500, 672, 3)\n",
      "1\n",
      "346\n",
      "(500, 672, 3)\n",
      "1\n"
     ]
    },
    {
     "name": "stderr",
     "output_type": "stream",
     "text": [
      "ERROR:root:An error occurred while processing faces: Given groups=1, weight of size [32, 3, 3, 3], expected input[1, 15, 160, 160] to have 3 channels, but got 15 channels instead\n",
      "INFO:root:Video length: 465 frames\n",
      "ERROR:root:An error occurred while processing faces: Given groups=1, weight of size [32, 3, 3, 3], expected input[1, 15, 160, 160] to have 3 channels, but got 15 channels instead\n"
     ]
    },
    {
     "name": "stdout",
     "output_type": "stream",
     "text": [
      "0\n",
      "(472, 850, 3)\n",
      "1\n",
      "116\n",
      "(472, 850, 3)\n",
      "1\n",
      "232\n",
      "(472, 850, 3)\n",
      "1\n",
      "348\n",
      "(472, 850, 3)\n",
      "1\n",
      "464\n",
      "(472, 850, 3)\n",
      "1\n"
     ]
    },
    {
     "name": "stderr",
     "output_type": "stream",
     "text": [
      "INFO:root:Video length: 469 frames\n"
     ]
    },
    {
     "name": "stdout",
     "output_type": "stream",
     "text": [
      "0\n",
      "(478, 856, 3)\n",
      "1\n",
      "117\n",
      "(478, 856, 3)\n",
      "1\n",
      "234\n",
      "(478, 856, 3)\n",
      "1\n",
      "351\n",
      "(478, 856, 3)\n",
      "1\n"
     ]
    },
    {
     "name": "stderr",
     "output_type": "stream",
     "text": [
      "ERROR:root:An error occurred while processing faces: Given groups=1, weight of size [32, 3, 3, 3], expected input[1, 15, 160, 160] to have 3 channels, but got 15 channels instead\n",
      "INFO:root:Video length: 224 frames\n"
     ]
    },
    {
     "name": "stdout",
     "output_type": "stream",
     "text": [
      "468\n",
      "(478, 856, 3)\n",
      "1\n",
      "0\n",
      "(500, 950, 3)\n",
      "1\n",
      "55\n",
      "(500, 950, 3)\n",
      "1\n",
      "111\n",
      "(500, 950, 3)\n",
      "1\n"
     ]
    },
    {
     "name": "stderr",
     "output_type": "stream",
     "text": [
      "ERROR:root:An error occurred while processing faces: Given groups=1, weight of size [32, 3, 3, 3], expected input[1, 15, 160, 160] to have 3 channels, but got 15 channels instead\n",
      "INFO:root:Video length: 311 frames\n"
     ]
    },
    {
     "name": "stdout",
     "output_type": "stream",
     "text": [
      "167\n",
      "(500, 950, 3)\n",
      "1\n",
      "223\n",
      "(500, 950, 3)\n",
      "1\n",
      "0\n",
      "(500, 620, 3)\n",
      "1\n",
      "77\n",
      "(500, 620, 3)\n",
      "1\n",
      "155\n",
      "(500, 620, 3)\n",
      "1\n",
      "232\n",
      "(500, 620, 3)\n",
      "1\n"
     ]
    },
    {
     "name": "stderr",
     "output_type": "stream",
     "text": [
      "ERROR:root:An error occurred while processing faces: Given groups=1, weight of size [32, 3, 3, 3], expected input[1, 15, 160, 160] to have 3 channels, but got 15 channels instead\n",
      "INFO:root:Video length: 605 frames\n"
     ]
    },
    {
     "name": "stdout",
     "output_type": "stream",
     "text": [
      "310\n",
      "(500, 620, 3)\n",
      "1\n",
      "0\n",
      "(500, 892, 3)\n",
      "1\n",
      "151\n",
      "(500, 892, 3)\n",
      "1\n",
      "302\n",
      "(500, 892, 3)\n",
      "1\n",
      "453\n",
      "(500, 892, 3)\n",
      "1\n",
      "604\n",
      "(500, 892, 3)\n"
     ]
    },
    {
     "name": "stderr",
     "output_type": "stream",
     "text": [
      "ERROR:root:An error occurred while processing faces: Given groups=1, weight of size [32, 3, 3, 3], expected input[1, 15, 160, 160] to have 3 channels, but got 15 channels instead\n",
      "INFO:root:Video length: 342 frames\n"
     ]
    },
    {
     "name": "stdout",
     "output_type": "stream",
     "text": [
      "1\n",
      "0\n",
      "(468, 842, 3)\n",
      "1\n",
      "85\n",
      "(468, 842, 3)\n",
      "1\n",
      "170\n",
      "(468, 842, 3)\n",
      "1\n",
      "255\n",
      "(468, 842, 3)\n",
      "1\n",
      "341\n",
      "(468, 842, 3)\n",
      "1\n"
     ]
    },
    {
     "name": "stderr",
     "output_type": "stream",
     "text": [
      "ERROR:root:An error occurred while processing faces: Given groups=1, weight of size [32, 3, 3, 3], expected input[1, 15, 160, 160] to have 3 channels, but got 15 channels instead\n",
      "INFO:root:Video length: 317 frames\n",
      "ERROR:root:An error occurred while processing faces: Given groups=1, weight of size [32, 3, 3, 3], expected input[1, 15, 160, 160] to have 3 channels, but got 15 channels instead\n",
      "INFO:root:Video length: 312 frames\n"
     ]
    },
    {
     "name": "stdout",
     "output_type": "stream",
     "text": [
      "0\n",
      "(480, 438, 3)\n",
      "1\n",
      "79\n",
      "(480, 438, 3)\n",
      "1\n",
      "158\n",
      "(480, 438, 3)\n",
      "1\n",
      "237\n",
      "(480, 438, 3)\n",
      "1\n",
      "316\n",
      "(480, 438, 3)\n",
      "1\n",
      "0\n",
      "(500, 894, 3)\n",
      "1\n",
      "77\n"
     ]
    },
    {
     "name": "stderr",
     "output_type": "stream",
     "text": [
      "ERROR:root:An error occurred while processing faces: Given groups=1, weight of size [32, 3, 3, 3], expected input[1, 15, 160, 160] to have 3 channels, but got 15 channels instead\n",
      "INFO:root:Video length: 428 frames\n"
     ]
    },
    {
     "name": "stdout",
     "output_type": "stream",
     "text": [
      "(500, 894, 3)\n",
      "1\n",
      "155\n",
      "(500, 894, 3)\n",
      "1\n",
      "233\n",
      "(500, 894, 3)\n",
      "1\n",
      "311\n",
      "(500, 894, 3)\n",
      "1\n",
      "0\n",
      "(500, 530, 3)\n",
      "1\n"
     ]
    },
    {
     "name": "stderr",
     "output_type": "stream",
     "text": [
      "ERROR:root:An error occurred while processing faces: Given groups=1, weight of size [32, 3, 3, 3], expected input[1, 15, 160, 160] to have 3 channels, but got 15 channels instead\n",
      "INFO:root:Video length: 458 frames\n"
     ]
    },
    {
     "name": "stdout",
     "output_type": "stream",
     "text": [
      "106\n",
      "(500, 530, 3)\n",
      "1\n",
      "213\n",
      "(500, 530, 3)\n",
      "1\n",
      "320\n",
      "(500, 530, 3)\n",
      "1\n",
      "427\n",
      "(500, 530, 3)\n",
      "1\n",
      "0\n",
      "(500, 944, 3)\n",
      "1\n"
     ]
    },
    {
     "name": "stderr",
     "output_type": "stream",
     "text": [
      "ERROR:root:An error occurred while processing faces: Given groups=1, weight of size [32, 3, 3, 3], expected input[1, 15, 160, 160] to have 3 channels, but got 15 channels instead\n",
      "INFO:root:Video length: 325 frames\n"
     ]
    },
    {
     "name": "stdout",
     "output_type": "stream",
     "text": [
      "114\n",
      "(500, 944, 3)\n",
      "1\n",
      "228\n",
      "(500, 944, 3)\n",
      "1\n",
      "342\n",
      "(500, 944, 3)\n",
      "1\n",
      "457\n",
      "(500, 944, 3)\n",
      "1\n",
      "0\n",
      "(500, 950, 3)\n",
      "1\n",
      "81\n",
      "(500, 950, 3)\n",
      "1\n"
     ]
    },
    {
     "name": "stderr",
     "output_type": "stream",
     "text": [
      "ERROR:root:An error occurred while processing faces: Given groups=1, weight of size [32, 3, 3, 3], expected input[1, 15, 160, 160] to have 3 channels, but got 15 channels instead\n",
      "INFO:root:Video length: 516 frames\n"
     ]
    },
    {
     "name": "stdout",
     "output_type": "stream",
     "text": [
      "162\n",
      "(500, 950, 3)\n",
      "1\n",
      "243\n",
      "(500, 950, 3)\n",
      "1\n",
      "324\n",
      "(500, 950, 3)\n",
      "1\n",
      "0\n",
      "(500, 888, 3)\n",
      "1\n",
      "128\n",
      "(500, 888, 3)\n",
      "1\n"
     ]
    },
    {
     "name": "stderr",
     "output_type": "stream",
     "text": [
      "ERROR:root:An error occurred while processing faces: Given groups=1, weight of size [32, 3, 3, 3], expected input[1, 15, 160, 160] to have 3 channels, but got 15 channels instead\n",
      "INFO:root:Video length: 420 frames\n"
     ]
    },
    {
     "name": "stdout",
     "output_type": "stream",
     "text": [
      "257\n",
      "(500, 888, 3)\n",
      "1\n",
      "386\n",
      "(500, 888, 3)\n",
      "1\n",
      "515\n",
      "(500, 888, 3)\n",
      "1\n",
      "0\n",
      "(478, 856, 3)\n",
      "1\n",
      "104\n",
      "(478, 856, 3)\n",
      "1\n"
     ]
    },
    {
     "name": "stderr",
     "output_type": "stream",
     "text": [
      "ERROR:root:An error occurred while processing faces: Given groups=1, weight of size [32, 3, 3, 3], expected input[1, 15, 160, 160] to have 3 channels, but got 15 channels instead\n",
      "INFO:root:Video length: 307 frames\n"
     ]
    },
    {
     "name": "stdout",
     "output_type": "stream",
     "text": [
      "209\n",
      "(478, 856, 3)\n",
      "1\n",
      "314\n",
      "(478, 856, 3)\n",
      "1\n",
      "419\n",
      "(478, 856, 3)\n",
      "1\n",
      "0\n",
      "(458, 834, 3)\n",
      "1\n",
      "76\n",
      "(458, 834, 3)\n"
     ]
    },
    {
     "name": "stderr",
     "output_type": "stream",
     "text": [
      "ERROR:root:An error occurred while processing faces: Given groups=1, weight of size [32, 3, 3, 3], expected input[1, 15, 160, 160] to have 3 channels, but got 15 channels instead\n",
      "INFO:root:Video length: 298 frames\n"
     ]
    },
    {
     "name": "stdout",
     "output_type": "stream",
     "text": [
      "1\n",
      "153\n",
      "(458, 834, 3)\n",
      "1\n",
      "229\n",
      "(458, 834, 3)\n",
      "1\n",
      "306\n",
      "(458, 834, 3)\n",
      "1\n",
      "0\n",
      "(500, 894, 3)\n",
      "1\n",
      "74\n",
      "(500, 894, 3)\n",
      "1\n"
     ]
    },
    {
     "name": "stderr",
     "output_type": "stream",
     "text": [
      "ERROR:root:An error occurred while processing faces: Given groups=1, weight of size [32, 3, 3, 3], expected input[1, 15, 160, 160] to have 3 channels, but got 15 channels instead\n",
      "INFO:root:Video length: 520 frames\n"
     ]
    },
    {
     "name": "stdout",
     "output_type": "stream",
     "text": [
      "148\n",
      "(500, 894, 3)\n",
      "1\n",
      "222\n",
      "(500, 894, 3)\n",
      "1\n",
      "297\n",
      "(500, 894, 3)\n",
      "1\n",
      "0\n",
      "(500, 944, 3)\n",
      "1\n",
      "129\n",
      "(500, 944, 3)\n",
      "1\n",
      "259\n"
     ]
    },
    {
     "name": "stderr",
     "output_type": "stream",
     "text": [
      "ERROR:root:An error occurred while processing faces: Given groups=1, weight of size [32, 3, 3, 3], expected input[1, 15, 160, 160] to have 3 channels, but got 15 channels instead\n",
      "INFO:root:Video length: 349 frames\n"
     ]
    },
    {
     "name": "stdout",
     "output_type": "stream",
     "text": [
      "(500, 944, 3)\n",
      "1\n",
      "389\n",
      "(500, 944, 3)\n",
      "1\n",
      "519\n",
      "(500, 944, 3)\n",
      "1\n",
      "0\n",
      "(500, 954, 3)\n",
      "1\n",
      "87\n",
      "(500, 954, 3)\n",
      "1\n",
      "174\n",
      "(500, 954, 3)\n"
     ]
    },
    {
     "name": "stderr",
     "output_type": "stream",
     "text": [
      "ERROR:root:An error occurred while processing faces: Given groups=1, weight of size [32, 3, 3, 3], expected input[1, 15, 160, 160] to have 3 channels, but got 15 channels instead\n",
      "INFO:root:Video length: 333 frames\n"
     ]
    },
    {
     "name": "stdout",
     "output_type": "stream",
     "text": [
      "1\n",
      "261\n",
      "(500, 954, 3)\n",
      "1\n",
      "348\n",
      "(500, 954, 3)\n",
      "1\n",
      "0\n",
      "(474, 846, 3)\n",
      "1\n",
      "83\n",
      "(474, 846, 3)\n",
      "1\n"
     ]
    },
    {
     "name": "stderr",
     "output_type": "stream",
     "text": [
      "ERROR:root:An error occurred while processing faces: Given groups=1, weight of size [32, 3, 3, 3], expected input[1, 15, 160, 160] to have 3 channels, but got 15 channels instead\n",
      "INFO:root:Video length: 459 frames\n"
     ]
    },
    {
     "name": "stdout",
     "output_type": "stream",
     "text": [
      "166\n",
      "(474, 846, 3)\n",
      "1\n",
      "249\n",
      "(474, 846, 3)\n",
      "1\n",
      "332\n",
      "(474, 846, 3)\n",
      "1\n",
      "0\n",
      "(500, 944, 3)\n",
      "1\n"
     ]
    },
    {
     "name": "stderr",
     "output_type": "stream",
     "text": [
      "ERROR:root:An error occurred while processing faces: Given groups=1, weight of size [32, 3, 3, 3], expected input[1, 15, 160, 160] to have 3 channels, but got 15 channels instead\n",
      "INFO:root:Video length: 423 frames\n"
     ]
    },
    {
     "name": "stdout",
     "output_type": "stream",
     "text": [
      "114\n",
      "(500, 944, 3)\n",
      "1\n",
      "229\n",
      "(500, 944, 3)\n",
      "1\n",
      "343\n",
      "(500, 944, 3)\n",
      "1\n",
      "458\n",
      "(500, 944, 3)\n",
      "1\n",
      "0\n",
      "(472, 850, 3)\n",
      "1\n",
      "105\n",
      "(472, 850, 3)\n",
      "1\n",
      "211\n",
      "(472, 850, 3)\n",
      "1\n",
      "316\n",
      "(472, 850, 3)\n",
      "1\n",
      "422\n",
      "(472, 850, 3)\n",
      "1\n"
     ]
    },
    {
     "name": "stderr",
     "output_type": "stream",
     "text": [
      "ERROR:root:An error occurred while processing faces: Given groups=1, weight of size [32, 3, 3, 3], expected input[1, 15, 160, 160] to have 3 channels, but got 15 channels instead\n",
      "INFO:root:Video length: 473 frames\n",
      "ERROR:root:An error occurred while processing faces: Given groups=1, weight of size [32, 3, 3, 3], expected input[1, 15, 160, 160] to have 3 channels, but got 15 channels instead\n",
      "INFO:root:Video length: 441 frames\n"
     ]
    },
    {
     "name": "stdout",
     "output_type": "stream",
     "text": [
      "0\n",
      "(478, 856, 3)\n",
      "1\n",
      "118\n",
      "(478, 856, 3)\n",
      "1\n",
      "236\n",
      "(478, 856, 3)\n",
      "1\n",
      "354\n",
      "(478, 856, 3)\n",
      "1\n",
      "472\n",
      "(478, 856, 3)\n",
      "1\n",
      "0\n",
      "(500, 938, 3)\n",
      "1\n",
      "110\n",
      "(500, 938, 3)\n",
      "1\n",
      "220\n",
      "(500, 938, 3)\n",
      "1\n",
      "330\n",
      "(500, 938, 3)\n",
      "1\n",
      "440\n",
      "(500, 938, 3)\n",
      "1\n"
     ]
    },
    {
     "name": "stderr",
     "output_type": "stream",
     "text": [
      "ERROR:root:An error occurred while processing faces: Given groups=1, weight of size [32, 3, 3, 3], expected input[1, 15, 160, 160] to have 3 channels, but got 15 channels instead\n",
      "INFO:root:Video length: 376 frames\n"
     ]
    },
    {
     "name": "stdout",
     "output_type": "stream",
     "text": [
      "0\n",
      "(466, 848, 3)\n",
      "1\n",
      "93\n",
      "(466, 848, 3)\n",
      "1\n",
      "187\n",
      "(466, 848, 3)\n",
      "1\n",
      "281\n",
      "(466, 848, 3)\n",
      "1\n",
      "375\n",
      "(466, 848, 3)\n",
      "1\n"
     ]
    },
    {
     "name": "stderr",
     "output_type": "stream",
     "text": [
      "ERROR:root:An error occurred while processing faces: Given groups=1, weight of size [32, 3, 3, 3], expected input[1, 15, 160, 160] to have 3 channels, but got 15 channels instead\n",
      "INFO:root:Video length: 455 frames\n",
      "ERROR:root:An error occurred while processing faces: Given groups=1, weight of size [32, 3, 3, 3], expected input[1, 15, 160, 160] to have 3 channels, but got 15 channels instead\n"
     ]
    },
    {
     "name": "stdout",
     "output_type": "stream",
     "text": [
      "0\n",
      "(478, 856, 3)\n",
      "1\n",
      "113\n",
      "(478, 856, 3)\n",
      "1\n",
      "227\n",
      "(478, 856, 3)\n",
      "1\n",
      "340\n",
      "(478, 856, 3)\n",
      "1\n",
      "454\n",
      "(478, 856, 3)\n",
      "1\n"
     ]
    },
    {
     "name": "stderr",
     "output_type": "stream",
     "text": [
      "INFO:root:Video length: 316 frames\n"
     ]
    },
    {
     "name": "stdout",
     "output_type": "stream",
     "text": [
      "0\n",
      "(478, 848, 3)\n",
      "1\n",
      "78\n",
      "(478, 848, 3)\n",
      "1\n",
      "157\n",
      "(478, 848, 3)\n",
      "1\n",
      "236\n",
      "(478, 848, 3)\n",
      "1\n",
      "315\n",
      "(478, 848, 3)\n",
      "1\n"
     ]
    },
    {
     "name": "stderr",
     "output_type": "stream",
     "text": [
      "ERROR:root:An error occurred while processing faces: Given groups=1, weight of size [32, 3, 3, 3], expected input[1, 15, 160, 160] to have 3 channels, but got 15 channels instead\n",
      "INFO:root:Video length: 247 frames\n",
      "ERROR:root:An error occurred while processing faces: Given groups=1, weight of size [32, 3, 3, 3], expected input[1, 15, 160, 160] to have 3 channels, but got 15 channels instead\n",
      "INFO:root:Video length: 311 frames\n"
     ]
    },
    {
     "name": "stdout",
     "output_type": "stream",
     "text": [
      "0\n",
      "(440, 612, 3)\n",
      "1\n",
      "61\n",
      "(440, 612, 3)\n",
      "1\n",
      "123\n",
      "(440, 612, 3)\n",
      "1\n",
      "184\n",
      "(440, 612, 3)\n",
      "1\n",
      "246\n",
      "(440, 612, 3)\n",
      "1\n",
      "0\n",
      "(500, 590, 3)\n",
      "1\n",
      "77\n",
      "(500, 590, 3)\n",
      "1\n"
     ]
    },
    {
     "name": "stderr",
     "output_type": "stream",
     "text": [
      "ERROR:root:An error occurred while processing faces: Given groups=1, weight of size [32, 3, 3, 3], expected input[1, 15, 160, 160] to have 3 channels, but got 15 channels instead\n",
      "INFO:root:Video length: 405 frames\n"
     ]
    },
    {
     "name": "stdout",
     "output_type": "stream",
     "text": [
      "155\n",
      "(500, 590, 3)\n",
      "1\n",
      "232\n",
      "(500, 590, 3)\n",
      "1\n",
      "310\n",
      "(500, 590, 3)\n",
      "1\n",
      "0\n",
      "(500, 942, 3)\n",
      "1\n",
      "101\n",
      "(500, 942, 3)\n",
      "1\n",
      "202\n",
      "(500, 942, 3)\n"
     ]
    },
    {
     "name": "stderr",
     "output_type": "stream",
     "text": [
      "ERROR:root:An error occurred while processing faces: Given groups=1, weight of size [32, 3, 3, 3], expected input[1, 15, 160, 160] to have 3 channels, but got 15 channels instead\n",
      "INFO:root:Video length: 469 frames\n"
     ]
    },
    {
     "name": "stdout",
     "output_type": "stream",
     "text": [
      "1\n",
      "303\n",
      "(500, 942, 3)\n",
      "1\n",
      "404\n",
      "(500, 942, 3)\n",
      "1\n",
      "0\n",
      "(500, 892, 3)\n",
      "1\n",
      "117\n",
      "(500, 892, 3)\n",
      "1\n",
      "234\n",
      "(500, 892, 3)\n",
      "1\n"
     ]
    },
    {
     "name": "stderr",
     "output_type": "stream",
     "text": [
      "ERROR:root:An error occurred while processing faces: Given groups=1, weight of size [32, 3, 3, 3], expected input[1, 15, 160, 160] to have 3 channels, but got 15 channels instead\n",
      "INFO:root:Video length: 315 frames\n"
     ]
    },
    {
     "name": "stdout",
     "output_type": "stream",
     "text": [
      "351\n",
      "(500, 892, 3)\n",
      "1\n",
      "468\n",
      "(500, 892, 3)\n",
      "1\n",
      "0\n",
      "(476, 850, 3)\n",
      "1\n",
      "78\n",
      "(476, 850, 3)\n",
      "1\n",
      "157\n",
      "(476, 850, 3)\n",
      "1\n"
     ]
    },
    {
     "name": "stderr",
     "output_type": "stream",
     "text": [
      "ERROR:root:An error occurred while processing faces: Given groups=1, weight of size [32, 3, 3, 3], expected input[1, 15, 160, 160] to have 3 channels, but got 15 channels instead\n",
      "INFO:root:Video length: 333 frames\n"
     ]
    },
    {
     "name": "stdout",
     "output_type": "stream",
     "text": [
      "235\n",
      "(476, 850, 3)\n",
      "1\n",
      "314\n",
      "(476, 850, 3)\n",
      "1\n",
      "0\n",
      "(476, 846, 3)\n",
      "1\n",
      "83\n",
      "(476, 846, 3)\n",
      "1\n",
      "166\n",
      "(476, 846, 3)\n",
      "1\n",
      "249\n",
      "(476, 846, 3)\n"
     ]
    },
    {
     "name": "stderr",
     "output_type": "stream",
     "text": [
      "ERROR:root:An error occurred while processing faces: Given groups=1, weight of size [32, 3, 3, 3], expected input[1, 15, 160, 160] to have 3 channels, but got 15 channels instead\n",
      "INFO:root:Video length: 380 frames\n"
     ]
    },
    {
     "name": "stdout",
     "output_type": "stream",
     "text": [
      "1\n",
      "332\n",
      "(476, 846, 3)\n",
      "1\n",
      "0\n",
      "(500, 528, 3)\n",
      "1\n",
      "94\n",
      "(500, 528, 3)\n",
      "1\n",
      "189\n",
      "(500, 528, 3)\n",
      "1\n",
      "284\n",
      "(500, 528, 3)\n",
      "1\n"
     ]
    },
    {
     "name": "stderr",
     "output_type": "stream",
     "text": [
      "ERROR:root:An error occurred while processing faces: Given groups=1, weight of size [32, 3, 3, 3], expected input[1, 15, 160, 160] to have 3 channels, but got 15 channels instead\n",
      "INFO:root:Video length: 611 frames\n"
     ]
    },
    {
     "name": "stdout",
     "output_type": "stream",
     "text": [
      "379\n",
      "(500, 528, 3)\n",
      "1\n",
      "0\n",
      "(500, 942, 3)\n",
      "1\n",
      "152\n",
      "(500, 942, 3)\n",
      "1\n",
      "305\n",
      "(500, 942, 3)\n",
      "1\n",
      "457\n",
      "(500, 942, 3)\n",
      "1\n"
     ]
    },
    {
     "name": "stderr",
     "output_type": "stream",
     "text": [
      "ERROR:root:An error occurred while processing faces: Given groups=1, weight of size [32, 3, 3, 3], expected input[1, 15, 160, 160] to have 3 channels, but got 15 channels instead\n",
      "INFO:root:Video length: 466 frames\n"
     ]
    },
    {
     "name": "stdout",
     "output_type": "stream",
     "text": [
      "610\n",
      "(500, 942, 3)\n",
      "1\n",
      "0\n",
      "(478, 856, 3)\n",
      "1\n",
      "116\n",
      "(478, 856, 3)\n",
      "1\n",
      "232\n",
      "(478, 856, 3)\n",
      "1\n",
      "348\n",
      "(478, 856, 3)\n",
      "1\n"
     ]
    },
    {
     "name": "stderr",
     "output_type": "stream",
     "text": [
      "ERROR:root:An error occurred while processing faces: Given groups=1, weight of size [32, 3, 3, 3], expected input[1, 15, 160, 160] to have 3 channels, but got 15 channels instead\n",
      "INFO:root:Video length: 428 frames\n"
     ]
    },
    {
     "name": "stdout",
     "output_type": "stream",
     "text": [
      "465\n",
      "(478, 856, 3)\n",
      "1\n",
      "0\n",
      "(500, 530, 3)\n",
      "1\n",
      "106\n",
      "(500, 530, 3)\n",
      "1\n",
      "213\n",
      "(500, 530, 3)\n",
      "1\n",
      "320\n",
      "(500, 530, 3)\n",
      "1\n"
     ]
    },
    {
     "name": "stderr",
     "output_type": "stream",
     "text": [
      "ERROR:root:An error occurred while processing faces: Given groups=1, weight of size [32, 3, 3, 3], expected input[1, 15, 160, 160] to have 3 channels, but got 15 channels instead\n",
      "INFO:root:Video length: 372 frames\n"
     ]
    },
    {
     "name": "stdout",
     "output_type": "stream",
     "text": [
      "427\n",
      "(500, 530, 3)\n",
      "1\n",
      "0\n",
      "(500, 650, 3)\n",
      "1\n",
      "92\n",
      "(500, 650, 3)\n",
      "1\n",
      "185\n",
      "(500, 650, 3)\n",
      "1\n",
      "278\n",
      "(500, 650, 3)\n",
      "1\n",
      "371\n",
      "(500, 650, 3)\n",
      "1\n"
     ]
    },
    {
     "name": "stderr",
     "output_type": "stream",
     "text": [
      "ERROR:root:An error occurred while processing faces: Given groups=1, weight of size [32, 3, 3, 3], expected input[1, 15, 160, 160] to have 3 channels, but got 15 channels instead\n",
      "INFO:root:Video length: 534 frames\n"
     ]
    },
    {
     "name": "stdout",
     "output_type": "stream",
     "text": [
      "0\n",
      "(500, 944, 3)\n",
      "1\n",
      "133\n",
      "(500, 944, 3)\n",
      "1\n",
      "266\n",
      "(500, 944, 3)\n",
      "1\n",
      "399\n",
      "(500, 944, 3)\n",
      "1\n"
     ]
    },
    {
     "name": "stderr",
     "output_type": "stream",
     "text": [
      "ERROR:root:An error occurred while processing faces: Given groups=1, weight of size [32, 3, 3, 3], expected input[1, 15, 160, 160] to have 3 channels, but got 15 channels instead\n",
      "INFO:root:Video length: 317 frames\n"
     ]
    },
    {
     "name": "stdout",
     "output_type": "stream",
     "text": [
      "533\n",
      "(500, 944, 3)\n",
      "1\n",
      "0\n",
      "(472, 848, 3)\n",
      "1\n",
      "79\n",
      "(472, 848, 3)\n",
      "1\n",
      "158\n",
      "(472, 848, 3)\n",
      "1\n",
      "237\n",
      "(472, 848, 3)\n",
      "1\n",
      "316\n",
      "(472, 848, 3)\n",
      "1\n"
     ]
    },
    {
     "name": "stderr",
     "output_type": "stream",
     "text": [
      "ERROR:root:An error occurred while processing faces: Given groups=1, weight of size [32, 3, 3, 3], expected input[1, 15, 160, 160] to have 3 channels, but got 15 channels instead\n",
      "INFO:root:Video length: 570 frames\n",
      "ERROR:root:An error occurred while processing faces: Given groups=1, weight of size [32, 3, 3, 3], expected input[1, 15, 160, 160] to have 3 channels, but got 15 channels instead\n"
     ]
    },
    {
     "name": "stdout",
     "output_type": "stream",
     "text": [
      "0\n",
      "(500, 944, 3)\n",
      "1\n",
      "142\n",
      "(500, 944, 3)\n",
      "1\n",
      "284\n",
      "(500, 944, 3)\n",
      "1\n",
      "426\n",
      "(500, 944, 3)\n",
      "1\n",
      "569\n",
      "(500, 944, 3)\n",
      "1\n"
     ]
    },
    {
     "name": "stderr",
     "output_type": "stream",
     "text": [
      "INFO:root:Video length: 448 frames\n"
     ]
    },
    {
     "name": "stdout",
     "output_type": "stream",
     "text": [
      "0\n",
      "(466, 848, 3)\n",
      "1\n",
      "111\n",
      "(466, 848, 3)\n",
      "1\n",
      "223\n",
      "(466, 848, 3)\n",
      "1\n",
      "335\n",
      "(466, 848, 3)\n",
      "1\n"
     ]
    },
    {
     "name": "stderr",
     "output_type": "stream",
     "text": [
      "ERROR:root:An error occurred while processing faces: Given groups=1, weight of size [32, 3, 3, 3], expected input[1, 15, 160, 160] to have 3 channels, but got 15 channels instead\n",
      "INFO:root:Video length: 457 frames\n"
     ]
    },
    {
     "name": "stdout",
     "output_type": "stream",
     "text": [
      "447\n",
      "(466, 848, 3)\n",
      "1\n",
      "0\n",
      "(478, 856, 3)\n",
      "1\n",
      "114\n",
      "(478, 856, 3)\n",
      "1\n",
      "228\n",
      "(478, 856, 3)\n",
      "1\n",
      "342\n",
      "(478, 856, 3)\n",
      "1\n",
      "456\n",
      "(478, 856, 3)\n",
      "1\n"
     ]
    },
    {
     "name": "stderr",
     "output_type": "stream",
     "text": [
      "ERROR:root:An error occurred while processing faces: Given groups=1, weight of size [32, 3, 3, 3], expected input[1, 15, 160, 160] to have 3 channels, but got 15 channels instead\n",
      "INFO:root:Video length: 321 frames\n",
      "ERROR:root:An error occurred while processing faces: Given groups=1, weight of size [32, 3, 3, 3], expected input[1, 15, 160, 160] to have 3 channels, but got 15 channels instead\n"
     ]
    },
    {
     "name": "stdout",
     "output_type": "stream",
     "text": [
      "0\n",
      "(474, 844, 3)\n",
      "1\n",
      "80\n",
      "(474, 844, 3)\n",
      "1\n",
      "160\n",
      "(474, 844, 3)\n",
      "1\n",
      "240\n",
      "(474, 844, 3)\n",
      "1\n",
      "320\n",
      "(474, 844, 3)\n",
      "1\n"
     ]
    },
    {
     "name": "stderr",
     "output_type": "stream",
     "text": [
      "INFO:root:Video length: 458 frames\n"
     ]
    },
    {
     "name": "stdout",
     "output_type": "stream",
     "text": [
      "0\n",
      "(500, 944, 3)\n",
      "1\n",
      "114\n",
      "(500, 944, 3)\n",
      "1\n",
      "228\n",
      "(500, 944, 3)\n",
      "1\n",
      "342\n",
      "(500, 944, 3)\n",
      "1\n",
      "457\n",
      "(500, 944, 3)\n",
      "1\n"
     ]
    },
    {
     "name": "stderr",
     "output_type": "stream",
     "text": [
      "ERROR:root:An error occurred while processing faces: Given groups=1, weight of size [32, 3, 3, 3], expected input[1, 15, 160, 160] to have 3 channels, but got 15 channels instead\n",
      "INFO:root:Video length: 401 frames\n"
     ]
    },
    {
     "name": "stdout",
     "output_type": "stream",
     "text": [
      "0\n",
      "(500, 944, 3)\n",
      "1\n",
      "100\n",
      "(500, 944, 3)\n",
      "1\n",
      "200\n",
      "(500, 944, 3)\n",
      "1\n",
      "300\n",
      "(500, 944, 3)\n",
      "1\n",
      "400\n",
      "(500, 944, 3)\n",
      "1\n"
     ]
    },
    {
     "name": "stderr",
     "output_type": "stream",
     "text": [
      "ERROR:root:An error occurred while processing faces: Given groups=1, weight of size [32, 3, 3, 3], expected input[1, 15, 160, 160] to have 3 channels, but got 15 channels instead\n",
      "INFO:root:Video length: 314 frames\n",
      "ERROR:root:An error occurred while processing faces: Given groups=1, weight of size [32, 3, 3, 3], expected input[1, 15, 160, 160] to have 3 channels, but got 15 channels instead\n",
      "INFO:root:Video length: 319 frames\n"
     ]
    },
    {
     "name": "stdout",
     "output_type": "stream",
     "text": [
      "0\n",
      "(480, 636, 3)\n",
      "1\n",
      "78\n",
      "(480, 636, 3)\n",
      "1\n",
      "156\n",
      "(480, 636, 3)\n",
      "1\n",
      "234\n",
      "(480, 636, 3)\n",
      "1\n",
      "313\n",
      "(480, 636, 3)\n",
      "1\n",
      "0\n",
      "(500, 662, 3)\n",
      "1\n"
     ]
    },
    {
     "name": "stderr",
     "output_type": "stream",
     "text": [
      "ERROR:root:An error occurred while processing faces: Given groups=1, weight of size [32, 3, 3, 3], expected input[1, 15, 160, 160] to have 3 channels, but got 15 channels instead\n"
     ]
    },
    {
     "name": "stdout",
     "output_type": "stream",
     "text": [
      "79\n",
      "(500, 662, 3)\n",
      "1\n",
      "159\n",
      "(500, 662, 3)\n",
      "1\n",
      "238\n",
      "(500, 662, 3)\n",
      "1\n",
      "318\n",
      "(500, 662, 3)\n",
      "1\n"
     ]
    },
    {
     "name": "stderr",
     "output_type": "stream",
     "text": [
      "INFO:root:Video length: 339 frames\n"
     ]
    },
    {
     "name": "stdout",
     "output_type": "stream",
     "text": [
      "0\n",
      "(470, 564, 3)\n",
      "1\n",
      "84\n",
      "(470, 564, 3)\n",
      "1\n",
      "169\n",
      "(470, 564, 3)\n",
      "1\n",
      "253\n",
      "(470, 564, 3)\n",
      "1\n"
     ]
    },
    {
     "name": "stderr",
     "output_type": "stream",
     "text": [
      "ERROR:root:An error occurred while processing faces: Given groups=1, weight of size [32, 3, 3, 3], expected input[1, 15, 160, 160] to have 3 channels, but got 15 channels instead\n",
      "INFO:root:Video length: 438 frames\n"
     ]
    },
    {
     "name": "stdout",
     "output_type": "stream",
     "text": [
      "338\n",
      "(470, 564, 3)\n",
      "1\n",
      "0\n",
      "(478, 856, 3)\n",
      "1\n",
      "109\n",
      "(478, 856, 3)\n",
      "1\n",
      "218\n",
      "(478, 856, 3)\n",
      "1\n",
      "327\n",
      "(478, 856, 3)\n",
      "1\n",
      "437\n",
      "(478, 856, 3)\n",
      "1\n"
     ]
    },
    {
     "name": "stderr",
     "output_type": "stream",
     "text": [
      "ERROR:root:An error occurred while processing faces: Given groups=1, weight of size [32, 3, 3, 3], expected input[1, 15, 160, 160] to have 3 channels, but got 15 channels instead\n",
      "INFO:root:Video length: 365 frames\n",
      "ERROR:root:An error occurred while processing faces: Given groups=1, weight of size [32, 3, 3, 3], expected input[1, 15, 160, 160] to have 3 channels, but got 15 channels instead\n",
      "INFO:root:Video length: 610 frames\n"
     ]
    },
    {
     "name": "stdout",
     "output_type": "stream",
     "text": [
      "0\n",
      "(500, 584, 3)\n",
      "1\n",
      "91\n",
      "(500, 584, 3)\n",
      "1\n",
      "182\n",
      "(500, 584, 3)\n",
      "1\n",
      "273\n",
      "(500, 584, 3)\n",
      "1\n",
      "364\n",
      "(500, 584, 3)\n",
      "1\n",
      "0\n",
      "(478, 856, 3)\n",
      "1\n",
      "152\n",
      "(478, 856, 3)\n",
      "1\n",
      "304\n",
      "(478, 856, 3)\n",
      "1\n",
      "456\n",
      "(478, 856, 3)\n",
      "1\n",
      "609\n",
      "(478, 856, 3)\n",
      "1\n"
     ]
    },
    {
     "name": "stderr",
     "output_type": "stream",
     "text": [
      "ERROR:root:An error occurred while processing faces: Given groups=1, weight of size [32, 3, 3, 3], expected input[1, 15, 160, 160] to have 3 channels, but got 15 channels instead\n",
      "INFO:root:Video length: 316 frames\n"
     ]
    },
    {
     "name": "stdout",
     "output_type": "stream",
     "text": [
      "0\n",
      "(500, 662, 3)\n",
      "1\n",
      "78\n",
      "(500, 662, 3)\n",
      "1\n",
      "157\n",
      "(500, 662, 3)\n",
      "1\n",
      "236\n",
      "(500, 662, 3)\n",
      "1\n",
      "315\n",
      "(500, 662, 3)\n",
      "1\n"
     ]
    },
    {
     "name": "stderr",
     "output_type": "stream",
     "text": [
      "ERROR:root:An error occurred while processing faces: Given groups=1, weight of size [32, 3, 3, 3], expected input[1, 15, 160, 160] to have 3 channels, but got 15 channels instead\n",
      "INFO:root:Video length: 449 frames\n"
     ]
    },
    {
     "name": "stdout",
     "output_type": "stream",
     "text": [
      "0\n",
      "(478, 856, 3)\n",
      "1\n",
      "112\n",
      "(478, 856, 3)\n",
      "1\n",
      "224\n",
      "(478, 856, 3)\n",
      "1\n",
      "336\n",
      "(478, 856, 3)\n",
      "1\n",
      "448\n",
      "(478, 856, 3)\n",
      "1\n"
     ]
    },
    {
     "name": "stderr",
     "output_type": "stream",
     "text": [
      "ERROR:root:An error occurred while processing faces: Given groups=1, weight of size [32, 3, 3, 3], expected input[1, 15, 160, 160] to have 3 channels, but got 15 channels instead\n",
      "INFO:root:Video length: 337 frames\n"
     ]
    },
    {
     "name": "stdout",
     "output_type": "stream",
     "text": [
      "0\n",
      "(478, 848, 3)\n",
      "1\n",
      "84\n",
      "(478, 848, 3)\n",
      "1\n",
      "168\n",
      "(478, 848, 3)\n",
      "1\n",
      "252\n",
      "(478, 848, 3)\n",
      "1\n",
      "336\n",
      "(478, 848, 3)\n",
      "1\n"
     ]
    },
    {
     "name": "stderr",
     "output_type": "stream",
     "text": [
      "ERROR:root:An error occurred while processing faces: Given groups=1, weight of size [32, 3, 3, 3], expected input[1, 15, 160, 160] to have 3 channels, but got 15 channels instead\n",
      "INFO:root:Video length: 330 frames\n"
     ]
    },
    {
     "name": "stdout",
     "output_type": "stream",
     "text": [
      "0\n",
      "(478, 856, 3)\n",
      "1\n",
      "82\n",
      "(478, 856, 3)\n",
      "1\n",
      "164\n",
      "(478, 856, 3)\n",
      "1\n",
      "246\n",
      "(478, 856, 3)\n",
      "1\n",
      "329\n",
      "(478, 856, 3)\n",
      "1\n"
     ]
    },
    {
     "name": "stderr",
     "output_type": "stream",
     "text": [
      "ERROR:root:An error occurred while processing faces: Given groups=1, weight of size [32, 3, 3, 3], expected input[1, 15, 160, 160] to have 3 channels, but got 15 channels instead\n",
      "INFO:root:Video length: 446 frames\n",
      "ERROR:root:An error occurred while processing faces: Given groups=1, weight of size [32, 3, 3, 3], expected input[1, 15, 160, 160] to have 3 channels, but got 15 channels instead\n"
     ]
    },
    {
     "name": "stdout",
     "output_type": "stream",
     "text": [
      "0\n",
      "(466, 848, 3)\n",
      "1\n",
      "111\n",
      "(466, 848, 3)\n",
      "1\n",
      "222\n",
      "(466, 848, 3)\n",
      "1\n",
      "333\n",
      "(466, 848, 3)\n",
      "1\n",
      "445\n",
      "(466, 848, 3)\n",
      "1\n"
     ]
    },
    {
     "name": "stderr",
     "output_type": "stream",
     "text": [
      "INFO:root:Video length: 479 frames\n"
     ]
    },
    {
     "name": "stdout",
     "output_type": "stream",
     "text": [
      "0\n",
      "(500, 944, 3)\n",
      "1\n",
      "119\n",
      "(500, 944, 3)\n",
      "1\n",
      "239\n",
      "(500, 944, 3)\n",
      "1\n",
      "358\n",
      "(500, 944, 3)\n",
      "1\n",
      "478\n",
      "(500, 944, 3)\n",
      "1\n"
     ]
    },
    {
     "name": "stderr",
     "output_type": "stream",
     "text": [
      "ERROR:root:An error occurred while processing faces: Given groups=1, weight of size [32, 3, 3, 3], expected input[1, 15, 160, 160] to have 3 channels, but got 15 channels instead\n",
      "INFO:root:Video length: 338 frames\n"
     ]
    },
    {
     "name": "stdout",
     "output_type": "stream",
     "text": [
      "0\n",
      "(500, 674, 3)\n",
      "1\n",
      "84\n",
      "(500, 674, 3)\n",
      "1\n",
      "168\n",
      "(500, 674, 3)\n",
      "1\n",
      "252\n",
      "(500, 674, 3)\n",
      "1\n"
     ]
    },
    {
     "name": "stderr",
     "output_type": "stream",
     "text": [
      "ERROR:root:An error occurred while processing faces: Given groups=1, weight of size [32, 3, 3, 3], expected input[1, 15, 160, 160] to have 3 channels, but got 15 channels instead\n",
      "INFO:root:Video length: 361 frames\n"
     ]
    },
    {
     "name": "stdout",
     "output_type": "stream",
     "text": [
      "337\n",
      "(500, 674, 3)\n",
      "1\n",
      "0\n",
      "(500, 588, 3)\n",
      "1\n",
      "90\n",
      "(500, 588, 3)\n",
      "1\n",
      "180\n",
      "(500, 588, 3)\n",
      "1\n",
      "270\n",
      "(500, 588, 3)\n",
      "1\n",
      "360\n",
      "(500, 588, 3)\n",
      "1\n"
     ]
    },
    {
     "name": "stderr",
     "output_type": "stream",
     "text": [
      "ERROR:root:An error occurred while processing faces: Given groups=1, weight of size [32, 3, 3, 3], expected input[1, 15, 160, 160] to have 3 channels, but got 15 channels instead\n",
      "INFO:root:Video length: 305 frames\n",
      "ERROR:root:An error occurred while processing faces: Given groups=1, weight of size [32, 3, 3, 3], expected input[1, 15, 160, 160] to have 3 channels, but got 15 channels instead\n"
     ]
    },
    {
     "name": "stdout",
     "output_type": "stream",
     "text": [
      "0\n",
      "(500, 590, 3)\n",
      "1\n",
      "76\n",
      "(500, 590, 3)\n",
      "1\n",
      "152\n",
      "(500, 590, 3)\n",
      "1\n",
      "228\n",
      "(500, 590, 3)\n",
      "1\n",
      "304\n",
      "(500, 590, 3)\n",
      "1\n"
     ]
    },
    {
     "name": "stderr",
     "output_type": "stream",
     "text": [
      "INFO:root:Video length: 464 frames\n"
     ]
    },
    {
     "name": "stdout",
     "output_type": "stream",
     "text": [
      "0\n",
      "(478, 856, 3)\n",
      "1\n",
      "115\n",
      "(478, 856, 3)\n",
      "1\n",
      "231\n",
      "(478, 856, 3)\n",
      "1\n",
      "347\n",
      "(478, 856, 3)\n",
      "1\n"
     ]
    },
    {
     "name": "stderr",
     "output_type": "stream",
     "text": [
      "ERROR:root:An error occurred while processing faces: Given groups=1, weight of size [32, 3, 3, 3], expected input[1, 15, 160, 160] to have 3 channels, but got 15 channels instead\n",
      "INFO:root:Video length: 318 frames\n"
     ]
    },
    {
     "name": "stdout",
     "output_type": "stream",
     "text": [
      "463\n",
      "(478, 856, 3)\n",
      "1\n",
      "0\n",
      "(458, 834, 3)\n",
      "1\n",
      "79\n",
      "(458, 834, 3)\n",
      "1\n",
      "158\n",
      "(458, 834, 3)\n",
      "1\n",
      "237\n",
      "(458, 834, 3)\n",
      "1\n",
      "317\n",
      "(458, 834, 3)\n",
      "1\n"
     ]
    },
    {
     "name": "stderr",
     "output_type": "stream",
     "text": [
      "ERROR:root:An error occurred while processing faces: Given groups=1, weight of size [32, 3, 3, 3], expected input[1, 15, 160, 160] to have 3 channels, but got 15 channels instead\n",
      "INFO:root:Video length: 274 frames\n"
     ]
    },
    {
     "name": "stdout",
     "output_type": "stream",
     "text": [
      "0\n",
      "(500, 894, 3)\n",
      "1\n",
      "68\n",
      "(500, 894, 3)\n",
      "1\n",
      "136\n",
      "(500, 894, 3)\n",
      "1\n",
      "204\n",
      "(500, 894, 3)\n",
      "1\n",
      "273\n",
      "(500, 894, 3)\n",
      "1\n"
     ]
    },
    {
     "name": "stderr",
     "output_type": "stream",
     "text": [
      "ERROR:root:An error occurred while processing faces: Given groups=1, weight of size [32, 3, 3, 3], expected input[1, 15, 160, 160] to have 3 channels, but got 15 channels instead\n",
      "INFO:root:Video length: 434 frames\n",
      "ERROR:root:An error occurred while processing faces: Given groups=1, weight of size [32, 3, 3, 3], expected input[1, 15, 160, 160] to have 3 channels, but got 15 channels instead\n"
     ]
    },
    {
     "name": "stdout",
     "output_type": "stream",
     "text": [
      "0\n",
      "(480, 852, 3)\n",
      "1\n",
      "108\n",
      "(480, 852, 3)\n",
      "1\n",
      "216\n",
      "(480, 852, 3)\n",
      "1\n",
      "324\n",
      "(480, 852, 3)\n",
      "1\n",
      "433\n",
      "(480, 852, 3)\n",
      "1\n"
     ]
    },
    {
     "name": "stderr",
     "output_type": "stream",
     "text": [
      "INFO:root:Video length: 467 frames\n",
      "ERROR:root:An error occurred while processing faces: Given groups=1, weight of size [32, 3, 3, 3], expected input[1, 15, 160, 160] to have 3 channels, but got 15 channels instead\n"
     ]
    },
    {
     "name": "stdout",
     "output_type": "stream",
     "text": [
      "0\n",
      "(472, 850, 3)\n",
      "1\n",
      "116\n",
      "(472, 850, 3)\n",
      "1\n",
      "233\n",
      "(472, 850, 3)\n",
      "1\n",
      "349\n",
      "(472, 850, 3)\n",
      "1\n",
      "466\n",
      "(472, 850, 3)\n",
      "1\n"
     ]
    },
    {
     "name": "stderr",
     "output_type": "stream",
     "text": [
      "INFO:root:Video length: 311 frames\n",
      "ERROR:root:An error occurred while processing faces: Given groups=1, weight of size [32, 3, 3, 3], expected input[1, 15, 160, 160] to have 3 channels, but got 15 channels instead\n",
      "INFO:root:Video length: 361 frames\n"
     ]
    },
    {
     "name": "stdout",
     "output_type": "stream",
     "text": [
      "0\n",
      "(500, 590, 3)\n",
      "1\n",
      "77\n",
      "(500, 590, 3)\n",
      "1\n",
      "155\n",
      "(500, 590, 3)\n",
      "1\n",
      "232\n",
      "(500, 590, 3)\n",
      "1\n",
      "310\n",
      "(500, 590, 3)\n",
      "1\n",
      "0\n",
      "(500, 588, 3)\n",
      "1\n"
     ]
    },
    {
     "name": "stderr",
     "output_type": "stream",
     "text": [
      "ERROR:root:An error occurred while processing faces: Given groups=1, weight of size [32, 3, 3, 3], expected input[1, 15, 160, 160] to have 3 channels, but got 15 channels instead\n",
      "INFO:root:Video length: 362 frames\n"
     ]
    },
    {
     "name": "stdout",
     "output_type": "stream",
     "text": [
      "90\n",
      "(500, 588, 3)\n",
      "1\n",
      "180\n",
      "(500, 588, 3)\n",
      "1\n",
      "270\n",
      "(500, 588, 3)\n",
      "1\n",
      "360\n",
      "(500, 588, 3)\n",
      "1\n",
      "0\n",
      "(478, 856, 3)\n",
      "1\n"
     ]
    },
    {
     "name": "stderr",
     "output_type": "stream",
     "text": [
      "ERROR:root:An error occurred while processing faces: Given groups=1, weight of size [32, 3, 3, 3], expected input[1, 15, 160, 160] to have 3 channels, but got 15 channels instead\n"
     ]
    },
    {
     "name": "stdout",
     "output_type": "stream",
     "text": [
      "90\n",
      "(478, 856, 3)\n",
      "1\n",
      "180\n",
      "(478, 856, 3)\n",
      "1\n",
      "270\n",
      "(478, 856, 3)\n",
      "1\n",
      "361\n",
      "(478, 856, 3)\n",
      "1\n"
     ]
    },
    {
     "name": "stderr",
     "output_type": "stream",
     "text": [
      "INFO:root:Video length: 337 frames\n"
     ]
    },
    {
     "name": "stdout",
     "output_type": "stream",
     "text": [
      "0\n",
      "(478, 848, 3)\n",
      "1\n",
      "84\n",
      "(478, 848, 3)\n",
      "1\n",
      "168\n",
      "(478, 848, 3)\n",
      "1\n",
      "252\n",
      "(478, 848, 3)\n",
      "1\n",
      "336\n",
      "(478, 848, 3)\n",
      "1\n"
     ]
    },
    {
     "name": "stderr",
     "output_type": "stream",
     "text": [
      "ERROR:root:An error occurred while processing faces: Given groups=1, weight of size [32, 3, 3, 3], expected input[1, 15, 160, 160] to have 3 channels, but got 15 channels instead\n",
      "INFO:root:Video length: 322 frames\n",
      "ERROR:root:An error occurred while processing faces: Given groups=1, weight of size [32, 3, 3, 3], expected input[1, 15, 160, 160] to have 3 channels, but got 15 channels instead\n",
      "INFO:root:Video length: 318 frames\n"
     ]
    },
    {
     "name": "stdout",
     "output_type": "stream",
     "text": [
      "0\n",
      "(478, 856, 3)\n",
      "1\n",
      "80\n",
      "(478, 856, 3)\n",
      "1\n",
      "160\n",
      "(478, 856, 3)\n",
      "1\n",
      "240\n",
      "(478, 856, 3)\n",
      "1\n",
      "321\n",
      "(478, 856, 3)\n",
      "1\n",
      "0\n",
      "(476, 846, 3)\n",
      "1\n"
     ]
    },
    {
     "name": "stderr",
     "output_type": "stream",
     "text": [
      "ERROR:root:An error occurred while processing faces: Given groups=1, weight of size [32, 3, 3, 3], expected input[1, 15, 160, 160] to have 3 channels, but got 15 channels instead\n",
      "INFO:root:Video length: 571 frames\n"
     ]
    },
    {
     "name": "stdout",
     "output_type": "stream",
     "text": [
      "79\n",
      "(476, 846, 3)\n",
      "1\n",
      "158\n",
      "(476, 846, 3)\n",
      "1\n",
      "237\n",
      "(476, 846, 3)\n",
      "1\n",
      "317\n",
      "(476, 846, 3)\n",
      "1\n",
      "0\n",
      "(478, 856, 3)\n",
      "1\n",
      "142\n",
      "(478, 856, 3)\n",
      "1\n"
     ]
    },
    {
     "name": "stderr",
     "output_type": "stream",
     "text": [
      "ERROR:root:An error occurred while processing faces: Given groups=1, weight of size [32, 3, 3, 3], expected input[1, 15, 160, 160] to have 3 channels, but got 15 channels instead\n",
      "INFO:root:Video length: 513 frames\n"
     ]
    },
    {
     "name": "stdout",
     "output_type": "stream",
     "text": [
      "285\n",
      "(478, 856, 3)\n",
      "1\n",
      "427\n",
      "(478, 856, 3)\n",
      "1\n",
      "570\n",
      "(478, 856, 3)\n",
      "1\n",
      "0\n",
      "(478, 856, 3)\n",
      "1\n",
      "128\n",
      "(478, 856, 3)\n",
      "1\n"
     ]
    },
    {
     "name": "stderr",
     "output_type": "stream",
     "text": [
      "ERROR:root:An error occurred while processing faces: Given groups=1, weight of size [32, 3, 3, 3], expected input[1, 15, 160, 160] to have 3 channels, but got 15 channels instead\n",
      "INFO:root:Video length: 224 frames\n"
     ]
    },
    {
     "name": "stdout",
     "output_type": "stream",
     "text": [
      "256\n",
      "(478, 856, 3)\n",
      "1\n",
      "384\n",
      "(478, 856, 3)\n",
      "1\n",
      "512\n",
      "(478, 856, 3)\n",
      "1\n",
      "0\n",
      "(500, 950, 3)\n",
      "1\n",
      "55\n",
      "(500, 950, 3)\n",
      "1\n",
      "111\n",
      "(500, 950, 3)\n"
     ]
    },
    {
     "name": "stderr",
     "output_type": "stream",
     "text": [
      "ERROR:root:An error occurred while processing faces: Given groups=1, weight of size [32, 3, 3, 3], expected input[1, 15, 160, 160] to have 3 channels, but got 15 channels instead\n",
      "INFO:root:Video length: 571 frames\n"
     ]
    },
    {
     "name": "stdout",
     "output_type": "stream",
     "text": [
      "1\n",
      "167\n",
      "(500, 950, 3)\n",
      "1\n",
      "223\n",
      "(500, 950, 3)\n",
      "1\n",
      "0\n",
      "(472, 850, 3)\n",
      "1\n",
      "142\n",
      "(472, 850, 3)\n",
      "1\n",
      "285\n",
      "(472, 850, 3)\n",
      "1\n",
      "427\n",
      "(472, 850, 3)\n",
      "1\n",
      "570\n",
      "(472, 850, 3)\n",
      "1\n"
     ]
    },
    {
     "name": "stderr",
     "output_type": "stream",
     "text": [
      "ERROR:root:An error occurred while processing faces: Given groups=1, weight of size [32, 3, 3, 3], expected input[1, 15, 160, 160] to have 3 channels, but got 15 channels instead\n",
      "INFO:root:Video length: 469 frames\n"
     ]
    },
    {
     "name": "stdout",
     "output_type": "stream",
     "text": [
      "0\n",
      "(500, 944, 3)\n",
      "1\n",
      "117\n",
      "(500, 944, 3)\n",
      "1\n",
      "234\n",
      "(500, 944, 3)\n",
      "1\n",
      "351\n",
      "(500, 944, 3)\n",
      "1\n",
      "468\n",
      "(500, 944, 3)\n"
     ]
    },
    {
     "name": "stderr",
     "output_type": "stream",
     "text": [
      "ERROR:root:An error occurred while processing faces: Given groups=1, weight of size [32, 3, 3, 3], expected input[1, 15, 160, 160] to have 3 channels, but got 15 channels instead\n",
      "INFO:root:Video length: 319 frames\n"
     ]
    },
    {
     "name": "stdout",
     "output_type": "stream",
     "text": [
      "1\n",
      "0\n",
      "(476, 846, 3)\n",
      "1\n",
      "79\n",
      "(476, 846, 3)\n",
      "1\n",
      "159\n",
      "(476, 846, 3)\n",
      "1\n",
      "238\n",
      "(476, 846, 3)\n",
      "1\n"
     ]
    },
    {
     "name": "stderr",
     "output_type": "stream",
     "text": [
      "ERROR:root:An error occurred while processing faces: Given groups=1, weight of size [32, 3, 3, 3], expected input[1, 15, 160, 160] to have 3 channels, but got 15 channels instead\n",
      "INFO:root:Video length: 295 frames\n"
     ]
    },
    {
     "name": "stdout",
     "output_type": "stream",
     "text": [
      "318\n",
      "(476, 846, 3)\n",
      "1\n",
      "0\n",
      "(456, 540, 3)\n",
      "1\n",
      "73\n",
      "(456, 540, 3)\n",
      "1\n",
      "147\n",
      "(456, 540, 3)\n",
      "1\n",
      "220\n",
      "(456, 540, 3)\n",
      "1\n",
      "294\n",
      "(456, 540, 3)\n",
      "1\n"
     ]
    },
    {
     "name": "stderr",
     "output_type": "stream",
     "text": [
      "ERROR:root:An error occurred while processing faces: Given groups=1, weight of size [32, 3, 3, 3], expected input[1, 15, 160, 160] to have 3 channels, but got 15 channels instead\n",
      "INFO:root:Video length: 463 frames\n"
     ]
    },
    {
     "name": "stdout",
     "output_type": "stream",
     "text": [
      "0\n",
      "(500, 892, 3)\n",
      "1\n",
      "115\n",
      "(500, 892, 3)\n",
      "1\n",
      "231\n",
      "(500, 892, 3)\n",
      "1\n",
      "346\n",
      "(500, 892, 3)\n",
      "1\n",
      "462\n",
      "(500, 892, 3)\n",
      "1\n"
     ]
    },
    {
     "name": "stderr",
     "output_type": "stream",
     "text": [
      "ERROR:root:An error occurred while processing faces: Given groups=1, weight of size [32, 3, 3, 3], expected input[1, 15, 160, 160] to have 3 channels, but got 15 channels instead\n",
      "INFO:root:Video length: 381 frames\n"
     ]
    },
    {
     "name": "stdout",
     "output_type": "stream",
     "text": [
      "0\n",
      "(500, 944, 3)\n",
      "1\n",
      "95\n",
      "(500, 944, 3)\n",
      "1\n",
      "190\n",
      "(500, 944, 3)\n",
      "1\n",
      "285\n",
      "(500, 944, 3)\n",
      "1\n"
     ]
    },
    {
     "name": "stderr",
     "output_type": "stream",
     "text": [
      "ERROR:root:An error occurred while processing faces: Given groups=1, weight of size [32, 3, 3, 3], expected input[1, 15, 160, 160] to have 3 channels, but got 15 channels instead\n",
      "INFO:root:Video length: 485 frames\n"
     ]
    },
    {
     "name": "stdout",
     "output_type": "stream",
     "text": [
      "380\n",
      "(500, 944, 3)\n",
      "1\n",
      "0\n",
      "(478, 856, 3)\n",
      "1\n",
      "121\n",
      "(478, 856, 3)\n",
      "1\n",
      "242\n",
      "(478, 856, 3)\n",
      "1\n",
      "363\n",
      "(478, 856, 3)\n",
      "1\n"
     ]
    },
    {
     "name": "stderr",
     "output_type": "stream",
     "text": [
      "ERROR:root:An error occurred while processing faces: Given groups=1, weight of size [32, 3, 3, 3], expected input[1, 15, 160, 160] to have 3 channels, but got 15 channels instead\n",
      "INFO:root:Video length: 409 frames\n",
      "ERROR:root:An error occurred while processing faces: Given groups=1, weight of size [32, 3, 3, 3], expected input[1, 15, 160, 160] to have 3 channels, but got 15 channels instead\n"
     ]
    },
    {
     "name": "stdout",
     "output_type": "stream",
     "text": [
      "484\n",
      "(478, 856, 3)\n",
      "1\n",
      "0\n",
      "(500, 430, 3)\n",
      "1\n",
      "102\n",
      "(500, 430, 3)\n",
      "1\n",
      "204\n",
      "(500, 430, 3)\n",
      "1\n",
      "306\n",
      "(500, 430, 3)\n",
      "1\n",
      "408\n",
      "(500, 430, 3)\n",
      "1\n"
     ]
    },
    {
     "name": "stderr",
     "output_type": "stream",
     "text": [
      "INFO:root:Video length: 474 frames\n"
     ]
    },
    {
     "name": "stdout",
     "output_type": "stream",
     "text": [
      "0\n",
      "(500, 892, 3)\n",
      "1\n",
      "118\n",
      "(500, 892, 3)\n",
      "1\n",
      "236\n",
      "(500, 892, 3)\n",
      "1\n",
      "354\n",
      "(500, 892, 3)\n",
      "1\n",
      "473\n",
      "(500, 892, 3)\n",
      "1\n"
     ]
    },
    {
     "name": "stderr",
     "output_type": "stream",
     "text": [
      "ERROR:root:An error occurred while processing faces: Given groups=1, weight of size [32, 3, 3, 3], expected input[1, 15, 160, 160] to have 3 channels, but got 15 channels instead\n",
      "INFO:root:Video length: 320 frames\n"
     ]
    },
    {
     "name": "stdout",
     "output_type": "stream",
     "text": [
      "0\n",
      "(472, 848, 3)\n",
      "1\n",
      "79\n",
      "(472, 848, 3)\n",
      "1\n",
      "159\n",
      "(472, 848, 3)\n",
      "1\n",
      "239\n",
      "(472, 848, 3)\n",
      "1\n",
      "319\n",
      "(472, 848, 3)\n",
      "1\n"
     ]
    },
    {
     "name": "stderr",
     "output_type": "stream",
     "text": [
      "ERROR:root:An error occurred while processing faces: Given groups=1, weight of size [32, 3, 3, 3], expected input[1, 15, 160, 160] to have 3 channels, but got 15 channels instead\n",
      "INFO:root:Video length: 459 frames\n"
     ]
    },
    {
     "name": "stdout",
     "output_type": "stream",
     "text": [
      "0\n",
      "(500, 942, 3)\n",
      "1\n",
      "114\n",
      "(500, 942, 3)\n",
      "1\n",
      "229\n",
      "(500, 942, 3)\n",
      "1\n",
      "343\n",
      "(500, 942, 3)\n",
      "1\n"
     ]
    },
    {
     "name": "stderr",
     "output_type": "stream",
     "text": [
      "ERROR:root:An error occurred while processing faces: Given groups=1, weight of size [32, 3, 3, 3], expected input[1, 15, 160, 160] to have 3 channels, but got 15 channels instead\n",
      "INFO:root:Video length: 332 frames\n"
     ]
    },
    {
     "name": "stdout",
     "output_type": "stream",
     "text": [
      "458\n",
      "(500, 942, 3)\n",
      "1\n",
      "0\n",
      "(474, 844, 3)\n",
      "1\n",
      "82\n",
      "(474, 844, 3)\n",
      "1\n",
      "165\n",
      "(474, 844, 3)\n",
      "1\n",
      "248\n",
      "(474, 844, 3)\n",
      "1\n"
     ]
    },
    {
     "name": "stderr",
     "output_type": "stream",
     "text": [
      "ERROR:root:An error occurred while processing faces: Given groups=1, weight of size [32, 3, 3, 3], expected input[1, 15, 160, 160] to have 3 channels, but got 15 channels instead\n",
      "INFO:root:Video length: 456 frames\n"
     ]
    },
    {
     "name": "stdout",
     "output_type": "stream",
     "text": [
      "331\n",
      "(474, 844, 3)\n",
      "1\n",
      "0\n",
      "(472, 850, 3)\n",
      "1\n",
      "113\n",
      "(472, 850, 3)\n",
      "1\n",
      "227\n",
      "(472, 850, 3)\n",
      "1\n",
      "341\n",
      "(472, 850, 3)\n",
      "1\n",
      "455\n"
     ]
    },
    {
     "name": "stderr",
     "output_type": "stream",
     "text": [
      "ERROR:root:An error occurred while processing faces: Given groups=1, weight of size [32, 3, 3, 3], expected input[1, 15, 160, 160] to have 3 channels, but got 15 channels instead\n",
      "INFO:root:Video length: 400 frames\n"
     ]
    },
    {
     "name": "stdout",
     "output_type": "stream",
     "text": [
      "(472, 850, 3)\n",
      "1\n",
      "0\n",
      "(500, 494, 3)\n",
      "1\n",
      "99\n",
      "(500, 494, 3)\n",
      "1\n",
      "199\n",
      "(500, 494, 3)\n",
      "1\n",
      "299\n",
      "(500, 494, 3)\n",
      "1\n",
      "399\n",
      "(500, 494, 3)\n",
      "1\n"
     ]
    },
    {
     "name": "stderr",
     "output_type": "stream",
     "text": [
      "ERROR:root:An error occurred while processing faces: Given groups=1, weight of size [32, 3, 3, 3], expected input[1, 15, 160, 160] to have 3 channels, but got 15 channels instead\n",
      "INFO:root:Video length: 448 frames\n"
     ]
    },
    {
     "name": "stdout",
     "output_type": "stream",
     "text": [
      "0\n",
      "(472, 850, 3)\n",
      "1\n",
      "111\n",
      "(472, 850, 3)\n",
      "1\n",
      "223\n",
      "(472, 850, 3)\n",
      "1\n",
      "335\n",
      "(472, 850, 3)\n",
      "1\n"
     ]
    },
    {
     "name": "stderr",
     "output_type": "stream",
     "text": [
      "ERROR:root:An error occurred while processing faces: Given groups=1, weight of size [32, 3, 3, 3], expected input[1, 15, 160, 160] to have 3 channels, but got 15 channels instead\n",
      "INFO:root:Video length: 398 frames\n"
     ]
    },
    {
     "name": "stdout",
     "output_type": "stream",
     "text": [
      "447\n",
      "(472, 850, 3)\n",
      "1\n",
      "0\n",
      "(500, 950, 3)\n",
      "1\n",
      "99\n",
      "(500, 950, 3)\n",
      "1\n",
      "198\n",
      "(500, 950, 3)\n",
      "1\n",
      "297\n",
      "(500, 950, 3)\n",
      "1\n"
     ]
    },
    {
     "name": "stderr",
     "output_type": "stream",
     "text": [
      "ERROR:root:An error occurred while processing faces: Given groups=1, weight of size [32, 3, 3, 3], expected input[1, 15, 160, 160] to have 3 channels, but got 15 channels instead\n",
      "INFO:root:Video length: 327 frames\n"
     ]
    },
    {
     "name": "stdout",
     "output_type": "stream",
     "text": [
      "397\n",
      "(500, 950, 3)\n",
      "1\n",
      "0\n",
      "(472, 848, 3)\n",
      "1\n",
      "81\n",
      "(472, 848, 3)\n",
      "1\n",
      "163\n",
      "(472, 848, 3)\n",
      "1\n"
     ]
    },
    {
     "name": "stderr",
     "output_type": "stream",
     "text": [
      "ERROR:root:An error occurred while processing faces: Given groups=1, weight of size [32, 3, 3, 3], expected input[1, 15, 160, 160] to have 3 channels, but got 15 channels instead\n",
      "INFO:root:Video length: 186 frames\n"
     ]
    },
    {
     "name": "stdout",
     "output_type": "stream",
     "text": [
      "244\n",
      "(472, 848, 3)\n",
      "1\n",
      "326\n",
      "(472, 848, 3)\n",
      "1\n",
      "0\n",
      "(476, 846, 3)\n",
      "1\n",
      "46\n",
      "(476, 846, 3)\n",
      "1\n",
      "92\n",
      "(476, 846, 3)\n",
      "1\n"
     ]
    },
    {
     "name": "stderr",
     "output_type": "stream",
     "text": [
      "ERROR:root:An error occurred while processing faces: Given groups=1, weight of size [32, 3, 3, 3], expected input[1, 15, 160, 160] to have 3 channels, but got 15 channels instead\n",
      "INFO:root:Video length: 529 frames\n"
     ]
    },
    {
     "name": "stdout",
     "output_type": "stream",
     "text": [
      "138\n",
      "(476, 846, 3)\n",
      "1\n",
      "185\n",
      "(476, 846, 3)\n",
      "1\n",
      "0\n",
      "(500, 944, 3)\n",
      "1\n",
      "132\n",
      "(500, 944, 3)\n",
      "1\n",
      "264\n",
      "(500, 944, 3)\n",
      "1\n"
     ]
    },
    {
     "name": "stderr",
     "output_type": "stream",
     "text": [
      "ERROR:root:An error occurred while processing faces: Given groups=1, weight of size [32, 3, 3, 3], expected input[1, 15, 160, 160] to have 3 channels, but got 15 channels instead\n",
      "INFO:root:Video length: 370 frames\n"
     ]
    },
    {
     "name": "stdout",
     "output_type": "stream",
     "text": [
      "396\n",
      "(500, 944, 3)\n",
      "1\n",
      "528\n",
      "(500, 944, 3)\n",
      "1\n",
      "0\n",
      "(478, 856, 3)\n",
      "1\n",
      "92\n",
      "(478, 856, 3)\n",
      "1\n",
      "184\n",
      "(478, 856, 3)\n",
      "1\n"
     ]
    },
    {
     "name": "stderr",
     "output_type": "stream",
     "text": [
      "ERROR:root:An error occurred while processing faces: Given groups=1, weight of size [32, 3, 3, 3], expected input[1, 15, 160, 160] to have 3 channels, but got 15 channels instead\n",
      "INFO:root:Video length: 460 frames\n"
     ]
    },
    {
     "name": "stdout",
     "output_type": "stream",
     "text": [
      "276\n",
      "(478, 856, 3)\n",
      "1\n",
      "369\n",
      "(478, 856, 3)\n",
      "1\n",
      "0\n",
      "(478, 856, 3)\n",
      "1\n",
      "114\n",
      "(478, 856, 3)\n",
      "1\n"
     ]
    },
    {
     "name": "stderr",
     "output_type": "stream",
     "text": [
      "ERROR:root:An error occurred while processing faces: Given groups=1, weight of size [32, 3, 3, 3], expected input[1, 15, 160, 160] to have 3 channels, but got 15 channels instead\n",
      "INFO:root:Video length: 455 frames\n"
     ]
    },
    {
     "name": "stdout",
     "output_type": "stream",
     "text": [
      "229\n",
      "(478, 856, 3)\n",
      "1\n",
      "344\n",
      "(478, 856, 3)\n",
      "1\n",
      "459\n",
      "(478, 856, 3)\n",
      "1\n",
      "0\n",
      "(478, 856, 3)\n",
      "1\n",
      "113\n",
      "(478, 856, 3)\n",
      "1\n",
      "227\n",
      "(478, 856, 3)\n",
      "1\n",
      "340\n",
      "(478, 856, 3)\n",
      "1\n",
      "454\n",
      "(478, 856, 3)\n",
      "1\n"
     ]
    },
    {
     "name": "stderr",
     "output_type": "stream",
     "text": [
      "ERROR:root:An error occurred while processing faces: Given groups=1, weight of size [32, 3, 3, 3], expected input[1, 15, 160, 160] to have 3 channels, but got 15 channels instead\n",
      "INFO:root:Video length: 323 frames\n"
     ]
    },
    {
     "name": "stdout",
     "output_type": "stream",
     "text": [
      "0\n",
      "(472, 850, 3)\n",
      "1\n",
      "80\n",
      "(472, 850, 3)\n",
      "1\n",
      "161\n",
      "(472, 850, 3)\n",
      "1\n",
      "241\n",
      "(472, 850, 3)\n",
      "1\n",
      "322\n",
      "(472, 850, 3)\n",
      "1\n"
     ]
    },
    {
     "name": "stderr",
     "output_type": "stream",
     "text": [
      "ERROR:root:An error occurred while processing faces: Given groups=1, weight of size [32, 3, 3, 3], expected input[1, 15, 160, 160] to have 3 channels, but got 15 channels instead\n",
      "INFO:root:Video length: 306 frames\n",
      "ERROR:root:An error occurred while processing faces: Given groups=1, weight of size [32, 3, 3, 3], expected input[1, 15, 160, 160] to have 3 channels, but got 15 channels instead\n",
      "INFO:root:Video length: 505 frames\n"
     ]
    },
    {
     "name": "stdout",
     "output_type": "stream",
     "text": [
      "0\n",
      "(500, 354, 3)\n",
      "1\n",
      "76\n",
      "(500, 354, 3)\n",
      "1\n",
      "152\n",
      "(500, 354, 3)\n",
      "1\n",
      "228\n",
      "(500, 354, 3)\n",
      "1\n",
      "305\n",
      "(500, 354, 3)\n",
      "1\n",
      "0\n",
      "(500, 574, 3)\n",
      "1\n"
     ]
    },
    {
     "name": "stderr",
     "output_type": "stream",
     "text": [
      "ERROR:root:An error occurred while processing faces: Given groups=1, weight of size [32, 3, 3, 3], expected input[1, 15, 160, 160] to have 3 channels, but got 15 channels instead\n",
      "INFO:root:Video length: 630 frames\n"
     ]
    },
    {
     "name": "stdout",
     "output_type": "stream",
     "text": [
      "126\n",
      "(500, 574, 3)\n",
      "1\n",
      "252\n",
      "(500, 574, 3)\n",
      "1\n",
      "378\n",
      "(500, 574, 3)\n",
      "1\n",
      "504\n",
      "(500, 574, 3)\n",
      "1\n",
      "0\n",
      "(500, 944, 3)\n",
      "1\n"
     ]
    },
    {
     "name": "stderr",
     "output_type": "stream",
     "text": [
      "ERROR:root:An error occurred while processing faces: Given groups=1, weight of size [32, 3, 3, 3], expected input[1, 15, 160, 160] to have 3 channels, but got 15 channels instead\n"
     ]
    },
    {
     "name": "stdout",
     "output_type": "stream",
     "text": [
      "157\n",
      "(500, 944, 3)\n",
      "1\n",
      "314\n",
      "(500, 944, 3)\n",
      "1\n",
      "471\n",
      "(500, 944, 3)\n",
      "1\n",
      "629\n",
      "(500, 944, 3)\n",
      "1\n"
     ]
    },
    {
     "name": "stderr",
     "output_type": "stream",
     "text": [
      "INFO:root:Video length: 466 frames\n"
     ]
    },
    {
     "name": "stdout",
     "output_type": "stream",
     "text": [
      "0\n",
      "(478, 856, 3)\n",
      "1\n",
      "116\n",
      "(478, 856, 3)\n",
      "1\n",
      "232\n",
      "(478, 856, 3)\n",
      "1\n",
      "348\n",
      "(478, 856, 3)\n",
      "1\n",
      "465\n",
      "(478, 856, 3)\n",
      "1\n"
     ]
    },
    {
     "name": "stderr",
     "output_type": "stream",
     "text": [
      "ERROR:root:An error occurred while processing faces: Given groups=1, weight of size [32, 3, 3, 3], expected input[1, 15, 160, 160] to have 3 channels, but got 15 channels instead\n",
      "INFO:root:Video length: 314 frames\n"
     ]
    },
    {
     "name": "stdout",
     "output_type": "stream",
     "text": [
      "0\n",
      "(500, 944, 3)\n",
      "1\n",
      "78\n",
      "(500, 944, 3)\n",
      "1\n",
      "156\n",
      "(500, 944, 3)\n",
      "1\n",
      "234\n",
      "(500, 944, 3)\n",
      "1\n"
     ]
    },
    {
     "name": "stderr",
     "output_type": "stream",
     "text": [
      "ERROR:root:An error occurred while processing faces: Given groups=1, weight of size [32, 3, 3, 3], expected input[1, 15, 160, 160] to have 3 channels, but got 15 channels instead\n",
      "INFO:root:Video length: 341 frames\n"
     ]
    },
    {
     "name": "stdout",
     "output_type": "stream",
     "text": [
      "313\n",
      "(500, 944, 3)\n",
      "1\n",
      "0\n",
      "(476, 856, 3)\n",
      "1\n",
      "85\n",
      "(476, 856, 3)\n",
      "1\n",
      "170\n",
      "(476, 856, 3)\n",
      "1\n",
      "255\n",
      "(476, 856, 3)\n",
      "1\n"
     ]
    },
    {
     "name": "stderr",
     "output_type": "stream",
     "text": [
      "ERROR:root:An error occurred while processing faces: Given groups=1, weight of size [32, 3, 3, 3], expected input[1, 15, 160, 160] to have 3 channels, but got 15 channels instead\n",
      "INFO:root:Video length: 313 frames\n"
     ]
    },
    {
     "name": "stdout",
     "output_type": "stream",
     "text": [
      "340\n",
      "(476, 856, 3)\n",
      "1\n",
      "0\n",
      "(478, 856, 3)\n",
      "1\n",
      "78\n",
      "(478, 856, 3)\n",
      "1\n",
      "156\n",
      "(478, 856, 3)\n",
      "1\n",
      "234\n",
      "(478, 856, 3)\n",
      "1\n"
     ]
    },
    {
     "name": "stderr",
     "output_type": "stream",
     "text": [
      "ERROR:root:An error occurred while processing faces: Given groups=1, weight of size [32, 3, 3, 3], expected input[1, 15, 160, 160] to have 3 channels, but got 15 channels instead\n",
      "INFO:root:Video length: 366 frames\n"
     ]
    },
    {
     "name": "stdout",
     "output_type": "stream",
     "text": [
      "312\n",
      "(478, 856, 3)\n",
      "1\n",
      "0\n",
      "(472, 850, 3)\n",
      "1\n",
      "91\n",
      "(472, 850, 3)\n",
      "1\n",
      "182\n",
      "(472, 850, 3)\n",
      "1\n",
      "273\n",
      "(472, 850, 3)\n",
      "1\n",
      "365\n",
      "(472, 850, 3)\n"
     ]
    },
    {
     "name": "stderr",
     "output_type": "stream",
     "text": [
      "ERROR:root:An error occurred while processing faces: Given groups=1, weight of size [32, 3, 3, 3], expected input[1, 15, 160, 160] to have 3 channels, but got 15 channels instead\n",
      "INFO:root:Video length: 344 frames\n"
     ]
    },
    {
     "name": "stdout",
     "output_type": "stream",
     "text": [
      "1\n",
      "0\n",
      "(480, 852, 3)\n",
      "1\n",
      "85\n",
      "(480, 852, 3)\n",
      "1\n",
      "171\n",
      "(480, 852, 3)\n",
      "1\n",
      "257\n",
      "(480, 852, 3)\n",
      "1\n"
     ]
    },
    {
     "name": "stderr",
     "output_type": "stream",
     "text": [
      "ERROR:root:An error occurred while processing faces: Given groups=1, weight of size [32, 3, 3, 3], expected input[1, 15, 160, 160] to have 3 channels, but got 15 channels instead\n",
      "INFO:root:Video length: 380 frames\n"
     ]
    },
    {
     "name": "stdout",
     "output_type": "stream",
     "text": [
      "343\n",
      "(480, 852, 3)\n",
      "1\n",
      "0\n",
      "(478, 856, 3)\n",
      "1\n",
      "94\n",
      "(478, 856, 3)\n",
      "1\n",
      "189\n",
      "(478, 856, 3)\n",
      "1\n",
      "284\n",
      "(478, 856, 3)\n",
      "1\n"
     ]
    },
    {
     "name": "stderr",
     "output_type": "stream",
     "text": [
      "ERROR:root:An error occurred while processing faces: Given groups=1, weight of size [32, 3, 3, 3], expected input[1, 15, 160, 160] to have 3 channels, but got 15 channels instead\n",
      "INFO:root:Video length: 267 frames\n"
     ]
    },
    {
     "name": "stdout",
     "output_type": "stream",
     "text": [
      "379\n",
      "(478, 856, 3)\n",
      "1\n",
      "0\n",
      "(478, 856, 3)\n",
      "1\n",
      "66\n",
      "(478, 856, 3)\n",
      "1\n",
      "133\n",
      "(478, 856, 3)\n",
      "1\n",
      "199\n",
      "(478, 856, 3)\n",
      "1\n"
     ]
    },
    {
     "name": "stderr",
     "output_type": "stream",
     "text": [
      "ERROR:root:An error occurred while processing faces: Given groups=1, weight of size [32, 3, 3, 3], expected input[1, 15, 160, 160] to have 3 channels, but got 15 channels instead\n",
      "INFO:root:Video length: 334 frames\n"
     ]
    },
    {
     "name": "stdout",
     "output_type": "stream",
     "text": [
      "266\n",
      "(478, 856, 3)\n",
      "1\n",
      "0\n",
      "(438, 750, 3)\n",
      "1\n",
      "83\n",
      "(438, 750, 3)\n",
      "1\n",
      "166\n",
      "(438, 750, 3)\n",
      "1\n",
      "249\n",
      "(438, 750, 3)\n"
     ]
    },
    {
     "name": "stderr",
     "output_type": "stream",
     "text": [
      "ERROR:root:An error occurred while processing faces: Given groups=1, weight of size [32, 3, 3, 3], expected input[1, 15, 160, 160] to have 3 channels, but got 15 channels instead\n",
      "INFO:root:Video length: 391 frames\n"
     ]
    },
    {
     "name": "stdout",
     "output_type": "stream",
     "text": [
      "1\n",
      "333\n",
      "(438, 750, 3)\n",
      "1\n",
      "0\n",
      "(478, 856, 3)\n",
      "1\n",
      "97\n",
      "(478, 856, 3)\n",
      "1\n",
      "195\n",
      "(478, 856, 3)\n",
      "1\n"
     ]
    },
    {
     "name": "stderr",
     "output_type": "stream",
     "text": [
      "ERROR:root:An error occurred while processing faces: Given groups=1, weight of size [32, 3, 3, 3], expected input[1, 15, 160, 160] to have 3 channels, but got 15 channels instead\n",
      "INFO:root:Video length: 365 frames\n"
     ]
    },
    {
     "name": "stdout",
     "output_type": "stream",
     "text": [
      "292\n",
      "(478, 856, 3)\n",
      "1\n",
      "390\n",
      "(478, 856, 3)\n",
      "1\n",
      "0\n",
      "(472, 850, 3)\n",
      "1\n",
      "91\n",
      "(472, 850, 3)\n",
      "1\n",
      "182\n",
      "(472, 850, 3)\n",
      "1\n"
     ]
    },
    {
     "name": "stderr",
     "output_type": "stream",
     "text": [
      "ERROR:root:An error occurred while processing faces: Given groups=1, weight of size [32, 3, 3, 3], expected input[1, 15, 160, 160] to have 3 channels, but got 15 channels instead\n",
      "INFO:root:Video length: 302 frames\n"
     ]
    },
    {
     "name": "stdout",
     "output_type": "stream",
     "text": [
      "273\n",
      "(472, 850, 3)\n",
      "1\n",
      "364\n",
      "(472, 850, 3)\n",
      "1\n",
      "0\n",
      "(500, 944, 3)\n",
      "1\n",
      "75\n",
      "(500, 944, 3)\n",
      "1\n",
      "150\n",
      "(500, 944, 3)\n",
      "1\n"
     ]
    },
    {
     "name": "stderr",
     "output_type": "stream",
     "text": [
      "ERROR:root:An error occurred while processing faces: Given groups=1, weight of size [32, 3, 3, 3], expected input[1, 15, 160, 160] to have 3 channels, but got 15 channels instead\n",
      "INFO:root:Video length: 314 frames\n"
     ]
    },
    {
     "name": "stdout",
     "output_type": "stream",
     "text": [
      "225\n",
      "(500, 944, 3)\n",
      "1\n",
      "301\n",
      "(500, 944, 3)\n",
      "1\n",
      "0\n",
      "(480, 636, 3)\n",
      "1\n",
      "78\n",
      "(480, 636, 3)\n",
      "1\n",
      "156\n",
      "(480, 636, 3)\n",
      "1\n",
      "234\n",
      "(480, 636, 3)\n",
      "1\n"
     ]
    },
    {
     "name": "stderr",
     "output_type": "stream",
     "text": [
      "ERROR:root:An error occurred while processing faces: Given groups=1, weight of size [32, 3, 3, 3], expected input[1, 15, 160, 160] to have 3 channels, but got 15 channels instead\n",
      "INFO:root:Video length: 477 frames\n"
     ]
    },
    {
     "name": "stdout",
     "output_type": "stream",
     "text": [
      "313\n",
      "(480, 636, 3)\n",
      "1\n",
      "0\n",
      "(478, 856, 3)\n",
      "1\n",
      "119\n",
      "(478, 856, 3)\n",
      "1\n",
      "238\n",
      "(478, 856, 3)\n",
      "1\n"
     ]
    },
    {
     "name": "stderr",
     "output_type": "stream",
     "text": [
      "ERROR:root:An error occurred while processing faces: Given groups=1, weight of size [32, 3, 3, 3], expected input[1, 15, 160, 160] to have 3 channels, but got 15 channels instead\n",
      "INFO:root:Video length: 459 frames\n"
     ]
    },
    {
     "name": "stdout",
     "output_type": "stream",
     "text": [
      "357\n",
      "(478, 856, 3)\n",
      "1\n",
      "476\n",
      "(478, 856, 3)\n",
      "1\n",
      "0\n",
      "(500, 944, 3)\n",
      "1\n",
      "114\n",
      "(500, 944, 3)\n",
      "1\n",
      "229\n",
      "(500, 944, 3)\n",
      "1\n"
     ]
    },
    {
     "name": "stderr",
     "output_type": "stream",
     "text": [
      "ERROR:root:An error occurred while processing faces: Given groups=1, weight of size [32, 3, 3, 3], expected input[1, 15, 160, 160] to have 3 channels, but got 15 channels instead\n",
      "INFO:root:Video length: 451 frames\n"
     ]
    },
    {
     "name": "stdout",
     "output_type": "stream",
     "text": [
      "343\n",
      "(500, 944, 3)\n",
      "1\n",
      "458\n",
      "(500, 944, 3)\n",
      "1\n",
      "0\n",
      "(500, 590, 3)\n",
      "1\n",
      "112\n",
      "(500, 590, 3)\n",
      "1\n",
      "225\n",
      "(500, 590, 3)\n",
      "1\n"
     ]
    },
    {
     "name": "stderr",
     "output_type": "stream",
     "text": [
      "ERROR:root:An error occurred while processing faces: Given groups=1, weight of size [32, 3, 3, 3], expected input[1, 15, 160, 160] to have 3 channels, but got 15 channels instead\n",
      "INFO:root:Video length: 331 frames\n"
     ]
    },
    {
     "name": "stdout",
     "output_type": "stream",
     "text": [
      "337\n",
      "(500, 590, 3)\n",
      "1\n",
      "450\n",
      "(500, 590, 3)\n",
      "1\n",
      "0\n",
      "(478, 848, 3)\n",
      "1\n",
      "82\n",
      "(478, 848, 3)\n",
      "1\n",
      "165\n",
      "(478, 848, 3)\n",
      "1\n",
      "247\n",
      "(478, 848, 3)\n",
      "1\n"
     ]
    },
    {
     "name": "stderr",
     "output_type": "stream",
     "text": [
      "ERROR:root:An error occurred while processing faces: Given groups=1, weight of size [32, 3, 3, 3], expected input[1, 15, 160, 160] to have 3 channels, but got 15 channels instead\n",
      "INFO:root:Video length: 303 frames\n"
     ]
    },
    {
     "name": "stdout",
     "output_type": "stream",
     "text": [
      "330\n",
      "(478, 848, 3)\n",
      "1\n",
      "0\n",
      "(500, 944, 3)\n",
      "1\n",
      "75\n",
      "(500, 944, 3)\n",
      "1\n",
      "151\n",
      "(500, 944, 3)\n",
      "1\n",
      "226\n",
      "(500, 944, 3)\n",
      "1\n"
     ]
    },
    {
     "name": "stderr",
     "output_type": "stream",
     "text": [
      "ERROR:root:An error occurred while processing faces: Given groups=1, weight of size [32, 3, 3, 3], expected input[1, 15, 160, 160] to have 3 channels, but got 15 channels instead\n",
      "INFO:root:Video length: 480 frames\n"
     ]
    },
    {
     "name": "stdout",
     "output_type": "stream",
     "text": [
      "302\n",
      "(500, 944, 3)\n",
      "1\n",
      "0\n",
      "(466, 848, 3)\n",
      "1\n",
      "119\n",
      "(466, 848, 3)\n",
      "1\n",
      "239\n",
      "(466, 848, 3)\n",
      "1\n",
      "359\n",
      "(466, 848, 3)\n",
      "1\n"
     ]
    },
    {
     "name": "stderr",
     "output_type": "stream",
     "text": [
      "ERROR:root:An error occurred while processing faces: Given groups=1, weight of size [32, 3, 3, 3], expected input[1, 15, 160, 160] to have 3 channels, but got 15 channels instead\n",
      "INFO:root:Video length: 283 frames\n"
     ]
    },
    {
     "name": "stdout",
     "output_type": "stream",
     "text": [
      "479\n",
      "(466, 848, 3)\n",
      "1\n",
      "0\n",
      "(478, 856, 3)\n",
      "1\n",
      "70\n",
      "(478, 856, 3)\n",
      "1\n",
      "141\n",
      "(478, 856, 3)\n",
      "1\n",
      "211\n",
      "(478, 856, 3)\n",
      "1\n",
      "282\n",
      "(478, 856, 3)\n",
      "1\n"
     ]
    },
    {
     "name": "stderr",
     "output_type": "stream",
     "text": [
      "ERROR:root:An error occurred while processing faces: Given groups=1, weight of size [32, 3, 3, 3], expected input[1, 15, 160, 160] to have 3 channels, but got 15 channels instead\n",
      "INFO:root:Video length: 338 frames\n",
      "ERROR:root:An error occurred while processing faces: Given groups=1, weight of size [32, 3, 3, 3], expected input[1, 15, 160, 160] to have 3 channels, but got 15 channels instead\n",
      "INFO:root:Video length: 429 frames\n"
     ]
    },
    {
     "name": "stdout",
     "output_type": "stream",
     "text": [
      "0\n",
      "(420, 826, 3)\n",
      "1\n",
      "84\n",
      "(420, 826, 3)\n",
      "1\n",
      "168\n",
      "(420, 826, 3)\n",
      "1\n",
      "252\n",
      "(420, 826, 3)\n",
      "1\n",
      "337\n",
      "(420, 826, 3)\n",
      "1\n",
      "0\n",
      "(480, 852, 3)\n",
      "1\n",
      "107\n",
      "(480, 852, 3)\n",
      "1\n",
      "214\n",
      "(480, 852, 3)\n",
      "1\n",
      "321\n",
      "(480, 852, 3)\n",
      "1\n",
      "428\n",
      "(480, 852, 3)\n",
      "1\n"
     ]
    },
    {
     "name": "stderr",
     "output_type": "stream",
     "text": [
      "ERROR:root:An error occurred while processing faces: Given groups=1, weight of size [32, 3, 3, 3], expected input[1, 15, 160, 160] to have 3 channels, but got 15 channels instead\n",
      "INFO:root:Video length: 302 frames\n"
     ]
    },
    {
     "name": "stdout",
     "output_type": "stream",
     "text": [
      "0\n",
      "(478, 856, 3)\n",
      "1\n",
      "75\n",
      "(478, 856, 3)\n",
      "1\n",
      "150\n",
      "(478, 856, 3)\n",
      "1\n",
      "225\n",
      "(478, 856, 3)\n",
      "1\n",
      "301\n",
      "(478, 856, 3)\n",
      "1\n"
     ]
    },
    {
     "name": "stderr",
     "output_type": "stream",
     "text": [
      "ERROR:root:An error occurred while processing faces: Given groups=1, weight of size [32, 3, 3, 3], expected input[1, 15, 160, 160] to have 3 channels, but got 15 channels instead\n",
      "INFO:root:Video length: 333 frames\n"
     ]
    },
    {
     "name": "stdout",
     "output_type": "stream",
     "text": [
      "0\n",
      "(474, 848, 3)\n",
      "1\n",
      "83\n",
      "(474, 848, 3)\n",
      "1\n",
      "166\n",
      "(474, 848, 3)\n",
      "1\n",
      "249\n",
      "(474, 848, 3)\n",
      "1\n",
      "332\n",
      "(474, 848, 3)\n"
     ]
    },
    {
     "name": "stderr",
     "output_type": "stream",
     "text": [
      "ERROR:root:An error occurred while processing faces: Given groups=1, weight of size [32, 3, 3, 3], expected input[1, 15, 160, 160] to have 3 channels, but got 15 channels instead\n",
      "INFO:root:Video length: 186 frames\n",
      "ERROR:root:An error occurred while processing faces: Given groups=1, weight of size [32, 3, 3, 3], expected input[1, 15, 160, 160] to have 3 channels, but got 15 channels instead\n"
     ]
    },
    {
     "name": "stdout",
     "output_type": "stream",
     "text": [
      "1\n",
      "0\n",
      "(476, 846, 3)\n",
      "1\n",
      "46\n",
      "(476, 846, 3)\n",
      "1\n",
      "92\n",
      "(476, 846, 3)\n",
      "1\n",
      "138\n",
      "(476, 846, 3)\n",
      "1\n",
      "185\n",
      "(476, 846, 3)\n",
      "1\n"
     ]
    },
    {
     "name": "stderr",
     "output_type": "stream",
     "text": [
      "INFO:root:Video length: 332 frames\n"
     ]
    },
    {
     "name": "stdout",
     "output_type": "stream",
     "text": [
      "0\n",
      "(474, 846, 3)\n",
      "1\n",
      "82\n",
      "(474, 846, 3)\n",
      "1\n",
      "165\n",
      "(474, 846, 3)\n",
      "1\n",
      "248\n",
      "(474, 846, 3)\n",
      "1\n",
      "331\n",
      "(474, 846, 3)\n",
      "1\n"
     ]
    },
    {
     "name": "stderr",
     "output_type": "stream",
     "text": [
      "ERROR:root:An error occurred while processing faces: Given groups=1, weight of size [32, 3, 3, 3], expected input[1, 15, 160, 160] to have 3 channels, but got 15 channels instead\n",
      "INFO:root:Video length: 473 frames\n"
     ]
    },
    {
     "name": "stdout",
     "output_type": "stream",
     "text": [
      "0\n",
      "(478, 856, 3)\n",
      "1\n",
      "118\n",
      "(478, 856, 3)\n",
      "1\n",
      "236\n",
      "(478, 856, 3)\n",
      "1\n",
      "354\n",
      "(478, 856, 3)\n",
      "1\n",
      "472\n",
      "(478, 856, 3)\n",
      "1\n"
     ]
    },
    {
     "name": "stderr",
     "output_type": "stream",
     "text": [
      "ERROR:root:An error occurred while processing faces: Given groups=1, weight of size [32, 3, 3, 3], expected input[1, 15, 160, 160] to have 3 channels, but got 15 channels instead\n",
      "INFO:root:Video length: 308 frames\n",
      "ERROR:root:An error occurred while processing faces: Given groups=1, weight of size [32, 3, 3, 3], expected input[1, 15, 160, 160] to have 3 channels, but got 15 channels instead\n",
      "INFO:root:Video length: 465 frames\n"
     ]
    },
    {
     "name": "stdout",
     "output_type": "stream",
     "text": [
      "0\n",
      "(298, 610, 3)\n",
      "1\n",
      "76\n",
      "(298, 610, 3)\n",
      "1\n",
      "153\n",
      "(298, 610, 3)\n",
      "1\n",
      "230\n",
      "(298, 610, 3)\n",
      "1\n",
      "307\n",
      "(298, 610, 3)\n",
      "1\n",
      "0\n",
      "(472, 850, 3)\n",
      "1\n",
      "116\n",
      "(472, 850, 3)\n",
      "1\n",
      "232\n",
      "(472, 850, 3)\n",
      "1\n",
      "348\n",
      "(472, 850, 3)\n",
      "1\n",
      "464\n",
      "(472, 850, 3)\n",
      "1\n"
     ]
    },
    {
     "name": "stderr",
     "output_type": "stream",
     "text": [
      "ERROR:root:An error occurred while processing faces: Given groups=1, weight of size [32, 3, 3, 3], expected input[1, 15, 160, 160] to have 3 channels, but got 15 channels instead\n",
      "INFO:root:Video length: 740 frames\n"
     ]
    },
    {
     "name": "stdout",
     "output_type": "stream",
     "text": [
      "0\n",
      "(500, 944, 3)\n",
      "1\n",
      "184\n",
      "(500, 944, 3)\n",
      "1\n",
      "369\n",
      "(500, 944, 3)\n",
      "1\n",
      "554\n",
      "(500, 944, 3)\n",
      "1\n",
      "739\n"
     ]
    },
    {
     "name": "stderr",
     "output_type": "stream",
     "text": [
      "ERROR:root:An error occurred while processing faces: Given groups=1, weight of size [32, 3, 3, 3], expected input[1, 15, 160, 160] to have 3 channels, but got 15 channels instead\n",
      "INFO:root:Video length: 105 frames\n"
     ]
    },
    {
     "name": "stdout",
     "output_type": "stream",
     "text": [
      "(500, 944, 3)\n",
      "1\n",
      "0\n",
      "(500, 948, 3)\n",
      "1\n",
      "26\n",
      "(500, 948, 3)\n",
      "1\n",
      "52\n",
      "(500, 948, 3)\n",
      "1\n",
      "78\n",
      "(500, 948, 3)\n",
      "1\n"
     ]
    },
    {
     "name": "stderr",
     "output_type": "stream",
     "text": [
      "ERROR:root:An error occurred while processing faces: Given groups=1, weight of size [32, 3, 3, 3], expected input[1, 15, 160, 160] to have 3 channels, but got 15 channels instead\n",
      "INFO:root:Video length: 505 frames\n"
     ]
    },
    {
     "name": "stdout",
     "output_type": "stream",
     "text": [
      "104\n",
      "(500, 948, 3)\n",
      "1\n",
      "0\n",
      "(500, 574, 3)\n",
      "1\n",
      "126\n",
      "(500, 574, 3)\n",
      "1\n",
      "252\n",
      "(500, 574, 3)\n",
      "1\n",
      "378\n",
      "(500, 574, 3)\n",
      "1\n",
      "504\n",
      "(500, 574, 3)\n",
      "1\n"
     ]
    },
    {
     "name": "stderr",
     "output_type": "stream",
     "text": [
      "ERROR:root:An error occurred while processing faces: Given groups=1, weight of size [32, 3, 3, 3], expected input[1, 15, 160, 160] to have 3 channels, but got 15 channels instead\n",
      "INFO:root:Video length: 349 frames\n"
     ]
    },
    {
     "name": "stdout",
     "output_type": "stream",
     "text": [
      "0\n",
      "(500, 954, 3)\n",
      "1\n",
      "87\n",
      "(500, 954, 3)\n",
      "1\n",
      "174\n",
      "(500, 954, 3)\n",
      "1\n",
      "261\n",
      "(500, 954, 3)\n",
      "1\n",
      "348\n",
      "(500, 954, 3)\n"
     ]
    },
    {
     "name": "stderr",
     "output_type": "stream",
     "text": [
      "ERROR:root:An error occurred while processing faces: Given groups=1, weight of size [32, 3, 3, 3], expected input[1, 15, 160, 160] to have 3 channels, but got 15 channels instead\n",
      "INFO:root:Video length: 317 frames\n"
     ]
    },
    {
     "name": "stdout",
     "output_type": "stream",
     "text": [
      "1\n",
      "0\n",
      "(456, 812, 3)\n",
      "1\n",
      "79\n",
      "(456, 812, 3)\n",
      "1\n",
      "158\n",
      "(456, 812, 3)\n",
      "1\n",
      "237\n",
      "(456, 812, 3)\n",
      "1\n",
      "316\n",
      "(456, 812, 3)\n",
      "1\n"
     ]
    },
    {
     "name": "stderr",
     "output_type": "stream",
     "text": [
      "ERROR:root:An error occurred while processing faces: Given groups=1, weight of size [32, 3, 3, 3], expected input[1, 15, 160, 160] to have 3 channels, but got 15 channels instead\n",
      "INFO:root:Video length: 380 frames\n"
     ]
    },
    {
     "name": "stdout",
     "output_type": "stream",
     "text": [
      "0\n",
      "(500, 944, 3)\n",
      "1\n",
      "94\n",
      "(500, 944, 3)\n",
      "1\n",
      "189\n",
      "(500, 944, 3)\n",
      "1\n",
      "284\n",
      "(500, 944, 3)\n",
      "1\n",
      "379\n",
      "(500, 944, 3)\n",
      "1\n"
     ]
    },
    {
     "name": "stderr",
     "output_type": "stream",
     "text": [
      "ERROR:root:An error occurred while processing faces: Given groups=1, weight of size [32, 3, 3, 3], expected input[1, 15, 160, 160] to have 3 channels, but got 15 channels instead\n",
      "INFO:root:Video length: 339 frames\n",
      "ERROR:root:An error occurred while processing faces: Given groups=1, weight of size [32, 3, 3, 3], expected input[1, 15, 160, 160] to have 3 channels, but got 15 channels instead\n",
      "INFO:root:Video length: 412 frames\n"
     ]
    },
    {
     "name": "stdout",
     "output_type": "stream",
     "text": [
      "0\n",
      "(470, 564, 3)\n",
      "1\n",
      "84\n",
      "(470, 564, 3)\n",
      "1\n",
      "169\n",
      "(470, 564, 3)\n",
      "1\n",
      "253\n",
      "(470, 564, 3)\n",
      "1\n",
      "338\n",
      "(470, 564, 3)\n",
      "1\n"
     ]
    },
    {
     "name": "stderr",
     "output_type": "stream",
     "text": [
      "ERROR:root:An error occurred while processing faces: Given groups=1, weight of size [32, 3, 3, 3], expected input[1, 15, 160, 160] to have 3 channels, but got 15 channels instead\n"
     ]
    },
    {
     "name": "stdout",
     "output_type": "stream",
     "text": [
      "0\n",
      "(500, 480, 3)\n",
      "1\n",
      "102\n",
      "(500, 480, 3)\n",
      "1\n",
      "205\n",
      "(500, 480, 3)\n",
      "1\n",
      "308\n",
      "(500, 480, 3)\n",
      "1\n",
      "411\n",
      "(500, 480, 3)\n",
      "1\n"
     ]
    },
    {
     "name": "stderr",
     "output_type": "stream",
     "text": [
      "INFO:root:Video length: 351 frames\n"
     ]
    },
    {
     "name": "stdout",
     "output_type": "stream",
     "text": [
      "0\n",
      "(478, 856, 3)\n",
      "1\n",
      "87\n",
      "(478, 856, 3)\n",
      "1\n",
      "175\n",
      "(478, 856, 3)\n",
      "1\n",
      "262\n",
      "(478, 856, 3)\n",
      "1\n",
      "350\n",
      "(478, 856, 3)\n",
      "1\n"
     ]
    },
    {
     "name": "stderr",
     "output_type": "stream",
     "text": [
      "ERROR:root:An error occurred while processing faces: Given groups=1, weight of size [32, 3, 3, 3], expected input[1, 15, 160, 160] to have 3 channels, but got 15 channels instead\n",
      "INFO:root:Video length: 460 frames\n"
     ]
    },
    {
     "name": "stdout",
     "output_type": "stream",
     "text": [
      "0\n",
      "(478, 856, 3)\n",
      "1\n",
      "114\n",
      "(478, 856, 3)\n",
      "1\n",
      "229\n",
      "(478, 856, 3)\n",
      "1\n"
     ]
    },
    {
     "name": "stderr",
     "output_type": "stream",
     "text": [
      "ERROR:root:An error occurred while processing faces: Given groups=1, weight of size [32, 3, 3, 3], expected input[1, 15, 160, 160] to have 3 channels, but got 15 channels instead\n",
      "INFO:root:Video length: 308 frames\n"
     ]
    },
    {
     "name": "stdout",
     "output_type": "stream",
     "text": [
      "344\n",
      "(478, 856, 3)\n",
      "1\n",
      "459\n",
      "(478, 856, 3)\n",
      "1\n",
      "0\n",
      "(298, 610, 3)\n",
      "1\n",
      "76\n",
      "(298, 610, 3)\n",
      "1\n",
      "153\n",
      "(298, 610, 3)\n",
      "1\n",
      "230\n",
      "(298, 610, 3)\n",
      "1\n",
      "307\n",
      "(298, 610, 3)\n",
      "1\n"
     ]
    },
    {
     "name": "stderr",
     "output_type": "stream",
     "text": [
      "ERROR:root:An error occurred while processing faces: Given groups=1, weight of size [32, 3, 3, 3], expected input[1, 15, 160, 160] to have 3 channels, but got 15 channels instead\n",
      "INFO:root:Video length: 344 frames\n"
     ]
    },
    {
     "name": "stdout",
     "output_type": "stream",
     "text": [
      "0\n",
      "(480, 852, 3)\n",
      "1\n",
      "85\n",
      "(480, 852, 3)\n",
      "1\n",
      "171\n",
      "(480, 852, 3)\n",
      "1\n",
      "257\n",
      "(480, 852, 3)\n",
      "1\n",
      "343\n",
      "(480, 852, 3)\n",
      "1\n"
     ]
    },
    {
     "name": "stderr",
     "output_type": "stream",
     "text": [
      "ERROR:root:An error occurred while processing faces: Given groups=1, weight of size [32, 3, 3, 3], expected input[1, 15, 160, 160] to have 3 channels, but got 15 channels instead\n",
      "INFO:root:Video length: 228 frames\n",
      "ERROR:root:An error occurred while processing faces: Given groups=1, weight of size [32, 3, 3, 3], expected input[1, 15, 160, 160] to have 3 channels, but got 15 channels instead\n"
     ]
    },
    {
     "name": "stdout",
     "output_type": "stream",
     "text": [
      "0\n",
      "(466, 848, 3)\n",
      "1\n",
      "56\n",
      "(466, 848, 3)\n",
      "1\n",
      "113\n",
      "(466, 848, 3)\n",
      "1\n",
      "170\n",
      "(466, 848, 3)\n",
      "1\n",
      "227\n",
      "(466, 848, 3)\n",
      "1\n"
     ]
    },
    {
     "name": "stderr",
     "output_type": "stream",
     "text": [
      "INFO:root:Video length: 438 frames\n"
     ]
    },
    {
     "name": "stdout",
     "output_type": "stream",
     "text": [
      "0\n",
      "(478, 856, 3)\n",
      "1\n",
      "109\n",
      "(478, 856, 3)\n",
      "1\n",
      "218\n",
      "(478, 856, 3)\n",
      "1\n",
      "327\n",
      "(478, 856, 3)\n",
      "1\n",
      "437\n",
      "(478, 856, 3)\n",
      "1\n"
     ]
    },
    {
     "name": "stderr",
     "output_type": "stream",
     "text": [
      "ERROR:root:An error occurred while processing faces: Given groups=1, weight of size [32, 3, 3, 3], expected input[1, 15, 160, 160] to have 3 channels, but got 15 channels instead\n",
      "INFO:root:Video length: 419 frames\n",
      "ERROR:root:An error occurred while processing faces: Given groups=1, weight of size [32, 3, 3, 3], expected input[1, 15, 160, 160] to have 3 channels, but got 15 channels instead\n"
     ]
    },
    {
     "name": "stdout",
     "output_type": "stream",
     "text": [
      "0\n",
      "(466, 848, 3)\n",
      "1\n",
      "104\n",
      "(466, 848, 3)\n",
      "1\n",
      "209\n",
      "(466, 848, 3)\n",
      "1\n",
      "313\n",
      "(466, 848, 3)\n",
      "1\n",
      "418\n",
      "(466, 848, 3)\n",
      "1\n"
     ]
    },
    {
     "name": "stderr",
     "output_type": "stream",
     "text": [
      "INFO:root:Video length: 280 frames\n"
     ]
    },
    {
     "name": "stdout",
     "output_type": "stream",
     "text": [
      "0\n",
      "(500, 944, 3)\n",
      "1\n",
      "69\n",
      "(500, 944, 3)\n",
      "1\n",
      "139\n",
      "(500, 944, 3)\n",
      "1\n",
      "209\n",
      "(500, 944, 3)\n",
      "1\n",
      "279\n",
      "(500, 944, 3)\n",
      "1\n"
     ]
    },
    {
     "name": "stderr",
     "output_type": "stream",
     "text": [
      "ERROR:root:An error occurred while processing faces: Given groups=1, weight of size [32, 3, 3, 3], expected input[1, 15, 160, 160] to have 3 channels, but got 15 channels instead\n",
      "INFO:root:Video length: 458 frames\n",
      "ERROR:root:An error occurred while processing faces: Given groups=1, weight of size [32, 3, 3, 3], expected input[1, 15, 160, 160] to have 3 channels, but got 15 channels instead\n"
     ]
    },
    {
     "name": "stdout",
     "output_type": "stream",
     "text": [
      "0\n",
      "(500, 488, 3)\n",
      "1\n",
      "114\n",
      "(500, 488, 3)\n",
      "1\n",
      "228\n",
      "(500, 488, 3)\n",
      "1\n",
      "342\n",
      "(500, 488, 3)\n",
      "1\n",
      "457\n",
      "(500, 488, 3)\n",
      "1\n"
     ]
    },
    {
     "name": "stderr",
     "output_type": "stream",
     "text": [
      "INFO:root:Video length: 412 frames\n"
     ]
    },
    {
     "name": "stdout",
     "output_type": "stream",
     "text": [
      "0\n",
      "(500, 478, 3)\n",
      "1\n",
      "102\n",
      "(500, 478, 3)\n",
      "1\n",
      "205\n",
      "(500, 478, 3)\n",
      "1\n",
      "308\n",
      "(500, 478, 3)\n",
      "1\n",
      "411\n",
      "(500, 478, 3)\n",
      "1\n"
     ]
    },
    {
     "name": "stderr",
     "output_type": "stream",
     "text": [
      "ERROR:root:An error occurred while processing faces: Given groups=1, weight of size [32, 3, 3, 3], expected input[1, 15, 160, 160] to have 3 channels, but got 15 channels instead\n",
      "INFO:root:Video length: 448 frames\n",
      "ERROR:root:An error occurred while processing faces: Given groups=1, weight of size [32, 3, 3, 3], expected input[1, 15, 160, 160] to have 3 channels, but got 15 channels instead\n"
     ]
    },
    {
     "name": "stdout",
     "output_type": "stream",
     "text": [
      "0\n",
      "(472, 850, 3)\n",
      "1\n",
      "111\n",
      "(472, 850, 3)\n",
      "1\n",
      "223\n",
      "(472, 850, 3)\n",
      "1\n",
      "335\n",
      "(472, 850, 3)\n",
      "1\n",
      "447\n",
      "(472, 850, 3)\n",
      "1\n"
     ]
    },
    {
     "name": "stderr",
     "output_type": "stream",
     "text": [
      "INFO:root:Video length: 501 frames\n",
      "ERROR:root:An error occurred while processing faces: Given groups=1, weight of size [32, 3, 3, 3], expected input[1, 15, 160, 160] to have 3 channels, but got 15 channels instead\n"
     ]
    },
    {
     "name": "stdout",
     "output_type": "stream",
     "text": [
      "0\n",
      "(478, 856, 3)\n",
      "1\n",
      "125\n",
      "(478, 856, 3)\n",
      "1\n",
      "250\n",
      "(478, 856, 3)\n",
      "1\n",
      "375\n",
      "(478, 856, 3)\n",
      "1\n",
      "500\n",
      "(478, 856, 3)\n",
      "1\n"
     ]
    },
    {
     "name": "stderr",
     "output_type": "stream",
     "text": [
      "INFO:root:Video length: 327 frames\n",
      "ERROR:root:An error occurred while processing faces: Given groups=1, weight of size [32, 3, 3, 3], expected input[1, 15, 160, 160] to have 3 channels, but got 15 channels instead\n"
     ]
    },
    {
     "name": "stdout",
     "output_type": "stream",
     "text": [
      "0\n",
      "(478, 856, 3)\n",
      "1\n",
      "81\n",
      "(478, 856, 3)\n",
      "1\n",
      "163\n",
      "(478, 856, 3)\n",
      "1\n",
      "244\n",
      "(478, 856, 3)\n",
      "1\n",
      "326\n",
      "(478, 856, 3)\n",
      "1\n"
     ]
    },
    {
     "name": "stderr",
     "output_type": "stream",
     "text": [
      "INFO:root:Video length: 494 frames\n"
     ]
    },
    {
     "name": "stdout",
     "output_type": "stream",
     "text": [
      "0\n",
      "(472, 850, 3)\n",
      "1\n",
      "123\n",
      "(472, 850, 3)\n",
      "1\n",
      "246\n",
      "(472, 850, 3)\n",
      "1\n",
      "369\n",
      "(472, 850, 3)\n",
      "1\n"
     ]
    },
    {
     "name": "stderr",
     "output_type": "stream",
     "text": [
      "ERROR:root:An error occurred while processing faces: Given groups=1, weight of size [32, 3, 3, 3], expected input[1, 15, 160, 160] to have 3 channels, but got 15 channels instead\n",
      "INFO:root:Video length: 458 frames\n"
     ]
    },
    {
     "name": "stdout",
     "output_type": "stream",
     "text": [
      "493\n",
      "(472, 850, 3)\n",
      "1\n",
      "0\n",
      "(478, 856, 3)\n",
      "1\n",
      "114\n",
      "(478, 856, 3)\n",
      "1\n",
      "228\n",
      "(478, 856, 3)\n",
      "1\n",
      "342\n",
      "(478, 856, 3)\n",
      "1\n",
      "457\n",
      "(478, 856, 3)\n",
      "1\n"
     ]
    },
    {
     "name": "stderr",
     "output_type": "stream",
     "text": [
      "ERROR:root:An error occurred while processing faces: Given groups=1, weight of size [32, 3, 3, 3], expected input[1, 15, 160, 160] to have 3 channels, but got 15 channels instead\n",
      "INFO:root:Video length: 468 frames\n"
     ]
    },
    {
     "name": "stdout",
     "output_type": "stream",
     "text": [
      "0\n",
      "(478, 856, 3)\n",
      "1\n",
      "116\n",
      "(478, 856, 3)\n",
      "1\n",
      "233\n",
      "(478, 856, 3)\n",
      "1\n",
      "350\n",
      "(478, 856, 3)\n",
      "1\n",
      "467\n",
      "(478, 856, 3)\n",
      "1\n"
     ]
    },
    {
     "name": "stderr",
     "output_type": "stream",
     "text": [
      "ERROR:root:An error occurred while processing faces: Given groups=1, weight of size [32, 3, 3, 3], expected input[1, 15, 160, 160] to have 3 channels, but got 15 channels instead\n",
      "INFO:root:Video length: 441 frames\n"
     ]
    },
    {
     "name": "stdout",
     "output_type": "stream",
     "text": [
      "0\n",
      "(466, 848, 3)\n",
      "1\n",
      "110\n",
      "(466, 848, 3)\n",
      "1\n",
      "220\n",
      "(466, 848, 3)\n",
      "1\n",
      "330\n",
      "(466, 848, 3)\n",
      "1\n",
      "440\n",
      "(466, 848, 3)\n"
     ]
    },
    {
     "name": "stderr",
     "output_type": "stream",
     "text": [
      "ERROR:root:An error occurred while processing faces: Given groups=1, weight of size [32, 3, 3, 3], expected input[1, 15, 160, 160] to have 3 channels, but got 15 channels instead\n",
      "INFO:root:Video length: 228 frames\n"
     ]
    },
    {
     "name": "stdout",
     "output_type": "stream",
     "text": [
      "1\n",
      "0\n",
      "(466, 848, 3)\n",
      "1\n",
      "56\n",
      "(466, 848, 3)\n",
      "1\n",
      "113\n",
      "(466, 848, 3)\n",
      "1\n",
      "170\n",
      "(466, 848, 3)\n",
      "1\n",
      "227\n",
      "(466, 848, 3)\n"
     ]
    },
    {
     "name": "stderr",
     "output_type": "stream",
     "text": [
      "ERROR:root:An error occurred while processing faces: Given groups=1, weight of size [32, 3, 3, 3], expected input[1, 15, 160, 160] to have 3 channels, but got 15 channels instead\n",
      "INFO:root:Video length: 454 frames\n"
     ]
    },
    {
     "name": "stdout",
     "output_type": "stream",
     "text": [
      "1\n",
      "0\n",
      "(466, 848, 3)\n",
      "1\n",
      "113\n",
      "(466, 848, 3)\n",
      "1\n",
      "226\n",
      "(466, 848, 3)\n",
      "1\n",
      "339\n",
      "(466, 848, 3)\n",
      "1\n"
     ]
    },
    {
     "name": "stderr",
     "output_type": "stream",
     "text": [
      "ERROR:root:An error occurred while processing faces: Given groups=1, weight of size [32, 3, 3, 3], expected input[1, 15, 160, 160] to have 3 channels, but got 15 channels instead\n",
      "INFO:root:Video length: 456 frames\n"
     ]
    },
    {
     "name": "stdout",
     "output_type": "stream",
     "text": [
      "453\n",
      "(466, 848, 3)\n",
      "1\n",
      "0\n",
      "(500, 942, 3)\n",
      "1\n",
      "113\n",
      "(500, 942, 3)\n",
      "1\n",
      "227\n",
      "(500, 942, 3)\n",
      "1\n",
      "341\n",
      "(500, 942, 3)\n",
      "1\n",
      "455\n",
      "(500, 942, 3)\n"
     ]
    },
    {
     "name": "stderr",
     "output_type": "stream",
     "text": [
      "ERROR:root:An error occurred while processing faces: Given groups=1, weight of size [32, 3, 3, 3], expected input[1, 15, 160, 160] to have 3 channels, but got 15 channels instead\n",
      "INFO:root:Video length: 337 frames\n"
     ]
    },
    {
     "name": "stdout",
     "output_type": "stream",
     "text": [
      "1\n",
      "0\n",
      "(452, 844, 3)\n",
      "1\n",
      "84\n",
      "(452, 844, 3)\n",
      "1\n",
      "168\n",
      "(452, 844, 3)\n",
      "1\n",
      "252\n",
      "(452, 844, 3)\n",
      "1\n",
      "336\n",
      "(452, 844, 3)\n",
      "1\n"
     ]
    },
    {
     "name": "stderr",
     "output_type": "stream",
     "text": [
      "ERROR:root:An error occurred while processing faces: Given groups=1, weight of size [32, 3, 3, 3], expected input[1, 15, 160, 160] to have 3 channels, but got 15 channels instead\n",
      "INFO:root:Video length: 310 frames\n"
     ]
    },
    {
     "name": "stdout",
     "output_type": "stream",
     "text": [
      "0\n",
      "(476, 850, 3)\n",
      "1\n",
      "77\n",
      "(476, 850, 3)\n",
      "1\n",
      "154\n",
      "(476, 850, 3)\n",
      "1\n",
      "231\n",
      "(476, 850, 3)\n",
      "1\n",
      "309\n",
      "(476, 850, 3)\n",
      "1\n"
     ]
    },
    {
     "name": "stderr",
     "output_type": "stream",
     "text": [
      "ERROR:root:An error occurred while processing faces: Given groups=1, weight of size [32, 3, 3, 3], expected input[1, 15, 160, 160] to have 3 channels, but got 15 channels instead\n",
      "INFO:root:Video length: 319 frames\n"
     ]
    },
    {
     "name": "stdout",
     "output_type": "stream",
     "text": [
      "0\n",
      "(476, 846, 3)\n",
      "1\n",
      "79\n",
      "(476, 846, 3)\n",
      "1\n",
      "159\n",
      "(476, 846, 3)\n",
      "1\n",
      "238\n",
      "(476, 846, 3)\n",
      "1\n"
     ]
    },
    {
     "name": "stderr",
     "output_type": "stream",
     "text": [
      "ERROR:root:An error occurred while processing faces: Given groups=1, weight of size [32, 3, 3, 3], expected input[1, 15, 160, 160] to have 3 channels, but got 15 channels instead\n",
      "INFO:root:Video length: 456 frames\n"
     ]
    },
    {
     "name": "stdout",
     "output_type": "stream",
     "text": [
      "318\n",
      "(476, 846, 3)\n",
      "1\n",
      "0\n",
      "(500, 892, 3)\n",
      "1\n",
      "113\n",
      "(500, 892, 3)\n",
      "1\n",
      "227\n",
      "(500, 892, 3)\n",
      "1\n",
      "341\n",
      "(500, 892, 3)\n",
      "1\n"
     ]
    },
    {
     "name": "stderr",
     "output_type": "stream",
     "text": [
      "ERROR:root:An error occurred while processing faces: Given groups=1, weight of size [32, 3, 3, 3], expected input[1, 15, 160, 160] to have 3 channels, but got 15 channels instead\n",
      "INFO:root:Video length: 423 frames\n"
     ]
    },
    {
     "name": "stdout",
     "output_type": "stream",
     "text": [
      "455\n",
      "(500, 892, 3)\n",
      "1\n",
      "0\n",
      "(472, 850, 3)\n",
      "1\n",
      "105\n",
      "(472, 850, 3)\n",
      "1\n",
      "211\n",
      "(472, 850, 3)\n",
      "1\n",
      "316\n",
      "(472, 850, 3)\n",
      "1\n"
     ]
    },
    {
     "name": "stderr",
     "output_type": "stream",
     "text": [
      "ERROR:root:An error occurred while processing faces: Given groups=1, weight of size [32, 3, 3, 3], expected input[1, 15, 160, 160] to have 3 channels, but got 15 channels instead\n",
      "INFO:root:Video length: 464 frames\n"
     ]
    },
    {
     "name": "stdout",
     "output_type": "stream",
     "text": [
      "422\n",
      "(472, 850, 3)\n",
      "1\n",
      "0\n",
      "(500, 944, 3)\n",
      "1\n",
      "115\n",
      "(500, 944, 3)\n",
      "1\n",
      "231\n",
      "(500, 944, 3)\n",
      "1\n",
      "347\n",
      "(500, 944, 3)\n",
      "1\n"
     ]
    },
    {
     "name": "stderr",
     "output_type": "stream",
     "text": [
      "ERROR:root:An error occurred while processing faces: Given groups=1, weight of size [32, 3, 3, 3], expected input[1, 15, 160, 160] to have 3 channels, but got 15 channels instead\n",
      "INFO:root:Video length: 317 frames\n"
     ]
    },
    {
     "name": "stdout",
     "output_type": "stream",
     "text": [
      "463\n",
      "(500, 944, 3)\n",
      "1\n",
      "0\n",
      "(456, 812, 3)\n",
      "1\n",
      "79\n",
      "(456, 812, 3)\n",
      "1\n",
      "158\n",
      "(456, 812, 3)\n",
      "1\n",
      "237\n",
      "(456, 812, 3)\n",
      "1\n",
      "316\n",
      "(456, 812, 3)\n",
      "1\n"
     ]
    },
    {
     "name": "stderr",
     "output_type": "stream",
     "text": [
      "ERROR:root:An error occurred while processing faces: Given groups=1, weight of size [32, 3, 3, 3], expected input[1, 15, 160, 160] to have 3 channels, but got 15 channels instead\n",
      "INFO:root:Video length: 301 frames\n"
     ]
    },
    {
     "name": "stdout",
     "output_type": "stream",
     "text": [
      "0\n",
      "(500, 684, 3)\n",
      "1\n",
      "75\n",
      "(500, 684, 3)\n",
      "1\n",
      "150\n",
      "(500, 684, 3)\n",
      "1\n",
      "225\n",
      "(500, 684, 3)\n",
      "1\n"
     ]
    },
    {
     "name": "stderr",
     "output_type": "stream",
     "text": [
      "ERROR:root:An error occurred while processing faces: Given groups=1, weight of size [32, 3, 3, 3], expected input[1, 15, 160, 160] to have 3 channels, but got 15 channels instead\n",
      "INFO:root:Video length: 487 frames\n"
     ]
    },
    {
     "name": "stdout",
     "output_type": "stream",
     "text": [
      "300\n",
      "(500, 684, 3)\n",
      "1\n",
      "0\n",
      "(466, 848, 3)\n",
      "1\n",
      "121\n",
      "(466, 848, 3)\n",
      "1\n",
      "243\n",
      "(466, 848, 3)\n",
      "1\n",
      "364\n",
      "(466, 848, 3)\n",
      "1\n"
     ]
    },
    {
     "name": "stderr",
     "output_type": "stream",
     "text": [
      "ERROR:root:An error occurred while processing faces: Given groups=1, weight of size [32, 3, 3, 3], expected input[1, 15, 160, 160] to have 3 channels, but got 15 channels instead\n",
      "INFO:root:Video length: 447 frames\n"
     ]
    },
    {
     "name": "stdout",
     "output_type": "stream",
     "text": [
      "486\n",
      "(466, 848, 3)\n",
      "1\n",
      "0\n",
      "(478, 856, 3)\n",
      "1\n",
      "111\n",
      "(478, 856, 3)\n",
      "1\n",
      "223\n",
      "(478, 856, 3)\n",
      "1\n",
      "334\n",
      "(478, 856, 3)\n",
      "1\n"
     ]
    },
    {
     "name": "stderr",
     "output_type": "stream",
     "text": [
      "ERROR:root:An error occurred while processing faces: Given groups=1, weight of size [32, 3, 3, 3], expected input[1, 15, 160, 160] to have 3 channels, but got 15 channels instead\n",
      "INFO:root:Video length: 381 frames\n"
     ]
    },
    {
     "name": "stdout",
     "output_type": "stream",
     "text": [
      "446\n",
      "(478, 856, 3)\n",
      "1\n",
      "0\n",
      "(500, 944, 3)\n",
      "1\n",
      "95\n",
      "(500, 944, 3)\n",
      "1\n",
      "190\n",
      "(500, 944, 3)\n",
      "1\n",
      "285\n",
      "(500, 944, 3)\n",
      "1\n"
     ]
    },
    {
     "name": "stderr",
     "output_type": "stream",
     "text": [
      "ERROR:root:An error occurred while processing faces: Given groups=1, weight of size [32, 3, 3, 3], expected input[1, 15, 160, 160] to have 3 channels, but got 15 channels instead\n",
      "INFO:root:Video length: 320 frames\n"
     ]
    },
    {
     "name": "stdout",
     "output_type": "stream",
     "text": [
      "380\n",
      "(500, 944, 3)\n",
      "1\n",
      "0\n",
      "(472, 848, 3)\n",
      "1\n",
      "79\n",
      "(472, 848, 3)\n",
      "1\n",
      "159\n",
      "(472, 848, 3)\n",
      "1\n"
     ]
    },
    {
     "name": "stderr",
     "output_type": "stream",
     "text": [
      "ERROR:root:An error occurred while processing faces: Given groups=1, weight of size [32, 3, 3, 3], expected input[1, 15, 160, 160] to have 3 channels, but got 15 channels instead\n",
      "INFO:root:Video length: 325 frames\n"
     ]
    },
    {
     "name": "stdout",
     "output_type": "stream",
     "text": [
      "239\n",
      "(472, 848, 3)\n",
      "1\n",
      "319\n",
      "(472, 848, 3)\n",
      "1\n",
      "0\n",
      "(452, 844, 3)\n",
      "1\n",
      "81\n",
      "(452, 844, 3)\n",
      "1\n",
      "162\n",
      "(452, 844, 3)\n",
      "1\n"
     ]
    },
    {
     "name": "stderr",
     "output_type": "stream",
     "text": [
      "ERROR:root:An error occurred while processing faces: Given groups=1, weight of size [32, 3, 3, 3], expected input[1, 15, 160, 160] to have 3 channels, but got 15 channels instead\n",
      "INFO:root:Video length: 383 frames\n"
     ]
    },
    {
     "name": "stdout",
     "output_type": "stream",
     "text": [
      "243\n",
      "(452, 844, 3)\n",
      "1\n",
      "324\n",
      "(452, 844, 3)\n",
      "1\n",
      "0\n",
      "(500, 554, 3)\n",
      "1\n",
      "95\n",
      "(500, 554, 3)\n",
      "1\n",
      "191\n",
      "(500, 554, 3)\n",
      "1\n",
      "286\n",
      "(500, 554, 3)\n",
      "1\n"
     ]
    },
    {
     "name": "stderr",
     "output_type": "stream",
     "text": [
      "ERROR:root:An error occurred while processing faces: Given groups=1, weight of size [32, 3, 3, 3], expected input[1, 15, 160, 160] to have 3 channels, but got 15 channels instead\n",
      "INFO:root:Video length: 280 frames\n"
     ]
    },
    {
     "name": "stdout",
     "output_type": "stream",
     "text": [
      "382\n",
      "(500, 554, 3)\n",
      "1\n",
      "0\n",
      "(500, 944, 3)\n",
      "1\n",
      "69\n",
      "(500, 944, 3)\n",
      "1\n",
      "139\n",
      "(500, 944, 3)\n",
      "1\n",
      "209\n",
      "(500, 944, 3)\n",
      "1\n"
     ]
    },
    {
     "name": "stderr",
     "output_type": "stream",
     "text": [
      "ERROR:root:An error occurred while processing faces: Given groups=1, weight of size [32, 3, 3, 3], expected input[1, 15, 160, 160] to have 3 channels, but got 15 channels instead\n",
      "INFO:root:Video length: 311 frames\n"
     ]
    },
    {
     "name": "stdout",
     "output_type": "stream",
     "text": [
      "279\n",
      "(500, 944, 3)\n",
      "1\n",
      "0\n",
      "(472, 844, 3)\n",
      "1\n",
      "77\n",
      "(472, 844, 3)\n",
      "1\n",
      "155\n",
      "(472, 844, 3)\n",
      "1\n",
      "232\n",
      "(472, 844, 3)\n",
      "1\n"
     ]
    },
    {
     "name": "stderr",
     "output_type": "stream",
     "text": [
      "ERROR:root:An error occurred while processing faces: Given groups=1, weight of size [32, 3, 3, 3], expected input[1, 15, 160, 160] to have 3 channels, but got 15 channels instead\n",
      "INFO:root:Video length: 459 frames\n"
     ]
    },
    {
     "name": "stdout",
     "output_type": "stream",
     "text": [
      "310\n",
      "(472, 844, 3)\n",
      "1\n",
      "0\n",
      "(500, 944, 3)\n",
      "1\n",
      "114\n",
      "(500, 944, 3)\n",
      "1\n",
      "229\n",
      "(500, 944, 3)\n",
      "1\n",
      "343\n",
      "(500, 944, 3)\n",
      "1\n"
     ]
    },
    {
     "name": "stderr",
     "output_type": "stream",
     "text": [
      "ERROR:root:An error occurred while processing faces: Given groups=1, weight of size [32, 3, 3, 3], expected input[1, 15, 160, 160] to have 3 channels, but got 15 channels instead\n",
      "INFO:root:Video length: 448 frames\n"
     ]
    },
    {
     "name": "stdout",
     "output_type": "stream",
     "text": [
      "458\n",
      "(500, 944, 3)\n",
      "1\n",
      "0\n",
      "(500, 892, 3)\n",
      "1\n",
      "111\n",
      "(500, 892, 3)\n",
      "1\n",
      "223\n",
      "(500, 892, 3)\n",
      "1\n",
      "335\n",
      "(500, 892, 3)\n",
      "1\n"
     ]
    },
    {
     "name": "stderr",
     "output_type": "stream",
     "text": [
      "ERROR:root:An error occurred while processing faces: Given groups=1, weight of size [32, 3, 3, 3], expected input[1, 15, 160, 160] to have 3 channels, but got 15 channels instead\n",
      "INFO:root:Video length: 409 frames\n"
     ]
    },
    {
     "name": "stdout",
     "output_type": "stream",
     "text": [
      "447\n",
      "(500, 892, 3)\n",
      "1\n",
      "0\n",
      "(500, 568, 3)\n",
      "1\n",
      "102\n",
      "(500, 568, 3)\n",
      "1\n",
      "204\n",
      "(500, 568, 3)\n",
      "1\n",
      "306\n",
      "(500, 568, 3)\n",
      "1\n",
      "408\n",
      "(500, 568, 3)\n",
      "1\n"
     ]
    },
    {
     "name": "stderr",
     "output_type": "stream",
     "text": [
      "ERROR:root:An error occurred while processing faces: Given groups=1, weight of size [32, 3, 3, 3], expected input[1, 15, 160, 160] to have 3 channels, but got 15 channels instead\n",
      "INFO:root:Video length: 369 frames\n"
     ]
    },
    {
     "name": "stdout",
     "output_type": "stream",
     "text": [
      "0\n",
      "(472, 850, 3)\n",
      "1\n",
      "92\n",
      "(472, 850, 3)\n",
      "1\n",
      "184\n",
      "(472, 850, 3)\n",
      "1\n",
      "276\n",
      "(472, 850, 3)\n",
      "1\n",
      "368\n",
      "(472, 850, 3)\n",
      "1\n"
     ]
    },
    {
     "name": "stderr",
     "output_type": "stream",
     "text": [
      "ERROR:root:An error occurred while processing faces: Given groups=1, weight of size [32, 3, 3, 3], expected input[1, 15, 160, 160] to have 3 channels, but got 15 channels instead\n",
      "INFO:root:Video length: 364 frames\n"
     ]
    },
    {
     "name": "stdout",
     "output_type": "stream",
     "text": [
      "0\n",
      "(480, 852, 3)\n",
      "1\n",
      "90\n",
      "(480, 852, 3)\n",
      "1\n",
      "181\n",
      "(480, 852, 3)\n",
      "1\n",
      "272\n",
      "(480, 852, 3)\n",
      "1\n",
      "363\n",
      "(480, 852, 3)\n",
      "1\n"
     ]
    },
    {
     "name": "stderr",
     "output_type": "stream",
     "text": [
      "ERROR:root:An error occurred while processing faces: Given groups=1, weight of size [32, 3, 3, 3], expected input[1, 15, 160, 160] to have 3 channels, but got 15 channels instead\n",
      "INFO:root:Video length: 475 frames\n"
     ]
    },
    {
     "name": "stdout",
     "output_type": "stream",
     "text": [
      "0\n",
      "(500, 888, 3)\n",
      "1\n",
      "118\n",
      "(500, 888, 3)\n",
      "1\n",
      "237\n",
      "(500, 888, 3)\n",
      "1\n",
      "355\n",
      "(500, 888, 3)\n",
      "1\n",
      "474\n",
      "(500, 888, 3)\n",
      "1\n"
     ]
    },
    {
     "name": "stderr",
     "output_type": "stream",
     "text": [
      "ERROR:root:An error occurred while processing faces: Given groups=1, weight of size [32, 3, 3, 3], expected input[1, 15, 160, 160] to have 3 channels, but got 15 channels instead\n",
      "INFO:root:Video length: 428 frames\n",
      "ERROR:root:An error occurred while processing faces: Given groups=1, weight of size [32, 3, 3, 3], expected input[1, 15, 160, 160] to have 3 channels, but got 15 channels instead\n"
     ]
    },
    {
     "name": "stdout",
     "output_type": "stream",
     "text": [
      "0\n",
      "(500, 530, 3)\n",
      "1\n",
      "106\n",
      "(500, 530, 3)\n",
      "1\n",
      "213\n",
      "(500, 530, 3)\n",
      "1\n",
      "320\n",
      "(500, 530, 3)\n",
      "1\n",
      "427\n",
      "(500, 530, 3)\n",
      "1\n"
     ]
    },
    {
     "name": "stderr",
     "output_type": "stream",
     "text": [
      "INFO:root:Video length: 438 frames\n",
      "ERROR:root:An error occurred while processing faces: Given groups=1, weight of size [32, 3, 3, 3], expected input[1, 15, 160, 160] to have 3 channels, but got 15 channels instead\n",
      "INFO:root:Video length: 315 frames\n"
     ]
    },
    {
     "name": "stdout",
     "output_type": "stream",
     "text": [
      "0\n",
      "(478, 856, 3)\n",
      "1\n",
      "109\n",
      "(478, 856, 3)\n",
      "1\n",
      "218\n",
      "(478, 856, 3)\n",
      "1\n",
      "327\n",
      "(478, 856, 3)\n",
      "1\n",
      "437\n",
      "(478, 856, 3)\n",
      "1\n",
      "0\n",
      "(470, 840, 3)\n",
      "1\n",
      "78\n",
      "(470, 840, 3)\n",
      "1\n",
      "157\n",
      "(470, 840, 3)\n",
      "1\n",
      "235\n",
      "(470, 840, 3)\n",
      "1\n",
      "314\n",
      "(470, 840, 3)\n",
      "1\n"
     ]
    },
    {
     "name": "stderr",
     "output_type": "stream",
     "text": [
      "ERROR:root:An error occurred while processing faces: Given groups=1, weight of size [32, 3, 3, 3], expected input[1, 15, 160, 160] to have 3 channels, but got 15 channels instead\n",
      "INFO:root:Video length: 420 frames\n"
     ]
    },
    {
     "name": "stdout",
     "output_type": "stream",
     "text": [
      "0\n",
      "(478, 856, 3)\n",
      "1\n",
      "104\n",
      "(478, 856, 3)\n",
      "1\n",
      "209\n",
      "(478, 856, 3)\n",
      "1\n",
      "314\n",
      "(478, 856, 3)\n",
      "1\n",
      "419\n",
      "(478, 856, 3)\n",
      "1\n"
     ]
    },
    {
     "name": "stderr",
     "output_type": "stream",
     "text": [
      "ERROR:root:An error occurred while processing faces: Given groups=1, weight of size [32, 3, 3, 3], expected input[1, 15, 160, 160] to have 3 channels, but got 15 channels instead\n",
      "INFO:root:Video length: 313 frames\n",
      "ERROR:root:An error occurred while processing faces: Given groups=1, weight of size [32, 3, 3, 3], expected input[1, 15, 160, 160] to have 3 channels, but got 15 channels instead\n"
     ]
    },
    {
     "name": "stdout",
     "output_type": "stream",
     "text": [
      "0\n",
      "(500, 670, 3)\n",
      "1\n",
      "78\n",
      "(500, 670, 3)\n",
      "1\n",
      "156\n",
      "(500, 670, 3)\n",
      "1\n",
      "234\n",
      "(500, 670, 3)\n",
      "1\n",
      "312\n",
      "(500, 670, 3)\n",
      "1\n"
     ]
    },
    {
     "name": "stderr",
     "output_type": "stream",
     "text": [
      "INFO:root:Video length: 333 frames\n",
      "ERROR:root:An error occurred while processing faces: Given groups=1, weight of size [32, 3, 3, 3], expected input[1, 15, 160, 160] to have 3 channels, but got 15 channels instead\n"
     ]
    },
    {
     "name": "stdout",
     "output_type": "stream",
     "text": [
      "0\n",
      "(476, 846, 3)\n",
      "1\n",
      "83\n",
      "(476, 846, 3)\n",
      "1\n",
      "166\n",
      "(476, 846, 3)\n",
      "1\n",
      "249\n",
      "(476, 846, 3)\n",
      "1\n",
      "332\n",
      "(476, 846, 3)\n",
      "1\n"
     ]
    },
    {
     "name": "stderr",
     "output_type": "stream",
     "text": [
      "INFO:root:Video length: 313 frames\n",
      "ERROR:root:An error occurred while processing faces: Given groups=1, weight of size [32, 3, 3, 3], expected input[1, 15, 160, 160] to have 3 channels, but got 15 channels instead\n",
      "INFO:root:Video length: 307 frames\n"
     ]
    },
    {
     "name": "stdout",
     "output_type": "stream",
     "text": [
      "0\n",
      "(500, 670, 3)\n",
      "1\n",
      "78\n",
      "(500, 670, 3)\n",
      "1\n",
      "156\n",
      "(500, 670, 3)\n",
      "1\n",
      "234\n",
      "(500, 670, 3)\n",
      "1\n",
      "312\n",
      "(500, 670, 3)\n",
      "1\n",
      "0\n",
      "(500, 674, 3)\n",
      "1\n"
     ]
    },
    {
     "name": "stderr",
     "output_type": "stream",
     "text": [
      "ERROR:root:An error occurred while processing faces: Given groups=1, weight of size [32, 3, 3, 3], expected input[1, 15, 160, 160] to have 3 channels, but got 15 channels instead\n",
      "INFO:root:Video length: 334 frames\n"
     ]
    },
    {
     "name": "stdout",
     "output_type": "stream",
     "text": [
      "76\n",
      "(500, 674, 3)\n",
      "1\n",
      "153\n",
      "(500, 674, 3)\n",
      "1\n",
      "229\n",
      "(500, 674, 3)\n",
      "1\n",
      "306\n",
      "(500, 674, 3)\n",
      "1\n",
      "0\n",
      "(478, 846, 3)\n",
      "1\n",
      "83\n",
      "(478, 846, 3)\n",
      "1\n"
     ]
    },
    {
     "name": "stderr",
     "output_type": "stream",
     "text": [
      "ERROR:root:An error occurred while processing faces: Given groups=1, weight of size [32, 3, 3, 3], expected input[1, 15, 160, 160] to have 3 channels, but got 15 channels instead\n",
      "INFO:root:Video length: 347 frames\n"
     ]
    },
    {
     "name": "stdout",
     "output_type": "stream",
     "text": [
      "166\n",
      "(478, 846, 3)\n",
      "1\n",
      "249\n",
      "(478, 846, 3)\n",
      "1\n",
      "333\n",
      "(478, 846, 3)\n",
      "1\n",
      "0\n",
      "(474, 844, 3)\n",
      "1\n",
      "86\n",
      "(474, 844, 3)\n",
      "1\n"
     ]
    },
    {
     "name": "stderr",
     "output_type": "stream",
     "text": [
      "ERROR:root:An error occurred while processing faces: Given groups=1, weight of size [32, 3, 3, 3], expected input[1, 15, 160, 160] to have 3 channels, but got 15 channels instead\n",
      "INFO:root:Video length: 303 frames\n"
     ]
    },
    {
     "name": "stdout",
     "output_type": "stream",
     "text": [
      "173\n",
      "(474, 844, 3)\n",
      "1\n",
      "259\n",
      "(474, 844, 3)\n",
      "1\n",
      "346\n",
      "(474, 844, 3)\n",
      "1\n",
      "0\n",
      "(500, 950, 3)\n",
      "1\n",
      "75\n",
      "(500, 950, 3)\n",
      "1\n"
     ]
    },
    {
     "name": "stderr",
     "output_type": "stream",
     "text": [
      "ERROR:root:An error occurred while processing faces: Given groups=1, weight of size [32, 3, 3, 3], expected input[1, 15, 160, 160] to have 3 channels, but got 15 channels instead\n",
      "INFO:root:Video length: 310 frames\n"
     ]
    },
    {
     "name": "stdout",
     "output_type": "stream",
     "text": [
      "151\n",
      "(500, 950, 3)\n",
      "1\n",
      "226\n",
      "(500, 950, 3)\n",
      "1\n",
      "302\n",
      "(500, 950, 3)\n",
      "1\n",
      "0\n",
      "(466, 744, 3)\n",
      "1\n",
      "77\n",
      "(466, 744, 3)\n",
      "1\n"
     ]
    },
    {
     "name": "stderr",
     "output_type": "stream",
     "text": [
      "ERROR:root:An error occurred while processing faces: Given groups=1, weight of size [32, 3, 3, 3], expected input[1, 15, 160, 160] to have 3 channels, but got 15 channels instead\n",
      "INFO:root:Video length: 336 frames\n"
     ]
    },
    {
     "name": "stdout",
     "output_type": "stream",
     "text": [
      "154\n",
      "(466, 744, 3)\n",
      "1\n",
      "231\n",
      "(466, 744, 3)\n",
      "1\n",
      "309\n",
      "(466, 744, 3)\n",
      "1\n",
      "0\n",
      "(476, 850, 3)\n",
      "1\n",
      "83\n",
      "(476, 850, 3)\n",
      "1\n",
      "167\n",
      "(476, 850, 3)\n",
      "1\n"
     ]
    },
    {
     "name": "stderr",
     "output_type": "stream",
     "text": [
      "ERROR:root:An error occurred while processing faces: Given groups=1, weight of size [32, 3, 3, 3], expected input[1, 15, 160, 160] to have 3 channels, but got 15 channels instead\n",
      "INFO:root:Video length: 445 frames\n"
     ]
    },
    {
     "name": "stdout",
     "output_type": "stream",
     "text": [
      "251\n",
      "(476, 850, 3)\n",
      "1\n",
      "335\n",
      "(476, 850, 3)\n",
      "1\n",
      "0\n",
      "(500, 588, 3)\n",
      "1\n",
      "111\n",
      "(500, 588, 3)\n",
      "1\n",
      "222\n",
      "(500, 588, 3)\n",
      "1\n",
      "333\n",
      "(500, 588, 3)\n",
      "1\n"
     ]
    },
    {
     "name": "stderr",
     "output_type": "stream",
     "text": [
      "ERROR:root:An error occurred while processing faces: Given groups=1, weight of size [32, 3, 3, 3], expected input[1, 15, 160, 160] to have 3 channels, but got 15 channels instead\n",
      "INFO:root:Video length: 314 frames\n"
     ]
    },
    {
     "name": "stdout",
     "output_type": "stream",
     "text": [
      "444\n",
      "(500, 588, 3)\n",
      "1\n",
      "0\n",
      "(478, 856, 3)\n",
      "1\n",
      "78\n",
      "(478, 856, 3)\n",
      "1\n",
      "156\n",
      "(478, 856, 3)\n",
      "1\n",
      "234\n",
      "(478, 856, 3)\n",
      "1\n"
     ]
    },
    {
     "name": "stderr",
     "output_type": "stream",
     "text": [
      "ERROR:root:An error occurred while processing faces: Given groups=1, weight of size [32, 3, 3, 3], expected input[1, 15, 160, 160] to have 3 channels, but got 15 channels instead\n",
      "INFO:root:Video length: 455 frames\n"
     ]
    },
    {
     "name": "stdout",
     "output_type": "stream",
     "text": [
      "313\n",
      "(478, 856, 3)\n",
      "1\n",
      "0\n",
      "(472, 850, 3)\n",
      "1\n",
      "113\n",
      "(472, 850, 3)\n",
      "1\n",
      "227\n",
      "(472, 850, 3)\n",
      "1\n",
      "340\n",
      "(472, 850, 3)\n",
      "1\n"
     ]
    },
    {
     "name": "stderr",
     "output_type": "stream",
     "text": [
      "ERROR:root:An error occurred while processing faces: Given groups=1, weight of size [32, 3, 3, 3], expected input[1, 15, 160, 160] to have 3 channels, but got 15 channels instead\n",
      "INFO:root:Video length: 334 frames\n"
     ]
    },
    {
     "name": "stdout",
     "output_type": "stream",
     "text": [
      "454\n",
      "(472, 850, 3)\n",
      "1\n",
      "0\n",
      "(500, 666, 3)\n",
      "1\n",
      "83\n",
      "(500, 666, 3)\n",
      "1\n",
      "166\n",
      "(500, 666, 3)\n",
      "1\n",
      "249\n",
      "(500, 666, 3)\n",
      "1\n",
      "333\n",
      "(500, 666, 3)\n",
      "1\n"
     ]
    },
    {
     "name": "stderr",
     "output_type": "stream",
     "text": [
      "ERROR:root:An error occurred while processing faces: Given groups=1, weight of size [32, 3, 3, 3], expected input[1, 15, 160, 160] to have 3 channels, but got 15 channels instead\n",
      "INFO:root:Video length: 234 frames\n"
     ]
    },
    {
     "name": "stdout",
     "output_type": "stream",
     "text": [
      "0\n",
      "(480, 852, 3)\n",
      "1\n",
      "58\n",
      "(480, 852, 3)\n",
      "1\n",
      "116\n",
      "(480, 852, 3)\n",
      "1\n",
      "174\n",
      "(480, 852, 3)\n",
      "1\n"
     ]
    },
    {
     "name": "stderr",
     "output_type": "stream",
     "text": [
      "ERROR:root:An error occurred while processing faces: Given groups=1, weight of size [32, 3, 3, 3], expected input[1, 15, 160, 160] to have 3 channels, but got 15 channels instead\n",
      "INFO:root:Video length: 458 frames\n"
     ]
    },
    {
     "name": "stdout",
     "output_type": "stream",
     "text": [
      "233\n",
      "(480, 852, 3)\n",
      "1\n",
      "0\n",
      "(478, 856, 3)\n",
      "1\n",
      "114\n",
      "(478, 856, 3)\n",
      "1\n",
      "228\n",
      "(478, 856, 3)\n",
      "1\n"
     ]
    },
    {
     "name": "stderr",
     "output_type": "stream",
     "text": [
      "ERROR:root:An error occurred while processing faces: Given groups=1, weight of size [32, 3, 3, 3], expected input[1, 15, 160, 160] to have 3 channels, but got 15 channels instead\n",
      "INFO:root:Video length: 291 frames\n"
     ]
    },
    {
     "name": "stdout",
     "output_type": "stream",
     "text": [
      "342\n",
      "(478, 856, 3)\n",
      "1\n",
      "457\n",
      "(478, 856, 3)\n",
      "1\n",
      "0\n",
      "(500, 942, 3)\n",
      "1\n"
     ]
    },
    {
     "name": "stderr",
     "output_type": "stream",
     "text": [
      "ERROR:root:An error occurred while processing faces: Given groups=1, weight of size [32, 3, 3, 3], expected input[1, 15, 160, 160] to have 3 channels, but got 15 channels instead\n",
      "INFO:root:Video length: 311 frames\n"
     ]
    },
    {
     "name": "stdout",
     "output_type": "stream",
     "text": [
      "72\n",
      "(500, 942, 3)\n",
      "1\n",
      "145\n",
      "(500, 942, 3)\n",
      "1\n",
      "217\n",
      "(500, 942, 3)\n",
      "1\n",
      "290\n",
      "(500, 942, 3)\n",
      "1\n"
     ]
    },
    {
     "name": "stderr",
     "output_type": "stream",
     "text": [
      "ERROR:root:An error occurred while processing faces: Given groups=1, weight of size [32, 3, 3, 3], expected input[1, 15, 160, 160] to have 3 channels, but got 15 channels instead\n",
      "INFO:root:Video length: 377 frames\n"
     ]
    },
    {
     "name": "stdout",
     "output_type": "stream",
     "text": [
      "0\n",
      "(500, 620, 3)\n",
      "1\n",
      "77\n",
      "(500, 620, 3)\n",
      "1\n",
      "155\n",
      "(500, 620, 3)\n",
      "1\n",
      "232\n",
      "(500, 620, 3)\n",
      "1\n",
      "310\n",
      "(500, 620, 3)\n",
      "1\n",
      "0\n",
      "(478, 856, 3)\n",
      "1\n",
      "94\n",
      "(478, 856, 3)\n",
      "1\n",
      "188\n",
      "(478, 856, 3)\n",
      "1\n",
      "282\n",
      "(478, 856, 3)\n",
      "1\n",
      "376\n",
      "(478, 856, 3)\n",
      "1\n"
     ]
    },
    {
     "name": "stderr",
     "output_type": "stream",
     "text": [
      "ERROR:root:An error occurred while processing faces: Given groups=1, weight of size [32, 3, 3, 3], expected input[1, 15, 160, 160] to have 3 channels, but got 15 channels instead\n",
      "INFO:root:Video length: 496 frames\n"
     ]
    },
    {
     "name": "stdout",
     "output_type": "stream",
     "text": [
      "0\n",
      "(500, 956, 3)\n",
      "1\n",
      "123\n",
      "(500, 956, 3)\n",
      "1\n",
      "247\n",
      "(500, 956, 3)\n",
      "1\n",
      "371\n",
      "(500, 956, 3)\n",
      "1\n",
      "495\n",
      "(500, 956, 3)\n",
      "1\n"
     ]
    },
    {
     "name": "stderr",
     "output_type": "stream",
     "text": [
      "ERROR:root:An error occurred while processing faces: Given groups=1, weight of size [32, 3, 3, 3], expected input[1, 15, 160, 160] to have 3 channels, but got 15 channels instead\n",
      "INFO:root:Video length: 464 frames\n"
     ]
    },
    {
     "name": "stdout",
     "output_type": "stream",
     "text": [
      "0\n",
      "(478, 856, 3)\n",
      "1\n",
      "115\n",
      "(478, 856, 3)\n",
      "1\n",
      "231\n",
      "(478, 856, 3)\n",
      "1\n",
      "347\n",
      "(478, 856, 3)\n",
      "1\n",
      "463\n",
      "(478, 856, 3)\n",
      "1\n"
     ]
    },
    {
     "name": "stderr",
     "output_type": "stream",
     "text": [
      "ERROR:root:An error occurred while processing faces: Given groups=1, weight of size [32, 3, 3, 3], expected input[1, 15, 160, 160] to have 3 channels, but got 15 channels instead\n",
      "INFO:root:Video length: 438 frames\n",
      "ERROR:root:An error occurred while processing faces: Given groups=1, weight of size [32, 3, 3, 3], expected input[1, 15, 160, 160] to have 3 channels, but got 15 channels instead\n"
     ]
    },
    {
     "name": "stdout",
     "output_type": "stream",
     "text": [
      "0\n",
      "(478, 856, 3)\n",
      "1\n",
      "109\n",
      "(478, 856, 3)\n",
      "1\n",
      "218\n",
      "(478, 856, 3)\n",
      "1\n",
      "327\n",
      "(478, 856, 3)\n",
      "1\n",
      "437\n",
      "(478, 856, 3)\n",
      "1\n"
     ]
    },
    {
     "name": "stderr",
     "output_type": "stream",
     "text": [
      "INFO:root:Video length: 308 frames\n",
      "ERROR:root:An error occurred while processing faces: Given groups=1, weight of size [32, 3, 3, 3], expected input[1, 15, 160, 160] to have 3 channels, but got 15 channels instead\n",
      "INFO:root:Video length: 228 frames\n"
     ]
    },
    {
     "name": "stdout",
     "output_type": "stream",
     "text": [
      "0\n",
      "(298, 610, 3)\n",
      "1\n",
      "76\n",
      "(298, 610, 3)\n",
      "1\n",
      "153\n",
      "(298, 610, 3)\n",
      "1\n",
      "230\n",
      "(298, 610, 3)\n",
      "1\n",
      "307\n",
      "(298, 610, 3)\n",
      "1\n",
      "0\n",
      "(466, 848, 3)\n",
      "1\n",
      "56\n",
      "(466, 848, 3)\n",
      "1\n"
     ]
    },
    {
     "name": "stderr",
     "output_type": "stream",
     "text": [
      "ERROR:root:An error occurred while processing faces: Given groups=1, weight of size [32, 3, 3, 3], expected input[1, 15, 160, 160] to have 3 channels, but got 15 channels instead\n",
      "INFO:root:Video length: 417 frames\n"
     ]
    },
    {
     "name": "stdout",
     "output_type": "stream",
     "text": [
      "113\n",
      "(466, 848, 3)\n",
      "1\n",
      "170\n",
      "(466, 848, 3)\n",
      "1\n",
      "227\n",
      "(466, 848, 3)\n",
      "1\n",
      "0\n",
      "(466, 848, 3)\n",
      "1\n",
      "104\n",
      "(466, 848, 3)\n"
     ]
    },
    {
     "name": "stderr",
     "output_type": "stream",
     "text": [
      "ERROR:root:An error occurred while processing faces: Given groups=1, weight of size [32, 3, 3, 3], expected input[1, 15, 160, 160] to have 3 channels, but got 15 channels instead\n",
      "INFO:root:Video length: 519 frames\n"
     ]
    },
    {
     "name": "stdout",
     "output_type": "stream",
     "text": [
      "1\n",
      "208\n",
      "(466, 848, 3)\n",
      "1\n",
      "312\n",
      "(466, 848, 3)\n",
      "1\n",
      "416\n",
      "(466, 848, 3)\n",
      "1\n",
      "0\n",
      "(500, 892, 3)\n",
      "1\n",
      "129\n",
      "(500, 892, 3)\n",
      "1\n",
      "259\n",
      "(500, 892, 3)\n",
      "1\n",
      "388\n",
      "(500, 892, 3)\n",
      "1\n",
      "518\n",
      "(500, 892, 3)\n",
      "1\n"
     ]
    },
    {
     "name": "stderr",
     "output_type": "stream",
     "text": [
      "ERROR:root:An error occurred while processing faces: Given groups=1, weight of size [32, 3, 3, 3], expected input[1, 15, 160, 160] to have 3 channels, but got 15 channels instead\n",
      "INFO:root:Video length: 491 frames\n"
     ]
    },
    {
     "name": "stdout",
     "output_type": "stream",
     "text": [
      "0\n",
      "(500, 944, 3)\n",
      "1\n",
      "122\n",
      "(500, 944, 3)\n",
      "1\n",
      "245\n",
      "(500, 944, 3)\n",
      "1\n",
      "367\n",
      "(500, 944, 3)\n",
      "1\n"
     ]
    },
    {
     "name": "stderr",
     "output_type": "stream",
     "text": [
      "ERROR:root:An error occurred while processing faces: Given groups=1, weight of size [32, 3, 3, 3], expected input[1, 15, 160, 160] to have 3 channels, but got 15 channels instead\n",
      "INFO:root:Video length: 470 frames\n"
     ]
    },
    {
     "name": "stdout",
     "output_type": "stream",
     "text": [
      "490\n",
      "(500, 944, 3)\n",
      "1\n",
      "0\n",
      "(472, 850, 3)\n",
      "1\n",
      "117\n",
      "(472, 850, 3)\n",
      "1\n",
      "234\n",
      "(472, 850, 3)\n",
      "1\n",
      "351\n"
     ]
    },
    {
     "name": "stderr",
     "output_type": "stream",
     "text": [
      "ERROR:root:An error occurred while processing faces: Given groups=1, weight of size [32, 3, 3, 3], expected input[1, 15, 160, 160] to have 3 channels, but got 15 channels instead\n",
      "INFO:root:Video length: 235 frames\n"
     ]
    },
    {
     "name": "stdout",
     "output_type": "stream",
     "text": [
      "(472, 850, 3)\n",
      "1\n",
      "469\n",
      "(472, 850, 3)\n",
      "1\n",
      "0\n",
      "(478, 856, 3)\n",
      "1\n",
      "58\n",
      "(478, 856, 3)\n",
      "1\n",
      "117\n"
     ]
    },
    {
     "name": "stderr",
     "output_type": "stream",
     "text": [
      "ERROR:root:An error occurred while processing faces: Given groups=1, weight of size [32, 3, 3, 3], expected input[1, 15, 160, 160] to have 3 channels, but got 15 channels instead\n",
      "INFO:root:Video length: 496 frames\n"
     ]
    },
    {
     "name": "stdout",
     "output_type": "stream",
     "text": [
      "(478, 856, 3)\n",
      "1\n",
      "175\n",
      "(478, 856, 3)\n",
      "1\n",
      "234\n",
      "(478, 856, 3)\n",
      "1\n",
      "0\n",
      "(500, 956, 3)\n",
      "1\n",
      "123\n",
      "(500, 956, 3)\n",
      "1\n",
      "247\n",
      "(500, 956, 3)\n"
     ]
    },
    {
     "name": "stderr",
     "output_type": "stream",
     "text": [
      "ERROR:root:An error occurred while processing faces: Given groups=1, weight of size [32, 3, 3, 3], expected input[1, 15, 160, 160] to have 3 channels, but got 15 channels instead\n",
      "INFO:root:Video length: 307 frames\n"
     ]
    },
    {
     "name": "stdout",
     "output_type": "stream",
     "text": [
      "1\n",
      "371\n",
      "(500, 956, 3)\n",
      "1\n",
      "495\n",
      "(500, 956, 3)\n",
      "1\n",
      "0\n",
      "(500, 616, 3)\n",
      "1\n",
      "76\n",
      "(500, 616, 3)\n",
      "1\n"
     ]
    },
    {
     "name": "stderr",
     "output_type": "stream",
     "text": [
      "ERROR:root:An error occurred while processing faces: Given groups=1, weight of size [32, 3, 3, 3], expected input[1, 15, 160, 160] to have 3 channels, but got 15 channels instead\n",
      "INFO:root:Video length: 485 frames\n"
     ]
    },
    {
     "name": "stdout",
     "output_type": "stream",
     "text": [
      "153\n",
      "(500, 616, 3)\n",
      "1\n",
      "229\n",
      "(500, 616, 3)\n",
      "1\n",
      "306\n",
      "(500, 616, 3)\n",
      "1\n",
      "0\n",
      "(500, 892, 3)\n",
      "1\n",
      "121\n",
      "(500, 892, 3)\n",
      "1\n",
      "242\n",
      "(500, 892, 3)\n",
      "1\n"
     ]
    },
    {
     "name": "stderr",
     "output_type": "stream",
     "text": [
      "ERROR:root:An error occurred while processing faces: Given groups=1, weight of size [32, 3, 3, 3], expected input[1, 15, 160, 160] to have 3 channels, but got 15 channels instead\n",
      "INFO:root:Video length: 470 frames\n"
     ]
    },
    {
     "name": "stdout",
     "output_type": "stream",
     "text": [
      "363\n",
      "(500, 892, 3)\n",
      "1\n",
      "484\n",
      "(500, 892, 3)\n",
      "1\n",
      "0\n",
      "(472, 850, 3)\n",
      "1\n",
      "117\n",
      "(472, 850, 3)\n",
      "1\n",
      "234\n",
      "(472, 850, 3)\n",
      "1\n"
     ]
    },
    {
     "name": "stderr",
     "output_type": "stream",
     "text": [
      "ERROR:root:An error occurred while processing faces: Given groups=1, weight of size [32, 3, 3, 3], expected input[1, 15, 160, 160] to have 3 channels, but got 15 channels instead\n",
      "INFO:root:Video length: 467 frames\n"
     ]
    },
    {
     "name": "stdout",
     "output_type": "stream",
     "text": [
      "351\n",
      "(472, 850, 3)\n",
      "1\n",
      "469\n",
      "(472, 850, 3)\n",
      "1\n",
      "0\n",
      "(472, 850, 3)\n",
      "1\n",
      "116\n",
      "(472, 850, 3)\n",
      "1\n"
     ]
    },
    {
     "name": "stderr",
     "output_type": "stream",
     "text": [
      "ERROR:root:An error occurred while processing faces: Given groups=1, weight of size [32, 3, 3, 3], expected input[1, 15, 160, 160] to have 3 channels, but got 15 channels instead\n",
      "INFO:root:Video length: 247 frames\n"
     ]
    },
    {
     "name": "stdout",
     "output_type": "stream",
     "text": [
      "233\n",
      "(472, 850, 3)\n",
      "1\n",
      "349\n",
      "(472, 850, 3)\n",
      "1\n",
      "466\n",
      "(472, 850, 3)\n",
      "1\n",
      "0\n",
      "(440, 612, 3)\n",
      "1\n",
      "61\n",
      "(440, 612, 3)\n",
      "1\n",
      "123\n",
      "(440, 612, 3)\n",
      "1\n"
     ]
    },
    {
     "name": "stderr",
     "output_type": "stream",
     "text": [
      "ERROR:root:An error occurred while processing faces: Given groups=1, weight of size [32, 3, 3, 3], expected input[1, 15, 160, 160] to have 3 channels, but got 15 channels instead\n",
      "INFO:root:Video length: 428 frames\n"
     ]
    },
    {
     "name": "stdout",
     "output_type": "stream",
     "text": [
      "184\n",
      "(440, 612, 3)\n",
      "1\n",
      "246\n",
      "(440, 612, 3)\n",
      "1\n",
      "0\n",
      "(468, 544, 3)\n",
      "1\n",
      "106\n",
      "(468, 544, 3)\n",
      "1\n",
      "213\n",
      "(468, 544, 3)\n",
      "1\n",
      "320\n",
      "(468, 544, 3)\n",
      "1\n"
     ]
    },
    {
     "name": "stderr",
     "output_type": "stream",
     "text": [
      "ERROR:root:An error occurred while processing faces: Given groups=1, weight of size [32, 3, 3, 3], expected input[1, 15, 160, 160] to have 3 channels, but got 15 channels instead\n",
      "INFO:root:Video length: 328 frames\n"
     ]
    },
    {
     "name": "stdout",
     "output_type": "stream",
     "text": [
      "427\n",
      "(468, 544, 3)\n",
      "1\n",
      "0\n",
      "(452, 844, 3)\n",
      "1\n",
      "81\n",
      "(452, 844, 3)\n",
      "1\n",
      "163\n",
      "(452, 844, 3)\n",
      "1\n",
      "245\n",
      "(452, 844, 3)\n",
      "1\n"
     ]
    },
    {
     "name": "stderr",
     "output_type": "stream",
     "text": [
      "ERROR:root:An error occurred while processing faces: Given groups=1, weight of size [32, 3, 3, 3], expected input[1, 15, 160, 160] to have 3 channels, but got 15 channels instead\n",
      "INFO:root:Video length: 441 frames\n"
     ]
    },
    {
     "name": "stdout",
     "output_type": "stream",
     "text": [
      "327\n",
      "(452, 844, 3)\n",
      "1\n",
      "0\n",
      "(478, 856, 3)\n",
      "1\n",
      "110\n",
      "(478, 856, 3)\n",
      "1\n",
      "220\n",
      "(478, 856, 3)\n",
      "1\n"
     ]
    },
    {
     "name": "stderr",
     "output_type": "stream",
     "text": [
      "ERROR:root:An error occurred while processing faces: Given groups=1, weight of size [32, 3, 3, 3], expected input[1, 15, 160, 160] to have 3 channels, but got 15 channels instead\n",
      "INFO:root:Video length: 327 frames\n"
     ]
    },
    {
     "name": "stdout",
     "output_type": "stream",
     "text": [
      "330\n",
      "(478, 856, 3)\n",
      "1\n",
      "440\n",
      "(478, 856, 3)\n",
      "1\n",
      "0\n",
      "(500, 656, 3)\n",
      "1\n",
      "81\n",
      "(500, 656, 3)\n",
      "1\n",
      "163\n",
      "(500, 656, 3)\n",
      "1\n",
      "244\n",
      "(500, 656, 3)\n",
      "1\n"
     ]
    },
    {
     "name": "stderr",
     "output_type": "stream",
     "text": [
      "ERROR:root:An error occurred while processing faces: Given groups=1, weight of size [32, 3, 3, 3], expected input[1, 15, 160, 160] to have 3 channels, but got 15 channels instead\n",
      "INFO:root:Video length: 451 frames\n"
     ]
    },
    {
     "name": "stdout",
     "output_type": "stream",
     "text": [
      "326\n",
      "(500, 656, 3)\n",
      "1\n",
      "0\n",
      "(472, 850, 3)\n",
      "1\n",
      "112\n",
      "(472, 850, 3)\n",
      "1\n",
      "225\n",
      "(472, 850, 3)\n",
      "1\n",
      "337\n",
      "(472, 850, 3)\n",
      "1\n"
     ]
    },
    {
     "name": "stderr",
     "output_type": "stream",
     "text": [
      "ERROR:root:An error occurred while processing faces: Given groups=1, weight of size [32, 3, 3, 3], expected input[1, 15, 160, 160] to have 3 channels, but got 15 channels instead\n",
      "INFO:root:Video length: 334 frames\n"
     ]
    },
    {
     "name": "stdout",
     "output_type": "stream",
     "text": [
      "450\n",
      "(472, 850, 3)\n",
      "1\n",
      "0\n",
      "(456, 694, 3)\n",
      "1\n",
      "83\n",
      "(456, 694, 3)\n",
      "1\n",
      "166\n",
      "(456, 694, 3)\n",
      "1\n",
      "249\n",
      "(456, 694, 3)\n",
      "1\n"
     ]
    },
    {
     "name": "stderr",
     "output_type": "stream",
     "text": [
      "ERROR:root:An error occurred while processing faces: Given groups=1, weight of size [32, 3, 3, 3], expected input[1, 15, 160, 160] to have 3 channels, but got 15 channels instead\n",
      "INFO:root:Video length: 228 frames\n"
     ]
    },
    {
     "name": "stdout",
     "output_type": "stream",
     "text": [
      "333\n",
      "(456, 694, 3)\n",
      "1\n",
      "0\n",
      "(466, 848, 3)\n",
      "1\n",
      "56\n",
      "(466, 848, 3)\n",
      "1\n",
      "113\n",
      "(466, 848, 3)\n",
      "1\n"
     ]
    },
    {
     "name": "stderr",
     "output_type": "stream",
     "text": [
      "ERROR:root:An error occurred while processing faces: Given groups=1, weight of size [32, 3, 3, 3], expected input[1, 15, 160, 160] to have 3 channels, but got 15 channels instead\n",
      "INFO:root:Video length: 323 frames\n"
     ]
    },
    {
     "name": "stdout",
     "output_type": "stream",
     "text": [
      "170\n",
      "(466, 848, 3)\n",
      "1\n",
      "227\n",
      "(466, 848, 3)\n",
      "1\n",
      "0\n",
      "(470, 836, 3)\n",
      "1\n",
      "80\n",
      "(470, 836, 3)\n",
      "1\n",
      "161\n",
      "(470, 836, 3)\n",
      "1\n",
      "241\n",
      "(470, 836, 3)\n",
      "1\n"
     ]
    },
    {
     "name": "stderr",
     "output_type": "stream",
     "text": [
      "ERROR:root:An error occurred while processing faces: Given groups=1, weight of size [32, 3, 3, 3], expected input[1, 15, 160, 160] to have 3 channels, but got 15 channels instead\n",
      "INFO:root:Video length: 306 frames\n"
     ]
    },
    {
     "name": "stdout",
     "output_type": "stream",
     "text": [
      "322\n",
      "(470, 836, 3)\n",
      "1\n",
      "0\n",
      "(476, 856, 3)\n",
      "1\n",
      "76\n",
      "(476, 856, 3)\n",
      "1\n",
      "152\n",
      "(476, 856, 3)\n",
      "1\n",
      "228\n",
      "(476, 856, 3)\n",
      "1\n"
     ]
    },
    {
     "name": "stderr",
     "output_type": "stream",
     "text": [
      "ERROR:root:An error occurred while processing faces: Given groups=1, weight of size [32, 3, 3, 3], expected input[1, 15, 160, 160] to have 3 channels, but got 15 channels instead\n",
      "INFO:root:Video length: 267 frames\n"
     ]
    },
    {
     "name": "stdout",
     "output_type": "stream",
     "text": [
      "305\n",
      "(476, 856, 3)\n",
      "1\n",
      "0\n",
      "(478, 856, 3)\n",
      "1\n",
      "66\n",
      "(478, 856, 3)\n",
      "1\n",
      "133\n",
      "(478, 856, 3)\n",
      "1\n",
      "199\n",
      "(478, 856, 3)\n",
      "1\n"
     ]
    },
    {
     "name": "stderr",
     "output_type": "stream",
     "text": [
      "ERROR:root:An error occurred while processing faces: Given groups=1, weight of size [32, 3, 3, 3], expected input[1, 15, 160, 160] to have 3 channels, but got 15 channels instead\n",
      "INFO:root:Video length: 464 frames\n"
     ]
    },
    {
     "name": "stdout",
     "output_type": "stream",
     "text": [
      "266\n",
      "(478, 856, 3)\n",
      "1\n",
      "0\n",
      "(478, 856, 3)\n",
      "1\n",
      "115\n",
      "(478, 856, 3)\n",
      "1\n",
      "231\n",
      "(478, 856, 3)\n",
      "1\n"
     ]
    },
    {
     "name": "stderr",
     "output_type": "stream",
     "text": [
      "ERROR:root:An error occurred while processing faces: Given groups=1, weight of size [32, 3, 3, 3], expected input[1, 15, 160, 160] to have 3 channels, but got 15 channels instead\n",
      "INFO:root:Video length: 451 frames\n"
     ]
    },
    {
     "name": "stdout",
     "output_type": "stream",
     "text": [
      "347\n",
      "(478, 856, 3)\n",
      "1\n",
      "463\n",
      "(478, 856, 3)\n",
      "1\n",
      "0\n",
      "(478, 856, 3)\n",
      "1\n",
      "112\n",
      "(478, 856, 3)\n",
      "1\n",
      "225\n",
      "(478, 856, 3)\n",
      "1\n"
     ]
    },
    {
     "name": "stderr",
     "output_type": "stream",
     "text": [
      "ERROR:root:An error occurred while processing faces: Given groups=1, weight of size [32, 3, 3, 3], expected input[1, 15, 160, 160] to have 3 channels, but got 15 channels instead\n",
      "INFO:root:Video length: 322 frames\n"
     ]
    },
    {
     "name": "stdout",
     "output_type": "stream",
     "text": [
      "337\n",
      "(478, 856, 3)\n",
      "1\n",
      "450\n",
      "(478, 856, 3)\n",
      "1\n",
      "0\n",
      "(440, 782, 3)\n",
      "1\n",
      "80\n",
      "(440, 782, 3)\n",
      "1\n",
      "160\n",
      "(440, 782, 3)\n",
      "1\n",
      "240\n",
      "(440, 782, 3)\n",
      "1\n"
     ]
    },
    {
     "name": "stderr",
     "output_type": "stream",
     "text": [
      "ERROR:root:An error occurred while processing faces: Given groups=1, weight of size [32, 3, 3, 3], expected input[1, 15, 160, 160] to have 3 channels, but got 15 channels instead\n",
      "INFO:root:Video length: 517 frames\n"
     ]
    },
    {
     "name": "stdout",
     "output_type": "stream",
     "text": [
      "321\n",
      "(440, 782, 3)\n",
      "1\n",
      "0\n",
      "(500, 888, 3)\n",
      "1\n",
      "129\n",
      "(500, 888, 3)\n",
      "1\n",
      "258\n",
      "(500, 888, 3)\n",
      "1\n",
      "387\n",
      "(500, 888, 3)\n",
      "1\n"
     ]
    },
    {
     "name": "stderr",
     "output_type": "stream",
     "text": [
      "ERROR:root:An error occurred while processing faces: Given groups=1, weight of size [32, 3, 3, 3], expected input[1, 15, 160, 160] to have 3 channels, but got 15 channels instead\n",
      "INFO:root:Video length: 425 frames\n"
     ]
    },
    {
     "name": "stdout",
     "output_type": "stream",
     "text": [
      "516\n",
      "(500, 888, 3)\n",
      "1\n",
      "0\n",
      "(500, 526, 3)\n",
      "1\n",
      "106\n",
      "(500, 526, 3)\n",
      "1\n",
      "212\n",
      "(500, 526, 3)\n",
      "1\n"
     ]
    },
    {
     "name": "stderr",
     "output_type": "stream",
     "text": [
      "ERROR:root:An error occurred while processing faces: Given groups=1, weight of size [32, 3, 3, 3], expected input[1, 15, 160, 160] to have 3 channels, but got 15 channels instead\n",
      "INFO:root:Video length: 451 frames\n"
     ]
    },
    {
     "name": "stdout",
     "output_type": "stream",
     "text": [
      "318\n",
      "(500, 526, 3)\n",
      "1\n",
      "424\n",
      "(500, 526, 3)\n",
      "1\n",
      "0\n",
      "(478, 856, 3)\n",
      "1\n",
      "112\n",
      "(478, 856, 3)\n",
      "1\n",
      "225\n",
      "(478, 856, 3)\n",
      "1\n"
     ]
    },
    {
     "name": "stderr",
     "output_type": "stream",
     "text": [
      "ERROR:root:An error occurred while processing faces: Given groups=1, weight of size [32, 3, 3, 3], expected input[1, 15, 160, 160] to have 3 channels, but got 15 channels instead\n",
      "INFO:root:Video length: 284 frames\n"
     ]
    },
    {
     "name": "stdout",
     "output_type": "stream",
     "text": [
      "337\n",
      "(478, 856, 3)\n",
      "1\n",
      "450\n",
      "(478, 856, 3)\n",
      "1\n",
      "0\n",
      "(500, 950, 3)\n",
      "1\n",
      "70\n",
      "(500, 950, 3)\n",
      "1\n",
      "141\n",
      "(500, 950, 3)\n",
      "1\n"
     ]
    },
    {
     "name": "stderr",
     "output_type": "stream",
     "text": [
      "ERROR:root:An error occurred while processing faces: Given groups=1, weight of size [32, 3, 3, 3], expected input[1, 15, 160, 160] to have 3 channels, but got 15 channels instead\n",
      "INFO:root:Video length: 452 frames\n"
     ]
    },
    {
     "name": "stdout",
     "output_type": "stream",
     "text": [
      "212\n",
      "(500, 950, 3)\n",
      "1\n",
      "283\n",
      "(500, 950, 3)\n",
      "1\n",
      "0\n",
      "(466, 848, 3)\n",
      "1\n",
      "112\n",
      "(466, 848, 3)\n",
      "1\n",
      "225\n",
      "(466, 848, 3)\n",
      "1\n"
     ]
    },
    {
     "name": "stderr",
     "output_type": "stream",
     "text": [
      "ERROR:root:An error occurred while processing faces: Given groups=1, weight of size [32, 3, 3, 3], expected input[1, 15, 160, 160] to have 3 channels, but got 15 channels instead\n",
      "INFO:root:Video length: 408 frames\n"
     ]
    },
    {
     "name": "stdout",
     "output_type": "stream",
     "text": [
      "338\n",
      "(466, 848, 3)\n",
      "1\n",
      "451\n",
      "(466, 848, 3)\n",
      "1\n",
      "0\n",
      "(478, 856, 3)\n",
      "1\n",
      "101\n",
      "(478, 856, 3)\n",
      "1\n",
      "203\n",
      "(478, 856, 3)\n"
     ]
    },
    {
     "name": "stderr",
     "output_type": "stream",
     "text": [
      "ERROR:root:An error occurred while processing faces: Given groups=1, weight of size [32, 3, 3, 3], expected input[1, 15, 160, 160] to have 3 channels, but got 15 channels instead\n",
      "INFO:root:Video length: 547 frames\n"
     ]
    },
    {
     "name": "stdout",
     "output_type": "stream",
     "text": [
      "1\n",
      "305\n",
      "(478, 856, 3)\n",
      "1\n",
      "407\n",
      "(478, 856, 3)\n",
      "1\n",
      "0\n",
      "(500, 892, 3)\n",
      "1\n",
      "136\n",
      "(500, 892, 3)\n",
      "1\n"
     ]
    },
    {
     "name": "stderr",
     "output_type": "stream",
     "text": [
      "ERROR:root:An error occurred while processing faces: Given groups=1, weight of size [32, 3, 3, 3], expected input[1, 15, 160, 160] to have 3 channels, but got 15 channels instead\n",
      "INFO:root:Video length: 472 frames\n"
     ]
    },
    {
     "name": "stdout",
     "output_type": "stream",
     "text": [
      "273\n",
      "(500, 892, 3)\n",
      "1\n",
      "409\n",
      "(500, 892, 3)\n",
      "1\n",
      "546\n",
      "(500, 892, 3)\n",
      "1\n",
      "0\n",
      "(478, 856, 3)\n",
      "1\n",
      "117\n",
      "(478, 856, 3)\n",
      "1\n"
     ]
    },
    {
     "name": "stderr",
     "output_type": "stream",
     "text": [
      "ERROR:root:An error occurred while processing faces: Given groups=1, weight of size [32, 3, 3, 3], expected input[1, 15, 160, 160] to have 3 channels, but got 15 channels instead\n",
      "INFO:root:Video length: 305 frames\n"
     ]
    },
    {
     "name": "stdout",
     "output_type": "stream",
     "text": [
      "235\n",
      "(478, 856, 3)\n",
      "1\n",
      "353\n",
      "(478, 856, 3)\n",
      "1\n",
      "471\n",
      "(478, 856, 3)\n",
      "1\n",
      "0\n",
      "(500, 666, 3)\n",
      "1\n",
      "76\n",
      "(500, 666, 3)\n",
      "1\n"
     ]
    },
    {
     "name": "stderr",
     "output_type": "stream",
     "text": [
      "ERROR:root:An error occurred while processing faces: Given groups=1, weight of size [32, 3, 3, 3], expected input[1, 15, 160, 160] to have 3 channels, but got 15 channels instead\n",
      "INFO:root:Video length: 342 frames\n"
     ]
    },
    {
     "name": "stdout",
     "output_type": "stream",
     "text": [
      "152\n",
      "(500, 666, 3)\n",
      "1\n",
      "228\n",
      "(500, 666, 3)\n",
      "1\n",
      "304\n",
      "(500, 666, 3)\n",
      "1\n",
      "0\n",
      "(468, 842, 3)\n",
      "1\n",
      "85\n",
      "(468, 842, 3)\n",
      "1\n"
     ]
    },
    {
     "name": "stderr",
     "output_type": "stream",
     "text": [
      "ERROR:root:An error occurred while processing faces: Given groups=1, weight of size [32, 3, 3, 3], expected input[1, 15, 160, 160] to have 3 channels, but got 15 channels instead\n",
      "INFO:root:Video length: 331 frames\n"
     ]
    },
    {
     "name": "stdout",
     "output_type": "stream",
     "text": [
      "170\n",
      "(468, 842, 3)\n",
      "1\n",
      "255\n",
      "(468, 842, 3)\n",
      "1\n",
      "341\n",
      "(468, 842, 3)\n",
      "1\n",
      "0\n",
      "(472, 848, 3)\n",
      "1\n",
      "82\n",
      "(472, 848, 3)\n",
      "1\n"
     ]
    },
    {
     "name": "stderr",
     "output_type": "stream",
     "text": [
      "ERROR:root:An error occurred while processing faces: Given groups=1, weight of size [32, 3, 3, 3], expected input[1, 15, 160, 160] to have 3 channels, but got 15 channels instead\n",
      "INFO:root:Video length: 479 frames\n"
     ]
    },
    {
     "name": "stdout",
     "output_type": "stream",
     "text": [
      "165\n",
      "(472, 848, 3)\n",
      "1\n",
      "247\n",
      "(472, 848, 3)\n",
      "1\n",
      "330\n",
      "(472, 848, 3)\n",
      "1\n",
      "0\n",
      "(472, 850, 3)\n",
      "1\n",
      "119\n",
      "(472, 850, 3)\n",
      "1\n"
     ]
    },
    {
     "name": "stderr",
     "output_type": "stream",
     "text": [
      "ERROR:root:An error occurred while processing faces: Given groups=1, weight of size [32, 3, 3, 3], expected input[1, 15, 160, 160] to have 3 channels, but got 15 channels instead\n",
      "INFO:root:Video length: 315 frames\n"
     ]
    },
    {
     "name": "stdout",
     "output_type": "stream",
     "text": [
      "239\n",
      "(472, 850, 3)\n",
      "1\n",
      "358\n",
      "(472, 850, 3)\n",
      "1\n",
      "478\n",
      "(472, 850, 3)\n",
      "1\n",
      "0\n",
      "(476, 856, 3)\n",
      "1\n",
      "78\n",
      "(476, 856, 3)\n",
      "1\n"
     ]
    },
    {
     "name": "stderr",
     "output_type": "stream",
     "text": [
      "ERROR:root:An error occurred while processing faces: Given groups=1, weight of size [32, 3, 3, 3], expected input[1, 15, 160, 160] to have 3 channels, but got 15 channels instead\n",
      "INFO:root:Video length: 466 frames\n"
     ]
    },
    {
     "name": "stdout",
     "output_type": "stream",
     "text": [
      "157\n",
      "(476, 856, 3)\n",
      "1\n",
      "235\n",
      "(476, 856, 3)\n",
      "1\n",
      "314\n",
      "(476, 856, 3)\n",
      "1\n",
      "0\n",
      "(478, 856, 3)\n",
      "1\n",
      "116\n",
      "(478, 856, 3)\n",
      "1\n"
     ]
    },
    {
     "name": "stderr",
     "output_type": "stream",
     "text": [
      "ERROR:root:An error occurred while processing faces: Given groups=1, weight of size [32, 3, 3, 3], expected input[1, 15, 160, 160] to have 3 channels, but got 15 channels instead\n",
      "INFO:root:Video length: 441 frames\n"
     ]
    },
    {
     "name": "stdout",
     "output_type": "stream",
     "text": [
      "232\n",
      "(478, 856, 3)\n",
      "1\n",
      "348\n",
      "(478, 856, 3)\n",
      "1\n",
      "465\n",
      "(478, 856, 3)\n",
      "1\n",
      "0\n",
      "(466, 848, 3)\n",
      "1\n",
      "110\n",
      "(466, 848, 3)\n",
      "1\n"
     ]
    },
    {
     "name": "stderr",
     "output_type": "stream",
     "text": [
      "ERROR:root:An error occurred while processing faces: Given groups=1, weight of size [32, 3, 3, 3], expected input[1, 15, 160, 160] to have 3 channels, but got 15 channels instead\n",
      "INFO:root:Video length: 479 frames\n"
     ]
    },
    {
     "name": "stdout",
     "output_type": "stream",
     "text": [
      "220\n",
      "(466, 848, 3)\n",
      "1\n",
      "330\n",
      "(466, 848, 3)\n",
      "1\n",
      "440\n",
      "(466, 848, 3)\n",
      "1\n",
      "0\n",
      "(472, 850, 3)\n",
      "1\n",
      "119\n",
      "(472, 850, 3)\n",
      "1\n"
     ]
    },
    {
     "name": "stderr",
     "output_type": "stream",
     "text": [
      "ERROR:root:An error occurred while processing faces: Given groups=1, weight of size [32, 3, 3, 3], expected input[1, 15, 160, 160] to have 3 channels, but got 15 channels instead\n",
      "INFO:root:Video length: 469 frames\n"
     ]
    },
    {
     "name": "stdout",
     "output_type": "stream",
     "text": [
      "239\n",
      "(472, 850, 3)\n",
      "1\n",
      "358\n",
      "(472, 850, 3)\n",
      "1\n",
      "478\n",
      "(472, 850, 3)\n",
      "1\n",
      "0\n",
      "(500, 944, 3)\n",
      "1\n",
      "117\n",
      "(500, 944, 3)\n",
      "1\n"
     ]
    },
    {
     "name": "stderr",
     "output_type": "stream",
     "text": [
      "ERROR:root:An error occurred while processing faces: Given groups=1, weight of size [32, 3, 3, 3], expected input[1, 15, 160, 160] to have 3 channels, but got 15 channels instead\n",
      "INFO:root:Video length: 317 frames\n"
     ]
    },
    {
     "name": "stdout",
     "output_type": "stream",
     "text": [
      "234\n",
      "(500, 944, 3)\n",
      "1\n",
      "351\n",
      "(500, 944, 3)\n",
      "1\n",
      "468\n",
      "(500, 944, 3)\n",
      "1\n",
      "0\n",
      "(472, 848, 3)\n",
      "1\n",
      "79\n",
      "(472, 848, 3)\n",
      "1\n"
     ]
    },
    {
     "name": "stderr",
     "output_type": "stream",
     "text": [
      "ERROR:root:An error occurred while processing faces: Given groups=1, weight of size [32, 3, 3, 3], expected input[1, 15, 160, 160] to have 3 channels, but got 15 channels instead\n",
      "INFO:root:Video length: 272 frames\n"
     ]
    },
    {
     "name": "stdout",
     "output_type": "stream",
     "text": [
      "158\n",
      "(472, 848, 3)\n",
      "1\n",
      "237\n",
      "(472, 848, 3)\n",
      "1\n",
      "316\n",
      "(472, 848, 3)\n",
      "1\n",
      "0\n",
      "(500, 456, 3)\n",
      "1\n"
     ]
    },
    {
     "name": "stderr",
     "output_type": "stream",
     "text": [
      "ERROR:root:An error occurred while processing faces: Given groups=1, weight of size [32, 3, 3, 3], expected input[1, 15, 160, 160] to have 3 channels, but got 15 channels instead\n"
     ]
    },
    {
     "name": "stdout",
     "output_type": "stream",
     "text": [
      "67\n",
      "(500, 456, 3)\n",
      "1\n",
      "135\n",
      "(500, 456, 3)\n",
      "1\n",
      "203\n",
      "(500, 456, 3)\n",
      "1\n",
      "271\n",
      "(500, 456, 3)\n",
      "1\n"
     ]
    },
    {
     "name": "stderr",
     "output_type": "stream",
     "text": [
      "INFO:root:Video length: 364 frames\n"
     ]
    },
    {
     "name": "stdout",
     "output_type": "stream",
     "text": [
      "0\n",
      "(500, 944, 3)\n",
      "1\n",
      "90\n",
      "(500, 944, 3)\n",
      "1\n",
      "181\n",
      "(500, 944, 3)\n",
      "1\n",
      "272\n",
      "(500, 944, 3)\n",
      "1\n",
      "363\n",
      "(500, 944, 3)\n",
      "1\n"
     ]
    },
    {
     "name": "stderr",
     "output_type": "stream",
     "text": [
      "ERROR:root:An error occurred while processing faces: Given groups=1, weight of size [32, 3, 3, 3], expected input[1, 15, 160, 160] to have 3 channels, but got 15 channels instead\n",
      "INFO:root:Video length: 467 frames\n"
     ]
    },
    {
     "name": "stdout",
     "output_type": "stream",
     "text": [
      "0\n",
      "(500, 944, 3)\n",
      "1\n",
      "116\n",
      "(500, 944, 3)\n",
      "1\n",
      "233\n",
      "(500, 944, 3)\n",
      "1\n",
      "349\n",
      "(500, 944, 3)\n",
      "1\n",
      "466\n",
      "(500, 944, 3)\n",
      "1\n"
     ]
    },
    {
     "name": "stderr",
     "output_type": "stream",
     "text": [
      "ERROR:root:An error occurred while processing faces: Given groups=1, weight of size [32, 3, 3, 3], expected input[1, 15, 160, 160] to have 3 channels, but got 15 channels instead\n",
      "INFO:root:Video length: 458 frames\n"
     ]
    },
    {
     "name": "stdout",
     "output_type": "stream",
     "text": [
      "0\n",
      "(478, 856, 3)\n",
      "1\n",
      "114\n",
      "(478, 856, 3)\n",
      "1\n",
      "228\n",
      "(478, 856, 3)\n",
      "1\n"
     ]
    },
    {
     "name": "stderr",
     "output_type": "stream",
     "text": [
      "ERROR:root:An error occurred while processing faces: Given groups=1, weight of size [32, 3, 3, 3], expected input[1, 15, 160, 160] to have 3 channels, but got 15 channels instead\n",
      "INFO:root:Video length: 454 frames\n"
     ]
    },
    {
     "name": "stdout",
     "output_type": "stream",
     "text": [
      "342\n",
      "(478, 856, 3)\n",
      "1\n",
      "457\n",
      "(478, 856, 3)\n",
      "1\n",
      "0\n",
      "(478, 856, 3)\n",
      "1\n",
      "113\n",
      "(478, 856, 3)\n",
      "1\n"
     ]
    },
    {
     "name": "stderr",
     "output_type": "stream",
     "text": [
      "ERROR:root:An error occurred while processing faces: Given groups=1, weight of size [32, 3, 3, 3], expected input[1, 15, 160, 160] to have 3 channels, but got 15 channels instead\n",
      "INFO:root:Video length: 446 frames\n"
     ]
    },
    {
     "name": "stdout",
     "output_type": "stream",
     "text": [
      "226\n",
      "(478, 856, 3)\n",
      "1\n",
      "339\n",
      "(478, 856, 3)\n",
      "1\n",
      "453\n",
      "(478, 856, 3)\n",
      "1\n",
      "0\n",
      "(478, 856, 3)\n",
      "1\n",
      "111\n",
      "(478, 856, 3)\n",
      "1\n",
      "222\n",
      "(478, 856, 3)\n",
      "1\n",
      "333\n",
      "(478, 856, 3)\n",
      "1\n",
      "445\n",
      "(478, 856, 3)\n",
      "1\n"
     ]
    },
    {
     "name": "stderr",
     "output_type": "stream",
     "text": [
      "ERROR:root:An error occurred while processing faces: Given groups=1, weight of size [32, 3, 3, 3], expected input[1, 15, 160, 160] to have 3 channels, but got 15 channels instead\n",
      "INFO:root:Video length: 322 frames\n",
      "ERROR:root:An error occurred while processing faces: Given groups=1, weight of size [32, 3, 3, 3], expected input[1, 15, 160, 160] to have 3 channels, but got 15 channels instead\n",
      "INFO:root:Video length: 311 frames\n"
     ]
    },
    {
     "name": "stdout",
     "output_type": "stream",
     "text": [
      "0\n",
      "(500, 472, 3)\n",
      "1\n",
      "80\n",
      "(500, 472, 3)\n",
      "1\n",
      "160\n",
      "(500, 472, 3)\n",
      "1\n",
      "240\n",
      "(500, 472, 3)\n",
      "1\n",
      "321\n",
      "(500, 472, 3)\n",
      "1\n",
      "0\n",
      "(478, 856, 3)\n",
      "1\n"
     ]
    },
    {
     "name": "stderr",
     "output_type": "stream",
     "text": [
      "ERROR:root:An error occurred while processing faces: Given groups=1, weight of size [32, 3, 3, 3], expected input[1, 15, 160, 160] to have 3 channels, but got 15 channels instead\n",
      "INFO:root:Video length: 322 frames\n"
     ]
    },
    {
     "name": "stdout",
     "output_type": "stream",
     "text": [
      "77\n",
      "(478, 856, 3)\n",
      "1\n",
      "155\n",
      "(478, 856, 3)\n",
      "1\n",
      "232\n",
      "(478, 856, 3)\n",
      "1\n",
      "310\n",
      "(478, 856, 3)\n",
      "1\n",
      "0\n",
      "(478, 848, 3)\n",
      "1\n",
      "80\n",
      "(478, 848, 3)\n",
      "1\n"
     ]
    },
    {
     "name": "stderr",
     "output_type": "stream",
     "text": [
      "ERROR:root:An error occurred while processing faces: Given groups=1, weight of size [32, 3, 3, 3], expected input[1, 15, 160, 160] to have 3 channels, but got 15 channels instead\n",
      "INFO:root:Video length: 309 frames\n"
     ]
    },
    {
     "name": "stdout",
     "output_type": "stream",
     "text": [
      "160\n",
      "(478, 848, 3)\n",
      "1\n",
      "240\n",
      "(478, 848, 3)\n",
      "1\n",
      "321\n",
      "(478, 848, 3)\n",
      "1\n",
      "0\n",
      "(476, 846, 3)\n",
      "1\n",
      "77\n",
      "(476, 846, 3)\n",
      "1\n"
     ]
    },
    {
     "name": "stderr",
     "output_type": "stream",
     "text": [
      "ERROR:root:An error occurred while processing faces: Given groups=1, weight of size [32, 3, 3, 3], expected input[1, 15, 160, 160] to have 3 channels, but got 15 channels instead\n",
      "INFO:root:Video length: 314 frames\n"
     ]
    },
    {
     "name": "stdout",
     "output_type": "stream",
     "text": [
      "154\n",
      "(476, 846, 3)\n",
      "1\n",
      "231\n",
      "(476, 846, 3)\n",
      "1\n",
      "308\n",
      "(476, 846, 3)\n",
      "1\n",
      "0\n",
      "(478, 856, 3)\n",
      "1\n",
      "78\n",
      "(478, 856, 3)\n",
      "1\n"
     ]
    },
    {
     "name": "stderr",
     "output_type": "stream",
     "text": [
      "ERROR:root:An error occurred while processing faces: Given groups=1, weight of size [32, 3, 3, 3], expected input[1, 15, 160, 160] to have 3 channels, but got 15 channels instead\n",
      "INFO:root:Video length: 467 frames\n"
     ]
    },
    {
     "name": "stdout",
     "output_type": "stream",
     "text": [
      "156\n",
      "(478, 856, 3)\n",
      "1\n",
      "234\n",
      "(478, 856, 3)\n",
      "1\n",
      "313\n",
      "(478, 856, 3)\n",
      "1\n",
      "0\n",
      "(478, 856, 3)\n",
      "1\n",
      "116\n",
      "(478, 856, 3)\n",
      "1\n"
     ]
    },
    {
     "name": "stderr",
     "output_type": "stream",
     "text": [
      "ERROR:root:An error occurred while processing faces: Given groups=1, weight of size [32, 3, 3, 3], expected input[1, 15, 160, 160] to have 3 channels, but got 15 channels instead\n",
      "INFO:root:Video length: 266 frames\n"
     ]
    },
    {
     "name": "stdout",
     "output_type": "stream",
     "text": [
      "233\n",
      "(478, 856, 3)\n",
      "1\n",
      "349\n",
      "(478, 856, 3)\n",
      "1\n",
      "466\n",
      "(478, 856, 3)\n",
      "1\n",
      "0\n",
      "(466, 848, 3)\n",
      "1\n",
      "66\n",
      "(466, 848, 3)\n",
      "1\n"
     ]
    },
    {
     "name": "stderr",
     "output_type": "stream",
     "text": [
      "ERROR:root:An error occurred while processing faces: Given groups=1, weight of size [32, 3, 3, 3], expected input[1, 15, 160, 160] to have 3 channels, but got 15 channels instead\n",
      "INFO:root:Video length: 461 frames\n"
     ]
    },
    {
     "name": "stdout",
     "output_type": "stream",
     "text": [
      "132\n",
      "(466, 848, 3)\n",
      "1\n",
      "198\n",
      "(466, 848, 3)\n",
      "1\n",
      "265\n",
      "(466, 848, 3)\n",
      "1\n",
      "0\n",
      "(478, 856, 3)\n",
      "1\n",
      "115\n",
      "(478, 856, 3)\n",
      "1\n"
     ]
    },
    {
     "name": "stderr",
     "output_type": "stream",
     "text": [
      "ERROR:root:An error occurred while processing faces: Given groups=1, weight of size [32, 3, 3, 3], expected input[1, 15, 160, 160] to have 3 channels, but got 15 channels instead\n",
      "INFO:root:Video length: 459 frames\n"
     ]
    },
    {
     "name": "stdout",
     "output_type": "stream",
     "text": [
      "230\n",
      "(478, 856, 3)\n",
      "1\n",
      "345\n",
      "(478, 856, 3)\n",
      "1\n",
      "460\n",
      "(478, 856, 3)\n",
      "1\n",
      "0\n",
      "(478, 856, 3)\n",
      "1\n",
      "114\n",
      "(478, 856, 3)\n",
      "1\n"
     ]
    },
    {
     "name": "stderr",
     "output_type": "stream",
     "text": [
      "ERROR:root:An error occurred while processing faces: Given groups=1, weight of size [32, 3, 3, 3], expected input[1, 15, 160, 160] to have 3 channels, but got 15 channels instead\n",
      "INFO:root:Video length: 459 frames\n"
     ]
    },
    {
     "name": "stdout",
     "output_type": "stream",
     "text": [
      "229\n",
      "(478, 856, 3)\n",
      "1\n",
      "343\n",
      "(478, 856, 3)\n",
      "1\n",
      "458\n",
      "(478, 856, 3)\n",
      "1\n",
      "0\n",
      "(500, 944, 3)\n",
      "1\n",
      "114\n",
      "(500, 944, 3)\n",
      "1\n"
     ]
    },
    {
     "name": "stderr",
     "output_type": "stream",
     "text": [
      "ERROR:root:An error occurred while processing faces: Given groups=1, weight of size [32, 3, 3, 3], expected input[1, 15, 160, 160] to have 3 channels, but got 15 channels instead\n",
      "INFO:root:Video length: 311 frames\n"
     ]
    },
    {
     "name": "stdout",
     "output_type": "stream",
     "text": [
      "229\n",
      "(500, 944, 3)\n",
      "1\n",
      "343\n",
      "(500, 944, 3)\n",
      "1\n",
      "458\n",
      "(500, 944, 3)\n",
      "1\n",
      "0\n",
      "(474, 846, 3)\n",
      "1\n",
      "77\n",
      "(474, 846, 3)\n",
      "1\n"
     ]
    },
    {
     "name": "stderr",
     "output_type": "stream",
     "text": [
      "ERROR:root:An error occurred while processing faces: Given groups=1, weight of size [32, 3, 3, 3], expected input[1, 15, 160, 160] to have 3 channels, but got 15 channels instead\n",
      "INFO:root:Video length: 309 frames\n"
     ]
    },
    {
     "name": "stdout",
     "output_type": "stream",
     "text": [
      "155\n",
      "(474, 846, 3)\n",
      "1\n",
      "232\n",
      "(474, 846, 3)\n",
      "1\n",
      "310\n",
      "(474, 846, 3)\n",
      "1\n",
      "0\n",
      "(476, 846, 3)\n",
      "1\n",
      "77\n",
      "(476, 846, 3)\n",
      "1\n",
      "154\n",
      "(476, 846, 3)\n",
      "1\n"
     ]
    },
    {
     "name": "stderr",
     "output_type": "stream",
     "text": [
      "ERROR:root:An error occurred while processing faces: Given groups=1, weight of size [32, 3, 3, 3], expected input[1, 15, 160, 160] to have 3 channels, but got 15 channels instead\n",
      "INFO:root:Video length: 456 frames\n"
     ]
    },
    {
     "name": "stdout",
     "output_type": "stream",
     "text": [
      "231\n",
      "(476, 846, 3)\n",
      "1\n",
      "308\n",
      "(476, 846, 3)\n",
      "1\n",
      "0\n",
      "(472, 850, 3)\n",
      "1\n",
      "113\n",
      "(472, 850, 3)\n",
      "1\n",
      "227\n",
      "(472, 850, 3)\n",
      "1\n"
     ]
    },
    {
     "name": "stderr",
     "output_type": "stream",
     "text": [
      "ERROR:root:An error occurred while processing faces: Given groups=1, weight of size [32, 3, 3, 3], expected input[1, 15, 160, 160] to have 3 channels, but got 15 channels instead\n",
      "INFO:root:Video length: 310 frames\n"
     ]
    },
    {
     "name": "stdout",
     "output_type": "stream",
     "text": [
      "341\n",
      "(472, 850, 3)\n",
      "1\n",
      "455\n",
      "(472, 850, 3)\n",
      "1\n",
      "0\n",
      "(474, 846, 3)\n",
      "1\n",
      "77\n",
      "(474, 846, 3)\n",
      "1\n",
      "154\n",
      "(474, 846, 3)\n",
      "1\n"
     ]
    },
    {
     "name": "stderr",
     "output_type": "stream",
     "text": [
      "ERROR:root:An error occurred while processing faces: Given groups=1, weight of size [32, 3, 3, 3], expected input[1, 15, 160, 160] to have 3 channels, but got 15 channels instead\n",
      "INFO:root:Video length: 457 frames\n"
     ]
    },
    {
     "name": "stdout",
     "output_type": "stream",
     "text": [
      "231\n",
      "(474, 846, 3)\n",
      "1\n",
      "309\n",
      "(474, 846, 3)\n",
      "1\n",
      "0\n",
      "(478, 856, 3)\n",
      "1\n",
      "114\n",
      "(478, 856, 3)\n",
      "1\n",
      "228\n",
      "(478, 856, 3)\n",
      "1\n"
     ]
    },
    {
     "name": "stderr",
     "output_type": "stream",
     "text": [
      "ERROR:root:An error occurred while processing faces: Given groups=1, weight of size [32, 3, 3, 3], expected input[1, 15, 160, 160] to have 3 channels, but got 15 channels instead\n",
      "INFO:root:Video length: 338 frames\n"
     ]
    },
    {
     "name": "stdout",
     "output_type": "stream",
     "text": [
      "342\n",
      "(478, 856, 3)\n",
      "1\n",
      "456\n",
      "(478, 856, 3)\n",
      "1\n",
      "0\n",
      "(476, 850, 3)\n",
      "1\n",
      "84\n",
      "(476, 850, 3)\n",
      "1\n",
      "168\n",
      "(476, 850, 3)\n",
      "1\n",
      "252\n",
      "(476, 850, 3)\n",
      "1\n"
     ]
    },
    {
     "name": "stderr",
     "output_type": "stream",
     "text": [
      "ERROR:root:An error occurred while processing faces: Given groups=1, weight of size [32, 3, 3, 3], expected input[1, 15, 160, 160] to have 3 channels, but got 15 channels instead\n",
      "INFO:root:Video length: 228 frames\n"
     ]
    },
    {
     "name": "stdout",
     "output_type": "stream",
     "text": [
      "337\n",
      "(476, 850, 3)\n",
      "1\n",
      "0\n",
      "(466, 848, 3)\n",
      "1\n",
      "56\n",
      "(466, 848, 3)\n",
      "1\n",
      "113\n",
      "(466, 848, 3)\n",
      "1\n",
      "170\n",
      "(466, 848, 3)\n",
      "1\n",
      "227\n",
      "(466, 848, 3)\n",
      "1\n"
     ]
    },
    {
     "name": "stderr",
     "output_type": "stream",
     "text": [
      "ERROR:root:An error occurred while processing faces: Given groups=1, weight of size [32, 3, 3, 3], expected input[1, 15, 160, 160] to have 3 channels, but got 15 channels instead\n",
      "INFO:root:Video length: 314 frames\n"
     ]
    },
    {
     "name": "stdout",
     "output_type": "stream",
     "text": [
      "0\n",
      "(478, 856, 3)\n",
      "1\n",
      "78\n",
      "(478, 856, 3)\n",
      "1\n",
      "156\n",
      "(478, 856, 3)\n",
      "1\n",
      "234\n",
      "(478, 856, 3)\n",
      "1\n",
      "313\n",
      "(478, 856, 3)\n",
      "1\n"
     ]
    },
    {
     "name": "stderr",
     "output_type": "stream",
     "text": [
      "ERROR:root:An error occurred while processing faces: Given groups=1, weight of size [32, 3, 3, 3], expected input[1, 15, 160, 160] to have 3 channels, but got 15 channels instead\n",
      "INFO:root:Video length: 328 frames\n"
     ]
    },
    {
     "name": "stdout",
     "output_type": "stream",
     "text": [
      "0\n",
      "(472, 848, 3)\n",
      "1\n",
      "81\n",
      "(472, 848, 3)\n",
      "1\n",
      "163\n",
      "(472, 848, 3)\n",
      "1\n",
      "245\n",
      "(472, 848, 3)\n",
      "1\n",
      "327\n",
      "(472, 848, 3)\n",
      "1\n"
     ]
    },
    {
     "name": "stderr",
     "output_type": "stream",
     "text": [
      "ERROR:root:An error occurred while processing faces: Given groups=1, weight of size [32, 3, 3, 3], expected input[1, 15, 160, 160] to have 3 channels, but got 15 channels instead\n",
      "INFO:root:Video length: 414 frames\n"
     ]
    },
    {
     "name": "stdout",
     "output_type": "stream",
     "text": [
      "0\n",
      "(478, 856, 3)\n",
      "1\n",
      "103\n",
      "(478, 856, 3)\n",
      "1\n",
      "206\n",
      "(478, 856, 3)\n",
      "1\n",
      "309\n",
      "(478, 856, 3)\n",
      "1\n",
      "413\n",
      "(478, 856, 3)\n",
      "1\n"
     ]
    },
    {
     "name": "stderr",
     "output_type": "stream",
     "text": [
      "ERROR:root:An error occurred while processing faces: Given groups=1, weight of size [32, 3, 3, 3], expected input[1, 15, 160, 160] to have 3 channels, but got 15 channels instead\n",
      "INFO:root:Video length: 475 frames\n"
     ]
    },
    {
     "name": "stdout",
     "output_type": "stream",
     "text": [
      "0\n",
      "(472, 850, 3)\n",
      "1\n",
      "118\n",
      "(472, 850, 3)\n",
      "1\n",
      "237\n",
      "(472, 850, 3)\n",
      "1\n",
      "355\n",
      "(472, 850, 3)\n",
      "1\n",
      "474\n",
      "(472, 850, 3)\n",
      "1\n"
     ]
    },
    {
     "name": "stderr",
     "output_type": "stream",
     "text": [
      "ERROR:root:An error occurred while processing faces: Given groups=1, weight of size [32, 3, 3, 3], expected input[1, 15, 160, 160] to have 3 channels, but got 15 channels instead\n",
      "INFO:root:Video length: 297 frames\n"
     ]
    },
    {
     "name": "stdout",
     "output_type": "stream",
     "text": [
      "0\n",
      "(478, 856, 3)\n",
      "1\n",
      "74\n",
      "(478, 856, 3)\n",
      "1\n",
      "148\n",
      "(478, 856, 3)\n",
      "1\n",
      "222\n",
      "(478, 856, 3)\n",
      "1\n",
      "296\n",
      "(478, 856, 3)\n",
      "1\n"
     ]
    },
    {
     "name": "stderr",
     "output_type": "stream",
     "text": [
      "ERROR:root:An error occurred while processing faces: Given groups=1, weight of size [32, 3, 3, 3], expected input[1, 15, 160, 160] to have 3 channels, but got 15 channels instead\n",
      "INFO:root:Video length: 364 frames\n"
     ]
    },
    {
     "name": "stdout",
     "output_type": "stream",
     "text": [
      "0\n",
      "(500, 942, 3)\n",
      "1\n",
      "90\n",
      "(500, 942, 3)\n",
      "1\n",
      "181\n",
      "(500, 942, 3)\n",
      "1\n",
      "272\n",
      "(500, 942, 3)\n",
      "1\n",
      "363\n",
      "(500, 942, 3)\n",
      "1\n"
     ]
    },
    {
     "name": "stderr",
     "output_type": "stream",
     "text": [
      "ERROR:root:An error occurred while processing faces: Given groups=1, weight of size [32, 3, 3, 3], expected input[1, 15, 160, 160] to have 3 channels, but got 15 channels instead\n",
      "INFO:root:Video length: 446 frames\n"
     ]
    },
    {
     "name": "stdout",
     "output_type": "stream",
     "text": [
      "0\n",
      "(466, 848, 3)\n",
      "1\n",
      "111\n",
      "(466, 848, 3)\n",
      "1\n",
      "222\n",
      "(466, 848, 3)\n",
      "1\n",
      "333\n",
      "(466, 848, 3)\n",
      "1\n",
      "445\n",
      "(466, 848, 3)\n",
      "1\n"
     ]
    },
    {
     "name": "stderr",
     "output_type": "stream",
     "text": [
      "ERROR:root:An error occurred while processing faces: Given groups=1, weight of size [32, 3, 3, 3], expected input[1, 15, 160, 160] to have 3 channels, but got 15 channels instead\n",
      "INFO:root:Video length: 336 frames\n",
      "ERROR:root:An error occurred while processing faces: Given groups=1, weight of size [32, 3, 3, 3], expected input[1, 15, 160, 160] to have 3 channels, but got 15 channels instead\n",
      "INFO:root:Video length: 310 frames\n"
     ]
    },
    {
     "name": "stdout",
     "output_type": "stream",
     "text": [
      "0\n",
      "(474, 526, 3)\n",
      "1\n",
      "83\n",
      "(474, 526, 3)\n",
      "1\n",
      "167\n",
      "(474, 526, 3)\n",
      "1\n",
      "251\n",
      "(474, 526, 3)\n",
      "1\n",
      "335\n",
      "(474, 526, 3)\n",
      "1\n",
      "0\n",
      "(476, 850, 3)\n",
      "1\n"
     ]
    },
    {
     "name": "stderr",
     "output_type": "stream",
     "text": [
      "ERROR:root:An error occurred while processing faces: Given groups=1, weight of size [32, 3, 3, 3], expected input[1, 15, 160, 160] to have 3 channels, but got 15 channels instead\n",
      "INFO:root:Video length: 458 frames\n"
     ]
    },
    {
     "name": "stdout",
     "output_type": "stream",
     "text": [
      "77\n",
      "(476, 850, 3)\n",
      "1\n",
      "154\n",
      "(476, 850, 3)\n",
      "1\n",
      "231\n",
      "(476, 850, 3)\n",
      "1\n",
      "309\n",
      "(476, 850, 3)\n",
      "1\n",
      "0\n",
      "(500, 488, 3)\n",
      "1\n",
      "114\n",
      "(500, 488, 3)\n",
      "1\n"
     ]
    },
    {
     "name": "stderr",
     "output_type": "stream",
     "text": [
      "ERROR:root:An error occurred while processing faces: Given groups=1, weight of size [32, 3, 3, 3], expected input[1, 15, 160, 160] to have 3 channels, but got 15 channels instead\n",
      "INFO:root:Video length: 310 frames\n"
     ]
    },
    {
     "name": "stdout",
     "output_type": "stream",
     "text": [
      "228\n",
      "(500, 488, 3)\n",
      "1\n",
      "342\n",
      "(500, 488, 3)\n",
      "1\n",
      "457\n",
      "(500, 488, 3)\n",
      "1\n",
      "0\n",
      "(466, 744, 3)\n",
      "1\n",
      "77\n",
      "(466, 744, 3)\n",
      "1\n"
     ]
    },
    {
     "name": "stderr",
     "output_type": "stream",
     "text": [
      "ERROR:root:An error occurred while processing faces: Given groups=1, weight of size [32, 3, 3, 3], expected input[1, 15, 160, 160] to have 3 channels, but got 15 channels instead\n",
      "INFO:root:Video length: 400 frames\n"
     ]
    },
    {
     "name": "stdout",
     "output_type": "stream",
     "text": [
      "154\n",
      "(466, 744, 3)\n",
      "1\n",
      "231\n",
      "(466, 744, 3)\n",
      "1\n",
      "309\n",
      "(466, 744, 3)\n",
      "1\n",
      "0\n",
      "(500, 494, 3)\n",
      "1\n",
      "99\n",
      "(500, 494, 3)\n",
      "1\n",
      "199\n",
      "(500, 494, 3)\n",
      "1\n"
     ]
    },
    {
     "name": "stderr",
     "output_type": "stream",
     "text": [
      "ERROR:root:An error occurred while processing faces: Given groups=1, weight of size [32, 3, 3, 3], expected input[1, 15, 160, 160] to have 3 channels, but got 15 channels instead\n",
      "INFO:root:Video length: 350 frames\n"
     ]
    },
    {
     "name": "stdout",
     "output_type": "stream",
     "text": [
      "299\n",
      "(500, 494, 3)\n",
      "1\n",
      "399\n",
      "(500, 494, 3)\n",
      "1\n",
      "0\n",
      "(500, 944, 3)\n",
      "1\n",
      "87\n",
      "(500, 944, 3)\n",
      "1\n",
      "174\n",
      "(500, 944, 3)\n",
      "1\n"
     ]
    },
    {
     "name": "stderr",
     "output_type": "stream",
     "text": [
      "ERROR:root:An error occurred while processing faces: Given groups=1, weight of size [32, 3, 3, 3], expected input[1, 15, 160, 160] to have 3 channels, but got 15 channels instead\n",
      "INFO:root:Video length: 349 frames\n"
     ]
    },
    {
     "name": "stdout",
     "output_type": "stream",
     "text": [
      "261\n",
      "(500, 944, 3)\n",
      "1\n",
      "349\n",
      "(500, 944, 3)\n",
      "1\n",
      "0\n",
      "(478, 856, 3)\n",
      "1\n",
      "87\n",
      "(478, 856, 3)\n",
      "1\n",
      "174\n",
      "(478, 856, 3)\n",
      "1\n"
     ]
    },
    {
     "name": "stderr",
     "output_type": "stream",
     "text": [
      "ERROR:root:An error occurred while processing faces: Given groups=1, weight of size [32, 3, 3, 3], expected input[1, 15, 160, 160] to have 3 channels, but got 15 channels instead\n",
      "INFO:root:Video length: 494 frames\n"
     ]
    },
    {
     "name": "stdout",
     "output_type": "stream",
     "text": [
      "261\n",
      "(478, 856, 3)\n",
      "1\n",
      "348\n",
      "(478, 856, 3)\n",
      "1\n",
      "0\n",
      "(478, 856, 3)\n",
      "1\n",
      "123\n",
      "(478, 856, 3)\n",
      "1\n",
      "246\n",
      "(478, 856, 3)\n",
      "1\n"
     ]
    },
    {
     "name": "stderr",
     "output_type": "stream",
     "text": [
      "ERROR:root:An error occurred while processing faces: Given groups=1, weight of size [32, 3, 3, 3], expected input[1, 15, 160, 160] to have 3 channels, but got 15 channels instead\n",
      "INFO:root:Video length: 401 frames\n"
     ]
    },
    {
     "name": "stdout",
     "output_type": "stream",
     "text": [
      "369\n",
      "(478, 856, 3)\n",
      "1\n",
      "493\n",
      "(478, 856, 3)\n",
      "1\n",
      "0\n",
      "(500, 944, 3)\n",
      "1\n",
      "100\n",
      "(500, 944, 3)\n",
      "1\n",
      "200\n",
      "(500, 944, 3)\n",
      "1\n"
     ]
    },
    {
     "name": "stderr",
     "output_type": "stream",
     "text": [
      "ERROR:root:An error occurred while processing faces: Given groups=1, weight of size [32, 3, 3, 3], expected input[1, 15, 160, 160] to have 3 channels, but got 15 channels instead\n",
      "INFO:root:Video length: 458 frames\n"
     ]
    },
    {
     "name": "stdout",
     "output_type": "stream",
     "text": [
      "300\n",
      "(500, 944, 3)\n",
      "1\n",
      "400\n",
      "(500, 944, 3)\n",
      "1\n",
      "0\n",
      "(500, 488, 3)\n",
      "1\n",
      "114\n",
      "(500, 488, 3)\n",
      "1\n",
      "228\n",
      "(500, 488, 3)\n",
      "1\n",
      "342\n",
      "(500, 488, 3)\n",
      "1\n"
     ]
    },
    {
     "name": "stderr",
     "output_type": "stream",
     "text": [
      "ERROR:root:An error occurred while processing faces: Given groups=1, weight of size [32, 3, 3, 3], expected input[1, 15, 160, 160] to have 3 channels, but got 15 channels instead\n",
      "INFO:root:Video length: 334 frames\n"
     ]
    },
    {
     "name": "stdout",
     "output_type": "stream",
     "text": [
      "457\n",
      "(500, 488, 3)\n",
      "1\n",
      "0\n",
      "(500, 666, 3)\n",
      "1\n",
      "83\n",
      "(500, 666, 3)\n",
      "1\n",
      "166\n",
      "(500, 666, 3)\n",
      "1\n",
      "249\n",
      "(500, 666, 3)\n",
      "1\n",
      "333\n",
      "(500, 666, 3)\n",
      "1\n"
     ]
    },
    {
     "name": "stderr",
     "output_type": "stream",
     "text": [
      "ERROR:root:An error occurred while processing faces: Given groups=1, weight of size [32, 3, 3, 3], expected input[1, 15, 160, 160] to have 3 channels, but got 15 channels instead\n",
      "INFO:root:Video length: 428 frames\n"
     ]
    },
    {
     "name": "stdout",
     "output_type": "stream",
     "text": [
      "0\n",
      "(468, 544, 3)\n",
      "1\n",
      "106\n",
      "(468, 544, 3)\n",
      "1\n",
      "213\n",
      "(468, 544, 3)\n",
      "1\n",
      "320\n",
      "(468, 544, 3)\n",
      "1\n",
      "427\n",
      "(468, 544, 3)\n",
      "1\n"
     ]
    },
    {
     "name": "stderr",
     "output_type": "stream",
     "text": [
      "ERROR:root:An error occurred while processing faces: Given groups=1, weight of size [32, 3, 3, 3], expected input[1, 15, 160, 160] to have 3 channels, but got 15 channels instead\n",
      "INFO:root:Video length: 372 frames\n"
     ]
    },
    {
     "name": "stdout",
     "output_type": "stream",
     "text": [
      "0\n",
      "(500, 944, 3)\n",
      "1\n",
      "92\n",
      "(500, 944, 3)\n",
      "1\n",
      "185\n",
      "(500, 944, 3)\n",
      "1\n",
      "278\n",
      "(500, 944, 3)\n",
      "1\n"
     ]
    },
    {
     "name": "stderr",
     "output_type": "stream",
     "text": [
      "ERROR:root:An error occurred while processing faces: Given groups=1, weight of size [32, 3, 3, 3], expected input[1, 15, 160, 160] to have 3 channels, but got 15 channels instead\n",
      "INFO:root:Video length: 323 frames\n"
     ]
    },
    {
     "name": "stdout",
     "output_type": "stream",
     "text": [
      "371\n",
      "(500, 944, 3)\n",
      "1\n",
      "0\n",
      "(472, 850, 3)\n",
      "1\n",
      "80\n",
      "(472, 850, 3)\n",
      "1\n",
      "161\n",
      "(472, 850, 3)\n",
      "1\n",
      "241\n",
      "(472, 850, 3)\n",
      "1\n",
      "322\n",
      "(472, 850, 3)\n",
      "1\n"
     ]
    },
    {
     "name": "stderr",
     "output_type": "stream",
     "text": [
      "ERROR:root:An error occurred while processing faces: Given groups=1, weight of size [32, 3, 3, 3], expected input[1, 15, 160, 160] to have 3 channels, but got 15 channels instead\n",
      "INFO:root:Video length: 477 frames\n",
      "ERROR:root:An error occurred while processing faces: Given groups=1, weight of size [32, 3, 3, 3], expected input[1, 15, 160, 160] to have 3 channels, but got 15 channels instead\n"
     ]
    },
    {
     "name": "stdout",
     "output_type": "stream",
     "text": [
      "0\n",
      "(478, 856, 3)\n",
      "1\n",
      "119\n",
      "(478, 856, 3)\n",
      "1\n",
      "238\n",
      "(478, 856, 3)\n",
      "1\n",
      "357\n",
      "(478, 856, 3)\n",
      "1\n",
      "476\n",
      "(478, 856, 3)\n",
      "1\n"
     ]
    },
    {
     "name": "stderr",
     "output_type": "stream",
     "text": [
      "INFO:root:Video length: 380 frames\n"
     ]
    },
    {
     "name": "stdout",
     "output_type": "stream",
     "text": [
      "0\n",
      "(500, 942, 3)\n",
      "1\n",
      "94\n",
      "(500, 942, 3)\n",
      "1\n",
      "189\n",
      "(500, 942, 3)\n",
      "1\n",
      "284\n",
      "(500, 942, 3)\n",
      "1\n",
      "379\n",
      "(500, 942, 3)\n",
      "1\n"
     ]
    },
    {
     "name": "stderr",
     "output_type": "stream",
     "text": [
      "ERROR:root:An error occurred while processing faces: Given groups=1, weight of size [32, 3, 3, 3], expected input[1, 15, 160, 160] to have 3 channels, but got 15 channels instead\n",
      "INFO:root:Video length: 327 frames\n",
      "ERROR:root:An error occurred while processing faces: Given groups=1, weight of size [32, 3, 3, 3], expected input[1, 15, 160, 160] to have 3 channels, but got 15 channels instead\n",
      "INFO:root:Video length: 442 frames\n"
     ]
    },
    {
     "name": "stdout",
     "output_type": "stream",
     "text": [
      "0\n",
      "(432, 856, 3)\n",
      "1\n",
      "81\n",
      "(432, 856, 3)\n",
      "1\n",
      "163\n",
      "(432, 856, 3)\n",
      "1\n",
      "244\n",
      "(432, 856, 3)\n",
      "1\n",
      "326\n",
      "(432, 856, 3)\n",
      "1\n",
      "0\n",
      "(500, 944, 3)\n",
      "1\n",
      "110\n",
      "(500, 944, 3)\n",
      "1\n",
      "220\n",
      "(500, 944, 3)\n",
      "1\n",
      "330\n",
      "(500, 944, 3)\n",
      "1\n",
      "441\n",
      "(500, 944, 3)\n",
      "1\n"
     ]
    },
    {
     "name": "stderr",
     "output_type": "stream",
     "text": [
      "ERROR:root:An error occurred while processing faces: Given groups=1, weight of size [32, 3, 3, 3], expected input[1, 15, 160, 160] to have 3 channels, but got 15 channels instead\n",
      "INFO:root:Video length: 349 frames\n"
     ]
    },
    {
     "name": "stdout",
     "output_type": "stream",
     "text": [
      "0\n",
      "(472, 850, 3)\n",
      "1\n",
      "87\n",
      "(472, 850, 3)\n",
      "1\n",
      "174\n",
      "(472, 850, 3)\n",
      "1\n",
      "261\n",
      "(472, 850, 3)\n",
      "1\n",
      "348\n",
      "(472, 850, 3)\n",
      "1\n"
     ]
    },
    {
     "name": "stderr",
     "output_type": "stream",
     "text": [
      "ERROR:root:An error occurred while processing faces: Given groups=1, weight of size [32, 3, 3, 3], expected input[1, 15, 160, 160] to have 3 channels, but got 15 channels instead\n",
      "INFO:root:Video length: 338 frames\n",
      "ERROR:root:An error occurred while processing faces: Given groups=1, weight of size [32, 3, 3, 3], expected input[1, 15, 160, 160] to have 3 channels, but got 15 channels instead\n"
     ]
    },
    {
     "name": "stdout",
     "output_type": "stream",
     "text": [
      "0\n",
      "(472, 844, 3)\n",
      "1\n",
      "84\n",
      "(472, 844, 3)\n",
      "1\n",
      "168\n",
      "(472, 844, 3)\n",
      "1\n",
      "252\n",
      "(472, 844, 3)\n",
      "1\n",
      "337\n",
      "(472, 844, 3)\n",
      "1\n"
     ]
    },
    {
     "name": "stderr",
     "output_type": "stream",
     "text": [
      "INFO:root:Video length: 224 frames\n"
     ]
    },
    {
     "name": "stdout",
     "output_type": "stream",
     "text": [
      "0\n",
      "(500, 950, 3)\n",
      "1\n",
      "55\n",
      "(500, 950, 3)\n",
      "1\n",
      "111\n",
      "(500, 950, 3)\n",
      "1\n",
      "167\n",
      "(500, 950, 3)\n",
      "1\n",
      "223\n",
      "(500, 950, 3)\n",
      "1\n"
     ]
    },
    {
     "name": "stderr",
     "output_type": "stream",
     "text": [
      "ERROR:root:An error occurred while processing faces: Given groups=1, weight of size [32, 3, 3, 3], expected input[1, 15, 160, 160] to have 3 channels, but got 15 channels instead\n",
      "INFO:root:Video length: 455 frames\n",
      "ERROR:root:An error occurred while processing faces: Given groups=1, weight of size [32, 3, 3, 3], expected input[1, 15, 160, 160] to have 3 channels, but got 15 channels instead\n"
     ]
    },
    {
     "name": "stdout",
     "output_type": "stream",
     "text": [
      "0\n",
      "(478, 856, 3)\n",
      "1\n",
      "113\n",
      "(478, 856, 3)\n",
      "1\n",
      "227\n",
      "(478, 856, 3)\n",
      "1\n",
      "340\n",
      "(478, 856, 3)\n",
      "1\n",
      "454\n",
      "(478, 856, 3)\n",
      "1\n"
     ]
    },
    {
     "name": "stderr",
     "output_type": "stream",
     "text": [
      "INFO:root:Video length: 306 frames\n"
     ]
    },
    {
     "name": "stdout",
     "output_type": "stream",
     "text": [
      "0\n",
      "(476, 856, 3)\n",
      "1\n",
      "76\n",
      "(476, 856, 3)\n",
      "1\n",
      "152\n",
      "(476, 856, 3)\n",
      "1\n",
      "228\n",
      "(476, 856, 3)\n",
      "1\n"
     ]
    },
    {
     "name": "stderr",
     "output_type": "stream",
     "text": [
      "ERROR:root:An error occurred while processing faces: Given groups=1, weight of size [32, 3, 3, 3], expected input[1, 15, 160, 160] to have 3 channels, but got 15 channels instead\n",
      "INFO:root:Video length: 365 frames\n"
     ]
    },
    {
     "name": "stdout",
     "output_type": "stream",
     "text": [
      "305\n",
      "(476, 856, 3)\n",
      "1\n",
      "0\n",
      "(472, 850, 3)\n",
      "1\n",
      "91\n",
      "(472, 850, 3)\n",
      "1\n",
      "182\n",
      "(472, 850, 3)\n",
      "1\n",
      "273\n",
      "(472, 850, 3)\n",
      "1\n",
      "364\n",
      "(472, 850, 3)\n"
     ]
    },
    {
     "name": "stderr",
     "output_type": "stream",
     "text": [
      "ERROR:root:An error occurred while processing faces: Given groups=1, weight of size [32, 3, 3, 3], expected input[1, 15, 160, 160] to have 3 channels, but got 15 channels instead\n",
      "INFO:root:Video length: 186 frames\n"
     ]
    },
    {
     "name": "stdout",
     "output_type": "stream",
     "text": [
      "1\n",
      "0\n",
      "(476, 846, 3)\n",
      "1\n",
      "46\n",
      "(476, 846, 3)\n",
      "1\n",
      "92\n",
      "(476, 846, 3)\n",
      "1\n",
      "138\n",
      "(476, 846, 3)\n",
      "1\n",
      "185\n",
      "(476, 846, 3)\n",
      "1\n"
     ]
    },
    {
     "name": "stderr",
     "output_type": "stream",
     "text": [
      "ERROR:root:An error occurred while processing faces: Given groups=1, weight of size [32, 3, 3, 3], expected input[1, 15, 160, 160] to have 3 channels, but got 15 channels instead\n",
      "INFO:root:Video length: 491 frames\n"
     ]
    },
    {
     "name": "stdout",
     "output_type": "stream",
     "text": [
      "0\n",
      "(500, 944, 3)\n",
      "1\n",
      "122\n",
      "(500, 944, 3)\n",
      "1\n",
      "245\n",
      "(500, 944, 3)\n",
      "1\n",
      "367\n",
      "(500, 944, 3)\n",
      "1\n"
     ]
    },
    {
     "name": "stderr",
     "output_type": "stream",
     "text": [
      "ERROR:root:An error occurred while processing faces: Given groups=1, weight of size [32, 3, 3, 3], expected input[1, 15, 160, 160] to have 3 channels, but got 15 channels instead\n",
      "INFO:root:Video length: 448 frames\n"
     ]
    },
    {
     "name": "stdout",
     "output_type": "stream",
     "text": [
      "490\n",
      "(500, 944, 3)\n",
      "1\n",
      "0\n",
      "(500, 944, 3)\n",
      "1\n",
      "111\n",
      "(500, 944, 3)\n",
      "1\n",
      "223\n",
      "(500, 944, 3)\n",
      "1\n"
     ]
    },
    {
     "name": "stderr",
     "output_type": "stream",
     "text": [
      "ERROR:root:An error occurred while processing faces: Given groups=1, weight of size [32, 3, 3, 3], expected input[1, 15, 160, 160] to have 3 channels, but got 15 channels instead\n",
      "INFO:root:Video length: 448 frames\n"
     ]
    },
    {
     "name": "stdout",
     "output_type": "stream",
     "text": [
      "335\n",
      "(500, 944, 3)\n",
      "1\n",
      "447\n",
      "(500, 944, 3)\n",
      "1\n",
      "0\n",
      "(472, 850, 3)\n",
      "1\n",
      "111\n",
      "(472, 850, 3)\n",
      "1\n",
      "223\n",
      "(472, 850, 3)\n",
      "1\n"
     ]
    },
    {
     "name": "stderr",
     "output_type": "stream",
     "text": [
      "ERROR:root:An error occurred while processing faces: Given groups=1, weight of size [32, 3, 3, 3], expected input[1, 15, 160, 160] to have 3 channels, but got 15 channels instead\n",
      "INFO:root:Video length: 353 frames\n"
     ]
    },
    {
     "name": "stdout",
     "output_type": "stream",
     "text": [
      "335\n",
      "(472, 850, 3)\n",
      "1\n",
      "447\n",
      "(472, 850, 3)\n",
      "1\n",
      "0\n",
      "(478, 856, 3)\n",
      "1\n",
      "88\n",
      "(478, 856, 3)\n",
      "1\n",
      "176\n",
      "(478, 856, 3)\n",
      "1\n",
      "264\n",
      "(478, 856, 3)\n",
      "1\n"
     ]
    },
    {
     "name": "stderr",
     "output_type": "stream",
     "text": [
      "ERROR:root:An error occurred while processing faces: Given groups=1, weight of size [32, 3, 3, 3], expected input[1, 15, 160, 160] to have 3 channels, but got 15 channels instead\n",
      "INFO:root:Video length: 446 frames\n"
     ]
    },
    {
     "name": "stdout",
     "output_type": "stream",
     "text": [
      "352\n",
      "(478, 856, 3)\n",
      "1\n",
      "0\n",
      "(466, 848, 3)\n",
      "1\n",
      "111\n",
      "(466, 848, 3)\n",
      "1\n",
      "222\n",
      "(466, 848, 3)\n",
      "1\n",
      "333\n",
      "(466, 848, 3)\n",
      "1\n",
      "445\n",
      "(466, 848, 3)\n",
      "1\n"
     ]
    },
    {
     "name": "stderr",
     "output_type": "stream",
     "text": [
      "ERROR:root:An error occurred while processing faces: Given groups=1, weight of size [32, 3, 3, 3], expected input[1, 15, 160, 160] to have 3 channels, but got 15 channels instead\n",
      "INFO:root:Video length: 502 frames\n"
     ]
    },
    {
     "name": "stdout",
     "output_type": "stream",
     "text": [
      "0\n",
      "(478, 856, 3)\n",
      "1\n",
      "125\n",
      "(478, 856, 3)\n",
      "1\n",
      "250\n",
      "(478, 856, 3)\n",
      "1\n",
      "375\n",
      "(478, 856, 3)\n",
      "1\n"
     ]
    },
    {
     "name": "stderr",
     "output_type": "stream",
     "text": [
      "ERROR:root:An error occurred while processing faces: Given groups=1, weight of size [32, 3, 3, 3], expected input[1, 15, 160, 160] to have 3 channels, but got 15 channels instead\n",
      "INFO:root:Video length: 448 frames\n"
     ]
    },
    {
     "name": "stdout",
     "output_type": "stream",
     "text": [
      "501\n",
      "(478, 856, 3)\n",
      "1\n",
      "0\n",
      "(472, 850, 3)\n",
      "1\n",
      "111\n",
      "(472, 850, 3)\n",
      "1\n",
      "223\n",
      "(472, 850, 3)\n",
      "1\n",
      "335\n",
      "(472, 850, 3)\n",
      "1\n"
     ]
    },
    {
     "name": "stderr",
     "output_type": "stream",
     "text": [
      "ERROR:root:An error occurred while processing faces: Given groups=1, weight of size [32, 3, 3, 3], expected input[1, 15, 160, 160] to have 3 channels, but got 15 channels instead\n",
      "INFO:root:Video length: 425 frames\n"
     ]
    },
    {
     "name": "stdout",
     "output_type": "stream",
     "text": [
      "447\n",
      "(472, 850, 3)\n",
      "1\n",
      "0\n",
      "(500, 526, 3)\n",
      "1\n",
      "106\n",
      "(500, 526, 3)\n",
      "1\n",
      "212\n",
      "(500, 526, 3)\n",
      "1\n",
      "318\n",
      "(500, 526, 3)\n",
      "1\n"
     ]
    },
    {
     "name": "stderr",
     "output_type": "stream",
     "text": [
      "ERROR:root:An error occurred while processing faces: Given groups=1, weight of size [32, 3, 3, 3], expected input[1, 15, 160, 160] to have 3 channels, but got 15 channels instead\n",
      "INFO:root:Video length: 313 frames\n"
     ]
    },
    {
     "name": "stdout",
     "output_type": "stream",
     "text": [
      "424\n",
      "(500, 526, 3)\n",
      "1\n",
      "0\n",
      "(472, 848, 3)\n",
      "1\n",
      "78\n",
      "(472, 848, 3)\n",
      "1\n",
      "156\n",
      "(472, 848, 3)\n",
      "1\n",
      "234\n",
      "(472, 848, 3)\n",
      "1\n",
      "312\n",
      "(472, 848, 3)\n",
      "1\n"
     ]
    },
    {
     "name": "stderr",
     "output_type": "stream",
     "text": [
      "ERROR:root:An error occurred while processing faces: Given groups=1, weight of size [32, 3, 3, 3], expected input[1, 15, 160, 160] to have 3 channels, but got 15 channels instead\n",
      "INFO:root:Video length: 455 frames\n"
     ]
    },
    {
     "name": "stdout",
     "output_type": "stream",
     "text": [
      "0\n",
      "(472, 850, 3)\n",
      "1\n",
      "113\n",
      "(472, 850, 3)\n",
      "1\n",
      "227\n",
      "(472, 850, 3)\n",
      "1\n",
      "340\n",
      "(472, 850, 3)\n",
      "1\n",
      "454\n",
      "(472, 850, 3)\n",
      "1\n"
     ]
    },
    {
     "name": "stderr",
     "output_type": "stream",
     "text": [
      "ERROR:root:An error occurred while processing faces: Given groups=1, weight of size [32, 3, 3, 3], expected input[1, 15, 160, 160] to have 3 channels, but got 15 channels instead\n",
      "INFO:root:Video length: 449 frames\n",
      "ERROR:root:An error occurred while processing faces: Given groups=1, weight of size [32, 3, 3, 3], expected input[1, 15, 160, 160] to have 3 channels, but got 15 channels instead\n"
     ]
    },
    {
     "name": "stdout",
     "output_type": "stream",
     "text": [
      "0\n",
      "(478, 856, 3)\n",
      "1\n",
      "112\n",
      "(478, 856, 3)\n",
      "1\n",
      "224\n",
      "(478, 856, 3)\n",
      "1\n",
      "336\n",
      "(478, 856, 3)\n",
      "1\n",
      "448\n",
      "(478, 856, 3)\n",
      "1\n"
     ]
    },
    {
     "name": "stderr",
     "output_type": "stream",
     "text": [
      "INFO:root:Video length: 585 frames\n"
     ]
    },
    {
     "name": "stdout",
     "output_type": "stream",
     "text": [
      "0\n",
      "(478, 856, 3)\n",
      "1\n",
      "146\n",
      "(478, 856, 3)\n",
      "1\n",
      "292\n",
      "(478, 856, 3)\n",
      "1\n",
      "438\n",
      "(478, 856, 3)\n",
      "1\n",
      "584\n",
      "(478, 856, 3)\n",
      "1\n"
     ]
    },
    {
     "name": "stderr",
     "output_type": "stream",
     "text": [
      "ERROR:root:An error occurred while processing faces: Given groups=1, weight of size [32, 3, 3, 3], expected input[1, 15, 160, 160] to have 3 channels, but got 15 channels instead\n",
      "INFO:root:Video length: 306 frames\n"
     ]
    },
    {
     "name": "stdout",
     "output_type": "stream",
     "text": [
      "0\n",
      "(464, 814, 3)\n",
      "1\n",
      "76\n",
      "(464, 814, 3)\n",
      "1\n",
      "152\n",
      "(464, 814, 3)\n",
      "1\n",
      "228\n",
      "(464, 814, 3)\n",
      "1\n",
      "305\n",
      "(464, 814, 3)\n",
      "1\n"
     ]
    },
    {
     "name": "stderr",
     "output_type": "stream",
     "text": [
      "ERROR:root:An error occurred while processing faces: Given groups=1, weight of size [32, 3, 3, 3], expected input[1, 15, 160, 160] to have 3 channels, but got 15 channels instead\n",
      "INFO:root:Video length: 502 frames\n"
     ]
    },
    {
     "name": "stdout",
     "output_type": "stream",
     "text": [
      "0\n",
      "(478, 856, 3)\n",
      "1\n",
      "125\n",
      "(478, 856, 3)\n",
      "1\n",
      "250\n",
      "(478, 856, 3)\n",
      "1\n",
      "375\n",
      "(478, 856, 3)\n",
      "1\n"
     ]
    },
    {
     "name": "stderr",
     "output_type": "stream",
     "text": [
      "ERROR:root:An error occurred while processing faces: Given groups=1, weight of size [32, 3, 3, 3], expected input[1, 15, 160, 160] to have 3 channels, but got 15 channels instead\n",
      "INFO:root:Video length: 451 frames\n"
     ]
    },
    {
     "name": "stdout",
     "output_type": "stream",
     "text": [
      "501\n",
      "(478, 856, 3)\n",
      "1\n",
      "0\n",
      "(478, 856, 3)\n",
      "1\n",
      "112\n",
      "(478, 856, 3)\n",
      "1\n",
      "225\n",
      "(478, 856, 3)\n",
      "1\n",
      "337\n",
      "(478, 856, 3)\n",
      "1\n"
     ]
    },
    {
     "name": "stderr",
     "output_type": "stream",
     "text": [
      "ERROR:root:An error occurred while processing faces: Given groups=1, weight of size [32, 3, 3, 3], expected input[1, 15, 160, 160] to have 3 channels, but got 15 channels instead\n",
      "INFO:root:Video length: 335 frames\n"
     ]
    },
    {
     "name": "stdout",
     "output_type": "stream",
     "text": [
      "450\n",
      "(478, 856, 3)\n",
      "1\n",
      "0\n",
      "(438, 750, 3)\n",
      "1\n",
      "83\n",
      "(438, 750, 3)\n",
      "1\n",
      "167\n",
      "(438, 750, 3)\n",
      "1\n",
      "250\n",
      "(438, 750, 3)\n",
      "1\n",
      "334\n",
      "(438, 750, 3)\n",
      "1\n"
     ]
    },
    {
     "name": "stderr",
     "output_type": "stream",
     "text": [
      "ERROR:root:An error occurred while processing faces: Given groups=1, weight of size [32, 3, 3, 3], expected input[1, 15, 160, 160] to have 3 channels, but got 15 channels instead\n",
      "INFO:root:Video length: 186 frames\n"
     ]
    },
    {
     "name": "stdout",
     "output_type": "stream",
     "text": [
      "0\n",
      "(476, 846, 3)\n",
      "1\n",
      "46\n",
      "(476, 846, 3)\n",
      "1\n",
      "92\n",
      "(476, 846, 3)\n",
      "1\n",
      "138\n",
      "(476, 846, 3)\n",
      "1\n",
      "185\n",
      "(476, 846, 3)\n",
      "1\n"
     ]
    },
    {
     "name": "stderr",
     "output_type": "stream",
     "text": [
      "ERROR:root:An error occurred while processing faces: Given groups=1, weight of size [32, 3, 3, 3], expected input[1, 15, 160, 160] to have 3 channels, but got 15 channels instead\n",
      "INFO:root:Video length: 534 frames\n"
     ]
    },
    {
     "name": "stdout",
     "output_type": "stream",
     "text": [
      "0\n",
      "(500, 944, 3)\n",
      "1\n",
      "133\n",
      "(500, 944, 3)\n",
      "1\n",
      "266\n",
      "(500, 944, 3)\n",
      "1\n",
      "399\n",
      "(500, 944, 3)\n",
      "1\n"
     ]
    },
    {
     "name": "stderr",
     "output_type": "stream",
     "text": [
      "ERROR:root:An error occurred while processing faces: Given groups=1, weight of size [32, 3, 3, 3], expected input[1, 15, 160, 160] to have 3 channels, but got 15 channels instead\n",
      "INFO:root:Video length: 376 frames\n"
     ]
    },
    {
     "name": "stdout",
     "output_type": "stream",
     "text": [
      "533\n",
      "(500, 944, 3)\n",
      "1\n",
      "0\n",
      "(500, 608, 3)\n",
      "1\n",
      "93\n",
      "(500, 608, 3)\n",
      "1\n",
      "187\n",
      "(500, 608, 3)\n",
      "1\n",
      "281\n",
      "(500, 608, 3)\n",
      "1\n"
     ]
    },
    {
     "name": "stderr",
     "output_type": "stream",
     "text": [
      "ERROR:root:An error occurred while processing faces: Given groups=1, weight of size [32, 3, 3, 3], expected input[1, 15, 160, 160] to have 3 channels, but got 15 channels instead\n",
      "INFO:root:Video length: 334 frames\n"
     ]
    },
    {
     "name": "stdout",
     "output_type": "stream",
     "text": [
      "375\n",
      "(500, 608, 3)\n",
      "1\n",
      "0\n",
      "(456, 694, 3)\n",
      "1\n",
      "83\n",
      "(456, 694, 3)\n",
      "1\n",
      "166\n",
      "(456, 694, 3)\n",
      "1\n",
      "249\n",
      "(456, 694, 3)\n",
      "1\n"
     ]
    },
    {
     "name": "stderr",
     "output_type": "stream",
     "text": [
      "ERROR:root:An error occurred while processing faces: Given groups=1, weight of size [32, 3, 3, 3], expected input[1, 15, 160, 160] to have 3 channels, but got 15 channels instead\n",
      "INFO:root:Video length: 332 frames\n"
     ]
    },
    {
     "name": "stdout",
     "output_type": "stream",
     "text": [
      "333\n",
      "(456, 694, 3)\n",
      "1\n",
      "0\n",
      "(474, 846, 3)\n",
      "1\n",
      "82\n",
      "(474, 846, 3)\n",
      "1\n",
      "165\n",
      "(474, 846, 3)\n",
      "1\n",
      "248\n",
      "(474, 846, 3)\n",
      "1\n"
     ]
    },
    {
     "name": "stderr",
     "output_type": "stream",
     "text": [
      "ERROR:root:An error occurred while processing faces: Given groups=1, weight of size [32, 3, 3, 3], expected input[1, 15, 160, 160] to have 3 channels, but got 15 channels instead\n",
      "INFO:root:Video length: 470 frames\n"
     ]
    },
    {
     "name": "stdout",
     "output_type": "stream",
     "text": [
      "331\n",
      "(474, 846, 3)\n",
      "1\n",
      "0\n",
      "(478, 856, 3)\n",
      "1\n",
      "117\n",
      "(478, 856, 3)\n",
      "1\n",
      "234\n",
      "(478, 856, 3)\n",
      "1\n"
     ]
    },
    {
     "name": "stderr",
     "output_type": "stream",
     "text": [
      "ERROR:root:An error occurred while processing faces: Given groups=1, weight of size [32, 3, 3, 3], expected input[1, 15, 160, 160] to have 3 channels, but got 15 channels instead\n",
      "INFO:root:Video length: 423 frames\n"
     ]
    },
    {
     "name": "stdout",
     "output_type": "stream",
     "text": [
      "351\n",
      "(478, 856, 3)\n",
      "1\n",
      "469\n",
      "(478, 856, 3)\n",
      "1\n",
      "0\n",
      "(472, 850, 3)\n",
      "1\n",
      "105\n",
      "(472, 850, 3)\n",
      "1\n"
     ]
    },
    {
     "name": "stderr",
     "output_type": "stream",
     "text": [
      "ERROR:root:An error occurred while processing faces: Given groups=1, weight of size [32, 3, 3, 3], expected input[1, 15, 160, 160] to have 3 channels, but got 15 channels instead\n",
      "INFO:root:Video length: 456 frames\n"
     ]
    },
    {
     "name": "stdout",
     "output_type": "stream",
     "text": [
      "211\n",
      "(472, 850, 3)\n",
      "1\n",
      "316\n",
      "(472, 850, 3)\n",
      "1\n",
      "422\n",
      "(472, 850, 3)\n",
      "1\n",
      "0\n",
      "(500, 888, 3)\n",
      "1\n",
      "113\n",
      "(500, 888, 3)\n",
      "1\n"
     ]
    },
    {
     "name": "stderr",
     "output_type": "stream",
     "text": [
      "ERROR:root:An error occurred while processing faces: Given groups=1, weight of size [32, 3, 3, 3], expected input[1, 15, 160, 160] to have 3 channels, but got 15 channels instead\n",
      "INFO:root:Video length: 239 frames\n"
     ]
    },
    {
     "name": "stdout",
     "output_type": "stream",
     "text": [
      "227\n",
      "(500, 888, 3)\n",
      "1\n",
      "341\n",
      "(500, 888, 3)\n",
      "1\n",
      "455\n",
      "(500, 888, 3)\n",
      "1\n",
      "0\n",
      "(500, 658, 3)\n",
      "1\n",
      "59\n",
      "(500, 658, 3)\n",
      "1\n",
      "119\n",
      "(500, 658, 3)\n",
      "1\n"
     ]
    },
    {
     "name": "stderr",
     "output_type": "stream",
     "text": [
      "ERROR:root:An error occurred while processing faces: Given groups=1, weight of size [32, 3, 3, 3], expected input[1, 15, 160, 160] to have 3 channels, but got 15 channels instead\n",
      "INFO:root:Video length: 442 frames\n"
     ]
    },
    {
     "name": "stdout",
     "output_type": "stream",
     "text": [
      "178\n",
      "(500, 658, 3)\n",
      "1\n",
      "238\n",
      "(500, 658, 3)\n",
      "1\n",
      "0\n",
      "(500, 944, 3)\n",
      "1\n",
      "110\n",
      "(500, 944, 3)\n",
      "1\n",
      "220\n",
      "(500, 944, 3)\n",
      "1\n"
     ]
    },
    {
     "name": "stderr",
     "output_type": "stream",
     "text": [
      "ERROR:root:An error occurred while processing faces: Given groups=1, weight of size [32, 3, 3, 3], expected input[1, 15, 160, 160] to have 3 channels, but got 15 channels instead\n",
      "INFO:root:Video length: 257 frames\n"
     ]
    },
    {
     "name": "stdout",
     "output_type": "stream",
     "text": [
      "330\n",
      "(500, 944, 3)\n",
      "1\n",
      "441\n",
      "(500, 944, 3)\n",
      "1\n",
      "0\n",
      "(472, 848, 3)\n",
      "1\n",
      "64\n",
      "(472, 848, 3)\n",
      "1\n",
      "128\n",
      "(472, 848, 3)\n",
      "1\n"
     ]
    },
    {
     "name": "stderr",
     "output_type": "stream",
     "text": [
      "ERROR:root:An error occurred while processing faces: Given groups=1, weight of size [32, 3, 3, 3], expected input[1, 15, 160, 160] to have 3 channels, but got 15 channels instead\n",
      "INFO:root:Video length: 340 frames\n"
     ]
    },
    {
     "name": "stdout",
     "output_type": "stream",
     "text": [
      "192\n",
      "(472, 848, 3)\n",
      "1\n",
      "256\n",
      "(472, 848, 3)\n",
      "1\n",
      "0\n",
      "(458, 834, 3)\n",
      "1\n",
      "84\n",
      "(458, 834, 3)\n",
      "1\n"
     ]
    },
    {
     "name": "stderr",
     "output_type": "stream",
     "text": [
      "ERROR:root:An error occurred while processing faces: Given groups=1, weight of size [32, 3, 3, 3], expected input[1, 15, 160, 160] to have 3 channels, but got 15 channels instead\n",
      "INFO:root:Video length: 371 frames\n"
     ]
    },
    {
     "name": "stdout",
     "output_type": "stream",
     "text": [
      "169\n",
      "(458, 834, 3)\n",
      "1\n",
      "254\n",
      "(458, 834, 3)\n",
      "1\n",
      "339\n",
      "(458, 834, 3)\n",
      "1\n",
      "0\n",
      "(500, 950, 3)\n",
      "1\n",
      "92\n",
      "(500, 950, 3)\n",
      "1\n"
     ]
    },
    {
     "name": "stderr",
     "output_type": "stream",
     "text": [
      "ERROR:root:An error occurred while processing faces: Given groups=1, weight of size [32, 3, 3, 3], expected input[1, 15, 160, 160] to have 3 channels, but got 15 channels instead\n",
      "INFO:root:Video length: 328 frames\n"
     ]
    },
    {
     "name": "stdout",
     "output_type": "stream",
     "text": [
      "185\n",
      "(500, 950, 3)\n",
      "1\n",
      "277\n",
      "(500, 950, 3)\n",
      "1\n",
      "370\n",
      "(500, 950, 3)\n",
      "1\n",
      "0\n",
      "(500, 518, 3)\n",
      "1\n"
     ]
    },
    {
     "name": "stderr",
     "output_type": "stream",
     "text": [
      "ERROR:root:An error occurred while processing faces: Given groups=1, weight of size [32, 3, 3, 3], expected input[1, 15, 160, 160] to have 3 channels, but got 15 channels instead\n",
      "INFO:root:Video length: 451 frames\n"
     ]
    },
    {
     "name": "stdout",
     "output_type": "stream",
     "text": [
      "81\n",
      "(500, 518, 3)\n",
      "1\n",
      "163\n",
      "(500, 518, 3)\n",
      "1\n",
      "245\n",
      "(500, 518, 3)\n",
      "1\n",
      "327\n",
      "(500, 518, 3)\n",
      "1\n",
      "0\n",
      "(478, 856, 3)\n",
      "1\n"
     ]
    },
    {
     "name": "stderr",
     "output_type": "stream",
     "text": [
      "ERROR:root:An error occurred while processing faces: Given groups=1, weight of size [32, 3, 3, 3], expected input[1, 15, 160, 160] to have 3 channels, but got 15 channels instead\n"
     ]
    },
    {
     "name": "stdout",
     "output_type": "stream",
     "text": [
      "112\n",
      "(478, 856, 3)\n",
      "1\n",
      "225\n",
      "(478, 856, 3)\n",
      "1\n",
      "337\n",
      "(478, 856, 3)\n",
      "1\n",
      "450\n",
      "(478, 856, 3)\n",
      "1\n"
     ]
    },
    {
     "name": "stderr",
     "output_type": "stream",
     "text": [
      "INFO:root:Video length: 479 frames\n"
     ]
    },
    {
     "name": "stdout",
     "output_type": "stream",
     "text": [
      "0\n",
      "(500, 892, 3)\n",
      "1\n",
      "119\n",
      "(500, 892, 3)\n",
      "1\n",
      "239\n",
      "(500, 892, 3)\n",
      "1\n",
      "358\n",
      "(500, 892, 3)\n",
      "1\n"
     ]
    },
    {
     "name": "stderr",
     "output_type": "stream",
     "text": [
      "ERROR:root:An error occurred while processing faces: Given groups=1, weight of size [32, 3, 3, 3], expected input[1, 15, 160, 160] to have 3 channels, but got 15 channels instead\n",
      "INFO:root:Video length: 319 frames\n"
     ]
    },
    {
     "name": "stdout",
     "output_type": "stream",
     "text": [
      "478\n",
      "(500, 892, 3)\n",
      "1\n",
      "0\n",
      "(476, 846, 3)\n",
      "1\n",
      "79\n",
      "(476, 846, 3)\n",
      "1\n",
      "159\n",
      "(476, 846, 3)\n",
      "1\n",
      "238\n",
      "(476, 846, 3)\n",
      "1\n"
     ]
    },
    {
     "name": "stderr",
     "output_type": "stream",
     "text": [
      "ERROR:root:An error occurred while processing faces: Given groups=1, weight of size [32, 3, 3, 3], expected input[1, 15, 160, 160] to have 3 channels, but got 15 channels instead\n",
      "INFO:root:Video length: 456 frames\n"
     ]
    },
    {
     "name": "stdout",
     "output_type": "stream",
     "text": [
      "318\n",
      "(476, 846, 3)\n",
      "1\n",
      "0\n",
      "(478, 856, 3)\n",
      "1\n",
      "113\n",
      "(478, 856, 3)\n",
      "1\n",
      "227\n",
      "(478, 856, 3)\n",
      "1\n",
      "341\n",
      "(478, 856, 3)\n",
      "1\n",
      "455\n",
      "(478, 856, 3)\n",
      "1\n"
     ]
    },
    {
     "name": "stderr",
     "output_type": "stream",
     "text": [
      "ERROR:root:An error occurred while processing faces: Given groups=1, weight of size [32, 3, 3, 3], expected input[1, 15, 160, 160] to have 3 channels, but got 15 channels instead\n",
      "INFO:root:Video length: 465 frames\n"
     ]
    },
    {
     "name": "stdout",
     "output_type": "stream",
     "text": [
      "0\n",
      "(472, 850, 3)\n",
      "1\n",
      "116\n",
      "(472, 850, 3)\n",
      "1\n",
      "232\n",
      "(472, 850, 3)\n",
      "1\n",
      "348\n",
      "(472, 850, 3)\n",
      "1\n",
      "464\n",
      "(472, 850, 3)\n",
      "1\n"
     ]
    },
    {
     "name": "stderr",
     "output_type": "stream",
     "text": [
      "ERROR:root:An error occurred while processing faces: Given groups=1, weight of size [32, 3, 3, 3], expected input[1, 15, 160, 160] to have 3 channels, but got 15 channels instead\n",
      "INFO:root:Video length: 451 frames\n"
     ]
    },
    {
     "name": "stdout",
     "output_type": "stream",
     "text": [
      "0\n",
      "(478, 856, 3)\n",
      "1\n",
      "112\n",
      "(478, 856, 3)\n",
      "1\n",
      "225\n",
      "(478, 856, 3)\n",
      "1\n",
      "337\n",
      "(478, 856, 3)\n",
      "1\n",
      "450\n",
      "(478, 856, 3)\n",
      "1\n"
     ]
    },
    {
     "name": "stderr",
     "output_type": "stream",
     "text": [
      "ERROR:root:An error occurred while processing faces: Given groups=1, weight of size [32, 3, 3, 3], expected input[1, 15, 160, 160] to have 3 channels, but got 15 channels instead\n",
      "INFO:root:Video length: 520 frames\n"
     ]
    },
    {
     "name": "stdout",
     "output_type": "stream",
     "text": [
      "0\n",
      "(500, 944, 3)\n",
      "1\n",
      "129\n",
      "(500, 944, 3)\n",
      "1\n",
      "259\n",
      "(500, 944, 3)\n",
      "1\n",
      "389\n",
      "(500, 944, 3)\n",
      "1\n",
      "519\n",
      "(500, 944, 3)\n",
      "1\n"
     ]
    },
    {
     "name": "stderr",
     "output_type": "stream",
     "text": [
      "ERROR:root:An error occurred while processing faces: Given groups=1, weight of size [32, 3, 3, 3], expected input[1, 15, 160, 160] to have 3 channels, but got 15 channels instead\n",
      "INFO:root:Video length: 313 frames\n"
     ]
    },
    {
     "name": "stdout",
     "output_type": "stream",
     "text": [
      "0\n",
      "(478, 856, 3)\n",
      "1\n",
      "78\n",
      "(478, 856, 3)\n",
      "1\n",
      "156\n",
      "(478, 856, 3)\n",
      "1\n",
      "234\n",
      "(478, 856, 3)\n",
      "1\n",
      "312\n",
      "(478, 856, 3)\n",
      "1\n"
     ]
    },
    {
     "name": "stderr",
     "output_type": "stream",
     "text": [
      "ERROR:root:An error occurred while processing faces: Given groups=1, weight of size [32, 3, 3, 3], expected input[1, 15, 160, 160] to have 3 channels, but got 15 channels instead\n",
      "INFO:root:Video length: 492 frames\n"
     ]
    },
    {
     "name": "stdout",
     "output_type": "stream",
     "text": [
      "0\n",
      "(480, 848, 3)\n",
      "1\n",
      "122\n",
      "(480, 848, 3)\n",
      "1\n",
      "245\n",
      "(480, 848, 3)\n",
      "1\n",
      "368\n",
      "(480, 848, 3)\n",
      "1\n"
     ]
    },
    {
     "name": "stderr",
     "output_type": "stream",
     "text": [
      "ERROR:root:An error occurred while processing faces: Given groups=1, weight of size [32, 3, 3, 3], expected input[1, 15, 160, 160] to have 3 channels, but got 15 channels instead\n",
      "INFO:root:Video length: 372 frames\n"
     ]
    },
    {
     "name": "stdout",
     "output_type": "stream",
     "text": [
      "491\n",
      "(480, 848, 3)\n",
      "1\n",
      "0\n",
      "(500, 944, 3)\n",
      "1\n",
      "92\n",
      "(500, 944, 3)\n",
      "1\n",
      "185\n",
      "(500, 944, 3)\n"
     ]
    },
    {
     "name": "stderr",
     "output_type": "stream",
     "text": [
      "ERROR:root:An error occurred while processing faces: Given groups=1, weight of size [32, 3, 3, 3], expected input[1, 15, 160, 160] to have 3 channels, but got 15 channels instead\n",
      "INFO:root:Video length: 450 frames\n"
     ]
    },
    {
     "name": "stdout",
     "output_type": "stream",
     "text": [
      "1\n",
      "278\n",
      "(500, 944, 3)\n",
      "1\n",
      "371\n",
      "(500, 944, 3)\n",
      "1\n",
      "0\n",
      "(480, 852, 3)\n",
      "1\n",
      "112\n",
      "(480, 852, 3)\n"
     ]
    },
    {
     "name": "stderr",
     "output_type": "stream",
     "text": [
      "ERROR:root:An error occurred while processing faces: Given groups=1, weight of size [32, 3, 3, 3], expected input[1, 15, 160, 160] to have 3 channels, but got 15 channels instead\n"
     ]
    },
    {
     "name": "stdout",
     "output_type": "stream",
     "text": [
      "1\n",
      "224\n",
      "(480, 852, 3)\n",
      "1\n",
      "336\n",
      "(480, 852, 3)\n",
      "1\n",
      "449\n",
      "(480, 852, 3)\n",
      "1\n"
     ]
    },
    {
     "name": "stderr",
     "output_type": "stream",
     "text": [
      "INFO:root:Video length: 485 frames\n"
     ]
    },
    {
     "name": "stdout",
     "output_type": "stream",
     "text": [
      "0\n",
      "(472, 850, 3)\n",
      "1\n",
      "121\n",
      "(472, 850, 3)\n",
      "1\n",
      "242\n",
      "(472, 850, 3)\n",
      "1\n",
      "363\n",
      "(472, 850, 3)\n",
      "1\n",
      "484\n",
      "(472, 850, 3)\n"
     ]
    },
    {
     "name": "stderr",
     "output_type": "stream",
     "text": [
      "ERROR:root:An error occurred while processing faces: Given groups=1, weight of size [32, 3, 3, 3], expected input[1, 15, 160, 160] to have 3 channels, but got 15 channels instead\n",
      "INFO:root:Video length: 315 frames\n"
     ]
    },
    {
     "name": "stdout",
     "output_type": "stream",
     "text": [
      "1\n",
      "0\n",
      "(476, 856, 3)\n",
      "1\n",
      "78\n",
      "(476, 856, 3)\n",
      "1\n",
      "157\n",
      "(476, 856, 3)\n",
      "1\n",
      "235\n",
      "(476, 856, 3)\n",
      "1\n",
      "314\n",
      "(476, 856, 3)\n",
      "1\n"
     ]
    },
    {
     "name": "stderr",
     "output_type": "stream",
     "text": [
      "ERROR:root:An error occurred while processing faces: Given groups=1, weight of size [32, 3, 3, 3], expected input[1, 15, 160, 160] to have 3 channels, but got 15 channels instead\n",
      "INFO:root:Video length: 315 frames\n"
     ]
    },
    {
     "name": "stdout",
     "output_type": "stream",
     "text": [
      "0\n",
      "(470, 840, 3)\n",
      "1\n",
      "78\n",
      "(470, 840, 3)\n",
      "1\n",
      "157\n",
      "(470, 840, 3)\n",
      "1\n",
      "235\n",
      "(470, 840, 3)\n",
      "1\n"
     ]
    },
    {
     "name": "stderr",
     "output_type": "stream",
     "text": [
      "ERROR:root:An error occurred while processing faces: Given groups=1, weight of size [32, 3, 3, 3], expected input[1, 15, 160, 160] to have 3 channels, but got 15 channels instead\n",
      "INFO:root:Video length: 630 frames\n"
     ]
    },
    {
     "name": "stdout",
     "output_type": "stream",
     "text": [
      "314\n",
      "(470, 840, 3)\n",
      "1\n",
      "0\n",
      "(500, 944, 3)\n",
      "1\n",
      "157\n",
      "(500, 944, 3)\n",
      "1\n",
      "314\n",
      "(500, 944, 3)\n",
      "1\n",
      "471\n",
      "(500, 944, 3)\n",
      "1\n"
     ]
    },
    {
     "name": "stderr",
     "output_type": "stream",
     "text": [
      "ERROR:root:An error occurred while processing faces: Given groups=1, weight of size [32, 3, 3, 3], expected input[1, 15, 160, 160] to have 3 channels, but got 15 channels instead\n",
      "INFO:root:Video length: 492 frames\n"
     ]
    },
    {
     "name": "stdout",
     "output_type": "stream",
     "text": [
      "629\n",
      "(500, 944, 3)\n",
      "1\n",
      "0\n",
      "(478, 856, 3)\n",
      "1\n",
      "122\n",
      "(478, 856, 3)\n",
      "1\n",
      "245\n",
      "(478, 856, 3)\n",
      "1\n",
      "368\n",
      "(478, 856, 3)\n",
      "1\n"
     ]
    },
    {
     "name": "stderr",
     "output_type": "stream",
     "text": [
      "ERROR:root:An error occurred while processing faces: Given groups=1, weight of size [32, 3, 3, 3], expected input[1, 15, 160, 160] to have 3 channels, but got 15 channels instead\n",
      "INFO:root:Video length: 438 frames\n"
     ]
    },
    {
     "name": "stdout",
     "output_type": "stream",
     "text": [
      "491\n",
      "(478, 856, 3)\n",
      "1\n",
      "0\n",
      "(478, 856, 3)\n",
      "1\n",
      "109\n",
      "(478, 856, 3)\n",
      "1\n",
      "218\n",
      "(478, 856, 3)\n",
      "1\n",
      "327\n",
      "(478, 856, 3)\n",
      "1\n",
      "437\n"
     ]
    },
    {
     "name": "stderr",
     "output_type": "stream",
     "text": [
      "ERROR:root:An error occurred while processing faces: Given groups=1, weight of size [32, 3, 3, 3], expected input[1, 15, 160, 160] to have 3 channels, but got 15 channels instead\n",
      "INFO:root:Video length: 295 frames\n"
     ]
    },
    {
     "name": "stdout",
     "output_type": "stream",
     "text": [
      "(478, 856, 3)\n",
      "1\n",
      "0\n",
      "(500, 626, 3)\n",
      "1\n",
      "73\n",
      "(500, 626, 3)\n",
      "1\n",
      "147\n",
      "(500, 626, 3)\n",
      "1\n"
     ]
    },
    {
     "name": "stderr",
     "output_type": "stream",
     "text": [
      "ERROR:root:An error occurred while processing faces: Given groups=1, weight of size [32, 3, 3, 3], expected input[1, 15, 160, 160] to have 3 channels, but got 15 channels instead\n",
      "INFO:root:Video length: 461 frames\n"
     ]
    },
    {
     "name": "stdout",
     "output_type": "stream",
     "text": [
      "220\n",
      "(500, 626, 3)\n",
      "1\n",
      "294\n",
      "(500, 626, 3)\n",
      "1\n",
      "0\n",
      "(500, 944, 3)\n",
      "1\n",
      "115\n",
      "(500, 944, 3)\n",
      "1\n",
      "230\n",
      "(500, 944, 3)\n",
      "1\n"
     ]
    },
    {
     "name": "stderr",
     "output_type": "stream",
     "text": [
      "ERROR:root:An error occurred while processing faces: Given groups=1, weight of size [32, 3, 3, 3], expected input[1, 15, 160, 160] to have 3 channels, but got 15 channels instead\n",
      "INFO:root:Video length: 455 frames\n"
     ]
    },
    {
     "name": "stdout",
     "output_type": "stream",
     "text": [
      "345\n",
      "(500, 944, 3)\n",
      "1\n",
      "460\n",
      "(500, 944, 3)\n",
      "1\n",
      "0\n",
      "(472, 850, 3)\n",
      "1\n",
      "113\n",
      "(472, 850, 3)\n",
      "1\n",
      "227\n",
      "(472, 850, 3)\n",
      "1\n"
     ]
    },
    {
     "name": "stderr",
     "output_type": "stream",
     "text": [
      "ERROR:root:An error occurred while processing faces: Given groups=1, weight of size [32, 3, 3, 3], expected input[1, 15, 160, 160] to have 3 channels, but got 15 channels instead\n",
      "INFO:root:Video length: 351 frames\n"
     ]
    },
    {
     "name": "stdout",
     "output_type": "stream",
     "text": [
      "340\n",
      "(472, 850, 3)\n",
      "1\n",
      "454\n",
      "(472, 850, 3)\n",
      "1\n",
      "0\n",
      "(478, 856, 3)\n",
      "1\n",
      "87\n",
      "(478, 856, 3)\n",
      "1\n",
      "175\n",
      "(478, 856, 3)\n",
      "1\n"
     ]
    },
    {
     "name": "stderr",
     "output_type": "stream",
     "text": [
      "ERROR:root:An error occurred while processing faces: Given groups=1, weight of size [32, 3, 3, 3], expected input[1, 15, 160, 160] to have 3 channels, but got 15 channels instead\n",
      "INFO:root:Video length: 369 frames\n"
     ]
    },
    {
     "name": "stdout",
     "output_type": "stream",
     "text": [
      "262\n",
      "(478, 856, 3)\n",
      "1\n",
      "350\n",
      "(478, 856, 3)\n",
      "1\n",
      "0\n",
      "(472, 850, 3)\n",
      "1\n",
      "92\n",
      "(472, 850, 3)\n",
      "1\n",
      "184\n",
      "(472, 850, 3)\n",
      "1\n"
     ]
    },
    {
     "name": "stderr",
     "output_type": "stream",
     "text": [
      "ERROR:root:An error occurred while processing faces: Given groups=1, weight of size [32, 3, 3, 3], expected input[1, 15, 160, 160] to have 3 channels, but got 15 channels instead\n",
      "INFO:root:Video length: 311 frames\n"
     ]
    },
    {
     "name": "stdout",
     "output_type": "stream",
     "text": [
      "276\n",
      "(472, 850, 3)\n",
      "1\n",
      "368\n",
      "(472, 850, 3)\n",
      "1\n",
      "0\n",
      "(472, 844, 3)\n",
      "1\n",
      "77\n",
      "(472, 844, 3)\n",
      "1\n"
     ]
    },
    {
     "name": "stderr",
     "output_type": "stream",
     "text": [
      "ERROR:root:An error occurred while processing faces: Given groups=1, weight of size [32, 3, 3, 3], expected input[1, 15, 160, 160] to have 3 channels, but got 15 channels instead\n",
      "INFO:root:Video length: 319 frames\n"
     ]
    },
    {
     "name": "stdout",
     "output_type": "stream",
     "text": [
      "155\n",
      "(472, 844, 3)\n",
      "1\n",
      "232\n",
      "(472, 844, 3)\n",
      "1\n",
      "310\n",
      "(472, 844, 3)\n",
      "1\n",
      "0\n",
      "(476, 846, 3)\n",
      "1\n",
      "79\n",
      "(476, 846, 3)\n",
      "1\n"
     ]
    },
    {
     "name": "stderr",
     "output_type": "stream",
     "text": [
      "ERROR:root:An error occurred while processing faces: Given groups=1, weight of size [32, 3, 3, 3], expected input[1, 15, 160, 160] to have 3 channels, but got 15 channels instead\n",
      "INFO:root:Video length: 504 frames\n"
     ]
    },
    {
     "name": "stdout",
     "output_type": "stream",
     "text": [
      "159\n",
      "(476, 846, 3)\n",
      "1\n",
      "238\n",
      "(476, 846, 3)\n",
      "1\n",
      "318\n",
      "(476, 846, 3)\n",
      "1\n",
      "0\n",
      "(466, 848, 3)\n",
      "1\n"
     ]
    },
    {
     "name": "stderr",
     "output_type": "stream",
     "text": [
      "ERROR:root:An error occurred while processing faces: Given groups=1, weight of size [32, 3, 3, 3], expected input[1, 15, 160, 160] to have 3 channels, but got 15 channels instead\n"
     ]
    },
    {
     "name": "stdout",
     "output_type": "stream",
     "text": [
      "125\n",
      "(466, 848, 3)\n",
      "1\n",
      "251\n",
      "(466, 848, 3)\n",
      "1\n",
      "377\n",
      "(466, 848, 3)\n",
      "1\n",
      "503\n",
      "(466, 848, 3)\n",
      "1\n"
     ]
    },
    {
     "name": "stderr",
     "output_type": "stream",
     "text": [
      "INFO:root:Video length: 333 frames\n",
      "ERROR:root:An error occurred while processing faces: Given groups=1, weight of size [32, 3, 3, 3], expected input[1, 15, 160, 160] to have 3 channels, but got 15 channels instead\n",
      "INFO:root:Video length: 611 frames\n"
     ]
    },
    {
     "name": "stdout",
     "output_type": "stream",
     "text": [
      "0\n",
      "(472, 848, 3)\n",
      "1\n",
      "83\n",
      "(472, 848, 3)\n",
      "1\n",
      "166\n",
      "(472, 848, 3)\n",
      "1\n",
      "249\n",
      "(472, 848, 3)\n",
      "1\n",
      "332\n",
      "(472, 848, 3)\n",
      "1\n",
      "0\n",
      "(500, 944, 3)\n",
      "1\n",
      "152\n",
      "(500, 944, 3)\n",
      "1\n",
      "305\n",
      "(500, 944, 3)\n",
      "1\n",
      "457\n",
      "(500, 944, 3)\n",
      "1\n"
     ]
    },
    {
     "name": "stderr",
     "output_type": "stream",
     "text": [
      "ERROR:root:An error occurred while processing faces: Given groups=1, weight of size [32, 3, 3, 3], expected input[1, 15, 160, 160] to have 3 channels, but got 15 channels instead\n",
      "INFO:root:Video length: 464 frames\n"
     ]
    },
    {
     "name": "stdout",
     "output_type": "stream",
     "text": [
      "610\n",
      "(500, 944, 3)\n",
      "1\n",
      "0\n",
      "(478, 856, 3)\n",
      "1\n",
      "115\n",
      "(478, 856, 3)\n",
      "1\n",
      "231\n",
      "(478, 856, 3)\n",
      "1\n",
      "347\n"
     ]
    },
    {
     "name": "stderr",
     "output_type": "stream",
     "text": [
      "ERROR:root:An error occurred while processing faces: Given groups=1, weight of size [32, 3, 3, 3], expected input[1, 15, 160, 160] to have 3 channels, but got 15 channels instead\n",
      "INFO:root:Video length: 315 frames\n"
     ]
    },
    {
     "name": "stdout",
     "output_type": "stream",
     "text": [
      "(478, 856, 3)\n",
      "1\n",
      "463\n",
      "(478, 856, 3)\n",
      "1\n",
      "0\n",
      "(476, 856, 3)\n",
      "1\n",
      "78\n",
      "(476, 856, 3)\n",
      "1\n",
      "157\n",
      "(476, 856, 3)\n",
      "1\n",
      "235\n",
      "(476, 856, 3)\n",
      "1\n"
     ]
    },
    {
     "name": "stderr",
     "output_type": "stream",
     "text": [
      "ERROR:root:An error occurred while processing faces: Given groups=1, weight of size [32, 3, 3, 3], expected input[1, 15, 160, 160] to have 3 channels, but got 15 channels instead\n",
      "INFO:root:Video length: 347 frames\n"
     ]
    },
    {
     "name": "stdout",
     "output_type": "stream",
     "text": [
      "314\n",
      "(476, 856, 3)\n",
      "1\n",
      "0\n",
      "(500, 672, 3)\n",
      "1\n",
      "86\n",
      "(500, 672, 3)\n",
      "1\n",
      "173\n",
      "(500, 672, 3)\n",
      "1\n",
      "259\n",
      "(500, 672, 3)\n",
      "1\n"
     ]
    },
    {
     "name": "stderr",
     "output_type": "stream",
     "text": [
      "ERROR:root:An error occurred while processing faces: Given groups=1, weight of size [32, 3, 3, 3], expected input[1, 15, 160, 160] to have 3 channels, but got 15 channels instead\n",
      "INFO:root:Video length: 278 frames\n"
     ]
    },
    {
     "name": "stdout",
     "output_type": "stream",
     "text": [
      "346\n",
      "(500, 672, 3)\n",
      "1\n",
      "0\n",
      "(478, 856, 3)\n",
      "1\n",
      "69\n",
      "(478, 856, 3)\n",
      "1\n",
      "138\n",
      "(478, 856, 3)\n",
      "1\n"
     ]
    },
    {
     "name": "stderr",
     "output_type": "stream",
     "text": [
      "ERROR:root:An error occurred while processing faces: Given groups=1, weight of size [32, 3, 3, 3], expected input[1, 15, 160, 160] to have 3 channels, but got 15 channels instead\n",
      "INFO:root:Video length: 335 frames\n"
     ]
    },
    {
     "name": "stdout",
     "output_type": "stream",
     "text": [
      "207\n",
      "(478, 856, 3)\n",
      "1\n",
      "277\n",
      "(478, 856, 3)\n",
      "1\n",
      "0\n",
      "(438, 750, 3)\n",
      "1\n",
      "83\n",
      "(438, 750, 3)\n",
      "1\n",
      "167\n",
      "(438, 750, 3)\n",
      "1\n",
      "250\n",
      "(438, 750, 3)\n",
      "1\n"
     ]
    },
    {
     "name": "stderr",
     "output_type": "stream",
     "text": [
      "ERROR:root:An error occurred while processing faces: Given groups=1, weight of size [32, 3, 3, 3], expected input[1, 15, 160, 160] to have 3 channels, but got 15 channels instead\n",
      "INFO:root:Video length: 249 frames\n"
     ]
    },
    {
     "name": "stdout",
     "output_type": "stream",
     "text": [
      "334\n",
      "(438, 750, 3)\n",
      "1\n",
      "0\n",
      "(472, 848, 3)\n",
      "1\n",
      "62\n",
      "(472, 848, 3)\n",
      "1\n",
      "124\n",
      "(472, 848, 3)\n",
      "1\n",
      "186\n",
      "(472, 848, 3)\n",
      "1\n",
      "248\n",
      "(472, 848, 3)\n",
      "1\n"
     ]
    },
    {
     "name": "stderr",
     "output_type": "stream",
     "text": [
      "ERROR:root:An error occurred while processing faces: Given groups=1, weight of size [32, 3, 3, 3], expected input[1, 15, 160, 160] to have 3 channels, but got 15 channels instead\n",
      "INFO:root:Video length: 363 frames\n"
     ]
    },
    {
     "name": "stdout",
     "output_type": "stream",
     "text": [
      "0\n",
      "(500, 950, 3)\n",
      "1\n",
      "90\n",
      "(500, 950, 3)\n",
      "1\n",
      "181\n",
      "(500, 950, 3)\n",
      "1\n",
      "271\n",
      "(500, 950, 3)\n",
      "1\n",
      "362\n",
      "(500, 950, 3)\n",
      "1\n"
     ]
    },
    {
     "name": "stderr",
     "output_type": "stream",
     "text": [
      "ERROR:root:An error occurred while processing faces: Given groups=1, weight of size [32, 3, 3, 3], expected input[1, 15, 160, 160] to have 3 channels, but got 15 channels instead\n",
      "INFO:root:Video length: 338 frames\n",
      "ERROR:root:An error occurred while processing faces: Given groups=1, weight of size [32, 3, 3, 3], expected input[1, 15, 160, 160] to have 3 channels, but got 15 channels instead\n"
     ]
    },
    {
     "name": "stdout",
     "output_type": "stream",
     "text": [
      "0\n",
      "(472, 844, 3)\n",
      "1\n",
      "84\n",
      "(472, 844, 3)\n",
      "1\n",
      "168\n",
      "(472, 844, 3)\n",
      "1\n",
      "252\n",
      "(472, 844, 3)\n",
      "1\n",
      "337\n",
      "(472, 844, 3)\n",
      "1\n"
     ]
    },
    {
     "name": "stderr",
     "output_type": "stream",
     "text": [
      "INFO:root:Video length: 310 frames\n"
     ]
    },
    {
     "name": "stdout",
     "output_type": "stream",
     "text": [
      "0\n",
      "(478, 848, 3)\n",
      "1\n",
      "77\n",
      "(478, 848, 3)\n",
      "1\n",
      "154\n",
      "(478, 848, 3)\n",
      "1\n",
      "231\n",
      "(478, 848, 3)\n",
      "1\n",
      "309\n",
      "(478, 848, 3)\n",
      "1\n"
     ]
    },
    {
     "name": "stderr",
     "output_type": "stream",
     "text": [
      "ERROR:root:An error occurred while processing faces: Given groups=1, weight of size [32, 3, 3, 3], expected input[1, 15, 160, 160] to have 3 channels, but got 15 channels instead\n",
      "INFO:root:Video length: 306 frames\n"
     ]
    },
    {
     "name": "stdout",
     "output_type": "stream",
     "text": [
      "0\n",
      "(480, 852, 3)\n",
      "1\n",
      "76\n",
      "(480, 852, 3)\n",
      "1\n",
      "152\n",
      "(480, 852, 3)\n",
      "1\n",
      "228\n",
      "(480, 852, 3)\n",
      "1\n",
      "305\n",
      "(480, 852, 3)\n",
      "1\n"
     ]
    },
    {
     "name": "stderr",
     "output_type": "stream",
     "text": [
      "ERROR:root:An error occurred while processing faces: Given groups=1, weight of size [32, 3, 3, 3], expected input[1, 15, 160, 160] to have 3 channels, but got 15 channels instead\n",
      "INFO:root:Video length: 376 frames\n",
      "ERROR:root:An error occurred while processing faces: Given groups=1, weight of size [32, 3, 3, 3], expected input[1, 15, 160, 160] to have 3 channels, but got 15 channels instead\n",
      "INFO:root:Video length: 186 frames\n"
     ]
    },
    {
     "name": "stdout",
     "output_type": "stream",
     "text": [
      "0\n",
      "(500, 608, 3)\n",
      "1\n",
      "93\n",
      "(500, 608, 3)\n",
      "1\n",
      "187\n",
      "(500, 608, 3)\n",
      "1\n",
      "281\n",
      "(500, 608, 3)\n",
      "1\n",
      "375\n",
      "(500, 608, 3)\n",
      "1\n",
      "0\n",
      "(476, 846, 3)\n",
      "1\n"
     ]
    },
    {
     "name": "stderr",
     "output_type": "stream",
     "text": [
      "ERROR:root:An error occurred while processing faces: Given groups=1, weight of size [32, 3, 3, 3], expected input[1, 15, 160, 160] to have 3 channels, but got 15 channels instead\n",
      "INFO:root:Video length: 451 frames\n"
     ]
    },
    {
     "name": "stdout",
     "output_type": "stream",
     "text": [
      "46\n",
      "(476, 846, 3)\n",
      "1\n",
      "92\n",
      "(476, 846, 3)\n",
      "1\n",
      "138\n",
      "(476, 846, 3)\n",
      "1\n",
      "185\n",
      "(476, 846, 3)\n",
      "1\n",
      "0\n",
      "(478, 856, 3)\n",
      "1\n",
      "112\n",
      "(478, 856, 3)\n",
      "1\n"
     ]
    },
    {
     "name": "stderr",
     "output_type": "stream",
     "text": [
      "ERROR:root:An error occurred while processing faces: Given groups=1, weight of size [32, 3, 3, 3], expected input[1, 15, 160, 160] to have 3 channels, but got 15 channels instead\n",
      "INFO:root:Video length: 344 frames\n"
     ]
    },
    {
     "name": "stdout",
     "output_type": "stream",
     "text": [
      "225\n",
      "(478, 856, 3)\n",
      "1\n",
      "337\n",
      "(478, 856, 3)\n",
      "1\n",
      "450\n",
      "(478, 856, 3)\n",
      "1\n",
      "0\n",
      "(480, 852, 3)\n",
      "1\n",
      "85\n",
      "(480, 852, 3)\n",
      "1\n"
     ]
    },
    {
     "name": "stderr",
     "output_type": "stream",
     "text": [
      "ERROR:root:An error occurred while processing faces: Given groups=1, weight of size [32, 3, 3, 3], expected input[1, 15, 160, 160] to have 3 channels, but got 15 channels instead\n",
      "INFO:root:Video length: 497 frames\n"
     ]
    },
    {
     "name": "stdout",
     "output_type": "stream",
     "text": [
      "171\n",
      "(480, 852, 3)\n",
      "1\n",
      "257\n",
      "(480, 852, 3)\n",
      "1\n",
      "343\n",
      "(480, 852, 3)\n",
      "1\n",
      "0\n",
      "(500, 884, 3)\n",
      "1\n",
      "124\n",
      "(500, 884, 3)\n",
      "1\n"
     ]
    },
    {
     "name": "stderr",
     "output_type": "stream",
     "text": [
      "ERROR:root:An error occurred while processing faces: Given groups=1, weight of size [32, 3, 3, 3], expected input[1, 15, 160, 160] to have 3 channels, but got 15 channels instead\n",
      "INFO:root:Video length: 318 frames\n"
     ]
    },
    {
     "name": "stdout",
     "output_type": "stream",
     "text": [
      "248\n",
      "(500, 884, 3)\n",
      "1\n",
      "372\n",
      "(500, 884, 3)\n",
      "1\n",
      "496\n",
      "(500, 884, 3)\n",
      "1\n",
      "0\n",
      "(476, 846, 3)\n",
      "1\n",
      "79\n",
      "(476, 846, 3)\n",
      "1\n"
     ]
    },
    {
     "name": "stderr",
     "output_type": "stream",
     "text": [
      "ERROR:root:An error occurred while processing faces: Given groups=1, weight of size [32, 3, 3, 3], expected input[1, 15, 160, 160] to have 3 channels, but got 15 channels instead\n",
      "INFO:root:Video length: 308 frames\n"
     ]
    },
    {
     "name": "stdout",
     "output_type": "stream",
     "text": [
      "158\n",
      "(476, 846, 3)\n",
      "1\n",
      "237\n",
      "(476, 846, 3)\n",
      "1\n",
      "317\n",
      "(476, 846, 3)\n",
      "1\n",
      "0\n",
      "(298, 610, 3)\n",
      "1\n",
      "76\n",
      "(298, 610, 3)\n",
      "1\n",
      "153\n",
      "(298, 610, 3)\n",
      "1\n"
     ]
    },
    {
     "name": "stderr",
     "output_type": "stream",
     "text": [
      "ERROR:root:An error occurred while processing faces: Given groups=1, weight of size [32, 3, 3, 3], expected input[1, 15, 160, 160] to have 3 channels, but got 15 channels instead\n",
      "INFO:root:Video length: 272 frames\n"
     ]
    },
    {
     "name": "stdout",
     "output_type": "stream",
     "text": [
      "230\n",
      "(298, 610, 3)\n",
      "1\n",
      "307\n",
      "(298, 610, 3)\n",
      "1\n",
      "0\n",
      "(500, 532, 3)\n",
      "1\n",
      "67\n",
      "(500, 532, 3)\n",
      "1\n",
      "135\n",
      "(500, 532, 3)\n",
      "1\n",
      "203\n",
      "(500, 532, 3)\n",
      "1\n",
      "271\n",
      "(500, 532, 3)\n",
      "1\n"
     ]
    },
    {
     "name": "stderr",
     "output_type": "stream",
     "text": [
      "ERROR:root:An error occurred while processing faces: Given groups=1, weight of size [32, 3, 3, 3], expected input[1, 15, 160, 160] to have 3 channels, but got 15 channels instead\n",
      "INFO:root:Video length: 409 frames\n"
     ]
    },
    {
     "name": "stdout",
     "output_type": "stream",
     "text": [
      "0\n",
      "(500, 568, 3)\n",
      "1\n",
      "102\n",
      "(500, 568, 3)\n",
      "1\n",
      "204\n",
      "(500, 568, 3)\n",
      "1\n",
      "306\n",
      "(500, 568, 3)\n",
      "1\n",
      "408\n",
      "(500, 568, 3)\n",
      "1\n"
     ]
    },
    {
     "name": "stderr",
     "output_type": "stream",
     "text": [
      "ERROR:root:An error occurred while processing faces: Given groups=1, weight of size [32, 3, 3, 3], expected input[1, 15, 160, 160] to have 3 channels, but got 15 channels instead\n",
      "INFO:root:Video length: 376 frames\n"
     ]
    },
    {
     "name": "stdout",
     "output_type": "stream",
     "text": [
      "0\n",
      "(466, 848, 3)\n",
      "1\n",
      "93\n",
      "(466, 848, 3)\n",
      "1\n",
      "187\n",
      "(466, 848, 3)\n",
      "1\n",
      "281\n",
      "(466, 848, 3)\n",
      "1\n",
      "375\n",
      "(466, 848, 3)\n"
     ]
    },
    {
     "name": "stderr",
     "output_type": "stream",
     "text": [
      "ERROR:root:An error occurred while processing faces: Given groups=1, weight of size [32, 3, 3, 3], expected input[1, 15, 160, 160] to have 3 channels, but got 15 channels instead\n",
      "INFO:root:Video length: 458 frames\n"
     ]
    },
    {
     "name": "stdout",
     "output_type": "stream",
     "text": [
      "1\n",
      "0\n",
      "(500, 474, 3)\n",
      "1\n",
      "114\n",
      "(500, 474, 3)\n",
      "1\n",
      "228\n",
      "(500, 474, 3)\n",
      "1\n",
      "342\n",
      "(500, 474, 3)\n",
      "1\n",
      "457\n",
      "(500, 474, 3)\n",
      "1\n"
     ]
    },
    {
     "name": "stderr",
     "output_type": "stream",
     "text": [
      "ERROR:root:An error occurred while processing faces: Given groups=1, weight of size [32, 3, 3, 3], expected input[1, 15, 160, 160] to have 3 channels, but got 15 channels instead\n",
      "INFO:root:Video length: 334 frames\n",
      "ERROR:root:An error occurred while processing faces: Given groups=1, weight of size [32, 3, 3, 3], expected input[1, 15, 160, 160] to have 3 channels, but got 15 channels instead\n"
     ]
    },
    {
     "name": "stdout",
     "output_type": "stream",
     "text": [
      "0\n",
      "(500, 666, 3)\n",
      "1\n",
      "83\n",
      "(500, 666, 3)\n",
      "1\n",
      "166\n",
      "(500, 666, 3)\n",
      "1\n",
      "249\n",
      "(500, 666, 3)\n",
      "1\n",
      "333\n",
      "(500, 666, 3)\n",
      "1\n"
     ]
    },
    {
     "name": "stderr",
     "output_type": "stream",
     "text": [
      "INFO:root:Video length: 334 frames\n"
     ]
    },
    {
     "name": "stdout",
     "output_type": "stream",
     "text": [
      "0\n",
      "(458, 834, 3)\n",
      "1\n",
      "83\n",
      "(458, 834, 3)\n",
      "1\n",
      "166\n",
      "(458, 834, 3)\n",
      "1\n",
      "249\n",
      "(458, 834, 3)\n",
      "1\n",
      "333\n",
      "(458, 834, 3)\n",
      "1\n"
     ]
    },
    {
     "name": "stderr",
     "output_type": "stream",
     "text": [
      "ERROR:root:An error occurred while processing faces: Given groups=1, weight of size [32, 3, 3, 3], expected input[1, 15, 160, 160] to have 3 channels, but got 15 channels instead\n",
      "INFO:root:Video length: 310 frames\n"
     ]
    },
    {
     "name": "stdout",
     "output_type": "stream",
     "text": [
      "0\n",
      "(474, 846, 3)\n",
      "1\n",
      "77\n",
      "(474, 846, 3)\n",
      "1\n",
      "154\n",
      "(474, 846, 3)\n",
      "1\n",
      "231\n",
      "(474, 846, 3)\n",
      "1\n"
     ]
    },
    {
     "name": "stderr",
     "output_type": "stream",
     "text": [
      "ERROR:root:An error occurred while processing faces: Given groups=1, weight of size [32, 3, 3, 3], expected input[1, 15, 160, 160] to have 3 channels, but got 15 channels instead\n",
      "INFO:root:Video length: 429 frames\n"
     ]
    },
    {
     "name": "stdout",
     "output_type": "stream",
     "text": [
      "309\n",
      "(474, 846, 3)\n",
      "1\n",
      "0\n",
      "(480, 852, 3)\n",
      "1\n",
      "107\n",
      "(480, 852, 3)\n",
      "1\n",
      "214\n",
      "(480, 852, 3)\n",
      "1\n",
      "321\n",
      "(480, 852, 3)\n",
      "1\n"
     ]
    },
    {
     "name": "stderr",
     "output_type": "stream",
     "text": [
      "ERROR:root:An error occurred while processing faces: Given groups=1, weight of size [32, 3, 3, 3], expected input[1, 15, 160, 160] to have 3 channels, but got 15 channels instead\n",
      "INFO:root:Video length: 307 frames\n"
     ]
    },
    {
     "name": "stdout",
     "output_type": "stream",
     "text": [
      "428\n",
      "(480, 852, 3)\n",
      "1\n",
      "0\n",
      "(500, 674, 3)\n",
      "1\n",
      "76\n",
      "(500, 674, 3)\n",
      "1\n",
      "153\n",
      "(500, 674, 3)\n",
      "1\n",
      "229\n",
      "(500, 674, 3)\n",
      "1\n"
     ]
    },
    {
     "name": "stderr",
     "output_type": "stream",
     "text": [
      "ERROR:root:An error occurred while processing faces: Given groups=1, weight of size [32, 3, 3, 3], expected input[1, 15, 160, 160] to have 3 channels, but got 15 channels instead\n",
      "INFO:root:Video length: 331 frames\n"
     ]
    },
    {
     "name": "stdout",
     "output_type": "stream",
     "text": [
      "306\n",
      "(500, 674, 3)\n",
      "1\n",
      "0\n",
      "(500, 348, 3)\n",
      "1\n",
      "82\n",
      "(500, 348, 3)\n",
      "1\n",
      "165\n",
      "(500, 348, 3)\n",
      "1\n",
      "247\n",
      "(500, 348, 3)\n",
      "1\n",
      "330\n",
      "(500, 348, 3)\n",
      "1\n"
     ]
    },
    {
     "name": "stderr",
     "output_type": "stream",
     "text": [
      "ERROR:root:An error occurred while processing faces: Given groups=1, weight of size [32, 3, 3, 3], expected input[1, 15, 160, 160] to have 3 channels, but got 15 channels instead\n",
      "INFO:root:Video length: 494 frames\n"
     ]
    },
    {
     "name": "stdout",
     "output_type": "stream",
     "text": [
      "0\n",
      "(472, 850, 3)\n",
      "1\n",
      "123\n",
      "(472, 850, 3)\n",
      "1\n",
      "246\n",
      "(472, 850, 3)\n",
      "1\n",
      "369\n",
      "(472, 850, 3)\n",
      "1\n"
     ]
    },
    {
     "name": "stderr",
     "output_type": "stream",
     "text": [
      "ERROR:root:An error occurred while processing faces: Given groups=1, weight of size [32, 3, 3, 3], expected input[1, 15, 160, 160] to have 3 channels, but got 15 channels instead\n",
      "INFO:root:Video length: 473 frames\n"
     ]
    },
    {
     "name": "stdout",
     "output_type": "stream",
     "text": [
      "493\n",
      "(472, 850, 3)\n",
      "1\n",
      "0\n",
      "(500, 888, 3)\n",
      "1\n",
      "118\n",
      "(500, 888, 3)\n",
      "1\n",
      "236\n",
      "(500, 888, 3)\n",
      "1\n",
      "354\n",
      "(500, 888, 3)\n",
      "1\n",
      "472\n",
      "(500, 888, 3)\n"
     ]
    },
    {
     "name": "stderr",
     "output_type": "stream",
     "text": [
      "ERROR:root:An error occurred while processing faces: Given groups=1, weight of size [32, 3, 3, 3], expected input[1, 15, 160, 160] to have 3 channels, but got 15 channels instead\n",
      "INFO:root:Video length: 502 frames\n"
     ]
    },
    {
     "name": "stdout",
     "output_type": "stream",
     "text": [
      "1\n",
      "0\n",
      "(478, 856, 3)\n",
      "1\n",
      "125\n",
      "(478, 856, 3)\n",
      "1\n",
      "250\n",
      "(478, 856, 3)\n",
      "1\n",
      "375\n",
      "(478, 856, 3)\n",
      "1\n"
     ]
    },
    {
     "name": "stderr",
     "output_type": "stream",
     "text": [
      "ERROR:root:An error occurred while processing faces: Given groups=1, weight of size [32, 3, 3, 3], expected input[1, 15, 160, 160] to have 3 channels, but got 15 channels instead\n",
      "INFO:root:Video length: 409 frames\n"
     ]
    },
    {
     "name": "stdout",
     "output_type": "stream",
     "text": [
      "501\n",
      "(478, 856, 3)\n",
      "1\n",
      "0\n",
      "(500, 568, 3)\n",
      "1\n",
      "102\n",
      "(500, 568, 3)\n",
      "1\n",
      "204\n",
      "(500, 568, 3)\n",
      "1\n",
      "306\n",
      "(500, 568, 3)\n",
      "1\n",
      "408\n",
      "(500, 568, 3)\n",
      "1\n"
     ]
    },
    {
     "name": "stderr",
     "output_type": "stream",
     "text": [
      "ERROR:root:An error occurred while processing faces: Given groups=1, weight of size [32, 3, 3, 3], expected input[1, 15, 160, 160] to have 3 channels, but got 15 channels instead\n",
      "INFO:root:Video length: 335 frames\n"
     ]
    },
    {
     "name": "stdout",
     "output_type": "stream",
     "text": [
      "0\n",
      "(438, 750, 3)\n",
      "1\n",
      "83\n",
      "(438, 750, 3)\n",
      "1\n",
      "167\n",
      "(438, 750, 3)\n",
      "1\n",
      "250\n",
      "(438, 750, 3)\n",
      "1\n",
      "334\n",
      "(438, 750, 3)\n",
      "1\n"
     ]
    },
    {
     "name": "stderr",
     "output_type": "stream",
     "text": [
      "ERROR:root:An error occurred while processing faces: Given groups=1, weight of size [32, 3, 3, 3], expected input[1, 15, 160, 160] to have 3 channels, but got 15 channels instead\n",
      "INFO:root:Video length: 342 frames\n"
     ]
    },
    {
     "name": "stdout",
     "output_type": "stream",
     "text": [
      "0\n",
      "(468, 842, 3)\n",
      "1\n",
      "85\n",
      "(468, 842, 3)\n",
      "1\n",
      "170\n",
      "(468, 842, 3)\n",
      "1\n",
      "255\n",
      "(468, 842, 3)\n",
      "1\n",
      "341\n",
      "(468, 842, 3)\n",
      "1\n"
     ]
    },
    {
     "name": "stderr",
     "output_type": "stream",
     "text": [
      "ERROR:root:An error occurred while processing faces: Given groups=1, weight of size [32, 3, 3, 3], expected input[1, 15, 160, 160] to have 3 channels, but got 15 channels instead\n",
      "INFO:root:Video length: 306 frames\n",
      "ERROR:root:An error occurred while processing faces: Given groups=1, weight of size [32, 3, 3, 3], expected input[1, 15, 160, 160] to have 3 channels, but got 15 channels instead\n",
      "INFO:root:Video length: 470 frames\n"
     ]
    },
    {
     "name": "stdout",
     "output_type": "stream",
     "text": [
      "0\n",
      "(500, 354, 3)\n",
      "1\n",
      "76\n",
      "(500, 354, 3)\n",
      "1\n",
      "152\n",
      "(500, 354, 3)\n",
      "1\n",
      "228\n",
      "(500, 354, 3)\n",
      "1\n",
      "305\n",
      "(500, 354, 3)\n",
      "1\n",
      "0\n",
      "(466, 848, 3)\n",
      "1\n"
     ]
    },
    {
     "name": "stderr",
     "output_type": "stream",
     "text": [
      "ERROR:root:An error occurred while processing faces: Given groups=1, weight of size [32, 3, 3, 3], expected input[1, 15, 160, 160] to have 3 channels, but got 15 channels instead\n",
      "INFO:root:Video length: 527 frames\n"
     ]
    },
    {
     "name": "stdout",
     "output_type": "stream",
     "text": [
      "117\n",
      "(466, 848, 3)\n",
      "1\n",
      "234\n",
      "(466, 848, 3)\n",
      "1\n",
      "351\n",
      "(466, 848, 3)\n",
      "1\n",
      "469\n",
      "(466, 848, 3)\n",
      "1\n",
      "0\n",
      "(478, 856, 3)\n",
      "1\n",
      "131\n",
      "(478, 856, 3)\n",
      "1\n",
      "263\n",
      "(478, 856, 3)\n",
      "1\n",
      "394\n",
      "(478, 856, 3)\n",
      "1\n",
      "526\n",
      "(478, 856, 3)\n"
     ]
    },
    {
     "name": "stderr",
     "output_type": "stream",
     "text": [
      "ERROR:root:An error occurred while processing faces: Given groups=1, weight of size [32, 3, 3, 3], expected input[1, 15, 160, 160] to have 3 channels, but got 15 channels instead\n",
      "INFO:root:Video length: 429 frames\n"
     ]
    },
    {
     "name": "stdout",
     "output_type": "stream",
     "text": [
      "1\n",
      "0\n",
      "(480, 852, 3)\n",
      "1\n",
      "107\n",
      "(480, 852, 3)\n",
      "1\n",
      "214\n",
      "(480, 852, 3)\n",
      "1\n",
      "321\n",
      "(480, 852, 3)\n",
      "1\n"
     ]
    },
    {
     "name": "stderr",
     "output_type": "stream",
     "text": [
      "ERROR:root:An error occurred while processing faces: Given groups=1, weight of size [32, 3, 3, 3], expected input[1, 15, 160, 160] to have 3 channels, but got 15 channels instead\n",
      "INFO:root:Video length: 334 frames\n"
     ]
    },
    {
     "name": "stdout",
     "output_type": "stream",
     "text": [
      "428\n",
      "(480, 852, 3)\n",
      "1\n",
      "0\n",
      "(500, 556, 3)\n",
      "1\n",
      "83\n",
      "(500, 556, 3)\n",
      "1\n",
      "166\n",
      "(500, 556, 3)\n",
      "1\n",
      "249\n",
      "(500, 556, 3)\n",
      "1\n"
     ]
    },
    {
     "name": "stderr",
     "output_type": "stream",
     "text": [
      "ERROR:root:An error occurred while processing faces: Given groups=1, weight of size [32, 3, 3, 3], expected input[1, 15, 160, 160] to have 3 channels, but got 15 channels instead\n",
      "INFO:root:Video length: 477 frames\n"
     ]
    },
    {
     "name": "stdout",
     "output_type": "stream",
     "text": [
      "333\n",
      "(500, 556, 3)\n",
      "1\n",
      "0\n",
      "(478, 856, 3)\n",
      "1\n",
      "119\n",
      "(478, 856, 3)\n",
      "1\n",
      "238\n",
      "(478, 856, 3)\n",
      "1\n",
      "357\n",
      "(478, 856, 3)\n",
      "1\n"
     ]
    },
    {
     "name": "stderr",
     "output_type": "stream",
     "text": [
      "ERROR:root:An error occurred while processing faces: Given groups=1, weight of size [32, 3, 3, 3], expected input[1, 15, 160, 160] to have 3 channels, but got 15 channels instead\n",
      "INFO:root:Video length: 225 frames\n"
     ]
    },
    {
     "name": "stdout",
     "output_type": "stream",
     "text": [
      "476\n",
      "(478, 856, 3)\n",
      "1\n",
      "0\n",
      "(456, 812, 3)\n",
      "1\n",
      "56\n",
      "(456, 812, 3)\n",
      "1\n",
      "112\n",
      "(456, 812, 3)\n",
      "1\n",
      "168\n",
      "(456, 812, 3)\n",
      "1\n"
     ]
    },
    {
     "name": "stderr",
     "output_type": "stream",
     "text": [
      "ERROR:root:An error occurred while processing faces: Given groups=1, weight of size [32, 3, 3, 3], expected input[1, 15, 160, 160] to have 3 channels, but got 15 channels instead\n",
      "INFO:root:Video length: 331 frames\n"
     ]
    },
    {
     "name": "stdout",
     "output_type": "stream",
     "text": [
      "224\n",
      "(456, 812, 3)\n",
      "1\n",
      "0\n",
      "(468, 342, 3)\n",
      "1\n",
      "82\n",
      "(468, 342, 3)\n",
      "1\n",
      "165\n",
      "(468, 342, 3)\n",
      "1\n",
      "247\n",
      "(468, 342, 3)\n",
      "1\n"
     ]
    },
    {
     "name": "stderr",
     "output_type": "stream",
     "text": [
      "ERROR:root:An error occurred while processing faces: Given groups=1, weight of size [32, 3, 3, 3], expected input[1, 15, 160, 160] to have 3 channels, but got 15 channels instead\n",
      "INFO:root:Video length: 424 frames\n"
     ]
    },
    {
     "name": "stdout",
     "output_type": "stream",
     "text": [
      "330\n",
      "(468, 342, 3)\n",
      "1\n",
      "0\n",
      "(500, 892, 3)\n",
      "1\n",
      "105\n",
      "(500, 892, 3)\n",
      "1\n",
      "211\n",
      "(500, 892, 3)\n",
      "1\n",
      "317\n",
      "(500, 892, 3)\n",
      "1\n",
      "423\n"
     ]
    },
    {
     "name": "stderr",
     "output_type": "stream",
     "text": [
      "ERROR:root:An error occurred while processing faces: Given groups=1, weight of size [32, 3, 3, 3], expected input[1, 15, 160, 160] to have 3 channels, but got 15 channels instead\n",
      "INFO:root:Video length: 321 frames\n"
     ]
    },
    {
     "name": "stdout",
     "output_type": "stream",
     "text": [
      "(500, 892, 3)\n",
      "1\n",
      "0\n",
      "(466, 848, 3)\n",
      "1\n",
      "80\n",
      "(466, 848, 3)\n",
      "1\n",
      "160\n",
      "(466, 848, 3)\n",
      "1\n",
      "240\n",
      "(466, 848, 3)\n",
      "1\n",
      "320\n",
      "(466, 848, 3)\n",
      "1\n"
     ]
    },
    {
     "name": "stderr",
     "output_type": "stream",
     "text": [
      "ERROR:root:An error occurred while processing faces: Given groups=1, weight of size [32, 3, 3, 3], expected input[1, 15, 160, 160] to have 3 channels, but got 15 channels instead\n",
      "INFO:root:Video length: 420 frames\n"
     ]
    },
    {
     "name": "stdout",
     "output_type": "stream",
     "text": [
      "0\n",
      "(500, 944, 3)\n",
      "1\n",
      "104\n",
      "(500, 944, 3)\n",
      "1\n",
      "209\n",
      "(500, 944, 3)\n",
      "1\n",
      "314\n",
      "(500, 944, 3)\n",
      "1\n"
     ]
    },
    {
     "name": "stderr",
     "output_type": "stream",
     "text": [
      "ERROR:root:An error occurred while processing faces: Given groups=1, weight of size [32, 3, 3, 3], expected input[1, 15, 160, 160] to have 3 channels, but got 15 channels instead\n",
      "INFO:root:Video length: 504 frames\n"
     ]
    },
    {
     "name": "stdout",
     "output_type": "stream",
     "text": [
      "419\n",
      "(500, 944, 3)\n",
      "1\n",
      "0\n",
      "(472, 850, 3)\n",
      "1\n",
      "125\n",
      "(472, 850, 3)\n",
      "1\n",
      "251\n",
      "(472, 850, 3)\n",
      "1\n"
     ]
    },
    {
     "name": "stderr",
     "output_type": "stream",
     "text": [
      "ERROR:root:An error occurred while processing faces: Given groups=1, weight of size [32, 3, 3, 3], expected input[1, 15, 160, 160] to have 3 channels, but got 15 channels instead\n",
      "INFO:root:Video length: 483 frames\n"
     ]
    },
    {
     "name": "stdout",
     "output_type": "stream",
     "text": [
      "377\n",
      "(472, 850, 3)\n",
      "1\n",
      "503\n",
      "(472, 850, 3)\n",
      "1\n",
      "0\n",
      "(478, 856, 3)\n",
      "1\n",
      "120\n",
      "(478, 856, 3)\n",
      "1\n"
     ]
    },
    {
     "name": "stderr",
     "output_type": "stream",
     "text": [
      "ERROR:root:An error occurred while processing faces: Given groups=1, weight of size [32, 3, 3, 3], expected input[1, 15, 160, 160] to have 3 channels, but got 15 channels instead\n",
      "INFO:root:Video length: 349 frames\n"
     ]
    },
    {
     "name": "stdout",
     "output_type": "stream",
     "text": [
      "241\n",
      "(478, 856, 3)\n",
      "1\n",
      "361\n",
      "(478, 856, 3)\n",
      "1\n",
      "482\n",
      "(478, 856, 3)\n",
      "1\n",
      "0\n",
      "(472, 850, 3)\n",
      "1\n",
      "87\n",
      "(472, 850, 3)\n",
      "1\n"
     ]
    },
    {
     "name": "stderr",
     "output_type": "stream",
     "text": [
      "ERROR:root:An error occurred while processing faces: Given groups=1, weight of size [32, 3, 3, 3], expected input[1, 15, 160, 160] to have 3 channels, but got 15 channels instead\n",
      "INFO:root:Video length: 317 frames\n"
     ]
    },
    {
     "name": "stdout",
     "output_type": "stream",
     "text": [
      "174\n",
      "(472, 850, 3)\n",
      "1\n",
      "261\n",
      "(472, 850, 3)\n",
      "1\n",
      "348\n",
      "(472, 850, 3)\n",
      "1\n",
      "0\n",
      "(480, 438, 3)\n",
      "1\n",
      "79\n",
      "(480, 438, 3)\n",
      "1\n",
      "158\n",
      "(480, 438, 3)\n",
      "1\n"
     ]
    },
    {
     "name": "stderr",
     "output_type": "stream",
     "text": [
      "ERROR:root:An error occurred while processing faces: Given groups=1, weight of size [32, 3, 3, 3], expected input[1, 15, 160, 160] to have 3 channels, but got 15 channels instead\n",
      "INFO:root:Video length: 295 frames\n"
     ]
    },
    {
     "name": "stdout",
     "output_type": "stream",
     "text": [
      "237\n",
      "(480, 438, 3)\n",
      "1\n",
      "316\n",
      "(480, 438, 3)\n",
      "1\n",
      "0\n",
      "(466, 848, 3)\n",
      "1\n",
      "73\n",
      "(466, 848, 3)\n",
      "1\n"
     ]
    },
    {
     "name": "stderr",
     "output_type": "stream",
     "text": [
      "ERROR:root:An error occurred while processing faces: Given groups=1, weight of size [32, 3, 3, 3], expected input[1, 15, 160, 160] to have 3 channels, but got 15 channels instead\n",
      "INFO:root:Video length: 320 frames\n"
     ]
    },
    {
     "name": "stdout",
     "output_type": "stream",
     "text": [
      "147\n",
      "(466, 848, 3)\n",
      "1\n",
      "220\n",
      "(466, 848, 3)\n",
      "1\n",
      "294\n",
      "(466, 848, 3)\n",
      "1\n",
      "0\n",
      "(472, 848, 3)\n",
      "1\n",
      "79\n",
      "(472, 848, 3)\n",
      "1\n"
     ]
    },
    {
     "name": "stderr",
     "output_type": "stream",
     "text": [
      "ERROR:root:An error occurred while processing faces: Given groups=1, weight of size [32, 3, 3, 3], expected input[1, 15, 160, 160] to have 3 channels, but got 15 channels instead\n",
      "INFO:root:Video length: 328 frames\n"
     ]
    },
    {
     "name": "stdout",
     "output_type": "stream",
     "text": [
      "159\n",
      "(472, 848, 3)\n",
      "1\n",
      "239\n",
      "(472, 848, 3)\n",
      "1\n",
      "319\n",
      "(472, 848, 3)\n",
      "1\n",
      "0\n",
      "(478, 856, 3)\n",
      "1\n",
      "81\n",
      "(478, 856, 3)\n",
      "1\n"
     ]
    },
    {
     "name": "stderr",
     "output_type": "stream",
     "text": [
      "ERROR:root:An error occurred while processing faces: Given groups=1, weight of size [32, 3, 3, 3], expected input[1, 15, 160, 160] to have 3 channels, but got 15 channels instead\n",
      "INFO:root:Video length: 312 frames\n"
     ]
    },
    {
     "name": "stdout",
     "output_type": "stream",
     "text": [
      "163\n",
      "(478, 856, 3)\n",
      "1\n",
      "245\n",
      "(478, 856, 3)\n",
      "1\n",
      "327\n",
      "(478, 856, 3)\n",
      "1\n",
      "0\n",
      "(478, 846, 3)\n",
      "1\n",
      "77\n",
      "(478, 846, 3)\n",
      "1\n"
     ]
    },
    {
     "name": "stderr",
     "output_type": "stream",
     "text": [
      "ERROR:root:An error occurred while processing faces: Given groups=1, weight of size [32, 3, 3, 3], expected input[1, 15, 160, 160] to have 3 channels, but got 15 channels instead\n",
      "INFO:root:Video length: 323 frames\n"
     ]
    },
    {
     "name": "stdout",
     "output_type": "stream",
     "text": [
      "155\n",
      "(478, 846, 3)\n",
      "1\n",
      "233\n",
      "(478, 846, 3)\n",
      "1\n",
      "311\n",
      "(478, 846, 3)\n",
      "1\n",
      "0\n",
      "(470, 836, 3)\n",
      "1\n",
      "80\n",
      "(470, 836, 3)\n",
      "1\n"
     ]
    },
    {
     "name": "stderr",
     "output_type": "stream",
     "text": [
      "ERROR:root:An error occurred while processing faces: Given groups=1, weight of size [32, 3, 3, 3], expected input[1, 15, 160, 160] to have 3 channels, but got 15 channels instead\n",
      "INFO:root:Video length: 305 frames\n"
     ]
    },
    {
     "name": "stdout",
     "output_type": "stream",
     "text": [
      "161\n",
      "(470, 836, 3)\n",
      "1\n",
      "241\n",
      "(470, 836, 3)\n",
      "1\n",
      "322\n",
      "(470, 836, 3)\n",
      "1\n",
      "0\n",
      "(500, 590, 3)\n",
      "1\n"
     ]
    },
    {
     "name": "stderr",
     "output_type": "stream",
     "text": [
      "ERROR:root:An error occurred while processing faces: Given groups=1, weight of size [32, 3, 3, 3], expected input[1, 15, 160, 160] to have 3 channels, but got 15 channels instead\n",
      "INFO:root:Video length: 334 frames\n"
     ]
    },
    {
     "name": "stdout",
     "output_type": "stream",
     "text": [
      "76\n",
      "(500, 590, 3)\n",
      "1\n",
      "152\n",
      "(500, 590, 3)\n",
      "1\n",
      "228\n",
      "(500, 590, 3)\n",
      "1\n",
      "304\n",
      "(500, 590, 3)\n",
      "1\n",
      "0\n",
      "(458, 834, 3)\n",
      "1\n",
      "83\n",
      "(458, 834, 3)\n",
      "1\n"
     ]
    },
    {
     "name": "stderr",
     "output_type": "stream",
     "text": [
      "ERROR:root:An error occurred while processing faces: Given groups=1, weight of size [32, 3, 3, 3], expected input[1, 15, 160, 160] to have 3 channels, but got 15 channels instead\n",
      "INFO:root:Video length: 314 frames\n"
     ]
    },
    {
     "name": "stdout",
     "output_type": "stream",
     "text": [
      "166\n",
      "(458, 834, 3)\n",
      "1\n",
      "249\n",
      "(458, 834, 3)\n",
      "1\n",
      "333\n",
      "(458, 834, 3)\n",
      "1\n",
      "0\n",
      "(500, 944, 3)\n",
      "1\n",
      "78\n",
      "(500, 944, 3)\n",
      "1\n"
     ]
    },
    {
     "name": "stderr",
     "output_type": "stream",
     "text": [
      "ERROR:root:An error occurred while processing faces: Given groups=1, weight of size [32, 3, 3, 3], expected input[1, 15, 160, 160] to have 3 channels, but got 15 channels instead\n",
      "INFO:root:Video length: 492 frames\n"
     ]
    },
    {
     "name": "stdout",
     "output_type": "stream",
     "text": [
      "156\n",
      "(500, 944, 3)\n",
      "1\n",
      "234\n",
      "(500, 944, 3)\n",
      "1\n",
      "313\n",
      "(500, 944, 3)\n",
      "1\n",
      "0\n",
      "(480, 848, 3)\n",
      "1\n",
      "122\n",
      "(480, 848, 3)\n",
      "1\n",
      "245\n",
      "(480, 848, 3)\n",
      "1\n",
      "368\n",
      "(480, 848, 3)\n",
      "1\n",
      "491\n",
      "(480, 848, 3)\n",
      "1\n"
     ]
    },
    {
     "name": "stderr",
     "output_type": "stream",
     "text": [
      "ERROR:root:An error occurred while processing faces: Given groups=1, weight of size [32, 3, 3, 3], expected input[1, 15, 160, 160] to have 3 channels, but got 15 channels instead\n",
      "INFO:root:Video length: 306 frames\n"
     ]
    },
    {
     "name": "stdout",
     "output_type": "stream",
     "text": [
      "0\n",
      "(476, 856, 3)\n",
      "1\n",
      "76\n",
      "(476, 856, 3)\n",
      "1\n",
      "152\n",
      "(476, 856, 3)\n",
      "1\n",
      "228\n",
      "(476, 856, 3)\n",
      "1\n",
      "305\n",
      "(476, 856, 3)\n",
      "1\n"
     ]
    },
    {
     "name": "stderr",
     "output_type": "stream",
     "text": [
      "ERROR:root:An error occurred while processing faces: Given groups=1, weight of size [32, 3, 3, 3], expected input[1, 15, 160, 160] to have 3 channels, but got 15 channels instead\n",
      "INFO:root:Video length: 322 frames\n"
     ]
    },
    {
     "name": "stdout",
     "output_type": "stream",
     "text": [
      "0\n",
      "(472, 848, 3)\n",
      "1\n",
      "80\n",
      "(472, 848, 3)\n",
      "1\n",
      "160\n",
      "(472, 848, 3)\n",
      "1\n",
      "240\n",
      "(472, 848, 3)\n",
      "1\n"
     ]
    },
    {
     "name": "stderr",
     "output_type": "stream",
     "text": [
      "ERROR:root:An error occurred while processing faces: Given groups=1, weight of size [32, 3, 3, 3], expected input[1, 15, 160, 160] to have 3 channels, but got 15 channels instead\n",
      "INFO:root:Video length: 332 frames\n"
     ]
    },
    {
     "name": "stdout",
     "output_type": "stream",
     "text": [
      "321\n",
      "(472, 848, 3)\n",
      "1\n",
      "0\n",
      "(474, 846, 3)\n",
      "1\n",
      "82\n",
      "(474, 846, 3)\n",
      "1\n",
      "165\n",
      "(474, 846, 3)\n",
      "1\n",
      "248\n",
      "(474, 846, 3)\n",
      "1\n"
     ]
    },
    {
     "name": "stderr",
     "output_type": "stream",
     "text": [
      "ERROR:root:An error occurred while processing faces: Given groups=1, weight of size [32, 3, 3, 3], expected input[1, 15, 160, 160] to have 3 channels, but got 15 channels instead\n",
      "INFO:root:Video length: 321 frames\n"
     ]
    },
    {
     "name": "stdout",
     "output_type": "stream",
     "text": [
      "331\n",
      "(474, 846, 3)\n",
      "1\n",
      "0\n",
      "(474, 844, 3)\n",
      "1\n",
      "80\n",
      "(474, 844, 3)\n",
      "1\n",
      "160\n",
      "(474, 844, 3)\n",
      "1\n"
     ]
    },
    {
     "name": "stderr",
     "output_type": "stream",
     "text": [
      "ERROR:root:An error occurred while processing faces: Given groups=1, weight of size [32, 3, 3, 3], expected input[1, 15, 160, 160] to have 3 channels, but got 15 channels instead\n",
      "INFO:root:Video length: 295 frames\n"
     ]
    },
    {
     "name": "stdout",
     "output_type": "stream",
     "text": [
      "240\n",
      "(474, 844, 3)\n",
      "1\n",
      "320\n",
      "(474, 844, 3)\n",
      "1\n",
      "0\n",
      "(456, 540, 3)\n",
      "1\n",
      "73\n",
      "(456, 540, 3)\n",
      "1\n",
      "147\n",
      "(456, 540, 3)\n",
      "1\n",
      "220\n",
      "(456, 540, 3)\n",
      "1\n"
     ]
    },
    {
     "name": "stderr",
     "output_type": "stream",
     "text": [
      "ERROR:root:An error occurred while processing faces: Given groups=1, weight of size [32, 3, 3, 3], expected input[1, 15, 160, 160] to have 3 channels, but got 15 channels instead\n",
      "INFO:root:Video length: 303 frames\n"
     ]
    },
    {
     "name": "stdout",
     "output_type": "stream",
     "text": [
      "294\n",
      "(456, 540, 3)\n",
      "1\n",
      "0\n",
      "(500, 950, 3)\n",
      "1\n",
      "75\n",
      "(500, 950, 3)\n",
      "1\n",
      "151\n",
      "(500, 950, 3)\n",
      "1\n",
      "226\n",
      "(500, 950, 3)\n",
      "1\n"
     ]
    },
    {
     "name": "stderr",
     "output_type": "stream",
     "text": [
      "ERROR:root:An error occurred while processing faces: Given groups=1, weight of size [32, 3, 3, 3], expected input[1, 15, 160, 160] to have 3 channels, but got 15 channels instead\n",
      "INFO:root:Video length: 585 frames\n"
     ]
    },
    {
     "name": "stdout",
     "output_type": "stream",
     "text": [
      "302\n",
      "(500, 950, 3)\n",
      "1\n",
      "0\n",
      "(478, 856, 3)\n",
      "1\n",
      "146\n",
      "(478, 856, 3)\n",
      "1\n",
      "292\n",
      "(478, 856, 3)\n",
      "1\n",
      "438\n",
      "(478, 856, 3)\n",
      "1\n"
     ]
    },
    {
     "name": "stderr",
     "output_type": "stream",
     "text": [
      "ERROR:root:An error occurred while processing faces: Given groups=1, weight of size [32, 3, 3, 3], expected input[1, 15, 160, 160] to have 3 channels, but got 15 channels instead\n",
      "INFO:root:Video length: 302 frames\n"
     ]
    },
    {
     "name": "stdout",
     "output_type": "stream",
     "text": [
      "584\n",
      "(478, 856, 3)\n",
      "1\n",
      "0\n",
      "(500, 944, 3)\n",
      "1\n",
      "75\n",
      "(500, 944, 3)\n",
      "1\n",
      "150\n",
      "(500, 944, 3)\n",
      "1\n"
     ]
    },
    {
     "name": "stderr",
     "output_type": "stream",
     "text": [
      "ERROR:root:An error occurred while processing faces: Given groups=1, weight of size [32, 3, 3, 3], expected input[1, 15, 160, 160] to have 3 channels, but got 15 channels instead\n",
      "INFO:root:Video length: 447 frames\n"
     ]
    },
    {
     "name": "stdout",
     "output_type": "stream",
     "text": [
      "225\n",
      "(500, 944, 3)\n",
      "1\n",
      "301\n",
      "(500, 944, 3)\n",
      "1\n",
      "0\n",
      "(478, 856, 3)\n",
      "1\n",
      "111\n",
      "(478, 856, 3)\n",
      "1\n"
     ]
    },
    {
     "name": "stderr",
     "output_type": "stream",
     "text": [
      "ERROR:root:An error occurred while processing faces: Given groups=1, weight of size [32, 3, 3, 3], expected input[1, 15, 160, 160] to have 3 channels, but got 15 channels instead\n",
      "INFO:root:Video length: 462 frames\n"
     ]
    },
    {
     "name": "stdout",
     "output_type": "stream",
     "text": [
      "223\n",
      "(478, 856, 3)\n",
      "1\n",
      "334\n",
      "(478, 856, 3)\n",
      "1\n",
      "446\n",
      "(478, 856, 3)\n",
      "1\n",
      "0\n",
      "(500, 892, 3)\n",
      "1\n",
      "115\n",
      "(500, 892, 3)\n",
      "1\n"
     ]
    },
    {
     "name": "stderr",
     "output_type": "stream",
     "text": [
      "ERROR:root:An error occurred while processing faces: Given groups=1, weight of size [32, 3, 3, 3], expected input[1, 15, 160, 160] to have 3 channels, but got 15 channels instead\n",
      "INFO:root:Video length: 468 frames\n"
     ]
    },
    {
     "name": "stdout",
     "output_type": "stream",
     "text": [
      "230\n",
      "(500, 892, 3)\n",
      "1\n",
      "345\n",
      "(500, 892, 3)\n",
      "1\n",
      "461\n",
      "(500, 892, 3)\n",
      "1\n",
      "0\n",
      "(500, 888, 3)\n",
      "1\n",
      "116\n",
      "(500, 888, 3)\n",
      "1\n"
     ]
    },
    {
     "name": "stderr",
     "output_type": "stream",
     "text": [
      "ERROR:root:An error occurred while processing faces: Given groups=1, weight of size [32, 3, 3, 3], expected input[1, 15, 160, 160] to have 3 channels, but got 15 channels instead\n"
     ]
    },
    {
     "name": "stdout",
     "output_type": "stream",
     "text": [
      "233\n",
      "(500, 888, 3)\n",
      "1\n",
      "350\n",
      "(500, 888, 3)\n",
      "1\n",
      "467\n",
      "(500, 888, 3)\n",
      "1\n"
     ]
    },
    {
     "name": "stderr",
     "output_type": "stream",
     "text": [
      "INFO:root:Video length: 376 frames\n",
      "ERROR:root:An error occurred while processing faces: Given groups=1, weight of size [32, 3, 3, 3], expected input[1, 15, 160, 160] to have 3 channels, but got 15 channels instead\n"
     ]
    },
    {
     "name": "stdout",
     "output_type": "stream",
     "text": [
      "0\n",
      "(500, 608, 3)\n",
      "1\n",
      "93\n",
      "(500, 608, 3)\n",
      "1\n",
      "187\n",
      "(500, 608, 3)\n",
      "1\n",
      "281\n",
      "(500, 608, 3)\n",
      "1\n",
      "375\n",
      "(500, 608, 3)\n",
      "1\n"
     ]
    },
    {
     "name": "stderr",
     "output_type": "stream",
     "text": [
      "INFO:root:Video length: 454 frames\n"
     ]
    },
    {
     "name": "stdout",
     "output_type": "stream",
     "text": [
      "0\n",
      "(466, 848, 3)\n",
      "1\n",
      "113\n",
      "(466, 848, 3)\n",
      "1\n",
      "226\n",
      "(466, 848, 3)\n",
      "1\n",
      "339\n",
      "(466, 848, 3)\n",
      "1\n",
      "453\n",
      "(466, 848, 3)\n",
      "1\n"
     ]
    },
    {
     "name": "stderr",
     "output_type": "stream",
     "text": [
      "ERROR:root:An error occurred while processing faces: Given groups=1, weight of size [32, 3, 3, 3], expected input[1, 15, 160, 160] to have 3 channels, but got 15 channels instead\n",
      "INFO:root:Video length: 311 frames\n",
      "ERROR:root:An error occurred while processing faces: Given groups=1, weight of size [32, 3, 3, 3], expected input[1, 15, 160, 160] to have 3 channels, but got 15 channels instead\n"
     ]
    },
    {
     "name": "stdout",
     "output_type": "stream",
     "text": [
      "0\n",
      "(500, 590, 3)\n",
      "1\n",
      "77\n",
      "(500, 590, 3)\n",
      "1\n",
      "155\n",
      "(500, 590, 3)\n",
      "1\n",
      "232\n",
      "(500, 590, 3)\n",
      "1\n",
      "310\n",
      "(500, 590, 3)\n",
      "1\n"
     ]
    },
    {
     "name": "stderr",
     "output_type": "stream",
     "text": [
      "INFO:root:Video length: 337 frames\n",
      "ERROR:root:An error occurred while processing faces: Given groups=1, weight of size [32, 3, 3, 3], expected input[1, 15, 160, 160] to have 3 channels, but got 15 channels instead\n"
     ]
    },
    {
     "name": "stdout",
     "output_type": "stream",
     "text": [
      "0\n",
      "(452, 844, 3)\n",
      "1\n",
      "84\n",
      "(452, 844, 3)\n",
      "1\n",
      "168\n",
      "(452, 844, 3)\n",
      "1\n",
      "252\n",
      "(452, 844, 3)\n",
      "1\n",
      "336\n",
      "(452, 844, 3)\n",
      "1\n"
     ]
    },
    {
     "name": "stderr",
     "output_type": "stream",
     "text": [
      "INFO:root:Video length: 324 frames\n",
      "ERROR:root:An error occurred while processing faces: Given groups=1, weight of size [32, 3, 3, 3], expected input[1, 15, 160, 160] to have 3 channels, but got 15 channels instead\n",
      "INFO:root:Video length: 472 frames\n"
     ]
    },
    {
     "name": "stdout",
     "output_type": "stream",
     "text": [
      "0\n",
      "(500, 670, 3)\n",
      "1\n",
      "80\n",
      "(500, 670, 3)\n",
      "1\n",
      "161\n",
      "(500, 670, 3)\n",
      "1\n",
      "242\n",
      "(500, 670, 3)\n",
      "1\n",
      "323\n",
      "(500, 670, 3)\n",
      "1\n",
      "0\n",
      "(466, 848, 3)\n",
      "1\n"
     ]
    },
    {
     "name": "stderr",
     "output_type": "stream",
     "text": [
      "ERROR:root:An error occurred while processing faces: Given groups=1, weight of size [32, 3, 3, 3], expected input[1, 15, 160, 160] to have 3 channels, but got 15 channels instead\n",
      "INFO:root:Video length: 335 frames\n"
     ]
    },
    {
     "name": "stdout",
     "output_type": "stream",
     "text": [
      "117\n",
      "(466, 848, 3)\n",
      "1\n",
      "235\n",
      "(466, 848, 3)\n",
      "1\n",
      "353\n",
      "(466, 848, 3)\n",
      "1\n",
      "471\n",
      "(466, 848, 3)\n",
      "1\n",
      "0\n",
      "(480, 848, 3)\n",
      "1\n"
     ]
    },
    {
     "name": "stderr",
     "output_type": "stream",
     "text": [
      "ERROR:root:An error occurred while processing faces: Given groups=1, weight of size [32, 3, 3, 3], expected input[1, 15, 160, 160] to have 3 channels, but got 15 channels instead\n",
      "INFO:root:Video length: 262 frames\n"
     ]
    },
    {
     "name": "stdout",
     "output_type": "stream",
     "text": [
      "83\n",
      "(480, 848, 3)\n",
      "1\n",
      "167\n",
      "(480, 848, 3)\n",
      "1\n",
      "250\n",
      "(480, 848, 3)\n",
      "1\n",
      "334\n",
      "(480, 848, 3)\n",
      "1\n",
      "0\n",
      "(480, 852, 3)\n",
      "1\n",
      "65\n",
      "(480, 852, 3)\n",
      "1\n",
      "130\n",
      "(480, 852, 3)\n",
      "1\n",
      "195\n",
      "(480, 852, 3)\n",
      "1\n",
      "261\n",
      "(480, 852, 3)\n",
      "1\n"
     ]
    },
    {
     "name": "stderr",
     "output_type": "stream",
     "text": [
      "ERROR:root:An error occurred while processing faces: Given groups=1, weight of size [32, 3, 3, 3], expected input[1, 15, 160, 160] to have 3 channels, but got 15 channels instead\n",
      "INFO:root:Video length: 473 frames\n",
      "ERROR:root:An error occurred while processing faces: Given groups=1, weight of size [32, 3, 3, 3], expected input[1, 15, 160, 160] to have 3 channels, but got 15 channels instead\n"
     ]
    },
    {
     "name": "stdout",
     "output_type": "stream",
     "text": [
      "0\n",
      "(478, 856, 3)\n",
      "1\n",
      "118\n",
      "(478, 856, 3)\n",
      "1\n",
      "236\n",
      "(478, 856, 3)\n",
      "1\n",
      "354\n",
      "(478, 856, 3)\n",
      "1\n",
      "472\n",
      "(478, 856, 3)\n",
      "1\n"
     ]
    },
    {
     "name": "stderr",
     "output_type": "stream",
     "text": [
      "INFO:root:Video length: 316 frames\n"
     ]
    },
    {
     "name": "stdout",
     "output_type": "stream",
     "text": [
      "0\n",
      "(500, 950, 3)\n",
      "1\n",
      "78\n",
      "(500, 950, 3)\n",
      "1\n",
      "157\n",
      "(500, 950, 3)\n",
      "1\n",
      "236\n",
      "(500, 950, 3)\n",
      "1\n",
      "315\n",
      "(500, 950, 3)\n",
      "1\n"
     ]
    },
    {
     "name": "stderr",
     "output_type": "stream",
     "text": [
      "ERROR:root:An error occurred while processing faces: Given groups=1, weight of size [32, 3, 3, 3], expected input[1, 15, 160, 160] to have 3 channels, but got 15 channels instead\n",
      "INFO:root:Video length: 418 frames\n"
     ]
    },
    {
     "name": "stdout",
     "output_type": "stream",
     "text": [
      "0\n",
      "(478, 856, 3)\n",
      "1\n",
      "104\n",
      "(478, 856, 3)\n",
      "1\n",
      "208\n",
      "(478, 856, 3)\n",
      "1\n",
      "312\n",
      "(478, 856, 3)\n",
      "1\n"
     ]
    },
    {
     "name": "stderr",
     "output_type": "stream",
     "text": [
      "ERROR:root:An error occurred while processing faces: Given groups=1, weight of size [32, 3, 3, 3], expected input[1, 15, 160, 160] to have 3 channels, but got 15 channels instead\n",
      "INFO:root:Video length: 323 frames\n"
     ]
    },
    {
     "name": "stdout",
     "output_type": "stream",
     "text": [
      "417\n",
      "(478, 856, 3)\n",
      "1\n",
      "0\n",
      "(500, 944, 3)\n",
      "1\n",
      "80\n",
      "(500, 944, 3)\n",
      "1\n",
      "161\n",
      "(500, 944, 3)\n",
      "1\n",
      "241\n",
      "(500, 944, 3)\n",
      "1\n"
     ]
    },
    {
     "name": "stderr",
     "output_type": "stream",
     "text": [
      "ERROR:root:An error occurred while processing faces: Given groups=1, weight of size [32, 3, 3, 3], expected input[1, 15, 160, 160] to have 3 channels, but got 15 channels instead\n",
      "INFO:root:Video length: 338 frames\n"
     ]
    },
    {
     "name": "stdout",
     "output_type": "stream",
     "text": [
      "322\n",
      "(500, 944, 3)\n",
      "1\n",
      "0\n",
      "(420, 826, 3)\n",
      "1\n",
      "84\n",
      "(420, 826, 3)\n",
      "1\n",
      "168\n",
      "(420, 826, 3)\n",
      "1\n",
      "252\n",
      "(420, 826, 3)\n",
      "1\n"
     ]
    },
    {
     "name": "stderr",
     "output_type": "stream",
     "text": [
      "ERROR:root:An error occurred while processing faces: Given groups=1, weight of size [32, 3, 3, 3], expected input[1, 15, 160, 160] to have 3 channels, but got 15 channels instead\n",
      "INFO:root:Video length: 335 frames\n"
     ]
    },
    {
     "name": "stdout",
     "output_type": "stream",
     "text": [
      "337\n",
      "(420, 826, 3)\n",
      "1\n",
      "0\n",
      "(476, 850, 3)\n",
      "1\n",
      "83\n",
      "(476, 850, 3)\n",
      "1\n",
      "167\n",
      "(476, 850, 3)\n",
      "1\n",
      "250\n",
      "(476, 850, 3)\n",
      "1\n"
     ]
    },
    {
     "name": "stderr",
     "output_type": "stream",
     "text": [
      "ERROR:root:An error occurred while processing faces: Given groups=1, weight of size [32, 3, 3, 3], expected input[1, 15, 160, 160] to have 3 channels, but got 15 channels instead\n",
      "INFO:root:Video length: 447 frames\n"
     ]
    },
    {
     "name": "stdout",
     "output_type": "stream",
     "text": [
      "334\n",
      "(476, 850, 3)\n",
      "1\n",
      "0\n",
      "(478, 856, 3)\n",
      "1\n",
      "111\n",
      "(478, 856, 3)\n",
      "1\n",
      "223\n",
      "(478, 856, 3)\n",
      "1\n"
     ]
    },
    {
     "name": "stderr",
     "output_type": "stream",
     "text": [
      "ERROR:root:An error occurred while processing faces: Given groups=1, weight of size [32, 3, 3, 3], expected input[1, 15, 160, 160] to have 3 channels, but got 15 channels instead\n",
      "INFO:root:Video length: 431 frames\n"
     ]
    },
    {
     "name": "stdout",
     "output_type": "stream",
     "text": [
      "334\n",
      "(478, 856, 3)\n",
      "1\n",
      "446\n",
      "(478, 856, 3)\n",
      "1\n",
      "0\n",
      "(466, 848, 3)\n",
      "1\n",
      "107\n",
      "(466, 848, 3)\n",
      "1\n",
      "215\n",
      "(466, 848, 3)\n",
      "1\n"
     ]
    },
    {
     "name": "stderr",
     "output_type": "stream",
     "text": [
      "ERROR:root:An error occurred while processing faces: Given groups=1, weight of size [32, 3, 3, 3], expected input[1, 15, 160, 160] to have 3 channels, but got 15 channels instead\n",
      "INFO:root:Video length: 318 frames\n"
     ]
    },
    {
     "name": "stdout",
     "output_type": "stream",
     "text": [
      "322\n",
      "(466, 848, 3)\n",
      "1\n",
      "430\n",
      "(466, 848, 3)\n",
      "1\n",
      "0\n",
      "(476, 846, 3)\n",
      "1\n",
      "79\n",
      "(476, 846, 3)\n",
      "1\n",
      "158\n",
      "(476, 846, 3)\n",
      "1\n"
     ]
    },
    {
     "name": "stderr",
     "output_type": "stream",
     "text": [
      "ERROR:root:An error occurred while processing faces: Given groups=1, weight of size [32, 3, 3, 3], expected input[1, 15, 160, 160] to have 3 channels, but got 15 channels instead\n",
      "INFO:root:Video length: 469 frames\n"
     ]
    },
    {
     "name": "stdout",
     "output_type": "stream",
     "text": [
      "237\n",
      "(476, 846, 3)\n",
      "1\n",
      "317\n",
      "(476, 846, 3)\n",
      "1\n",
      "0\n",
      "(500, 944, 3)\n",
      "1\n",
      "117\n",
      "(500, 944, 3)\n",
      "1\n",
      "234\n",
      "(500, 944, 3)\n",
      "1\n"
     ]
    },
    {
     "name": "stderr",
     "output_type": "stream",
     "text": [
      "ERROR:root:An error occurred while processing faces: Given groups=1, weight of size [32, 3, 3, 3], expected input[1, 15, 160, 160] to have 3 channels, but got 15 channels instead\n",
      "INFO:root:Video length: 301 frames\n"
     ]
    },
    {
     "name": "stdout",
     "output_type": "stream",
     "text": [
      "351\n",
      "(500, 944, 3)\n",
      "1\n",
      "468\n",
      "(500, 944, 3)\n",
      "1\n",
      "0\n",
      "(500, 684, 3)\n",
      "1\n",
      "75\n",
      "(500, 684, 3)\n",
      "1\n",
      "150\n",
      "(500, 684, 3)\n",
      "1\n"
     ]
    },
    {
     "name": "stderr",
     "output_type": "stream",
     "text": [
      "ERROR:root:An error occurred while processing faces: Given groups=1, weight of size [32, 3, 3, 3], expected input[1, 15, 160, 160] to have 3 channels, but got 15 channels instead\n",
      "INFO:root:Video length: 234 frames\n"
     ]
    },
    {
     "name": "stdout",
     "output_type": "stream",
     "text": [
      "225\n",
      "(500, 684, 3)\n",
      "1\n",
      "300\n",
      "(500, 684, 3)\n",
      "1\n",
      "0\n",
      "(480, 852, 3)\n",
      "1\n",
      "58\n",
      "(480, 852, 3)\n",
      "1\n",
      "116\n",
      "(480, 852, 3)\n",
      "1\n"
     ]
    },
    {
     "name": "stderr",
     "output_type": "stream",
     "text": [
      "ERROR:root:An error occurred while processing faces: Given groups=1, weight of size [32, 3, 3, 3], expected input[1, 15, 160, 160] to have 3 channels, but got 15 channels instead\n",
      "INFO:root:Video length: 323 frames\n"
     ]
    },
    {
     "name": "stdout",
     "output_type": "stream",
     "text": [
      "174\n",
      "(480, 852, 3)\n",
      "1\n",
      "233\n",
      "(480, 852, 3)\n",
      "1\n",
      "0\n",
      "(500, 944, 3)\n",
      "1\n",
      "80\n",
      "(500, 944, 3)\n",
      "1\n",
      "161\n",
      "(500, 944, 3)\n",
      "1\n"
     ]
    },
    {
     "name": "stderr",
     "output_type": "stream",
     "text": [
      "ERROR:root:An error occurred while processing faces: Given groups=1, weight of size [32, 3, 3, 3], expected input[1, 15, 160, 160] to have 3 channels, but got 15 channels instead\n",
      "INFO:root:Video length: 467 frames\n"
     ]
    },
    {
     "name": "stdout",
     "output_type": "stream",
     "text": [
      "241\n",
      "(500, 944, 3)\n",
      "1\n",
      "322\n",
      "(500, 944, 3)\n",
      "1\n",
      "0\n",
      "(500, 944, 3)\n",
      "1\n",
      "116\n",
      "(500, 944, 3)\n",
      "1\n"
     ]
    },
    {
     "name": "stderr",
     "output_type": "stream",
     "text": [
      "ERROR:root:An error occurred while processing faces: Given groups=1, weight of size [32, 3, 3, 3], expected input[1, 15, 160, 160] to have 3 channels, but got 15 channels instead\n"
     ]
    },
    {
     "name": "stdout",
     "output_type": "stream",
     "text": [
      "233\n",
      "(500, 944, 3)\n",
      "1\n",
      "349\n",
      "(500, 944, 3)\n",
      "1\n",
      "466\n",
      "(500, 944, 3)\n",
      "1\n"
     ]
    },
    {
     "name": "stderr",
     "output_type": "stream",
     "text": [
      "INFO:root:Video length: 463 frames\n"
     ]
    },
    {
     "name": "stdout",
     "output_type": "stream",
     "text": [
      "0\n",
      "(478, 856, 3)\n",
      "1\n",
      "115\n",
      "(478, 856, 3)\n",
      "1\n",
      "231\n",
      "(478, 856, 3)\n",
      "1\n",
      "346\n",
      "(478, 856, 3)\n",
      "1\n",
      "462\n",
      "(478, 856, 3)\n"
     ]
    },
    {
     "name": "stderr",
     "output_type": "stream",
     "text": [
      "ERROR:root:An error occurred while processing faces: Given groups=1, weight of size [32, 3, 3, 3], expected input[1, 15, 160, 160] to have 3 channels, but got 15 channels instead\n",
      "INFO:root:Video length: 477 frames\n"
     ]
    },
    {
     "name": "stdout",
     "output_type": "stream",
     "text": [
      "1\n",
      "0\n",
      "(478, 856, 3)\n",
      "1\n",
      "119\n",
      "(478, 856, 3)\n",
      "1\n",
      "238\n",
      "(478, 856, 3)\n",
      "1\n",
      "357\n",
      "(478, 856, 3)\n",
      "1\n"
     ]
    },
    {
     "name": "stderr",
     "output_type": "stream",
     "text": [
      "ERROR:root:An error occurred while processing faces: Given groups=1, weight of size [32, 3, 3, 3], expected input[1, 15, 160, 160] to have 3 channels, but got 15 channels instead\n",
      "INFO:root:Video length: 326 frames\n"
     ]
    },
    {
     "name": "stdout",
     "output_type": "stream",
     "text": [
      "476\n",
      "(478, 856, 3)\n",
      "1\n",
      "0\n",
      "(500, 944, 3)\n",
      "1\n",
      "81\n",
      "(500, 944, 3)\n",
      "1\n",
      "162\n",
      "(500, 944, 3)\n",
      "1\n",
      "243\n",
      "(500, 944, 3)\n",
      "1\n"
     ]
    },
    {
     "name": "stderr",
     "output_type": "stream",
     "text": [
      "ERROR:root:An error occurred while processing faces: Given groups=1, weight of size [32, 3, 3, 3], expected input[1, 15, 160, 160] to have 3 channels, but got 15 channels instead\n",
      "INFO:root:Video length: 332 frames\n"
     ]
    },
    {
     "name": "stdout",
     "output_type": "stream",
     "text": [
      "325\n",
      "(500, 944, 3)\n",
      "1\n",
      "0\n",
      "(474, 846, 3)\n",
      "1\n",
      "82\n",
      "(474, 846, 3)\n",
      "1\n",
      "165\n",
      "(474, 846, 3)\n",
      "1\n"
     ]
    },
    {
     "name": "stderr",
     "output_type": "stream",
     "text": [
      "ERROR:root:An error occurred while processing faces: Given groups=1, weight of size [32, 3, 3, 3], expected input[1, 15, 160, 160] to have 3 channels, but got 15 channels instead\n",
      "INFO:root:Video length: 310 frames\n"
     ]
    },
    {
     "name": "stdout",
     "output_type": "stream",
     "text": [
      "248\n",
      "(474, 846, 3)\n",
      "1\n",
      "331\n",
      "(474, 846, 3)\n",
      "1\n",
      "0\n",
      "(476, 846, 3)\n",
      "1\n",
      "77\n",
      "(476, 846, 3)\n",
      "1\n"
     ]
    },
    {
     "name": "stderr",
     "output_type": "stream",
     "text": [
      "ERROR:root:An error occurred while processing faces: Given groups=1, weight of size [32, 3, 3, 3], expected input[1, 15, 160, 160] to have 3 channels, but got 15 channels instead\n",
      "INFO:root:Video length: 455 frames\n"
     ]
    },
    {
     "name": "stdout",
     "output_type": "stream",
     "text": [
      "154\n",
      "(476, 846, 3)\n",
      "1\n",
      "231\n",
      "(476, 846, 3)\n",
      "1\n",
      "309\n",
      "(476, 846, 3)\n",
      "1\n",
      "0\n",
      "(478, 856, 3)\n",
      "1\n"
     ]
    },
    {
     "name": "stderr",
     "output_type": "stream",
     "text": [
      "ERROR:root:An error occurred while processing faces: Given groups=1, weight of size [32, 3, 3, 3], expected input[1, 15, 160, 160] to have 3 channels, but got 15 channels instead\n",
      "INFO:root:Video length: 349 frames\n"
     ]
    },
    {
     "name": "stdout",
     "output_type": "stream",
     "text": [
      "113\n",
      "(478, 856, 3)\n",
      "1\n",
      "227\n",
      "(478, 856, 3)\n",
      "1\n",
      "340\n",
      "(478, 856, 3)\n",
      "1\n",
      "454\n",
      "(478, 856, 3)\n",
      "1\n",
      "0\n",
      "(472, 850, 3)\n",
      "1\n",
      "87\n",
      "(472, 850, 3)\n",
      "1\n",
      "174\n",
      "(472, 850, 3)\n",
      "1\n",
      "261\n",
      "(472, 850, 3)\n",
      "1\n"
     ]
    },
    {
     "name": "stderr",
     "output_type": "stream",
     "text": [
      "ERROR:root:An error occurred while processing faces: Given groups=1, weight of size [32, 3, 3, 3], expected input[1, 15, 160, 160] to have 3 channels, but got 15 channels instead\n",
      "INFO:root:Video length: 466 frames\n"
     ]
    },
    {
     "name": "stdout",
     "output_type": "stream",
     "text": [
      "348\n",
      "(472, 850, 3)\n",
      "1\n",
      "0\n",
      "(478, 856, 3)\n",
      "1\n",
      "116\n",
      "(478, 856, 3)\n",
      "1\n",
      "232\n",
      "(478, 856, 3)\n",
      "1\n",
      "348\n",
      "(478, 856, 3)\n",
      "1\n"
     ]
    },
    {
     "name": "stderr",
     "output_type": "stream",
     "text": [
      "ERROR:root:An error occurred while processing faces: Given groups=1, weight of size [32, 3, 3, 3], expected input[1, 15, 160, 160] to have 3 channels, but got 15 channels instead\n",
      "INFO:root:Video length: 337 frames\n"
     ]
    },
    {
     "name": "stdout",
     "output_type": "stream",
     "text": [
      "465\n",
      "(478, 856, 3)\n",
      "1\n",
      "0\n",
      "(452, 844, 3)\n",
      "1\n",
      "84\n",
      "(452, 844, 3)\n",
      "1\n",
      "168\n",
      "(452, 844, 3)\n",
      "1\n",
      "252\n",
      "(452, 844, 3)\n",
      "1\n"
     ]
    },
    {
     "name": "stderr",
     "output_type": "stream",
     "text": [
      "ERROR:root:An error occurred while processing faces: Given groups=1, weight of size [32, 3, 3, 3], expected input[1, 15, 160, 160] to have 3 channels, but got 15 channels instead\n",
      "INFO:root:Video length: 315 frames\n"
     ]
    },
    {
     "name": "stdout",
     "output_type": "stream",
     "text": [
      "336\n",
      "(452, 844, 3)\n",
      "1\n",
      "0\n",
      "(500, 950, 3)\n",
      "1\n",
      "78\n",
      "(500, 950, 3)\n",
      "1\n",
      "157\n",
      "(500, 950, 3)\n",
      "1\n",
      "235\n",
      "(500, 950, 3)\n"
     ]
    },
    {
     "name": "stderr",
     "output_type": "stream",
     "text": [
      "ERROR:root:An error occurred while processing faces: Given groups=1, weight of size [32, 3, 3, 3], expected input[1, 15, 160, 160] to have 3 channels, but got 15 channels instead\n",
      "INFO:root:Video length: 326 frames\n"
     ]
    },
    {
     "name": "stdout",
     "output_type": "stream",
     "text": [
      "1\n",
      "314\n",
      "(500, 950, 3)\n",
      "1\n",
      "0\n",
      "(500, 944, 3)\n",
      "1\n"
     ]
    },
    {
     "name": "stderr",
     "output_type": "stream",
     "text": [
      "ERROR:root:An error occurred while processing faces: Given groups=1, weight of size [32, 3, 3, 3], expected input[1, 15, 160, 160] to have 3 channels, but got 15 channels instead\n"
     ]
    },
    {
     "name": "stdout",
     "output_type": "stream",
     "text": [
      "81\n",
      "(500, 944, 3)\n",
      "1\n",
      "162\n",
      "(500, 944, 3)\n",
      "1\n",
      "243\n",
      "(500, 944, 3)\n",
      "1\n",
      "325\n",
      "(500, 944, 3)\n",
      "1\n"
     ]
    },
    {
     "name": "stderr",
     "output_type": "stream",
     "text": [
      "INFO:root:Video length: 504 frames\n"
     ]
    },
    {
     "name": "stdout",
     "output_type": "stream",
     "text": [
      "0\n",
      "(472, 850, 3)\n",
      "1\n",
      "125\n",
      "(472, 850, 3)\n",
      "1\n",
      "251\n",
      "(472, 850, 3)\n",
      "1\n",
      "377\n",
      "(472, 850, 3)\n",
      "1\n"
     ]
    },
    {
     "name": "stderr",
     "output_type": "stream",
     "text": [
      "ERROR:root:An error occurred while processing faces: Given groups=1, weight of size [32, 3, 3, 3], expected input[1, 15, 160, 160] to have 3 channels, but got 15 channels instead\n",
      "INFO:root:Video length: 469 frames\n"
     ]
    },
    {
     "name": "stdout",
     "output_type": "stream",
     "text": [
      "503\n",
      "(472, 850, 3)\n",
      "1\n",
      "0\n",
      "(478, 856, 3)\n",
      "1\n",
      "117\n",
      "(478, 856, 3)\n",
      "1\n",
      "234\n",
      "(478, 856, 3)\n",
      "1\n"
     ]
    },
    {
     "name": "stderr",
     "output_type": "stream",
     "text": [
      "ERROR:root:An error occurred while processing faces: Given groups=1, weight of size [32, 3, 3, 3], expected input[1, 15, 160, 160] to have 3 channels, but got 15 channels instead\n",
      "INFO:root:Video length: 290 frames\n"
     ]
    },
    {
     "name": "stdout",
     "output_type": "stream",
     "text": [
      "351\n",
      "(478, 856, 3)\n",
      "1\n",
      "468\n",
      "(478, 856, 3)\n",
      "1\n",
      "0\n",
      "(478, 856, 3)\n",
      "1\n",
      "72\n",
      "(478, 856, 3)\n",
      "1\n",
      "144\n"
     ]
    },
    {
     "name": "stderr",
     "output_type": "stream",
     "text": [
      "ERROR:root:An error occurred while processing faces: Given groups=1, weight of size [32, 3, 3, 3], expected input[1, 15, 160, 160] to have 3 channels, but got 15 channels instead\n"
     ]
    },
    {
     "name": "stdout",
     "output_type": "stream",
     "text": [
      "(478, 856, 3)\n",
      "1\n",
      "216\n",
      "(478, 856, 3)\n",
      "1\n",
      "289\n",
      "(478, 856, 3)\n",
      "1\n"
     ]
    },
    {
     "name": "stderr",
     "output_type": "stream",
     "text": [
      "INFO:root:Video length: 319 frames\n"
     ]
    },
    {
     "name": "stdout",
     "output_type": "stream",
     "text": [
      "0\n",
      "(500, 662, 3)\n",
      "1\n",
      "79\n",
      "(500, 662, 3)\n",
      "1\n",
      "159\n",
      "(500, 662, 3)\n",
      "1\n",
      "238\n",
      "(500, 662, 3)\n",
      "1\n",
      "318\n",
      "(500, 662, 3)\n",
      "1\n"
     ]
    },
    {
     "name": "stderr",
     "output_type": "stream",
     "text": [
      "ERROR:root:An error occurred while processing faces: Given groups=1, weight of size [32, 3, 3, 3], expected input[1, 15, 160, 160] to have 3 channels, but got 15 channels instead\n",
      "INFO:root:Video length: 345 frames\n"
     ]
    },
    {
     "name": "stdout",
     "output_type": "stream",
     "text": [
      "0\n",
      "(500, 950, 3)\n",
      "1\n",
      "86\n",
      "(500, 950, 3)\n",
      "1\n",
      "172\n",
      "(500, 950, 3)\n",
      "1\n",
      "258\n",
      "(500, 950, 3)\n",
      "1\n",
      "344\n",
      "(500, 950, 3)\n",
      "1\n"
     ]
    },
    {
     "name": "stderr",
     "output_type": "stream",
     "text": [
      "ERROR:root:An error occurred while processing faces: Given groups=1, weight of size [32, 3, 3, 3], expected input[1, 15, 160, 160] to have 3 channels, but got 15 channels instead\n",
      "INFO:root:Video length: 186 frames\n",
      "ERROR:root:An error occurred while processing faces: Given groups=1, weight of size [32, 3, 3, 3], expected input[1, 15, 160, 160] to have 3 channels, but got 15 channels instead\n"
     ]
    },
    {
     "name": "stdout",
     "output_type": "stream",
     "text": [
      "0\n",
      "(476, 846, 3)\n",
      "1\n",
      "46\n",
      "(476, 846, 3)\n",
      "1\n",
      "92\n",
      "(476, 846, 3)\n",
      "1\n",
      "138\n",
      "(476, 846, 3)\n",
      "1\n",
      "185\n",
      "(476, 846, 3)\n",
      "1\n"
     ]
    },
    {
     "name": "stderr",
     "output_type": "stream",
     "text": [
      "INFO:root:Video length: 333 frames\n"
     ]
    },
    {
     "name": "stdout",
     "output_type": "stream",
     "text": [
      "0\n",
      "(500, 942, 3)\n",
      "1\n",
      "83\n",
      "(500, 942, 3)\n",
      "1\n",
      "166\n",
      "(500, 942, 3)\n",
      "1\n",
      "249\n",
      "(500, 942, 3)\n",
      "1\n",
      "332\n",
      "(500, 942, 3)\n",
      "1\n"
     ]
    },
    {
     "name": "stderr",
     "output_type": "stream",
     "text": [
      "ERROR:root:An error occurred while processing faces: Given groups=1, weight of size [32, 3, 3, 3], expected input[1, 15, 160, 160] to have 3 channels, but got 15 channels instead\n",
      "INFO:root:Video length: 394 frames\n"
     ]
    },
    {
     "name": "stdout",
     "output_type": "stream",
     "text": [
      "0\n",
      "(466, 848, 3)\n",
      "1\n",
      "98\n",
      "(466, 848, 3)\n",
      "1\n",
      "196\n",
      "(466, 848, 3)\n",
      "1\n",
      "294\n",
      "(466, 848, 3)\n",
      "1\n",
      "393\n",
      "(466, 848, 3)\n",
      "1\n"
     ]
    },
    {
     "name": "stderr",
     "output_type": "stream",
     "text": [
      "ERROR:root:An error occurred while processing faces: Given groups=1, weight of size [32, 3, 3, 3], expected input[1, 15, 160, 160] to have 3 channels, but got 15 channels instead\n",
      "INFO:root:Video length: 451 frames\n"
     ]
    },
    {
     "name": "stdout",
     "output_type": "stream",
     "text": [
      "0\n",
      "(472, 850, 3)\n",
      "1\n",
      "112\n",
      "(472, 850, 3)\n",
      "1\n",
      "225\n",
      "(472, 850, 3)\n",
      "1\n",
      "337\n",
      "(472, 850, 3)\n",
      "1\n"
     ]
    },
    {
     "name": "stderr",
     "output_type": "stream",
     "text": [
      "ERROR:root:An error occurred while processing faces: Given groups=1, weight of size [32, 3, 3, 3], expected input[1, 15, 160, 160] to have 3 channels, but got 15 channels instead\n",
      "INFO:root:Video length: 310 frames\n"
     ]
    },
    {
     "name": "stdout",
     "output_type": "stream",
     "text": [
      "450\n",
      "(472, 850, 3)\n",
      "1\n",
      "0\n",
      "(476, 846, 3)\n",
      "1\n",
      "77\n",
      "(476, 846, 3)\n",
      "1\n",
      "154\n",
      "(476, 846, 3)\n",
      "1\n"
     ]
    },
    {
     "name": "stderr",
     "output_type": "stream",
     "text": [
      "ERROR:root:An error occurred while processing faces: Given groups=1, weight of size [32, 3, 3, 3], expected input[1, 15, 160, 160] to have 3 channels, but got 15 channels instead\n",
      "INFO:root:Video length: 394 frames\n"
     ]
    },
    {
     "name": "stdout",
     "output_type": "stream",
     "text": [
      "231\n",
      "(476, 846, 3)\n",
      "1\n",
      "309\n",
      "(476, 846, 3)\n",
      "1\n",
      "0\n",
      "(466, 848, 3)\n",
      "1\n",
      "98\n",
      "(466, 848, 3)\n",
      "1\n",
      "196\n",
      "(466, 848, 3)\n",
      "1\n"
     ]
    },
    {
     "name": "stderr",
     "output_type": "stream",
     "text": [
      "ERROR:root:An error occurred while processing faces: Given groups=1, weight of size [32, 3, 3, 3], expected input[1, 15, 160, 160] to have 3 channels, but got 15 channels instead\n",
      "INFO:root:Video length: 362 frames\n"
     ]
    },
    {
     "name": "stdout",
     "output_type": "stream",
     "text": [
      "294\n",
      "(466, 848, 3)\n",
      "1\n",
      "393\n",
      "(466, 848, 3)\n",
      "1\n",
      "0\n",
      "(478, 856, 3)\n",
      "1\n",
      "90\n",
      "(478, 856, 3)\n",
      "1\n"
     ]
    },
    {
     "name": "stderr",
     "output_type": "stream",
     "text": [
      "ERROR:root:An error occurred while processing faces: Given groups=1, weight of size [32, 3, 3, 3], expected input[1, 15, 160, 160] to have 3 channels, but got 15 channels instead\n",
      "INFO:root:Video length: 497 frames\n"
     ]
    },
    {
     "name": "stdout",
     "output_type": "stream",
     "text": [
      "180\n",
      "(478, 856, 3)\n",
      "1\n",
      "270\n",
      "(478, 856, 3)\n",
      "1\n",
      "361\n",
      "(478, 856, 3)\n",
      "1\n",
      "0\n",
      "(472, 850, 3)\n",
      "1\n",
      "124\n",
      "(472, 850, 3)\n",
      "1\n",
      "248\n",
      "(472, 850, 3)\n",
      "1\n",
      "372\n",
      "(472, 850, 3)\n",
      "1\n",
      "496\n",
      "(472, 850, 3)\n",
      "1\n"
     ]
    },
    {
     "name": "stderr",
     "output_type": "stream",
     "text": [
      "ERROR:root:An error occurred while processing faces: Given groups=1, weight of size [32, 3, 3, 3], expected input[1, 15, 160, 160] to have 3 channels, but got 15 channels instead\n",
      "INFO:root:Video length: 225 frames\n"
     ]
    },
    {
     "name": "stdout",
     "output_type": "stream",
     "text": [
      "0\n",
      "(456, 812, 3)\n",
      "1\n",
      "56\n",
      "(456, 812, 3)\n",
      "1\n",
      "112\n",
      "(456, 812, 3)\n",
      "1\n",
      "168\n",
      "(456, 812, 3)\n",
      "1\n",
      "224\n",
      "(456, 812, 3)\n",
      "1\n"
     ]
    },
    {
     "name": "stderr",
     "output_type": "stream",
     "text": [
      "ERROR:root:An error occurred while processing faces: Given groups=1, weight of size [32, 3, 3, 3], expected input[1, 15, 160, 160] to have 3 channels, but got 15 channels instead\n",
      "INFO:root:Video length: 449 frames\n",
      "ERROR:root:An error occurred while processing faces: Given groups=1, weight of size [32, 3, 3, 3], expected input[1, 15, 160, 160] to have 3 channels, but got 15 channels instead\n"
     ]
    },
    {
     "name": "stdout",
     "output_type": "stream",
     "text": [
      "0\n",
      "(478, 856, 3)\n",
      "1\n",
      "112\n",
      "(478, 856, 3)\n",
      "1\n",
      "224\n",
      "(478, 856, 3)\n",
      "1\n",
      "336\n",
      "(478, 856, 3)\n",
      "1\n",
      "448\n",
      "(478, 856, 3)\n",
      "1\n"
     ]
    },
    {
     "name": "stderr",
     "output_type": "stream",
     "text": [
      "INFO:root:Video length: 259 frames\n"
     ]
    },
    {
     "name": "stdout",
     "output_type": "stream",
     "text": [
      "0\n",
      "(478, 856, 3)\n",
      "1\n",
      "64\n",
      "(478, 856, 3)\n",
      "1\n",
      "129\n",
      "(478, 856, 3)\n",
      "1\n",
      "193\n",
      "(478, 856, 3)\n",
      "1\n"
     ]
    },
    {
     "name": "stderr",
     "output_type": "stream",
     "text": [
      "ERROR:root:An error occurred while processing faces: Given groups=1, weight of size [32, 3, 3, 3], expected input[1, 15, 160, 160] to have 3 channels, but got 15 channels instead\n",
      "INFO:root:Video length: 338 frames\n"
     ]
    },
    {
     "name": "stdout",
     "output_type": "stream",
     "text": [
      "258\n",
      "(478, 856, 3)\n",
      "1\n",
      "0\n",
      "(458, 834, 3)\n",
      "1\n",
      "84\n",
      "(458, 834, 3)\n",
      "1\n",
      "168\n",
      "(458, 834, 3)\n",
      "1\n",
      "252\n",
      "(458, 834, 3)\n"
     ]
    },
    {
     "name": "stderr",
     "output_type": "stream",
     "text": [
      "ERROR:root:An error occurred while processing faces: Given groups=1, weight of size [32, 3, 3, 3], expected input[1, 15, 160, 160] to have 3 channels, but got 15 channels instead\n",
      "INFO:root:Video length: 460 frames\n"
     ]
    },
    {
     "name": "stdout",
     "output_type": "stream",
     "text": [
      "1\n",
      "337\n",
      "(458, 834, 3)\n",
      "1\n",
      "0\n",
      "(478, 856, 3)\n",
      "1\n",
      "114\n",
      "(478, 856, 3)\n",
      "1\n",
      "229\n",
      "(478, 856, 3)\n",
      "1\n"
     ]
    },
    {
     "name": "stderr",
     "output_type": "stream",
     "text": [
      "ERROR:root:An error occurred while processing faces: Given groups=1, weight of size [32, 3, 3, 3], expected input[1, 15, 160, 160] to have 3 channels, but got 15 channels instead\n",
      "INFO:root:Video length: 455 frames\n"
     ]
    },
    {
     "name": "stdout",
     "output_type": "stream",
     "text": [
      "344\n",
      "(478, 856, 3)\n",
      "1\n",
      "459\n",
      "(478, 856, 3)\n",
      "1\n",
      "0\n",
      "(466, 848, 3)\n",
      "1\n",
      "113\n",
      "(466, 848, 3)\n",
      "1\n"
     ]
    },
    {
     "name": "stderr",
     "output_type": "stream",
     "text": [
      "ERROR:root:An error occurred while processing faces: Given groups=1, weight of size [32, 3, 3, 3], expected input[1, 15, 160, 160] to have 3 channels, but got 15 channels instead\n",
      "INFO:root:Video length: 341 frames\n"
     ]
    },
    {
     "name": "stdout",
     "output_type": "stream",
     "text": [
      "227\n",
      "(466, 848, 3)\n",
      "1\n",
      "340\n",
      "(466, 848, 3)\n",
      "1\n",
      "454\n",
      "(466, 848, 3)\n",
      "1\n",
      "0\n",
      "(472, 850, 3)\n",
      "1\n",
      "85\n",
      "(472, 850, 3)\n",
      "1\n",
      "170\n",
      "(472, 850, 3)\n",
      "1\n",
      "255\n",
      "(472, 850, 3)\n",
      "1\n"
     ]
    },
    {
     "ename": "KeyboardInterrupt",
     "evalue": "",
     "output_type": "error",
     "traceback": [
      "\u001b[1;31m---------------------------------------------------------------------------\u001b[0m",
      "\u001b[1;31mKeyboardInterrupt\u001b[0m                         Traceback (most recent call last)",
      "Cell \u001b[1;32mIn[13], line 17\u001b[0m\n\u001b[0;32m     14\u001b[0m video_path \u001b[38;5;241m=\u001b[39m row[\u001b[38;5;124m'\u001b[39m\u001b[38;5;124mpath\u001b[39m\u001b[38;5;124m'\u001b[39m]\n\u001b[0;32m     15\u001b[0m file_name \u001b[38;5;241m=\u001b[39m os\u001b[38;5;241m.\u001b[39mpath\u001b[38;5;241m.\u001b[39mbasename(video_path)\n\u001b[1;32m---> 17\u001b[0m faces \u001b[38;5;241m=\u001b[39m detection_pipeline(video_path)  \u001b[38;5;66;03m# Returns a list of [1, 3, 160, 160] tensors\u001b[39;00m\n\u001b[0;32m     18\u001b[0m   \u001b[38;5;66;03m# Display the grid of faces\u001b[39;00m\n\u001b[0;32m     20\u001b[0m distances \u001b[38;5;241m=\u001b[39m process_faces(faces, feature_extractor)\n",
      "Cell \u001b[1;32mIn[9], line 63\u001b[0m, in \u001b[0;36mDetectionPipeline.__call__\u001b[1;34m(self, filename)\u001b[0m\n\u001b[0;32m     60\u001b[0m         \u001b[38;5;28mprint\u001b[39m(\u001b[38;5;28mlen\u001b[39m(frames))\n\u001b[0;32m     62\u001b[0m         \u001b[38;5;28;01mif\u001b[39;00m \u001b[38;5;28mlen\u001b[39m(frames) \u001b[38;5;241m%\u001b[39m \u001b[38;5;28mself\u001b[39m\u001b[38;5;241m.\u001b[39mbatch_size \u001b[38;5;241m==\u001b[39m \u001b[38;5;241m0\u001b[39m \u001b[38;5;129;01mor\u001b[39;00m j \u001b[38;5;241m==\u001b[39m sample[\u001b[38;5;241m-\u001b[39m\u001b[38;5;241m1\u001b[39m]:\n\u001b[1;32m---> 63\u001b[0m             faces\u001b[38;5;241m.\u001b[39mextend(\u001b[38;5;28mself\u001b[39m\u001b[38;5;241m.\u001b[39mdetector(frames))\n\u001b[0;32m     64\u001b[0m             frames \u001b[38;5;241m=\u001b[39m []\n\u001b[0;32m     66\u001b[0m v_cap\u001b[38;5;241m.\u001b[39mrelease()\n",
      "File \u001b[1;32mc:\\Users\\Sanket\\anaconda3\\Lib\\site-packages\\torch\\nn\\modules\\module.py:1511\u001b[0m, in \u001b[0;36mModule._wrapped_call_impl\u001b[1;34m(self, *args, **kwargs)\u001b[0m\n\u001b[0;32m   1509\u001b[0m     \u001b[38;5;28;01mreturn\u001b[39;00m \u001b[38;5;28mself\u001b[39m\u001b[38;5;241m.\u001b[39m_compiled_call_impl(\u001b[38;5;241m*\u001b[39margs, \u001b[38;5;241m*\u001b[39m\u001b[38;5;241m*\u001b[39mkwargs)  \u001b[38;5;66;03m# type: ignore[misc]\u001b[39;00m\n\u001b[0;32m   1510\u001b[0m \u001b[38;5;28;01melse\u001b[39;00m:\n\u001b[1;32m-> 1511\u001b[0m     \u001b[38;5;28;01mreturn\u001b[39;00m \u001b[38;5;28mself\u001b[39m\u001b[38;5;241m.\u001b[39m_call_impl(\u001b[38;5;241m*\u001b[39margs, \u001b[38;5;241m*\u001b[39m\u001b[38;5;241m*\u001b[39mkwargs)\n",
      "File \u001b[1;32mc:\\Users\\Sanket\\anaconda3\\Lib\\site-packages\\torch\\nn\\modules\\module.py:1520\u001b[0m, in \u001b[0;36mModule._call_impl\u001b[1;34m(self, *args, **kwargs)\u001b[0m\n\u001b[0;32m   1515\u001b[0m \u001b[38;5;66;03m# If we don't have any hooks, we want to skip the rest of the logic in\u001b[39;00m\n\u001b[0;32m   1516\u001b[0m \u001b[38;5;66;03m# this function, and just call forward.\u001b[39;00m\n\u001b[0;32m   1517\u001b[0m \u001b[38;5;28;01mif\u001b[39;00m \u001b[38;5;129;01mnot\u001b[39;00m (\u001b[38;5;28mself\u001b[39m\u001b[38;5;241m.\u001b[39m_backward_hooks \u001b[38;5;129;01mor\u001b[39;00m \u001b[38;5;28mself\u001b[39m\u001b[38;5;241m.\u001b[39m_backward_pre_hooks \u001b[38;5;129;01mor\u001b[39;00m \u001b[38;5;28mself\u001b[39m\u001b[38;5;241m.\u001b[39m_forward_hooks \u001b[38;5;129;01mor\u001b[39;00m \u001b[38;5;28mself\u001b[39m\u001b[38;5;241m.\u001b[39m_forward_pre_hooks\n\u001b[0;32m   1518\u001b[0m         \u001b[38;5;129;01mor\u001b[39;00m _global_backward_pre_hooks \u001b[38;5;129;01mor\u001b[39;00m _global_backward_hooks\n\u001b[0;32m   1519\u001b[0m         \u001b[38;5;129;01mor\u001b[39;00m _global_forward_hooks \u001b[38;5;129;01mor\u001b[39;00m _global_forward_pre_hooks):\n\u001b[1;32m-> 1520\u001b[0m     \u001b[38;5;28;01mreturn\u001b[39;00m forward_call(\u001b[38;5;241m*\u001b[39margs, \u001b[38;5;241m*\u001b[39m\u001b[38;5;241m*\u001b[39mkwargs)\n\u001b[0;32m   1522\u001b[0m \u001b[38;5;28;01mtry\u001b[39;00m:\n\u001b[0;32m   1523\u001b[0m     result \u001b[38;5;241m=\u001b[39m \u001b[38;5;28;01mNone\u001b[39;00m\n",
      "File \u001b[1;32mc:\\Users\\Sanket\\anaconda3\\Lib\\site-packages\\facenet_pytorch\\models\\mtcnn.py:258\u001b[0m, in \u001b[0;36mMTCNN.forward\u001b[1;34m(self, img, save_path, return_prob)\u001b[0m\n\u001b[0;32m    227\u001b[0m \u001b[38;5;250m\u001b[39m\u001b[38;5;124;03m\"\"\"Run MTCNN face detection on a PIL image or numpy array. This method performs both\u001b[39;00m\n\u001b[0;32m    228\u001b[0m \u001b[38;5;124;03mdetection and extraction of faces, returning tensors representing detected faces rather\u001b[39;00m\n\u001b[0;32m    229\u001b[0m \u001b[38;5;124;03mthan the bounding boxes. To access bounding boxes, see the MTCNN.detect() method below.\u001b[39;00m\n\u001b[1;32m   (...)\u001b[0m\n\u001b[0;32m    254\u001b[0m \u001b[38;5;124;03m>>> face_tensor, prob = mtcnn(img, save_path='face.png', return_prob=True)\u001b[39;00m\n\u001b[0;32m    255\u001b[0m \u001b[38;5;124;03m\"\"\"\u001b[39;00m\n\u001b[0;32m    257\u001b[0m \u001b[38;5;66;03m# Detect faces\u001b[39;00m\n\u001b[1;32m--> 258\u001b[0m batch_boxes, batch_probs, batch_points \u001b[38;5;241m=\u001b[39m \u001b[38;5;28mself\u001b[39m\u001b[38;5;241m.\u001b[39mdetect(img, landmarks\u001b[38;5;241m=\u001b[39m\u001b[38;5;28;01mTrue\u001b[39;00m)\n\u001b[0;32m    259\u001b[0m \u001b[38;5;66;03m# Select faces\u001b[39;00m\n\u001b[0;32m    260\u001b[0m \u001b[38;5;28;01mif\u001b[39;00m \u001b[38;5;129;01mnot\u001b[39;00m \u001b[38;5;28mself\u001b[39m\u001b[38;5;241m.\u001b[39mkeep_all:\n",
      "File \u001b[1;32mc:\\Users\\Sanket\\anaconda3\\Lib\\site-packages\\facenet_pytorch\\models\\mtcnn.py:313\u001b[0m, in \u001b[0;36mMTCNN.detect\u001b[1;34m(self, img, landmarks)\u001b[0m\n\u001b[0;32m    273\u001b[0m \u001b[38;5;250m\u001b[39m\u001b[38;5;124;03m\"\"\"Detect all faces in PIL image and return bounding boxes and optional facial landmarks.\u001b[39;00m\n\u001b[0;32m    274\u001b[0m \n\u001b[0;32m    275\u001b[0m \u001b[38;5;124;03mThis method is used by the forward method and is also useful for face detection tasks\u001b[39;00m\n\u001b[1;32m   (...)\u001b[0m\n\u001b[0;32m    309\u001b[0m \u001b[38;5;124;03m>>> img_draw.save('annotated_faces.png')\u001b[39;00m\n\u001b[0;32m    310\u001b[0m \u001b[38;5;124;03m\"\"\"\u001b[39;00m\n\u001b[0;32m    312\u001b[0m \u001b[38;5;28;01mwith\u001b[39;00m torch\u001b[38;5;241m.\u001b[39mno_grad():\n\u001b[1;32m--> 313\u001b[0m     batch_boxes, batch_points \u001b[38;5;241m=\u001b[39m detect_face(\n\u001b[0;32m    314\u001b[0m         img, \u001b[38;5;28mself\u001b[39m\u001b[38;5;241m.\u001b[39mmin_face_size,\n\u001b[0;32m    315\u001b[0m         \u001b[38;5;28mself\u001b[39m\u001b[38;5;241m.\u001b[39mpnet, \u001b[38;5;28mself\u001b[39m\u001b[38;5;241m.\u001b[39mrnet, \u001b[38;5;28mself\u001b[39m\u001b[38;5;241m.\u001b[39monet,\n\u001b[0;32m    316\u001b[0m         \u001b[38;5;28mself\u001b[39m\u001b[38;5;241m.\u001b[39mthresholds, \u001b[38;5;28mself\u001b[39m\u001b[38;5;241m.\u001b[39mfactor,\n\u001b[0;32m    317\u001b[0m         \u001b[38;5;28mself\u001b[39m\u001b[38;5;241m.\u001b[39mdevice\n\u001b[0;32m    318\u001b[0m     )\n\u001b[0;32m    320\u001b[0m boxes, probs, points \u001b[38;5;241m=\u001b[39m [], [], []\n\u001b[0;32m    321\u001b[0m \u001b[38;5;28;01mfor\u001b[39;00m box, point \u001b[38;5;129;01min\u001b[39;00m \u001b[38;5;28mzip\u001b[39m(batch_boxes, batch_points):\n",
      "File \u001b[1;32mc:\\Users\\Sanket\\anaconda3\\Lib\\site-packages\\facenet_pytorch\\models\\utils\\detect_face.py:117\u001b[0m, in \u001b[0;36mdetect_face\u001b[1;34m(imgs, minsize, pnet, rnet, onet, threshold, factor, device)\u001b[0m\n\u001b[0;32m    114\u001b[0m im_data \u001b[38;5;241m=\u001b[39m (im_data \u001b[38;5;241m-\u001b[39m \u001b[38;5;241m127.5\u001b[39m) \u001b[38;5;241m*\u001b[39m \u001b[38;5;241m0.0078125\u001b[39m\n\u001b[0;32m    116\u001b[0m \u001b[38;5;66;03m# This is equivalent to out = rnet(im_data) to avoid GPU out of memory.\u001b[39;00m\n\u001b[1;32m--> 117\u001b[0m out \u001b[38;5;241m=\u001b[39m fixed_batch_process(im_data, rnet)\n\u001b[0;32m    119\u001b[0m out0 \u001b[38;5;241m=\u001b[39m out[\u001b[38;5;241m0\u001b[39m]\u001b[38;5;241m.\u001b[39mpermute(\u001b[38;5;241m1\u001b[39m, \u001b[38;5;241m0\u001b[39m)\n\u001b[0;32m    120\u001b[0m out1 \u001b[38;5;241m=\u001b[39m out[\u001b[38;5;241m1\u001b[39m]\u001b[38;5;241m.\u001b[39mpermute(\u001b[38;5;241m1\u001b[39m, \u001b[38;5;241m0\u001b[39m)\n",
      "File \u001b[1;32mc:\\Users\\Sanket\\anaconda3\\Lib\\site-packages\\facenet_pytorch\\models\\utils\\detect_face.py:21\u001b[0m, in \u001b[0;36mfixed_batch_process\u001b[1;34m(im_data, model)\u001b[0m\n\u001b[0;32m     19\u001b[0m \u001b[38;5;28;01mfor\u001b[39;00m i \u001b[38;5;129;01min\u001b[39;00m \u001b[38;5;28mrange\u001b[39m(\u001b[38;5;241m0\u001b[39m, \u001b[38;5;28mlen\u001b[39m(im_data), batch_size):\n\u001b[0;32m     20\u001b[0m     batch \u001b[38;5;241m=\u001b[39m im_data[i:(i\u001b[38;5;241m+\u001b[39mbatch_size)]\n\u001b[1;32m---> 21\u001b[0m     out\u001b[38;5;241m.\u001b[39mappend(model(batch))\n\u001b[0;32m     23\u001b[0m \u001b[38;5;28;01mreturn\u001b[39;00m \u001b[38;5;28mtuple\u001b[39m(torch\u001b[38;5;241m.\u001b[39mcat(v, dim\u001b[38;5;241m=\u001b[39m\u001b[38;5;241m0\u001b[39m) \u001b[38;5;28;01mfor\u001b[39;00m v \u001b[38;5;129;01min\u001b[39;00m \u001b[38;5;28mzip\u001b[39m(\u001b[38;5;241m*\u001b[39mout))\n",
      "File \u001b[1;32mc:\\Users\\Sanket\\anaconda3\\Lib\\site-packages\\torch\\nn\\modules\\module.py:1511\u001b[0m, in \u001b[0;36mModule._wrapped_call_impl\u001b[1;34m(self, *args, **kwargs)\u001b[0m\n\u001b[0;32m   1509\u001b[0m     \u001b[38;5;28;01mreturn\u001b[39;00m \u001b[38;5;28mself\u001b[39m\u001b[38;5;241m.\u001b[39m_compiled_call_impl(\u001b[38;5;241m*\u001b[39margs, \u001b[38;5;241m*\u001b[39m\u001b[38;5;241m*\u001b[39mkwargs)  \u001b[38;5;66;03m# type: ignore[misc]\u001b[39;00m\n\u001b[0;32m   1510\u001b[0m \u001b[38;5;28;01melse\u001b[39;00m:\n\u001b[1;32m-> 1511\u001b[0m     \u001b[38;5;28;01mreturn\u001b[39;00m \u001b[38;5;28mself\u001b[39m\u001b[38;5;241m.\u001b[39m_call_impl(\u001b[38;5;241m*\u001b[39margs, \u001b[38;5;241m*\u001b[39m\u001b[38;5;241m*\u001b[39mkwargs)\n",
      "File \u001b[1;32mc:\\Users\\Sanket\\anaconda3\\Lib\\site-packages\\torch\\nn\\modules\\module.py:1520\u001b[0m, in \u001b[0;36mModule._call_impl\u001b[1;34m(self, *args, **kwargs)\u001b[0m\n\u001b[0;32m   1515\u001b[0m \u001b[38;5;66;03m# If we don't have any hooks, we want to skip the rest of the logic in\u001b[39;00m\n\u001b[0;32m   1516\u001b[0m \u001b[38;5;66;03m# this function, and just call forward.\u001b[39;00m\n\u001b[0;32m   1517\u001b[0m \u001b[38;5;28;01mif\u001b[39;00m \u001b[38;5;129;01mnot\u001b[39;00m (\u001b[38;5;28mself\u001b[39m\u001b[38;5;241m.\u001b[39m_backward_hooks \u001b[38;5;129;01mor\u001b[39;00m \u001b[38;5;28mself\u001b[39m\u001b[38;5;241m.\u001b[39m_backward_pre_hooks \u001b[38;5;129;01mor\u001b[39;00m \u001b[38;5;28mself\u001b[39m\u001b[38;5;241m.\u001b[39m_forward_hooks \u001b[38;5;129;01mor\u001b[39;00m \u001b[38;5;28mself\u001b[39m\u001b[38;5;241m.\u001b[39m_forward_pre_hooks\n\u001b[0;32m   1518\u001b[0m         \u001b[38;5;129;01mor\u001b[39;00m _global_backward_pre_hooks \u001b[38;5;129;01mor\u001b[39;00m _global_backward_hooks\n\u001b[0;32m   1519\u001b[0m         \u001b[38;5;129;01mor\u001b[39;00m _global_forward_hooks \u001b[38;5;129;01mor\u001b[39;00m _global_forward_pre_hooks):\n\u001b[1;32m-> 1520\u001b[0m     \u001b[38;5;28;01mreturn\u001b[39;00m forward_call(\u001b[38;5;241m*\u001b[39margs, \u001b[38;5;241m*\u001b[39m\u001b[38;5;241m*\u001b[39mkwargs)\n\u001b[0;32m   1522\u001b[0m \u001b[38;5;28;01mtry\u001b[39;00m:\n\u001b[0;32m   1523\u001b[0m     result \u001b[38;5;241m=\u001b[39m \u001b[38;5;28;01mNone\u001b[39;00m\n",
      "File \u001b[1;32mc:\\Users\\Sanket\\anaconda3\\Lib\\site-packages\\facenet_pytorch\\models\\mtcnn.py:90\u001b[0m, in \u001b[0;36mRNet.forward\u001b[1;34m(self, x)\u001b[0m\n\u001b[0;32m     88\u001b[0m x \u001b[38;5;241m=\u001b[39m \u001b[38;5;28mself\u001b[39m\u001b[38;5;241m.\u001b[39mpool2(x)\n\u001b[0;32m     89\u001b[0m x \u001b[38;5;241m=\u001b[39m \u001b[38;5;28mself\u001b[39m\u001b[38;5;241m.\u001b[39mconv3(x)\n\u001b[1;32m---> 90\u001b[0m x \u001b[38;5;241m=\u001b[39m \u001b[38;5;28mself\u001b[39m\u001b[38;5;241m.\u001b[39mprelu3(x)\n\u001b[0;32m     91\u001b[0m x \u001b[38;5;241m=\u001b[39m x\u001b[38;5;241m.\u001b[39mpermute(\u001b[38;5;241m0\u001b[39m, \u001b[38;5;241m3\u001b[39m, \u001b[38;5;241m2\u001b[39m, \u001b[38;5;241m1\u001b[39m)\u001b[38;5;241m.\u001b[39mcontiguous()\n\u001b[0;32m     92\u001b[0m x \u001b[38;5;241m=\u001b[39m \u001b[38;5;28mself\u001b[39m\u001b[38;5;241m.\u001b[39mdense4(x\u001b[38;5;241m.\u001b[39mview(x\u001b[38;5;241m.\u001b[39mshape[\u001b[38;5;241m0\u001b[39m], \u001b[38;5;241m-\u001b[39m\u001b[38;5;241m1\u001b[39m))\n",
      "File \u001b[1;32mc:\\Users\\Sanket\\anaconda3\\Lib\\site-packages\\torch\\nn\\modules\\module.py:1511\u001b[0m, in \u001b[0;36mModule._wrapped_call_impl\u001b[1;34m(self, *args, **kwargs)\u001b[0m\n\u001b[0;32m   1509\u001b[0m     \u001b[38;5;28;01mreturn\u001b[39;00m \u001b[38;5;28mself\u001b[39m\u001b[38;5;241m.\u001b[39m_compiled_call_impl(\u001b[38;5;241m*\u001b[39margs, \u001b[38;5;241m*\u001b[39m\u001b[38;5;241m*\u001b[39mkwargs)  \u001b[38;5;66;03m# type: ignore[misc]\u001b[39;00m\n\u001b[0;32m   1510\u001b[0m \u001b[38;5;28;01melse\u001b[39;00m:\n\u001b[1;32m-> 1511\u001b[0m     \u001b[38;5;28;01mreturn\u001b[39;00m \u001b[38;5;28mself\u001b[39m\u001b[38;5;241m.\u001b[39m_call_impl(\u001b[38;5;241m*\u001b[39margs, \u001b[38;5;241m*\u001b[39m\u001b[38;5;241m*\u001b[39mkwargs)\n",
      "File \u001b[1;32mc:\\Users\\Sanket\\anaconda3\\Lib\\site-packages\\torch\\nn\\modules\\module.py:1520\u001b[0m, in \u001b[0;36mModule._call_impl\u001b[1;34m(self, *args, **kwargs)\u001b[0m\n\u001b[0;32m   1515\u001b[0m \u001b[38;5;66;03m# If we don't have any hooks, we want to skip the rest of the logic in\u001b[39;00m\n\u001b[0;32m   1516\u001b[0m \u001b[38;5;66;03m# this function, and just call forward.\u001b[39;00m\n\u001b[0;32m   1517\u001b[0m \u001b[38;5;28;01mif\u001b[39;00m \u001b[38;5;129;01mnot\u001b[39;00m (\u001b[38;5;28mself\u001b[39m\u001b[38;5;241m.\u001b[39m_backward_hooks \u001b[38;5;129;01mor\u001b[39;00m \u001b[38;5;28mself\u001b[39m\u001b[38;5;241m.\u001b[39m_backward_pre_hooks \u001b[38;5;129;01mor\u001b[39;00m \u001b[38;5;28mself\u001b[39m\u001b[38;5;241m.\u001b[39m_forward_hooks \u001b[38;5;129;01mor\u001b[39;00m \u001b[38;5;28mself\u001b[39m\u001b[38;5;241m.\u001b[39m_forward_pre_hooks\n\u001b[0;32m   1518\u001b[0m         \u001b[38;5;129;01mor\u001b[39;00m _global_backward_pre_hooks \u001b[38;5;129;01mor\u001b[39;00m _global_backward_hooks\n\u001b[0;32m   1519\u001b[0m         \u001b[38;5;129;01mor\u001b[39;00m _global_forward_hooks \u001b[38;5;129;01mor\u001b[39;00m _global_forward_pre_hooks):\n\u001b[1;32m-> 1520\u001b[0m     \u001b[38;5;28;01mreturn\u001b[39;00m forward_call(\u001b[38;5;241m*\u001b[39margs, \u001b[38;5;241m*\u001b[39m\u001b[38;5;241m*\u001b[39mkwargs)\n\u001b[0;32m   1522\u001b[0m \u001b[38;5;28;01mtry\u001b[39;00m:\n\u001b[0;32m   1523\u001b[0m     result \u001b[38;5;241m=\u001b[39m \u001b[38;5;28;01mNone\u001b[39;00m\n",
      "File \u001b[1;32mc:\\Users\\Sanket\\anaconda3\\Lib\\site-packages\\torch\\nn\\modules\\activation.py:1364\u001b[0m, in \u001b[0;36mPReLU.forward\u001b[1;34m(self, input)\u001b[0m\n\u001b[0;32m   1363\u001b[0m \u001b[38;5;28;01mdef\u001b[39;00m \u001b[38;5;21mforward\u001b[39m(\u001b[38;5;28mself\u001b[39m, \u001b[38;5;28minput\u001b[39m: Tensor) \u001b[38;5;241m-\u001b[39m\u001b[38;5;241m>\u001b[39m Tensor:\n\u001b[1;32m-> 1364\u001b[0m     \u001b[38;5;28;01mreturn\u001b[39;00m F\u001b[38;5;241m.\u001b[39mprelu(\u001b[38;5;28minput\u001b[39m, \u001b[38;5;28mself\u001b[39m\u001b[38;5;241m.\u001b[39mweight)\n",
      "\u001b[1;31mKeyboardInterrupt\u001b[0m: "
     ]
    }
   ],
   "source": [
    "import pandas as pd\n",
    "import torch\n",
    "from tqdm.notebook import tqdm\n",
    "\n",
    "\n",
    "# Load the CSV containing full paths and labels\n",
    "train_df = pd.read_csv('full_dataset.csv')\n",
    "\n",
    "# Initialize an empty DataFrame for storing results\n",
    "df = pd.DataFrame(columns=['filename', 'distance', 'label'])\n",
    "with torch.no_grad():\n",
    "    data = []\n",
    "    for idx, row in tqdm(train_df.iterrows(), total=train_df.shape[0]//100):\n",
    "        video_path = row['path']\n",
    "        file_name = os.path.basename(video_path)\n",
    "\n",
    "        faces = detection_pipeline(video_path)  # Returns a list of [1, 3, 160, 160] tensors\n",
    "          # Display the grid of faces\n",
    "\n",
    "        distances = process_faces(faces, feature_extractor)\n",
    "        if distances is not None:\n",
    "            for distance in distances:\n",
    "                data.append({\n",
    "                    'filename': file_name,\n",
    "                    'distance': distance,\n",
    "                    'label': row['label']\n",
    "                })\n",
    "\n",
    "    df = pd.DataFrame(data)\n",
    "    df.to_csv('processed_train.csv', index=False)\n"
   ]
  },
  {
   "cell_type": "code",
   "execution_count": null,
   "metadata": {},
   "outputs": [],
   "source": []
  },
  {
   "cell_type": "code",
   "execution_count": null,
   "metadata": {},
   "outputs": [],
   "source": []
  },
  {
   "cell_type": "code",
   "execution_count": null,
   "metadata": {},
   "outputs": [],
   "source": []
  }
 ],
 "metadata": {
  "kernelspec": {
   "display_name": "base",
   "language": "python",
   "name": "python3"
  },
  "language_info": {
   "codemirror_mode": {
    "name": "ipython",
    "version": 3
   },
   "file_extension": ".py",
   "mimetype": "text/x-python",
   "name": "python",
   "nbconvert_exporter": "python",
   "pygments_lexer": "ipython3",
   "version": "3.11.5"
  }
 },
 "nbformat": 4,
 "nbformat_minor": 2
}
